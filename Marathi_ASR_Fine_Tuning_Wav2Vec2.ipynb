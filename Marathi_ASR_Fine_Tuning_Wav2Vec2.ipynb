{
  "nbformat": 4,
  "nbformat_minor": 0,
  "metadata": {
    "accelerator": "GPU",
    "colab": {
      "name": "Hindi_ASR_Fine_Tuning_Wav2Vec2.ipynb",
      "provenance": [],
      "collapsed_sections": [
        "gstX3sfjkuOm"
      ]
    },
    "kernelspec": {
      "display_name": "Python 3",
      "name": "python3"
    },
    "widgets": {
      "application/vnd.jupyter.widget-state+json": {
        "a374a154a4824bfd94eac06420118ad4": {
          "model_module": "@jupyter-widgets/controls",
          "model_name": "HBoxModel",
          "state": {
            "_view_name": "HBoxView",
            "_dom_classes": [],
            "_model_name": "HBoxModel",
            "_view_module": "@jupyter-widgets/controls",
            "_model_module_version": "1.5.0",
            "_view_count": null,
            "_view_module_version": "1.5.0",
            "box_style": "",
            "layout": "IPY_MODEL_da0d7f79dc284bd9af3958d47645a974",
            "_model_module": "@jupyter-widgets/controls",
            "children": [
              "IPY_MODEL_369c420431134d3a9471b737c6251daa",
              "IPY_MODEL_f3834e89d72e44ecb3ab02dd767179ee"
            ]
          }
        },
        "da0d7f79dc284bd9af3958d47645a974": {
          "model_module": "@jupyter-widgets/base",
          "model_name": "LayoutModel",
          "state": {
            "_view_name": "LayoutView",
            "grid_template_rows": null,
            "right": null,
            "justify_content": null,
            "_view_module": "@jupyter-widgets/base",
            "overflow": null,
            "_model_module_version": "1.2.0",
            "_view_count": null,
            "flex_flow": null,
            "width": null,
            "min_width": null,
            "border": null,
            "align_items": null,
            "bottom": null,
            "_model_module": "@jupyter-widgets/base",
            "top": null,
            "grid_column": null,
            "overflow_y": null,
            "overflow_x": null,
            "grid_auto_flow": null,
            "grid_area": null,
            "grid_template_columns": null,
            "flex": null,
            "_model_name": "LayoutModel",
            "justify_items": null,
            "grid_row": null,
            "max_height": null,
            "align_content": null,
            "visibility": null,
            "align_self": null,
            "height": null,
            "min_height": null,
            "padding": null,
            "grid_auto_rows": null,
            "grid_gap": null,
            "max_width": null,
            "order": null,
            "_view_module_version": "1.2.0",
            "grid_template_areas": null,
            "object_position": null,
            "object_fit": null,
            "grid_auto_columns": null,
            "margin": null,
            "display": null,
            "left": null
          }
        },
        "369c420431134d3a9471b737c6251daa": {
          "model_module": "@jupyter-widgets/controls",
          "model_name": "FloatProgressModel",
          "state": {
            "_view_name": "ProgressView",
            "style": "IPY_MODEL_1fa46406522a4415a38f9aeec333b3ea",
            "_dom_classes": [],
            "description": "100%",
            "_model_name": "FloatProgressModel",
            "bar_style": "success",
            "max": 1,
            "_view_module": "@jupyter-widgets/controls",
            "_model_module_version": "1.5.0",
            "value": 1,
            "_view_count": null,
            "_view_module_version": "1.5.0",
            "orientation": "horizontal",
            "min": 0,
            "description_tooltip": null,
            "_model_module": "@jupyter-widgets/controls",
            "layout": "IPY_MODEL_6444bde2c188412f91ca9088e04e7a53"
          }
        },
        "f3834e89d72e44ecb3ab02dd767179ee": {
          "model_module": "@jupyter-widgets/controls",
          "model_name": "HTMLModel",
          "state": {
            "_view_name": "HTMLView",
            "style": "IPY_MODEL_260ede4467704d8685d7fbc45ece6fad",
            "_dom_classes": [],
            "description": "",
            "_model_name": "HTMLModel",
            "placeholder": "​",
            "_view_module": "@jupyter-widgets/controls",
            "_model_module_version": "1.5.0",
            "value": " 1/1 [00:40&lt;00:00, 40.49s/ba]",
            "_view_count": null,
            "_view_module_version": "1.5.0",
            "description_tooltip": null,
            "_model_module": "@jupyter-widgets/controls",
            "layout": "IPY_MODEL_6c59084b14754be6b2a04d336dcdb447"
          }
        },
        "1fa46406522a4415a38f9aeec333b3ea": {
          "model_module": "@jupyter-widgets/controls",
          "model_name": "ProgressStyleModel",
          "state": {
            "_view_name": "StyleView",
            "_model_name": "ProgressStyleModel",
            "description_width": "initial",
            "_view_module": "@jupyter-widgets/base",
            "_model_module_version": "1.5.0",
            "_view_count": null,
            "_view_module_version": "1.2.0",
            "bar_color": null,
            "_model_module": "@jupyter-widgets/controls"
          }
        },
        "6444bde2c188412f91ca9088e04e7a53": {
          "model_module": "@jupyter-widgets/base",
          "model_name": "LayoutModel",
          "state": {
            "_view_name": "LayoutView",
            "grid_template_rows": null,
            "right": null,
            "justify_content": null,
            "_view_module": "@jupyter-widgets/base",
            "overflow": null,
            "_model_module_version": "1.2.0",
            "_view_count": null,
            "flex_flow": null,
            "width": null,
            "min_width": null,
            "border": null,
            "align_items": null,
            "bottom": null,
            "_model_module": "@jupyter-widgets/base",
            "top": null,
            "grid_column": null,
            "overflow_y": null,
            "overflow_x": null,
            "grid_auto_flow": null,
            "grid_area": null,
            "grid_template_columns": null,
            "flex": null,
            "_model_name": "LayoutModel",
            "justify_items": null,
            "grid_row": null,
            "max_height": null,
            "align_content": null,
            "visibility": null,
            "align_self": null,
            "height": null,
            "min_height": null,
            "padding": null,
            "grid_auto_rows": null,
            "grid_gap": null,
            "max_width": null,
            "order": null,
            "_view_module_version": "1.2.0",
            "grid_template_areas": null,
            "object_position": null,
            "object_fit": null,
            "grid_auto_columns": null,
            "margin": null,
            "display": null,
            "left": null
          }
        },
        "260ede4467704d8685d7fbc45ece6fad": {
          "model_module": "@jupyter-widgets/controls",
          "model_name": "DescriptionStyleModel",
          "state": {
            "_view_name": "StyleView",
            "_model_name": "DescriptionStyleModel",
            "description_width": "",
            "_view_module": "@jupyter-widgets/base",
            "_model_module_version": "1.5.0",
            "_view_count": null,
            "_view_module_version": "1.2.0",
            "_model_module": "@jupyter-widgets/controls"
          }
        },
        "6c59084b14754be6b2a04d336dcdb447": {
          "model_module": "@jupyter-widgets/base",
          "model_name": "LayoutModel",
          "state": {
            "_view_name": "LayoutView",
            "grid_template_rows": null,
            "right": null,
            "justify_content": null,
            "_view_module": "@jupyter-widgets/base",
            "overflow": null,
            "_model_module_version": "1.2.0",
            "_view_count": null,
            "flex_flow": null,
            "width": null,
            "min_width": null,
            "border": null,
            "align_items": null,
            "bottom": null,
            "_model_module": "@jupyter-widgets/base",
            "top": null,
            "grid_column": null,
            "overflow_y": null,
            "overflow_x": null,
            "grid_auto_flow": null,
            "grid_area": null,
            "grid_template_columns": null,
            "flex": null,
            "_model_name": "LayoutModel",
            "justify_items": null,
            "grid_row": null,
            "max_height": null,
            "align_content": null,
            "visibility": null,
            "align_self": null,
            "height": null,
            "min_height": null,
            "padding": null,
            "grid_auto_rows": null,
            "grid_gap": null,
            "max_width": null,
            "order": null,
            "_view_module_version": "1.2.0",
            "grid_template_areas": null,
            "object_position": null,
            "object_fit": null,
            "grid_auto_columns": null,
            "margin": null,
            "display": null,
            "left": null
          }
        },
        "891d699583ec4f61a35f17593c85fede": {
          "model_module": "@jupyter-widgets/controls",
          "model_name": "HBoxModel",
          "state": {
            "_view_name": "HBoxView",
            "_dom_classes": [],
            "_model_name": "HBoxModel",
            "_view_module": "@jupyter-widgets/controls",
            "_model_module_version": "1.5.0",
            "_view_count": null,
            "_view_module_version": "1.5.0",
            "box_style": "",
            "layout": "IPY_MODEL_2f625de8b84e472b861a70a3d12fe9c3",
            "_model_module": "@jupyter-widgets/controls",
            "children": [
              "IPY_MODEL_b0fed5a001024a4badebecaa84d7ab32",
              "IPY_MODEL_bc9fa08446e64f1f9637a5a9ed189338"
            ]
          }
        },
        "2f625de8b84e472b861a70a3d12fe9c3": {
          "model_module": "@jupyter-widgets/base",
          "model_name": "LayoutModel",
          "state": {
            "_view_name": "LayoutView",
            "grid_template_rows": null,
            "right": null,
            "justify_content": null,
            "_view_module": "@jupyter-widgets/base",
            "overflow": null,
            "_model_module_version": "1.2.0",
            "_view_count": null,
            "flex_flow": null,
            "width": null,
            "min_width": null,
            "border": null,
            "align_items": null,
            "bottom": null,
            "_model_module": "@jupyter-widgets/base",
            "top": null,
            "grid_column": null,
            "overflow_y": null,
            "overflow_x": null,
            "grid_auto_flow": null,
            "grid_area": null,
            "grid_template_columns": null,
            "flex": null,
            "_model_name": "LayoutModel",
            "justify_items": null,
            "grid_row": null,
            "max_height": null,
            "align_content": null,
            "visibility": null,
            "align_self": null,
            "height": null,
            "min_height": null,
            "padding": null,
            "grid_auto_rows": null,
            "grid_gap": null,
            "max_width": null,
            "order": null,
            "_view_module_version": "1.2.0",
            "grid_template_areas": null,
            "object_position": null,
            "object_fit": null,
            "grid_auto_columns": null,
            "margin": null,
            "display": null,
            "left": null
          }
        },
        "b0fed5a001024a4badebecaa84d7ab32": {
          "model_module": "@jupyter-widgets/controls",
          "model_name": "FloatProgressModel",
          "state": {
            "_view_name": "ProgressView",
            "style": "IPY_MODEL_300fb552dd274a299efaad067ef1b5b3",
            "_dom_classes": [],
            "description": "100%",
            "_model_name": "FloatProgressModel",
            "bar_style": "success",
            "max": 1,
            "_view_module": "@jupyter-widgets/controls",
            "_model_module_version": "1.5.0",
            "value": 1,
            "_view_count": null,
            "_view_module_version": "1.5.0",
            "orientation": "horizontal",
            "min": 0,
            "description_tooltip": null,
            "_model_module": "@jupyter-widgets/controls",
            "layout": "IPY_MODEL_abbc48bca7e8424abebeeffc38627538"
          }
        },
        "bc9fa08446e64f1f9637a5a9ed189338": {
          "model_module": "@jupyter-widgets/controls",
          "model_name": "HTMLModel",
          "state": {
            "_view_name": "HTMLView",
            "style": "IPY_MODEL_3f51f50c077d434f9192c34c6e002f3b",
            "_dom_classes": [],
            "description": "",
            "_model_name": "HTMLModel",
            "placeholder": "​",
            "_view_module": "@jupyter-widgets/controls",
            "_model_module_version": "1.5.0",
            "value": " 1/1 [00:00&lt;00:00,  2.22ba/s]",
            "_view_count": null,
            "_view_module_version": "1.5.0",
            "description_tooltip": null,
            "_model_module": "@jupyter-widgets/controls",
            "layout": "IPY_MODEL_8dd80902d82d4b7eb16230386b382f88"
          }
        },
        "300fb552dd274a299efaad067ef1b5b3": {
          "model_module": "@jupyter-widgets/controls",
          "model_name": "ProgressStyleModel",
          "state": {
            "_view_name": "StyleView",
            "_model_name": "ProgressStyleModel",
            "description_width": "initial",
            "_view_module": "@jupyter-widgets/base",
            "_model_module_version": "1.5.0",
            "_view_count": null,
            "_view_module_version": "1.2.0",
            "bar_color": null,
            "_model_module": "@jupyter-widgets/controls"
          }
        },
        "abbc48bca7e8424abebeeffc38627538": {
          "model_module": "@jupyter-widgets/base",
          "model_name": "LayoutModel",
          "state": {
            "_view_name": "LayoutView",
            "grid_template_rows": null,
            "right": null,
            "justify_content": null,
            "_view_module": "@jupyter-widgets/base",
            "overflow": null,
            "_model_module_version": "1.2.0",
            "_view_count": null,
            "flex_flow": null,
            "width": null,
            "min_width": null,
            "border": null,
            "align_items": null,
            "bottom": null,
            "_model_module": "@jupyter-widgets/base",
            "top": null,
            "grid_column": null,
            "overflow_y": null,
            "overflow_x": null,
            "grid_auto_flow": null,
            "grid_area": null,
            "grid_template_columns": null,
            "flex": null,
            "_model_name": "LayoutModel",
            "justify_items": null,
            "grid_row": null,
            "max_height": null,
            "align_content": null,
            "visibility": null,
            "align_self": null,
            "height": null,
            "min_height": null,
            "padding": null,
            "grid_auto_rows": null,
            "grid_gap": null,
            "max_width": null,
            "order": null,
            "_view_module_version": "1.2.0",
            "grid_template_areas": null,
            "object_position": null,
            "object_fit": null,
            "grid_auto_columns": null,
            "margin": null,
            "display": null,
            "left": null
          }
        },
        "3f51f50c077d434f9192c34c6e002f3b": {
          "model_module": "@jupyter-widgets/controls",
          "model_name": "DescriptionStyleModel",
          "state": {
            "_view_name": "StyleView",
            "_model_name": "DescriptionStyleModel",
            "description_width": "",
            "_view_module": "@jupyter-widgets/base",
            "_model_module_version": "1.5.0",
            "_view_count": null,
            "_view_module_version": "1.2.0",
            "_model_module": "@jupyter-widgets/controls"
          }
        },
        "8dd80902d82d4b7eb16230386b382f88": {
          "model_module": "@jupyter-widgets/base",
          "model_name": "LayoutModel",
          "state": {
            "_view_name": "LayoutView",
            "grid_template_rows": null,
            "right": null,
            "justify_content": null,
            "_view_module": "@jupyter-widgets/base",
            "overflow": null,
            "_model_module_version": "1.2.0",
            "_view_count": null,
            "flex_flow": null,
            "width": null,
            "min_width": null,
            "border": null,
            "align_items": null,
            "bottom": null,
            "_model_module": "@jupyter-widgets/base",
            "top": null,
            "grid_column": null,
            "overflow_y": null,
            "overflow_x": null,
            "grid_auto_flow": null,
            "grid_area": null,
            "grid_template_columns": null,
            "flex": null,
            "_model_name": "LayoutModel",
            "justify_items": null,
            "grid_row": null,
            "max_height": null,
            "align_content": null,
            "visibility": null,
            "align_self": null,
            "height": null,
            "min_height": null,
            "padding": null,
            "grid_auto_rows": null,
            "grid_gap": null,
            "max_width": null,
            "order": null,
            "_view_module_version": "1.2.0",
            "grid_template_areas": null,
            "object_position": null,
            "object_fit": null,
            "grid_auto_columns": null,
            "margin": null,
            "display": null,
            "left": null
          }
        },
        "7d3f6d5239244564a015c22d1bcad0bd": {
          "model_module": "@jupyter-widgets/controls",
          "model_name": "HBoxModel",
          "state": {
            "_view_name": "HBoxView",
            "_dom_classes": [],
            "_model_name": "HBoxModel",
            "_view_module": "@jupyter-widgets/controls",
            "_model_module_version": "1.5.0",
            "_view_count": null,
            "_view_module_version": "1.5.0",
            "box_style": "",
            "layout": "IPY_MODEL_4e50951213cf4ea0a44d27ae39eab169",
            "_model_module": "@jupyter-widgets/controls",
            "children": [
              "IPY_MODEL_575c84474e054f479ff84d6ebc68a967",
              "IPY_MODEL_ce2c9e52e60b47d6aa7843a595b590bb"
            ]
          }
        },
        "4e50951213cf4ea0a44d27ae39eab169": {
          "model_module": "@jupyter-widgets/base",
          "model_name": "LayoutModel",
          "state": {
            "_view_name": "LayoutView",
            "grid_template_rows": null,
            "right": null,
            "justify_content": null,
            "_view_module": "@jupyter-widgets/base",
            "overflow": null,
            "_model_module_version": "1.2.0",
            "_view_count": null,
            "flex_flow": null,
            "width": null,
            "min_width": null,
            "border": null,
            "align_items": null,
            "bottom": null,
            "_model_module": "@jupyter-widgets/base",
            "top": null,
            "grid_column": null,
            "overflow_y": null,
            "overflow_x": null,
            "grid_auto_flow": null,
            "grid_area": null,
            "grid_template_columns": null,
            "flex": null,
            "_model_name": "LayoutModel",
            "justify_items": null,
            "grid_row": null,
            "max_height": null,
            "align_content": null,
            "visibility": null,
            "align_self": null,
            "height": null,
            "min_height": null,
            "padding": null,
            "grid_auto_rows": null,
            "grid_gap": null,
            "max_width": null,
            "order": null,
            "_view_module_version": "1.2.0",
            "grid_template_areas": null,
            "object_position": null,
            "object_fit": null,
            "grid_auto_columns": null,
            "margin": null,
            "display": null,
            "left": null
          }
        },
        "575c84474e054f479ff84d6ebc68a967": {
          "model_module": "@jupyter-widgets/controls",
          "model_name": "FloatProgressModel",
          "state": {
            "_view_name": "ProgressView",
            "style": "IPY_MODEL_6cf6935733d14effb7c9ec11c6f2b451",
            "_dom_classes": [],
            "description": "100%",
            "_model_name": "FloatProgressModel",
            "bar_style": "success",
            "max": 1558,
            "_view_module": "@jupyter-widgets/controls",
            "_model_module_version": "1.5.0",
            "value": 1558,
            "_view_count": null,
            "_view_module_version": "1.5.0",
            "orientation": "horizontal",
            "min": 0,
            "description_tooltip": null,
            "_model_module": "@jupyter-widgets/controls",
            "layout": "IPY_MODEL_101fc0530fca4afa8ef8d1af5c98313b"
          }
        },
        "ce2c9e52e60b47d6aa7843a595b590bb": {
          "model_module": "@jupyter-widgets/controls",
          "model_name": "HTMLModel",
          "state": {
            "_view_name": "HTMLView",
            "style": "IPY_MODEL_b710bc0804304ae682c66ef3f40bad43",
            "_dom_classes": [],
            "description": "",
            "_model_name": "HTMLModel",
            "placeholder": "​",
            "_view_module": "@jupyter-widgets/controls",
            "_model_module_version": "1.5.0",
            "value": " 1558/1558 [00:33&lt;00:00, 46.92ex/s]",
            "_view_count": null,
            "_view_module_version": "1.5.0",
            "description_tooltip": null,
            "_model_module": "@jupyter-widgets/controls",
            "layout": "IPY_MODEL_d0ae148dbfe0449eb14336eec9622617"
          }
        },
        "6cf6935733d14effb7c9ec11c6f2b451": {
          "model_module": "@jupyter-widgets/controls",
          "model_name": "ProgressStyleModel",
          "state": {
            "_view_name": "StyleView",
            "_model_name": "ProgressStyleModel",
            "description_width": "initial",
            "_view_module": "@jupyter-widgets/base",
            "_model_module_version": "1.5.0",
            "_view_count": null,
            "_view_module_version": "1.2.0",
            "bar_color": null,
            "_model_module": "@jupyter-widgets/controls"
          }
        },
        "101fc0530fca4afa8ef8d1af5c98313b": {
          "model_module": "@jupyter-widgets/base",
          "model_name": "LayoutModel",
          "state": {
            "_view_name": "LayoutView",
            "grid_template_rows": null,
            "right": null,
            "justify_content": null,
            "_view_module": "@jupyter-widgets/base",
            "overflow": null,
            "_model_module_version": "1.2.0",
            "_view_count": null,
            "flex_flow": null,
            "width": null,
            "min_width": null,
            "border": null,
            "align_items": null,
            "bottom": null,
            "_model_module": "@jupyter-widgets/base",
            "top": null,
            "grid_column": null,
            "overflow_y": null,
            "overflow_x": null,
            "grid_auto_flow": null,
            "grid_area": null,
            "grid_template_columns": null,
            "flex": null,
            "_model_name": "LayoutModel",
            "justify_items": null,
            "grid_row": null,
            "max_height": null,
            "align_content": null,
            "visibility": null,
            "align_self": null,
            "height": null,
            "min_height": null,
            "padding": null,
            "grid_auto_rows": null,
            "grid_gap": null,
            "max_width": null,
            "order": null,
            "_view_module_version": "1.2.0",
            "grid_template_areas": null,
            "object_position": null,
            "object_fit": null,
            "grid_auto_columns": null,
            "margin": null,
            "display": null,
            "left": null
          }
        },
        "b710bc0804304ae682c66ef3f40bad43": {
          "model_module": "@jupyter-widgets/controls",
          "model_name": "DescriptionStyleModel",
          "state": {
            "_view_name": "StyleView",
            "_model_name": "DescriptionStyleModel",
            "description_width": "",
            "_view_module": "@jupyter-widgets/base",
            "_model_module_version": "1.5.0",
            "_view_count": null,
            "_view_module_version": "1.2.0",
            "_model_module": "@jupyter-widgets/controls"
          }
        },
        "d0ae148dbfe0449eb14336eec9622617": {
          "model_module": "@jupyter-widgets/base",
          "model_name": "LayoutModel",
          "state": {
            "_view_name": "LayoutView",
            "grid_template_rows": null,
            "right": null,
            "justify_content": null,
            "_view_module": "@jupyter-widgets/base",
            "overflow": null,
            "_model_module_version": "1.2.0",
            "_view_count": null,
            "flex_flow": null,
            "width": null,
            "min_width": null,
            "border": null,
            "align_items": null,
            "bottom": null,
            "_model_module": "@jupyter-widgets/base",
            "top": null,
            "grid_column": null,
            "overflow_y": null,
            "overflow_x": null,
            "grid_auto_flow": null,
            "grid_area": null,
            "grid_template_columns": null,
            "flex": null,
            "_model_name": "LayoutModel",
            "justify_items": null,
            "grid_row": null,
            "max_height": null,
            "align_content": null,
            "visibility": null,
            "align_self": null,
            "height": null,
            "min_height": null,
            "padding": null,
            "grid_auto_rows": null,
            "grid_gap": null,
            "max_width": null,
            "order": null,
            "_view_module_version": "1.2.0",
            "grid_template_areas": null,
            "object_position": null,
            "object_fit": null,
            "grid_auto_columns": null,
            "margin": null,
            "display": null,
            "left": null
          }
        },
        "dabedadc31b24a92bcbe437e257b9baa": {
          "model_module": "@jupyter-widgets/controls",
          "model_name": "HBoxModel",
          "state": {
            "_view_name": "HBoxView",
            "_dom_classes": [],
            "_model_name": "HBoxModel",
            "_view_module": "@jupyter-widgets/controls",
            "_model_module_version": "1.5.0",
            "_view_count": null,
            "_view_module_version": "1.5.0",
            "box_style": "",
            "layout": "IPY_MODEL_2f0b45fa79db4b069b50ab43b0c76101",
            "_model_module": "@jupyter-widgets/controls",
            "children": [
              "IPY_MODEL_73f3ff94ac034e08b09ef84ea78308cb",
              "IPY_MODEL_caac6c4f949d40c2966e6c401051da4e"
            ]
          }
        },
        "2f0b45fa79db4b069b50ab43b0c76101": {
          "model_module": "@jupyter-widgets/base",
          "model_name": "LayoutModel",
          "state": {
            "_view_name": "LayoutView",
            "grid_template_rows": null,
            "right": null,
            "justify_content": null,
            "_view_module": "@jupyter-widgets/base",
            "overflow": null,
            "_model_module_version": "1.2.0",
            "_view_count": null,
            "flex_flow": null,
            "width": null,
            "min_width": null,
            "border": null,
            "align_items": null,
            "bottom": null,
            "_model_module": "@jupyter-widgets/base",
            "top": null,
            "grid_column": null,
            "overflow_y": null,
            "overflow_x": null,
            "grid_auto_flow": null,
            "grid_area": null,
            "grid_template_columns": null,
            "flex": null,
            "_model_name": "LayoutModel",
            "justify_items": null,
            "grid_row": null,
            "max_height": null,
            "align_content": null,
            "visibility": null,
            "align_self": null,
            "height": null,
            "min_height": null,
            "padding": null,
            "grid_auto_rows": null,
            "grid_gap": null,
            "max_width": null,
            "order": null,
            "_view_module_version": "1.2.0",
            "grid_template_areas": null,
            "object_position": null,
            "object_fit": null,
            "grid_auto_columns": null,
            "margin": null,
            "display": null,
            "left": null
          }
        },
        "73f3ff94ac034e08b09ef84ea78308cb": {
          "model_module": "@jupyter-widgets/controls",
          "model_name": "FloatProgressModel",
          "state": {
            "_view_name": "ProgressView",
            "style": "IPY_MODEL_acaac87434924710a79b245bc6e0cd7d",
            "_dom_classes": [],
            "description": "100%",
            "_model_name": "FloatProgressModel",
            "bar_style": "success",
            "max": 4675,
            "_view_module": "@jupyter-widgets/controls",
            "_model_module_version": "1.5.0",
            "value": 4675,
            "_view_count": null,
            "_view_module_version": "1.5.0",
            "orientation": "horizontal",
            "min": 0,
            "description_tooltip": null,
            "_model_module": "@jupyter-widgets/controls",
            "layout": "IPY_MODEL_610af531fb9f4535aa9a0b56a04e129c"
          }
        },
        "caac6c4f949d40c2966e6c401051da4e": {
          "model_module": "@jupyter-widgets/controls",
          "model_name": "HTMLModel",
          "state": {
            "_view_name": "HTMLView",
            "style": "IPY_MODEL_2ebb204decd24dd1939e9796c7de7777",
            "_dom_classes": [],
            "description": "",
            "_model_name": "HTMLModel",
            "placeholder": "​",
            "_view_module": "@jupyter-widgets/controls",
            "_model_module_version": "1.5.0",
            "value": " 4675/4675 [00:21&lt;00:00, 212.99ex/s]",
            "_view_count": null,
            "_view_module_version": "1.5.0",
            "description_tooltip": null,
            "_model_module": "@jupyter-widgets/controls",
            "layout": "IPY_MODEL_cf1952e929914351853166ce90c0e8b7"
          }
        },
        "acaac87434924710a79b245bc6e0cd7d": {
          "model_module": "@jupyter-widgets/controls",
          "model_name": "ProgressStyleModel",
          "state": {
            "_view_name": "StyleView",
            "_model_name": "ProgressStyleModel",
            "description_width": "initial",
            "_view_module": "@jupyter-widgets/base",
            "_model_module_version": "1.5.0",
            "_view_count": null,
            "_view_module_version": "1.2.0",
            "bar_color": null,
            "_model_module": "@jupyter-widgets/controls"
          }
        },
        "610af531fb9f4535aa9a0b56a04e129c": {
          "model_module": "@jupyter-widgets/base",
          "model_name": "LayoutModel",
          "state": {
            "_view_name": "LayoutView",
            "grid_template_rows": null,
            "right": null,
            "justify_content": null,
            "_view_module": "@jupyter-widgets/base",
            "overflow": null,
            "_model_module_version": "1.2.0",
            "_view_count": null,
            "flex_flow": null,
            "width": null,
            "min_width": null,
            "border": null,
            "align_items": null,
            "bottom": null,
            "_model_module": "@jupyter-widgets/base",
            "top": null,
            "grid_column": null,
            "overflow_y": null,
            "overflow_x": null,
            "grid_auto_flow": null,
            "grid_area": null,
            "grid_template_columns": null,
            "flex": null,
            "_model_name": "LayoutModel",
            "justify_items": null,
            "grid_row": null,
            "max_height": null,
            "align_content": null,
            "visibility": null,
            "align_self": null,
            "height": null,
            "min_height": null,
            "padding": null,
            "grid_auto_rows": null,
            "grid_gap": null,
            "max_width": null,
            "order": null,
            "_view_module_version": "1.2.0",
            "grid_template_areas": null,
            "object_position": null,
            "object_fit": null,
            "grid_auto_columns": null,
            "margin": null,
            "display": null,
            "left": null
          }
        },
        "2ebb204decd24dd1939e9796c7de7777": {
          "model_module": "@jupyter-widgets/controls",
          "model_name": "DescriptionStyleModel",
          "state": {
            "_view_name": "StyleView",
            "_model_name": "DescriptionStyleModel",
            "description_width": "",
            "_view_module": "@jupyter-widgets/base",
            "_model_module_version": "1.5.0",
            "_view_count": null,
            "_view_module_version": "1.2.0",
            "_model_module": "@jupyter-widgets/controls"
          }
        },
        "cf1952e929914351853166ce90c0e8b7": {
          "model_module": "@jupyter-widgets/base",
          "model_name": "LayoutModel",
          "state": {
            "_view_name": "LayoutView",
            "grid_template_rows": null,
            "right": null,
            "justify_content": null,
            "_view_module": "@jupyter-widgets/base",
            "overflow": null,
            "_model_module_version": "1.2.0",
            "_view_count": null,
            "flex_flow": null,
            "width": null,
            "min_width": null,
            "border": null,
            "align_items": null,
            "bottom": null,
            "_model_module": "@jupyter-widgets/base",
            "top": null,
            "grid_column": null,
            "overflow_y": null,
            "overflow_x": null,
            "grid_auto_flow": null,
            "grid_area": null,
            "grid_template_columns": null,
            "flex": null,
            "_model_name": "LayoutModel",
            "justify_items": null,
            "grid_row": null,
            "max_height": null,
            "align_content": null,
            "visibility": null,
            "align_self": null,
            "height": null,
            "min_height": null,
            "padding": null,
            "grid_auto_rows": null,
            "grid_gap": null,
            "max_width": null,
            "order": null,
            "_view_module_version": "1.2.0",
            "grid_template_areas": null,
            "object_position": null,
            "object_fit": null,
            "grid_auto_columns": null,
            "margin": null,
            "display": null,
            "left": null
          }
        },
        "3e3770a4c21a4b069a8b4d8ed6487a75": {
          "model_module": "@jupyter-widgets/controls",
          "model_name": "HBoxModel",
          "state": {
            "_view_name": "HBoxView",
            "_dom_classes": [],
            "_model_name": "HBoxModel",
            "_view_module": "@jupyter-widgets/controls",
            "_model_module_version": "1.5.0",
            "_view_count": null,
            "_view_module_version": "1.5.0",
            "box_style": "",
            "layout": "IPY_MODEL_0de0ef138c854d25868e5e0ba78b262b",
            "_model_module": "@jupyter-widgets/controls",
            "children": [
              "IPY_MODEL_15f8327823f84bd1b2767960ee70c363",
              "IPY_MODEL_a8b3dd38d83c4cf484bd206bbae9a351"
            ]
          }
        },
        "0de0ef138c854d25868e5e0ba78b262b": {
          "model_module": "@jupyter-widgets/base",
          "model_name": "LayoutModel",
          "state": {
            "_view_name": "LayoutView",
            "grid_template_rows": null,
            "right": null,
            "justify_content": null,
            "_view_module": "@jupyter-widgets/base",
            "overflow": null,
            "_model_module_version": "1.2.0",
            "_view_count": null,
            "flex_flow": null,
            "width": null,
            "min_width": null,
            "border": null,
            "align_items": null,
            "bottom": null,
            "_model_module": "@jupyter-widgets/base",
            "top": null,
            "grid_column": null,
            "overflow_y": null,
            "overflow_x": null,
            "grid_auto_flow": null,
            "grid_area": null,
            "grid_template_columns": null,
            "flex": null,
            "_model_name": "LayoutModel",
            "justify_items": null,
            "grid_row": null,
            "max_height": null,
            "align_content": null,
            "visibility": null,
            "align_self": null,
            "height": null,
            "min_height": null,
            "padding": null,
            "grid_auto_rows": null,
            "grid_gap": null,
            "max_width": null,
            "order": null,
            "_view_module_version": "1.2.0",
            "grid_template_areas": null,
            "object_position": null,
            "object_fit": null,
            "grid_auto_columns": null,
            "margin": null,
            "display": null,
            "left": null
          }
        },
        "15f8327823f84bd1b2767960ee70c363": {
          "model_module": "@jupyter-widgets/controls",
          "model_name": "FloatProgressModel",
          "state": {
            "_view_name": "ProgressView",
            "style": "IPY_MODEL_0e87f3707a62486c8b6778ea46606b7b",
            "_dom_classes": [],
            "description": "100%",
            "_model_name": "FloatProgressModel",
            "bar_style": "success",
            "max": 1558,
            "_view_module": "@jupyter-widgets/controls",
            "_model_module_version": "1.5.0",
            "value": 1558,
            "_view_count": null,
            "_view_module_version": "1.5.0",
            "orientation": "horizontal",
            "min": 0,
            "description_tooltip": null,
            "_model_module": "@jupyter-widgets/controls",
            "layout": "IPY_MODEL_c8d97492e4d14e6f908d9b5969614e02"
          }
        },
        "a8b3dd38d83c4cf484bd206bbae9a351": {
          "model_module": "@jupyter-widgets/controls",
          "model_name": "HTMLModel",
          "state": {
            "_view_name": "HTMLView",
            "style": "IPY_MODEL_006625a061ea48019ced15740b113c7c",
            "_dom_classes": [],
            "description": "",
            "_model_name": "HTMLModel",
            "placeholder": "​",
            "_view_module": "@jupyter-widgets/controls",
            "_model_module_version": "1.5.0",
            "value": " 1558/1558 [10:15&lt;00:00,  2.53ex/s]",
            "_view_count": null,
            "_view_module_version": "1.5.0",
            "description_tooltip": null,
            "_model_module": "@jupyter-widgets/controls",
            "layout": "IPY_MODEL_fdfd8ad5c2984125b5d4e3cf19d7edf7"
          }
        },
        "0e87f3707a62486c8b6778ea46606b7b": {
          "model_module": "@jupyter-widgets/controls",
          "model_name": "ProgressStyleModel",
          "state": {
            "_view_name": "StyleView",
            "_model_name": "ProgressStyleModel",
            "description_width": "initial",
            "_view_module": "@jupyter-widgets/base",
            "_model_module_version": "1.5.0",
            "_view_count": null,
            "_view_module_version": "1.2.0",
            "bar_color": null,
            "_model_module": "@jupyter-widgets/controls"
          }
        },
        "c8d97492e4d14e6f908d9b5969614e02": {
          "model_module": "@jupyter-widgets/base",
          "model_name": "LayoutModel",
          "state": {
            "_view_name": "LayoutView",
            "grid_template_rows": null,
            "right": null,
            "justify_content": null,
            "_view_module": "@jupyter-widgets/base",
            "overflow": null,
            "_model_module_version": "1.2.0",
            "_view_count": null,
            "flex_flow": null,
            "width": null,
            "min_width": null,
            "border": null,
            "align_items": null,
            "bottom": null,
            "_model_module": "@jupyter-widgets/base",
            "top": null,
            "grid_column": null,
            "overflow_y": null,
            "overflow_x": null,
            "grid_auto_flow": null,
            "grid_area": null,
            "grid_template_columns": null,
            "flex": null,
            "_model_name": "LayoutModel",
            "justify_items": null,
            "grid_row": null,
            "max_height": null,
            "align_content": null,
            "visibility": null,
            "align_self": null,
            "height": null,
            "min_height": null,
            "padding": null,
            "grid_auto_rows": null,
            "grid_gap": null,
            "max_width": null,
            "order": null,
            "_view_module_version": "1.2.0",
            "grid_template_areas": null,
            "object_position": null,
            "object_fit": null,
            "grid_auto_columns": null,
            "margin": null,
            "display": null,
            "left": null
          }
        },
        "006625a061ea48019ced15740b113c7c": {
          "model_module": "@jupyter-widgets/controls",
          "model_name": "DescriptionStyleModel",
          "state": {
            "_view_name": "StyleView",
            "_model_name": "DescriptionStyleModel",
            "description_width": "",
            "_view_module": "@jupyter-widgets/base",
            "_model_module_version": "1.5.0",
            "_view_count": null,
            "_view_module_version": "1.2.0",
            "_model_module": "@jupyter-widgets/controls"
          }
        },
        "fdfd8ad5c2984125b5d4e3cf19d7edf7": {
          "model_module": "@jupyter-widgets/base",
          "model_name": "LayoutModel",
          "state": {
            "_view_name": "LayoutView",
            "grid_template_rows": null,
            "right": null,
            "justify_content": null,
            "_view_module": "@jupyter-widgets/base",
            "overflow": null,
            "_model_module_version": "1.2.0",
            "_view_count": null,
            "flex_flow": null,
            "width": null,
            "min_width": null,
            "border": null,
            "align_items": null,
            "bottom": null,
            "_model_module": "@jupyter-widgets/base",
            "top": null,
            "grid_column": null,
            "overflow_y": null,
            "overflow_x": null,
            "grid_auto_flow": null,
            "grid_area": null,
            "grid_template_columns": null,
            "flex": null,
            "_model_name": "LayoutModel",
            "justify_items": null,
            "grid_row": null,
            "max_height": null,
            "align_content": null,
            "visibility": null,
            "align_self": null,
            "height": null,
            "min_height": null,
            "padding": null,
            "grid_auto_rows": null,
            "grid_gap": null,
            "max_width": null,
            "order": null,
            "_view_module_version": "1.2.0",
            "grid_template_areas": null,
            "object_position": null,
            "object_fit": null,
            "grid_auto_columns": null,
            "margin": null,
            "display": null,
            "left": null
          }
        },
        "9c574a20ca48494087d0d83386582640": {
          "model_module": "@jupyter-widgets/controls",
          "model_name": "HBoxModel",
          "state": {
            "_view_name": "HBoxView",
            "_dom_classes": [],
            "_model_name": "HBoxModel",
            "_view_module": "@jupyter-widgets/controls",
            "_model_module_version": "1.5.0",
            "_view_count": null,
            "_view_module_version": "1.5.0",
            "box_style": "",
            "layout": "IPY_MODEL_30d6b9789a9a4f97908acb5d832b92db",
            "_model_module": "@jupyter-widgets/controls",
            "children": [
              "IPY_MODEL_3d409382ad314446a644d5ab5ffb2b62",
              "IPY_MODEL_cea9e235d3b840dc968f354b61d2ea00"
            ]
          }
        },
        "30d6b9789a9a4f97908acb5d832b92db": {
          "model_module": "@jupyter-widgets/base",
          "model_name": "LayoutModel",
          "state": {
            "_view_name": "LayoutView",
            "grid_template_rows": null,
            "right": null,
            "justify_content": null,
            "_view_module": "@jupyter-widgets/base",
            "overflow": null,
            "_model_module_version": "1.2.0",
            "_view_count": null,
            "flex_flow": null,
            "width": null,
            "min_width": null,
            "border": null,
            "align_items": null,
            "bottom": null,
            "_model_module": "@jupyter-widgets/base",
            "top": null,
            "grid_column": null,
            "overflow_y": null,
            "overflow_x": null,
            "grid_auto_flow": null,
            "grid_area": null,
            "grid_template_columns": null,
            "flex": null,
            "_model_name": "LayoutModel",
            "justify_items": null,
            "grid_row": null,
            "max_height": null,
            "align_content": null,
            "visibility": null,
            "align_self": null,
            "height": null,
            "min_height": null,
            "padding": null,
            "grid_auto_rows": null,
            "grid_gap": null,
            "max_width": null,
            "order": null,
            "_view_module_version": "1.2.0",
            "grid_template_areas": null,
            "object_position": null,
            "object_fit": null,
            "grid_auto_columns": null,
            "margin": null,
            "display": null,
            "left": null
          }
        },
        "3d409382ad314446a644d5ab5ffb2b62": {
          "model_module": "@jupyter-widgets/controls",
          "model_name": "FloatProgressModel",
          "state": {
            "_view_name": "ProgressView",
            "style": "IPY_MODEL_19dec7b98b5647989dc2d8bac0a84ada",
            "_dom_classes": [],
            "description": "100%",
            "_model_name": "FloatProgressModel",
            "bar_style": "success",
            "max": 4675,
            "_view_module": "@jupyter-widgets/controls",
            "_model_module_version": "1.5.0",
            "value": 4675,
            "_view_count": null,
            "_view_module_version": "1.5.0",
            "orientation": "horizontal",
            "min": 0,
            "description_tooltip": null,
            "_model_module": "@jupyter-widgets/controls",
            "layout": "IPY_MODEL_c658093d648a4aa8bb8aaa60d3c8381f"
          }
        },
        "cea9e235d3b840dc968f354b61d2ea00": {
          "model_module": "@jupyter-widgets/controls",
          "model_name": "HTMLModel",
          "state": {
            "_view_name": "HTMLView",
            "style": "IPY_MODEL_cd06c69f57eb4a1693fb744a918463c7",
            "_dom_classes": [],
            "description": "",
            "_model_name": "HTMLModel",
            "placeholder": "​",
            "_view_module": "@jupyter-widgets/controls",
            "_model_module_version": "1.5.0",
            "value": " 4675/4675 [08:37&lt;00:00,  9.03ex/s]",
            "_view_count": null,
            "_view_module_version": "1.5.0",
            "description_tooltip": null,
            "_model_module": "@jupyter-widgets/controls",
            "layout": "IPY_MODEL_5412ad13992a48a690432602cce06d58"
          }
        },
        "19dec7b98b5647989dc2d8bac0a84ada": {
          "model_module": "@jupyter-widgets/controls",
          "model_name": "ProgressStyleModel",
          "state": {
            "_view_name": "StyleView",
            "_model_name": "ProgressStyleModel",
            "description_width": "initial",
            "_view_module": "@jupyter-widgets/base",
            "_model_module_version": "1.5.0",
            "_view_count": null,
            "_view_module_version": "1.2.0",
            "bar_color": null,
            "_model_module": "@jupyter-widgets/controls"
          }
        },
        "c658093d648a4aa8bb8aaa60d3c8381f": {
          "model_module": "@jupyter-widgets/base",
          "model_name": "LayoutModel",
          "state": {
            "_view_name": "LayoutView",
            "grid_template_rows": null,
            "right": null,
            "justify_content": null,
            "_view_module": "@jupyter-widgets/base",
            "overflow": null,
            "_model_module_version": "1.2.0",
            "_view_count": null,
            "flex_flow": null,
            "width": null,
            "min_width": null,
            "border": null,
            "align_items": null,
            "bottom": null,
            "_model_module": "@jupyter-widgets/base",
            "top": null,
            "grid_column": null,
            "overflow_y": null,
            "overflow_x": null,
            "grid_auto_flow": null,
            "grid_area": null,
            "grid_template_columns": null,
            "flex": null,
            "_model_name": "LayoutModel",
            "justify_items": null,
            "grid_row": null,
            "max_height": null,
            "align_content": null,
            "visibility": null,
            "align_self": null,
            "height": null,
            "min_height": null,
            "padding": null,
            "grid_auto_rows": null,
            "grid_gap": null,
            "max_width": null,
            "order": null,
            "_view_module_version": "1.2.0",
            "grid_template_areas": null,
            "object_position": null,
            "object_fit": null,
            "grid_auto_columns": null,
            "margin": null,
            "display": null,
            "left": null
          }
        },
        "cd06c69f57eb4a1693fb744a918463c7": {
          "model_module": "@jupyter-widgets/controls",
          "model_name": "DescriptionStyleModel",
          "state": {
            "_view_name": "StyleView",
            "_model_name": "DescriptionStyleModel",
            "description_width": "",
            "_view_module": "@jupyter-widgets/base",
            "_model_module_version": "1.5.0",
            "_view_count": null,
            "_view_module_version": "1.2.0",
            "_model_module": "@jupyter-widgets/controls"
          }
        },
        "5412ad13992a48a690432602cce06d58": {
          "model_module": "@jupyter-widgets/base",
          "model_name": "LayoutModel",
          "state": {
            "_view_name": "LayoutView",
            "grid_template_rows": null,
            "right": null,
            "justify_content": null,
            "_view_module": "@jupyter-widgets/base",
            "overflow": null,
            "_model_module_version": "1.2.0",
            "_view_count": null,
            "flex_flow": null,
            "width": null,
            "min_width": null,
            "border": null,
            "align_items": null,
            "bottom": null,
            "_model_module": "@jupyter-widgets/base",
            "top": null,
            "grid_column": null,
            "overflow_y": null,
            "overflow_x": null,
            "grid_auto_flow": null,
            "grid_area": null,
            "grid_template_columns": null,
            "flex": null,
            "_model_name": "LayoutModel",
            "justify_items": null,
            "grid_row": null,
            "max_height": null,
            "align_content": null,
            "visibility": null,
            "align_self": null,
            "height": null,
            "min_height": null,
            "padding": null,
            "grid_auto_rows": null,
            "grid_gap": null,
            "max_width": null,
            "order": null,
            "_view_module_version": "1.2.0",
            "grid_template_areas": null,
            "object_position": null,
            "object_fit": null,
            "grid_auto_columns": null,
            "margin": null,
            "display": null,
            "left": null
          }
        },
        "2c4d5ab3946342c99b1660633d037e4a": {
          "model_module": "@jupyter-widgets/controls",
          "model_name": "HBoxModel",
          "state": {
            "_view_name": "HBoxView",
            "_dom_classes": [],
            "_model_name": "HBoxModel",
            "_view_module": "@jupyter-widgets/controls",
            "_model_module_version": "1.5.0",
            "_view_count": null,
            "_view_module_version": "1.5.0",
            "box_style": "",
            "layout": "IPY_MODEL_c37fa7a257794c6ea7fc686adec5434d",
            "_model_module": "@jupyter-widgets/controls",
            "children": [
              "IPY_MODEL_f768312254444649a4bad687ab2436a2",
              "IPY_MODEL_5ac6a74dc9e64b1f8a238a0ac8898e0b"
            ]
          }
        },
        "c37fa7a257794c6ea7fc686adec5434d": {
          "model_module": "@jupyter-widgets/base",
          "model_name": "LayoutModel",
          "state": {
            "_view_name": "LayoutView",
            "grid_template_rows": null,
            "right": null,
            "justify_content": null,
            "_view_module": "@jupyter-widgets/base",
            "overflow": null,
            "_model_module_version": "1.2.0",
            "_view_count": null,
            "flex_flow": null,
            "width": null,
            "min_width": null,
            "border": null,
            "align_items": null,
            "bottom": null,
            "_model_module": "@jupyter-widgets/base",
            "top": null,
            "grid_column": null,
            "overflow_y": null,
            "overflow_x": null,
            "grid_auto_flow": null,
            "grid_area": null,
            "grid_template_columns": null,
            "flex": null,
            "_model_name": "LayoutModel",
            "justify_items": null,
            "grid_row": null,
            "max_height": null,
            "align_content": null,
            "visibility": null,
            "align_self": null,
            "height": null,
            "min_height": null,
            "padding": null,
            "grid_auto_rows": null,
            "grid_gap": null,
            "max_width": null,
            "order": null,
            "_view_module_version": "1.2.0",
            "grid_template_areas": null,
            "object_position": null,
            "object_fit": null,
            "grid_auto_columns": null,
            "margin": null,
            "display": null,
            "left": null
          }
        },
        "f768312254444649a4bad687ab2436a2": {
          "model_module": "@jupyter-widgets/controls",
          "model_name": "FloatProgressModel",
          "state": {
            "_view_name": "ProgressView",
            "style": "IPY_MODEL_7b45d65a5f9e417287349deba035dd5b",
            "_dom_classes": [],
            "description": "100%",
            "_model_name": "FloatProgressModel",
            "bar_style": "success",
            "max": 195,
            "_view_module": "@jupyter-widgets/controls",
            "_model_module_version": "1.5.0",
            "value": 195,
            "_view_count": null,
            "_view_module_version": "1.5.0",
            "orientation": "horizontal",
            "min": 0,
            "description_tooltip": null,
            "_model_module": "@jupyter-widgets/controls",
            "layout": "IPY_MODEL_a525ad4de1994076aa6c843a8e907236"
          }
        },
        "5ac6a74dc9e64b1f8a238a0ac8898e0b": {
          "model_module": "@jupyter-widgets/controls",
          "model_name": "HTMLModel",
          "state": {
            "_view_name": "HTMLView",
            "style": "IPY_MODEL_7f689a6e06014d8ca5dda1b3be8e4860",
            "_dom_classes": [],
            "description": "",
            "_model_name": "HTMLModel",
            "placeholder": "​",
            "_view_module": "@jupyter-widgets/controls",
            "_model_module_version": "1.5.0",
            "value": " 195/195 [03:30&lt;00:00,  1.08s/ba]",
            "_view_count": null,
            "_view_module_version": "1.5.0",
            "description_tooltip": null,
            "_model_module": "@jupyter-widgets/controls",
            "layout": "IPY_MODEL_bc33191711f64ccda8c3b17daa3c5c5b"
          }
        },
        "7b45d65a5f9e417287349deba035dd5b": {
          "model_module": "@jupyter-widgets/controls",
          "model_name": "ProgressStyleModel",
          "state": {
            "_view_name": "StyleView",
            "_model_name": "ProgressStyleModel",
            "description_width": "initial",
            "_view_module": "@jupyter-widgets/base",
            "_model_module_version": "1.5.0",
            "_view_count": null,
            "_view_module_version": "1.2.0",
            "bar_color": null,
            "_model_module": "@jupyter-widgets/controls"
          }
        },
        "a525ad4de1994076aa6c843a8e907236": {
          "model_module": "@jupyter-widgets/base",
          "model_name": "LayoutModel",
          "state": {
            "_view_name": "LayoutView",
            "grid_template_rows": null,
            "right": null,
            "justify_content": null,
            "_view_module": "@jupyter-widgets/base",
            "overflow": null,
            "_model_module_version": "1.2.0",
            "_view_count": null,
            "flex_flow": null,
            "width": null,
            "min_width": null,
            "border": null,
            "align_items": null,
            "bottom": null,
            "_model_module": "@jupyter-widgets/base",
            "top": null,
            "grid_column": null,
            "overflow_y": null,
            "overflow_x": null,
            "grid_auto_flow": null,
            "grid_area": null,
            "grid_template_columns": null,
            "flex": null,
            "_model_name": "LayoutModel",
            "justify_items": null,
            "grid_row": null,
            "max_height": null,
            "align_content": null,
            "visibility": null,
            "align_self": null,
            "height": null,
            "min_height": null,
            "padding": null,
            "grid_auto_rows": null,
            "grid_gap": null,
            "max_width": null,
            "order": null,
            "_view_module_version": "1.2.0",
            "grid_template_areas": null,
            "object_position": null,
            "object_fit": null,
            "grid_auto_columns": null,
            "margin": null,
            "display": null,
            "left": null
          }
        },
        "7f689a6e06014d8ca5dda1b3be8e4860": {
          "model_module": "@jupyter-widgets/controls",
          "model_name": "DescriptionStyleModel",
          "state": {
            "_view_name": "StyleView",
            "_model_name": "DescriptionStyleModel",
            "description_width": "",
            "_view_module": "@jupyter-widgets/base",
            "_model_module_version": "1.5.0",
            "_view_count": null,
            "_view_module_version": "1.2.0",
            "_model_module": "@jupyter-widgets/controls"
          }
        },
        "bc33191711f64ccda8c3b17daa3c5c5b": {
          "model_module": "@jupyter-widgets/base",
          "model_name": "LayoutModel",
          "state": {
            "_view_name": "LayoutView",
            "grid_template_rows": null,
            "right": null,
            "justify_content": null,
            "_view_module": "@jupyter-widgets/base",
            "overflow": null,
            "_model_module_version": "1.2.0",
            "_view_count": null,
            "flex_flow": null,
            "width": null,
            "min_width": null,
            "border": null,
            "align_items": null,
            "bottom": null,
            "_model_module": "@jupyter-widgets/base",
            "top": null,
            "grid_column": null,
            "overflow_y": null,
            "overflow_x": null,
            "grid_auto_flow": null,
            "grid_area": null,
            "grid_template_columns": null,
            "flex": null,
            "_model_name": "LayoutModel",
            "justify_items": null,
            "grid_row": null,
            "max_height": null,
            "align_content": null,
            "visibility": null,
            "align_self": null,
            "height": null,
            "min_height": null,
            "padding": null,
            "grid_auto_rows": null,
            "grid_gap": null,
            "max_width": null,
            "order": null,
            "_view_module_version": "1.2.0",
            "grid_template_areas": null,
            "object_position": null,
            "object_fit": null,
            "grid_auto_columns": null,
            "margin": null,
            "display": null,
            "left": null
          }
        },
        "eff65e803ace48ca9aacc936e8460852": {
          "model_module": "@jupyter-widgets/controls",
          "model_name": "HBoxModel",
          "state": {
            "_view_name": "HBoxView",
            "_dom_classes": [],
            "_model_name": "HBoxModel",
            "_view_module": "@jupyter-widgets/controls",
            "_model_module_version": "1.5.0",
            "_view_count": null,
            "_view_module_version": "1.5.0",
            "box_style": "",
            "layout": "IPY_MODEL_73a6105183f54ee7830e2def01a5d846",
            "_model_module": "@jupyter-widgets/controls",
            "children": [
              "IPY_MODEL_952b306651a34c3bb3062d1c3f6a3a15",
              "IPY_MODEL_e20ab87f494e4c45af5eef1f93cf497d"
            ]
          }
        },
        "73a6105183f54ee7830e2def01a5d846": {
          "model_module": "@jupyter-widgets/base",
          "model_name": "LayoutModel",
          "state": {
            "_view_name": "LayoutView",
            "grid_template_rows": null,
            "right": null,
            "justify_content": null,
            "_view_module": "@jupyter-widgets/base",
            "overflow": null,
            "_model_module_version": "1.2.0",
            "_view_count": null,
            "flex_flow": null,
            "width": null,
            "min_width": null,
            "border": null,
            "align_items": null,
            "bottom": null,
            "_model_module": "@jupyter-widgets/base",
            "top": null,
            "grid_column": null,
            "overflow_y": null,
            "overflow_x": null,
            "grid_auto_flow": null,
            "grid_area": null,
            "grid_template_columns": null,
            "flex": null,
            "_model_name": "LayoutModel",
            "justify_items": null,
            "grid_row": null,
            "max_height": null,
            "align_content": null,
            "visibility": null,
            "align_self": null,
            "height": null,
            "min_height": null,
            "padding": null,
            "grid_auto_rows": null,
            "grid_gap": null,
            "max_width": null,
            "order": null,
            "_view_module_version": "1.2.0",
            "grid_template_areas": null,
            "object_position": null,
            "object_fit": null,
            "grid_auto_columns": null,
            "margin": null,
            "display": null,
            "left": null
          }
        },
        "952b306651a34c3bb3062d1c3f6a3a15": {
          "model_module": "@jupyter-widgets/controls",
          "model_name": "FloatProgressModel",
          "state": {
            "_view_name": "ProgressView",
            "style": "IPY_MODEL_69d7689d95c845ca9aef659431946a42",
            "_dom_classes": [],
            "description": "100%",
            "_model_name": "FloatProgressModel",
            "bar_style": "success",
            "max": 585,
            "_view_module": "@jupyter-widgets/controls",
            "_model_module_version": "1.5.0",
            "value": 585,
            "_view_count": null,
            "_view_module_version": "1.5.0",
            "orientation": "horizontal",
            "min": 0,
            "description_tooltip": null,
            "_model_module": "@jupyter-widgets/controls",
            "layout": "IPY_MODEL_224826b8b5074e21836284114577b85e"
          }
        },
        "e20ab87f494e4c45af5eef1f93cf497d": {
          "model_module": "@jupyter-widgets/controls",
          "model_name": "HTMLModel",
          "state": {
            "_view_name": "HTMLView",
            "style": "IPY_MODEL_61d06853c92542939ee642f63deb1c36",
            "_dom_classes": [],
            "description": "",
            "_model_name": "HTMLModel",
            "placeholder": "​",
            "_view_module": "@jupyter-widgets/controls",
            "_model_module_version": "1.5.0",
            "value": " 585/585 [02:34&lt;00:00,  3.79ba/s]",
            "_view_count": null,
            "_view_module_version": "1.5.0",
            "description_tooltip": null,
            "_model_module": "@jupyter-widgets/controls",
            "layout": "IPY_MODEL_9f10f8a13f494cbdaefffeb93ac416db"
          }
        },
        "69d7689d95c845ca9aef659431946a42": {
          "model_module": "@jupyter-widgets/controls",
          "model_name": "ProgressStyleModel",
          "state": {
            "_view_name": "StyleView",
            "_model_name": "ProgressStyleModel",
            "description_width": "initial",
            "_view_module": "@jupyter-widgets/base",
            "_model_module_version": "1.5.0",
            "_view_count": null,
            "_view_module_version": "1.2.0",
            "bar_color": null,
            "_model_module": "@jupyter-widgets/controls"
          }
        },
        "224826b8b5074e21836284114577b85e": {
          "model_module": "@jupyter-widgets/base",
          "model_name": "LayoutModel",
          "state": {
            "_view_name": "LayoutView",
            "grid_template_rows": null,
            "right": null,
            "justify_content": null,
            "_view_module": "@jupyter-widgets/base",
            "overflow": null,
            "_model_module_version": "1.2.0",
            "_view_count": null,
            "flex_flow": null,
            "width": null,
            "min_width": null,
            "border": null,
            "align_items": null,
            "bottom": null,
            "_model_module": "@jupyter-widgets/base",
            "top": null,
            "grid_column": null,
            "overflow_y": null,
            "overflow_x": null,
            "grid_auto_flow": null,
            "grid_area": null,
            "grid_template_columns": null,
            "flex": null,
            "_model_name": "LayoutModel",
            "justify_items": null,
            "grid_row": null,
            "max_height": null,
            "align_content": null,
            "visibility": null,
            "align_self": null,
            "height": null,
            "min_height": null,
            "padding": null,
            "grid_auto_rows": null,
            "grid_gap": null,
            "max_width": null,
            "order": null,
            "_view_module_version": "1.2.0",
            "grid_template_areas": null,
            "object_position": null,
            "object_fit": null,
            "grid_auto_columns": null,
            "margin": null,
            "display": null,
            "left": null
          }
        },
        "61d06853c92542939ee642f63deb1c36": {
          "model_module": "@jupyter-widgets/controls",
          "model_name": "DescriptionStyleModel",
          "state": {
            "_view_name": "StyleView",
            "_model_name": "DescriptionStyleModel",
            "description_width": "",
            "_view_module": "@jupyter-widgets/base",
            "_model_module_version": "1.5.0",
            "_view_count": null,
            "_view_module_version": "1.2.0",
            "_model_module": "@jupyter-widgets/controls"
          }
        },
        "9f10f8a13f494cbdaefffeb93ac416db": {
          "model_module": "@jupyter-widgets/base",
          "model_name": "LayoutModel",
          "state": {
            "_view_name": "LayoutView",
            "grid_template_rows": null,
            "right": null,
            "justify_content": null,
            "_view_module": "@jupyter-widgets/base",
            "overflow": null,
            "_model_module_version": "1.2.0",
            "_view_count": null,
            "flex_flow": null,
            "width": null,
            "min_width": null,
            "border": null,
            "align_items": null,
            "bottom": null,
            "_model_module": "@jupyter-widgets/base",
            "top": null,
            "grid_column": null,
            "overflow_y": null,
            "overflow_x": null,
            "grid_auto_flow": null,
            "grid_area": null,
            "grid_template_columns": null,
            "flex": null,
            "_model_name": "LayoutModel",
            "justify_items": null,
            "grid_row": null,
            "max_height": null,
            "align_content": null,
            "visibility": null,
            "align_self": null,
            "height": null,
            "min_height": null,
            "padding": null,
            "grid_auto_rows": null,
            "grid_gap": null,
            "max_width": null,
            "order": null,
            "_view_module_version": "1.2.0",
            "grid_template_areas": null,
            "object_position": null,
            "object_fit": null,
            "grid_auto_columns": null,
            "margin": null,
            "display": null,
            "left": null
          }
        }
      }
    }
  },
  "cells": [
    {
      "cell_type": "code",
      "metadata": {
        "colab": {
          "base_uri": "https://localhost:8080/"
        },
        "id": "nF7CKiZ5qPbd",
        "outputId": "6e64cdc9-40a5-49f9-9eb3-55bf8017aeaa"
      },
      "source": [
        "from google.colab import drive\n",
        "drive.mount('/content/drive')"
      ],
      "execution_count": 1,
      "outputs": [
        {
          "output_type": "stream",
          "text": [
            "Drive already mounted at /content/drive; to attempt to forcibly remount, call drive.mount(\"/content/drive\", force_remount=True).\n"
          ],
          "name": "stdout"
        }
      ]
    },
    {
      "cell_type": "code",
      "metadata": {
        "colab": {
          "base_uri": "https://localhost:8080/"
        },
        "id": "Msula1erPfA8",
        "outputId": "c40d002a-ebc3-45bb-82f0-121c9a799b6d"
      },
      "source": [
        "!pwd"
      ],
      "execution_count": 2,
      "outputs": [
        {
          "output_type": "stream",
          "text": [
            "/content\n"
          ],
          "name": "stdout"
        }
      ]
    },
    {
      "cell_type": "code",
      "metadata": {
        "colab": {
          "base_uri": "https://localhost:8080/"
        },
        "id": "472IbamDPv3Y",
        "outputId": "8f676c57-cc96-48b6-db76-59dc7fd2de51"
      },
      "source": [
        "ls"
      ],
      "execution_count": 3,
      "outputs": [
        {
          "output_type": "stream",
          "text": [
            "\u001b[0m\u001b[01;34mdrive\u001b[0m/  \u001b[01;34msample_data\u001b[0m/\n"
          ],
          "name": "stdout"
        }
      ]
    },
    {
      "cell_type": "code",
      "metadata": {
        "colab": {
          "base_uri": "https://localhost:8080/"
        },
        "id": "Tt9QoRzPrsyZ",
        "outputId": "f80cf78e-ab0c-49db-aa75-a0608b7ecd21"
      },
      "source": [
        "cd drive/MyDrive/ASR_project/"
      ],
      "execution_count": 4,
      "outputs": [
        {
          "output_type": "stream",
          "text": [
            "/content/drive/MyDrive/ASR_project\n"
          ],
          "name": "stdout"
        }
      ]
    },
    {
      "cell_type": "code",
      "metadata": {
        "colab": {
          "base_uri": "https://localhost:8080/"
        },
        "id": "0WS9RAR3Px6b",
        "outputId": "6f917d8b-02ff-4f2f-ff15-8067ddba3a72"
      },
      "source": [
        "ls"
      ],
      "execution_count": 5,
      "outputs": [
        {
          "output_type": "stream",
          "text": [
            "Marathi_train.zip  \u001b[0m\u001b[01;34mtest\u001b[0m/  \u001b[01;34mtrain\u001b[0m/  vocab.json\n"
          ],
          "name": "stdout"
        }
      ]
    },
    {
      "cell_type": "code",
      "metadata": {
        "id": "dc-V-4XJDrxA"
      },
      "source": [
        "# import time\n",
        "# time.sleep(10)"
      ],
      "execution_count": 6,
      "outputs": []
    },
    {
      "cell_type": "code",
      "metadata": {
        "id": "jZEfO7cMLvgy"
      },
      "source": [
        "# !unzip -P \"k6]D2i}6\" Marathi_train.zip -d ."
      ],
      "execution_count": 7,
      "outputs": []
    },
    {
      "cell_type": "code",
      "metadata": {
        "id": "s6jWyiNu-9fn"
      },
      "source": [
        "# !unzip -P \"K3[2?do9\" Marathi_test.zip -d ."
      ],
      "execution_count": 8,
      "outputs": []
    },
    {
      "cell_type": "code",
      "metadata": {
        "id": "AGMVu4yZ_mDB"
      },
      "source": [
        "# !tar -xvzf Marathi_test.tar.gz"
      ],
      "execution_count": 9,
      "outputs": []
    },
    {
      "cell_type": "code",
      "metadata": {
        "id": "m-MxJZgJL1zH",
        "colab": {
          "base_uri": "https://localhost:8080/"
        },
        "outputId": "d1a57c6c-098f-4e84-9f40-a587e3981890"
      },
      "source": [
        "!tar -xvzf Marathi_train.tar.gz"
      ],
      "execution_count": 10,
      "outputs": [
        {
          "output_type": "stream",
          "text": [
            "tar (child): Marathi_train.tar.gz: Cannot open: No such file or directory\n",
            "tar (child): Error is not recoverable: exiting now\n",
            "tar: Child returned status 2\n",
            "tar: Error is not recoverable: exiting now\n"
          ],
          "name": "stdout"
        }
      ]
    },
    {
      "cell_type": "code",
      "metadata": {
        "id": "0ye78cN-8nSA",
        "colab": {
          "base_uri": "https://localhost:8080/"
        },
        "outputId": "9801363e-721e-41ba-831c-599134b9b523"
      },
      "source": [
        "!pip install git+https://github.com/huggingface/datasets.git\n",
        "!pip install git+https://github.com/huggingface/transformers.git\n",
        "!pip install torchaudio\n",
        "!pip install librosa\n",
        "!pip install jiwer"
      ],
      "execution_count": 11,
      "outputs": [
        {
          "output_type": "stream",
          "text": [
            "Collecting git+https://github.com/huggingface/datasets.git\n",
            "  Cloning https://github.com/huggingface/datasets.git to /tmp/pip-req-build-yg3frxxt\n",
            "  Running command git clone -q https://github.com/huggingface/datasets.git /tmp/pip-req-build-yg3frxxt\n",
            "Requirement already satisfied (use --upgrade to upgrade): datasets==1.6.2.dev0 from git+https://github.com/huggingface/datasets.git in /usr/local/lib/python3.7/dist-packages\n",
            "Requirement already satisfied: numpy>=1.17 in /usr/local/lib/python3.7/dist-packages (from datasets==1.6.2.dev0) (1.19.5)\n",
            "Requirement already satisfied: pyarrow<4.0.0,>=1.0.0 in /usr/local/lib/python3.7/dist-packages (from datasets==1.6.2.dev0) (3.0.0)\n",
            "Requirement already satisfied: dill in /usr/local/lib/python3.7/dist-packages (from datasets==1.6.2.dev0) (0.3.3)\n",
            "Requirement already satisfied: pandas in /usr/local/lib/python3.7/dist-packages (from datasets==1.6.2.dev0) (1.1.5)\n",
            "Requirement already satisfied: requests>=2.19.0 in /usr/local/lib/python3.7/dist-packages (from datasets==1.6.2.dev0) (2.23.0)\n",
            "Requirement already satisfied: tqdm<4.50.0,>=4.27 in /usr/local/lib/python3.7/dist-packages (from datasets==1.6.2.dev0) (4.41.1)\n",
            "Requirement already satisfied: xxhash in /usr/local/lib/python3.7/dist-packages (from datasets==1.6.2.dev0) (2.0.2)\n",
            "Requirement already satisfied: multiprocess in /usr/local/lib/python3.7/dist-packages (from datasets==1.6.2.dev0) (0.70.11.1)\n",
            "Requirement already satisfied: fsspec in /usr/local/lib/python3.7/dist-packages (from datasets==1.6.2.dev0) (2021.4.0)\n",
            "Requirement already satisfied: huggingface_hub<0.1.0 in /usr/local/lib/python3.7/dist-packages (from datasets==1.6.2.dev0) (0.0.8)\n",
            "Requirement already satisfied: packaging in /usr/local/lib/python3.7/dist-packages (from datasets==1.6.2.dev0) (20.9)\n",
            "Requirement already satisfied: importlib_metadata in /usr/local/lib/python3.7/dist-packages (from datasets==1.6.2.dev0) (4.0.1)\n",
            "Requirement already satisfied: python-dateutil>=2.7.3 in /usr/local/lib/python3.7/dist-packages (from pandas->datasets==1.6.2.dev0) (2.8.1)\n",
            "Requirement already satisfied: pytz>=2017.2 in /usr/local/lib/python3.7/dist-packages (from pandas->datasets==1.6.2.dev0) (2018.9)\n",
            "Requirement already satisfied: chardet<4,>=3.0.2 in /usr/local/lib/python3.7/dist-packages (from requests>=2.19.0->datasets==1.6.2.dev0) (3.0.4)\n",
            "Requirement already satisfied: certifi>=2017.4.17 in /usr/local/lib/python3.7/dist-packages (from requests>=2.19.0->datasets==1.6.2.dev0) (2020.12.5)\n",
            "Requirement already satisfied: urllib3!=1.25.0,!=1.25.1,<1.26,>=1.21.1 in /usr/local/lib/python3.7/dist-packages (from requests>=2.19.0->datasets==1.6.2.dev0) (1.24.3)\n",
            "Requirement already satisfied: idna<3,>=2.5 in /usr/local/lib/python3.7/dist-packages (from requests>=2.19.0->datasets==1.6.2.dev0) (2.10)\n",
            "Requirement already satisfied: filelock in /usr/local/lib/python3.7/dist-packages (from huggingface_hub<0.1.0->datasets==1.6.2.dev0) (3.0.12)\n",
            "Requirement already satisfied: pyparsing>=2.0.2 in /usr/local/lib/python3.7/dist-packages (from packaging->datasets==1.6.2.dev0) (2.4.7)\n",
            "Requirement already satisfied: zipp>=0.5 in /usr/local/lib/python3.7/dist-packages (from importlib_metadata->datasets==1.6.2.dev0) (3.4.1)\n",
            "Requirement already satisfied: typing-extensions>=3.6.4; python_version < \"3.8\" in /usr/local/lib/python3.7/dist-packages (from importlib_metadata->datasets==1.6.2.dev0) (3.7.4.3)\n",
            "Requirement already satisfied: six>=1.5 in /usr/local/lib/python3.7/dist-packages (from python-dateutil>=2.7.3->pandas->datasets==1.6.2.dev0) (1.15.0)\n",
            "Building wheels for collected packages: datasets\n",
            "  Building wheel for datasets (setup.py) ... \u001b[?25l\u001b[?25hdone\n",
            "  Created wheel for datasets: filename=datasets-1.6.2.dev0-cp37-none-any.whl size=224908 sha256=7696a8d90da320a857952163e59e1749fd7bf4cf5bc3214735999257d3432b62\n",
            "  Stored in directory: /tmp/pip-ephem-wheel-cache-tg7ldb_p/wheels/3e/af/ff/d1cdb5d0f9cff6eba2042a16b477ada497e23f1a3b6950b928\n",
            "Successfully built datasets\n",
            "Collecting git+https://github.com/huggingface/transformers.git\n",
            "  Cloning https://github.com/huggingface/transformers.git to /tmp/pip-req-build-c4kodrp5\n",
            "  Running command git clone -q https://github.com/huggingface/transformers.git /tmp/pip-req-build-c4kodrp5\n",
            "  Installing build dependencies ... \u001b[?25l\u001b[?25hdone\n",
            "  Getting requirements to build wheel ... \u001b[?25l\u001b[?25hdone\n",
            "    Preparing wheel metadata ... \u001b[?25l\u001b[?25hdone\n",
            "Requirement already satisfied (use --upgrade to upgrade): transformers==4.7.0.dev0 from git+https://github.com/huggingface/transformers.git in /usr/local/lib/python3.7/dist-packages\n",
            "Requirement already satisfied: requests in /usr/local/lib/python3.7/dist-packages (from transformers==4.7.0.dev0) (2.23.0)\n",
            "Requirement already satisfied: filelock in /usr/local/lib/python3.7/dist-packages (from transformers==4.7.0.dev0) (3.0.12)\n",
            "Requirement already satisfied: huggingface-hub==0.0.8 in /usr/local/lib/python3.7/dist-packages (from transformers==4.7.0.dev0) (0.0.8)\n",
            "Requirement already satisfied: sacremoses in /usr/local/lib/python3.7/dist-packages (from transformers==4.7.0.dev0) (0.0.45)\n",
            "Requirement already satisfied: importlib-metadata; python_version < \"3.8\" in /usr/local/lib/python3.7/dist-packages (from transformers==4.7.0.dev0) (4.0.1)\n",
            "Requirement already satisfied: tqdm>=4.27 in /usr/local/lib/python3.7/dist-packages (from transformers==4.7.0.dev0) (4.41.1)\n",
            "Requirement already satisfied: tokenizers<0.11,>=0.10.1 in /usr/local/lib/python3.7/dist-packages (from transformers==4.7.0.dev0) (0.10.2)\n",
            "Requirement already satisfied: packaging in /usr/local/lib/python3.7/dist-packages (from transformers==4.7.0.dev0) (20.9)\n",
            "Requirement already satisfied: numpy>=1.17 in /usr/local/lib/python3.7/dist-packages (from transformers==4.7.0.dev0) (1.19.5)\n",
            "Requirement already satisfied: regex!=2019.12.17 in /usr/local/lib/python3.7/dist-packages (from transformers==4.7.0.dev0) (2019.12.20)\n",
            "Requirement already satisfied: idna<3,>=2.5 in /usr/local/lib/python3.7/dist-packages (from requests->transformers==4.7.0.dev0) (2.10)\n",
            "Requirement already satisfied: urllib3!=1.25.0,!=1.25.1,<1.26,>=1.21.1 in /usr/local/lib/python3.7/dist-packages (from requests->transformers==4.7.0.dev0) (1.24.3)\n",
            "Requirement already satisfied: chardet<4,>=3.0.2 in /usr/local/lib/python3.7/dist-packages (from requests->transformers==4.7.0.dev0) (3.0.4)\n",
            "Requirement already satisfied: certifi>=2017.4.17 in /usr/local/lib/python3.7/dist-packages (from requests->transformers==4.7.0.dev0) (2020.12.5)\n",
            "Requirement already satisfied: six in /usr/local/lib/python3.7/dist-packages (from sacremoses->transformers==4.7.0.dev0) (1.15.0)\n",
            "Requirement already satisfied: joblib in /usr/local/lib/python3.7/dist-packages (from sacremoses->transformers==4.7.0.dev0) (1.0.1)\n",
            "Requirement already satisfied: click in /usr/local/lib/python3.7/dist-packages (from sacremoses->transformers==4.7.0.dev0) (7.1.2)\n",
            "Requirement already satisfied: zipp>=0.5 in /usr/local/lib/python3.7/dist-packages (from importlib-metadata; python_version < \"3.8\"->transformers==4.7.0.dev0) (3.4.1)\n",
            "Requirement already satisfied: typing-extensions>=3.6.4; python_version < \"3.8\" in /usr/local/lib/python3.7/dist-packages (from importlib-metadata; python_version < \"3.8\"->transformers==4.7.0.dev0) (3.7.4.3)\n",
            "Requirement already satisfied: pyparsing>=2.0.2 in /usr/local/lib/python3.7/dist-packages (from packaging->transformers==4.7.0.dev0) (2.4.7)\n",
            "Building wheels for collected packages: transformers\n",
            "  Building wheel for transformers (PEP 517) ... \u001b[?25l\u001b[?25hdone\n",
            "  Created wheel for transformers: filename=transformers-4.7.0.dev0-cp37-none-any.whl size=2256189 sha256=e1d5ec7907887aa88bc3d4907fcbfbe01acd15caee6b331753c4861d09eb7b01\n",
            "  Stored in directory: /tmp/pip-ephem-wheel-cache-ndmk8qi5/wheels/33/eb/3b/4bf5dd835e865e472d4fc0754f35ac0edb08fe852e8f21655f\n",
            "Successfully built transformers\n",
            "Requirement already satisfied: torchaudio in /usr/local/lib/python3.7/dist-packages (0.8.1)\n",
            "Requirement already satisfied: torch==1.8.1 in /usr/local/lib/python3.7/dist-packages (from torchaudio) (1.8.1+cu101)\n",
            "Requirement already satisfied: numpy in /usr/local/lib/python3.7/dist-packages (from torch==1.8.1->torchaudio) (1.19.5)\n",
            "Requirement already satisfied: typing-extensions in /usr/local/lib/python3.7/dist-packages (from torch==1.8.1->torchaudio) (3.7.4.3)\n",
            "Requirement already satisfied: librosa in /usr/local/lib/python3.7/dist-packages (0.8.0)\n",
            "Requirement already satisfied: decorator>=3.0.0 in /usr/local/lib/python3.7/dist-packages (from librosa) (4.4.2)\n",
            "Requirement already satisfied: scikit-learn!=0.19.0,>=0.14.0 in /usr/local/lib/python3.7/dist-packages (from librosa) (0.22.2.post1)\n",
            "Requirement already satisfied: scipy>=1.0.0 in /usr/local/lib/python3.7/dist-packages (from librosa) (1.4.1)\n",
            "Requirement already satisfied: audioread>=2.0.0 in /usr/local/lib/python3.7/dist-packages (from librosa) (2.1.9)\n",
            "Requirement already satisfied: resampy>=0.2.2 in /usr/local/lib/python3.7/dist-packages (from librosa) (0.2.2)\n",
            "Requirement already satisfied: joblib>=0.14 in /usr/local/lib/python3.7/dist-packages (from librosa) (1.0.1)\n",
            "Requirement already satisfied: soundfile>=0.9.0 in /usr/local/lib/python3.7/dist-packages (from librosa) (0.10.3.post1)\n",
            "Requirement already satisfied: pooch>=1.0 in /usr/local/lib/python3.7/dist-packages (from librosa) (1.3.0)\n",
            "Requirement already satisfied: numba>=0.43.0 in /usr/local/lib/python3.7/dist-packages (from librosa) (0.51.2)\n",
            "Requirement already satisfied: numpy>=1.15.0 in /usr/local/lib/python3.7/dist-packages (from librosa) (1.19.5)\n",
            "Requirement already satisfied: six>=1.3 in /usr/local/lib/python3.7/dist-packages (from resampy>=0.2.2->librosa) (1.15.0)\n",
            "Requirement already satisfied: cffi>=1.0 in /usr/local/lib/python3.7/dist-packages (from soundfile>=0.9.0->librosa) (1.14.5)\n",
            "Requirement already satisfied: appdirs in /usr/local/lib/python3.7/dist-packages (from pooch>=1.0->librosa) (1.4.4)\n",
            "Requirement already satisfied: packaging in /usr/local/lib/python3.7/dist-packages (from pooch>=1.0->librosa) (20.9)\n",
            "Requirement already satisfied: requests in /usr/local/lib/python3.7/dist-packages (from pooch>=1.0->librosa) (2.23.0)\n",
            "Requirement already satisfied: setuptools in /usr/local/lib/python3.7/dist-packages (from numba>=0.43.0->librosa) (56.1.0)\n",
            "Requirement already satisfied: llvmlite<0.35,>=0.34.0.dev0 in /usr/local/lib/python3.7/dist-packages (from numba>=0.43.0->librosa) (0.34.0)\n",
            "Requirement already satisfied: pycparser in /usr/local/lib/python3.7/dist-packages (from cffi>=1.0->soundfile>=0.9.0->librosa) (2.20)\n",
            "Requirement already satisfied: pyparsing>=2.0.2 in /usr/local/lib/python3.7/dist-packages (from packaging->pooch>=1.0->librosa) (2.4.7)\n",
            "Requirement already satisfied: urllib3!=1.25.0,!=1.25.1,<1.26,>=1.21.1 in /usr/local/lib/python3.7/dist-packages (from requests->pooch>=1.0->librosa) (1.24.3)\n",
            "Requirement already satisfied: chardet<4,>=3.0.2 in /usr/local/lib/python3.7/dist-packages (from requests->pooch>=1.0->librosa) (3.0.4)\n",
            "Requirement already satisfied: certifi>=2017.4.17 in /usr/local/lib/python3.7/dist-packages (from requests->pooch>=1.0->librosa) (2020.12.5)\n",
            "Requirement already satisfied: idna<3,>=2.5 in /usr/local/lib/python3.7/dist-packages (from requests->pooch>=1.0->librosa) (2.10)\n",
            "Requirement already satisfied: jiwer in /usr/local/lib/python3.7/dist-packages (2.2.0)\n",
            "Requirement already satisfied: python-Levenshtein in /usr/local/lib/python3.7/dist-packages (from jiwer) (0.12.2)\n",
            "Requirement already satisfied: numpy in /usr/local/lib/python3.7/dist-packages (from jiwer) (1.19.5)\n",
            "Requirement already satisfied: setuptools in /usr/local/lib/python3.7/dist-packages (from python-Levenshtein->jiwer) (56.1.0)\n"
          ],
          "name": "stdout"
        }
      ]
    },
    {
      "cell_type": "code",
      "metadata": {
        "id": "FyU38rKnQ_k_"
      },
      "source": [
        "import pandas as pd"
      ],
      "execution_count": 12,
      "outputs": []
    },
    {
      "cell_type": "code",
      "metadata": {
        "id": "GWJdXSAHOXXC"
      },
      "source": [
        "train_data = pd.read_csv('train/transcription.txt',header = None)\n",
        "train_data.sample(frac=1)\n",
        "train_data.columns = [\"label\"]\n",
        "\n",
        "test_data = pd.read_csv('test/transcription.txt',header = None)\n",
        "test_data.sample(frac=1)\n",
        "test_data.columns = [\"label\"]"
      ],
      "execution_count": 13,
      "outputs": []
    },
    {
      "cell_type": "code",
      "metadata": {
        "id": "FQ7hWNcORHbs"
      },
      "source": [
        "train_data[['audio_path','text']] = train_data[\"label\"].str.split(\" \", 1, expand=True)\n",
        "test_data[['audio_path','text']] = test_data[\"label\"].str.split(\" \", 1, expand=True)"
      ],
      "execution_count": 14,
      "outputs": []
    },
    {
      "cell_type": "code",
      "metadata": {
        "id": "jD7SCFsrROSf"
      },
      "source": [
        "train_data = train_data[[\"audio_path\",\"text\"]]\n",
        "test_data = test_data[[\"audio_path\",\"text\"]]"
      ],
      "execution_count": 15,
      "outputs": []
    },
    {
      "cell_type": "code",
      "metadata": {
        "id": "OMSwVoFVU-No",
        "colab": {
          "base_uri": "https://localhost:8080/",
          "height": 419
        },
        "outputId": "4b4261de-8318-4a29-be5f-3aa547fd0f02"
      },
      "source": [
        "train_data"
      ],
      "execution_count": 16,
      "outputs": [
        {
          "output_type": "execute_result",
          "data": {
            "text/html": [
              "<div>\n",
              "<style scoped>\n",
              "    .dataframe tbody tr th:only-of-type {\n",
              "        vertical-align: middle;\n",
              "    }\n",
              "\n",
              "    .dataframe tbody tr th {\n",
              "        vertical-align: top;\n",
              "    }\n",
              "\n",
              "    .dataframe thead th {\n",
              "        text-align: right;\n",
              "    }\n",
              "</style>\n",
              "<table border=\"1\" class=\"dataframe\">\n",
              "  <thead>\n",
              "    <tr style=\"text-align: right;\">\n",
              "      <th></th>\n",
              "      <th>audio_path</th>\n",
              "      <th>text</th>\n",
              "    </tr>\n",
              "  </thead>\n",
              "  <tbody>\n",
              "    <tr>\n",
              "      <th>0</th>\n",
              "      <td>01_0000_01_1</td>\n",
              "      <td>गाण्याचा थोडा आवाज वाढव ना</td>\n",
              "    </tr>\n",
              "    <tr>\n",
              "      <th>1</th>\n",
              "      <td>01_0000_02_1</td>\n",
              "      <td>गाण्याचा थोडा आवाज वाढव ना</td>\n",
              "    </tr>\n",
              "    <tr>\n",
              "      <th>2</th>\n",
              "      <td>01_0000_03_1</td>\n",
              "      <td>गाण्याचा थोडा आवाज वाढव ना</td>\n",
              "    </tr>\n",
              "    <tr>\n",
              "      <th>3</th>\n",
              "      <td>01_0000_04_1</td>\n",
              "      <td>गाण्याचा थोडा आवाज वाढव ना</td>\n",
              "    </tr>\n",
              "    <tr>\n",
              "      <th>4</th>\n",
              "      <td>01_0000_05_1</td>\n",
              "      <td>गाण्याचा थोडा आवाज वाढव ना</td>\n",
              "    </tr>\n",
              "    <tr>\n",
              "      <th>...</th>\n",
              "      <td>...</td>\n",
              "      <td>...</td>\n",
              "    </tr>\n",
              "    <tr>\n",
              "      <th>79427</th>\n",
              "      <td>03_2991_05_1</td>\n",
              "      <td>लेमन ट्री हॉटेल्स चा कस्टमर केअर ईमेल नंबर सांगा</td>\n",
              "    </tr>\n",
              "    <tr>\n",
              "      <th>79428</th>\n",
              "      <td>03_2991_06_1</td>\n",
              "      <td>लेमन ट्री हॉटेल्स चा कस्टमर केअर ईमेल नंबर सांगा</td>\n",
              "    </tr>\n",
              "    <tr>\n",
              "      <th>79429</th>\n",
              "      <td>03_2991_07_1</td>\n",
              "      <td>लेमन ट्री हॉटेल्स चा कस्टमर केअर ईमेल नंबर सांगा</td>\n",
              "    </tr>\n",
              "    <tr>\n",
              "      <th>79430</th>\n",
              "      <td>03_2991_10_1</td>\n",
              "      <td>लेमन ट्री हॉटेल्स चा कस्टमर केअर ईमेल नंबर सांगा</td>\n",
              "    </tr>\n",
              "    <tr>\n",
              "      <th>79431</th>\n",
              "      <td>03_2991_11_1</td>\n",
              "      <td>लेमन ट्री हॉटेल्स चा कस्टमर केअर ईमेल नंबर सांगा</td>\n",
              "    </tr>\n",
              "  </tbody>\n",
              "</table>\n",
              "<p>79432 rows × 2 columns</p>\n",
              "</div>"
            ],
            "text/plain": [
              "         audio_path                                              text\n",
              "0      01_0000_01_1                        गाण्याचा थोडा आवाज वाढव ना\n",
              "1      01_0000_02_1                        गाण्याचा थोडा आवाज वाढव ना\n",
              "2      01_0000_03_1                        गाण्याचा थोडा आवाज वाढव ना\n",
              "3      01_0000_04_1                        गाण्याचा थोडा आवाज वाढव ना\n",
              "4      01_0000_05_1                        गाण्याचा थोडा आवाज वाढव ना\n",
              "...             ...                                               ...\n",
              "79427  03_2991_05_1  लेमन ट्री हॉटेल्स चा कस्टमर केअर ईमेल नंबर सांगा\n",
              "79428  03_2991_06_1  लेमन ट्री हॉटेल्स चा कस्टमर केअर ईमेल नंबर सांगा\n",
              "79429  03_2991_07_1  लेमन ट्री हॉटेल्स चा कस्टमर केअर ईमेल नंबर सांगा\n",
              "79430  03_2991_10_1  लेमन ट्री हॉटेल्स चा कस्टमर केअर ईमेल नंबर सांगा\n",
              "79431  03_2991_11_1  लेमन ट्री हॉटेल्स चा कस्टमर केअर ईमेल नंबर सांगा\n",
              "\n",
              "[79432 rows x 2 columns]"
            ]
          },
          "metadata": {
            "tags": []
          },
          "execution_count": 16
        }
      ]
    },
    {
      "cell_type": "code",
      "metadata": {
        "id": "i4BBCGL9AV2R",
        "colab": {
          "base_uri": "https://localhost:8080/",
          "height": 419
        },
        "outputId": "afe823b9-6569-4104-f114-7de6b2aeb24e"
      },
      "source": [
        "test_data"
      ],
      "execution_count": 17,
      "outputs": [
        {
          "output_type": "execute_result",
          "data": {
            "text/html": [
              "<div>\n",
              "<style scoped>\n",
              "    .dataframe tbody tr th:only-of-type {\n",
              "        vertical-align: middle;\n",
              "    }\n",
              "\n",
              "    .dataframe tbody tr th {\n",
              "        vertical-align: top;\n",
              "    }\n",
              "\n",
              "    .dataframe thead th {\n",
              "        text-align: right;\n",
              "    }\n",
              "</style>\n",
              "<table border=\"1\" class=\"dataframe\">\n",
              "  <thead>\n",
              "    <tr style=\"text-align: right;\">\n",
              "      <th></th>\n",
              "      <th>audio_path</th>\n",
              "      <th>text</th>\n",
              "    </tr>\n",
              "  </thead>\n",
              "  <tbody>\n",
              "    <tr>\n",
              "      <th>0</th>\n",
              "      <td>01_0003_01_1</td>\n",
              "      <td>बास रीसेट कर</td>\n",
              "    </tr>\n",
              "    <tr>\n",
              "      <th>1</th>\n",
              "      <td>01_0003_03_1</td>\n",
              "      <td>बास रीसेट कर</td>\n",
              "    </tr>\n",
              "    <tr>\n",
              "      <th>2</th>\n",
              "      <td>01_0003_04_1</td>\n",
              "      <td>बास रीसेट कर</td>\n",
              "    </tr>\n",
              "    <tr>\n",
              "      <th>3</th>\n",
              "      <td>01_0003_05_1</td>\n",
              "      <td>बास रीसेट कर</td>\n",
              "    </tr>\n",
              "    <tr>\n",
              "      <th>4</th>\n",
              "      <td>01_0003_06_1</td>\n",
              "      <td>बास रीसेट कर</td>\n",
              "    </tr>\n",
              "    <tr>\n",
              "      <th>...</th>\n",
              "      <td>...</td>\n",
              "      <td>...</td>\n",
              "    </tr>\n",
              "    <tr>\n",
              "      <th>4670</th>\n",
              "      <td>03_2989_07_1</td>\n",
              "      <td>पुण्यातील गणेश विसर्जन मिरवणूक कशी असते मला दाखव</td>\n",
              "    </tr>\n",
              "    <tr>\n",
              "      <th>4671</th>\n",
              "      <td>03_2989_08_1</td>\n",
              "      <td>पुण्यातील गणेश विसर्जन मिरवणूक कशी असते मला दाखव</td>\n",
              "    </tr>\n",
              "    <tr>\n",
              "      <th>4672</th>\n",
              "      <td>03_2989_09_1</td>\n",
              "      <td>पुण्यातील गणेश विसर्जन मिरवणूक कशी असते मला दाखव</td>\n",
              "    </tr>\n",
              "    <tr>\n",
              "      <th>4673</th>\n",
              "      <td>03_2989_10_1</td>\n",
              "      <td>पुण्यातील गणेश विसर्जन मिरवणूक कशी असते मला दाखव</td>\n",
              "    </tr>\n",
              "    <tr>\n",
              "      <th>4674</th>\n",
              "      <td>03_2989_12_1</td>\n",
              "      <td>पुण्यातील गणेश विसर्जन मिरवणूक कशी असते मला दाखव</td>\n",
              "    </tr>\n",
              "  </tbody>\n",
              "</table>\n",
              "<p>4675 rows × 2 columns</p>\n",
              "</div>"
            ],
            "text/plain": [
              "        audio_path                                              text\n",
              "0     01_0003_01_1                                      बास रीसेट कर\n",
              "1     01_0003_03_1                                      बास रीसेट कर\n",
              "2     01_0003_04_1                                      बास रीसेट कर\n",
              "3     01_0003_05_1                                      बास रीसेट कर\n",
              "4     01_0003_06_1                                      बास रीसेट कर\n",
              "...            ...                                               ...\n",
              "4670  03_2989_07_1  पुण्यातील गणेश विसर्जन मिरवणूक कशी असते मला दाखव\n",
              "4671  03_2989_08_1  पुण्यातील गणेश विसर्जन मिरवणूक कशी असते मला दाखव\n",
              "4672  03_2989_09_1  पुण्यातील गणेश विसर्जन मिरवणूक कशी असते मला दाखव\n",
              "4673  03_2989_10_1  पुण्यातील गणेश विसर्जन मिरवणूक कशी असते मला दाखव\n",
              "4674  03_2989_12_1  पुण्यातील गणेश विसर्जन मिरवणूक कशी असते मला दाखव\n",
              "\n",
              "[4675 rows x 2 columns]"
            ]
          },
          "metadata": {
            "tags": []
          },
          "execution_count": 17
        }
      ]
    },
    {
      "cell_type": "code",
      "metadata": {
        "id": "wle38G79VIGv"
      },
      "source": [
        "train_data = train_data[1::51]\n",
        "test_data = test_data"
      ],
      "execution_count": 18,
      "outputs": []
    },
    {
      "cell_type": "code",
      "metadata": {
        "id": "MlAPRBLxwnpJ",
        "colab": {
          "base_uri": "https://localhost:8080/",
          "height": 419
        },
        "outputId": "d8d04b8d-21c2-4f40-f3b1-04cfc42a4dd8"
      },
      "source": [
        "train_data"
      ],
      "execution_count": 19,
      "outputs": [
        {
          "output_type": "execute_result",
          "data": {
            "text/html": [
              "<div>\n",
              "<style scoped>\n",
              "    .dataframe tbody tr th:only-of-type {\n",
              "        vertical-align: middle;\n",
              "    }\n",
              "\n",
              "    .dataframe tbody tr th {\n",
              "        vertical-align: top;\n",
              "    }\n",
              "\n",
              "    .dataframe thead th {\n",
              "        text-align: right;\n",
              "    }\n",
              "</style>\n",
              "<table border=\"1\" class=\"dataframe\">\n",
              "  <thead>\n",
              "    <tr style=\"text-align: right;\">\n",
              "      <th></th>\n",
              "      <th>audio_path</th>\n",
              "      <th>text</th>\n",
              "    </tr>\n",
              "  </thead>\n",
              "  <tbody>\n",
              "    <tr>\n",
              "      <th>1</th>\n",
              "      <td>01_0000_02_1</td>\n",
              "      <td>गाण्याचा थोडा आवाज वाढव ना</td>\n",
              "    </tr>\n",
              "    <tr>\n",
              "      <th>52</th>\n",
              "      <td>01_0007_05_1</td>\n",
              "      <td>ब्राईटनेस कमी कर</td>\n",
              "    </tr>\n",
              "    <tr>\n",
              "      <th>103</th>\n",
              "      <td>01_0013_06_1</td>\n",
              "      <td>हा चॅनल सोडून नंतर चा चॅनल लाव</td>\n",
              "    </tr>\n",
              "    <tr>\n",
              "      <th>154</th>\n",
              "      <td>01_0018_07_1</td>\n",
              "      <td>सरळ डिस्कवरी मराठी चालू कर</td>\n",
              "    </tr>\n",
              "    <tr>\n",
              "      <th>205</th>\n",
              "      <td>01_0026_08_1</td>\n",
              "      <td>सेट टॉप बॉक्स बंद कर</td>\n",
              "    </tr>\n",
              "    <tr>\n",
              "      <th>...</th>\n",
              "      <td>...</td>\n",
              "      <td>...</td>\n",
              "    </tr>\n",
              "    <tr>\n",
              "      <th>79204</th>\n",
              "      <td>03_2966_02_1</td>\n",
              "      <td>सोमवती अमावस्या म्हणजे काय</td>\n",
              "    </tr>\n",
              "    <tr>\n",
              "      <th>79255</th>\n",
              "      <td>03_2971_07_1</td>\n",
              "      <td>श्रावणात कोणकोणते सण साजरे केले जातात</td>\n",
              "    </tr>\n",
              "    <tr>\n",
              "      <th>79306</th>\n",
              "      <td>03_2976_12_1</td>\n",
              "      <td>महेश नागरी सहकारी बँक चा पैठण चा पत्ता मला एसए...</td>\n",
              "    </tr>\n",
              "    <tr>\n",
              "      <th>79357</th>\n",
              "      <td>03_2982_08_1</td>\n",
              "      <td>आदित्य बिर्ला एसएल इक्विटी फंड डी ची पूर्ण माह...</td>\n",
              "    </tr>\n",
              "    <tr>\n",
              "      <th>79408</th>\n",
              "      <td>03_2988_02_1</td>\n",
              "      <td>मूर्तिजापूर ते भुसावळ ट्रेन चे वेळापत्रक</td>\n",
              "    </tr>\n",
              "  </tbody>\n",
              "</table>\n",
              "<p>1558 rows × 2 columns</p>\n",
              "</div>"
            ],
            "text/plain": [
              "         audio_path                                               text\n",
              "1      01_0000_02_1                         गाण्याचा थोडा आवाज वाढव ना\n",
              "52     01_0007_05_1                                   ब्राईटनेस कमी कर\n",
              "103    01_0013_06_1                     हा चॅनल सोडून नंतर चा चॅनल लाव\n",
              "154    01_0018_07_1                         सरळ डिस्कवरी मराठी चालू कर\n",
              "205    01_0026_08_1                               सेट टॉप बॉक्स बंद कर\n",
              "...             ...                                                ...\n",
              "79204  03_2966_02_1                         सोमवती अमावस्या म्हणजे काय\n",
              "79255  03_2971_07_1              श्रावणात कोणकोणते सण साजरे केले जातात\n",
              "79306  03_2976_12_1  महेश नागरी सहकारी बँक चा पैठण चा पत्ता मला एसए...\n",
              "79357  03_2982_08_1  आदित्य बिर्ला एसएल इक्विटी फंड डी ची पूर्ण माह...\n",
              "79408  03_2988_02_1           मूर्तिजापूर ते भुसावळ ट्रेन चे वेळापत्रक\n",
              "\n",
              "[1558 rows x 2 columns]"
            ]
          },
          "metadata": {
            "tags": []
          },
          "execution_count": 19
        }
      ]
    },
    {
      "cell_type": "code",
      "metadata": {
        "id": "xboRNQNWyx07",
        "colab": {
          "base_uri": "https://localhost:8080/",
          "height": 419
        },
        "outputId": "eef1bd07-4b52-45e0-d433-9c170ff6aefa"
      },
      "source": [
        "test_data"
      ],
      "execution_count": 20,
      "outputs": [
        {
          "output_type": "execute_result",
          "data": {
            "text/html": [
              "<div>\n",
              "<style scoped>\n",
              "    .dataframe tbody tr th:only-of-type {\n",
              "        vertical-align: middle;\n",
              "    }\n",
              "\n",
              "    .dataframe tbody tr th {\n",
              "        vertical-align: top;\n",
              "    }\n",
              "\n",
              "    .dataframe thead th {\n",
              "        text-align: right;\n",
              "    }\n",
              "</style>\n",
              "<table border=\"1\" class=\"dataframe\">\n",
              "  <thead>\n",
              "    <tr style=\"text-align: right;\">\n",
              "      <th></th>\n",
              "      <th>audio_path</th>\n",
              "      <th>text</th>\n",
              "    </tr>\n",
              "  </thead>\n",
              "  <tbody>\n",
              "    <tr>\n",
              "      <th>0</th>\n",
              "      <td>01_0003_01_1</td>\n",
              "      <td>बास रीसेट कर</td>\n",
              "    </tr>\n",
              "    <tr>\n",
              "      <th>1</th>\n",
              "      <td>01_0003_03_1</td>\n",
              "      <td>बास रीसेट कर</td>\n",
              "    </tr>\n",
              "    <tr>\n",
              "      <th>2</th>\n",
              "      <td>01_0003_04_1</td>\n",
              "      <td>बास रीसेट कर</td>\n",
              "    </tr>\n",
              "    <tr>\n",
              "      <th>3</th>\n",
              "      <td>01_0003_05_1</td>\n",
              "      <td>बास रीसेट कर</td>\n",
              "    </tr>\n",
              "    <tr>\n",
              "      <th>4</th>\n",
              "      <td>01_0003_06_1</td>\n",
              "      <td>बास रीसेट कर</td>\n",
              "    </tr>\n",
              "    <tr>\n",
              "      <th>...</th>\n",
              "      <td>...</td>\n",
              "      <td>...</td>\n",
              "    </tr>\n",
              "    <tr>\n",
              "      <th>4670</th>\n",
              "      <td>03_2989_07_1</td>\n",
              "      <td>पुण्यातील गणेश विसर्जन मिरवणूक कशी असते मला दाखव</td>\n",
              "    </tr>\n",
              "    <tr>\n",
              "      <th>4671</th>\n",
              "      <td>03_2989_08_1</td>\n",
              "      <td>पुण्यातील गणेश विसर्जन मिरवणूक कशी असते मला दाखव</td>\n",
              "    </tr>\n",
              "    <tr>\n",
              "      <th>4672</th>\n",
              "      <td>03_2989_09_1</td>\n",
              "      <td>पुण्यातील गणेश विसर्जन मिरवणूक कशी असते मला दाखव</td>\n",
              "    </tr>\n",
              "    <tr>\n",
              "      <th>4673</th>\n",
              "      <td>03_2989_10_1</td>\n",
              "      <td>पुण्यातील गणेश विसर्जन मिरवणूक कशी असते मला दाखव</td>\n",
              "    </tr>\n",
              "    <tr>\n",
              "      <th>4674</th>\n",
              "      <td>03_2989_12_1</td>\n",
              "      <td>पुण्यातील गणेश विसर्जन मिरवणूक कशी असते मला दाखव</td>\n",
              "    </tr>\n",
              "  </tbody>\n",
              "</table>\n",
              "<p>4675 rows × 2 columns</p>\n",
              "</div>"
            ],
            "text/plain": [
              "        audio_path                                              text\n",
              "0     01_0003_01_1                                      बास रीसेट कर\n",
              "1     01_0003_03_1                                      बास रीसेट कर\n",
              "2     01_0003_04_1                                      बास रीसेट कर\n",
              "3     01_0003_05_1                                      बास रीसेट कर\n",
              "4     01_0003_06_1                                      बास रीसेट कर\n",
              "...            ...                                               ...\n",
              "4670  03_2989_07_1  पुण्यातील गणेश विसर्जन मिरवणूक कशी असते मला दाखव\n",
              "4671  03_2989_08_1  पुण्यातील गणेश विसर्जन मिरवणूक कशी असते मला दाखव\n",
              "4672  03_2989_09_1  पुण्यातील गणेश विसर्जन मिरवणूक कशी असते मला दाखव\n",
              "4673  03_2989_10_1  पुण्यातील गणेश विसर्जन मिरवणूक कशी असते मला दाखव\n",
              "4674  03_2989_12_1  पुण्यातील गणेश विसर्जन मिरवणूक कशी असते मला दाखव\n",
              "\n",
              "[4675 rows x 2 columns]"
            ]
          },
          "metadata": {
            "tags": []
          },
          "execution_count": 20
        }
      ]
    },
    {
      "cell_type": "code",
      "metadata": {
        "id": "ft6SW5DPfDjx"
      },
      "source": [
        "# add file path\n",
        "\n",
        "def add_file_path(text, train = True):\n",
        "  if train:\n",
        "    text = \"train/audio/\" + text + \".wav\"\n",
        "  else:\n",
        "    text = \"test/audio/\" + text + \".wav\"\n",
        "\n",
        "  return text"
      ],
      "execution_count": 21,
      "outputs": []
    },
    {
      "cell_type": "code",
      "metadata": {
        "id": "iX-M1HSJgXgy",
        "colab": {
          "base_uri": "https://localhost:8080/"
        },
        "outputId": "3e63ee70-29d7-4fbf-813e-e72ffe773893"
      },
      "source": [
        "# add file path\n",
        "train_data['audio_path'] = train_data['audio_path'].map(lambda x: add_file_path(x))\n",
        "test_data['audio_path'] = test_data['audio_path'].map(lambda x: add_file_path(x,train= False))"
      ],
      "execution_count": 22,
      "outputs": [
        {
          "output_type": "stream",
          "text": [
            "/usr/local/lib/python3.7/dist-packages/ipykernel_launcher.py:2: SettingWithCopyWarning: \n",
            "A value is trying to be set on a copy of a slice from a DataFrame.\n",
            "Try using .loc[row_indexer,col_indexer] = value instead\n",
            "\n",
            "See the caveats in the documentation: https://pandas.pydata.org/pandas-docs/stable/user_guide/indexing.html#returning-a-view-versus-a-copy\n",
            "  \n"
          ],
          "name": "stderr"
        }
      ]
    },
    {
      "cell_type": "code",
      "metadata": {
        "id": "fn0WTKwGg5LM",
        "colab": {
          "base_uri": "https://localhost:8080/",
          "height": 419
        },
        "outputId": "836bed33-4471-4cb8-d15d-96a9ba9bb21b"
      },
      "source": [
        "test_data"
      ],
      "execution_count": 23,
      "outputs": [
        {
          "output_type": "execute_result",
          "data": {
            "text/html": [
              "<div>\n",
              "<style scoped>\n",
              "    .dataframe tbody tr th:only-of-type {\n",
              "        vertical-align: middle;\n",
              "    }\n",
              "\n",
              "    .dataframe tbody tr th {\n",
              "        vertical-align: top;\n",
              "    }\n",
              "\n",
              "    .dataframe thead th {\n",
              "        text-align: right;\n",
              "    }\n",
              "</style>\n",
              "<table border=\"1\" class=\"dataframe\">\n",
              "  <thead>\n",
              "    <tr style=\"text-align: right;\">\n",
              "      <th></th>\n",
              "      <th>audio_path</th>\n",
              "      <th>text</th>\n",
              "    </tr>\n",
              "  </thead>\n",
              "  <tbody>\n",
              "    <tr>\n",
              "      <th>0</th>\n",
              "      <td>test/audio/01_0003_01_1.wav</td>\n",
              "      <td>बास रीसेट कर</td>\n",
              "    </tr>\n",
              "    <tr>\n",
              "      <th>1</th>\n",
              "      <td>test/audio/01_0003_03_1.wav</td>\n",
              "      <td>बास रीसेट कर</td>\n",
              "    </tr>\n",
              "    <tr>\n",
              "      <th>2</th>\n",
              "      <td>test/audio/01_0003_04_1.wav</td>\n",
              "      <td>बास रीसेट कर</td>\n",
              "    </tr>\n",
              "    <tr>\n",
              "      <th>3</th>\n",
              "      <td>test/audio/01_0003_05_1.wav</td>\n",
              "      <td>बास रीसेट कर</td>\n",
              "    </tr>\n",
              "    <tr>\n",
              "      <th>4</th>\n",
              "      <td>test/audio/01_0003_06_1.wav</td>\n",
              "      <td>बास रीसेट कर</td>\n",
              "    </tr>\n",
              "    <tr>\n",
              "      <th>...</th>\n",
              "      <td>...</td>\n",
              "      <td>...</td>\n",
              "    </tr>\n",
              "    <tr>\n",
              "      <th>4670</th>\n",
              "      <td>test/audio/03_2989_07_1.wav</td>\n",
              "      <td>पुण्यातील गणेश विसर्जन मिरवणूक कशी असते मला दाखव</td>\n",
              "    </tr>\n",
              "    <tr>\n",
              "      <th>4671</th>\n",
              "      <td>test/audio/03_2989_08_1.wav</td>\n",
              "      <td>पुण्यातील गणेश विसर्जन मिरवणूक कशी असते मला दाखव</td>\n",
              "    </tr>\n",
              "    <tr>\n",
              "      <th>4672</th>\n",
              "      <td>test/audio/03_2989_09_1.wav</td>\n",
              "      <td>पुण्यातील गणेश विसर्जन मिरवणूक कशी असते मला दाखव</td>\n",
              "    </tr>\n",
              "    <tr>\n",
              "      <th>4673</th>\n",
              "      <td>test/audio/03_2989_10_1.wav</td>\n",
              "      <td>पुण्यातील गणेश विसर्जन मिरवणूक कशी असते मला दाखव</td>\n",
              "    </tr>\n",
              "    <tr>\n",
              "      <th>4674</th>\n",
              "      <td>test/audio/03_2989_12_1.wav</td>\n",
              "      <td>पुण्यातील गणेश विसर्जन मिरवणूक कशी असते मला दाखव</td>\n",
              "    </tr>\n",
              "  </tbody>\n",
              "</table>\n",
              "<p>4675 rows × 2 columns</p>\n",
              "</div>"
            ],
            "text/plain": [
              "                       audio_path                                              text\n",
              "0     test/audio/01_0003_01_1.wav                                      बास रीसेट कर\n",
              "1     test/audio/01_0003_03_1.wav                                      बास रीसेट कर\n",
              "2     test/audio/01_0003_04_1.wav                                      बास रीसेट कर\n",
              "3     test/audio/01_0003_05_1.wav                                      बास रीसेट कर\n",
              "4     test/audio/01_0003_06_1.wav                                      बास रीसेट कर\n",
              "...                           ...                                               ...\n",
              "4670  test/audio/03_2989_07_1.wav  पुण्यातील गणेश विसर्जन मिरवणूक कशी असते मला दाखव\n",
              "4671  test/audio/03_2989_08_1.wav  पुण्यातील गणेश विसर्जन मिरवणूक कशी असते मला दाखव\n",
              "4672  test/audio/03_2989_09_1.wav  पुण्यातील गणेश विसर्जन मिरवणूक कशी असते मला दाखव\n",
              "4673  test/audio/03_2989_10_1.wav  पुण्यातील गणेश विसर्जन मिरवणूक कशी असते मला दाखव\n",
              "4674  test/audio/03_2989_12_1.wav  पुण्यातील गणेश विसर्जन मिरवणूक कशी असते मला दाखव\n",
              "\n",
              "[4675 rows x 2 columns]"
            ]
          },
          "metadata": {
            "tags": []
          },
          "execution_count": 23
        }
      ]
    },
    {
      "cell_type": "code",
      "metadata": {
        "id": "7XiYlA_9wz8A",
        "colab": {
          "base_uri": "https://localhost:8080/",
          "height": 419
        },
        "outputId": "0545b0b1-0066-4d4c-b1f1-c80a7ee3c55d"
      },
      "source": [
        "train_data"
      ],
      "execution_count": 24,
      "outputs": [
        {
          "output_type": "execute_result",
          "data": {
            "text/html": [
              "<div>\n",
              "<style scoped>\n",
              "    .dataframe tbody tr th:only-of-type {\n",
              "        vertical-align: middle;\n",
              "    }\n",
              "\n",
              "    .dataframe tbody tr th {\n",
              "        vertical-align: top;\n",
              "    }\n",
              "\n",
              "    .dataframe thead th {\n",
              "        text-align: right;\n",
              "    }\n",
              "</style>\n",
              "<table border=\"1\" class=\"dataframe\">\n",
              "  <thead>\n",
              "    <tr style=\"text-align: right;\">\n",
              "      <th></th>\n",
              "      <th>audio_path</th>\n",
              "      <th>text</th>\n",
              "    </tr>\n",
              "  </thead>\n",
              "  <tbody>\n",
              "    <tr>\n",
              "      <th>1</th>\n",
              "      <td>train/audio/01_0000_02_1.wav</td>\n",
              "      <td>गाण्याचा थोडा आवाज वाढव ना</td>\n",
              "    </tr>\n",
              "    <tr>\n",
              "      <th>52</th>\n",
              "      <td>train/audio/01_0007_05_1.wav</td>\n",
              "      <td>ब्राईटनेस कमी कर</td>\n",
              "    </tr>\n",
              "    <tr>\n",
              "      <th>103</th>\n",
              "      <td>train/audio/01_0013_06_1.wav</td>\n",
              "      <td>हा चॅनल सोडून नंतर चा चॅनल लाव</td>\n",
              "    </tr>\n",
              "    <tr>\n",
              "      <th>154</th>\n",
              "      <td>train/audio/01_0018_07_1.wav</td>\n",
              "      <td>सरळ डिस्कवरी मराठी चालू कर</td>\n",
              "    </tr>\n",
              "    <tr>\n",
              "      <th>205</th>\n",
              "      <td>train/audio/01_0026_08_1.wav</td>\n",
              "      <td>सेट टॉप बॉक्स बंद कर</td>\n",
              "    </tr>\n",
              "    <tr>\n",
              "      <th>...</th>\n",
              "      <td>...</td>\n",
              "      <td>...</td>\n",
              "    </tr>\n",
              "    <tr>\n",
              "      <th>79204</th>\n",
              "      <td>train/audio/03_2966_02_1.wav</td>\n",
              "      <td>सोमवती अमावस्या म्हणजे काय</td>\n",
              "    </tr>\n",
              "    <tr>\n",
              "      <th>79255</th>\n",
              "      <td>train/audio/03_2971_07_1.wav</td>\n",
              "      <td>श्रावणात कोणकोणते सण साजरे केले जातात</td>\n",
              "    </tr>\n",
              "    <tr>\n",
              "      <th>79306</th>\n",
              "      <td>train/audio/03_2976_12_1.wav</td>\n",
              "      <td>महेश नागरी सहकारी बँक चा पैठण चा पत्ता मला एसए...</td>\n",
              "    </tr>\n",
              "    <tr>\n",
              "      <th>79357</th>\n",
              "      <td>train/audio/03_2982_08_1.wav</td>\n",
              "      <td>आदित्य बिर्ला एसएल इक्विटी फंड डी ची पूर्ण माह...</td>\n",
              "    </tr>\n",
              "    <tr>\n",
              "      <th>79408</th>\n",
              "      <td>train/audio/03_2988_02_1.wav</td>\n",
              "      <td>मूर्तिजापूर ते भुसावळ ट्रेन चे वेळापत्रक</td>\n",
              "    </tr>\n",
              "  </tbody>\n",
              "</table>\n",
              "<p>1558 rows × 2 columns</p>\n",
              "</div>"
            ],
            "text/plain": [
              "                         audio_path                                               text\n",
              "1      train/audio/01_0000_02_1.wav                         गाण्याचा थोडा आवाज वाढव ना\n",
              "52     train/audio/01_0007_05_1.wav                                   ब्राईटनेस कमी कर\n",
              "103    train/audio/01_0013_06_1.wav                     हा चॅनल सोडून नंतर चा चॅनल लाव\n",
              "154    train/audio/01_0018_07_1.wav                         सरळ डिस्कवरी मराठी चालू कर\n",
              "205    train/audio/01_0026_08_1.wav                               सेट टॉप बॉक्स बंद कर\n",
              "...                             ...                                                ...\n",
              "79204  train/audio/03_2966_02_1.wav                         सोमवती अमावस्या म्हणजे काय\n",
              "79255  train/audio/03_2971_07_1.wav              श्रावणात कोणकोणते सण साजरे केले जातात\n",
              "79306  train/audio/03_2976_12_1.wav  महेश नागरी सहकारी बँक चा पैठण चा पत्ता मला एसए...\n",
              "79357  train/audio/03_2982_08_1.wav  आदित्य बिर्ला एसएल इक्विटी फंड डी ची पूर्ण माह...\n",
              "79408  train/audio/03_2988_02_1.wav           मूर्तिजापूर ते भुसावळ ट्रेन चे वेळापत्रक\n",
              "\n",
              "[1558 rows x 2 columns]"
            ]
          },
          "metadata": {
            "tags": []
          },
          "execution_count": 24
        }
      ]
    },
    {
      "cell_type": "code",
      "metadata": {
        "id": "LuKcF-jeVPR5"
      },
      "source": [
        "from datasets import Dataset, load_metric\n",
        "\n",
        "train_data = Dataset.from_pandas(train_data)\n",
        "test_data = Dataset.from_pandas(test_data)"
      ],
      "execution_count": 25,
      "outputs": []
    },
    {
      "cell_type": "code",
      "metadata": {
        "id": "BfijNue25-Hk",
        "colab": {
          "base_uri": "https://localhost:8080/",
          "height": 115,
          "referenced_widgets": [
            "a374a154a4824bfd94eac06420118ad4",
            "da0d7f79dc284bd9af3958d47645a974",
            "369c420431134d3a9471b737c6251daa",
            "f3834e89d72e44ecb3ab02dd767179ee",
            "1fa46406522a4415a38f9aeec333b3ea",
            "6444bde2c188412f91ca9088e04e7a53",
            "260ede4467704d8685d7fbc45ece6fad",
            "6c59084b14754be6b2a04d336dcdb447",
            "891d699583ec4f61a35f17593c85fede",
            "2f625de8b84e472b861a70a3d12fe9c3",
            "b0fed5a001024a4badebecaa84d7ab32",
            "bc9fa08446e64f1f9637a5a9ed189338",
            "300fb552dd274a299efaad067ef1b5b3",
            "abbc48bca7e8424abebeeffc38627538",
            "3f51f50c077d434f9192c34c6e002f3b",
            "8dd80902d82d4b7eb16230386b382f88"
          ]
        },
        "outputId": "a92236ba-0c76-4612-e279-8948f24ff539"
      },
      "source": [
        "def extract_all_chars(batch):\n",
        "  all_text = \" \".join(batch[\"text\"])\n",
        "  vocab = list(set(all_text))\n",
        "  return {\"vocab\": [vocab], \"all_text\": [all_text]}\n",
        "\n",
        "vocab_train = train_data.map(extract_all_chars, batched=True, batch_size=-1, keep_in_memory=True, remove_columns=train_data.column_names)\n",
        "vocab_test = test_data.map(extract_all_chars, batched=True, batch_size=-1, keep_in_memory=True, remove_columns=test_data.column_names)"
      ],
      "execution_count": 26,
      "outputs": [
        {
          "output_type": "display_data",
          "data": {
            "application/vnd.jupyter.widget-view+json": {
              "model_id": "a374a154a4824bfd94eac06420118ad4",
              "version_minor": 0,
              "version_major": 2
            },
            "text/plain": [
              "HBox(children=(FloatProgress(value=0.0, max=1.0), HTML(value='')))"
            ]
          },
          "metadata": {
            "tags": []
          }
        },
        {
          "output_type": "stream",
          "text": [
            "\n"
          ],
          "name": "stdout"
        },
        {
          "output_type": "display_data",
          "data": {
            "application/vnd.jupyter.widget-view+json": {
              "model_id": "891d699583ec4f61a35f17593c85fede",
              "version_minor": 0,
              "version_major": 2
            },
            "text/plain": [
              "HBox(children=(FloatProgress(value=0.0, max=1.0), HTML(value='')))"
            ]
          },
          "metadata": {
            "tags": []
          }
        },
        {
          "output_type": "stream",
          "text": [
            "\n"
          ],
          "name": "stdout"
        }
      ]
    },
    {
      "cell_type": "code",
      "metadata": {
        "id": "XNmV2Tz--QDV",
        "colab": {
          "base_uri": "https://localhost:8080/"
        },
        "outputId": "2c4a5aff-e3d2-42bd-a8ad-4432f308453d"
      },
      "source": [
        "vocab_train"
      ],
      "execution_count": 27,
      "outputs": [
        {
          "output_type": "execute_result",
          "data": {
            "text/plain": [
              "Dataset({\n",
              "    features: ['all_text', 'vocab'],\n",
              "    num_rows: 1\n",
              "})"
            ]
          },
          "metadata": {
            "tags": []
          },
          "execution_count": 27
        }
      ]
    },
    {
      "cell_type": "code",
      "metadata": {
        "id": "Avy_99Wx-sHc",
        "colab": {
          "base_uri": "https://localhost:8080/"
        },
        "outputId": "43d90db8-d5fa-4da1-a189-092db8383107"
      },
      "source": [
        "vocab_list = list(set(vocab_train[\"vocab\"][0]) | set(vocab_test[\"vocab\"][0]))\n",
        "\n",
        "vocab_dict = {v: k for k, v in enumerate(vocab_list)}\n",
        "print(vocab_dict)"
      ],
      "execution_count": 28,
      "outputs": [
        {
          "output_type": "stream",
          "text": [
            "{'ु': 0, 'घ': 1, 'ू': 2, 'ऊ': 3, 'भ': 4, 'े': 5, 'ठ': 6, 'ण': 7, 'ड': 8, 'आ': 9, 'ँ': 10, 'ढ': 11, 'ल': 12, 'फ': 13, 'ओ': 14, 'ृ': 15, '्': 16, 'न': 17, 'ै': 18, 'औ': 19, 'झ': 20, 'ि': 21, 'व': 22, 'ऐ': 23, 'ॅ': 24, 'च': 25, 'ए': 26, 'स': 27, 'त': 28, 'छ': 29, 'म': 30, 'अ': 31, 'ऑ': 32, '़': 33, 'ट': 34, 'द': 35, 'ख': 36, 'ज': 37, 'ब': 38, 'र': 39, 'ह': 40, 'ं': 41, 'ई': 42, 'ा': 43, 'श': 44, 'उ': 45, 'क': 46, 'ी': 47, 'ञ': 48, 'ष': 49, 'ौ': 50, 'य': 51, 'प': 52, 'ॉ': 53, 'इ': 54, 'ो': 55, 'ळ': 56, ' ': 57, 'ग': 58, 'ध': 59, 'थ': 60}\n"
          ],
          "name": "stdout"
        }
      ]
    },
    {
      "cell_type": "code",
      "metadata": {
        "id": "zx7dk48w6G6k"
      },
      "source": [
        "vocab_dict[\"|\"] = vocab_dict[\" \"]\n",
        "del vocab_dict[\" \"]"
      ],
      "execution_count": 29,
      "outputs": []
    },
    {
      "cell_type": "code",
      "metadata": {
        "id": "p7WezdNZBi7F",
        "colab": {
          "base_uri": "https://localhost:8080/"
        },
        "outputId": "486eac21-46e6-4e57-be3f-4408b6762c5a"
      },
      "source": [
        "vocab_dict[\"[UNK]\"] = len(vocab_dict)\n",
        "vocab_dict[\"[PAD]\"] = len(vocab_dict)\n",
        "print(len(vocab_dict))"
      ],
      "execution_count": 30,
      "outputs": [
        {
          "output_type": "stream",
          "text": [
            "63\n"
          ],
          "name": "stdout"
        }
      ]
    },
    {
      "cell_type": "code",
      "metadata": {
        "id": "7XUDSPIhCBah"
      },
      "source": [
        "import json\n",
        "with open('vocab.json', 'w') as vocab_file:\n",
        "    json.dump(vocab_dict, vocab_file)"
      ],
      "execution_count": 31,
      "outputs": []
    },
    {
      "cell_type": "code",
      "metadata": {
        "id": "_Hm7jwy5CH9k"
      },
      "source": [
        "from transformers import Wav2Vec2CTCTokenizer\n",
        "\n",
        "tokenizer = Wav2Vec2CTCTokenizer(\"./vocab.json\", unk_token=\"[UNK]\", pad_token=\"[PAD]\", word_delimiter_token=\"|\")"
      ],
      "execution_count": 32,
      "outputs": []
    },
    {
      "cell_type": "code",
      "metadata": {
        "id": "MbIoi9hfCQyQ"
      },
      "source": [
        "from transformers import Wav2Vec2FeatureExtractor\n",
        "\n",
        "feature_extractor = Wav2Vec2FeatureExtractor(feature_size=1, sampling_rate=16000, padding_value=0.0, do_normalize=True, return_attention_mask=True)"
      ],
      "execution_count": 33,
      "outputs": []
    },
    {
      "cell_type": "code",
      "metadata": {
        "id": "kpIg31gDCkQt"
      },
      "source": [
        "from transformers import Wav2Vec2Processor\n",
        "\n",
        "processor = Wav2Vec2Processor(feature_extractor=feature_extractor, tokenizer=tokenizer)"
      ],
      "execution_count": 34,
      "outputs": []
    },
    {
      "cell_type": "code",
      "metadata": {
        "id": "H7-0WVJFHgqA",
        "colab": {
          "base_uri": "https://localhost:8080/"
        },
        "outputId": "d1685ced-f97c-4486-cfc9-5a6ede889137"
      },
      "source": [
        "# processor.save_pretrained(\"/content/drive/MyDrive/ASR_models/wav2vec2-large-xlsr-hindi-demo/\")\n",
        "processor = Wav2Vec2Processor.from_pretrained(\"./../ASR_models/wav2vec2-large-xlsr-hindi-demo/\")"
      ],
      "execution_count": 35,
      "outputs": [
        {
          "output_type": "stream",
          "text": [
            "Special tokens have been added in the vocabulary, make sure the associated word embeddings are fine-tuned or trained.\n"
          ],
          "name": "stderr"
        }
      ]
    },
    {
      "cell_type": "code",
      "metadata": {
        "id": "LmB_HdcqH3SB",
        "colab": {
          "base_uri": "https://localhost:8080/"
        },
        "outputId": "dba31d4e-c30d-4281-f80b-e310a173ca7f"
      },
      "source": [
        "train_data"
      ],
      "execution_count": 36,
      "outputs": [
        {
          "output_type": "execute_result",
          "data": {
            "text/plain": [
              "Dataset({\n",
              "    features: ['audio_path', 'text'],\n",
              "    num_rows: 1558\n",
              "})"
            ]
          },
          "metadata": {
            "tags": []
          },
          "execution_count": 36
        }
      ]
    },
    {
      "cell_type": "code",
      "metadata": {
        "id": "dzpZDqlI2Kn2"
      },
      "source": [
        "# cd ASR_project/"
      ],
      "execution_count": 37,
      "outputs": []
    },
    {
      "cell_type": "code",
      "metadata": {
        "id": "ieV3z3QcCqO0",
        "colab": {
          "base_uri": "https://localhost:8080/",
          "height": 115,
          "referenced_widgets": [
            "7d3f6d5239244564a015c22d1bcad0bd",
            "4e50951213cf4ea0a44d27ae39eab169",
            "575c84474e054f479ff84d6ebc68a967",
            "ce2c9e52e60b47d6aa7843a595b590bb",
            "6cf6935733d14effb7c9ec11c6f2b451",
            "101fc0530fca4afa8ef8d1af5c98313b",
            "b710bc0804304ae682c66ef3f40bad43",
            "d0ae148dbfe0449eb14336eec9622617",
            "dabedadc31b24a92bcbe437e257b9baa",
            "2f0b45fa79db4b069b50ab43b0c76101",
            "73f3ff94ac034e08b09ef84ea78308cb",
            "caac6c4f949d40c2966e6c401051da4e",
            "acaac87434924710a79b245bc6e0cd7d",
            "610af531fb9f4535aa9a0b56a04e129c",
            "2ebb204decd24dd1939e9796c7de7777",
            "cf1952e929914351853166ce90c0e8b7"
          ]
        },
        "outputId": "26002969-5836-4475-ce04-e556cce06d2c"
      },
      "source": [
        "import torchaudio\n",
        "\n",
        "def speech_file_to_array_fn(batch):\n",
        "    # print(\"------->>>>>>>>> \", batch[\"audio_path\"])\n",
        "    speech_array, sampling_rate = torchaudio.load(batch[\"audio_path\"])\n",
        "    batch[\"speech\"] = speech_array[0].numpy()\n",
        "    batch[\"sampling_rate\"] = sampling_rate\n",
        "    batch[\"target_text\"] = batch[\"text\"]\n",
        "    return batch\n",
        "\n",
        "train_data = train_data.map(speech_file_to_array_fn, remove_columns=train_data.column_names)\n",
        "test_data = test_data.map(speech_file_to_array_fn, remove_columns=test_data.column_names)"
      ],
      "execution_count": 38,
      "outputs": [
        {
          "output_type": "display_data",
          "data": {
            "application/vnd.jupyter.widget-view+json": {
              "model_id": "7d3f6d5239244564a015c22d1bcad0bd",
              "version_minor": 0,
              "version_major": 2
            },
            "text/plain": [
              "HBox(children=(FloatProgress(value=0.0, max=1558.0), HTML(value='')))"
            ]
          },
          "metadata": {
            "tags": []
          }
        },
        {
          "output_type": "stream",
          "text": [
            "\n"
          ],
          "name": "stdout"
        },
        {
          "output_type": "display_data",
          "data": {
            "application/vnd.jupyter.widget-view+json": {
              "model_id": "dabedadc31b24a92bcbe437e257b9baa",
              "version_minor": 0,
              "version_major": 2
            },
            "text/plain": [
              "HBox(children=(FloatProgress(value=0.0, max=4675.0), HTML(value='')))"
            ]
          },
          "metadata": {
            "tags": []
          }
        },
        {
          "output_type": "stream",
          "text": [
            "\n"
          ],
          "name": "stdout"
        }
      ]
    },
    {
      "cell_type": "code",
      "metadata": {
        "id": "SyV7oBxQEXbZ",
        "colab": {
          "base_uri": "https://localhost:8080/",
          "height": 115,
          "referenced_widgets": [
            "3e3770a4c21a4b069a8b4d8ed6487a75",
            "0de0ef138c854d25868e5e0ba78b262b",
            "15f8327823f84bd1b2767960ee70c363",
            "a8b3dd38d83c4cf484bd206bbae9a351",
            "0e87f3707a62486c8b6778ea46606b7b",
            "c8d97492e4d14e6f908d9b5969614e02",
            "006625a061ea48019ced15740b113c7c",
            "fdfd8ad5c2984125b5d4e3cf19d7edf7",
            "9c574a20ca48494087d0d83386582640",
            "30d6b9789a9a4f97908acb5d832b92db",
            "3d409382ad314446a644d5ab5ffb2b62",
            "cea9e235d3b840dc968f354b61d2ea00",
            "19dec7b98b5647989dc2d8bac0a84ada",
            "c658093d648a4aa8bb8aaa60d3c8381f",
            "cd06c69f57eb4a1693fb744a918463c7",
            "5412ad13992a48a690432602cce06d58"
          ]
        },
        "outputId": "551547d3-f2eb-4787-bd8a-f119199bc6b6"
      },
      "source": [
        "import librosa\n",
        "import numpy as np\n",
        "\n",
        "def resample(batch):\n",
        "    batch[\"speech\"] = librosa.resample(np.asarray(batch[\"speech\"]), 8000, 16000)\n",
        "    batch[\"sampling_rate\"] = 16000\n",
        "    return batch\n",
        "train_data = train_data.map(resample, num_proc=1)\n",
        "test_data = test_data.map(resample, num_proc=1)"
      ],
      "execution_count": 39,
      "outputs": [
        {
          "output_type": "display_data",
          "data": {
            "application/vnd.jupyter.widget-view+json": {
              "model_id": "3e3770a4c21a4b069a8b4d8ed6487a75",
              "version_minor": 0,
              "version_major": 2
            },
            "text/plain": [
              "HBox(children=(FloatProgress(value=0.0, max=1558.0), HTML(value='')))"
            ]
          },
          "metadata": {
            "tags": []
          }
        },
        {
          "output_type": "stream",
          "text": [
            "\n"
          ],
          "name": "stdout"
        },
        {
          "output_type": "display_data",
          "data": {
            "application/vnd.jupyter.widget-view+json": {
              "model_id": "9c574a20ca48494087d0d83386582640",
              "version_minor": 0,
              "version_major": 2
            },
            "text/plain": [
              "HBox(children=(FloatProgress(value=0.0, max=4675.0), HTML(value='')))"
            ]
          },
          "metadata": {
            "tags": []
          }
        },
        {
          "output_type": "stream",
          "text": [
            "\n"
          ],
          "name": "stdout"
        }
      ]
    },
    {
      "cell_type": "code",
      "metadata": {
        "id": "ESLWvHYLh7Wh",
        "colab": {
          "base_uri": "https://localhost:8080/",
          "height": 52
        },
        "outputId": "c65fc9f9-6363-48d2-e324-49af841187e3"
      },
      "source": [
        "import IPython.display as ipd\n",
        "import numpy as np\n",
        "import random\n",
        "\n",
        "rand_int = random.randint(0, len(train_data))\n",
        "\n",
        "ipd.Audio(data=np.asarray(train_data[rand_int][\"speech\"]), autoplay=True, rate=16000)"
      ],
      "execution_count": 40,
      "outputs": [
        {
          "output_type": "execute_result",
          "data": {
            "text/html": [
              "\n",
              "                <audio controls=\"controls\" autoplay=\"autoplay\">\n",
              "                    <source src=\"data:audio/wav;base64,UklGRiQuBABXQVZFZm10IBAAAAABAAEAgD4AAAB9AAACABAAZGF0YQAuBAAAAAAAAAAAAAAAAAAAAAAAAAAAAAAA///+////AAAAAAAAAAAAAAAAAAAAAAAAAAAAAAAAAAAAAAAAAAAAAAAAAAAAAAAAAAAAAAAAAAAAAAAAAAAAAAAAAAAAAAAAAAAAAAAAAAAAAAAAAAAAAAAAAAAAAAAAAAAAAAAAAAAAAAAAAAAAAAAAAAAAAAAAAAAAAAAAAAAAAAAAAAAAAAEAAgACAAIAAgACAAIAAgACAAIAAQAAAAAAAAAAAAAAAAAAAAAAAAAAAAAAAAAAAAAAAAAAAAAAAAAAAAAAAAAAAAAAAAAAAAAAAAAAAAAAAAAAAAAAAAAAAAAAAAAAAAAAAAAAAAAAAAAAAAAAAAAAAAAAAAAAAAAAAAAAAAAAAAAAAAAAAAAAAAAAAAAAAAAAAAAAAAAAAAAAAAAAAAAAAAAAAAAAAAAAAAAAAAAAAAAAAAAAAAAAAAAAAAAAAAAAAAAAAAAAAAAAAAAAAAAAAAAAAAAAAAAAAAAAAAAAAAAAAAAAAAAAAAAAAAAAAAAAAAAAAAAAAAAAAAAAAAAAAAAAAAAAAAAAAAAAAAAAAAAAAAAAAAAAAAAAAAAAAAAAAAAAAAAAAAAAAAAAAAAAAAAAAAAAAAAAAAAAAAAAAAAAAAAAAAAAAAAAAAAAAAAAAAAAAAAAAAAAAAAAAAAAAAAAAAAAAAAAAAAAAAAAAAAAAAAAAAAAAAAAAAAAAAAAAAAAAAAAAAAAAAAAAAAAAAAAAAAAAAAAAAAAAAAAAAAAAAAAAAAAAAAAAAAAAAAAAAAAAAAAAAAAAAAAAAAAAAAAAAAAAAAAAAAAAAAAAAAAAAAAAAAAAAAAAAAAAAAAAAAAAAAAAAAAAAAAAAAAAAAAAAAAAAAAAAAAAAAAAAAAAAAAAAAAAAAAAAAAAAAAAAAAAAAAAAAAAAAAAAAAAAAAAAAAAAAAAAAAAAAAAAAAAAAAAAAAAAAAAAAAAAAAAAAAAAAAAAAAAAAAAAAAAAAAAAAAAAAAAAAAAAAAAAAAAAAAAAAAAAAAAAAAAAAAAAAAAAAAAAAAAAAAAAAAAAAAAAAAAAAAAAAAAAAAAAAAAAAAAAAAAAAAAAAAAAAAAAAAAAAAAAAAAAAAAAAAAAAAAAAAAAAAAAAAAAAAAAAAAAAAAAAAAAAAAAAAAAAAAAAAAAAAAAAAAAAAAAAAAAAAAAAAAAAAAAAAAAAAAAAAAAAAAAAAAAAAAAAAAAAAAAAAAAAAAAAAAAAAAAAAAAAAAAAAAAAAAAAAAAAAAAAAAAAAAAAAAAAAAAAAAAAAAAAAAAAAAAAAAAAAAAAAAAAAAAAAAAAAAAAAAAAAAAAAAAAAAAAAAAAAAAAAAAAAAAAAAAAAAAAAAAAAAAAAAAAAAAAAAAAAAAAAAAAAAAAAAAAAAAAAAAAAAAAAAAAAAAAAAAAAAAAAAAAAAAAAAAAAAAAAAAAAAAAAAAAAAAAAAAAAAAAAAAAAAAAAAAAAAAAAAAAAAAAAAAAAAAAAAAAAAAAAAAAAAAAAAAAAAAAAAAAAAAAAAAAAAAAAAAAAAAAAAAAAAAAAAAAAAAAAAAAAAAAAAAAAAAAAAAAAAAAAAAAAAAAAAAAAAAAAAAAAAAAAAAAAAAAAAAAAAAAAAAAAAAAAAAAAAAAAAAAAAAAAAAAAAAAAAAAAAAAAAAAAAAAAAAAAAAAAAAAAAAAAAAAAAAAAAAAAAAAAAAAAAAAAAAAAAAAAAAAAAAAAAAAAAAAAAAAAAAAAAAAAAAAAAAAAAAAAAAAAAAAAAAAAAAAAAAAAAAAAAAAAAAAAAAAAAAAAAAAAAAAAAAAAAAAAAAAAAAAAAAAAAAAAAAAAAAAAAAAAAAAAAAAAAAAAAAAAAAAAAAAAAAAAAAAAAAAAAAAAAAAAAAAAAAAAAAAAAAAAAAAAAAAAAAAAAAAAAAAAAAAAAAAAAAAAAAAAAAAAAAAAAAAAAAAAAAAAAAAAAAAAAAAAAAAAAAAAAAAAAAAAAAAAAAAAAAAAAAAAAAAAAAAAAAAAAAAAAAAAAAAAAAAAAAAAAAAAAAAAAAAAAAAAAAAAAAAAAAAAAAAAAAAAAAAAAAAAAAAAAAAAAAAAAAAAAAAAAAAAAAAAAAAAAAAAAAAAAAAAAAAAAAAAAAAAAAAAAAAAAAAAAAAAAAAAAAAAAAAAAAAAAAAAAAAAAAAAAAAAAAAAAAAAAAAAAAAAAAAAAAAAAAAAAAAAAAAAAAAAAAAAAAAAAAAAAAAAAAAAAAAAAAAAAAAAAAAAAAAAAAAAAAAAAAAAAAAAAAAAAAAAAAAAAAAAAAAAAAAAAAAAAAAAAAAAAAAAAAAAAAAAAAAAAAAAAAAAAAAAAAAAAAAAAAAAAAAAAAAAAAAAAAAAAAAAAAAAAAAAAAAAAAAAAAAAAAAAAAAAAAAAAAAAAAAAAAAAAAAAAAAAAAAAAAAAAAAAAAAAAAAAAAAAAAAAAAAAAAAAAAAAAAAAAAAAAAAAAAAAAAAAAAAAAAAAAAAAAAAAAAAAAAAAAAAAAAAAAAAAAAAAAAAAAAAAAAAAAAAAAAAAAAAAAAAAAAAAAAAAAAAAAAAAAAAAAAAAAAAAAAAAAAAAAAAAAAAAAAAAAAAAAAAAAAAAAAAAAAAAAAAAAAAAAAAAAAAAAAAAAAAAAAAAAAAAAAAAAAAAAAAAAAAAAAAAAAAAAAAAAAAAAAAAAAAAAAAAAAAAAAAAAAAAAAAAAAAAAAAAAAAAAAAAAAAAAAAAAAAAAAAAAAAAAAAAAAAAAAAAAAAAAAAAAAAAAAAAAAAAAAAAAAAAAAAAAAAAAAAAAAAAAAAAAAAAAAAAAAAAAAAAAAAAAAAAAAAAAAAAAAAAAAAAAAAAAAAAAAAAAAAAAAAAAAAAAAAAAAAAAAAAAAAAAAAAAAAAAAAAAAAAAAAAAAAAAAAAAAAAAAAAAAAAAAAAAAAAAAAAAAAAAAAAAAAAAAAAAAAAAAAAAAAAAAAAAAAAAAAAAAAAAAAAAAAAAAAAAAAAAAAAAAAAAAAAAAAAAAAAAAAAAAAAAAAAAAAAAAAAAAAAAAAAAAAAAAAAAAAAAAAAAAAAAAAAAAAAAAAAAAAAAAAAAAAAAAAAAAAAAAAAAAAAAAAAAAAAAAAAAAAAAAAAAAAAAAAAAAAAAAAAAAAAAAAAAAAAAAAAAAAAAAAAAAAAAAAAAAAAAAAAAAAAAAAAAAAAAAAAAAAAAAAAAAAAAAAAAAAAAAAAAAAAAAAAAAAAAAAAAAAAAAAAAAAAAAAAAAAAAAAAAAAAAAAAAAAAAAAAAAAAAAAAAAAAAAAAAAAAAAAAAAAAAAAAAAAAAAAAAAAAAAAAAAAAAAAAAAAAAAAAAAAAAAAAAAAAAAAAAAAAAAAAAAAAAAAAAAAAAAAAAAAAAAAAAAAAAAAAAAAAAAAAAAAAAAAAAAAAAAAAAAAAAAAAAAAAAAAAAAAAAAAAAAAAAAAAAAAAAAAAAAAAAAAAAAAAAAAAAAAAAAAAAAAAAAAAAAAAAAAAAAAAAAAAAAAAAAAAAAAAAAAAAAAAAAAAAAAAAAAAAAAAAAAAAAAAAAAAAAAAAAAAAAAAAAAAAAAAAAAAAAAAAAAAAAAAAAAAAAAAAAAAAAAAAAAAAAAAAAAAAAAAAAAAAAAAAAAAAAAAAAAAAAAAAAAAAAAAAAAAAAAAAAAAAAAAAAAAAAAAAAAAAAAAAAAAAAAAAAAAAAAAAAAAAAAAAAAAAAAAAAAAAAAAAAAAAAAAAAAAAAAAAAAAAAAAAAAAAAAAAAAAAAAAAAAAAAAAAAAAAAAAAAAAAAAAAAAAAAAAAAAAAAAAAAAAAAAAAAAAAAAAAAAAAAAAAAAAAAAAAAAAAAAAAAAAAAAAAAAAAAAAAAAAAAAAAAAAAAAAAAAAAAAAAAAAAAAAAAAAAAAAAAAAAAAAAAAAAAAAAAAAAAAAAAAAAAAAAAAAAAAAAAAAAAAAAAAAAAAAAAAAAAAAAAAAAAAAAAAAAAAAAAAAAAAAAAAAAAAAAAAAAAAAAAAAAAAAAAAAAAAAAAAAAAAAAAAAAAAAAAAAAAAAAAAAAAAAAAAAAAAAAAAAAAAAAAAAAAAAAAAAAAAAAAAAAAAAAAAAAAAAAAAAAAAAAAAAAAAAAAAAAAAAAAAAAAAAAAAAAAAAAAAAAAAAAAAAAAAAAAAAAAAAAAAAAAAAAAAAAAAAAAAAAAAAAAAAAAAAAAAAAAAAAAAAAAAAAAAAAAAAAAAAAAAAAAAAAAAAAAAAAAAAAAAAAAAAAAAAAAAAAAAAAAAAAAAAAAAAAAAAAAAAAAAAAAAAAAAAAAAAAAAAAAAAAAAAAAAAAAAAAAAAAAAAAAAAAAAAAAAAAAAAAAAAAAAAAAAAAAAAAAAAAAAAAAAAAAAAAAAAAAAAAAAAAAAAAAAAAAAAAAAAAAAAAAAAAAAAAAAAAAAAAAAAAAAAAAAAAAAAAAAAAAAAAAAAAAAAAAAAAAAAAAAAAAAAAAAAAAAAAAAAAAAAAAAAAAAAAAAAAAAAAAAAAAAAAAAAAAAAAAAAAAAAAAAAAAAAAAAAAAAAAAAAAAAAAAAAAAAAAAAAAAAAAAAAAAAAAAAAAAAAAAAAAAAAAAAAAAAAAAAAAAAAAAAAAAAAAAAAAAAAAAAAAAAAAAAAAAAAAAAAAAAAAAAAAAAAAAAAAAAAAAAAAAAAAAAAAAAAAAAAAAAAAAAAAAAAAAAAAAAAAAAAAAAAAAAAAAAAAAAAAAAAAAAAAAAAAAAAAAAAAAAAAAAAAAAAAAAAAAAAAAAAAAAAAAAAAAAAAAAAAAAAAAAAAAAAAAAAAAAAAAAAAAAAAAAAAAAAAAAAAAAAAAAAAAAAAAAAAAAAAAAAAAAAAAAAAAAAAAAAAAAAAAAAAAAAAAAAAAAAAAAAAAAAAAAAAAAAAAAAAAAAAAAAAAAAAAAAAAAAAAAAAAAAAAAAAAAAAAAAAAAAAAAAAAAAAAAAAAAAAAAAAAAAAAAAAAAAAAAAAAAAAAAAAAAAAAAAAAAAAAAAAAAAAAAAAAAAAAAAAAAAAAAAAAAAAAAAAAAAAAAAAAAAAAAAAAAAAAAAAAAAAAAAAAAAAAAAAAAAAAAAAAAAAAAAAAAAAAAAAAAAAAAAAAAAAAAAAAAAAAAAAAAAAAAAAAAAAAAAAAAAAAAAAAAAAAAAAAAAAAAAAAAAAAAAAAAAAAAAAAAAAAAAAAAAAAAAAAAAAAAAAAAAAAAAAAAAAAAAAAAAAAAAAAAAAAAAAAAAAAAAAAAAAAAAAAAAAAAAAAAAAAAAAAAAAAAAAAAAAAAAAAAAAAAAAAAAAAAAAAAAAAAAAAAAAAAAAAAAAAAAAAAAAAAAAAAAAAAAAAAAAAAAAAAAAAAAAAAAAAAAAAAAAAAAAAAAAAAAAAAAAAAAAAAAAAAAAAAAAAAAAAAAAAAAAAAAAAAAAAAAAAAAAAAAAAAAAAAAAAAAAAAAAAAAAAAAAAAAAAAAAAAAAAAAAAAAAAAAAAAAAAAAAAAAAAAAAAAAAAAAAAAAAAAAAAAAAAAAAAAAAAAAAAAAAAAAAAAAAAAAAAAAAAAAAAAAAAAAAAAAAAAAAAAAAAAAAAAAAAAAAAAAAAAAAAAAAAAAAAAAAAAAAAAAAAAAAAAAAAAAAAAAAAAAAAAAAAAAAAAAAAAAAAAAAAAAAAAAAAAAAAAAAAAAAAAAAAAAAAAAAAAAAAAAAAAAAAAAAAAAAAAAAAAAAAAAAAAAAAAAAAAAAAAAAAAAAAAAAAAAAAAAAAAAAAAAAAAAAAAAAAAAAAAAAAAAAAAAAAAAAAAAAAAAAAAAAAAAAAAAAAAAAAAAAAAAAAAAAAAAAAAAAAAAAAAAAAAAAAAAAAAAAAAAAAAAAAAAAAAAAAAAAAAAAAAAAAAAAAAAAAAAAAAAAAAAAAAAAAAAAAAAAAAAAAAAAAAAAAAAAAAAAAAAAAAAAAAAAAAAAAAAAAAAAAAAAAAAAAAAAAAAAAAAAAAAAAAAAAAAAAAAAAAAAAAAAAAAAAAAAAAAAAAAAAAAAAAAAAAAAAAAAAAAAAAAAAAAAAAAAAAAAAAAAAAAAAAAAAAAAAAAAAAAAAAAAAAAAAAAAAAAAAAAAAAAAAAAAAAAAAAAAAAAAAAAAAAAAAAAAAAAAAAAAAAAAAAAAAAAAAAAAAAAAAAAAAAAAAAAAAAAAAAAAAAAAAAAAAAAAAAAAAAAAAAAAAAAAAAAAAAAAAAAAAAAAAAAAAAAAAAAAAAAAAAAAAAAAAAAAAAAAAAAAAAAAAAAAAAAAAAAAAAAAAAAAAAAAAAAAAAAAAAAAAAAAAAAAAAAAAAAAAAAAAAAAAAAAAAAAAAAAAAAAAAAAAAAAAAAAAAAAAAAAAAAAAAAAAAAAAAAAAAAAAAAAAAAAAAAAAAAAAAAAAAAAAAAAAAAAAAAAAAAAAAAAAAAAAAAAAAAAAAAAAAAAAAAAAAAAAAAAAAAAAAAAAAAAAAAAAAAAAAAAAAAAAAAAAAAAAAAAAAAAAAAAAAAAAAAAAAAAAAAAAAAAAAAAAAAAAAAAAAAAAAAAAAAAAAAAAAAAAAAAAAAAAAAAAAAAAAAAAAAAAAAAAAAAAAAAAAAAAAAAAAAAAAAAAAAAAAAAAAAAAAAAAAAAAAAAAAAAAAAAAAAAAAAAAAAAAAAAAAAAAAAAAAAAAAAAAAAAAAAAAAAAAAAAAAAAAAAAAAAAAAAAAAAAAAAAAAAAAAAAAAAAAAAAAAAAAAAAAAAAAAAAAAAAAAAAAAAAAAAAAAAAAAAAAAAAAAAAAAAAAAAAAAAAAAAAAAAAAAAAAAAAAAAAAAAAAAAAAAAAAAAAAAAAAAAAAAAAAAAAAAAAAAAAAAAAAAAAAAAAAAAAAAAAAAAAAAAAAAAAAAAAAAAAAAAAAAAAAAAAAAAAAAAAAAAAAAAAAAAAAAAAAAAAAAAAAAAAAAAAAAAAAAAAAAAAAAAAAAAAAAAAAAAAAAAAAAAAAAAAAAAAAAAAAAAAAAAAAAAAAAAAAAAAAAAAAAAAAAAAAAAAAAAAAAAAAAAAAAAAAAAAAAAAAAAAAAAAAAAAAAAAAAAAAAAAAAAAAAAAAAAAAAAAAAAAAAAAAAAAAAAAAAAAAAAAAAAAAAAAAAAAAAAAAAAAAAAAAAAAAAAAAAAAAAAAAAAAAAAAAAAAAAAAAAAAAAAAAAAAAAAAAAAAAAAAAAAAAAAAAAAAAAAAAAAAAAAAAAAAAAAAAAAAAAAAAAAAAAAAAAAAAAAAAAAAAAAAAAAAAAAAAAAAAAAAAAAAAAAAAAAAAAAAAAAAAAAAAAAAAAAAAAAAAAAAAAAAAAAAAAAAAAAAAAAAAAAAAAAAAAAAAAAAAAAAAAAAAAAAAAAAAAAAAAAAAAAAAAAAAAAAAAAAAAAAAAAAAAAAAAAAAAAAAAAAAAAAAAAAAAAAAAAAAAAAAAAAAAAAAAAAAAAAAAAAAAAAAAAAAAAAAAAAAAAAAAAAAAAAAAAAAAAAAAAAAAAAAAAAAAAAAAAAAAAAAAAAAAAAAAAAAAAAAAAAAAAAAAAAAAAAAAAAAAAAAAAAAAAAAAAAAAAAAAAAAAAAAAAAAAAAAAAAAAAAAAAAAAAAAAAAAAAAAAAAAAAAAAAAAAAAAAAAAAAAAAAAAAAAAAAAAAAAAAAAAAAAAAAAAAAAAAAAAAAAAAAAAAAAAAAAAAAAAAAAAAAAAAAAAAAAAAAAAAAAAAAAAAAAAAAAAAAAAAAAAAAAAAAAAAAAAAAAAAAAAAAAAAAAAAAAAAAAAAAAAAAAAAAAAAAAAAAAAAAAAAAAAAAAAAAAAAAAAAAAAAAAAAAAAAAAAAAAAAAAAAAAAAAAAAAAAAAAAAAAAAAAAAAAAAAAAAAAAAAAAAAAAAAAAAAAAAAAAAAAAAAAAAAAAAAAAAAAAAAAAAAAAAAAAAAAAAAAAAAAAAAAAAAAAAAAAAAAAAAAAAAAAAAAAAAAAAAAAAAAAAAAAAAAAAAAAAAAAAAAAAAAAAAAAAAAAAAAAAAAAAAAAAAAAAAAAAAAAAAAAAAAAAAAAAAAAAAAAAAAAAAAAAAAAAAAAAAAAAAAAAAAAAAAAAAAAAAAAAAAAAAAAAAAAAAAAAAAAAAAAAAAAAAAAAAAAAAAAAAAAAAAAAAAAAAAAAAAAAAAAAAAAAAAAAAAAAAAAAAAAAAAAAAAAAAAAAAAAAAAAAAAAAAAAAAAAAAAAAAAAAAAAAAAAAAAAAAAAAAAAAAAAAAAAAAAAAAAAAAAAAAAAAAAAAAAAAAAAAAAAAAAAAAAAAAAAAAAAAAAAAAAAAAAAAAAAAAAAAAAAAAAAAAAAAAAAAAAAAAAAAAAAAAAAAAAAAAAAAAAAAAAAAAAAAAAAAAAAAAAAAAAAAAAAAAAAAAAAAAAAAAAAAAAAAAAAAAAAAAAAAAAAAAAAAAAAAAAAAAAAAAAAAAAAAAAAAAAAAAAAAAAAAAAAAAAAAAAAAAAAAAAAAAAAAAAAAAAAAAAAAAAAAAAAAAAAAAAAAAAAAAAAAAAAAAAAAAAAAAAAAAAAAAAAAAAAAAAAAAAAAAAAAAAAAAAAAAAAAAAAAAAAAAAAAAAAAAAAAAAAAAAAAAAAAAAAAAAAAAAAAAAAAAAAAAAAAAAAAAAAAAAAAAAAAAAAAAAAAAAAAAAAAAAAAAAAAAAAAAAP//AAABAAAA//8AAAEAAQD/////AQACAP///P8CAAkA/v/c/7r/tf/R//7/KQBVAIAAoQCqAJoAegBUACoA/v/Q/6f/gf9m/1//c/+Z/8H/3f/l/9v/yf/C/9D/7P8AAAQACwAiAEkAdQCdAMcA+AAnAT8BJgHTAGAA+P+w/3P/J//S/pn+lv7H/h7/jv8EAHAAyQAGARgB7ACRACwA2f+S/1T/KP8L//L+6v4X/33/5/8nAFEAigC1AKAAYQBJAF8ARADW/5H/8v90AI//IPzX9hjyN/Cx8SD12PhP/NX/dwPDBo4JEAz1DUMOEw3ZDKEQxBj1IcwnqScyIVcV6wWm9U/nntwD1irTVNPF1fnaAuVN9YIJxhvnJucp8CblHzMVmwdg+ers9+Lz2vHUrtJe1pTgR+/O/uML7RSyGaYavhhaFV0ROgyxBNb6w/AI6cvk7uMc5r7qHvAJ9Nv1QPdA+tb+OANXBj8Jmg0wE7MXfhlWGrMerSk9Oa9G50quQtkvPBff/UDnM9WOyJ3B779Zwi3IqNIo5LX8aBdnLCo2pDRuK+8d8A34/BTtx98L1X3MUMdMyG/R1uH69aoJrhkPJAAoKia7ICEaKhOQCuX+4fCI4wPawtWY1rvb8uMb7bj0nPmz/Lv/fgO4B04MphE6F8saZxqrFycYDiHmMZBD7EzpSOg4YyLsCun1rOSL14XORslFx2rI3M2Z2WXsiQMeGTcnYisqJ8YdxxG0BJ/3MuuE37rUOcymyFDMiNdo6Lf77Q3oG8IjjSUCIx0eqxc3Dy0EFPe76XHeD9eT1CbXGt7M5/bxkvqlAEAEFQZ5B2sKjBAQGScgoSE1HfYX4BgUI+Qy/z/MQrg44iReDav3x+Z+21nV7tIm0rnRB9O22WfoXv26EikifShTJlMeXRObBzb8UPGZ5izcHtM/zXbMIdJ63gvwkwPiFH0gHiXuI0Uf3BgDEWsHffyu8Z/oPOLQ3oregOEk5xvuy/T7+SP9jP6C/xoC/Ae8EGYZNB6hHVYa3RmTINgtzTsCQxg/wDAzHEgGsfKv4xbaEtWG0qrQ6M/r0oDc1+ykALUSox6aImwfcxc7DY0CNfhE7rXk59vJ1M/Qr9HF2C/mCPiHCmAZryE6I+wfGBoBE9sK2QHO+M3wfuoW5uTjc+T6577tNfSv+Qj9Ff7v/b/+sgJUCo8TmRqeHGAacBg5HJ8ntDa+QUlCHzcpJP8Oqfvb6/XfxteW0mjPB87azynXDuW998gKVRmEIHUgVxuLE2IKLwAh9ezptt+p18zSLdLp1pvhY/FnA5UTZx6bIoAhgh03GJoR8ghq/ovzX+oy5Ezhe+F+5MnpOPBY9gr75f03/xQAWwLpB/oQ9hptIWshkBzVGGcciijZN6lB3T90MmEedAlN9w3psN7N13nTndAfz73QF9hL5i/53AtJGeMeWh1IFxsP+AUR/KHxaudo3m3XTNNF09/YyuSE9RoH3BT2G/gc2Ro4GFkVoxDZCLn+jfSC7JPnsuVp5hLpuOw08Kjy4PN49Mv1rfmFAegMyBi8IBUijB7QG40fzyqWOP1AiD5XMRIeOQoi+Yzr/eDl2OXS5c6NzYHQc9ls6Mr6IAyFGGAejR70GgAVHQ1LA/n3TOzI4cDZJ9W/1CrZceJF79z8GAg/D9ASmBS0FXIVKxI5CwECJPmz8iHvkO3O7BLsLut86pPq7+vD7kvzNfo+BO0QiB3/JcInWCQbIZwjNi2BOSBBvz40Mq4fTAxL+3vtWuI02a/RK8z3yerMPdZC5S/3OQhOFScdKCBSHzsb6RNzCbb8W+9H4+7ZM9Sp0sLVb92A6J/0UP9sB5UN+hKcF+UZFxgfEukJ/AHa+2/3sPOF74/qh+UE4pPhteS56rXya/wLCNIUICCaJtMmUiOfIVUmOjHSPBVCQT3IL0geBQ3z/RbxzuWy2+3ScMznyQfNc9b15Kn1EwWfEIUXfxqHGsoXxhFeCKj8uvCy5sjfFNwG2x/cVN+65Ovr8fPZ+zcD7AlwD60StxKoD7MKbgXTAMf8UviV8sfriuUU4sTiR+cc7u31jv6MCLIT7h0ZJIQkHyHOHtghTSquM0o4RTXaK3ofChOkBxj94/LK6BXfxNZ80fTQDdYd4PbsxPlVBOcL1hCIE6cTcxDDCZMAtPbw7WznZeNm4d/gs+FL5BjpBfBh+CIBGAkODykSXhKEEMsN8grVB5UDSv3n9MLrOOR04EDhvuU67HTzWvuIBNsOdRiuHoogZSCGIoIpuzN7PHo/kDt4Mrsm9RmaDKL+NfD94TLVeMuCxn/Hg85E2nHoj/bPAnkMfxPPF+0YPxa/D3MGPfz78q3rLubD4Rney9sM3MHf2uZS8Kb6PgS9C1UQIxIXEkQR/A+FDckIcQGN+Enw2OpX6VvrfO9o9K/5oP9ZBv8MGBLtFJ4WpRnhH+Io/zEYOEo5bTVqLXEiphX0B/L58uuC3u7SHcuvyAfMCdTA3lHqivXa/+MIHRC2FOEVTxOVDRsGef6g94fxmOuh5Xngv93k3irkXeyA9dX9fARkCeMMUQ/EEMoQgw49CVoBmPhW8Vnt+uxA77LySfbr+SD+HQMWCLALXg1jDjgRrhd4ITEsxTTuOO43YTKmKRsfhBPmBhf5q+pz3enT1s9S0d7Wbt6B5nzuVfbz/dcEHArXDJ0M5QncBbwBBv42+mn1ZO846dHku+Mq5vXqe/CP9d35t/2qAfkFKQoHDTcNLgrABOL+o/oq+UL6rfwR/84AQQIhBIoGrQiYCXgJBQptDaAUfx6TKHAwnzS1NP8wMyoOIfwVEgma+qbrHt7502POWc30zw3Vxdu045rs7/W0/r8FQQoODJULiAl4BpMCs/3M92nxu+sa6EXn9egX7IjvwPL19ab5+f12Aj0GXwg1CLoFwQHV/Yb7pfvy/XEB+gS8B4EJjgolCwsLxAl5B54FUQbgCswSKBy7JOcq3S2PLYkqhSXWHjwWZAu7/rnxXOY63uDZ0dgU2uncF+Go5m7t2fQ5/PICYgi/C2AMNQrhBU0ASfqR9OXv0+xj6y7r4OuQ7YDwkPQT+Sj9MgD+AZEC/AFoAEv+Y/yC+zH8e/72Ae4FlwlTDM8N8w24DF0KyAeJBgEIXQxrEn4YaB3IIJsi7SK3IdkeAxrjEqAJKP/q9E3sH+Zq4pjg698B4ADhSOMA5/Drq/Gi9xD9GQE5A4QDdwJ/AOT9//pS+Eb25fQL9MDzP/Sc9Xn3N/lz+j/73vte/I38R/zH+5/7Zfxm/oABOgXcCL8Ljw1dDmAOuw2dDIcLQQtVDKUOkRGLFGoXLBqbHEIeqR6DHawaGhb8D9UIcAGc+tX0HfAj7KDoq+Wy4y/jWOQX5xDro+/z8yz38fh7+VP56vh9+DT4KvhS+H74ovj3+Mv5Ffth/Cn9SP37/Ir8BPxM+2r6svmv+eH6bv0EAQYFzgj1C1EOzg9mEDgQkA/IDhQOiw1VDbsNCw9YEWkUuReZGlEcXByNGhEXTBK+DPoGhQGe/CD4v/Ns74XrmugL59fmuedR6S7ry+y37dfthu1W7bvt0+548GbyVvQX9qr3O/n6+tz8mv7k/4QAbQCt/2X+3Pxu+3/6ZPpM+yL9jv8nAqcE9Ab8CJoKoQv9C8ELEgsgCigJhgioCOgJVAyQD/gS6RX2F/QY0xiQFzgV5hHGDRwJUwTl/xb83fgI9ofzfPEK8Cjvse6P7r/uKu+T77Tvi+9v797vI/EZ81H1X/cO+Vb6Pvvb+1T8zfxF/ZL9jv1D/er8vvze/FX9KP5a/9wAjAI2BLQF+gYRCPEIdwmJCToJyghxCD4INQhsCAkJEApVC5QMng1VDp8Obg7QDeMMrQsKCu0HmAV6A9ABZADT/vL86Pro+PL29vQP83bxRPBd77Luce7O7qzvpPBk8Qfy6PJA9Pv11/eh+Tj7ffxb/en9d/5U/44A4AHvApcDCwScBHYFfgZ1ByUIcwhkCBIIpwdJBwsH4AaeBiYGfwXfBH0EaASKBM8EPQXMBVUGtQb0BjwHogcQCGkImgh/CO8H8AbNBcwE0QOIAtUA9v4t/X771fk6+Mn2ifV99LbzN/PV8mvyIPI28p7y+/Iw85rznfQb9rf3VPkb+//8r/4LAFgBwgIIBNEENgWaBRkGawZPBtcFOQWaBB8E8wMGBPwDkgP9ArIC1wI0A6gDWARhBYsGiwdTCPsIZAk4CVII+wafBXoEhgOoAsoB4QD8/zz/uv5d/v/9qv2S/c/9Jf5A/gH+iv0F/YD8//uI+x77tvpG+tj5dPkb+dv45/ho+UX6JvvK+0X8zvxz/RP+mf4T/4v/6/8bACIAEgAAAAUAPQCVAMAAkAA6ACAAUQB4AGgAagDiAMYBugJ/AxYEdgR2BCUE6AMJBE8ENwSZA8cCGQKdATkB6wCzAHUAIADk//r/SwBkAPL/Jf9x/hb+9f3W/ab9Zf0Y/df83fxU/Rn+1/5k/9X/PQB6AGAADQDN/73/qv9l/wD/o/5M/un9lv2Q/dT9C/75/df9D/7C/q7/gQAiAY0BtQGhAX0BewGQAYgBUgEdASEBUQFsAVUBNAFIAaQBJgKbAuIC5gKqAlYCLwJSAogCdgL/AWYB/QDFAHoA9v9P/8D+b/5j/pX+6v42/1n/V/9L/z7/Kf8L/+j+vv6N/nP+l/7t/jD/Mv8b/y//Yf9c//H+YP4M/g/+QP6H/vH+dv/h/w8ALgCCABYBrQEMAi0CJQIBAssBlQFuAU0BIAHtAMoAwgDMANIAwwCJABoAkP8q/x//bP/c/y0ARAApAPr/0P+x/5X/d/9b/0v/Rf9K/1r/bf9t/0//NP9O/6P/9/8FAMv/ev9F/z3/Uv9v/4X/kv+o/8r/3//H/4X/Pf8D/8j+iP5u/qb+IP+j/wkAXgCbAJcAOgCy/0r/HP8T/zD/mP9aAD0B6wFCAl4CVwIqAtABYAH1AJQAMADV/6P/qf/M/93/wf+K/1r/Sv9U/2L/bf+H/8f/JgCAALsA3gAEATUBXgFmAUIB5gBLAIn/2f53/nD+n/7a/hb/ZP/W/1oAvQDOAIoAJADW/6j/if91/4D/q//T/9X/vP+n/6L/qP/C//7/SQB7AIUAjQCwANkA3gCzAHQANQAAAO//IgCXABIBTwE1Ac0AKABn/8f+kf7c/nj/GACGALAAlgBDAM7/Xf8a/xb/Rf+G/87/IgB/ALYAngA9AM7/ev9F/yj/Lv9c/4//mP98/3T/r/8bAIgA0gDsANEAhwAuAPL/4P/q//v/FwBPAKIA8gAYAfoAmQAPAIT/Fv/a/tT+9/4o/1z/qv8mALsAIQEcAbMAHQCU/zf/Hv9P/7f/IwBwAJIAiABKAOD/eP9K/2P/of/m/zsAqAD7AOUATAB5/9j+pv7U/jb/sf8tAIwArgCbAHsAZQBOACoADAARADEAPwAVALb/SP/3/ur+OP/Y/5cAMQFxAUABpwDX/yT/4P4b/6b/SgDvAIIB2gHIAUwBkgDQ/yr/vv6n/uL+Rv+n/+7/HAApAP3/i//u/mj+QP6Z/lP/FQCYANYA9AAMARUBDAEFAQ0BDgHuALMAcAAaAI//0P4k/uH9Hv6w/l//CQCeAAMBGQHcAG8ADgDo/wEARQCPAMIAzQCmAFkA+f+b/1T/Of9g/8f/QgCZALAAjwBNAAQA1P/X/wUANAA7ACcAHgApACgA/v+5/3b/NP/k/pL+dP62/k3/AQCdAAwBRgFBAfUAdADl/3L/OP8//4b/+v91AM0A4wCzAFEA3f9//13/ff/I/xQAPQAsAO7/sf+//zUA3gBNAToBtAANAJT/av+L/9X/GwBAAEcASABNAEwAQAAwAC4APwBcAHIAYwASAIv//f6T/k7+Hf4O/k3+3P58//b/TgCnAPQAAwHOAJoApADZAP8ABQEQATUBWwFhAUEB/AB7ALT/zf4d/tz9AP5V/qb+3f4Q/3X/KwAJAaMBpwEqAZEANwAsAFEAegCKAHkAXgBkAJ0A2ADRAHYAAgC1/5D/Y/8S/7P+cv5s/qL+//5g/6b/yv/n/xQAQAA/AAAApv9v/3z/xf8lAHUAlAB5AEIAGgAUABwAGAAHAAAABgANAAYA9v/f/73/h/9R/0D/Y/+g/9L/8v8hAHcA2QARAfoArABkAFAAZwB4AFcAEADd/+r/KwBfAEUA1f9F/+X+2f4L/0D/YP+J/+r/fAD1AP4AkAD1/4L/XP98/87/OgCbAMUAswCSAIkAggBFAMH/Nf/6/ib/e/+x/7r/xf/8/1UApgDCAJoARgD1/8z/0//p/+z/2P/P/+//OACJALEAhAD8/0//3/7q/l7//v+sAHABLwKHAh0CAgG7/87+b/56/sL+PP/j/5IABgEDAYEAtP/y/oj+hv69/u/+Af8Q/0r/vv9NAMkAFgE2ATkBJwHxAIcA+P96/0n/c/+6/9L/qv+B/6X/KwDjAIMBygGTAd4A3//r/kv+D/4j/nr+D//F/18ArgC7ALUAxgDqAAYB/wDQAIEAIwDO/5b/jv+2//7/TQCSAMEAzACmAE4A3v+G/27/kv+1/4j/6P4G/lL9Jv2S/WL+Wv9MABcBmAHBAaUBaQErAf8A9QAHAQ8B4ACBACsADwAdACEA/f+9/3//Vf86/xv/4/6d/pD+DP8YAEgBBQILAoQBzAAdAI//N/8t/2r/x/8jAIYA+ABWAVYBzwDu/xT/jf5m/ov+5/5j/87//P/0//T/KQCCALoAlQAMAEv/j/4g/if+kv4k/6f/FQCGAPQARgFyAZgByAHbAYgBtwCl/7r+Rv5W/sP+Uf/N/yYAbQCnALgAhgArAPT/FgCCAPwAVAFtASIBVAAj//n9T/1i/Sn+aP/HAOwBqgIWA1EDPAOEAhoBbP8V/mD9Mv1Y/cT9Y/4E/33/1/8wAHoAiQBuAHsA1QAqAfcALQBS//D+Bv8q/xv/Df9d/xQA4ABVAUsB3wBPANT/if9v/2z/bP93/6f//P9MAGoAXABkALgAQQGmAZ4BKwF/AML/+P41/q39oP0c/vf+8//nAMIBcALWAtECTAJNAQsA5P4j/tH9x/3z/Xb+Yf93AEsBngGJAUQB2gA2AF7/ff7Q/YP9tP1h/k3/GQCKALMAwQC7AIAAEACs/5H/wf8GADcAVQBpAG8AZABfAH0ArQC/AJQARAD3/6n/Tv8J/zX/+P/uAGkBGwFhANn/wv/n//7/+//x/+n/7f8ZAIQAAQE0AeoASQCe/xv/yv6r/sL+CP9k/8D/DgBKAG4AhgChAMMA0gCmACYAWP9m/pr9Ov1a/d79pv6x//wATAIxA1wDzAKxATIAeP7j/P37GfwM/VP+iP+SAHsBKAJqAkQC+AHJAakBWQHOAFoAUgCaALEANwBa/53+Yv6h/hj/jv/o/xkAIgARAAAAAAAaAEwAjQDPAAgBNgFPATYB1AA4AJX/F//O/rr+1f4V/2L/qP/o/x0AOwA7AEwApwBBAbcBpQEJATcAfP/Y/i3+hf0o/Wj9WP6p/9IAagFsATIBEAETAQ0B5gC/AMQA6wDuAIQAq/+o/uH9nP3e/Xv+K/+2/xIAXgC0AAMBIwEYAR4BXwGqAZIB5QD2/0j/JP9k/63/xP+t/4//if+U/5L/dP9U/2v/4/+xAJYBLgIsAo8BqwDg/zv/g/6X/bb8V/zE/On9dP//ADUC6AIhA/sCcgJuAQkAtP7m/cX9Df5n/q7+9/5h//D/hQD2ACUBGgHzAMgAmgBnADkAGQAAAN//t/+g/7j/FwC+AHkB7gHYAUIBdwC3/xD/if48/jz+df7H/jT/0/+UAC0BTgHoADwAov9R/0b/U/9H/xr/9f4A/0r/zP9qAOYA4gAxACP/WP5G/tT+kv8mAIsA4wA7AXsBgwFSAQUBsQBHAK3/+f5+/nz+2f5B/5T/AwC7AJUBOAKAAosCcgIYAlkBSgA1/07+q/1R/Ur9kP0E/pX+W/92AMUB1gI2A8YCygGtAMT/L//r/uT+Cv9Y/8T/KQBJAP7/Y//P/pL+uf4X/3n/1/9LAN0AZAGkAYUBKQG4ADMAgv+t/vD9i/2L/dj9Y/4p/xUA7AByAaoByQH5ASACAQKNAQsByQCxAFMAb/9d/s79Ev64/hL/4P5//nD+4v6h/1UAzgAaAYMBTgJpA2oE6gTiBJcEKwRQA4YBm/7k+hr3+vML8p/x0PJ49UD51v0GA4QIgg3cEM0RjRACDuoKcweeA77/Vvy8+QT4LPcm9633X/gc+SX6uvu4/bj/fQEUA48ExgVzBmgGrAVkBLYCrwBd/vT78fnh+BD5VPo9/E/+NAC9AeQCvANOBH8EKQRPAzUCOQGJABEAjP/H/tL96/xX/Dz8lvxG/RT+zv5l/+7/cwDXAPEAyACNAGAALgDk/53/iP+q/9j/AABCAMQAbQHoAesBagGaAMz/NP/S/oT+R/5M/sT+mf9vAPwAQAFlAXMBRgHFAA4AW//X/pX+k/6+/ur+9f7v/g3/b//9/4IA5gAzAW8BkgGWAXkBOQHUAF4AAADC/3v/Av9y/hf+H/5y/t/+Xv/1/40A9wAWAf0AywCbAIAAggCEAFcA+f+x/9f/bAAXAX0BjQF1AVwBOwH0AHcA3P9h/0z/sv9ZAOAABgHVAH8ALQDk/5r/Tv8I/83+pP6a/rv+B/9v/9z/QACQAMMA0gDCAKIAegBNABoA6//H/7L/rf+5/9H/3/+//13/xv4r/s793v1Y/vX+Yf9//3r/l//t/1wAvQD4AAoBCQEmAYEB8AEUArgBHwG+AMYACwFJAVkBGQFjAFX/aP4c/nP+8P4u/z7/XP+M/6T/qf/d/2IADAGLAb4BrAFOAZEAlv+//l/+ZP5m/hT+g/0Y/SL9j/0G/kP+VP58/uL+b//6/3MA4gBAAXoBmQG+AesB5QF5AcMAIQDV/87/3f/5/yoAYQBvAFYAXwDMAH0BBQIfAuQBlwFLAecAbgAYACoArABeAe0BHALhAVYBrwAbAK//Xf8K/6j+Sf4Q/gb+/f2t/fn8K/y++/X7nfw9/YX9f/1s/Yb93v1m/gb/pP8wAK4AHgFnAVYBywDy/zL/6/4f/4L/x//U/7T/df86/1n/NgDXAbcDIwXKBdMFlAVCBQIFEQWiBZUGdgfdB8EHZAftBjwGIAWoAxUCiQDm/hX9Tfvp+fr4L/g/90r2ufXM9Wj2UfdW+Er5/flm+sX6Yvs1/PX8fv0F/rz+cv+0/1P/pf4h/u/90/2X/Uj9GP0V/R79N/3A/Tv/xQHXBLYHLwqmDHAPQBJxFMQVlBYyF1kXjRbPFJoSHhDfDE4ImQKf/CL3RPLj7SLqXee45e/kseT+5BTmJ+hI62TvO/Q9+br9TQEXBG4GZwjGCWwKjQptCvkJ0AixBrUDKQBV/IH4C/VF8kjwCu+S7gnvi/AY85729vrK/8kECwoGEN8W3x3SIwkopir6K8crdinVJGUe5hbfDpAGOf4t9r/uIuh04t7dk9rF2IDYrNkh3L3fT+SL6SfvD/VK+6ABjAeQDI4QkxNlFaEVRBTfEREP8QsnCJADgP53+cj0nfAx7dPqqumM6SrqZOtZ7RzwaPO+9un5PP0LASgFFQnwDKwRCxiBH20mfyuTLh0wJTAnLtUpgCPVG1UTRQrjAJL34u6K5x3iq9693M3bytv63GbfsOJ55sfqu+8N9RL6T/7cAR0FPwgNCzINfw7eDjUObQykCUQG0QKe/6n8x/nj9hD0dfFL7+vtou1W7njvhfCE8eby2fQF9w75IPu5/e0ASASCBzsLmBAgGAIhgSkHMM0ztzTXMkUuUCegHvQUwwokACz1X+rJ4IzZRNXB013Ui9YK2qbe+OOc6Yjv4vVo/DMCVgamCM4JkQo3C5wLjAvhCnoJQQdgBD0BSv7S++j5XvjW9gX1B/Na8YXwqPCF8dXyevRi9kn4y/m++nr7qfyw/kgB6QOpBrgKsREsHN8oHzVPPvVC0UJHPvU1uCqxHekP1QF48xfl49evzenH08aUyfjO/9X03T3mTe7a9fH8rgPNCYMO7hDLEMEO6AsOCWgG3ANuAUf/av2m+9r5R/h99+X3UPnm+qz7IfuZ+fb3Bff89oX3K/i1+BL5IPm/+DX4Sfi3+W/8n/++ApwGCg0/F2QkszH/Oz5B60B6O7wxwiTtFaIGvPdY6YvbSc+SxlzDRMYfztbYhOTl7yH6lQL+CKUNGRGJE2EUphLhDc0GM//k+Mv0vvIc8mTyTfON9N31SfdH+Uz8IQDBA9oFsQWbA8YAZv4B/VD8v/v5+gH63fh79wv2TfUm9sH4Qfy3/4UDoAn5E3giXTKmPyNHhkcRQeE0qiSoEhoBVfFg46/WdMsxwwDALsNTzInZVOh19kECwQrIDxES2hIRE4wSHhClCjsCj/gR8LPqJ+nc6o3u3vLT9hj6+/wgAA0Epwj2DGIPgA4QCmYDtvy+99v0QPPz8Xfwy+4k7fnrMezG7ufzhPoSARQH3Q2WFzwlPTXlQ0pNE08GSWE8BSssF0cDdvGs4pHWd8ymxKPAH8KWyeDVxeTx83kBBAzQEuYVEhaAFO8RLA5cCAcAC/aP7O7lhOM75fXpMvCS9i/83AAhBaoJlA4CE2MVOBT/DroGp/0k9njxUe9l7o/tb+xI65zqCOtD7cTxI/j5/tMEsAmGDwEZKicDOElHulAKUilLcT3aKsIVtwDT7QDeD9Gsxl+/qbwSwOnJvdjn6ar6AgnME3Ua4xyZG6oXHhJMC98Ct/jM7TbkNd4L3YTgSOec7/X3U/9iBW8KBg9oEwQXdxg6FrIP3gUs+0vy3OzE6q3qJOty66vrOuye7WbwGPWW+7kC1AggDdIQkhaAIEUu5TxFSCNNFUp0P9MumhqbBVXyKuI31RLL0MOFwKPC4Mph2OPomPkdCP0SmhnpG04amxXhDvwGQP6v9M7qI+LR3Gbc5+Di6GDyx/svBC4LoBCZFEIXhxjGFwQUrAx4ApX3oe476Urnf+eM6N7peuuA7QnwYPMJ+DX+MAV0C8YPjhIFFrwceCc4NEE/IEUIRNU7ky1BG6EHivXM5rzbs9MxzonLt8yL0uDcSuqN+HMFcQ+kFZsXYRXMD1YIWwBp+Gnwe+iM4SPdn9yO4GLok/JG/QsHLQ9XFSMZQBrjGLoVRRFUC38DJPrN8IDpk+UG5bzmW+ka7PjuU/JD9ob63/5eAxAIdQzGDwMSqxT5GQYjcS7mOAE/6T59OJwspxyXCu348unI3j3Xm9Kj0NTRzNZ638Pq3/YCAuEKpxDBEuwQogs/BGv8MfW77uzoJeRr4dTh5eU77Z/2dwBtCcQQIRYgGWAZFhc/E9sOAgr2Az78nPPX66jm0eTu5eTojew+8O3zyvfK+6v/VQP3Bo8Kog2xDzIRxRM5GQIiiyzUNeI68znbMq8mQRe0Bib3MeqA4NHZqNUH1IvVs9oi45ftcvhBAtYJLw6jDkMLBgV9/Sf27e8N63znZuVh5R/o3O3y9Q3/zAdBD+cUSxj4GNMWgRIuDd8H1QKj/cf3XfFV6xDnmOXv5iLq/u3P8X/1IPmf/Ob/IAOcBlwK7w27EJUSNRQQF3scdyQfLV4zmjTrLwgmjBhtCd362O5f5h7hJt4G3QnekeFp58Dug/aQ/cwCYAUMBTwCxP2b+Lrz5+937U3sL+w47dXvWPSK+pMBVgjkDcsR/RN0FBQT8w+yC1EHcQPJ/3X79fXW73HqEudQ5u3nOuuD70/0V/lK/scCnQb9CT4NSxBiErsSihFwELgR8hbLH/Ap/jH5NHwxAihrGjYL7/ym8WHqueY+5Y3kOOTQ5BDnIOtW8IL1Wfni+tb5w/bP8kHvI+0I7eTu/vFQ9TT43/ob/m4ChgdiDAMQ5xEDEnQQZg1CCdUEGAGN/sz8xPqA9+jy1O2G6Q/n5+bd6Ensb/DP9DT5f/2fAbQF+gldDhQS9hN9E68R+BDgE10b0yWML4c0dDKVKR8cAw0M/070s+2s6qHpEumB6Gbof+km7AvwMfQ49wD4Ufb88mTv3exO7Bju7/HP9l37qP6zAFkCkwS5B1ELbg5OEKQQdA/dDCMJ6wQlAYv+EP3P+5n5y/XD8L/rLej25izoQ+uE71n0Svnj/ccB9wTjBwYLOw6MEPcQtg/VDjcRfRh3I2EuzzTqM5UrFB7PDgoB7vYR8YHua+0r7C3qGeg253zo7Ot48HH0TfZj9Uryou5Z7NHsSPC39Vj7eP9JATIBgAC0ALYCUwZUCkINQA5vDZELZAlTB5QFOwQeA6IB9v6Q+rz0pe7k6b7neuhU6xfv7/LL9v36oP9XBKcIVwxZD14RqxHKD5sMsAogDU8VZiHgLPMyCzHNJ0EaKAyGAM74p/Ro8iPww+yc6B3l7uP65cfqhvDf9C32U/S18HHtauyC7jzz5Phs/YT/P//U/eH8qv2SAOUEDAlkC0ALPwm6BtUEBgQWBGAEBwQ2Anr+A/nA8ijtuOlB6WXr1e5B8jf1Qfgr/DgB3QYQDPQPNRLlEhEStg9hDNUJrAqzED4b8yZmL2YxYixIIjMWAAtSAlv8KPhQ9LfvQOr95Kzhq+EP5W3qku+g8uzyKfH77ivu4e8U9Hj5FP5PAN//5v1P/L78uv9sBCMJRAwrDVQMuQogCeEHBAdLBg8FYQKa/ej2de/36ALlYOTI5hjrE/AJ9fL57P7QAzwI8QsQD8cRxRMXFN4RhA1ZCZgITQ2vFlUhGCk1K1cnRh/EFUoNHAf+ArD/tPsj9h/v6Ods4lXg/OEY5m7qJe2t7dHs/+uC7PPu//KN9zT76/yV/CH7DPqg+kX9YAHQBZcJRgzsDboOyQ4dDr0MrQrLB8UDVv6r967wzupg5/7mUOls7VjyYPcN/AIAAAMWBdsGPAnHDOAQwhOnE1oQ4gt4CYQLHRIFG+0iHyeNJvohQRs7FP0NrwjqAxD/fvnV8lrrLuTj3pTcPN3X3xzjKOa56P7qXe068MLztvdi+/X9//69/vj9iv37/Wj/rwGgBAQIiQu3DvUQuhG/EBwOJwo4BZf/mPnH89nucuvn6TrqMex176bzYfgs/XEBrATHBmUIkArhDbURSRTtE3kQ3AssCcUK1hA+Gcog0yRkJEMgLRq/E9YNiAiFA1v+iPi38THqHuMj3mnc4t1b4U/ltuhR63ntxe+28nH2l/pW/skAgwHOAIf/n/66/gIASAIlBSEI0ArkDCwOgg7FDeELzAiKBDn/PPlQ813uFuu36RDqvutl7sHxovXG+cH9GwG7AyQGNglXDcIRvBTJFPYRMg5LDD8O/RNoG4khICSjIiseiRguE6AOlgptBocBefsz9FDsIOU74J/eCeAe40vmo+gs6oLrWO0k8PLzSvg6/Lv+Uv9o/hr9lfyG/en/MgOUBlcJJwskDKIMzwyEDGELBgk6BRgAKfpd9LXvz+y96yjsm+2872HygPUI+bb8JQAqAxkGhQmaDZAR8xOfE8UQMQ1vC08NsRKNGSwfsSHsIPkdQxq5Fo4TahCvDK4H6wB++FjvE+c74X7eZd7J36rhnOOx5RvoBeuH7pPyuvY2+k382fxu/P37Tfys/f3/6QL/BckI8gpkDEANpw2EDYEMPgqSBsIBfPyQ95vz0fAO7yPu/+2q7i7wgvKF9fD4Zfyx//UCfQY8CpMNqA8NEDkPXA7KDkkRlRVyGlceQCAWIGce3RvsGLYVExKcDeYH7QBC+dnxm+sL5y/kveJY4rjir+Md5e3mI+nI67rum/H686j13PYL+JX5nPsP/tcA6wMyB2gKHQ3vDsUPtA/DDtQM2gkRBuwB1P38+X32ePMd8Zbv/e5b76LwnfIC9ZH3PPok/XEAFASmB5AKZww/DbANgw5LECQTsxZNGjsdAB96H9UeVx03G34YChWcEAcLXgQJ/a319+5v6Vnlr+JB4dzgZeHG4snkJeen6ULs+O6p8SH0RvZA+FT6rPw8/+gBsgSvB+AKBA6kEFES1RI5Ep0QFA6uCqQGXgJK/p36TPdF9KHxse/E7vnuMvAp8oL07fZQ+dL7uf4UApgFvQgNC24MKw3SDfYO5BCAE1cW3hijGmgbIBvpGf0XjhWbEvkOdgoMBe/+hfha8gHt4ugX5nnk2OMX5BTljeY+6ArqAew17pDw5PIa9Uf3l/kk/Or+yQGlBHQHMAq3DLoO5Q8aEHQPGg4ODEYJ5gVUAv3+Dvx2+Rb3/vRo84/yjvJe89z0zfbq+Pv6/vwd/3oB+QM/Bu8H8wiHCR8KIwvHDP4OkhExFH0WFxjDGHsYYReXFSIT+A8VDIUHZwLy/ID3hvJs7mTrbulx6Evoy+it6afqjOtd7ETtcO7o75DxU/NG9ZL3P/oe/fD/nQJDBfQHiQqhDOUNPQ7PDcUMIAvUCA4GOwOzAHP+Nvzs+df3SfZT9dP0uvQa9er19fYh+Kj55fve/h4CEQVvB14JKwsPDTAPqhGHFJ8XmhoVHcUeeB8NH2MdchpWFk0RoAuOBVb/PPmS86HuluqA517lGeSE41njV+NZ42fjseN65PPlG+ja6i7uMfLZ9tb7wQB1BQwKfA5mElQVDheXF/MWMBWMEm0PCgxRCD4EHABT/AD5BPZV8xvxcu9E7oPte+2V7uHw6fMi9176zP2SAZoFygk+DicTXxhsHd8hnSWZKGsqbSpOKE8k5x5UGMIQqwjBAIH5APM+7WjopeTO4YTff92t2xza79hq2ObYiNo53eHgkuVS68/xdvjf/vwE3ApQEPsUlxgJG0YcPRz/GtIYCRbCEuoOhArRBSsBxfyh+Mn0YPGG7kLsl+q46f7pjesj7kPxovRI+FT8uwBbBTcKcw8KFaMazx9YJDIoGyuCLOorRynwJEAfchjUEOoIPQEl+rjzAO4M6dfkPOEJ3iLbltic1n3VddWf1vPYZtz24JfmCO3h87n6VgGnB5IN3BI7F3gadxw3Hc4caxtIGYYWJhMrD8EKJwaOAQ39xPjl9Ivxse5o7APr1urX65Dtpe8n8l31U/nX/dQCegjODmsVxRuUIcomHSvhLX4u4ixkKVgk7R19FqIO8Aat/934kfLg7MPnEOOm3o3a59bn09bRAtGW0YPTsdYj29bghOe17v31L/0uBMQKqBCgFY4ZThzCHfsdOR24G30ZcxanElMOsQncBPH/LPvQ9vLyhO+i7LnqMuoB66rswu5J8XD0OPhn/OAA0AVlC3oRpheLHfYivSeFK9EtOC6PLOgogCOyHO0Urgx1BKz8kPUx73/pZ+Te39fbQ9gh1ZXS9NCT0KTRINTr1/DcEeML6nPx1PjZ/1EGIAwwEXcV6BhqG94cQB2zHGUbZBmZFvQSmQ7TCeQE7/8P+4H2gfIp73zsnurv6a/qqexR703yr/Wp+Sf+5wLYBzENDhMlGfYeIySBKNYrty2yLZQreie3Ibca9xL1Ch8Dxvsa9Szv7ekz5dbgwdz82KXV89I30cvQ89G21OzYZN7w5Efs6fM8+9QBkgeKDM8QXRQsFzgZhRoWG+wa/RktGFoVgBHLDIsHFQK2/Lv3dvMl8NrtguwQ7JrsL+6a8G7zW/Zp+dz80gAzBesJFA/CFLAaVSA0Jf0oaysVLKIqCiebIcYa+hKuCnMCzfoL9EPuYuk/5aXhYN5O22zY2dXe0+LSRdM01anYjN3C4xLrBvMB+3ICBAmWDiQTuhZmGTIbJRxPHMsbpxrMGBcWdhIFDvUIgAPp/Yf4wvPs7yntduvJ6iXrlOz97hHybPXR+E78FQBABMQInA3bEoMYRB6WI/cnCyt+LPMrKSk6JJAduhU8DaAEdfww9Q3v/+nQ5UHiHN833IPZD9cV1evT7dNW1TnYkdxN4jzp8vDX+F8AMgciDRYSBRb+GBIbSBykHD0cLRtzGe4WhBNHD2kKGgWO/xL6E/Xw8NHtt+uh6p/quevQ7aLw4vNT9+T6rf7OAlgHSQynEW8XbR0uIyQo2CvsLQQu1StcJ/cgNRmhEL0HE/8p91Pwo+r15RLiv97K2xrZt9bF1H3TLNMY1GvWJ9o735Ll7+za9Lj8EQSnClAQ6RRmGNcaURzZHHgcUhuJGRsX7RP/D38LmgZqARz8FPfB8lvv3exF67TqSOvl7D3vCfIh9Xf4Cvzo/ygE5AgoDuwTBhoeILYlTSpqLZsuhS0MKnMkPh35FCQMRgPz+p7zd+1r6Ejk2ODj3TfbvtiK1tHU2dPk0yjVzdfk22fhLujk7wr4FACNBycOtRMeGFQbUh0fHuMd0xwZG7sYsRUKEuoNbwmeBJL/lPoB9g7ywO4p7IzqIurk6pLs8u7z8Yv1m/n6/Z8CogcQDdYSvRh+HsUjNihuKwYtpiwtKsAlvR+QGJ4QVAg0ALj4IfJ37KPnhuP/3+bcIdq018TVhNQm1N3U0NYa2sre1OT/69vz3/uPA5kKwxDbFboZTRyhHd4dOB3UG8MZERfaEz8QQAzNB/UCA/5Q+Qf1L/Hn7YPrUepf6n/rgu1O8Mfzuffw+1IA5AS6CeAOSxTPGSEf8yPvJ7Aqzyv+Ki4oeyMoHZYVUQ3wBOv8ifUF74XpAeU/4fvdHtuw2LLWI9Un1A7UG9Vj1+jaw98O5pftzPUI/uMFLQ2XE7IYKRwMHqYeLh6oHCkaAReeEzkQvgwJCRwFFAEI/QD5FPV08Vnu+euU6mjqhuu+7c3wifTm+MH91gLwBxUNaBLrF1sdYyK4JhoqNCymLCkrtSd1Irkb6ROHCxgDC/uj8wXtRedp4mDeAts22ALWf9S807jThNRO1kLZZN2e4tvoBPDS99D/igeyDgYVLhraHe8fjiDdH/Ed+BpTF28Tfw95C08HDgPQ/qD6gfaI8uHuzuub6YnotugW6ors7+8b9N34Bv55AyUJ7w62FF0asR9nJCQopirCK0Yr/SjlJEkflxgqEUYJRAGV+ZDyXOz+5nfiyN7o28jZYdif12rXt9ek2GPaCN2Y4CDltOo+8W744v9MB2IOuBTZGYAdoR89IFIfAR2sGccVmxFGDeIInAScAOj8bfkg9gnzPvDn7TPsSOss69vrVO2k787yyPaB+9wAtQbXDAcTBRl/HiMjribzKMspCimhJrUimh2gFwYRCQr4Ahr8ofWp70fqi+V14QLeNNsX2azX8Nbo1rXXedk/3ALguuRY6rvwpPfH/tkFlQysEtAXwBtTHn8fUx/yHZAbXxiPFFIQ3gtkBwwD7v4M+273JfRT8Rvviu2V7DLsauxU7QTviPHh9Av58v10A18Jdw97FSQbKCA3JAonayhAKIgmWyPoHm4ZNRN9DIgFoP4L+Pjxd+yS52Hj/t9j3XHbGdpk2WnZLdqt2/rdKeE/5Sfqxe/99aT8bwMOCjMQpRUlGnQdZh/zHywfLx0mGkUWzxEEDSIIXwPu/uv6Zvdh9Nzx3e9u7pXtV+2v7ZPu+O/h8Vj0avcS+0H/3QPLCOAN6RKqF+8bhx8+ItwjNCQ0I+UgYh3SGGQTWQ35Bo0AU/p89DDvjeqm5oXjKeGK35reRt593jffdOA+4pzklOco61Hv/vMT+XL+7QNLCUMOmRIeFqoYFhpOGmEZehfBFFkRdA1VCUMFawHn/c76Ofgt9p70e/O/8mzygvIC8+vzNfXP9rX49vqm/cIALgTPB40LSg/YEgYWrBipGtobFxxKG3IZohb7EqMOyAmeBGL/Ufqa9Vvxre2o6lzoxubT5XTlleUi5gXnOujK6bjr+u2I8FzzdfbI+Ub91QBTBKAHrAplDZ0PHBHNEdIRQREBEAMOlws5CQYHoQTDAbf+Gvw9+vf4Bfhl9zL3affq95v4efl/+rT7Kf3k/sYAoQJoBDMGEwj4CckLdA3kDvgPlBCxEFgQiQ9ADoUMbwoNCGsFoQLX/zD9vPp++Hr2vPRO8zPyZ/Hj8KDwlfC88Avxe/EQ8t/y/vNw9SP3+fjc+sP8qP50ABICegO9BPAFCQfkB2QIhwhhCAcIiAfpBisGRgVBBDgDSgJ5Aa8A5/88/9D+nP5//mX+Wv5r/ov+qf7M/gv/df8GALoAiQFnAjcD6AN8BAkFlAUPBl4GbQY3BsQFJAViBIgDpwLMAfwALQBY/4H+uv0H/WD8ufsX+4j6Ffq8+Xr5S/kt+Rf5CPkH+Sb5cPnj+XT6FPu7+2r8Jf3l/Zv+OP/L/20AKAHmAYYCBgN9AwAEggTsBCsFPAUdBdAEZgT5A5IDGgN8AsEBCAFjAMf/JP+I/g7+zf3A/dX9+f0h/k3+hf7R/jf/tv9RAAkBzwGGAgwDVANoA2IDWANNAzYDBgO6AlwC9AGCAf8AbwDf/1//+v6q/l7+Bf6d/Tr98/zK/Ln8wfzw/E/9yf02/nz+oP66/tX+7/4B/w7/Hv82/1f/fv+r/9v/AwAQAPX/wf+f/6//6P8aACQABwDi/83/z//a/+T/8P8VAGYA0QAtAVkBWgFPAU4BYgGQAdgBNAKXAvgCQgNLA/UCZALnAaYBfwFDAfwAxgCJABIAif+V/+0AmgOWBhIIUgbKAM74HPFo7Pfrae909Xf8nQIZBhIGcAOVAN//JwJsBowKiAx0C8cHBwMK/yr9u/3t/zYCCQOeAVf+j/rk91H3v/g6+5P98v4B/+f9UPxN+8b7xP1KAAUCOQItAcv//P49/30ARALxAwMFSgXpBDkEmANDAzgDUANYAxMDPgLEAPn+g/3e/AH9h/1E/oj/uwGvBDUHhgdJBLr93PWA77bs8O1k8s34uv99BYoIVAj1BacDawPKBY8Jngw3DeQKjQbOAS3+hvzb/FP+lP91/6T9zPoa+JX2tvZT+MD6Fv2V/uj+QP49/br8ZP1F/5gBTAPAAysDQwKnAZIB7AF4AusC/gKJApoBbABf/87+6v6P/0wAsACHAPb/Tv/n/vD+YP/2/2gAlQCGAFEADADm/yMA6wABAs0C0AIMAv8AOQD0/wUAJwA2AEAAYQCWALYAlQA1ANT/uf/0/0cAZgAzAM//Yf8H//f+m/9KAbgDpwVxBRQCIPyt9VfxvfCX8/33rftY/RT95fsR+637Zv4jA84Ikg3AD70OVwtFBzcE/QI6A8sDmgM2Atj/Bv1c+nv46ve/+HP6Gvz2/N/8UPwc/PD81P4XAdkCyANSBA0FFQYiBw8IAwkCCpYKGQpMCIkFfQLZ/xX+Qv3p/GX8evuD+tL5J/kJ+J/20/Vz9mr46fow/eL+3P8vAHsAzgHbBA8Jkww8DaoJDAJN+IHvmuro6nLvqfXp+qX9xv1c/Av7aPtj/sYDAwqSDkMPzgtWBhEC/ACwAj8F/QZWB2cGbwTnAc7/Xv80AccErQh7C34M4wtXCnoIlAazBN4CJAF7/8H96PsJ+jr4YPZL9BbyRPB/7ybwIfL/9DL4Lft//eb+cf96/5z/iADBAhsGfQlSC6wKBgjeBGoCwQA0/0X9Hfs8+Qv4xPdh+HX5MPrl+bD4hPdt99f4XPs9/t0AEQM9BV8ImA0EFc4cvyGQIfEcLRd2E4gS0RJXEhkQzAtJBcj8ePNB65flpuKK4Sfh0+Cc4BTh1+IU5nPqa++N9Iz5G/4IAmQFcwhaC+cNkg+4DwMOyQoJB8wDcQGk//f9cPxJ+176G/kh98f08PJj8mLzpvWQ+FP7Lf3T/bn91v0B/2cBhASLB+MJjgtXDYoQDxZ0HdokISpfLB8saSqrJ7MjWB7VF3gQSwg6/4L16Oto47rcCNgH1WHTENM/1OnWvNp+317lley09JT8FwP3B64Lzw6DEZETohRkFLMSww8YDDsIeAQFATH+Lfyx+hb57PZs9C/yq/AT8JrwefKJ9ff4lvuy/JP8T/z8/PP+nAH9A2UF4gU9BsQH3wteE6gdlShdMQM2HDZ7MlssyiRtHGsTYwnX/dHwRuPD1svMWsbQw+vEzshBzjjUZNoq4Q3p/vE4+64DlgqTD6wSIhRfFOATEBMfEvkQSQ+xDCAJCwVHAYX+yvx8+935iPeS9Gvx0O6t7b/u9PEp9r35qfsp/FL8Hf2+/sQAkQK0AywErQSwBuYLDxUoIZUtVDdOPAE8SjerL4UmqhxCEvYGYvqM7Ffec9HYxwPDZsM6yMbPDdiz35Tmgu1Y9R3+8AadDjMUORewFwoWIxP2D0ANOQuUCb8HKgWUAUb9APm89TX0f/T59Zv3g/hP+CT3ifVR9F/0JvYh+QL8ov3Y/XX9ZP3+/Qj/HAD1AJkBngJmBa8Lcha/JKIzXD8ZRQ5EVj34MtcmJBo/Deb/mPE34pzSqsSxuo2277gVwfbM8Nnb5f/vC/kOAmALTxSyG4ggGSIGIIcatRJTChMD2/2K+lj4Svau83vwde3o6+DscvCb9c76y/76AF0BXQDL/rn96v0n/0oAKgCL/j38YPqY+eD5zPrZ+7n8x/1fAJwGEBJPIl00uENUTEtMTETFNo8m4xXZBX32TecL2FnJ2LyxtNCyG7jiw9HTtOTJ89f/MgnSEE8XmhwzIHQhwx/ZGiET2QmbAMX4E/Oi7wfud+0m7cns1Ow77rnxSfcF/pYExQnJDFoNowtcCLgE5gFGACv/gv3R+oX3aPQW8ubwDPGN8kP1a/lAAKkLmhx5MRBGQlVBW9dWUUmXNRMfqQgA9GnhmNCcwXS13K2OrIGyZb9p0X/lUPh9B2QSuhmHHlkhISKIIEAcOxX2C44BgPcp72vpk+Zp5kfoSuu27lDyaPZ8+7UBjAjnDocTehVLFBIQewnQAaf6M/Wv8Xjvx+1e7I7r2euQ7bjwA/Xt+Sf/RAXwDfIafSwTQBhR11qQWldQfj5aKB0RFvtj5yDWEMdvulSxba05sDe6ZspM3pryUAS3EaMa3B9CIkgi9B8sG/sTwQpTAOb13+x55nrj++Nm553sYPLA93389AC8BQcLTBB3FGMWRRXdEJQJlACh93rwC+wM6nzpd+m76ZTqfuzS74z0LfoBANoFxgzgFuUlWjnITdVdoGTIXw9QkDhgHVgCKurs1VfFybdsraCnUKjIsNfAkNan7lIFdBeKI8QpTStfKb4kxh2oFK4Jc/0F8eDln92Q2UbaX9+K5+jwwvkoASoHbAxwERgWlhnRGtsYSRN1Cpz/sfTB6xHmpuOC43Tk0eWf51HqX+7k82r6/gDqBqAMGhTRH8Aw30RnV8tiHGN5Vw1C+ibBCunwN9vMyea7/rCkqYqnp6zeuS7OvOad/+MU0yPCK/0tbywhKPkgyRZHCtX8re/B4zTak9Qd1P7YJOK57a/5OwRcDCESVBaXGckbJRzdGYwUUQzXAWb2y+vg48TfXN+D4dLkbuhF7LzwI/Zd/MECZAjMDNEQzRZnIWwxVUTRVCpd6VkOS4szwhf6+1njgs+xwGm2P7B4rg2yHrwNzbTjIf00FfUn7zLdNSgy0CmEHoERzwNY9s7pw9791azQGNDy1NjeU+wu+/gIthN8GqEdQB5ZHUMbuhdQEskKSAFy9ofrX+LJ3Lfbst4l5EHq2e+v9EL5UP4zBHwKDxAGFLoWLBojIUAtKT04TGlUfVEPQzMsWBFo9jnerMqovCC0nLAFstO4iMX719fuXgeuHectyjWBNdIuxiP8FeQG6vc86qDeodXUz+3NptCP2IHl9PUCB4kVix+zJMkl+iNeIKAbvxUpDmEEqPgZ7H/g79c31AXWXdwM5c7tQPUs+zkAcwWHCxYSxhdUG/McyB7lIyYuQjx+SbFPlErxOUshoQVi65fV4sWEvKO4ErktvSXFiNGJ4kH3OQ2uINwtpjJPL8oljBjJCVT7eO7g46Pbt9Vb0kLSbdak36Ptff75DvMbpSMTJn4kiiCNGxYW2A8QCEX+xvLZ5nfc1tWP1L/YzOAw6sfyqfkk/zkE5QltEPoW+xtPHn0e2h5NIlAqdjWGP1pDhz0NLhUYGgAU6pLYwMyaxjXFR8fnywTTMt3g6nL72QzwG5Yl/idcI48ZGQ0uAFP0X+qb4ufcFtlo183Yh94+6Rn4mAh8FyAiaifTJ6ckOh9rGI4QmAdq/SnyluYg3K3U/tHf1J/cOOcz8rT7CwOWCCoNexGfFesYXBpxGQAXUhVJF8Me/ioiOIxAiD/SMxIgGAld83/hb9Q1zGTIQ8gTy5TQMdl65Sj1awYhFtYgNyQUIFIW0gkX/afxNegD4RjcUtnG2BXbS+EC7Hr6TQo1GHIh/iS3I3YfyBlNE/MLjgMw+kXwsebS3jba+tk43uXlJO/l96X+/QKuBf0H6AqPDikSgBS4FDUT9RHpE2IbQygqN1ZCPERqOtkmog4h96/jZNUlzJ3HXMfQynrRPtsm6K/3NQj+Fv8gDiTNH9MV1Ah4+4/v+uXx3lDa5tfc19/a0uEP7bL7dgthGeQi5yYOJgAiPRxsFW0N/gNS+UHuNuTT3HjZyNpk4PTof/IO+0sB8gS5BuAHmAl3DCMQaBP8FKQU+RPnFfIcNiljN7dBr0IQODEkeQxA9m/ke9fozoXKVcoGzuPUX95M6mX4gQdRFfgePCKRHlQVCglB/L3wW+de4MbbldkD2pPdzeTB75L9VwyBGbAirybeJa0hfhvbE6sK7v9Q9BfpyN/A2fHXm9on4T7qJfQ6/WEEQAkjDMgNFQ+9EMsSYhREFBMSeA/IDxEWsSI5Mok+ykF+OaknSxFe+7PoGdq/zwPKC8k2zGfS7NrY5VjzpwKVEQ8dayKjILMY4wyy/xXzWOgv4NXaM9hB2ETbrOGc63H4lga/E50d0CJnI24g6ho9E3sJIv5b8q3nfd/U2kra3N3J5LLt//Zh/xQG2wrVDXAPaRCUEToToBRqFPIRpA7kDR0THx+7LtI7YkCmOTwpvhMS/m/rKN2D02POSs1Fz2vTi9lN4l7uOf2iDEQZJSDxH1cZcA7IAZz1cev24xnfZ9yc2wDdUuFE6cv0ogJqEIAbGSLmI6shVBxmFEYKzP5q87np7eKR36Lfr+Lx52ruIPVg+9MATwWoCMsKIwyjDRQQGxMkFcoUrhLuEUAW9CA2LxQ7tz6ZN40nMxM2/2PunOHT2N7Td9L505DX1dwW5N7t7PmZBkMRehcSGHUTKAscARP3RO5H50DiQN+G3n/giuW37Xn4cQStD18Yjh0jH2AdbBiLEIwG3vsb8nzqlOVp47bjKeZe6rvva/Wz+k3/OwNfBmMIZAliCpYMGhB2E8wU0hOqErUUHRzRJ3gzsDkcNyUsHBzFCnf6Few34MfXhtNT0zrWQNsa4gvrA/bjAZEM2xNyFkwUTg7ABfH7FvJA6UTitd3+23LdPOIz6qv0XQCcC9AUCRseHjEeJhusFPYKWv8O9CXrpOVv4+TjZuZj6iTv4PMv+EH8eAC7BFQIrgoiDNYNnBDnEygWWxZuFRcW6hoaJKUuvjWUNX0t7x92EIsB/fP850XeBtjg1UnXIdvB4Ebo3/HX/HAHlQ+0E0QTvw5cB5n+xvXB7fHmm+Es3lfd3d8Q5mvvj/rMBccPqRfWHJAeGBw+FewKHv869BnsT+dY5W7lT+ce65fwofbk+8r/twJHBWsHqAgXCdoJPAxNEHsU4BY2F44X9BrUIk4t1jXZN3MxLyR+E2YCafIx5LvYetFTz8DRNddi3v7mT/ET/dwIfRL9F2cY/hP5CwcC1vea7u/m/eD53ILbeN1O42zsSfc5AkYMKxWJHD0hlyF3HFcScgXV+PfuxOiv5bPka+Ux6CntafNT+dj9JAHsA1QG4weOCGgJ2wsmEMUUlBfIFw4Xtxg9H9UpMTTgOK80VChTF2MFwfRV5tDaJtMN0D7RdNVX22biCeue9XoBrwzBFL8XHhX4DYcEGfv58j3sgebY4R7fZ98+40LqX/Nr/YoHEBHwGIIdKx2PFzUO4QMO+670I/BN7M/okOYC59PqKfEr+C3+aQLgBPMFcga4BxoLshCsFhIa+xhyFIQQ9BHpGvAo6TWCO8U2QilNFxoFIPVh6GbfdNoS2enZk9u/3XXhOeib8kj/PQseE+MUwxDOCKz/XvfJ8NXr9efL5K3inuKX5crrdPRO/hkIshDzFscZoBjuEyYNNgaKAFT8nfhJ9ETv3+oB6b3qh++R9e76j/53AHYBxAKyBRgLexKkGXgd+hs5FmMQig9TFtoiai/ANZAy8ibrFqQGjfhj7TnlBOBe3Urctdt82/DcH+I07Az6OAiSEloWeBMhDGADl/uq9R/x7OyL6JPkZuI5417nXu5w96oBtgu1E8UX8xblEacKoQNV/qf6UPc084nu4Orz6VnsJfGm9nr7Fv+OATUDjQRzBu0JTA9NFWoZnRlmFjYTYRToG5UnATLfNSMxsSVgFzgJKfz07+/kf9wH2HbXNNmm28PeNuSm7bX6awiuEqoWTxTlDUsGRv8F+eXyp+wV56bjdeNy5pPrz/Hd+OYAggkdEYwVXxXaENAJmwLt/Bj5Wfa/8yvxd++Z76nxt/Sm9wf6G/ww/isA7QHcA9MGPQs2EMsTjxRLEycTpBetIS8umDdLOXMy/iUNGBoLIf8p81/nhN1815DVUNYm2PraQuBx6Rz2cwOhDRMS+RDADPwHmAPN/pr4PvFa6uLl3eTw5ujqxO9o9Tn8/gMyC5kPxg8cDIMGHAEX/VL68vdi9QrzCPIe89r15Pgt+6r8+v1+/x8B4gJVBRsJ6A0pEv0T6BLREC4RtBYhIQAtmTWyN/cyVCkxHTcQQAP89jbsk+MZ3UbYwNT/0j/UmNn24snunvo5BF0K6Ax5DPEJJgbAATj90/i19Pfw4e3168vrxO3V8XX3s/1gA1wH7wgUCHwFPgJj/2v9LPwW+8L5T/g299L2LPco+Kr5gvtd/SD/PgF9BAgJ2A0wEfQR1xBNECATbBqQJOEt2DIEMkIsciMeGSYOPAMp+YHwSOkM44zdMtkK1yLYw9w05Azt0fVT/ccCywWIBrQFQwTmArcBUAAy/kL7Dvig9dr09fVk+Dj7lf3s/hD/Nf7j/MP7V/u/+7H8mP3u/Yz9wvwL/LL7vPsK/HT8yfzp/Bn9Iv7FAOoEWgmCDL0N+w03DycTDxqGIj8qLi9HMHQtGCfZHc0SjQed/ZH1x+4e6CbhsNpP1lHVB9jF3Vvliu0p9T37Iv/NAOMAZQAsAHsA7gDRAKj/mf1u+xv6JPpR++j8If52/r79H/wR+j/4TveJ97z4W/rK+6/8C/0k/Vv9AP4+//kAzgJGBEQFNQa/Bw4KeAz4DRgOiA3HDSIQ0BTYGqgg6STYJikmxCLOHPAUXQxWBG/9Tvcv8bXqc+Se30bds91l4IfkV+kt7l/yWvX29qH3HvgO+Z36g/w7/lf/wv/O/+3/VADZACkBEQGEAHj/3v3f++b5bvio9273eveg99T3Fvh4+C/5jfrD/Kr/ygLABXgIHAunDasPixAdEAcPiw6/D90SJBdYG2se0R9dHwkd9hiTE6AN0weCAoz9pfi/8yfvZOvq6Nnn/Ofs6EHqneuz7FLtju3H7Xfu8+898h31TviV+7X+YQFIAywEEwRJA0cCbgHJAA0A4/5F/ZP7O/pn+fv45vgw+b/5LvoY+pb5XPk8+ov8AQAUBEgIPwyXD9cRsBJFEk4RzBB2EUgTlRWNF6sYwRjAF6EVhxLZDhoLnQdjBDkB+v25+rv3RvVr8wDyzvDN7yLv4+727i7vg+8U8Ozw8vEL80z01fWb91z55fo6/G79a/4B/zH/Pv9h/4r/df/2/iL+M/1g/Mv7g/uQ+/L7mvxW/dj9BP4d/qT+5//AAeEDIAZxCJ0KQAwXDTcN6QxxDAMMygvZCw8MLgwSDLsLJgs8Cu4IXge9BScElAIBAX7/IP7w/OL74frd+eD4CPhv9wr3qfYr9pv1GvXC9Jv0v/RR9VL2hfek+Jv5hfpz+0v8+fyk/Y3+wf/9APIBgQLHAucC8gLqAtgCzQLUAt0CwgJgAsEBOQExAc0BxgKjAxQEDgSnA/YCJwKUAaEBdQLTAzkFKgZoBgkGWQWkBBMErgNyA1cDQQMDA4EC1QE9AeUAzgDUANEAqQBOAMb/JP+J/gX+nv1X/S79F/33/Lb8U/zd+277GPvn+uL6BftE+4v7z/sI/DH8Qvw2/B78Ifxe/Nb8a/36/W/+w/79/ir/W/+V/9X/GQBuANQAOQGQAfQBkgJmAy4EpQTFBMQE0QTsBP4E9wTUBJAEJASQA+ACKwKIAQQBowBVAAMAov85/9z+nP5//oD+k/6r/rv+vf6w/pr+hP53/oD+qf7t/jL/Xf9q/3f/m//T/wYAKwBFAFEAPwAHALT/U//u/ov+Ov4J/u79z/2g/Wr9P/0m/SL9NP1c/ZL90f0a/m3+wv4a/4j/GgDAAFEBugERAngC8QJiA68D1gPdA8QDkANQAw0DxQJpAvkBiQErAd0AlABPABUA6//H/6b/jP96/2T/Rf8r/y7/Tf9s/3L/Yv9T/03/Rf81/yr/Mf9I/1z/XP9G/yb/E/8X/zH/U/9z/5P/r/+8/6//k/97/3D/bf9x/4P/ov+8/7//tf+2/87/7/8IABoALgBEAEkAMgAEAN3/0v/p/w8ALAAxACEABwDs/9H/xf/U/wEAPABoAHsAfQCFAJ8AyQD5AB8BNQE6ATEBHQEAAd4AvACfAIoAewBtAFsAQAAaAO//x/+t/6X/pP+d/4b/Zv9J/zf/LP8n/y7/Sf9u/4j/j/+T/6f/zP/u/wUAHQBBAGkAgwCGAHoAaQBXAEYAPgBAAEIAMgAOAOj/yv+3/6T/jP9v/1H/O/8z/zX/PP9L/2v/m//H/9n/1f/Z//f/IQBHAGgAjQCvALsArwCgAKAApgCkAJwAmACRAHQAQgAOAOn/0P++/7P/rv+j/4r/Z/9P/0r/VP9q/43/u//l//3/BAAJABcAMwBbAIkArQC7ALQApACRAH4AbgBoAGYAWQA4AAkA4P/A/6H/hf94/37/h/+C/3j/gP+n/97/EAA3AFcAcwCFAI0AkgCaAKQAqQCkAJMAcgBDAAwA2v+1/5//kf+E/3P/YP9P/0X/Qv9I/1f/bf+C/5H/oP+5/97/AwAfAC4ANgA8AEMASwBTAFwAaAB3AIYAjgCLAIIAeABsAFkAQAAoABgADAD9/+X/0P/E/7v/qv+U/4f/iP+P/43/if+V/7b/2f/s//P/BQAqAFMAcgCHAJgAogCeAJIAiQCBAHIAXgBSAE8ARQAoAAMA4//A/5j/ef94/4r/iv9n/zj/If8p/0L/af+k/+n/GAAkACEAKAA0ADQAKQAqADwASwBEAC8AHwAYABIACwAKAAwABQD1/+7/+f8CAPX/1P+9/8L/zf/E/6j/mP+m/8b/4P/n/+H/2//d/+r///8WACwANwA2AC4AKgAyAEUAVQBbAFcATwBIAD4ALwAeAA8AAQD0/+b/3P/U/8//zf/P/9L/2f/o//7/FAAhACUAIgAdABQACgAAAPn/8P/t//f/CQAWABUAEAAZACsALQAVAPr/9f8EAAgA7//J/7f/wP/O/8z/u/+y/8T/6P8HAA0AAADz//f/AwAHAAIAAAALABMADwALAB8ASgBoAF8APAAkACQAJwAXAP3/7v/y//n/8P/e/9b/3//q/+b/1f/K/9P/6f/7/wUAEQAnADsAQQA3ACkAHwAXABEAEgAbACUAJQAkACoALAAXAOv/x//K/+v/AgD5/9r/wP+8/8j/1P/W/8//zP/Z/+7/+f/1//D/9v/8//T/5f/j/+r/5v/V/9H/6v8PACIAKAA4AFUAYQBLACkAFwAQAP//4//T/9f/4P/h/+H/5P/f/8n/uv/S/wsAOwBAACoAIwA+AGIAcQBjAEsAOQAwACkAHgAQAAMA/f/3/+//4//U/8r/y//W/+T/6v/e/8n/wP/S//H/BwANAAwAEQASAAYA8//n/+r/7//t/+r/8/8DABUAIgApAC4AMQA2ADcAKwAUAAAA9v/v/9n/uf+l/6n/tP+1/7L/tv+8/7j/sv/E//P/IgA2ADUAPABYAHcAgABxAGEAYQBvAHUAZABEACYAFAAIAPj/4v/N/7z/sf+u/7P/tP+p/6D/sf/d/wYAEAAJABMANwBZAFoARAAyACwAHgD//+D/2P/l/+7/6v/o//f/DAAUAA0ACgAWACEAGQAAAOv/4f/b/8v/tv+o/6r/vv/e//r/AADy/+H/5f/+/xUAHAAZABkAIAAnACkAJQAiACYAMQA0ACAA/P/j/+r/AwAPAAEA7P/l/+z/8v/u/+j/6f/x////CgAOAAoABwANABcAGQASAAsAAwD1/+P/4P/1/w4AFwATABkAKgAwABsAAgAAABUAIQAWAAYABQAOAAoA8f/T/8T/wf+9/7L/qv+v/8L/1v/h/+X/5//m/+T/5f/z/wsAHwAjACEAJwAxADAAJwAoADwASAA0AA0A9v/2//P/2//C/7//zP/T/9T/4f/7/w0ADwAQAB8ALgAsACIAJQAuACkAFQAIAAcAAADq/+H//P8fACUAFQATACQAKAAVAAsAIQA3ACcABQD6/wEA8v/H/7j/4v8MAPv/wv+r/8z/9v8AAPv/AAAGAPr/8P8EACYAJAD5/9L/2P/7/wwAAQDu/+j/8f///wYAAwACABQALgAyABYAAAAYAE8AYwAzAOr/w//K/9r/3v/e/9//1//I/8r/5v8AAPn/3P/Z/wAAKQAoAP//2v/g/wQAJAAqAB8AFAAQABUAIAApACQADwD7//n/BgANAP7/6f/s/woAJwAnABUADAAXACIAHQAOAAMA+v/n/9D/x//T/+b/7//t/+v/9f8NAC4ARgBFACoACgD7//v/+f/p/9H/vv+1/7j/yf/j//n/AQAAAPb/5f/V/+P/FgBSAGAANQD+/+v/AAAaACYAJwAeAAcA6v/i/wAALQA7AB4A9//p//n/CgAIAPb/5f/n/wAAIQAxACAA/v/w/wwAQABdAE8AKAAHAPT/5//a/9H/yv/F/8X/0//p//L/5f/T/9L/4P/l/9v/z//T/+L/7P/r/+v/9v8IABIADQD9/+7/5P/i//D/EwBCAFoARQAYAAEADwAkACUAFgAMAAUA9v/q//j/FAAVAO7/xv/L/+//BAAEAAsAIwAvACAAFQAoAEgATAA2ACkAMAAvABgABQAMABoACgDk/8z/1v/s/+7/4//h/+3/8//r/9//4f/w//z/9//m/9v/2v/a/9H/w/+9/8P/zf/Q/87/0f/Z/+f/AAAhAD0APwApABcAGAAkACkAIgAXAA0AAQD7////BQAAAPb/9/8HABcAFAAOABcAKAAsACEAHAAmACwAJgAkADUARAA5ACEAIgA8AEcAKQD+/+z/9P/1/+v/6v/x/+X/wf+r/8P/8P8BAPL/4f/o//b/9//z//r/BQAAAOn/0//R/9z/6f/x//T/9v///xIAJwApABUAAAD+/wEA+P/i/9f/4//u/+X/0P/L/9n/6P/u//r/EgAoACYAFgAUACgAOQA1ACkAJQAmABsACgAIABUAEQDu/8X/vf/W/+3/7P/i/+P/7v/2/wAAFAAmABwA/P/m//P/DAAQAPb/2v/R/9T/1f/U/9v/5P/f/8//yf/Z//L//f/9/wAADgAXABQADwAYAC8ARQBTAFcATwA7ACUAHQAhABwAAQDh/9X/3//p/+j/6//8/w0AEQAOAB4AQwBhAFsAMwAHAPH/8P/z/+//5v/c/8//wf+8/87/8f8PABwAHgAiACQAFwD+/+7/8f/x/9n/t/+s/73/0v/Z/9r/4v/t//D/8f/8/w0AEwAJAAQAFQAvADQAHgAIAAgAFwAcABMADwAkAEEARQAnAAQAAAAZAC4AKAAQAPv/7v/l/+f/+f8SABkACAD1//P//P/7//D/6f/t//H/7//u//H/6//X/8r/3/8MAC0AJwAPAAQADAAQAAcA/f/6//T/4f/L/8b/0v/i/+r/7//3/wMAEAAYABQAAADh/8r/yv/a/+b/4P/S/9H/5f8EAB4AMQBBAE4ASQA0ACcAKgAnAAQA2P/U////GwABANj/2P/v/9v/sf/3//EAGAJ7AsgBpgD2/+T/6P+P//z+qv7X/kf/oP++/8b/5f8bAEQAPgARAN3/u/+u/6n/p/+y/9P/BQA1AFcAbABxAGAAPwAvAEMAXABAAOn/jv9r/3r/kP+d/6f/qf+m/7r/7f8HAAUAkQCDAlsFzwaqBFP/1/kT9yL36/f29/n3nvk+/VAB6wOJBEUEhwR+BQIGCAUGA64BHgKWA0MENwNOAQ8A+/88AMn/ff4d/Wr8gvzu/DL9OP1M/c/9z/7u/64A5wDmAAkBTwF0AWYBVQFBAeMAaQDhACsDWAbNB5sFjQBw+3r40fdY+B35yPlf+jL7s/yz/iUAPACm/+r/eQEhA9ADDQT9BG8G/AYcBvcExQQhBbsESgPaATUB1AC2/9P9JvyB+737HPwl/P37HPzE/MT9rv4//5X//P+RADEBoQHJAcMBugHMAeQB0wGIATEB+ADOAHwA8f9U/9P+g/5n/m3+Z/49/i/+if4W/1n/kv/4ADwE2AfMCGcFJf9j+Xr2CfbT9SH0v/Hm8W73RAE6CpMN+QunCh8NyxA4EOMJRwK4/rv/WgEsALf8//n6+eT7hP1c/cD7U/ps+tr7Jv0m/Tf84/tM/RwAzgIFBK0D/wJAA2QEEwU6BGUCFwH6AEEB5QDc/7n+y/0u/T396P0J/qb8Lfvl/PMC4wmlDPEJMgXhAZn/yvsO9vTwwu4Q7zbwo/HN85T2EPn0+gX91v/ZAjwFHgc8CZgLNw1eDXMMZguYCsoJ6AhBCOUHQwfLBbIDrwEKAF7+bvzQ+kz6yfo++9/6/vmL+eH5ePqy+qz6Afv3+z79X/45/97/WAC2ACoB1QFpAmgCzwE4ARoBIAGRAFf/M/7e/TL+e/5f/jT+a/75/mv/e/9b/3D/0P8oACwA+v/i/97/iv/u/sr+tv8WAaQBHwHPAOEBwQPNBIkEPQQlBcMGoAdHB7gG7AaWB7AH1QaPBXoElQN/AhABjP87/iP9EPzi+qj5ifij9/72nvZ+9pD2y/ZG9xj4F/nf+TX6XfrX+sr73fy6/Xz+b/+DAEUBcgFcAX4B3gEXAvoB2wECAiUCzwE4AUYBagLSAz4EmgMwAxQExwXdBtwGyQbAB3sJrwq3CkoKcAoxC48LwAoECTkH3AWiBP8C2QCf/r78LvuI+Y33efXD85/y1fEV8WLwFfB58HTxlfJw8/zzlvSp9Ub3Ffm1+iX8sf2C/1sB4ALzA8QEfgUhBqIGAgc0BxIHhga/BRUFsARuBA4EbwOVAqQB1wBZAA8Amv+x/ob9pvx8/AD94v3x/jcAxgGCAzkF2QZ3CCgKzgsRDaQNiA0RDYMMyQuUCs8I0wYGBVwDZAHe/iL8zvkN+HX2nfSv8kTxufDQ8PPwxfBs8F3w+PAu8pHzxPTr9Yf31vlt/Jr+IABiAcUCPAR8BWIG/wZTB1sHTgeDB+cH7Qc4BykGdgUxBakETwN8AQwARv+L/iT9LvuQ+SH57PlT+7j8B/6m/wECIAWVCMsLZg5eENwR/BKuE74T+RJmEVYPMg0XC64IkQXfAUX+UfvV+CT29PLY77btzex27N7r3uoS6ivqPuu77AfuGu988LXysPXN+ID7zf0aAKkCTQWsB4MJuQpbC6QL8AtdDIYM4AtpCs0IqQfCBkwF8wJeAHb+Vf0x/Fn6EfhX9gb2Nvdi+d/7SP7AANYD9Ae3DP8Q4hOWFSUXHhnPGvoaQBmRFg8UxRG7DjsKxQSS/zr7Nfet8rTtV+l+5vLkseMg4rjgcuCv4drjEOYE6DrqW+158eX12Pkt/WIA6AONB7cKCQ2rDvYPDRHZETQS9hH3EEcPPw0wC/oINAa+Ag//wvsM+ar2T/T98SXweO+G8DTzn/bn+Rb9FAFdBhwMzBDQE/kVZhgZG+kc1RwaG9kYzRaNFC4RaQwHBwQCjf3++Onzxe5+6nLnIuXc4prgBd/D3svffOFJ40Tl+efD61jwA/VJ+Ub9WQGdBbQJLA3eD/kRtxMdFe8V4RXfFCwTLREID38MRwlyBXQBwP13+oL3yvRQ8kHwHO+h7y3yHvYy+sj9jgGXBrgMUxLxFdUXhhnZG+wdMh5HHEgZeBbqE64QEgxrBqoAc/uz9hHydu0l6WvlWeLV393dodxW3PrcU94z4Kvi6+X66ZTuVvME+KP8SwH1BV4KOw5vERAUNBa5F1UY7Be0Fv0U3BIrENMM/QjwBOgAHP22+bP21vMj8U3vYu+28VX16Pgk/AwAjAUODMoRkBXwF2EaaR3rH3Agvx4IHHMZ7xaHE6IOrwicAvn8sPd18jbtR+gZ5N3gV94u3Graitn82ZPbwd1O4Jbj8ecQ7S3y3vZn+0MAbwVbCn4OwBFeFH4W/ReZGDQY7hYFFaoS6g+tDN0IqwScADL9UvpV9+rzAfE/8EfyyvXK+N/6sP3YArAJvA9UE1wV9hfeG30ftyAyH4ccXxqvGPQVBRFpCtIDYf6p+XX0Y+5z6Ozj9OCG3sXbE9md1/3Xntl921DdxN+Y47XoM+5B8+L3vvw7AvgHEg0HEQwUnRbRGDkaWho1GUMXAhWGEnIPdwvlBqUCV/+E/BX53fR28fHwh/MO90f5e/oo/ewCTAobEPQSmxS3F5UcwCDBIcIfKB2+G8saDBhiEhcLeQRr/7v60fS17RfneeKe3wTdu9mJ1gTVztXv1/zZu9tG3qPic+hb7oHzUvi6/d4D8AkJD/ISDBasGLoa0RujG0caOxjkFRoTVw+fCt4FDwL//m770/aX8vbwiPJu9Vf3Lvgs+iD/FwYyDLEPuhHHFJsZUh54IK8f1B2zHAscBRppFfgOjAgqAy7+UfhU8Vvqu+Sl4CHdWtmv1U3T59IC1J/VZ9fs2d3dJOP86MTuffSD+uwAWAc7DUcScRbFGTgcqB35HTYdlRtEGSsWHBJTDasI0gReART9n/e28svwYfI19bP2BPfx+ID+TwbvDJQQyxJDFnwbRCBHInMhrB9vHlUdzBr+FaoPSAmYAyb+GfhX8bHqEuWl4N/cRdkQ1vLTXNMU1InVgNdH2j3eSuPi6IvuQ/RB+oEAoAYkDNMQuhTrF04aoRu5G7kaAhnMFt0T4Q8jC64GTQOBAO/8LvjZ80Ty+PP19tz4nvmN+4QAkQfHDWMRgRN8Fv4aPR8UIUcgcR77HKUbIhm0FOwO9QhtAwH+/Pc98YHqxeRe4LbcGNmY1RXTRNL60n3Ub9Yn2SXdYOJG6FPudPTX+noBAgjrDewSDBdoGuIcKB4YHv8cSRvnGFsVjhB4C1oHQQS4AJT76PWA8vHysvW39/v3tfin/KkDogrsDhYRzhN8GKYdvSDeIGsfMB51Hf0biRgiE/MMJgfeAVX84vXW7kLo7uK03uvaTtdG1GzS+9G/0m7U6NZJ2sfecOTl6oDxz/fw/TwEpAqAECkVjhgOG9QcoR09HdQbphmTFlESSg2tCC8F6gE//Sj3HvLK8PXymPVe9nv2Lfmm/2oHFA0MELkSQhf4HEYhoCLWIbcgACDhHi0cjBeqEYQLqQX0/8z52vKV6w7l/t8U3G3YtdSq0VDQ2tCS0rfUTdfv2gXgS+YE7ZPz3vkyAMEGLA24Eu8W+BkvHJYd3B31HCwblRjWFOwP1QrLBqoDzv8t+kr0IfHv8av0W/aV9vP3y/w8BAwLNA/REVoVhBqAHxYi7iF+IC8f/h3ZG+MXQxLkC7YF/f86+sfzq+zQ5UvgUdwW2dbVztII0TnRCNON1VTYvdtq4HzmY+1a9PL6RAGdB/0N4xOkGPMbBR4xH4gf4B4hHUcaRRY1EdILLAeHA7//iPp99DXwue8f8nj0QvU09hP6KQG2CPAN8hAdFPYYWh7gIXMiJSGhH2MehxwAGbITcQ03B2gBs/t89Zfuq+fC4Vvd8tmp1mHT/dBx0LfR8NNz1n3ZzN2t46Dq0PG9+Gr/EQa3DPoSRhg3HM8eRCCxIAcgPx5oG34XdxK4DDYHtQLE/hL6RPQd7yDtzu7n8e/zH/UR+G/+sgawDfsRGxVSGdcepCO6JQolHyNRIYUfnBzAF0oRcQouBGb+OPgb8aTpGuM83o/aBddO00nQGs/sz9TR+NOC1l/aEuAV517uUPUP/PYCBwrEEJIWGRtXHmkgWiEgIcAfTx3FGQAVPw9tCYsEhAAD/BT28u9y7BztP/Cs8m/zBfVL+s8CAAsWEPUSphZ6HIki9SX1JSokfSIzIRIf6hq6FJwN3QbwACD7XPSL7PrkNt9p2z3YftSq0HHO0s7/0G3TpdWu2LrdtORX7HLz5vlgAF0HdA60FHYZ1RxHH+4gZyFkICYeGxs3FxkSFwx8BjYCcP5v+SbzMO5S7SnwWvNx9N/0OPi0/3EIog6xEW4UYRnGH48kxiVHJEsi8CBoHzQcuBbCD8MIpAIS/ez2k+/R50/h79zf2ZrWytLJzx3PxNBN057VKdg+3Gjiu+nS8CP3R/31AwYLeBF1Fgsa3hwpH1wg5B/+HXEbbBhEFK0OyAguBNsA6vwd9yzxhO5k8Cf0N/ZU9uL3sf1hBskNlRGSExwX/xypIiElEySlIdkfkh4nHFcXiBBNCfACa/2h963w/ugc4jvdAtoI14fTW9Adz1TQ7tKO1R3Yv9tf4Yro6O+O9rH8EgPwCZ0QIhYbGuwcDB9fIFwg3R5bHDkZKBXWDwUKKAWNAZz93/ep8XDu8e/F8/H1tPWF9tj7rAR8DE8Q1hH3FAgbVyFRJEgjsCAQH2seqhwkGE8RIwoaBPv+X/ld8pDqo+O53mHbMNhv1APRf89o0LrSI9WB1+baPeA555buTPVk+68BtgjmD/EVFBrJHAIf0iBbIQ8gdh0+Gi8W1RD7CkIG2wLH/oH47fEF7yfxDvWS9sL12vbr/OcF7wzdD0YR6RQqG9og7iKLIT4f4x3uHH4ajxXtDkUIlwKF/er3H/HI6Wbj/d4S3D3ZxdWV0knRZdLO1B/XQtl43M/h2egH8DX2tPuyAbQIwA9JFcQYGBtKHSIffR/mHTIbOhirFMwPMAqQBXkCHP+R+Rjzoe9k8dX1WvjW9yj4av2xBtkOWxIXE5oVhBvJIWQksSKKH7kdGx1UG58WkA9SCHYCpv07+CfxO+l04gTeH9v81/fTatA1z6bQMNNH1S3Xk9qB4AToJO/19GL6ygAsCAwPGRR9F1Aa+ByrHqMeNR1LG/QYRxULELoKCgeNBNEAkfor9KnxJvQm+ID5X/gm+RL/Egj9DmIR8xHaFLkaMCDmIe8fFh2DG8kazRgiFFoNbwboAHv8effR8HfpfePK3yfd6NkG1irTptIF1NXVh9f82UzeW+Tc6q7w7/Wg+0YCJQn1Dj4TqxblGZEcuB0qHcwbVho3GGoUOg91ClAHrgRdAC367fSY88v1Hfgi+Gj3ivm4/xkHBAz9DcgP0RNZGYcdkh5QHdUbJhtzGjAYtRPTDQoIKAOg/kP5vPIW7Lnm7+Kx3/3bKNiM1QHV99VE157Y8Nok3+zkA+uO8On16/ueAhQJXw6CEhcWSxmDGyEcYBsaGqQYSRZLEj4N1AjzBWkDPf9w+bb0svPb9fv3/Pd598r52f/gBosLlA2lD+ETYhlhHU0eKR0EHKYb+Rp5GNQTHw6wCO0DJf95+e7yguxM52bj9N823I/YKNak1WzWfNex2PHaAN955C3qbO+b9Hn6BAFZB5IMqRA+FJoXLBo0G8caxBmbGKAWABNFDh4KVwedBCYAX/oY9nT1Vvei+AX4jvcg+uX/CAbxCewLYQ7DEvEXkhuPHOIbOhsdG4AaBhh8ExAOGgnEBAYAAvon89zs9Ofo467fIdtG1ybVsNT+1IHVp9ZD2Yndx+Ia6E7t5PJC+QUAPQZeC7QP1BOoF2oakxuNGyYbbxqlGFMVQRG8Df8K0AcnA+b9Uvqt+br6JPtU+jj6+vxRAqMH1gqCDPkOYxNaGHob5BvtGmMahBrjGRwXXxIpDbAItwQNABT6ffOS7eHo1uSm4FfcwNif1urVB9ab1ufXZtov3sziu+fg7HHyePiT/kQEbgkzDoMS8RUiGEYZ0hnPGbwYSRYEE+4PWA2ACosG3wEa/n38l/zM/Db8wfsd/bAABwVUCFkKcAzAD88T/BZAGB0YyhfAF00XeRUlEhoOJApHBvEBy/w09+PxLO3M6HHkQuDF3Ffa39gQ2NbXd9g92h3dvuDC5Bjp8u1s8zn5z/7aA30I/Qw4EZcUphaUF/gXDRhgF2kVXRIzD6cMXgpTBzoDQv8U/Rz9Bv5I/vX9tP68AUUGQwqkDFAO3BCKFOsXdxkhGSkYjxf9Fk8V8xGRDUkJgQWiAfH8gPcm8pLttOkA5jjiut4i3LnaQ9pZ2t7aKNyd3jXiYOaL6rbuWfOt+D3+SgOSB3ALMQ+OEuoUDxZjFlcW0hVmFAUSTg/rDMIKEQh/BOcAt/5n/vL+A/+a/hr/kwFhBccI2QpfDLMO/xH6FFUWGRZnFQoVmBQEE+wPAQxCCOsEWgHy/N/38fLC7i/rquf544bg/t2j3B/c+dsk3BndTt+i4mrmG+rT7SDyNPeL/FsBbAUjCeEMXhDyElUU7RQ2FR0VKBQ4EukP8Q06DPEJoQYWA8sAZgABATcB0wAbAUkD/gaICr0MIA4OEPkSyRUXF6wWkBWzFOETGhLWDqUKiQbtAln/IftA9mjxSu3x6dnmneN34BTe2tyN3J7c4NzB3cvf+eKq5kfq2+3s8br20/t7AG4EBAiZC/UOeBHYEnITyBPLE/0SOhEiD4ANSAyTCr8HcgQyAtgBrAI4AwEDFwPWBDcItwv6DTAPrRAxE+gVWBf7FrMVmxS8Ex0S+g6wClYGjwIG//f6L/ZN8Rvtwem55ofjXODx3cbcl9y93PjcyN3L3/zip+Yx6rntzfGd9qn7QgBEBAcIxwszD70ROxMKFIUUhxShE8sRqQ/yDZQMugrHB1EEvgHsAEUBegEHAdYAJwIIBTEIZAq4C0wNyw+LEkYUeBTOEzkTzxLJEXgPCAxPCOoEsgEX/tb5TvUc8YHtOOrr5q3j/+BQ343eSN5D3sDeNuC+4ujlNumZ7Gzw4PSl+TD+SAImBvIJaA0VEN8RExPsEzIUgRPrERQQjg4rDSULHwjLBGQCdwFcARIBfwCVAC0C7gShB4EJAAsODd0PihINFE0UEBTyE7ETfxL9D6YMPQkJBq8Cw/5P+tP1w/Em7rLqMufg40Phsd/53qXekt4j38/ghOO25vvpeO2J8S726fo0//oCjAYiCoENKxDZEcESUROcEz0T2RG7D6sNFAyECjgIKAVHAp8AQgBQABcA6/+8APIC0AU/CPcJrQsVDucQHBMKFAcU2hO5ExQTTBFxDiUL7gfABDsBL/3b+Ln0DfG47XDqIucj5OvhpeAL4M3f9N/m4OfiwuX46D/svu/C80P40fz3AKoEMQipC7oO5xAWEqUS4hKlEpMRuw+pDcsL5wlnBzIEAwHW/vT9xf2S/W39KP5MAFkDJQYnCPQJcgyeD3wSLBS9FNcU0xRnFBcTtRB/DecJUAbLAgv/y/pQ9kvyDe8W7LToBeUB4l/gxt9R38ne7N6H4HPjxubl6SftRfFR9nv77/+2A4AHlgtYD+4RQBP4E44UqxSzE6sRVQ9PDWIL1QhjBbwB+v6a/Rz9pPwH/Az8kP1qAHIDrwVgB5cJ3Ax7EDcTjRQAFVQVrRV2FQsUVBHhDWsKOQfgA8z/C/ty9sDyte9j7Gjok+QO4gPhhODR31TfFOBq4pTlrOi3627vK/RT+fv97AG5BdMJ0g3REHESLxOsE9kTExMREWUO5wvGCV4HDwQdAJ78gvrE+Yz5Lvn8+PD5kPwzAJ8DQwbCCBcMWBB3FEwXphhJGe0ZcBoIGh4Y4RQNETkNbQlGBYAAT/tK9vjxWO7o6jnnheOa4A7fnN593mXe6d7B4N3jcufx6pzuBfMp+Fb95gHkBcQJrA0lEZATxhQoFRoVghT7Em0QVg1XCpEHmQQOATL9wflb9xT2jvV09dX1GfeW+Rr98QB3BLkHVAugDwkUfhd3GWkaFBuNGyobSRkLFiMSIQ4DCnEFQAC++oX1CvFA7a/pBeaL4vLfnt4+3jjea95Q31vhZ+Ts557rou8u9B35//2FAq4GkQoTDu0Q5hL6E08U8hPPEtwQSQ50C5kIrQWGAi3/5PsI+eX2o/VL9cD14fa0+GX77P7cAq8GRwr8DQgSABYTGdYaoBv8G/Ab7hqJGPcU2xCbDB0IHgOv/Tr4NfPR7vfqdec95IThrd/v3h/f2d/x4JviG+Vi6Bvs/e/68xr4TPxwAHIENQiKC0wOiBBVEpQT9xNcE/oRIRDdDQsLtwdABAAB+/0D+xj4e/Vy8yzy2PGq8qL0d/fa+sz+bwOKCHQNrBFaFe8YUhzCHqIfLh8dHrgckhowF7wSzw3HCIUD7P00+MDyuO0S6erkieEM3zvd7tts2y7cPt4M4QjkPuck6+3vJ/Up+qr+3wIVBzILxA5iEQIT8RNyFGwUhBOSEdUOwQuOCC4FnQEe/gL7ZPgp9jv0sfKz8XrxT/Jl9Jj3d/u+/5YEJwr/D0IVfhkFHUAg1yLlIwcjyyAAHswavBaXEcoL7QUwAG/6q/Q772XqJ+Zr4lLfFt232/Tas9o+2/TczN9P4xHnHevR7071M/veAPkFogodD1MTxxYHGRYaTRrfGagYcRZLE4UPaAsaB7YCZf5L+pf2evMI8RDvXO0m7B7suu2r8C709vdz/AkCWAhvDr8TeBj5HAgh3SPWJAgkCiJIH6cb2hbtEF8KvgND/ef2wvAX6yPm+uGm3jvcudr32dzZkNpU3CLfnOJk5nLqB+9I9Pn5nv/YBKEJJw5vEiEWzhhRGuAatRrFGeYXGRWVEZsNWQn4BKEAbvyC+B/1ffJ/8M/uce0G7Snut/Ds81v3XPtpAEEGBAwXEaEVBho1HpEhfCPNI8QiryClHYsZThQfDmoHmQDo+W3zTu3E5wnjP99z3KPastmD2RvaoNsl3n/hV+V36eLtuPL392r9ugKkBxYMJxDeEwcXTxmFGsgaTxooGTIXXhTTENYMnwhKBOf/lPuM9xn0XPE073LtNez+6zjtve/78pz20frk/50FUgt8EBsVbRlrHakgoSIUIyAiDSAUHTMZURSADh4IqwFz+3v1sO8h6hPl3+DA3a/baNq32bnZw9oB3TTg7OPx517sWvHT9n38BAIvB+kLORAnFIwXFRqDG+Qbfxt0GpoYyRUgEv0NpAkgBWoArfs892XzPPCb7WfrzulP6Vvq3exC8Bn0jfgK/nsEEgv4EAEWjBrBHjsiXiTcJNMjlCFoHmsaiRWoD/4IGwKI+2L1d++96YvkT+Ay3Qvbm9nA2I/YT9lI23veiuIM5+jrRvEp9zb99AInCN0MOBEnFWQYnxq/G+4bZhswGiQYLxV5EVAN8giPBEIABPy394Dz7O947fjryOrE6cfpxuuc7x30gPg//TkDTwo7EeAWUhtcHz0jPSZzJ6gmaiROIXQdoBi4EvsL5QTm/Tr37vD76mzlcuBZ3FLZSNf61VPVltUi1//Zzt0g4uDmQexV8t/4gP/sBegLKxGEFQIZyRu+HY4eFR6mHKQaExivFHwQ7wuCB0UDDv/U+r729/Ks7x3taetV6pPpcOnN6ifu1fK795H8HQLlCCkQgxZeG1MfDyNFJvQngSdIJRMiSh7EGTUUrw2xBtH/XflQ84ftCOgV4//e8tvS2WfYoNe31/vYfNvv3vLiZedq7BryR/iT/p8ELAoVD0sT0RaZGXkbRhz/G80a2BgqFs4S8g7bCsEGuAK4/qz6oPbd8tHvre0p7OHqAupd6pnsaPDO9ED5MP5IBE0LEBKUF+kbvx9GI8clYCbzJCkirx6eGp4VhA+yCNkBcvt69bLvCurO5GvgDd2R2sDYltdP1y/YR9po3UXhseW26mjwrPYj/WQDNQl5Dg4TyBaWGYQbjRyWHJobxxlVF1UUxBDLDLsIygT1ACr9avnT9ZHy6O8O7t7s7es264PrzO398dj2X/v7/8wF6gzgEysZ0BzrH/wiHyUcJdQiQB9IG/YW0xHBC0IFA/9Z+Sz0Pu956grmPOJA3w3dc9td2vbZmNp83H3fOuNt5yrsn/Gy9/H96QNwCX0O5xJrFu4YihpOGxkb1BmtF+wUrBHrDdEJtAXRAR3+ffr79r3z6PCs7j/tj+w57CHs+Oyu7z/0cfkw/tkCpAjBD70W+xtcH/whciT5JWQlfiIpHlkZThTBDokI8gGU++n1APGE7Bzo3eM14Hndl9tP2pXZotm32u3cOuBx5D/pZu7v8wX6fQC7BjoMAhFTFf4YaxtbHEsc2hv4GgcZzRXhERMOjQrfBr4Cg/6/+oz3jfSZ8SHvs+047QztA+317enwvPUT++f/sASeCrURYhgZHfUfNiJnJJElbiT0IEccahdsEtsMnwYoAP/5aPRl79Xqluax4mDf4dw02ynasdn/2VTbwN0e4ULlB+pO7/70BvsyASkHlQxgEZAV9BgsGxkcExx/G0oaCxioFKMQmwy1CKoEWgAY/FH4HfVR8uvvNu5p7UXtae3q7XfvofIi9xH85QD4BdwLWRJXGNwc5h8SIqUjHSTOIqEfJxsHFooQqQpqBBL+DPio8vDtr+mz5Qri8t6V3N/aq9kJ2T3ZgNrZ3CvgWeRJ6dru6fRQ+9MBIQjxDSQTphc3G4UdiB6SHu0dexzwGU8WCxKhDTgJuQQdAJf7cvcC9IfxBvBD7/Pu+O5f70DwtfH08y/3Y/tjAC4G/Ay3FIYcIiPDJ48q/Sv2K8cp/iQmHnsW9A6sB1sAHPmR8jXtxeiN5D7gMdzn2HPWktQr047SMdNT1dnYc93U4uXotO8t99T+/QVVDP8RHRdkG1we/B+9IO0gPSAiHqcaeBYmEo4NOAgrAin8BPf78sfvMO1e64nqn+pl69fsM++Y8tv20vunAaQIkRB9GFMfnCSIKEYrbyxFK4Un0CEtGzwUAQ1wBe/9JPdc8UvseOe/4lnejtp/1zHVs9Mi07HTntUF2bXdTeOO6XXw6/eG/8IGaA2CE/AYSh0/IPghziK/Im0hqx7hGqkWKRIKDRsHyADW+rn1Y/Ge7YDqWuhi55fn6OhW69zuXPPN+Ez/3gYCD8UWYB28IicnlCpVLK8rpij+I34eVxhoEeMJbgKW+1n1Yu+T6RrkJt+72ufW49Pk0fbQJtGp0rHVGtqG37nlrew69PD7YwN2CgkRqxbWGoYdRR9kIIIgBx8JHFkYoRS7EAkMXAZKAKf61/W98SXuLusx6XXo+eiT6ijtuvBJ9cj6KQFXCAIQghcjHo0j1CcOK+AstSxPKhAmmyBUGlYTzgssBN/8Cvac75DpB+QW37fa7tbm09vR7dAg0XnSCNXR2MXdxOOS6tbxOPmLAMkHuQ7IFF4ZZBxRHpYfDiAxH8YcSxmJFdIRyQ3vCFoDxP3k+Or0iPGF7hLsn+pz6ojrqu2v8Iv0XPlT/3AGQQ7wFb8cdyI6JwIrUC18LUsrHiefIUcbQxS3DPUEZv1G9p7vX+mQ40Peh9lz1S3S6s/Qzu7OTdD30urWD9w94jbpqfBF+Nz/Vwd/Ds8UuhkdHVgf0yB8Id4gth5kG5wXvxOQD50K6QQe/wn69fWa8p3vFO146zPrRexm7l3xMPUV+joAhAdlDxQX7x2/I34o9CujLSMtfSoVJl4gtxl9Eg8LtwOb/M31Z+946fXjzd4S2vjVudJ/0GvPls8M0b7Tndeg3KribumA8Jj3r/7ABYMMbBIYF5UaPh07H0Qg5h8PHjcb8hdlFEEQRgu5BUoAkfum90X0OPGl7u/saewb7cruO/F+9Ob4rv6dBQoNNRSuGlcgESWDKDQq2SmFJ54jnx7pGLsSQAypBSj/4Pje8hvtkedA4kHdy9gx1bjSetFt0YjS29R92FndIuNs6ejvfvY7/QgEhAolEKoUSBhVG8YdHh/rHkwd1Rr1F5IUTRARC1wF7/9A+0r3yvOi8BPuh+xE7DrtIu/K8VL1FvpLAKcHaw/TFoEdaCNdKNgrNy00LBgpcCS1HjgYPREXChYDcPw19lfwvOpQ5RPgK9va1lzT4tCKz3TPwNB805XX19zz4pHpZvBK9y3+8gRNC9oQYRX4GNEb6B3sHo4eyhz9GZgWzBJ3Dm4J2wNc/qD57PX68mDwFe6B7BXs5uyt7h7xRfR9+CD+GgXRDG8UZRuMIdQm3Cr+LMgsUioiJskgqBoBFBYNNQae/2f5hvPc7VPo7OLN3TbZbtWr0hbRzdDq0XDUPdgb3c/iIOnG73n2Hf3EA2QKmxDiFQcaQx3DH0EhPiGUH58c3BiDFJcPIQpSBHr+C/mA9BHxf+5d7KDqvekw6vbrpe7y8Q32YPsZAuEJ9RGGGSMguyVDKl4tdC4wLdgpCyVLH9EYxxF6CjwDO/x99QXv1Ojl4kjdOdgT1BfRUM/EzpDPz9Fk1QjafN+h5UjsIPPo+aoAkgd5DssU9xnmHdwg7yK6I8ciGCAwHJ4XmBIRDQ8H0wDT+pP1c/Fu7hfsBepf6N7nC+mi6+TugPIC9yr99gR1DYIVixydItkn+itmLpkujSy2KLgj/h2tF88QkQlEAi77ZfTU7WbnL+F326LW99KD0DrPKc920CbTCNfZ223ho+c97vv01/vyAjgKHhEBF6cbPh/fIT8j8iLuIJ0dhxn0FOsPZQqBBKD+Tvn/9LfxCO+C7D3q1ujs6I3qO+2E8Ib02PnTAP4IQhHIGHAfbiWLKgYuOS8kLkAr/iaQIRsb7BNkDNgEhv2H9sTvFOl/4mPcM9cp0zXQUM6mzXHOt9A61LTY/t0F5J7qhfGO+Lf/BwdBDt4UYBqeHrAhkCP5I7Ii3h/zG2AXWRLrDCkHSwGu+8L22PLh73PtNOtY6Y7oYumy69fuZvKq9k38egN3CygT7hntH20lIiorLdEtISzFKGMkMh8jGUoSCAvRA+b8Pfav7y7p4OIY3THYYdSp0f7Pb88v0FbSuNUF2gnfw+Qr6wfyEPk2AIkH3A6jFUMbgR9wIhUkNySoIpMfbhuqFoERBQxQBpUAI/tX9n3yle9G7TXrfenF6LfpWuwA8AH0cfj6/fsE4QyEFB0bvCDCJRAq4CxpLZMr9SdGI94duhfbEIYJLQIl+3X0+u2c53Hhxtv81lnT49B8zyXPE9Bs0gLWbNpx3ynloOuV8qT5swDmBygP8RWfG+0f6CKQJLAkJiMjIA4cSBcOEogM1gYWAX77b/ZK8hnvguwt6kHoZ+c56LrqXu6W8lv3Fv0KBNYLjxNrGkAgSSWDKV4sJi2hKzwooiM8HicYcRFOChMDDPxa9fPuu+i24iPdY9i/1EfS6dCq0KLR4tNP17Lb1OCT5tTscvNG+jgBNAgFD0QVfhpnHvUgNCIbIpQgrh25GSEVNxAXC8EFRwDs+h72P/JY7wvt9uo56YLofek27BXwePRB+cz+YQXJDFAUPhs4IUkmdSpoLYIuVS0IKjklih9GGXUSIQuJAwb81fQA7nDnJOFX22XWnNIV0MzOvc71z27SCtah2gngG+as7JbzxvosAp8JyBBDF7Uc4iCeI8wkXiRnIiUf7xoVFtQQUAufBeL/VfpT9TXxF+6/69fpUOiL5x/oWuoD7oTyZver/KYChgnuEB4Ybx6tI/EnLCv0LMEsYSorJsUgvhpQFHMNKQar/kr3OPBy6fLi4tyX11nTT9CMziPOG89a0bXUBtk83jvk1OrP8Q/5iAAdCIUPWxZDHAAhYCQzJlUmzyTjIe4dPBn6E0UOQwghAhj8b/Z+8Ybte+oT6Bjmv+Sg5DzmjOkG7h3zp/jc/t0Fag3sFNMb1CHbJtUqjS2uLuwtMSu3JvogdBpsE/oLPgSA/Ab18u085+7gONtg1pbS8s+KznjOyM9r0jfW/dqQ4Mvmhu2W9Mv7+gIACrAQzRYPHDQgESN8JFgkrCK2H8gbJBfsEU0Mgga9AB/70vUk8WDtj+p66O/mCuYv5sXn5+pM73T0Avr4/4MGog3pFMMbxiG/JpIqGC0dLl4tlyrHJXQfdBhbESwKtgIW+7fz5OyU5q3gTNu41ibTq9Biz27P1NB30zfX/duu4RroBO849o393AT4C60SuRjYHcohZCSCJRQlJiPwH7obwxZHEYYLvQUOAJP6gvUv8dPtWet+6SPoeefh56LpxewQ8Sn2w/vFAUIINg9NFvIcnyIbJ2UqaCzTLFIr2yfGIpkcxRWXDj4H3P+N+HbxwuqX5P/e+tmf1S7S9M8iz7nPm9Ge1JnYbN0A4z7p+O/y9vT92QSJC9YRdRcVHHgffSEeImkhdh9nHG8Y2hPwDt4JrwR0/2j65fUl8hfvgOxJ6qnoAuif6JPqxO0E8hL3rfy2AjcJIhAVF3MdwyLmJt8piCuPK8ApPiZyId0b4BWrDzsJhQKs+/P0ku6K6NDigd3m2FLVA9MX0oHSC9SG1u/ZWt6o44Hpoe8F9sD8qQNeCoEQ2BUtGkgdDx+XH/4eUx2yGlcXiRNgD9QK+wUdAYL8Rvhn9O/wCu7u673qeOoY66zsWu8m89P3Dv25AucIcA/SFY4bhSDFJAEohinZKDwmXCK1HWcYiRJeDC0GDQAD+in0l+4/6RnkZN+O2+DYT9e51h7XidjY2svdOuEt5arpmO7Q8zb5qf7xA9IILA0LEYAUdBeeGZ8aShrPGJsWChQiEboNyQmUBYUB3v2i+rf3GvXt8mbxqPCn8Ejxi/KY9Iv3RfuH/y4EOQmCDqkTVRh0HAYgtSLVI/QiUCCeHGgYxROqDj8J1gOo/rf5/PR08Bns5+f/46ngJ96L3Mfb1du53F7em+BR44XmO+pY7qryDvd9++f/GwTjBzELJg7dEB8TfhSuFNoTiBIeEZUPpA0pC1sIlgUSA8kAoP6T/MX6Xvlv+Of3tPfv9874e/r1/BgAwgPQBxUMVRBeFAEY5xqMHHsctxrNF2wU7RBDDU8JNwVSAdT9mPpN97vz8e8s7K/oqeU342rhUODv30jgUOH24iTlzefz6ovua/JY9ir65P2VATYFnwirC0AOORBlEbcRbhHmEEIQUg/hDQcMGQpQCJYGwwTdAhkBn/9c/iv9BPwe+8/6YPvm/ET/TgLdBcEJwg2iES0VJRgcGoYaFBkUFlUSog5GCxQI3gS2Ac7+J/x++Yf2MPOe7xPszOgA5ufjpOIy4mniG+M25MHlzudi6nLt2fBX9Lf39fo6/qgBJgVrCDsLew0ZD/UPERCuDyYPmA7TDaUMJAuVCRoImAb2BFcD8wHTALr/cv4Y/Q/8wPtX/M/9DwADA4YGZApcDi0SjRUNGCAZYRjgFTwSUw7CCrIH/AR2AgwAov0D+wf4tPQ38cPteeqD5xzlhePc4grj0+ME5YXmYeit6njtt/A89Mf3LPtv/rIBAAUzCBALcw1HD2YQqRApEEkPZw6KDXEM+wpNCZgH3wUPBEgC1ADR//z+9f2s/IT7CPuL+xT9h//CApIGogqUDisSSRWxF/EYlBiDFjMTaA/FC4MIggWMAoz/kPyj+az2ivNB8APtBupf5xTlSOM34v7heOJp47fkdebB6J7r9+6j8m/2Mfrd/X0BGAWPCLQLYw5/ENwRWxINEkYRWBBWDxkOhAyoCq8IqAaTBI0C0wCK/4D+WP3z+6/6JPqm+if8kv4MArUGHwxTEXAVNhjYGWUamBlGF84T5g8PDF0IuwQ2AfT9+voo+Fb1dvKK75Lsj+mT5tbjsuF54Erg/+BP4gXkIOa56OXrnO+s88z3x/uY/1AD6wZECkIN7Q9AEv0T3xToFGEUexMcEh0QoQ0LC54IVgYbBAACMgC+/n/9T/xD+6b6y/rP+5z9FgBRA2EHDgy0EJgUUxfcGEIZdxhsFlATkg+ZC48HeQNv/6b7S/hS9Y7y4e9E7a7qDeh25TbjmuG14Hbg4uAX4gfkeOZS6cDs0PAi9Sn5uvwkAJsD5QaxCQ0MRQ5XEOkRvBL5EuQSbxJaEZoPgA1gC0sJKgcCBQkDZwEQANv+vf3u/Ln8Pv1s/isAhgKSBTMJCg2hEKYT9xVyF+EXDxf9FPMRWA5zCmIGOQI0/pX6d/eu9PvxQ++Y7AjqmOdb5XrjHeJc4Ujh8OFT41Tl3+f86qzusfKl9kn6rP3xABQE8waKCekLCQ7DD/8QzRE7EjASfxEmEFsOVwwzCvAHnAVcA1sBr/9P/iv9S/zX+wL81vw5/hsAkQKnBTMJ0gwqEAwTXRXtFnYXzRYEFV0SHA9uC3AHTAM+/337G/j89P7xGe9h7Ojpq+ek5ejjneLq4eDhfOK545zlMuh460LvRfM99w37vv5NApsFgwj8ChYN2g49EDERwRH0EbsR+hCwD/8NFAwDCswHhAVSA1YBjv/m/XD8ZfsB+1H7Q/zR/Q4ACAOTBlYK+w1PES8UYBaXF50XeRZmFKIRVQ6YCpgGmgLg/nz7U/hA9TzyWu+t7DDq2ee25fPjveIo4jHi3uJD5HDmVunD7HvwUfQq+Pf7p/8jA1AGGwl/C4cNMg91EEcRsBG0EUQRThDbDg8NCgvZCIkGOgQHAvP/7f0L/I76tfmY+S76d/t8/TAAaAPnBnIKzw3FECoT5xTjFfIV+BQLE3YQhA1PCtsGQgPC/4f8i/ml9rnz2PAl7q/raelL523l/uMj4+jiSeNN5APmduiO6xvv4/K69on6Qf7QAR0FDwicCsUMjw71D/gQmhHbEbURIxEoENQOLQ02C/wIpgZjBEUCPAA5/lz86voe+gj6ovrt+/T9pwDZA1AH1wo8DkERtRN+FYcWqRa7Fc0TMxFADgQLawePA7z/KfzF+GH1APLY7hDsoOlx543lGuQz497iGOPo41jlcOco6mDt4fCB9DD46vua/xADJwbeCEMLUw33DiQQ6BBLEUQRxBDZD6IOLQ1yC3AJTAc5BUoDaQGE/7b9Q/xh+x37cftg/Pf9MADqAvYFJAlGDCUPkxFrE4oUyhQVFIISUxC7DcoKgAf8A3YAFf3S+Zr2ePOR8Afu1uvl6SPonuZ25cfklOTP5HjlreaP6BjrGO5d8df0hvhU/AgAcgOHBkwJuguxDSQPJxDQEBYR5BA8EEEPDw6lDPIKBgkNBy0FYgOWAcf/HP7M/AP80vs+/Er99/49AQYEHgdGCkYN/Q9QEgoU5RS3FJUTvRFhD4gMMgmBBbUBAv5v+vz2tPO18BDuxuvO6Sfozea/5Qrlv+Tr5ITliOYM6DPq/Ow78LrzXvci++/+lALjBcYIPgtDDcwO1g9wEKoQhBD5DxEP5Q2MDAgLVwmDB64F8gNPArQAH/+t/Yv84fvH+0b8Xf0A/ygBxAOuBqQJaQzgDvkQhhI/E/4S6BFEEDsOxAvZCKcFagJF/zT8Pfly9uXzkPFq73btvus/6vTo6Oc35/PmHee058zogOrV7Kzv2PI19q/5M/2gANADpgYZCSULxwz8DdEOWA+aD48PLw+GDqsNqAx1Cw8KgAjjBkQFpgMEAmYA4/6a/bj8Zfyt/IL90f6UAMgCRwXUBzcKWQwpDn4PGRDeD+wOfw26C5gJGAdaBI4B1f4z/Kz5TPcf9SPzUPGj7yXu1+y569DqL+rp6Qfqh+pu68nsou7q8H7zOvYH+dn7o/5IAa0DxAWOBxMJVApTCxkMsAwXDUUNNA3vDIIM6AsQC/gJrghKB9kFWQTMAkAB2P/B/iL+Bv5a/gr/GwCWAWUDSwUXB7gIKApKC+YL3gtGC0wKCwl/B6YFkwNrAUr/Nv0x+0T5fffd9V30+fK48aDwsO/n7lDu/u397UTuye6U77rwQPIQ9Az2IfhL+oH8rv6+AKYCYQTpBT0HXwhWCSgKzwpCC30LhwtlCxMLhQq6CcIItQebBnAFMgTzAsoBuwC5/7z+7/2O/bT9Qf4C/+7/JgG+AoQEKAaCB6AIjQkkCi8KsAnfCOQHsQYvBXYDtgEBAEL+bvyq+h/5y/eN9lv1S/R088vyQfLd8bbx1vEp8qHyRfMp9FD1p/YZ+Jv5Kvu//E3+zP8zAX0CpAOqBJYFaQYfB7UHNwiuCBYJXgl5CWkJOAnpCG0IvAfcBt4F0wS3A4ACKQHG/3f+Yf2b/C78E/w7/KH8Uf1Y/qb/BgFMAm8DhASDBUEGoga0Bp0GYQbpBTAFUQRiA1sCLQHo/6z+hv1p/En7MPoy+VH4i/fi9mH2Dvbs9fb1KPZ69uv2f/c4+An55PnC+qr7nPyN/XT+U/8uAAYB2AGkAm0DLATZBHEF7wVJBnkGiAaCBmkGMAbRBVUFzAQ4BJcD4QISAi4BRABv/7v+I/6e/Tv9Hv1S/b/9Sf7u/sT/ywDkAekCzAOUBD8FugXyBewFvAVxBQoFfQTPAxMDVwKUAcQA7/8k/23+w/0a/XT82/tW++L6ffoq+vH51vnV+en5C/pA+pD6AfuK+xr8q/xF/e79nP46/8P/QAC8ADMBmgHwAT0ChQLIAgMDNgNhA4EDlQOgA6EDjQNeAxgDwgJdAuABSQGkAAEAZ//S/kL+wP1W/RT9Bf0n/WX9tP0e/rb+fP9KAPwAiQECAncC3gIjAz0DLgP+ArECVAL1AaEBWQEaAeAAsACHAF0AKwD0/7//lP9r/zL/5v6W/lf+LP4K/uf9zf3L/d397/3w/ej95v3x/QH+Df4Y/iv+SP5u/pn+xf7v/hD/Lv9Q/3//uP/0/zAAdQDCAA8BUAGGAbkB7QEdAjUCKQIBAtEBqQGEAU4B/ACnAHcAeQCJAHAAHgC9/37/cf94/3P/Yf9Y/2v/o//7/2QAxAAEASIBLAEwATMBPAFYAY8BzwH6AQEC8wHtAfoBCAL5AcABbgEdAdEAfgAZALX/Zv8t//D+l/4q/rz9X/0V/dr8q/yD/Fv8OPwg/Br8Jvw8/F38jvzT/Cj9f/3U/TD+q/5C/9b/RQCYAPEAZgHmAU8CmALLAvICCQMPAxMDFgMIA9QCgQIqAuoByAG9Ab8BwgGzAYwBVAEcAekAsABrACoAEQA2AIoA2QD2AOEAwwC+AMUAsABsAA4Asv9b/wH/sf6G/oL+hv5s/i/+3v2O/VH9Nv06/UD9Kf32/Mf8t/zK/PT8KP1f/Zn94P07/p7++P5O/7n/PACyAPkAHwFTAaEB6gEUAjECXAKNAqsCuALOAu8C+ALOAn4CLgLuAboBjAFiATMB8QCiAF0ALgAOAAAAIQCNABwBfwGHAVQBKQEbAQcBxQBWANz/Z//y/oT+g/63/5cCWAbOCOsHdgM2/U33tvJm70vthuwA7Znu2PGT9z7/GQYICWkHsgMuAWIBigPXBcgG1gWyA/EB9QG3A7IFGwZcBHUBN//v/oQAoQLQA5YDiAJvAY0Asv+2/rP92vxi/JX8qv18/20ByAJNA2QDswNlBOUEiAR+A+ICnANcBeQGPgd1BjMFAAQLA1wC7QGlAVUBxQDB/0P+lPwD+3X5hvdL9aLzQfPH8zr0VvTF9NX1xPbL9mr21PZM+Mn5evrj+hL8O/6iAK8CYwTeBf0GqAcoCL4ILAn9CCkIMQeHBhQGcQVqBEUDsgJpA6EFsAiFC6ENew+tEeoTIRWsFP8S9RDXDmYMhwl2BkwDxP+z+2v3avPa74TsMOnn5QPjD+F34Prgv+FJ4k7jFubd6lfwK/Vz+T7+3gNpCe8NgxGkFCEXVxg0GFoXDhafE1EPjgnDAw3/WPvW9wb0MvAn7ZPrlOuu7Dfu/e+W8vj2lf22BdgNsxQlGhQfVyStKcotay9qLr8rgSjsJD8gmhn2EFEH6v1F9RrtFuV43dPWYdHzzJXJ2cc6yF7KWc3J0FbV5Ntb5H7tF/YU/joG6A5bF3Ye9CN1KFAswy61Lg4s5ScqI5EdLRbsDA4DD/pi8oPr8+Tl3hHaHddM1mfXytnN3IbgDOaR7uT5Fgb2EPAZRyJNK6c0ZDy/QIlB9z8+PYs5FDQHLF8hDRVgCEb87/AN5lDb0tBPx/2/2bvDumG7W7zavYTBscjJ0rXd2OdY8Vv7cAbiEUYcgCRcKogu7zG1NMg1wjN2LmInSiB9GcYRHQgZ/YXy0+kX43ndVNjW09XQLdAr0krWeNvV4GnmIu3j9XgAkgvIFbseDydeL043sT2AQYlCV0GQPms6pTTTLN0iPxf6Cgj/yPPi6ODdA9OAya/C3r4TvRm807tkvfjBesmV0uPb/eRy7uH4HgQdD6EYJiAgJlgr6y/wMkQzrTAcLNImQCHBGoASjAge/rj0Bu2A5kzgWdqT1QzTFdMw1abY+tz54cDnxu6T9wEC9gwRF9gf+Sc2MDQ4gz7mQVhCzUAQPgU6AjSgKzchpxXaCV3+OPMm6AfdatKAyU7Dyb/qvcq8rbzGvuzDq8uY1IvdcuYE8LT6+gWREGUZYSBKJsgrkzCJM64zCzGmLJMnDiJgG8MSawiz/R/0Mew+5X3eENj70jfQ/8/m0UbViNlV3uvjGuuF9Ln/KgtuFV8e9ibdL2c4+j57QiND/UG1PwI8HTa0LUQjzBcrDL8AavXk6UreaNNryg3EAMBSvYG7F7suvUPCqMkO0pzacuMz7Q34QAOZDVsWtB1EJEUqIi/sMSIyGDCgLFUoHiNrHPETQgqUANz3LvD/6Aniy9sn16zUTtSt1V/YCtx64O3lEO1L9vwAoQsPFXAdzyWWLr02jjwvPzo/6z3ZO4g4DTP2Kr0gfhVCCmj/mfRq6RbepdM1yyjFAcEPvjS8/7skvt3CucnR0U/a9+I47Iz2lgESDNUU7BthItEogi4FMqYy9zANLnEq5SXVH/gXrg76BPL7//Ou7HzlrN432efVwtRY1UnXXNpx3rTjpOqD87P9+QeOEaEarSOGLDg0uTmpPGU9nTyvOks3uzG6KfsfnBUpC2MACvWQ6dbeedWszXrH58LNvw++8L3zvzLEGsoE0drY3uH464H2zwCeCtUTMxxjI00pBy51MS4z0jJyMHUsQCfpIFcZmBARB3P9WfQQ7JvkAd6P2MHU5tLu0pjUv9dv3KniQurs8mL8XQaGEHwa9COqLDU0FTr5Pdo/xT+tPYk5jTMILCwjFhkUDqMCKPff6yfhhddBz0PIiMKOvtq8Nb3jvpfB4MVjzPjU1d4/6cfzD/7FB9sQYhkUIWMnBiw7LzAxhzHFL/8r1ybIINQZ5xE9CVMApveb74fohOKB3Z/ZWNca177YqNuA35TkYuvh8139+wZNEFkZOiKrKvoxZjeeOtY7ZTtaOYI1vS8+KHUf2BXCC2cB4PZg7GHijdlD0lXMWsdZw/XA0sDcwlbGocrVz3zWyN4q6LLxxfpmA9IL+xNsG6whmiZYKuUs7i0LLTYq5SWoILka/RNnDEcEOfzC9BDuDuiv4j/eWtt52mrbWd2w3+DiEejK7wf5AgLuCZkRJxpqI7wrizG2NEw2IDfpNrk0DzBRKWQh8xgwEPYGKP3y8v/oNuAc2VjTHM46yafFmcQtxinJXszxzxnVktyg5bnu8vag/pkGBw8OF6IdfiIuJjApOSuEK6opCSZJIcoblRWxDk0HuP9f+Lnx9evO5gniH94c3HfcYN6V4PTiweYx7dX13P7eBh4O3RWeHk8nJi5GMks0XDXVNfQ0vzENLKYkiRw3FJALPAIy+Prtj+S03F3W1NCky1nHHcWDxeDHAMt1zvzShNn44Svr6/MA/AYEbgzCFPwbdCFbJUoodSpqK40qvSd1I2Ee0RiuEs4LXATi/O/1xu9L6ljlF+Ea3v3czd3R3x7imORH6FruuvbF/8IHkA6MFbcdQiYnLSUxzDKKM/szVjNqMOIqhSNxG0gT7grnAQX4xu085E7cCdaz0L3LjcdAxYTF4Mc3y/XOj9PO2cPhkuow8zv7BwPwCrsSqhkgHxgj9SX0J9woRCgFJmQi0B2bGN8SnwzsBf7+L/je8T/sSucA46vf2N3N3R/f+OAe43vmUOyg9Lb9nQUiDNwSGhsHJE8rgC9OMWoydDNlM+IwnyuJJM8cExU0DbAEPftG8eznQeBc2k/VP9CGy4XIQMhAyhbN7s9c047Y0t8j6DLwkPfF/mkGXw7ZFf8beyCYI+UlnydXKFInWiQhIJYb7BaKEfoKtgPD/Lf2XPE87FTnIOM+4PveFd/f3+/g1OLS5obt2fXP/YYEEAv2EiMcnyRtKmMtCS/EMFUyFTKfLj8oxSDSGV0T+wu0Alv43+5o51bhO9uo1LvOCcsZygPLaszZzRjQTdS72mXi8enV8Kz3YP/7B2cQThdXHF4gWCQXKFAqByqrJ4okUiF4HTIYkRFwCo0DEv3k9vTwQusK5vzh39+e3yPgtuBE4o7m3+1C9n39hgNCCtcS9BsiI1sn0ik5LKgumy+kLfcoICN1HeIXSxHzCHP/P/Zi7rTnVuHJ2ovUuc8dzZHMO81ozkTQodMH2fvfVudU7ib1gvyhBOEMOhQKGnQeCSIsJZwnnCiiJ+4kYCGWHVgZ/RNmDUsGlP+O+fLzee4v6Wvkq+CB3ijeGt9z4BviSeVQ68vzl/z2A2QKwRG6GpMj4SkQLbUubTDtMXYx2C20J8AgHhqAE9ALggJR+MTu7eaS4KjaktTvzhDLucmKyozMKM+Q0lrXyN1f5SbtXfQd+yQC5QnAEWYYAh30H00imCRDJjIm1SO6Hw4bixbzEXcMvAVp/rb3ZPId7unpVOUr4eXeLt8Z4Rvj8OQl6F/uOfdWANAHHw4lFZEdzyWtK5cuzy+rMA8xyC/uK8Ulax7lFnEPlAfE/iL1qOt24/DcideD0tzNecphycvK482T0YzVctoI4SPppvGD+ZgAjgfWDggWMRyWIDkjtySxJSwmeSXNIiMebhjPEpoNMwjwAQH7ZfQb70PrGujQ5I3hg9/G3wjix+QQ59rpJe+N9zsBngkIEBgWcx2DJe4rCS9yLwcvqS5jLa8pQiNbG3gTCQxvBAf8APNA6qbifNx+10HTqs8ezUbMhc2W0LnUZtmz3gjld+x59En8ewMkCosQuxZQHKAgOSM8JEIkwCOKIv8fuhsaFg8QUgrZBAj/i/j+8X/sj+iT5bjiL+Ai3zDgkeIh5SXoPu1m9Vv/qggkEMoWLh5AJiQtEDEHMpEx3jB4L90rSyW0HNUTkwtnA3D6uPBS51Hf8ti/01LPxsubyUnJ78pJzuzShdj13jzmPe6m9gL/7AY1DuIU+hpJIGUk6ybAJyAnbSXfIl4fphquFPYNQgf6AOn6vfS57pLppeWd4iDgi96U3kXgxOJ25Qnp5O5s9zcBUAoHEk0ZISERKX4vNTN8NHE0rDOxMZ0tISfSHrwVpwy1A5b6EvGP5+feytc60srNOMrMxxnHesjPy5/QZ9bm3CXkOOzn9KT94QVmDUsUphpEILIkfid6KOYnRSbeI2IgSxumFF8NhAZJAAb6SvOl7CXnNONM4ObdVdxh3Cne7uAu5Kvovu+M+VkE/w32FX0driXTLfEz0jYONxY2izS9MZos1iQ/GxgRPwe8/RL0DOo44J/X8dAQzG3IxcVvxA/FB8gezazTBdvi4mPrpPRV/sAHQxCrFzIeASTbKCIsUi1/LEkqQSdRI+MduBaCDnQGM/9h+F3xSOoO5HPfVNwZ2qfYnNhl2pTda+EQ5q/sIfaRAeYMoBYMH28nGTCtN148qT2sPLo69TdVMwQsXSKsFwwNtwJL+IHtquKL2ADQjskjxULCmsB9wKjCgMeEzqbWJN/253Txpvv3BY8P2xfYHtMk3il+LQUvPS6xKx0oqyPfHVMWfA17BDX8tPSG7YvmTeB720vYf9b/1QXXtNme3TXiruce70f5WgVMEXob+yP/Kxo0TjvhP+9AED+WOzM3bTFGKXUe8BFPBaH51u5K5LvZ0M+zxzjCUL86vlC+vb9dw8vJldJz3FjmKPBd+hoFuQ9BGSUhdyd8LCcwCTK9MV0vaStNJv4fPhgyD5QFTfzW8x3s6eRd3g/ZlNUK1BzUfNU22GPcweH050DvevjhAzgQghvcJBctPTXaPCpC50NqQu4+HDqiM+4q+R9kEzEGX/l/7X/i/dcMzozFjb9nvJK7YLzCvjbDJMpL08TdiOgU8479QQjsEqIcfiRJKkwuqTAmMaovkixCKJ4iOhspElAIzv4h9hXuY+ZF323ZgdWn04vTxdRB1zDbn+A455/uA/cFAc0MWxkKJeAuGjdQPkFExEfmR8tEXD86OFIvVCRvF2sJQvuv7SLh3tUTzOjDlr2FuTq45bkVvv/DN8sA1J3ef+pr9n8BywumFc4ediYSLJUv/zAzMHktpik/Jawf4RfuDWYD6Pmb8YzpS+G92TrUUdGN0DzRH9Nr1nHbLuIx6tby5fvXBTgRnR2AKWszJTt1QatG2UmuSd5FWD8kN28t3CFwFOIFHvfZ6K3bP9Dtxpm/DrqltjC2D7mhvtrFRM4l2JTj2+/h+wEHLxFaGh0iEyglLFQubC5HLFoojiNeHlMYrhCVB0P+/PX17oXoPuKo3MXYINds1wDZgNsK3+rjKepM8Y34dv96BroO0BjHI5EttzSMOWE9nkD2QbU/iDm9MM8mKxxrEGsDvfVC6NfbY9G4ye/ELsKOwFbA1cLUyHTR8No/5KbtoPfbAWkLnRNRGnkf6SKjJOwk4SM1IcQcPRe8EaIMGAcjABT4hPDJ6sHmVuMC4G3dotwG3iXhQuXa6dnuhfQU+wwCVgh9DcgSTRpgJHQuSTUiOBk5NTreOrI4TzKTKFQdvBERBmb6zO5T42HYLM8pyb3Gwcayx1PJy8ww0zfcWeYX8Nv4zgBCCEkPsBX5Gnoeyx8sH2UdDxshGEgUhw9FCsgEAf/t+ADz2e2v6U/mo+MA4tLhKuO65SDpG+2a8bn2kvy9AjAIIwxwD3gU6xxvJy8wOzRCNHsz6DMeNOYwpSjIHDMQxwSL+oXwBuZW28TRFctkyDLJpcspzuHQZ9UE3Tjn+vE++08C6wdLDQgTkhiSHOYdlhzMGekWehQHErcOGQpsBG7+4Pgs9CnwXuyY6E3lW+NQ4//ktOfG6v3trvF19pD8KwOmCBsM4Q7uEwgdbijOMQM21DW2NPE0RzVZMiEqxR1ZEEAEzvnf72zln9rj0BjKY8dWyDPLV86f0WXWCt5a6HDzDP0nBGIJJA5CE0UYzxu5HPoarRcxFEARpg6fC3gHEQIC/Ej2oPEB7snqg+eB5K3izeLn5E3oGuzO77DzmPj5/vUFtgs1D9gRwRbVH1IryjTgOCA4+jX+NE00uzAaKD4bDQ0UAA/1M+t54a3X0M6nyJHGasiAzPXQUNW22ojiv+ya99kAWQeqC0IPFRPMFjYZVRkWF0oTLw/eC7YJ+Ac1BYoAofo69ZbxXu9B7XPqdeeB5Ynlrec56wrvOfL+9LT4fP6UBYULow56EP0UuR67K7A2ZDsqOtM2kDQSM2UvGydwGtIL7/0y8n/o2N9y16TP9ckLyDbKAc9Y1DzZYd4u5Rfu6feQAKAGNgqJDMEOGxH+Ep4TgxLMD1EMdQlACFkI8QdABToAq/p39vDz8PFK7/7rEOmu53foG+tn7hrxIfPt9fj6vwHRB2sL/A1BE3UdkiqjNeQ6hTqhN/s0xDIDL50nEBzADSD/T/IN6KzfFdgX0dTLx8liy53P4tRP2iDgAuca7573Q//yBGcIPwqUCzsNMg+hEIMQkw7CC7kJjgmiCuYKfghwA5v9+fj39XPzLvAb7GTod+b/5l/pHOwf7uzvQfMh+TwAAgalCaANgRX8IYMvAjn5O+s5PTYDM6Uv+ClUIPUS7wP09bbqH+Lw2lfU6M4UzLDMMtBi1W7bNOKn6VTxqvhR/wgFWAnAC2YMRQx3DEEN5g12DcwLxAmVCL4IfQlFCfMGrgKy/UH5uPWH8vruBet+55nlD+Zx6HDrC+6k8K/08vo8Ak8IcwzXELMYyiTtMVY7dD6MPNM4VzWOMVYr+yC0Eq4C1vMW6Gffb9go0vPMIcqpymTOUdRY27biDOpF8Wn4Uf9uBekJKwx1DOsL0AuODGINJw2eC84JGgnRCcgKTAqGB/4C+f1q+XD1ffEI7TboEOTz4YjiJOVR6EDrqe7y82H7VgPaCfIOHBXtHhMs6DgkQRlDeUA+PO83pTJNKr4d4Q1D/Y3uIuPA2krU/s4cy53JSMv8z7LWHd5S5QPsS/Jb+C3+SwPpBnEIQAixBx4ItwlxC0EMQwyQDP4NKRCxEUoRjw4BCnoEnP6R+ELysutb5TPgHN1A3Ovcbt4q4WXmsO6X+KQBEQkaEewc/iy2PfFJ0k5GTVZIYUKqO8oyOybJFSgDQvGh4i3YG9EczJLI8MYRyFjMNdNp26fjDOs/8VD2j/o4/iIBygLqAh4CswGdArQEFAdACaYL8g70ElYWfhe+FbcRmAz/BpIAsPh07x3mV9452bDW2dX+1YTX2NsV5HbvcvvoBVwPihpcKUI6wkjAUD1RSkzfRL48yzO7KHcaVQlq93/nfNuV08zOIMwqy/zLws6U00TaJuID6qbwk/U4+V/8W//HAQ8DLQPvAmAD/ARtBygKIA2zENkUhBghGtYYIxU8EM0KeQSL/Pbyveh133/YaNTE0r/SJdTy14vfA+tR+MgEnA+uGm8ovjgJSLlRiVPNTs5GGT4MNV0qsBwFDB/6vekx3TDVytByzjXNIs3aztHS4thI4NLnYu5y81P3ufr6/acAEQIfAqUB0wFJA7wFggheC7AOwhL0FsgZ7xlOF9wSgg0+B2//0vUh69HgWtim0sjPK89Q0KvTgtqH5WfzQgEVDbIX5yNVMx1Es1EhWKpWrU9iRpg8AzIvJSUVlgLs7wzgwdTnzQrK0MfkxsvHJ8sd0SXZIuKs6rHxDvdw+4H/GwN7BSMGlgUIBXEF7gb8CCoLlg2qEGQU7hf2GXMZKxaOEDkJsQBc943tp+Nr2hjT584gzvbPk9ND2RriPu7n+3oI5RKVHPgn2jUYRMdOzlLUTyhI0z54NYsrbR9GEB7/b+654C7XYdEAzvPLC8veyxnP3dSF3NvkjuzS8rv3+fsBAHoDjgX1BXEFOQX1BXQHRQlkCzwODBJSFs4ZGRtpGfEUmA41BxT/EPYk7N/hidjG0b3OWM9q0vXWSN105n3ycf/UCvYTiBzSJk8zBUDJSRFOM0yORZk8QzO1KZwe2hD9ACPxlOOG2fDSIM9ZzRrNLc6x0PDU+do54o3p3e/M9ML4Rfxc/7IBMANCBHMF8QafCI0KMA3mEGIVixn9G7cbhxgEEx8MjwRk/C/zwejy3bfUGM/IzbbPPNPf17je4uil9XoCMg3vFfEeSyrQN+REE04DUZJNrkUKPF4yZiibHAcOnP3F7cXgfdeH0RLOh8yZzB/OHtG91fXbLuNU6nXwU/VV+dn8xP/AAeUC0gMlBfQGAAlYC3sOtxJ+F2sbFR3FG7IXrBGaCv0Csfoz8X7mxts606zORc6a0D7ULtmT4AfrUvcZA+UMbRXWHqQqIjiNRJxMZk5ZSsBCFTpWMbUnyxtDDX79t+6u4uzZCNRo0KLObs6Jz9TRgNXK2mzhYuh77jnzCPeH+sr9bgBGArkDYgV/B/sJ1wxWEI4U8hhlHMgdeRxzGDISiApUAgr6b/EO6C7eV9WQz/LN48/v007ZcuAF6ov1RQGOC08UCh1zJ78zEkBqSU1NIktkRIg7bjJUKRwfpxIrBHD1pej73jnYi9Nv0N7Oys77z3PSntaz3P3jHOsU8e/1Lfrq/c0AvgI2BMcFogfGCYAMQRDuFIgZtBx8HY4bCRdzEL4I7wBr+a3xCenM35TXVtL10MTSZ9Yk22bh9emv9CQAlwplE4gbpCRuL8s6P0RGSaxIMEPvOgYySCkFIAoVAQj5+b3sueFp2ZvT7c/zzS3NSc2czg3SKdhI4MjoPvBO9l/7w/9xA10GvAjPCrUMoA4OEXsUvRjYHHcfpR8MHecX5RAGCTQBuPkX8sjpIeGF2X/UmtIv00fVntiw3fDkBO7Y93QBugpiFDMfFyu7NhVAdUVhRrND5z4aOWoyIiqVH/QSWQUf+C7s8+Gd2THTbs7yyrnIW8iTynPPKNZ/3Y3k9+rI8DX2cvuQAHUF5wnNDV4RDhU9Gc0d9CF+JGEkTCHEG9oUmg2BBkP/Jvfn7WTkUtwR17rUZtRF1W/XkNsK4nzq+vOi/RsHtBADGykmPTGHOn1AtULmQTU/VztHNnovcCY/G7cO+gHk9dzqGeHP2BLSxcznyPHGjMflylrQzdZL3Uzjuejh7VPzdvkaAIEG+wt1EH8UvxhYHawhoyQ2JfoiUx4tGHURnwp5A4P7hvIj6aXgNdok1vbTJdOy0xPWoto34T3pDPJN+xwF2w+dG68npTIHOxxAJ0L9QU9AOj1MOP0wNieTGxwPvgL79gPsBOJB2fvRZMy2yDjHDsgJy6PPNdUn2wnhqOYq7O7xQPj9/qUFtwsGEcMVNBppHhkimSQZJQ8jqR7VGJgSSgx2BY79sPTA69HjiN0D2SPW2NRE1bDXRdy84lXqTfJ2+kMDOA09GHQjkC1wNZk6Sz0vPrk90Tv3N8gxViklH+ETLwic/Kfxvucn3+vXBtKozUnLRMtxzS3Ru9Wa2ovfeuSY6VDv5vUh/V4EDAvlEOcVJBq8Hb0g3SJqI7MhqB0GGMwRigsdBR3+cvac7mvnkOFU3bDaktkE2ircFuCY5SrsMPNc+twBFgoTE0YcvyScK1gw7zLXM60ztjKfMMcs3SYrH04W0QwkA875YfE76krkQ9/82pfXXtWB1PbUd9aZ2Pragt2F4JHk8+ln8DL3n/1hA50Ijg02Ek4WeRl6G0kc8huNGkgYZRUIEhQOagk+BBv/bvo49lTy7+6L7IjrxevT7FXuKPBP8vH0ZPj5/LECFglqDwQVkxkzHS8gmyIfJC0kiCJpHzQbIhZlEGgKygT1/+37ffhw9Z3y5O847brqlOjP5krl7ePW4lji1eJ75BXnH+oe7QPwGvOa9mT6K/63AewElQd2CZYKRAu5C9ELOwvlCQ0IAQbxAwwCkQCk/yf/2f6P/kD++P3b/Tr+bf+GAUcEVgd5Co8NfRA5E8cV/xdqGY8Zbxh6FgEU9BBCDU0JswWzAvv/G/39+cb2kfNd8DrtSuqg50zleuNv4k7i+uI25OTlDOi86u7tf/E79e/4hfz+/1QDaQYcCV8LKw1fDuAOug4ZDhsNwQsjCoYILAcTBgUF0QNoAs4AI/++/Rn9f/3Y/t4AYwNJBmAJcgxxD2cSIxUeF9YXPBemFWETeBDvDBUJZgUuAlH/gfyI+Wj2QvMz8Evtier5577lF+Qz4xDjhuNz5Mzlm+fm6afsy+8u86b2FPp3/eEAUQShB5wKEQ3lDg0QjRB3EOIP4g6PDQYMbQrjCHQHDAaCBLoC0AAa/wP+zf2D/goAPALhBLkHnAqODZEQYRN6FWYWEha/FK4S+w+9DDoJygWgAq3/xPzM+cv20fPq8B3ueOsQ6QbnfOWQ5ETkheQ65Vrm5ufj6VLsKe9M8o71yPj0+yP/XwKSBYQI/grfDCMO0w77DqkO7A3cDJULMgrMCHwHQgYEBZ0DEwKuAM3/rv9fANAB3wNSBugIgAslDtUQSRMJFbQVORXCE4YRsw55Cw8IqQRvAXH+nPvW+A72T/Ok8BXuseub6fXnwubq5WvlXuXc5eHmWuhI6rfsnu/R8hr2WfmH/K7/ywLKBX8IwQp9DLMNZA6SDkoOqw3LDKkLTQrkCKcHngaXBWcEIAMIAl4BRQHSAQsD0wTrBiQJfAv+DYgQwRJLFO8UoBRqE2gRxg68C30IOgUYAir/Yvyo+e72OPSL8fPug+xY6ojoFOf65UPlB+VX5Svmduc26XjrN+5O8YX0t/fn+iH+UQFMBOkGGAnbCjMMHg2lDdYNrw0kDTgMEgvkCcEImgdZBgMFwwPQAlkCegI6A4oESAZVCJ4KFw2hD/QRuBOvFMcUCxSHEkgQcA09CvUGwQOsALH9x/rw9yn1cvLP71PtGOst6YznLOYa5X3kduQE5QzmiOeK6SPsN++I8uP1Qfmu/CMAegOABhIJIwu2DNQNfw61DnUOxw3CDIQLJwrICIUHZgZWBTsEGQMnAqkBzAGLAsoDbQVtB8cJbAwsD7gRxxMsFc0VlBVwFHASyQ+6DHIJCwamAmT/SPw6+R/2APP+7zntvOqI6JzmAeXH4wfj3eJZ43jkM+aB6FTrje798Xr18/hm/NL/HgMiBrQIvwpJDGENDg5MDhUOcQ1wDCoLwAlWCAYH0gWpBHcDRgJHAcEA6wDQAVkDZwXrB9QK+A0LEcET5xVXF+kXdhfyFYQTbhDuDDAJWgWWAQH+mvpM9wT0yPC37e3qeOhY5orkFOMK4obhouFq4t3j8uWb6LzrMO/M8m/2Cvqa/RQBYQRXB88JvgsvDS8OwQ7gDpAO3Q3TDH0L+QlzCAkHsAVIBMUCSgESAFv/Tv8CAHQBjAMwBkYJpgwJEBwTnRViF0QYGBjNFoEUeRH0DSQKLgY9An3+BfvY9+f0GfJk79DsbupE6FbmsuR147nikuIc43PkmuZh6YXs5O968zP33vpS/ogBhQQpB08J9QpCDFANCQ5TDjIOwA0IDQMMwwp3CTwIAQekBSIEqAJwAa0AgwANAUwCMASkBpYJ2wwkEBMTbRUZFwUYBRjxFtYU9xGbDuoK/gb8Ahv/fPsc+OH0vvG77ufrSOnl5s7kF+PQ4Qjh4eCJ4R3jjOWY6APsqu9+82r3Rfvm/joCPgXnByUK9QtgDW4OGA9RDxcPcw5oDQAMWQqoCA8HjAUDBHYCDQH//3P/hP8/AKYBqQMsBhYJOwxUDw0SLxSjFVoWMhYPFQUTURA2DdYJQgaaAgj/pvtw+FX1SvJV733szOlV5zPlfuM/4oXhdeFB4vrjfOaC6djsZPAW9M/3bfvU/vgBzARFB10JHguMDKQNXw64Dq8OPA5XDQoMfgrkCFsH3AVZBNUCeQF9AA8ASQA3AdgCFwXQB9gK+g34EIoTexWwFhkXnBYeFaoSgA/yCzgIZwSQANv8a/lE9k7zdPC57Sfrw+iS5qfkGeP74V3hYuE74v3jjeaq6R7txvCK9En44vtA/1kCJAWQB5sJUAu7DNYNkw7wDuwOgg6nDWEM3ApPCdIHVQbDBCsDyAHcAJYACgE3AhAEfQZcCX8Mpg+DEtkUhxZ6F40XlBaDFJIRHw5uCp0GvALy/mr7M/gx9UHyXO+V7PrpiOdD5T7jneGF4Bjge+DP4RPkGueh6nLubPJ09mT6HP6KAacEZQe2CZ4LMA13DmwP/w8tEPQPRw8gDpoM8gpQCakH4QX8AzACxQDu/8j/awDgAQ8EzgbqCTENXxApE1gVzhZxFxYXoRUxExgQpgwBCTUFZgHO/Yz6k/e69O7xPu+47FfqDujm5QHkheKW4VPh3uFH437lUeiM6w7vvfJ49hX6dv2SAGYD6QUUCOsJeQvFDMoNfA7RDr8OQA5iDUoMGQvPCVUIpAbiBE0DGwJvAWIBBQJaA00FvAd+Cl4NIRCREogU3BVUFsQVMRTWEfYOtQsmCG8EygBk/Tr6NPdF9HTxx+457Mjpged85dDjlOLl4erhweJo5L7mlOnK7Enw+POp9y77cP5sASEEgAZ+CCQKhwusDIQNAQ4hDuUNUA1vDGALOgr2CIUH7AVaBAoDIAKyAdQBnAISBCMGqAh2C2IOPRHRE+MVNxebF/YWWxX4EvsPhwy/CNYEBQF4/Sv6DfcS9Enxve5g7BPq0+fD5RTk3+Iw4iTi5eJ+5MDmcul87OTvkvNC97T61/29AGsDygXFB2gJyQrtC8EMOQ1WDRoNiAyrC50Kdgk2CM0GOwWlA0QCRAG9AMIAZQGzAqQEFQfbCcwMuQ9wErQUQRbdFm0W/xTAEtsPdAytCL8E6wBc/RT6APcd9HfxFu/k7L3ql+iT5uHknuPU4p3iJeOH5KrmUelY7MTvjfN69zr7ov64AYoE+wbkCEoKWAssDLoM6gy6DEMMmAu/CsIJswiaB2kGEAWaAzYCFgFgAC4AmACyAX8D5wXACNsLDA8eEssUxhbPF8UXsha9FAwSwg4FCxEHKAN9/xb84vjc9RbzoPBs7lXsRepO6JjmQOVU5OrjJ+Qk5dTmFenS6wnvrfKH9lD62v0eARoErwa6CDoKUwsjDKMMwwyODB8MiwvRCvkJGAk3CEIHGAa4BEYD9AHlAD0AJQDEACUCLgS3BpoJsgzID5gS1xRDFrAWDRZoFOcRwQ4qC1QHcgO2/0r8O/l59vTzq/Go7+HtMuyB6tvoaedL5pDlSOWX5ZfmPuhq6gXtD/B78xD3jPrK/coAhAPXBaUH/AgCCssKSQtxC1cLHgvWCnUK/Al+CQUJfAi7B7IGfQVKBEQDkwJbArwCwQNgBYQHCAq9DGoP1xHIE/oUNRVkFKMSHBDzDEcJTQVRAZj9QPpJ96n0X/Js8MvuaO0j7Ojqt+mp6NfnU+cw54/niugd6izsoO578bj0J/iI+7H+mwE/BHYGHwhCCQcKiQrGCrcKcgobCsUJbAkOCbQIZAgNCJIH2wbtBecE+gNUAxoDZAM+BKYFhge4CQ8MWA5dEOURtRKmEqgRyA8uDRMKqwYhA6D/VPxk+dn2nfSd8uHweu9f7mXtaOxs65Dq6+mB6V7pqumI6vLrx+3174vyifW++On78P7UAXsEnwYTCPUIignrCQAKxAljCRAJ0AiOCEwIJQgXCPMHfAeiBoMFUAQ2A14C9gEvAiQD0wQRB58JQQzFDvcQlRJlE04TYBLDEKEOGgw/CSQG7QLR//n8Zfr396D1evOr8THw5+6t7Y3snOvf6lPqC+oq6sfq2+tU7S3vZvH087n2kflh/Bj/owHpA80FPQc/COgITQl0CWEJIwnPCHYIGgjBB30HWAc2B+IGPgZgBX0EugMnA9oCBAPLAx0FuQZkCBAKvgtPDYAOHg8mD64OxA1qDKgKiwgfBnUDswAI/of7I/nT9rP07PKI8WbwZe+G7tXtUe337NHs9uxu7SzuKe9q8Pnx0fPf9RP4Xfqw/P3+MgE5A/EERQY0B9EHLghRCD8IAwitB0sH6AaUBl4GQgYfBs0FOwV9BL4DHwOxAokCxAJ1A4oE0gUlB3sI1gkfCyUMwgzsDLAMGQwpC98JNQgyBvIDogFm/0P9M/tD+ZD3L/YS9Rn0MfNd8p/x+fBx8BnwAvAu8JXwN/Eb8kTzrfRL9hL48vne+879t/+GAR4DZgRfBRwGsAYdB1sHbQdgB0MHHQfyBs0Guwa8BrYGhgYVBmcFnATVAy0DtAJ7ApMC/gKnA20EPAUTBvMGyQdwCMsI1AiXCB8IawdyBjIFtgMYAnUA5f5n/fb7l/pZ+Ur4XveB9qb11PQY9Hfz8fKK8kvyQvJ38u3ypfOf9Nz1VPf1+K76c/xB/ggArAETAzcEKwX7BaoGLweIB7wHzwfEB5gHTgfvBocGFwaRBd8E+APrAt0B7wA+ANv/z/8WAKQAawFgAnADggR+BVsGFwemB/MH8weyB0AHoAbLBcAEkQNSAggBuP9l/h797vvU+sr5zfje9//2M/Z99eT0bfQd9PXz/fM79LL0XvU99k33iPjh+Un7uvwu/pn/5gAKAgcD4QOVBB0FeQWzBdIF1gW6BYYFQgX0BJwEPQTcA3YDBAOBAu8BWgHOAF4AGgAKACkAcgDpAI4BVAIlA/MDvwSIBT8GywYcBzMHGQfQBlcGrQXaBOgD4ALKAa4Alf+F/oT9kvyv+9j6DPpK+ZX49Pdr9/32q/Z79nL2lPbg9lf3+/fH+K35oPqg+7L80v3s/un/wwCDASsCtgIcA2IDlAO0A8EDvAOqA5IDdANQAygD/wLUAqECYQIQAq0BPQHRAH0ARwAtAC0AVQCzAD0B2wF+Ai8D9gPDBHgFCgaABtkG/gbdBoAGAgZtBboE5AP9AhcCOQFcAIT/uP4B/lv9v/ws/KT7Kvu/+mL6FPrV+af5i/mC+Yz5qPna+SP6ffrf+kb7vPtH/OD8cv3r/VP+uf4k/4z/7P9FAKIA/ABNAZQB2QEaAk4CcAKGApECjQJyAkQCCAK+AWsBGwHhALsAoACQAJwAzgAXAWcBvAEjApkCDwN8A94DKgROBFEEUQRjBG4ERATjA28DBwOfAh4ChgHxAGoA6f9j/97+Yf7q/XP9Af2e/En8/fu6+4X7YPtF+zX7NPtG+2T7ifu1++37Mfx8/M38Iv13/cT9Bv5I/pH+4f4w/3j/uP/5/z0AfwC6AOwAHAFLAXABfwF5AWUBSwErAQoB8gDlANgAwgCtALAA0AD+ACgBUgGLAdgBLgKCAtUCKAN1A7kD+AM1BGUEfQR7BGkESwQZBMcDWgPkAnYCDwKfASIBnwAlALX/Q//N/lv++v2o/Vv9Ef3S/KX8hPxn/E/8RPxG/E/8XPxx/Iz8qPy//Nr8/fwl/Uf9Y/2A/aj91v0C/iz+Wv6P/sT+9P4e/03/hv/D//f/HgBFAHUAqwDZAPoAHAFTAZsB4AEWAkYCgALEAgMDNwNnA5kDwwPcA+YD5wPbA70DkANfAyMDzAJcAvABoAFjARoBvQBhABkA3v+g/2P/Mf8I/9v+rP6F/mT+OP75/bT9e/1M/Rf92Pyd/HL8Vvw+/Cv8Ifwe/Bz8HPwr/E/8fvyj/L382vwJ/Ub9h/3I/RH+cf7r/nn/CgCUABsBrQFPAu4CdQPlA1AEwgQrBXYFnwW1Bb4FuQWfBW4FJAXFBFwE+AORAxgDigL9AYABCgGNABMAr/9W/+7+d/4c/vj98v3Y/aD9bP1V/VL9Uv1X/Wj9d/12/Wr9Y/1e/U/9O/05/U39Wf1E/R/9EP0k/Uz9df2g/c/9+v0i/lf+qP4N/2f/pf/R/wEARACSAN4AJgF2AdsBVQLPAjADcQOiA9gDFAQ/BEUEKQQBBOEDxQOdA2QDIwPhApUCLgKxATYB0wCGAD4A7f+O/yj/y/6J/mX+T/40/hD+8/3m/ef96/3w/fn9B/4d/jz+Zf6M/qf+tf7B/sv+y/69/qz+pP6h/pj+iv6H/pn+vP7h/gX/Kf9O/3H/nf/e/ykAXABVACQA/f8FADkAdQClAM4A+AAbAScBHwEXASABQQFoAX0BbQE8AQcB6gDtAAABEQEWAQ0B/ADxAPoAEwEkAR0BAwHkAMwAxgDeAA0BNgE6ARoB4wCUACUAq/9Q/xD/pv7N/aP8lPv9+ur6IftY+1r7Jfvz+hD7mPtb/Bz9zf10/gr/g/8AAMoA+AFRA4IEVgWxBWkFbwQUA/YBgAGNAZEBLAF0AMP/Uv8g/yH/W//Q/0MAWgDk/xD/Tv75/Tj+AP8kAE8BHQJkAmYCnAJKA0IEHQWLBXkF/gRSBOQDLQROBcQGoQcoBzwFbgKm/739//zZ/Bb8y/lB9uryVvEY8or0ePfz+b37I/2j/oEApwK7BFwGRgdjB9gG+AUhBYEEEwTFA3wD8QK1AZj//Py0+lL5ufha+NL3O/fv9h/3v/e3+Ar6rftf/cb+wv+NAIcB2AJgBNwFHQcRCMAIUAn6Cc0KjQvPC1cLRQr4CK8HZAbsBEQDtQGVAOT/HP+c/TH7YfgV9vH02/T99F/0rPKa8G7v9u/e8R70B/a99735Efwx/pD/FwAfAAAA0v+G/yD/4/4b/8z/igDcAK0AXQBVAKsARAEMAv0CAgQgBaAG7QgsDCEQdxTfGOgc5x9XIT8hESAfHl8blxevEsAMEwYp/5H4jPLX7BnnduG33LDZj9i42E3Z5tnZ2ujcouAN5sHsJvSV+3QCbwiVDRsS/RXsGI4auxqAGRwX/xN+EHwMggd/AT37zfWT8Rru4OoO6Dvm0uXP5v3oHOzr7zj0+/g+/v4DVAqYEQUaECNaK5ExVTUqN6w3+TbJNLwwiiolIvwXBw1GAij4eu4C5frb9dN1zcjIMsbyxeXHXcuRz0zUFdqN4bXqy/TK/ucHxw93FkEcXCGcJXcoaylbKIIlLyGvG10Veg7tBmr+CPWm64zjqN0c2l7YuNe/17DYSNsh4Pzm2O689lj+vgXiDKITRRp1IWUpOjF7Nys7UjyVO4Y5RjaVMfwqHSIiF+gKrP5H89To996O1QHNB8YxwcO+z75GwdDFwMtx0r7ZCeK264v2oQHiC44UchvRIA8lVyhlKrUq+ihnJX0goBr+E8gMRwWt/eT15+0i5nnfwto82H3X4tcV2ULb3d4d5K/q5fE5+YIAwAfLDngV+BvSIjsqmTG3N5A71zznO0M5OjXCL40oUx86FAsI6fum8GDmydzK09zLtMXDwRjAscCnw+rI48+51/rf5Ojf8rf9cQjiEVoZ2h7QIqslhCcHKMAmnCMVH8UZ1xMVDX4FnP0p9nHvSOmU47XeWtv02WbaNNzq3nDi8OZ+7M/ya/kXAN4GmQ2kE20YWRzKIOEmMC7VNOk4zDk4OEs1pDEMLcEmDB71EosGXPp2797l+9x81MPMnMa0wlvBksIdxn7LGNJx2XDhSOoX9H7+mghrEWMYnh2aIagkoSYNJ5glYyL9HfUYdBMyDfwFMf6n9gnwYOpJ5a/gFN0p2zDb0NyL3ybjsecs7VLzyvluAEwHKw5YFB8ZtxxnIH8l9isrMiU2Czd1NYoy8y6AKm4kDxxcEUAFO/l87jjl5dwP1fXNaMgtxZLEdsZ6yibQ9dZs3lPmwe7i93cBuAq4EgoZ5B2gISckCiUCJEchXh26GJkTCw79B18Bc/ra80fu5OlA5ujiFeCW3gjfOuFw5Cjoe+yp8X33Z/0TA60IRw5aEx8XphktHCUguCV6K4kv9jAuMC0ugyvxJ7ciOBt1ES0Gnvrl74XmTN7Y1jTQAssOyLLHtMmQzdfSOdll4BLoIfCW+D0BcglkEK8VmhmnHOwe6R8LH08cWBjzE40PBQv8BUoAQ/qV9NjvHuwC6Tbm9+Pj4mLjR+Uj6L/rKvBN9bD6zv+RBDcJtw19EQ0U3BVQGJUccyJUKHosQC42LkUtwCsdKXQkLh2GE34IYf0g8/vpseEF2jPT8c31ynjKHsxaz9HTY9n2307nL+9k95X/KAeCDX4SfRbcGWQcXx1THJMZDhaOEikPXwu0BjEBeftb9lbyRO+a7PLpiech5mDmPOgQ6zzun/Fw9bj5K/5wAm0GDQr+DO0ONRAREsgVfxvpITcnbyrYK0ssLiwHK+cnIiLGGaUP9gTF+oLxBukC4ZjZe9OEzxbO5M5F0b/UOdnF3kvlfOz281z7SAJTCFMNgxExFToY8hnNGfkXRBVZEkgPwQuNB8MCs/3T+LH0mPFE7yDt+upf6RfpXuq/7JjvqfID9rL5hv05AaYExweACoMMlQ0aDkcPghIuGBsfRSVKKSortitkK8Up9iVpH1gWpwuAAOL1S+y94wncSNUQ0B/N1Mzhzo/SUNcG3cbjb+uG83T7xAI0CZgO7hJgFgsZsxrNGgkZvhW+Ea8NowlRBZIAm/vT9rPyoe/A7cHsEexl6x7r+OtB7ojxCvVm+L/7Pv+yArMFGQgZCtsLHg18DTsNrA1sEAAWJx2uIxEoTCosKw0rWyksJSAeqxTKCZD+4fNC6tLhiNqM1F7Qec7xzmPRUNVq2ofga+e57hj2Rf30A8MJbA4FEt4UDRctGLMXkhVaErgO7QrWBmwC/v3w+XP2k/N18Tvwue9770DvVO8/8B3ye/Tn9mz5Uvx7/1MCcwQZBswHjAm5CvoKLwslDRwShxlRIWIn9iqULOws6yvNKOsiTRqoDwEEVvhq7bjjddu91MrP/MynzMHO1tI+2HXeROWX7Dz0x/u5ArIIgA0pEeET7RVVF8MXuRYdFGMQMwzmB3YD4f5f+kP2xPII8Dzube1a7Z3tFO4L79LwTPMC9rH4gfuy/g8C/wQOB2kIlAm4CmcLUwstC5cM3hCzFysfMSXdKJQqACseKkInxSGbGVwPAQSH+LjtGuTw213Vj9DRzXPNgc+e0yLZdd9Y5sbtmfVZ/WMEQgrTDkUS4BTSFvkX7RdTFjsTJA+lChMGfwHw/IL4afTn8Ezu0+xl7JjsEO3b7VjvsPGb9KT3rPrt/XwB8wSvB3QJngqkC3kMowwcDAMMIw54EyIb1SJ9KHwrcSwLLCoqDSYXH2sV3wmX/aHxxOZ93Q/Wm9A/zS3MkM1f0SjXL97I5Z3tkvV7/eUEMgvlD+wSqRSlFRkWtBXtE5EQEQxBB8wC+P6w+7345vUp89fwb+8u77/vgPAW8cXxHPNR9QT4q/oX/Yn/JgKVBD4GAgdqBwsIyggfCTIJfgrsDgEX9CCyKQAvuDAVMBMufCprJF8bzA/NAqP1Zenm3pHWbNBlzJ7KZcvWzpLU4dsB5Gns0fQN/dEEjguUEIUToBSXFAAU7RIGEfANrgnDBAsAQPx7+Tb3zfQu8vLv2u4q733wGvJ686n0JfZm+Ez7J/5SANMBLQOnBOgFcgZZBjsGegbUBhQHJwgJDAIU6x5kKSMwPDInMcQugytrJm0eZxMdBs338ukN3hXVCc88y0DJZslUzC/SSNqG4/fsGfa1/pkGbA2vEvwVShf4FpkVlhP6EIEN9giWAzT+0/n09jH1mvOf8ZHvXe607m/wsvKW9N71Hfcf+Rz8b/8rAuEDyQREBWoFPQX9BP4ELgUtBToF4AYkDJkVOyF4K5YxTTMpMqIv1yvbJdccxhCDAo/zuOWY2tXS9M0Py9XJ0cq5zoXVRt675/zwqPmmAdYI4A5RE9kVdBZ9FYET/hAUDn0K8gWzALH7+vfu9fn0LvQj80HyQvJ+84z1jvfZ+Gv54/nu+qf8fv7K/2AAlAC3ANIA2wACAXwBHwKaAlwDCgaMDDkX8SM3L2Y2DzlrOMI1QjElKp4frRFXAVzwueAY1FDLNMYGxDvE7saCzOnUQN876s30cv7xBhQOjxMbF5EYABjEFXYSog53CsAFYQDP+gb28fKz8ZzxzPH08Xfy4PM99vT4LPti/MX8Af2o/bL+lP/V/4H/9P5k/t79kf3S/Yf+Cf8C/57/TgPvC9IYwCYMMs04bTtlO4U5TTWdLdQhaBLLAPLu194J0i7J/sPXwXrCKsYazdDWMOIA7k/5dwP9C40S/BZBGWkZqBdrFDgQcQszBo8A4vrv9Y/yD/H98InxPPJF8w71mPdH+k78Pv1J/Qn9Df1x/dz97f2l/Vb9PP1P/Zf9W/6u//IAXQFKAdYCkggzE5ggEy3WNT46RTv3OXQ2BTDuJRgYVgdG9frjc9XsyoTEksF+wUjERcpt0wHfwute+LAD5wypEwwYOho8GhUYIBQTD5kJ/ANV/vD4efSm8bvwXvHX8ov0WPZ++CT79f0xADUB9AD1/+T+H/6L/dv89Pv++jL6r/mZ+Uj68vsv/g0ALQHKAlgHhRBwHeYqdTV9O209dTweOQQzdykxHKkLKPmn5mXWGcpawri+e75OwUfHZtAv3JDpIPd9A6oNNhUeGnocVhzjGaAVPRA/CuQDY/1A907yUu+I7n/vYPF/87n1WfiP+/f+uAEQA9wCqAE3AP3+6v23/En7zPl++If3KffV99D5l/wF/4QAQgLaBkUQ3h1eLOk3YT4DQEg+QzrmM2YqHh1IDDj5IOZv1QLJjsGgvkW/x8IIyTHSD96365v5Fgb5D8YWiBp5G9wZGBbZEOIKuASE/mX46fIF75Ttsu6U8Qz1Rvgw+zT+fwGVBIEGkgbdBB8CMf+H/Cb67ffd9Sj0//J58sTyPvQg99/6Qv6mAFEDDQnhE9giKzKzPWdDz0OeQAY7JzNpKDYapAjf9CjhPtBKxAa+uLz7vtLDEsv71GrhYe89/VcJgxI4GHgaphlxFrERNgyEBrYAu/rX9Pvva+3s7RrxlvXl+V39SABEA2gG/AjzCboIpAWnAbr9UPps9/f0BvO68Qzx6vCi8dPzqPcj/Mv/dQI5BgUO4RqGKso4ZUJpRppF/EAWOR4uSSDcD1n95OmB153ICb86u1a8FsGcyJ7S0N5c7PP5SwZ3EMcXpRu6G1IYfBKqCwwFE/+G+Sb0Wu9C7Ans6+7487H5+P54A1AHbgpbDIUMugpNB+ECE/5A+az0p/Ca7dvrbOsG7IztTfCW9Ov5Cv9IA+UHZg8nG6QpUzc8QW9GSkcPRJ88NjG0Ih8SLACb7dPb18xywnC9g73RwZLJK9TU4FDuK/tABgkPPhVtGBkYTBQADskGEQB3+tj19fEK7+DtLO/k8jT4Df60A8cI6AyYD18QEA/TCxYHaQFd+2P12e8p69LnMeZF5sDnaepY7qXz1fne/xIFKgoCEf8abSerM/48KkJeQ/xA+DpSMaIk3hXBBeP0VeTp1XnL9cUjxTPIaM461wXiyu1F+VUDSwvKEJMTZhNDELwK5QP7/O32MPLS7sPsK+xz7fDwZfbu/IIDdQl4Di8SAxRwE2wQcws1BVX+W/fI8BHrpebn4xvjQOQm557rjPGQ+Mv/PQasCw8R3xfIIOcqSjQiO30+LD5ROiszNykhHYYP1QCg8QPjndbnzZDJZ8nFzPTSR9vv5PnufPjCAFIHywvZDUsNTQp9Bdj/afr99e7yMfGm8GjxyfP795790gOzCbkOnBLxFBkVrBLgDW0HJgCx+IbxHuvm5SziJuD839Dhs+WH6+byCvvrAsoJyg8AFqgdAyflME45jD7bP0E9KDcnLvMiOxZ6CBr61uv43gbVG898za3P0dQG3HrkZ+0D9p/9ugMDCD0KLQrKB3kDFv6q+CD0DPGi79DvaPFi9NX4pf41BZEL6hDcFDMXihdpFbMQ5gnzAdH5OPKg60zmZ+IP4FzfWeAW46vnHe4Q9pL+aAbJDAASXxduHrgnKDJqOw9BskFQPeE0uykcHeoPiQIU9d/nAdwl07vOIM+H04favOIJ65ry5/jI/VQBjgMyBOEClP/Z+rv1bfHh7oruPfBm83/3VvzvARYIMA6BE3QXohm0GWsX2RJiDJAE6/v+8nfqEeN73T3am9l120/fn+Qg68LyS/sKBA0MihJoF2Qbyx+rJeUs8DOQOBk5KDV9LXEjbRiTDVwDmPnu77rmPN/n2m/aZt2f4rvogu4S8xX21/fv+MP5Ovrx+Zn4QvZv8wHx8e/d8Ljz4PeX/GkBNAbgCjoP/RLfFYUXhxebFcoRZQzOBVz+dPaz7tbneeL63ozdRN4L4ZLleOt98m763wICC+MR8hZzGnAdLyFjJo0sDjLuNNkzpi48JgkcexGNB3z+5PV07Zvlkt+d3CvdnOC55TXrAPBu82f1ZPYM97X3MfgS+An3LvUE82jxOvHt8kv2pvpY/wMEeQiSDDQQVRPHFQ0XeRamE7QOJAiCAE34FfCP6F7i9t2d24jbzt1H4o7oKfCs+KYBfQpdEnUYbRzLHtog6iNbKD0txDBGMf8tOycfHjgU4QqwAlj7O/RC7S/nGuOv4dXi3+XT6aTtbvDf8VzyrfJh83L0c/Xp9Zz1tfTQ88/zYvWb+Oz8jwH3BdYJEQ22D/IRzxPnFIAUAhJdDf0GdP9a92TvWejY4i/fdd2/3Rzga+RT6mvxXvnNASEKfhEaF6oavByIHlAheyUuKrMtZS58K0AlzBynEzMLCgTB/Xv36vDK6k3mMeRX5CDmzOiO65ftf+6c7snute9l8Uzz0fSq9fX1Fvab9v73c/rP/ZsBWAW6CMMLog5xEfoTvxUYFm4UbxA2Ck0Cgfmn8I/o/eGP3Yvb19sw3mPiPuht7373/v9hCOQPrBViGbYbIB71IXQnhi1EMtgzTjHyKiQitxgcEMAIEgI0++Tz6+yS57nkUeSk5cnn6elK65jrNOsG683rge187yPxRvIE85PzTvTG9YX4ifwyAbgFtQk6DXAQUhOtFR4XBxejFH4P6Afr/rv1T+1b5nHh6N6u3mDgpONY6GzupvWB/T0FCAw7EasUzhaWGAgb0h7iIysp3yxGLckpTCOZG08UGA6fCBUD+PyV9u/wBO0d67jqButd60vrlupj6VboN+hO6SfrDu2l7gHwV/HK8oz0+/Zf+pf+HwN4B2gL+A43EgsVKRcPGB4X2BMuDpsG/P1C9T3ti+at4QLfst6I4A7k1+in7k71bPxkA54JwA6yEpIVyRccGmgdBCIuJzArNixqKW0j6xuPFC0OnAgvA1X9B/fZ8KzrKOhm5vjlMeZ85onmcua25vTnY+qb7efwzPM49jr42Pky+7f88P4EApwFLQlgDCcPkRGbExQVjxVuFCYRjwsSBIT72PLt6n3kDuDo3QLeEeCy44/oZO7m9Lf7dALRCI0OaxNhF9gaqB6DIy0pPy7RMJgvoSo7Iy8b0BNtDXgHMgFh+oXzee3i6PDldeQU5FLku+Qa5a7l++Zb6aXsRPCZ80v2Rfif+Zn6pftF/dH/QwNEB1gLEQ8oEnsU8RVSFj0VRRIyDTQG4/0d9c3sw+Wm4N/dgd1A36HiRuf+7IPzUPrnADYHcg2UExwZjh0PIVUk9yfbKyovoDAAL8cpriF0GNUPlgiAAgX9tvdE8ors2uYW4jXfh96A3yLhqeLp40TlTudi6l/uuvK79sr5qPuo/KH9e/+iAs8GRgs9DxISZxNBEwMSHRClDUQKjwVu/z74v/Dn6ajkouHj4PLhKeQa57bqGe9G9CH6lgCWB8UOUhVlGuYdsCDbI7cnfCvFLWUt4ymiI7sbmhNlDJcG9AHD/Rn5YPPV7K3mceL44NjhyuOP5ZTmC+en5znpQOyO8Dj1DPlJ+xv8gPyy/X8A7wRGCk0PzhIVFEYTPhEBDxINHQs/CKQDKP2L9TbuoOiu5WflAeda6ZHrdO2H76byhvdO/l4GYA7EFKYYihokHCwfFCSkKbUtYy7vKgckaRsoE8oMrwj0BewCAv6n9tntzuXE4Kzfm+F25EPmPuYN5TPkJOWA6LftTPOd98v5O/pS+q37Rf/zBIkLWBH5FOUVmhQ8EuIPBg5TDOAJtwV4/773AvDv6ZvmGuaU58Xpqev/7FzuxPAB9Sv7iALPCaMPVBNsFXsXBRtUICkmfiqtKy8prCOjHMUVSRBiDDwJcAXQ/xT4PO875/nhNeAX4dLi0OOL45ziNOJv48Pmvusv8bT1fPi7+ZX6ffxdAA8GZQzDEe4UjBUsFN0RlA+5DQEMpQnRBSwAOflI8t/s7OlT6THqh+vF7Onta+/28RL2uvs3Am0IZg3RECwTgxXGGCEduiEwJWkmIiXSIUkdVhijE3wPpAthB+8BGvuC82rsGecr5ETjYON/40Dj7uIo43fkGOfi6kHvZfOx9in5afsq/sIBCAZ7CnMORhGLEk8SDRFUD3MNZQvhCH8F/ACU+xL2YvEG7vzrHutL60Xsn+0s71PxuvSA+fr+NQSrCH0MJxANFDkYUBzHHzUieiOZI5IigCC6HaEaNxf5EkIN6AWF/T/1Q+466RDmKOTb4tXhGeHR4D7hp+Il5XToEOyY7wrzlvZf+mf+ogLoBrwKcw2fDnIOmA23DP8LKwvOCZoHhQTCALL8yvh69Q7zpPEk8UXxyPGn8h70XPY4+T78E//RAeMElgjVDEIRhRVuGd0coh+GIWoiZiKpITwg1x0AGmYUSg2NBUX+Lvhg84TvNexC6Z3mS+Rn4ibhueAi4T/i8OM55ibpuezh8Ij1gvpr/7gDAQdBCdIKHQxODUYOxQ6QDoYNmQvcCIMF2QEq/rz60veS9QH0HfP/8tDzdPV191/5Nvt6/ZkAfwSwCMYMrBBuFOsX2hr9HE4e6R7THskdYRtiFxgSOAyBBl4B1/zE+Pn0U/HB7VLqMeeS5J/ibOED4W7hseLF5JvnGesp76fzS/i0/I0AyQORBhkJbgtzDf0O4w/+DzkPmw1DC1cIBwWbAWb+mvtG+XX3WPYZ9pb2YPcj+Pb4QPpM/BL/VQLqBcAJvg2oETIVGRhAGp8bMBzJGygaHhfWEt8N8giIBKYABv1o+b/1GvKF7hHr8edl5ZfjkuJc4g7js+Qq5zjqse1+8Xr1ZPkC/UYATwMzBu8IYwtkDckOew99D9YOeg1fC6oIqgWsAtn/Sf02++b5bvmS+fT5Yvrq+rf76vyM/psAEQPcBeIIBgwhD/gRUBQEFgcXPxd0FnUUYxG+DRMKpwZsAz8AHf0K+gD39vP38Cbumutg6ZXndeYt5r3m/ufU6Szs7u7n8eD0ufdt+gb9nP9CAu0EaQd+CRYLNwzRDLMMuAv2CcMHeQVLA1gBzP/u/u3+oP+DABoBRgFFAVIBdQGvAUQCmAPQBbQI9AtSD3wS9hROFmEWQBXzEogPagtgB/4DRAHS/nP8Pfow+AT2cvOI8Jbt5uqj6AXnXOba5mLom+o17Qfw7PKm9e73tfk9+/D8EP+PASsEoAbECHsKmwvqC0ULvAmcB0gFGANRATIA7P96AJMBvgKfAw8EEgS4AxsDegI0AqkCEQRiBlkJiQx7D8kRJRNdE1gSIhD6DFoJ1AXRAmwAf/7b/GL77vk/+Bf2cvOK8LTtSeue6fzoeunq6gftmO9r8jH1jfdW+bP69/tk/RD/BAE+A5cFyQeNCbIKEAt+CvIIsAY5BAcCUAAy/+T+n/82AQUDWwT/BCIF7QRcBIgD4wLyAtwDbgV7B/IJjAyrDrwPqA+3Dg0NkgpXB+YD6gCp/ur8ZvsO+uD4r/c09lb0P/Iq8EXuzOwP7EjsZu0a7yTxb/Pg9Tj4Lvqz+/n8Sv7R/5MBggN0BTIHighcCY8JCgnFB+0F5QMYAscABgDZ/0QARwGuAgoE7QQtBfsErwSEBJAE7gTNBUIHKgk9Cy4Ntg6LD3QPeg7aDMEKMQg3BSMCYf8e/TH7XvmY9/b1ePT/8nrx/u+67tXtcu2p7YPu5O+e8ZHzrPXb9/b51Ptu/eb+bAAaAtcDcAW3BqEHMwhoCCQIUgcNBp4EVQNeAsABegGSARIC4gLGA24EqQSIBEgEJQQ8BJUEOQU2BooHFQmeCtwLigyCDM4LkAriCMUGQwSRAQD/xPzh+jn5tvdc9jX1OPRI80zyR/Fk8NbvuO8G8LXwx/E98wf1A/cZ+Uj7h/2o/2YBoAJuAwEEagSZBI4EcQR5BLQE/gQ7BXgF1wVTBrQGuwZfBskFKAWZBDEECQQtBI8EIAXrBf8GOQhACdIJ/wn3CbsJCwm5B+8FBgQ1AncAwf4h/bz7m/qq+cb4yfeg9kz16fOa8nXxjfD+7+XvUPA78aHyfvS29gX5HPvV/D7+df9/AFUBBQLCAsIDCgVxBskH/Aj9Ca8K4gqECqkJgQg/BxUGMQWpBHIEfwTVBHMFLQa8BvUG5AagBiQGZAV6BJUDzAITAmUB1gBnAPD/Pf9N/j39EPyv+hX5dfcN9vD0F/SF81XzifMH9Lb0nfXC9vz3D/no+a36ift4/GL9U/5///0ArQJcBPMFcAe5CKEJEQoWCrkJ7gjCB3oGbgW8BEQE6wPPAxUEowQqBXMFgQVpBSAFiwS8A+4CUgLuAbABlwGoAc4B1wGaAQsBLQAF/5r9CPxz+vn4sPes9v31pfWW9bj1+/VN9qT2Bfd99w/4rfhI+e/5wPrF++j8E/5N/6UAEgJwA6kEuAWdBkkHsgfgB9sHlQcDBzwGfgX7BL0EqgSqBLYE0gTyBPsEzQRXBKQDzwLnAfEAAABA/9v+1/4V/3L/1v8rAE0AGACC/5z+f/1C/Pn6xfnU+Ez4OfiG+A/5uvl6+jr72fs+/Gv8bfxE/O/7kftn+5n7GfzQ/MT9CP+EAPoBNAMsBOgEXwWBBWEFIAXQBHAEFgTzAysErAQ/BbsFHAZhBnYGPwazBegE/wMTAysCSwF8ANj/c/9I/zf/Hv/2/sr+mv5U/uj9YP3c/Gr8A/yj+2H7VPt4+6n7zfvn+wb8LPxN/GT8ffyd/MD84vwG/Tb9b/2z/QT+aP7a/lb/3P9uAAUBkgETApICEQOBA9cDGARRBH0EjQSJBIkEnwS8BMcEuwSiBIMEVAQJBKEDIwOZAgoCeQHgADwAlv8D/43+K/7O/Xf9Nf0O/fD8yvyh/Ij8ivyY/KP8sPzT/Bb9bf3G/Rj+Zf6t/uv+IP9R/3n/jv+L/33/cv9s/2P/Vf9P/1r/d/+m/+v/QACUANoAHQFvAc4BHwJYAogCwAL5AhwDLwNLA3kDoAOlA40DbwNPAxcDswIlAoIB3AA7AKT/GP+a/jL+6v3A/af9jf1x/V/9Xf1h/V/9XP1l/YD9ov3F/e79Kv58/tb+Jv9k/5b/xP/t/w0AIAAjABYA/f/f/8j/uf+q/5D/cP9Y/1r/dv+g/8f/5P8IAE4AtgAiAWwBlgG8AesBDAIIAu4B4wHyAf4B8wHdAdYB1wHJAaEBbQEyAeIAdgABAJr/Pf/c/nn+Lv4F/vH93/3Q/db9+f0r/lr+gP6k/sv+8v4W/zT/S/9f/3f/m//O/wgAQgB5AK4A4QAGARUBDAH1ANQAowBbAAEArf9x/1P/TP9U/2b/g/+t/+z/NQB4AKAArwC0ALoAtwCkAIkAfACCAJQApQC2AMgA3QDuAPUA5wC9AHoAKwDe/5b/Vv8j/wT/9v71/vn+Av8O/x3/M/9W/4H/pv++/9L/8P8TACoAKQAZAA0ADQAUABwAJQA1AEoAYABzAIYAmACnAKgAmAB1AEYAEQDf/7f/n/+U/5D/k/+k/8v/+f8YACEAHwAfABwABADW/6j/lP+d/7L/x//f/wAAKgBTAHMAggB9AGMAOQAHANH/lf9c/zT/JP8k/y3/P/9k/53/3P8QADMASwBfAHEAegB1AGIATABFAFUAdgCYALAAvgDHAMoAwwC0AKIAjQByAE4AJAD+/9z/vP+f/4j/fP96/4f/pf/Q//j/EAAYABkAHAAcABAA+P/b/8j/wv/H/9H/3P/n//L/AAAMABIAEAAMAA4ADwAGAPP/5P/k/+r/6f/k/+v/BgAqAEYAXQB3AJAAmwCUAIcAdwBYACgA+P/b/9H/0P/U/+P/+P///+7/1v/H/8P/t/+h/4v/fP90/2//cf93/3n/d/+A/6H/1/8OADgATwBVAE0ARABKAGEAcQBmAEUAKAAdAB4AHgAbABcAEAACAPL/6f/o/+n/5v/k/+b/7P/x//P/8P/q/+f/+P8eAEoAYABdAFEATwBYAF8AWwBFABsA5/+//7n/zf/d/9b/vv+n/5b/i/+K/5T/of+f/5H/iv+Z/7v/4P/7/wYAAADn/8v/vP/A/9f//f8mAEIARAA6AD4AVwBuAGcAPgAGANT/uf+//+P/DQAiABwADgAKAA4AEgAUABcAFQAHAPn/+/8TAC4AOQA5AD0ARgBGADcAIwAUAAkA/v/1//P/8v/s/+H/3P/c/9z/2v/c/+D/3P/J/7L/p/+s/7r/yv/b/+7/AAANABgAIQAnACcAJQAmACwALAAhABIADwAfADQAPAAwABoABgD7//X/8P/u/+z/6f/m/+X/5//s//P//f8LABsAKQAvACoAGgAJAA8AOABuAIEAVwAJAND/zf/x/xEAFQD8/9b/uf+4/9T/9v8AAOz/zP+1/6r/qv+2/8r/0P/C/8j/GgC4AE8BdQEGATMAUf+g/kX+Sv6X/vv+Tf9//5//wv8AAGAAwQD0AOQAuACxAOIAJgFNAUoBKQH1ALIAbwA5AA8A5v+7/5P/ZP8k/+L+yv7x/jv/e/+m/9P/CQA1AEgAVABxAJcAqQCfAI4AhQB6AF8AOQAfABcAGQAcAB4AFwD+/9H/of+A/3D/Zv9e/17/aP94/4n/mP+e/5L/ev9x/5D/0/8dAE8AYABaAFMAVwBpAHwAfwBpAEYAKAAaABYADwABAPL/5f/b/9P/0//i//z/CQD6/9j/wv/N/+v//f/2/+f/4//r//n/CwAgACsAIQALAAEADAAcAB0AEgAKAAQA9v/c/8f/wf+//7L/ov+h/6//vf/C/8f/2f/z/wMABQAEABAAKgBMAG0AhwCQAIMAawBdAGMAbgBpAEwALAAcAB8AJwAjABQA///o/9X/yf/D/8P/y//Z/+r/+P8AAAgADgAQAA0ADAARABcAFQAOAAkABgAAAPr/+v/+//f/3f/A/7P/tv+6/7v/wP/M/9P/0v/V/+z/DQApADcAOgA2AC4AJgAlACYAHgAMAAEACAAZACUAKwAzAEAARwA/ACoADADr/9X/1P/j//L/+f8AAA8AGQASAAIA+//+//7/8//p/+v/8f/u/+f/6P/w//T/7//q/+7/8P/p/+X/7v/5//H/0v+3/7n/1//0//3/+P/0//r/BAAPABgAIAAmACwAMgA5ADsAMAAbAAgAAQABAP///P8AABUALgA4ACwAFQD+/+r/3v/d/+H/5f/m/+n/8v/6//r/9v/1//T/7f/m/+3/BAAYABIA8//N/7X/tP/G/+X/AwATABQAEAANAAIA6P/L/8D/zP/e/+n/9P8MACsAPAA1ACEAEQAHAPz/7f/i/+L/6P/r/+3/8/8BABQAIwAkABgACgAJABwANQBAADIAHAALAAIA+v/z//r/DAATAAAA4v/g/wYAOwBVAEcAIwAAAOX/zP+4/7L/vv/W/+//AgARABwAIAAYAAkA/v/2/+j/yf+n/5X/mP+d/5j/mv+8//T/IAAxADkATABkAG0AagBuAH0AggBxAFwAUwBSAEkAMgAYAP3/3f+9/6r/rP+5/7//uv+w/6z/t//K/9f/0//I/9H/9f8eADoASwBiAH0AiwCGAH0AdgBjADoADQD1//H/5//H/5v/eP9n/2P/a/+A/57/uf/N/+L/AAAjAEEAUgBcAGcAbQBdADMAAwDm/97/3f/h//j/JwBUAGAASgAyACkAIwANAOf/vf+c/4v/jv+l/8T/3f/v//z/AADy/9n/zv/c//f/CgAYAC8AVQB3AIIAcQBNACMA/f/g/8//xf+//77/xv/V/93/0/+2/5b/jv+0/wIAVgCLAJIAeABRACkAAQDf/8r/yP/T/+H/7/8EACUARgBQADgADgDm/8b/r/+o/8P/+P8hAB0A9v/W/9X/3//Y/8T/vf/V/wMAOwB4ALAAzgC7AHUAGADR/77/3P8BAAQA5f/M/93/CQAgAAIAwP+A/13/Xf98/63/3f8HADsAhADSAPkA2AB4AAQAov9k/0z/Tf9X/1z/YP91/6X/5P8bAEMAYQB7AI8AnQCqALcAsgCLAEYAAQDc/9f/3P/T/77/uP/Z/xgASwA6AOD/bP8o/y7/Y/+h/+P/NQCUAN8A/wD3ANAAhgAiAMj/nv+p/83/9/8pAGIAhwB8AEIA9f+i/1X/If8e/0P/Zf9m/13/cP+s//T/MABcAHwAkACYAJkAjwBvADcAAQDr//j/FQA0AEsAUAA3AAUAzv+Y/1r/FP/f/tr+Dv9y/+z/XgCnALkApACAAFQALQArAGIAsQDaANkA8gBPAagBfQGhAGr/Wv7D/a/99/1a/qT+3f5H/wIAxgAVAcQALQDR/+D/LgCEAMUA5gDiAMQAqwCsAKoAdAAAAIb/S/9a/4L/l/+w////iAANAT4B/gBvAMz/RP/0/t7+8v4Z/0v/if/b/zoAkgDAALAAbgApAAAA3f+b/z////4N/1z/t//y/wgACwAYAEoAngDjAOIAowBnAGAAdQBoACgA1/+d/4r/mf+9/9//5v/M/63/oP+i/6L/mP9//17/WP+o/1AA8wAUAaIAFADx/z8AnwDAAKMAawAjANH/lP+Y/93/KwBAAAEAif8M/7X+nf7I/if/jv+//6L/c/+l/2AASgHRAccBdwE7ARYB2gB8AB4A1f+Y/3j/oP8RAIAAjwAvAKT/Jv+8/lH+9/3c/Rr+pf5e/ysA9QCRAdYBwgF9AS0BzwBGAKL/L/85/7j/TgCkAKkAhgBeADIA/v+0/0T/r/44/lD+Lv9zAGgBkwERAVoA0P+J/3n/h/+U/5T/pP/8/6IATAGUAVwB1gBEAML/Wf8X//7+8/7q/g3/lv9yADYBfQFLAfkAywCpAFcAwv8h/9H+Ef/N/6EAGQH+AIYAGQDw/+T/qf8p/6b+eP62/iL/aP91/4X/4v+UAE0BlwEpASMABf90/tP+9/8pAasBPgFZAMX/6P94AM8AgACt/97+k/7n/oz/DgAzABIA7P/Z/8b/nf90/3T/rf8LAHUAyADmAMcApADLAEoBuwGXAcEAr/8S/0//LADwAOEA4f+k/iz+1v73/30A//8H/3r+t/5t/xIAVAAnAKf/Cv+d/pL+6v6D/z4AAAGRAbMBWgHOAHcAkwAJAYABfwG4AFP/Af6V/VL+mf9xAF4Auf8+/1n/3/9WAGwAIQCw/1r/TP+E/9j/IQBuAO4ArQFaAnUCsgFFANz+O/6//v//9QDVANz/M//E/y0BCAJbAZP/DP7K/bP+4P9gAND/iP6D/cb9dP9rARcC7QAJ/yn+Cf/OAAgCCQJFAZsAjwAVAc0BPAL8Af8Avv/q/tT+Jv9A/+T+bP5V/rf+Nf9u/1n/Nv9E/5T/FgCrABIBBwGVADIAYQAXAb0ByAFAAYwA//+4/9j/YgDiAJkAVP/g/V/9H/5Y/wkA4v9D/8X+0f55/14A0gBaAEP/dP6r/tT/LgH3AesBVQHMALsABwEQAUwA6/7M/bv9pf61/yMA6P+Q/5v/EACcAOYAvQAmAG3/HP+d/7wArQG9Af4AHQCq/6L/uP+z/33/Cv+D/l3+7/7m/3sAawBTAOMA2gE+ApABXgCT/3r/vv8CABoA6P9z/yn/j/9/ABEBjABH/1D+Qf6//hH/6f6X/qz+j/8mAbgCSQN2AuoAzv/B/2UA5QC0ANv/zf4b/ij+7P7u/5AAgQD0/3n/i/8cAJEASQBT/4T+sf69/6cAnADj/6D/pwCDAr0DJgPjAGj+TP0c/vn/SwH5ADb/Y/38/Fn+aQCsAYQBjgC8/2z/a/+K/8z/IQBVAGoArQBGAdYB2AFKAbsAlwC6ALgAXAC+///+Qf7B/cL9Tf4O/5n/vv+h/5b/3/9qANUAyABiAC0AiAA3AaUBiAEnAfUACwETAacAuv+z/iL+SP7b/lb/hf+X/77/0f+T/x3/3P4O/4z/BwBlAK8A4wAAASgBjQEaAmgCDwIXAQAAXf90/wUAhwCKAAAALf9b/q39PP1A/fH9Jv88AIMA3//u/ov+Fv83ADwBpAFjAdEAeADJALoBrwLkAhQCtgCL//r+7f4P/yH/Bv/P/qf+rP7F/sH+pP6s/gL/gP/u/1EAywBBAXIBVwFCAWkBkwFwARYB3AC+AD0AFf/E/Sv9nP2a/nb/4f/h/3//5/6V/v7+4v9YANX/4/6Y/lv/mgCYASICVwIwAqABBAHUAOsAlQCL/33+Pf6k/sv+UP7k/Wn+1/9jAWMCrQI6AgQBaP9N/m7+hf+KAMQAcAA7AGgAoQCIACoA0P+S/1X/HP8q/7j/lgA7ATcBpAAPAPv/agDpAP0AjgDz/5f/m/+3/4P/5v5C/g3+Uf6s/tb+//52/xMAWgAlAP3/eAB6AU8CfwJGAiUCPwJLAg0CkAH8AFUAjP+7/jD+H/5Y/mz+Ev53/Qz9Hf2h/V7+Fv+W/9f/FQCqAI4BNAIbAnMB+gAtAc8BTgJNArgBngBJ/1T+TP4W//H/JACj/+v+g/6V/un+I/8k/y3/j/8iAFQA1v8h/w7/7f83ASQCQQKiAcgAcAAMAR4CagIzATz/Fv5z/nD/x/9I/8f+7v6c/2MACQFBAZIAB/+0/er9ov9DAVUBGAAW/0z/RwACAQoBmQD8/2H/Hf+R/50AkQG7AQoBBgBW/2T/NQA6AYEBhgDg/t79M/49/8v/bf+3/lf+Zf6p/h//0P9ZADIAdf8E/57/8AD1AQoCfAEKASQBuQFsAtMCmgK0AXYAWf+f/jf+3v1p/fT82vxY/TP+1P7k/qn+q/4c/9H/qwCxAZoC0wI1An0BmgGZAokDewNSAp4ACf8J/tX9Mf5y/gT+Df1M/Fj8HP0b/vn+qv9BAL4ADgEZAdgAeQBlAPIA/gHTArsCuwGzAKEAowHPAg4DHQK1AMD/i/+z/6P/Ff8v/mn9Of28/Yj+A//+/uP+O/8PAOYASwEuAc8AZwASAOP/5v8PAEIAaQCIAKoAzADiANgAnwBLABEADwALAJn/ov6z/YD9L/43//T/JwD7/8f/9f/PACUCJwMJA+ABqABEAJYAtwAHANb+Af4a/un+v/8cAAEAwv+f/6T/yv8KAEcAPACx/77+zP1D/VL94/27/pD/NgDOAJYBjQJGA0QDgQJ7AboAZQBBAAMAkv8M/7L+vf4o/6j/5//G/3T/Mv8d/yn/P/9P/1z/e/+//yoAlwDLAJ0AJwDU/xcAAAEBAlQCogFdAEz/4P7//k7/fv9W/8b+Iv4e/jj/AwFXAlECOAE1ADYAEwHYAbABlQBB/4P+qv5g//z/DgCs/0f/PP+P/wYAfAD0AGMBigE1AYAA1f9+/2r/Xv9G/z//Xf+X/+P/PwCWALQAeQD+/3L/7v5v/gb+5/1M/kf/mwDMAV8CNgK0AWMBbQF7ARgBLgAT/z7+AP5c/gD/e/+a/47/q//9/0oAdACcANIA0gBIAFb/j/59/h7/+P+BAIAAJwD7/28AgQGLAroCwQEmAND+Uf6N/vr+KP8N/+L+1P7d/vT+O//i/9oArAHCAfgA4P9h//L/HQHWAWkBHQD1/rn+T//r/+n/Yf/7/jn//v+lAKcAFgCF/27/x/8rAGEAgACuANUAxQB9ACYA1f+H/1T/Xv+E/1f/o/7k/dz9wP71/7IAvQBsACMAGgByADcBJQKaAhICuQBq//X+b/8mAFIAx/8F/7L++v5//7v/ev/9/sH+FP/E/0EAGQBs/9n+9v7M/88AWQEgAWYAw/+p/xMAmwDqAAsBPgGLAaUBQQF2AMH/hv+0/8L/Nv8n/k39X/1x/tz/zwDmAEEAWf/I/hn/bQAxAlgDFQN3AXb/T/6t/hgATAFDASMADv/4/tP/xgAbAbsA/v9F/+X+Df+P/+b/qv8J/6X+8v7N/6cABwHjAIgARwA8AFMAdwCfAKsAawDj/3P/i/8qANMABQGkAPP/Sv8G/2L/KwDEALgAUwBNANsAWgEgAUwAlP9g/4H/lP9x/xb/jv4Q/gv+wf7f/6cAnQDp/zz/Sv9XAPgBSAN+A4oCIAEkAPb/RgB5ACUAVf90/v79Jf6t/iL/N//9/s7+//6O/xoAPADt/6P/4P+rAIoB4gF9AaIA6//X/24AIgFEAbkAHwAXAIkAyQBxANf/iP+e/7b/f////lv+qP0U/Qj90P0i/ycAQgCx/1z/AACIATkDPgQpBBMDjQFmABwAZgBmAJn/bv7M/QL+gP6q/pb+xf5H/5b/Tv+3/m7+qf4j/6H/OwAMAc0BEwLRAXUBXgFxAVIB7QCGAFIALgDn/4P/LP/e/nv+IP4j/p7+Lv9p/2D/g//8/38AuwCyAJIAXQALANP/+v9nAJwAUADZ/8L/JAChAPkATQGtAa8B0AA3/8L9QP2x/XL+9/4l/yL/F/9D//r/MQE+AlICYwFRAOv/HgBPAEIAPQBLAAAAP//I/mP/tQCKAVIByQDMABgByQC//9f+qf69/l/+v/2t/Wb+Uf/z/4oAbAEvAgYC3gCn/1//DADhACABtAD9/1j/C/9U/0IAgAFkAngC3wEoAboAhQA7ALz/Lv/A/m3+Hv7g/d39Hf54/tX+TP/r/3MAkABOACMAZADmAD8BVAFWAVoBNgHdAIkAZABIAAAAnv9c/zP/+P7E/vL+jP8dAEIAEwDU/4D/CP/H/kv/ewB0AVgBLQC//un9IP5I/7QAdQEWASkAwv9cAIABWwKNAjwCuwFaAUcBSgHRAHz/rv1M/PD7kfzL/Sb/DQAAACn/lf5S/04BVAMkBG0DxgEnAGj/zf+tAMoAi//V/Tr9K/5t/5v/zf5E/rj+iv/V/5//pP8wAM8ABgH5ABIBZQGaAWgB3QBOABoAcwAdAXQB4gCG/zj+0P1e/iP/Wf/l/lf+W/4W/wcAfgA3AJ//ZP/S/4cA6wDOAJUAxgBuAQ4CEwJiAWMAo/9k/5L/6/8jAAYAkf8G/8/+Hv+9/zUAOQDm/5D/c/+K/7j/8/82AFkAGABv/8X+sP5d/1UA6QDJADkAv/+v/wkAjgDiAMsAYAD9/9T/uP9c/+D+zP5j/yoAagAKALr/GwAGAbkBqQH0AB4Amv+I/8D/9//6/9X/p/9e/8/+Lf4n/jP/2QDlAXEBxP8V/qb96P4yASIDfwMrAjoAAv/9/p//HwA5ABcA5P+d/0z/Hf85/5j/AABEAFcATgAtANz/UP/Z/v3+4//8AHcBEQFMANf/7/9jAOQAGgG6ANj/Dv/9/pP/HgAoAOH/sP+f/47/o/8tABABuAG8AUcB0ACbAK8A9QAwAesA3v9j/mf9m/3W/jQA4gCwAAoAfv9F/0T/Vv90/57/q/9p/+b+hf69/rj/HgFAAnUCjgECAKn+PP7s/kkAewG6AeIAof/d/vb+kf8cAFkAQwDj/2X/MP9v/77/ov9k/9//QwFuAgkCJQBb/ir+p/+XAZwCHQJ5ALz+/f2q/igAUAFTATkArf57/Ub9SP4VAK8BEALwAAz/q/3G/WT/mQEcAxQDpgHX/8L+1f6i/2gAtwCLABAAcf/v/uv+lv+hAF0BSwGJAKL/+f6S/kr+LP5x/in/AAB+AGgA7v9l/x3/Vf8qAEUBuwHCALr+L/2E/ZX/6gEuAxcDIgLhAOz/4f/sAEICoAKHAbv/Zf4A/kj+4P6W/yEAJACO/9/+uf5A/xAArQDbAJcAAABe/xr/d/9IAAcBOwHWADUAzv/h/1UA1gAGAbIA/P9C//D+LP/B/0sAgwBeAAAAmf9k/6H/XwA4AXUBugCM/wT/y/9VAVgCAAKjAFj/5f5F/93/EQCv//f+bP55/hb/2f9JAEEA9v+6/8T//f8RAL7/H/+x/uD+mf9kANcA1gCQAFsAlABBAdgBnwF5AC//qf4B/4L/jv8l/7P+pP45/14AagFpAR4Amf5W/rD/eQE8ApEBKQDr/mX+0/4QAGoB5QEjAd7/Sf/x/zgB/gGdAVgAA/9G/j/+l/7i/vD+4P75/mr/EACFAIIAOwApAGYAdwDm//b+dv7h/uj/5QBwAWsB5gA3APP/WwDqALUAfP8M/nX9Ev5i/5EADgHLAEQAGQBnAJcAJgBw/07/+v+9ANsAaQD4/8//6f9ZACsB3wGrAYEAXP85/wEAuQCeAM7/6v5+/rr+XP/J/4v/7v7g/vz/sAGvAi8CogA5/9D+Zf9LAL8AYgB0/6P+o/6q/zkBawKKApsBSgBX/wH/BP/6/sP+g/51/rj+PP/F/xQAIQAdADoAZQBXAOn/Uf8C/0//GgDUAM4A4f/B/oj+p/9ZAVMC9AHDAMv/pP8jALUAzwBJAHf/7f77/lr/if95/5z/OwABAUcB3wA/APv/MwCZAL0AXgCJ/5j+E/5a/mX/rgCBAWsBogDx/wAArQApAdoAAABO/xP/Df/4/vf+QP+y//v/BgAJACoAVgBqAGAAPQAHAND/sf+o/4v/PP/x/g3/s/99AMsAYQC3/4r/FwDgADIB6QBrAAwAwv95/23/4P+ZAP4AtAAFAIH/e//i/2EAjQAfAEv/s/7i/rn/kADhAKgANgDd/9H/FgBlAFEAzP9b/5f/ZgAIAfAAYQAVAHMAPgHjAeMBBwGO/yj+nv0g/hL/nf98/xb/5P77/kH/v/96ABcB/wAVAAv/v/5h/1EA3QDaAIkAMgD3/+//KQCJAMkAtgBRALv/HP+5/tX+Yf/l/+v/lP+K/z8AZwEyAiECcgG/AF0AKQDn/6P/nP/j/ysAFwCp/0v/bf8JAKUAvQA5AIX/Ov+k/3YA9ACFAEf/Ff7Z/bX+5/+HAGwANwCWAIYBUgJMAmkBPQBw/zX/R/9J/xv/4/7O/uz+OP+m/w4AOwAiAAoASwDMAP8AdABx/7r+2/6e/00AUgCo/8/+d/7v/tz/hgCSAFIAVwCzAPQAyAB2AIwAMQHvASMCkAGIAKj/Xf+a/+3/7v+b/zz/AP/T/qf+p/4K/7L/LQAsANP/m//e/3wA/wD4AGIArf9W/4b/9/9IAFYASABTAIgAwgDJAIIADQC3/73/FQBtAGAA1/80/xr/zv/HABUBXABL/9f+Hv9g/yD/0f4W/8L/CQCr/03/lf9TAN4A7ADAAJsAewBiAGkAgQBvADUALQCLAOIAmwC+//b+1v5P//P/bwCdAF4Ayf9S/3r/GgBuAOb/2P43/or+bv8gAEwAMAAlAEMAfwDkAG0ByAGFAaYAzf+c//7/MgCw/8v+X/7T/rX/RwBBAO3/sv+0/9T/5//T/6D/eP+S/+D/BgDB/1D/R//l/7sAKwEMAbgAkACgAM4ACQE/ATkByAAQAHj/U/+d/wIAKQD3/6j/rP8iAKkAoADc/9v+U/6H/hv/jP+c/3P/Yf+e/yAApwD3AAIB3QCaAEoAGAAzAIUArwB3ABcABQBeAL0AtABFAMr/h/91/2n/Tf8o/wj/B/80/3//sv+m/4b/rf81AMEAxgAvAIP/Xf/U/3UA1gDqAOEA1wDDAKgAkABtACEAwP+O/7b//f8AAKP/Mv8B/xz/Rf9A/wf/xv60/vX+eP8BAFsAfACKAK8A8wA3AUcB/gBqAOX/0v9EAN0AHAHUAFAAAAAXAHkAygCrAPD/z/7Z/ZX9E/7c/mX/fP9k/3r/2/9XALAA0QDJAKcAagAnABwAZwDGAMMATADv/0EALQHtAdwBEAEgAIT/Tf9V/2b/Qv/W/nn+vP67/8MA6wAGAOX+fv4N/wAAogC6AHwAOwAzAHkA5gAeAdoAPQDS//T/XwBtAM//6P5t/qj+Rf+2/6T/H/9//j7+p/6R/2gArgBpABwAPADEAEsBagEKAWIAyf9//5T/5f80AFUASAA/AG8AzgAFAcAACwBY/xP/Qv+R/6n/f/9Q/2P/yv9KAJIAiwB6AKMA5ADgAIwAWwCmABsBGQGFAPj/9f8/ADMAmv/k/pj+yf4x/4f/m/9R/9L+qP5Q/48AcgEpAfb/7/7z/tf/vwAIAbMAJQC5/5b/yP8xAI0AkwBGAOf/sP+l/6z/uP/N/+j///8NAA4A/f/r//z/OgBwAF0AFQD8/0cAtwDdAKQAXgBXAJAA3wAZARUBrwACAHD/Sv97/5v/cf8k/wb/P/+z/ycAZABTABUA7P/x//j/zP96/zv/MP9G/1//fv+m/8T/y//U////PABXADUA9f+6/4b/Uf80/1b/sv8KAC4AMABUALoAMgFdAQYBUgCs/2v/kf/R/97/rP90/3r/0/9WAMMA7gDdALQAkQB1AE8AFADQ/5f/fP+H/6n/xv/L/8P/1f8jALYAZgHfAcEB8ADU/x//Mv+1/+7/gv/C/kT+V/7k/p//KwBCAO//sP8RAAEBuwGGAYcAo/+W/0MA3wC3ANH/1f6H/h7/FQCjAGoAx/9t/7T/TACXAEkAr/9Y/4z/DABZADQA0/+W/7H/DABtAKMAnQBxAFEAaACtAOkA3QBqALL/Dv/r/m3/KQByAO7/+/5e/pL+bf9KAIkA8P/t/mD+6f5CAGkBkQHoAE4AaAAMAYsBVgFoAEn/uP4g/x8AvQBLACH/Xf7Q/jEAagGXAcMAvf9Y/8j/jgDrAHoAhv/M/uL+r/+EALIAFQAu/7P+Bv/l/5wAigCu/7v+nv6b//cAkAHoAJ//3P49/1UAIgHvAOD/zf6f/pP/BAHhAYsBbgCc/8z/qgAvAaoAcP+S/tP+7//cAMYA0//y/vv+6//4AE8BugC4/wL/Bf+W/x8AJgC1/0f/Sv+p//D/z/9z/0n/jf8PAHAAbgAVALL/lv/s/4wAFwEyAdUAVQAjAGgA3wAVAcoAMAC0/5//4v8mACMA1v98/1z/gv+6/8j/pf9//4X/uP/3/xsAGwAGAPn/BgAoAEMANwD+/7H/fv+J/9T/IgAiALj/O/8x/7v/XwCHABoAmf+I//3/oAAOARQBwwBlAEwAkgDwAAIBpAAWAK3/if+R/6b/s/+u/5j/hf+Q/77/9v8XABgAAgDt/+j/+P8KABAABgD+/wAADQAeACwALwAfAAoADwA+AHgAggA+AMb/Vv8n/0P/h/+1/7H/lP+W/8v/EgA/AEIALgAaABgALQBOAFkAPAAXACEAZwCyAMQAkgA+AOn/p/+S/8D/EwA5APr/ev8j/z//sP8VACkA8/+1/6n/1/8WAEYAYAB2AJIApgChAH8ASgAYAAAAAQALAAMA4v+2/5b/i/+e/87/BQAYAO3/of94/5b/3P8LAAkA6P/O/9f/AAArACkA5/+Q/3j/xv9BAIgAaQASAN7/8/8tAEQADgCn/1f/Xf+z/xUAPQAeAO3/4f8JAEUAaQBZABYAwv+Q/6r/+P8yACoA/f/w/yUAcwCcAI0AYwBBADYANgAwAA0Ay/+I/3P/oP/o/w8AAADd/87/5v8NACgAIwAEAOL/2P/v/xEAIQAYAAkAAQD3/+D/y//N/+n/BwAaACoARgBlAG8AWQAvAAgA7P/b/9n/4v/o/+P/3P/l//z/CQD6/9X/vv/I/+r/BAAFAPf/7f/4/xAAIgAfAAcA6//h//v/LgBgAHYAcQBoAGkAaQBWADEACgDx/+f/5v/g/8r/pP+F/4f/q//R/9j/xv+4/8T/4v8AABEAEQAGAP3/AQASABUA/v/g/+H/BgArAC4AFwALAB0APgBNAD0AFgDw/9v/3//y//3/9v/n/9//5f/4/xMAMAA4ABkA5f/H/9v/AgAGANn/pv+h/83/AgAeABoABgD4//3/EwAoACUAEwASAC0ARQA1AAEA0v/F/9b/8P8DAAIA5v+8/7L/4/8xAF0ARgANAOn/7v8KAB4AGgAEAO3/6f/8/xMAGQALAPr/7v/q//T/DgAsAC0ABwDb/8//5f/3/+r/y/+2/7b/xv/e//r/EAAYABgAHgAvAD0AOgApABkAFQAaAB4AHAAQAAAA9v/z//T/8//2/wEAEgAVAAQA8//2/w8AIQASAOn/xP+8/9L/7//+//v/9P/8/xUAMQA6AC0AFgAJAAsAEwATAAkA/P/0//b/+//z/9r/vf+0/8r/8f8MAAwA/v/0//r/CgAWABgADQAAAP3/DQAtAEkAUQBMAEQAPgAvABUA+//r/+f/5//l/+P/3//a/9n/4//x//T/7P/l/+n/8P/0////GQAzADMAGgAHAAkAEQAIAPr//v8SAB8AFwAHAPv/5v/L/7//1v/7/wsAAgD//w8AIAAXAAAA9P/5//3/+P/y//L/9f/1//f/AAAJAAoAAwD+//f/8v/3/w4AKAApAA4A9P/y//z/+P/f/8r/y//W/9j/0v/W/+j//f8IAAwADgARABAADQAMAA4AEAANAAkACAAIAAYAAQD9//T/4//O/83/8f8rAFMASgAfAP7/9v/2/+f/0P/J/9b/4f/d/9b/4f/5/woADwAQABUAFwAUABIAFwAeABwAEQAIAAcABwADAAAACAAZACcAKAAYAP3/4f/S/9v/8/8DAAAA9P/t//T/AQAJAAwADAALAAYA/////wsAHgAoACIAEAAAAPr/+//6//f/+P/9//n/5v/R/9P/7/8CAPP/0//U/wgASABdAD8AFAD+//f/8f/p/+n/7v/u/+v/7v/6/wIAAgAAAAMABwAIAA0AHAAsACkAFAAAAPv//f/7//f/+f///wIABQAQACAALAArAB8ADQD4/+r/8f8IABQA///X/8X/2f/4/wAA9v/z/wYAIgAqABcA/f/x//3/EgAdABIA/f/u/+v/6f/e/9H/1P/m//r/AgAEAAQAAwD+//f/9v/7/wAABAAJAA0ABQDv/9b/0v/n////BAD3/+f/6P/4/wgADQAKAAkADAAIAPn/6P/p//b/9//h/8//3v8IACoAMAArADEAOAAtABYABAAAAPr/8f/w//v/BQAEAAEAAwADAP3/+/8DAAoA/f/l/+P/+/8TABoAGwAjACMACwDy//P/CQAVAA4ACwAZACMAEgD4/+7/9P/z/+v/8f8LACEAGwAGAPn/9//2//P/8v/0//T/+P8IAB8AIwANAPT/8/8JABoAFAACAPT/7P/q//P/BgAYABQAAADw//T//P/z/9j/xf/L/+P/+v8DAAMAAQAAAAAAAgAEAAMA///6//r/AAADAAEA/f/8////AAD/////AQABAAAA/v8AAAQA/f/q/9r/3P/u/wAACAAHAAQABQAHAAkABwAFAAIAAQADAAcADAAMAAYAAAABAAcACQACAP7/CAAfADAALwAgABIABQD1/+H/0v/Q/9j/5f/v//T/9f/4/wMAFQAhACAAFQAGAPv/+P8FABgAHwAWAA8AFwAgABkADAAJAAsA/f/d/8z/3v/2//H/1v/K/9X/4P/k//L/EQAlABMA8P/n////EgAJAPr/AwAkAEMATgBJAD8AMQAhABgAEgAHAPH/2v/N/8n/yf/N/9X/1f/G/7P/uf/a//z/AQDy/+f/7/8AAA0AGgAmACwAKwAvADoANwAYAPP/7P8DABEA/f/h/+f/CgAgABIA9f/h/93/4P/q//7/CwACAOj/0//Q/9P/0P/Q/+P/CAAvAEQAQwA6ADkARABOAEsAOQAkABgAEAAEAO3/zf+u/5v/o//D/+f/+f/5//b/+P/7//r/+f/6//b/7P/s/wUALAA9ACwAGQAkAEUAVgBDACIADwAKAAAA7v/l/+7/+//8//n/AQAVABsACADw/+T/5f/l/+D/3v/l/+3/7P/q/+7/9f/2//X/+P8EAA8AEQANAAsADwAVABcAFwAXABUAEAAHAAQADwAfAB4AAADa/8//5f/7//H/1P/J/9z/8f/0/+3/8f/6//b/5v/h/+7/+f/3//7/HgBGAE0ALwAUABwANwA+ACoAFAASABwAIAAZAA0A/v/q/9b/yv/F/8D/vP+8/8X/0v/g/+r/7P/o/+j/9f8IABMACwD9//r/CAAjAEEAWgBeAEcAJQARABEAEQD+/+L/1v/g/+7/7P/a/8T/uv/K/+7/DAAOAPP/2f/Z/+//AAACAAMADwAmADoAQgA7ACsAHgAbAB0AGAAMAAQABQAIAAYAAQACAAEA9P/g/9f/4P/o/+L/1v/W/+P/7//z//X//P8FABUALABCAEEAIQD5/+T/7P/2//T/7f/2/wkAFQAPAAIA+P/x/+7/8//+/wMA/P/t/+f/7f/x/+3/7P/3/wgAEwAXABsAHgAVAAQAAQAbAEIAUAA4ABAA9//z//P/6f/d/9n/4P/n/+f/6P/w//v/AwAJABEAFQAOAP7/7//s//P/AAAYADgAUABNADQAIQAnADoAQAAxABsADwALAAIA7f/U/8f/0f/j/+v/4f/P/8L/vP+8/8P/z//X/9T/y//J/9P/3P/j//P/EAAtADsAQABEAD8AKgATAA8AFgAKAOf/z//b//P/7v/W/9z/DwBDAEwANwAxAEgAYgBkAFAANgAZAP//6//j/9z/zf++/7v/xP/K/8f/wf/A/8X/zv/Y/93/1f/B/6//qv+w/7X/tv+6/8X/1P/m//X/+f/w/+j/+f8lAFAAWAA/ACUAIQArAC8ALQAxAD0ASQBNAEsASgBOAFIAUwBSAFAATwBNAEgAPgA3AD0AUABiAGYAWwBLAEEAOQAtABoABQD2/+n/3P/M/7T/k/9s/03/QP9C/z3/Jv8M/wj/Hv80/zP/I/8m/03/hP+r/7j/vf/L/+P//P8UADAAVAB8AJ4AtgDKAOQACQEsAT0BPQE7AUEBRQE6ASQBFQEVAR4BIAEVAfwA2gCzAIkAXgAtAPr/yP+e/3f/Tf8e/+n+s/6J/nX+dP5q/kP+Dv7x/fX9AP70/d394f0J/jf+UP5g/oT+xv4W/2H/rv8KAHMA1wAmAWgBrAH1ATsCeAKwAt4C9QLuAuEC9QJAA6sDDQRPBHMEgwR3BEEE1wNEA5kC4wElAWoAyP9G/8z+Iv4w/SH8OvuW+hb6jvn8+IH4Pvg7+Gf4pfjg+CX5jfkU+pf6DPuh+3r8av0d/oz+B/+4/1cAlwCrACIBJAJBAwkEqQSqBTQH6ghyCuYLiQ1OD9MQzhFHEk8SxRFwEF0O4gtNCasG2gPMAI/9NvrV9pzz0vCf7ufseetT6q7psOlD6jDrYez07f7vafL69Ij3E/qq/E3/3gFGBIEGoAidCkwMiA1YDuQOOQ85D8sODw5IDZMMzgvFCnIJ/AeDBgkFgwPwAVoAyf5C/dL7jfp2+X34mffe9mv2SvZc9oX2yvZL9xD4B/ka+kv7lfzb/fr+7f/PAK4BdAIGA2oDugMABCgEIgT3A8EDkwNtA0gDGQPYAowCRQINAtcBiwEtAdwAsgCbAHMAKgDW/47/TP/7/pT+I/68/WL9Ff3R/Jb8avxW/F78ffyk/NH8D/1u/er9c/4I/7b/hABiATcC/AK/A4kERAXUBS4GWwZnBk0GBAaOBfwEWwSrA+oCGQI5AUoATP9M/ln9d/yb+8n6GPqi+Wj5UvlL+VL5ePnN+VH68vqX+zL80PyB/T7+6f5x/+H/UQDFAC8BhQHKAQgCRQKFAsgC9wLqApQCGwK4AXsBSwEbAREBZgEpAiwDMAQYBfUF6AbyB+QIegmYCWwJMAnjCDcI6gYTBQ4DGAEe/+r8d/oC+Nf1EvSd8lnxSvCZ72/vye9+8Gzxl/Ia9Pf1Cvgt+lf8kv7TAPkC5ASQBggISwlLCvYKTgtsC2gLOwuuCo0J6wcmBo0EDwNkAYr/8v0i/Tb91/25/uf/kwG1A/sFGQgACr4LRw1mDu4O3Q5KDkUNyAvMCV8HnAScAW7+G/u/94T0k/H+7sTs6Op+6ajod+jU6JjptepC7FXu1fCF8z32DvkR/DX/NgLeBCQHJgn8CpUMvw1XDn4OmA7tDjsP1g5tDYwLIgp1Cb4IFgePBCgCqwDX/8r+F/0z+975XvlM+Rz5p/g1+C/4sfh6+Sf6ivrL+i/72fur/GT93f0k/nP++/6r/zwAdABpAGwArwAGASMB6wCaAHIAgAChALYAwgDSAOwAFQFTAaMB7gEgAkkCjwIHA5YDDgRSBHEEjwS/BOcE2gSCBPkDcAP4AnECtQHEAMz/8v47/pH96fxK/ML7YPso+w/7CfsM+yL7Wfuz+yL8k/wE/Xv9Af6U/iX/ov8EAGEAzwBHAZcBnQFvAVABYwGDAXIBJQHWALwA0gDfAL4AhgBxAJIAuQCkAFIABgD//ycAMgAGAOX/HgCrAD0BqQEgAt4C0gOuBEQFsQUhBo4GyAasBkAGogXxBDIEUAMrAsMAQf/K/VT8vvoL+XD3IfYm9WX00fNp8zHzOPOb82f0c/V29k/3HvgW+Uz6tPsn/XP+gv9+ALUBHgM0BJYEvwTLBVcIyAv3Dm4RrhNQFjAZnRsYHagdjh34HOYbLRp8F5YTow40CcQDT/59+D7yEOyi5kHitt6r2x/ZddcU1/bXu9kJ3ObeiuL95vbrIvFj9rn7CgEgBs0KAw+4EtgVSxgEGgYbbRtjG+YapBk9F9kTQBA0DagK0gcfBPb/X/z0+Tj4JPZe87vwae+N7w7w7O+c75bwgvNL91/6g/zp/nUCjQbRCbQL3AwZDnAPShBAEHUPNw6qDNsK6AjvBsoEJALr/o77sPh69nb0MPLh70ju1O0v7q/uIO/e71DxZ/PE9Rb4TvqE/NL+PwGqA9EFhwfiCBwKPQvyC9wL+Aq2CYgIcgcEBsYDvACA/dH6A/ng9xb3tvY+9yD5WfxqAL4E9Qj5DNkQghSiF8IZmxpJGisZfhcrFfwR8A1OCXUEm//J+gT2XfH07PTok+UC41Lha+As4IrgoOGD4yXmVOnY7JHwgPSr+AD9SQFGBdAI6AuTDrsQOBL7Eh4TuRLNEVwQkw6tDMUKxQifBnwEmwIQAbr/eP5Y/Xn84/uG+1T7UPt6+8j7M/zB/H79WP4q/9z/dwAdAc0BZQK9AtgC2wLiAuICwAJ8AjEC8QGvAUwBvAASAGj/xv4p/oz97PxO/L77T/sO+/T64vq8+oT6XPpr+q/6//oh+/b6jfoi+vz5Kfpa+in6nPlJ+bX5jfrm+m36L/rI+7n/3AShCZkNlBFYFpgbPiB6I1clXCbWJnwmqSTnIGQb2xQHDhsHyf/P94Pvv+dH4TPcA9hH1DfRks/Rz5PRDNTg1nnaXN9u5QTsmfIp+d//qAY/DVcTpBjFHIUfICH5IQci0SAhHn4aqBbLEn8OognKBK0AXf1h+of3KvWy8w/z4fL28m7zbPTb9Yj3TPkW++z89v5nAT8EKwfCCewL5g3iD60RzRL9EmkSdxFRELkOTwwHCUUFgwH3/YD6APeY85/wU+6y7Ifrn+r86c3pSepz6xPt4e7H8PPyn/XL+C38X/8rAqcEEAeCCbkLLQ19DdUMzAvVCsQJAwhJBQAC8/56/CP6LfeJ803wCO908M7zofc6+zf/jgQ0C+8RfhekGwcfKiK9JN4l3STHIVkdbBhOE5wN0AYT/173tfA960LmL+Fa3L3Y6taA1q7WJ9dn2BPbNN8z5Hbp5e689Bn7wQE/CBoOBRP6FjIayhx4Hr4eiB1rGxQZfRYVE60O9AnUBXwCXv8Q/OT4f/Yc9WX07PON82nztvOO9NP1LfdY+IT5OvvN/e0ABATeBswJEw1fEPYSWxS4FKAUfxQqFAITkhAjDZQJdwZpA4v/ofqL9WDxTu6B60To5eRt4pbhJeJI42/k0+Ur6OrrrfB99aL5RP0nAbsFcgoqDkgQWhF8Eg4ULRWtFI4SLRDNDiAOowxwCVwF/wHp/x/+aPu69y/00PGn8ALwaO8q7ybwBPOg9yf9yQJhCE8OshTSGowfTCJ7I90jpSNNIkkfrhoeFT4PUwlLA/r8UPae743psuQQ4RjeVtsJ2fLXktir2ozdreAO5CDoUu2V8zf6UACGBVMKZA+rFDYZAxz3HNsceRzBG+IZPRY7ESAM7gd4BLwAKPxb94/zSfHd7z7uDezg6abo1OgL6oXr6+zr7r7y3PhRAJQHAQ49FPoauiEYJxwqAyuhKlIpviZkIi4cnRSNDL0Eaf009r7uUefj4EPcUNkv10HVztOy03XVw9iy3JTgkORz6dTvUve5/gkFWwqUDz4VuxrHHqMgvCASICoflh2BGrAV8g+SCjkGcwJK/m/5q/QY8QbvqO3o64TpXOej5qvnlelT6wLtDvC+9bf9KwaXDQQUexpiIcAnHSzQLVstoisKKTklnh8jGI0PDwdv/3D4UvHg6fHist142mnYddZ/1HvTadRG1xvb9N7M4nfnsO1A9Qv9+gPfCXAPVRVEGw4gryIzI5IilSEKIBwdYxiNEtwMFQjxA53/uPrV9fHxdO/D7dPrSunx5vjlwuaH6EzqMuyF72v1kf1RBjYOGhXKG6wi/ShpLSwvli59LGIpFSUeH2YXkg6+Bbz9kfas77roOOIb3dTZ09ce1mPUVNPo007Wx9l03UXh+uVE7O7z6/s6A7YJ8Q9VFnQcPyHwI6kkJyTvIs0gMR37F94R6Qu2BgcCSP1Q+KnzDPCm7eDr9em359LlOeUz5hDo7enk60nvZvX7/TcHWg86FvccOCQSK8MvWTFZMO0tpSokJsofhxcnDuAEk/xD9Vnua+fp4M3bn9jS1lbVvdO90l/T3dVm2Q/d1OCQ5fbru/PN+0EDAgqSEDQXZh0wIuUkpyUdJbwjVSF6HTIYNxJlDA8H5QGT/Dj3WvJk7k3rqugX5rjjP+Je4vbjIuZM6EPrsfA6+WkD6Ay+FPIbzSPkK0EySjUjNRMzCDDUK8IljR3OE7MJUQAR+InwJunx4cXbd9ft1CPTSNGuz3HPNtF71DnYIdzo4GLndO8a+FkAAAhrD70Weh3WIk0m5yf8J84mWSSFIHYbpBWhD8AJ/wM//pH4UPPT7iPr6efV5BvicOBm4MLhqeO25cPoRO6x9rsAVwqZEkIaayLXKtgxyzV8NgA1aDK+LkQpeCHMF4QN2gM++0HzU+uH47XctNeB1EDSKdBkztvNOM8y0vDVC9r63m/lcu099ub+FQfxDpUWpR15I4YnqykmKkMpHSegI9keKRkaE/QMrQY2AMr5zPN17rbpcuXA4eveV9083XzesOCn4+HnTO4v938BiAtWFFgcbCR3LB0z7TaXNwA2LjNYL90pLiKjGHAOzQQh/PTzwOut44ncC9cp0zHQk82Ay8XK+svvzu7Si9cR3Qjkdeyp9cv+cwetD34XmB5nJHUooyohKy0q5SdOJI4f/xn+E7ANFwdUAL35l/Pv7bLo++Mk4IvdXNyF3Mrd/t9P42Doze9X+bIDcQ0qFoQe/ybkLqE0MDftNgA1EDK+LUgnnx7BFAYLJALh+ajxX+mY4RXbG9ZQ0i7Plcz9yg/LCc2J0PHUBtoY4IPnF/AZ+c4B7gmIEY8Yrx58I7YmVihtKBsnnSRBITodfBjnEpYM+QWQ/4P5r/P57aHoKeQC4VPf8N6D39PgKuNZ5x3uL/cjAWwKmBJqGpIiiCrAMA80ljRiMzUx3i2kKEohfxhsD9wGz/7V9rzu3ubb3xfagNXE0bjOkMzJy8nMgs920y7YpN075B/s3PSU/aUFBg3sE0caqB+UI9kljSbfJQEkNCGwHYIZihS+DmUIAQL0+0j22vCu6xTng+NZ4aTgGeFL4hfk+ebk62Dzyfx/BhgPchZ9Hdsk5isTMVgz+DL/MCAuLCqKJA8dVRRcC+UCCPtj86/rK+R+3SvYKdQS0a7OO802zd/OAtIw1iDb2eCD5w3vD/cE/5UGrQ04FPwZqh4JIgckoSTiI/whNh+6G3AXNBIqDNAFqv/p+XT0NO9Y6kvmduMR4gbi+uKK5MTmXeo+8Jb4UAK/C+sTKBtSIoQpsC97M1005jIGMDksRye9IJQYiA+xBsH+hfdD8J3oDeGC2nvVrNF6zsXLHco8ymTMONAk1djaYeHc6B/xtfkiAhoKaRHbF0odsyEZJUQn0SefJhMktSChHIoXUhFrCoID/vzj9i/xD+zR58vkQ+M14yXkhuV/5xTrLfFu+U8CcwqvEbsYBSABJ4cspC8qMKYu2isjKDYjnBx5FMILmgNm/KD1lO4u5x7gNtq/1VnSe88azc3LT8zZzv/SJNj+3ZvkDuwq9In8vQRjDDATAhnrHQMiKCX0Jg4ngyXFIj8f+Rq3FW0PggiUAQ77BPV274XqhebY47viE+Nq5FLm/uhG7dXzPPwWBSwNWRQ5GxkibCguLacvvS/bLY8qNSbAIPkZ/xGZCbsBwfo29HTtcuba32/aadZv0xzRds/0zhfQ/tJX16jcpeIz6UTwr/cv/20GFA3cErIXsBvyHlchiCI9IoAgpx0MGswV1BAfC+8Evf7z+MPzMe9M61votuaI5prnfukB7HLvZfQQ+88CfgpQEVoXNR0KIyUobCtJLA0reCgBJZogBxtaFB0NCQaR/5r5qfNZ7dDms+Cl28bXyNRn0tTQitDV0ZnUf9hG3dTiCums73n2Qv3ZAwIKdQ8PFOkXIRulHScfVh8mHtMbtBj4FJcQhQvwBU4AGfuG9p/yee9T7VzsfOxl7fXuZvEf9U76mwBBB34NBRMWGBQd5CHCJcMnkCemJcciTB/yGmwV9A5SCEIC5vzP94Ty9ux/547ibd4029vYWNe21hzXvtiu27rfe+SR6cjuHPSR+RP/XQQfCSwNnBCiE0AWLhgIGakYQRcjFXgSNw9TC/gGgQJN/or6T/e/9APzI/Lv8TjyEvPa9N33EvwMAT4GOgvoD3cUChlSHYQg2yE6ITUfdBwdGfAU3A9PCu4EGwDI+6b3YvPW7i3q1eU04mLfOd2n2+DaK9ud3BTfY+JY5qjqCO9i89X3avzlAPMEfwi2C7gOYxFvE6YU+BR2FEATfhFAD4EMUAn1Bc8CCwCc/XX7uvmV+Pn3tvfO95L4YPpJ/foABAUWCR0NKxE8FQIZ4Bs+HfQcXxsDGR4WoxKKDhsKzAXxAYj+P/u7987zle9l65jnXOSs4YffEt6M3R/evN8q4iflguge7Ovv4/P69xH8+f+XA/IGHgoZDbYPshHgEjgTzRKyEfUPpA3sCg8ITwXWArgAAf+8/d38PvzA+4D7yPvX/LP+LAEGBBQHSgq5DWAR7RSvFwEZzhiXF+IVuBPQECwNVAnmBQwDewDI/bP6Kfc48xHv/Oot573j0OC93uDdSt6138LhO+QO5yjqY+2k8OjzN/eY+hH+pgFYBQoJgwx2D6QR8BJjExITBRJIEBEOuwuSCaIH3AVEBPgC9gEPARsANf+o/rn+fP/fALsC8QSFB6kKZQ45Ej8V0RYHF2kWOBU+E1MQ2gyHCboGTgTvAXj/0fzL+Tf2IPLO7YfpgeUI4o/fbt6k3uLf2uFd5D/nOuoJ7ZDv7vFT9Ov20/kg/doA7AQSCeQM+g8dEj4TYBOCEr4QbQ4KDOsJLQjZBvgFgAUsBaUEzQPRAgAClAGkAS0CLQO5BAoHSwoxDusRqRQsFr8WlRZ6FTYTExDDDL8J/wZEBIMBzf7/+8j4/PTG8HLsP+hn5EjhQd983tTeEOAH4pDkZuc56t/sY+/u8Z/0jPfO+nz+jgLQBuAKWQ75EKoSXhMEE6wRog9ZDSULLAmIB2IG0AWWBUUFlASZA6UCAALDAdsBPQIfA/gEHQg6DF8QqRPdFTMXtBcCF90UmBHhDTwK1Qa6A/4Alv5B/Lv54vap8wvwF+wV6HjkpuHe3zbfp98O4TDjyeWP6ELrvO0L8FnyyfRp91D6pv1zAX4FVwmeDCUP0xCLEToRABAsDhgMBAogCKEGrwVCBRQFygQtBFMDgwL/AdEB4QE4AiwDNwV9CIYMfxDGEzEWwBdLGIQXWRUsEo4O7Qp7B1kEnAFA/wf9pvro97z0LfFb7YXpCeZF43XhseDw4BriAORc5t7oSuuS7cnvB/Jb9Nz2tvkO/dUAwQRqCIML5A1uDwQQog90Ds0MAAtMCeAH6gZ/BoEGmwZ3BvQFOwWNBBAEwQOcA9YD2wQEBzYK2A04EekTzhXKFpkWBBUxEqIO5QpVBxoETQH0/u78//rl+G32efMK8FfsxOi25W3jDOKs4WDiDeRi5v7omOsS7mfwnPLD9P32cPlC/If/KQPkBlIKHQ0VDyYQPxBiD8UNywvOCQQIjAaSBTkFagXEBdkFgQXnBFIE7QO+A8wDRAR+BcIHBQvFDksSDxXkFrwXaRezFbES5g7zCj4H4wPkAEb+8vuy+Ur3kPRy8e7tMeqj5rrjvuHA4Mng5uEI5Nzm7Ons7MXvcfLf9A73Lfl++yf+HgFLBIsHpAo+DQ0P8g/2DyMPjA1vCzIJKwd5BSwEZQM8A4MDywPCA4ADVwN3A8oDNQTgBCcGTQg+C5EOxhF3FGgWYxcxF6wV8hJlD4ILpQcABLEAyP00+8/4afbc8wnx4u2I6lLnouSx4pfhaeFH4ibkvOap6bLsxu/N8pv1IPh/+vP8m/9qAlIFQQgQC3cNNA8lEEYQlQ8dDhAMwQl6B2gFrAN7AvYB+QEbAhAC5gHqAT4CuwI4A+MDKAVRBzgKcg2bEHUTuxUQFx0X0BVeEx8QZwyACLIENwEp/nz7FvnS9oD07vEJ7/frAOlh5kDkxeIn4pPi+uMc5rboo+vG7urx2fSC9wT6ifwk/9cBpQSCB0UKtAyXDsoPLxC3D3MOnAx6CkQIKwZyBGADBwMmA1kDcAOHA8YDHwRkBJME+wQCBtcHVQo1DSsQ6RIMFTEWFRaxFCYStQ65CpgGpwIW/+/7NPnk9uj0AvPv8I7u9uth6QfnFeW54yXjeOOs5J/mJekd7FvvovK09Xf4/Ppp/dX/SQLFBEUHuAn3C88NDg+PDz0PKA6ADIAKXQhCBnAENQO8AtgCKANoA58D+wN9BPYETQWzBYYGAwghCq0MZQ8AEiMUeBXAFeMU6RL4D1YMXQhiBJsAJf0K+lT3/fTh8srwkO4x7M3pjueX5Q7kIeP34p3jC+Uz5wjqXu3n8Fb0j/ef+pD9VgDoAlUFtQcDCh4M2w0cD8YPvw8DD7UNBwwgCiAIPgbJBO8DlQNvA1ADTQONAwYEgATcBEQFCAZWByEJQAuGDb0PmxHVEjkTsxJAEewO5At1COoEbAEP/uX6Efij9X/zcfFW7y/tFOsb6VLn2+Xo5KLkF+VJ5jro4+oQ7nXx0/QZ+ET7Rf4GAYsD6QUpCDYK9AtZDV0O4w7JDg8O2QxSC5EJsAfqBYgEpgMgA7sCZgI9AlcCoQL0AkcDyAOwBCIGFghrCusMVg9mEdwShxNFEwsS8g8yDQgKogYjA7T/fvyf+RP3vvSB8kTwAu7C65zpseci5gfleOSV5H3lPOe76cXsG/CO8/z2UfqB/XwAMgOVBaoHhQkwC50MpQ0pDiEOlg2cDEQLnwnRBxYGrASvAwUDhgIqAg0CPgKeAgMDcwMeBCsFmwZbCF4KkAy4DooQyRFVEhYS/hAYD5YMsAmKBjYD0/+Q/Jv5//ao9HfyWfBM7l3smuoR6dTn/Oak5uXm0edu6avrWu5C8Tn0M/cx+iP96/9sAqQEngZrCAYKWgtNDM0M2Qx1DK0LlwpMCeYHgwZIBVUEogMLA3sCCgLeAfsBRQK2AngDtQRhBk4IYAqODLkOkBDGETwS+hEAEU4P+AwtChMHtwMtAK/8e/mo9hv0t/F+74jt3Otp6ibpI+h950rnk+dl6M/p0OtE7v7w5vMC91D6qv3PAJYDBAYvCBwKrAvFDGYNng13De8MEQz3Cr8JfAg+ByMGOgVzBLED8gJeAhsCIQJSArMCcAOgBCsG6AfKCcwLuw1CDyIQWRD0D+oOKg3QChsINgUfAtj+jvuK+Oj1jfNT8ULvf+0V7Ojq5OkW6aTooOgD6c3pFOvi7BvvjPEl9Pz2FfpB/TYA1gI3BWkHUwnECq8LLgxZDCgMlgu2CrIJqAieB54GvAUDBWAEvAMhA7gCkwKeAsQCFgO8A70E+QVbB+4IuQqGDAEO+w5+D5IPEg/WDfELogkMBx0E1AB6/Wz6xfdP9eTyrPDv7rjtyuz1603rCesy66HrP+wv7aDuhfCg8sb0CveR+U38/f5mAYsDgwVNB8UIywllCqgKngpECqcJ5QgXCEUHeQbLBUwF7QSMBB0EuwOEA3gDggOhA/ADhQRdBWUGnwcUCbEKPAx2DUEOlQ5mDpgNIgwnCuIHcAXDAtL/0fwQ+q/3gPVN8zDxde887lbthezT63nrk+sF7LLste017yzxZfOz9Rr4qPpI/cX/9gHdA4UF7Ab+B7EICwkXCdwIZQjHBxUHWQaaBe8EbwQZBNUDkQNbA04DbAOoA/sDbgQFBbQFbwY/BzIIQAlICiULwgsMDPALXQtWCvEIQwdWBSwDzgBX/vL7vvm/9+T1KfSk8mzxevC47xzvte6Q7qzuBO+o76zwEvLB86L1rPfZ+Rr8Wv6AAHkCMQSjBdAGvQdeCKkIpQhxCCIIuwc0B5EG5AVDBbcEPwTRA2QD/AKsAokCmgLSAiUDjwMTBLIEaQU7BiIHCwjWCGcJrQmeCTEJawhgByYGwAQgA0sBX/+F/dD7Nfqm+C734/XO9OLzEvNl8u3xrPGY8bDxCPKz8q3z4fRD9s73e/k6+/f8rP5PANIBIQM2BBoF0wVcBrAG1AbZBs4GtQaGBkIG9AWsBWcFEgWjBCoEwwN4Az4DEQMDAyUDbgPIAykEpgROBRQG2AZ9B/UHOgg8COsHSAdnBmYFTAQOA6IBHgCq/lb9EvzI+nz5SvhA91T2dPWo9AX0lfNO8yTzJvN08xz0EPU09n/39fiQ+jH8vP0t/4oAyQHNAooDGASSBPwERAVhBV0FSAUkBe4EowRLBO8DjgMgA6ACHAKwAXABTwE2ARwBGQFBAYoB3QE2AqgCNQPGA0UEsAQSBWAFfwVgBRAFpAQlBI4D3QITAjoBWwB+/5z+rv2x/LL7wfrk+Rb5VPis9yn3z/aX9oL2nvb59pL3WPg9+T76W/uF/KT9r/60/7YAowFhAvQCdgP2A2MEpwTFBNIE0gS2BHYEHgS/A1wD7QJtAuYBawEPAdcAtQCSAG4AYQB6AKQAwQDUAP8ATwGlAeEBCwJAAnoCkwJ8AlgCTgJXAkcCEgLQAZwBbgEmAbUAKwCe/xP/hf7x/V390/xX/Or7jPtC+xT7B/sT+y/7XPuf+/j7XPzC/CX9jv0A/nb+5f5H/6P/AQBlAMUAFgFZAZcBzwH1AQQCDQIgAjYCPQIsAhcCEgIeAiwCNAI8Ak0CYwJwAnECaQJgAlwCXwJjAmICWwJPAj4CIAL0AcUBnwGGAWwBRwEVAd4AqgB+AFYALAD1/63/X/8a/9/+p/5q/jH+Av7d/bf9jv1w/WL9Vv07/RT99vzt/O/87vzx/Af9K/1L/V/9d/2h/dX9//0e/kb+h/7e/jz/nf/+/1kArAD7AE4BoAHkARUCPwJiAnICbAJnAn8CrwLSAtMCvgKrApsCgQJTAhUCzwGEAToB9ACvAGoALwAMAAAA9P/Z/7r/qP+h/5X/f/9p/1r/S/81/x3/CP/v/tL+vP6+/sv+zP6//r3+1f7y/vn+7/7v/v/+Bv/y/tL+v/66/rD+mP6E/oH+iP6L/ov+mP6//vz+Qv+H/8b/AwBGAI8A1gAQAT4BZgGMAaUBrQGqAbMBzwH1ARQCIAIbAgYC5QG4AYIBRAH/ALoAfwBQACUA+v/T/7n/q/+d/4b/cf9q/3T/hP+N/4//j/+R/5P/kv+M/4H/ef99/4z/mP+U/3//bf9p/2//av9S/zX/Kf8w/zn/Lv8V/wv/IP9G/2X/ef+N/6z/0v/0/w8AKQBCAFgAbAB+AIsAlACdAKsAugDAALUAoQCOAIEAdQBlAFEAPwA1AC4AJQAaABUAFgAZABUAEQAZACwAPwBNAGAAfACWAJoAjACAAIEAgwB2AGIAVQBPAEIAKQAUAA8AFQAUAAoA///4//D/3P/B/6z/pv+j/5L/df9h/2n/iP+k/7L/uv/M/+b//P8IABEAHAAoADEANwA5ADkAOQA+AEQAQwA2ACUAGAAQAAYA/P/y/+n/4P/Z/9v/5//3/wIACQAOABAAEQARABMAGAAhADAARABXAGUAcQB+AIQAegBnAFsAWABPADcAHwAXABgADQDv/8z/tf+l/5T/iP+M/5j/k/92/1j/U/9r/4v/o/+x/7z/wv/C/8H/xv/V/+v/BAAeADIAOgA7AD4ARwBOAEsAQAA0ACsAIQAWAAoAAADz/+f/4f/j/+b/6v/x//z/AgAAAPv/AAAPABsAGQASABIAGgAhACMAIAAUAAAA6f/f/+D/2P/A/6b/oP+s/7D/m/93/13/Xf9v/4P/j/+R/47/jv+X/6v/yv/y/xkANQBCAEMAQwBMAF4AdgCNAJoAmgCNAH0AcwBtAGQAUQA6ACYAFgAFAPT/5f/a/83/wv/D/9f/8P/4/+z/5v/7/yQASQBVAE4ARABBAEMARABDAEEAPAA0ACsAIQAXAAgA9f/g/9D/yP/E/8H/uf+o/4//df9s/37/of+8/7//uP+5/8b/1f/k//z/HAAzADIAIwAeADAASQBZAF4AWQBJACwAEgAOACEAMgAsABgADwAXAB8AGgAPAAcA///r/9j/3f/8/xcAFgACAPf/AQAWACgANQA7ADMAIgAeADAASABGACsAFgAbACYAGAD0/9X/zf/I/7H/kf+F/5H/nf+R/3n/b/99/5f/rP+7/8n/1v/e/+T/8v8JACIAMgA5AD4AQQA/ADYALgAwADwASgBQAEoAPwA5ADsAPQA3ACwAIwAgAB4AFQALAAsAGwA4AFQAYwBdAEsAPAA6ADwALwASAPj/7//w/+v/1v+7/6f/of+m/6v/pf+U/4j/jP+W/47/df9l/3D/jP+g/6z/vv/Y/+T/3f/e////MwBXAFkATQBQAGIAbwBvAGkAZABdAE0AOAAqACcAJgAfABgAGwApACwAFQDu/9H/0P/f/+X/2//Q/9L/4P/z/wgAIAAwADAAKQAqADkARQBBAC0AGQARABQAFQAKAPD/zf+y/6j/qv+q/6X/pP+q/7L/tP+0/7r/x//T/+D/8v8LACYANQAwABoABAABABgANQBAADYAMABCAGIAbwBZAC8ACQDz/+r/5//m/+T/3//a/9n/2v/Z/9b/1//g//P/CgAdACIAHAAWABsAIAAWAPz/5f/i/+3/9v/3//v/AwALAAkAAAD6//j/9//2//X/8//q/9r/y//D/8D/vv++/8j/2v/s//j///8FAA4AFgAgADIASQBbAFwATwA+ADMALAAiABUADAAQAB8ALwA0ACkAFwAKAAoAEQASAAYA8//l/+T/6f/s/+j/4f/f/+b/9f8FABAAEgAOAAwADgANAAAA6f/Z/9z/6v/x/+X/0f/E/8L/xP/H/8v/z//N/8f/yf/c//n/CgAFAPb/8P/9/xEAHQAbABkAIwAyADcALgAhABoAGQAUAA4AEwAlADYANQAlABQADAAJAAgACwARABMAEwAXACMAKQAVAO//zv/I/9f/5//w//n/BQAPAA8ABwAAAP3/+//7//7/AQACAAIABAAEAPb/2P+0/5n/jv+V/7H/3P8BAA8ACQABAAEAAgABAAQADgARAAAA6v/l//b/BgAKABEAKQBFAE4ARQA8ADgAKgARAP7///8LAA4ABQABAAsAGgAiAB8AGAAUABoAJAArACYAGgASABEADAD9/+z/6P/w//f/9//2//r/AAABAPr/8v/v/+//7//w//L/7//e/77/of+b/63/xv/U/9f/3f/r//f/+f/4//7/CQASABUAHQApADEALQAiABsAGQAXABIAEQARAA8ACAAEAAkAFQAgACQAHgAOAPf/4//j//b/DQAZABQACAD///z/BAAUACAAGQAEAPT/9/8BAAAA5v/F/7X/uf/E/8f/xv/J/9T/5P/x//X/7v/f/9X/2//y/woAFwAXABMAFQAeACkALwAvACoAIQAaABcAGgAcABkAEAAEAAAACAAdAC8ANAAnABUACQAKABMAHwAnACQAEQD2/+L/5P/2/wcADQAFAPn/7v/k/9z/2//m//j/BwAPAA8ADgANAAgA+//i/8f/tv+3/8f/1//c/9b/1P/f//j/EgAiACIAGQASABMAFwAXAA0A///z//D/8//6/wIADgAaACAAHwAcABoAFwASAAoABQACAP7/+P/2//3/BAAGAP7/9f/z//v/AgACAPn/7v/r//P//v8FAAcAAgD5//D/8P/9/wsADgAEAPf/8P/v//L/8v/r/93/1f/d/+3/7v/S/6r/lv+m/9H/BgA8AGQAewCKAJ4AswC3AJ0AagAoAOT/rf+Z/6D/ov+a/6P/0v8LACsAPABXAHEAagBMADsANQAQANL/r/+x/6b/hv+T/9b/6v/X/7kAhAMABx8IGAXR/zL8Nvwe/n/+ffsB9r/wiO648ED2LvzT/8kA2QAKAh8FbAlPDawOGgx7BhsBSP9jAZ8EmQUrA+3+nfsp+4X9uwBMAgsBAf5e+6z67fsq/mcADwLlAg4DBQNHA/oDyAQMBSUECAKh/2r+Rv+HAWQDawOoAW//J/5L/iz/mv/J/uj87/rp+Uv6wPtv/YP+wP6j/u/+8v9OAWwC7AK2AukB9gCNAPUAfgH1AOL+IfwX+lz5aPll+Sn5TPls+oH87v4dAf8C8ARNBzYKcA1GELgRUBH1D1EP+w95ELAOSAocBSwBtf6B/KX5SPYO827wmu6Q7ezsGuwD617qBesG7bDvcPJf9eT4Bf1ZAXcFOgmRDDwP0hAYESIQMA5fC6cHJgNW/tT58PV68ifvHOz66VvpWOqd7OfvY/SK+rgCsAxNF8UgnyfSK8MuujFVNKc0BDFrKUgfPRRdCRH/D/WZ6ljfV9Sxy/XG/cVwxybKwc1W0hvYZd9x6Nbyhf1uBxUQTxfYHG4gOiLFInEiHSFIHngZjBINCiAB+Pgn8ozs4Ocl5IvhNuBN4AjibOUi6rzvD/b//AkEXgpyDywTbRXlFcUUXRN3E98VqxkLHakeRh5cHG0ZtBU7ESsM3wa7AeH8Mfih83DvAeyB6eXnIedE50noAeoy7Mvu3/Fq9Tr5/PxjAD8DhAVQB9MIJgopC6ULggvaCtgJnAg/B+oFuwSUAygCSQAw/kT8q/oe+Ur3TPXH84Pz3/SR98z6rf2Z/1EA4f+w/qz9N/6NAQsI1hA1GlQiBSgfKzIs2CsmKsEmZCEuGooRAAgv/rz0Hex45N7didi11GXSedEK0m3Uv9iZ3ljljOz581z7SwJnCIQNphHhFCcXKRiFFy8VpBGKDTYJmQSt/6r66PWt8TXuqevi6XvoWucf56joMewe8ZD28/vaAMEEOQdICFIIxQcgB0UHbwl0DvkVXx6BJcEpvypEKYUmLCPzHhsZMBGKByf9NvOY6qTjPd4t2lnXtdU+1RzWvNhq3cfjyuqF8cH32f0CBP0JTg+WE5AWCBjxF38WBBS8EM4MewgeBPv/IPyO+GH11vIK8dbv2O7W7RbtVO0y76byAPeB+8P/kQOFBiQIWwipB8EGNwa/BnwJfA+MGJwiryq4LrkuRCzvKCIlHCDYGPgOHwOs9h7rjOF22s/VMdME0s7RkNLm1IPZZeCP6J/wvvft/ZUD/ggoDugS5xafGZkavhlcF9gTfQ+iCsYFVgFf/Zb5xfUT8uDubey76rjpeOk26ifsR+9a8wv4Bv3fAf8F1AgzCnUKHgqTCVcJkArFDqkW4yBmKkQwgDE7L2QrIidDIrkbjhKxBjH54OuN4FvYf9Nm0QfRadFD0jvUYtgd36Hnd/B4+Dr/0gR9CYUNPhG4FIgX/xieGFkWgxKtDZMI7wMiAAT9DPrD9hrzd+9/7L7qXeoi66zsv+5Q8WT09/fw+wsAxANzBrkHwgcUB0MGBgaYB3sMVRXDIJIrhDJLNP4x4S2JKeIkhR72FOEHmviB6ezcJ9RBz13NQM3szS7PtdGG1gPededy8b/6ygJ+Cd0O9xIIFnIYWhpaG68a0BfuEtQMfQavAO37WPia9QbzIPAU7Y3qI+kL6Urq7ezK8DP1O/lr/BX/3QH3BN0HyglXCqQJJQiDBs8FsAe7DRAYayTsLmI0RzSfMPsrbScTIjka4w6cAEzxWOOw2CLSRM/XzoXPjNAh0jrVydrf4nbsFvas/uIFywt+EBQUxhbYGDoaaxrNGBgVkw8KCZkCS/2W+RT31/Qv8iPvOOz56dvoW+nT6+vvb/QC+Cz6pvuH/TgALgOFBa8GnQabBXAEqQRnCBoR/R26KwI2GTpXOFwzxy1UKMIhQhgUCyf7oerx2/jQlsqGyI7JDszqzijSy9bU3UPn+PFu/IYFvwzqEQ4VhRYFFzoXQReHFisUqA9RCVQCO/we+Bb2U/W19Hzzh/FE72ztwuzQ7Z7wi/R0+D/7ivwB/dv92P+TAugE2gUxBVsDOgFWANsCtAreF34n5zQpPEE8QDdgMKEpuSLsGc8Ng/677e/dc9HTyWPHIcknza/RBtbG2hvhrekE9MD+WwjKD5gUxBasFiMVPhPBEZIQuw4rC5kF3v6K+A/0D/Im8jrzF/T589XyRPEz8Ivw1fLn9sb7/v90AicDGwN6A5oE5QV/BtYFwwOkANb97/3FA10QWCGcMQo8UD7iOWUy7yoqJIgcBhLhAx7z/uE60zbJMsWexlPL09DD1XXaNeAV6BHyEv16B9EPKxVKF5gWIxRSETkP6Q1dDE4JOgTX/ar3QfN58SPyH/Tx9Xz2evV4843x8PCI8mr2lPtOACgD0QMyA5cCtwJiA+UDlwMmAsv/vf18/t8EBxKmI4w0eD8SQsE9+zWqLZQliBzHEJIB4e8L3tTOecQVwEvBXMb1zGXTg9ld4ATphvPU/mgJ6hFxF6oZ7hhGFhITXxBXDjoM9Aj6A8v9tfcp8wHxNPHf8rL0ifX89ILzJ/IE8sfzcPcu/JcAXAMIBD0DFQJSAQ4B+gCrAM3/cf6i/Y7/mwaqE7skWjW7QEBElUCqOGkv7CV+G+UOu//R7ubdK8/AxAHA0cCWxRnMxdJS2XrgGOlN80b+pggrEQoX8Rn+GdUXmhR4EeUOWQzXCNQDuP2q9/nyivB58BHyG/R29Zr1yvTb88/zYvWu+Ab9IQHEA2MEZwPEAVIAZv/h/nb+zf3Y/Gf8dv52BZASFyS1NXBCPEdBRBg8zDETJ9sbJA87AHTvO96yziTDRL1gvSXCUskC0ZDYduBw6bPztP5oCZQSDhkPHJMbexhBFEYQJg2GCngHPwPu/Xr4QfRJ8q/ylvSl9qv3LfeF9aTzrfJ28yr2Gfrz/WsA+gAgAPT+Uf5s/uz+Tf8i/2/+LP6LAC8IQRbAKLk6u0bZSQBFojsCMUomqRrUDHn8pupb2d/KM8F/vYO/j8VTzR3VmNx+5Jft7feoAocMSRQBGTgaLxjvEw4P9QojCPgFQgM2/yD6R/Un8ojxI/PW9UL4YPnh+EX3m/US9W32lfmG/bkAAAI3AVX/ov3u/En9Vv6Y/5UANAF0AqcGRRC8HxAy3EE7SodJzUHLNjQrWh/+ET4CtfAu36nPzMPcvIy7gb8RxwbQ2thl4WDqSfS9/qgI5RCUFisZeRjWFGkP3gmbBewC5gA4/lb6//W38rjxJvMW9i75R/vR+9/6GPmK90n35vgH/Hj/xgEdAq4Abf5l/FD7hvv4/Ab/xwAcArsEtQseGYsr+j2ESudN/0g8P7QzRiccGYMIKvbN4yDTW8Wiuza3vbhivwbJmtM33vnoBPT1/hwJ6BHUGBYdyB2ZGm8URQ0fB+MC9v/t/Of4U/Se8CDvM/Ag86/2t/ln+3T7Ofq7+D74lfmT/BAAgQLdAigBU/6c+xH6S/pU/G3/TgJSBMEGsQyuGOoprzv9R05LSEZIPGQwtiPdFY0GWvZN5kLXCcr5v9S6tLsCwqvLdNYZ4VvrWvUb/4IIThHDGI4dTB6UGqMT2wtpBQ8BDf4W+4T3v/PH8HnvHPBU8lr1OPgO+lX6JvlV9zf28fai+Rf9hP+y/6/9k/rV9872Z/iU/PABdAY+CQwMdxL7HjgwCUGgSxJNbEbeOhItHB5MDjz+yu5g4O7S38bWvf25Xrz3w2zOiNks5CPulPelAGQJhxEoGPYb7BsxGD4SHgw+B7wDvwB4/d/5mvZJ9Bbz1fJi87D0ePYd+Pj45/iA+LT4Gfpp/J7+lf++/m/8uPkK+LL4LfyVAfIGuQqRDXISZxyHK/E7BkgMTBxI+z5UMx0mNhfyBon2KOcm2YbMGMKgu5a6076oxiTQKNpp5NDuIfkMAzcM/xNrGX4b8BmfFToQTQtWB8AD0f+M+7X39PQ68xjyaPFt8Ubyf/Na9If0evQF9a32M/mz+yz9Ev2i+9H59vhB+hz+owP2CI4M9w4aEz8cAivsO0ZJyU4FTJ9DiDj3K7od1Q1H/U3ta96s0LHEJry+uNa6LMHvydfTV94a6a/zs/3wBhIPRRVxGAsYuxQWEIwLjAelA2v/G/tr98b0BfPV8TvxfvGn8kT0tvW59on3mPgc+tn7Of2b/b38/fpk+VH5z/u6AHcG2goZDSoP3xTgIOUx5EI9TjJRt0xmQxg3WSiZFwMG6/TM5HPVSscfvEu28rYyvejGGNKr3SjpQPSh/v0HARAfFqEZ/Rk/FygS5gugBRwAufuF+Fz24fSn83zyqvG68eTyr/RD9hL3PvdQ96b3OvjW+FL5mfmj+bT5lPpE/QYCoAfhC4kNCg4vEWYanymfOoxHoUzrSd5BtDY8KbMZ8QhW+LnoFdqAzDvBYbppufa9KMb7z0fawORN75T5DgNGC98RcBZ+GMIXixTHD50K6gUAAtj+S/wp+jb4QvZs9CHzyvJL8wT0XPRJ9EP0rPRs9Sf2sPYe94D33feq+P/6x/9mBnsMnA/nD8YQuRabI5g0xUP6S7hL7URmOsgtkB8/EMsA6vGM45PV+cjcvym8Ob6lxFvNxdY04JjpAPND/O0EWgzWEdAUBhXHEvEOlQp8Bu0C5P9M/Q377Pi19pH0EPOy8mTzgfRm9eb1NvZ49ob2TPYP9jP2w/Z092H4iPoN/6EF8AtKD3MPzA8rFeQhaDOtQw1NdU2QRow74i67IYQUdgd1+vLsp96P0A7FsL57vkPDn8qF0jjaAuJO6hfz5/sOBMgKUA8vEYoQKA4PCwgIdQVgA5cBsv9A/TD6Gffp9DD0tfS79an2RPdz9wv3FvYd9df0dfV39nz3Lfnx/EkDhQp6D0gQug7GD/0XqSf7OR9IiU0aSuFAWzWgKVIeNBOXB5L6oeuO27LMC8KbvTm/ycSxy1zSxtjJ3w7odvE4+y4EMwtsD6wQjg8fDWAK9AcdBrYELwPVAGX9c/kn9mz0XvRe9Zb2UvcO95z1WvM28SzwlvD+8bjzxfUU+Zz++wX/DPMQIhFWEG4TtR3fLXo+gEkNTDdHLD60Mygprh7HE5kHafli6R7ZQMtCwj+/icElx+bNdtS92nzhcumt8l38JQWmCwwPag+qDQYLdwh0BgAFzwNGAsv/VPy2+Bb29/Tq9CL1IPWv9JHzpvFs7+vt1u3+7s7wRPMa9wH9ngRLDL8RhxOqEvYS3BjcJa42KEVnTF5LKESkOfEtRyITF9kLb/8F8TnhJtJ2xiTArL/zw93KZ9KF2U7gdeeG73T4eAFBCWgOGBCPDg8LRQeFBDcDyAIPAhEAtPzf+N/1ifS89Kv1avZK9u70cPKM73HtAO027mnwMPPv9mf8rQOOC+kRABUOFeUUnhi2IrYxo0AUSm1LtEXcO6IwiiUJG9gQFwa7+XzrotzEz2fHiMRCxq3KENB91b/aIuA95ozt4fUl/twE/wiPCnwKBgoJCoQKtwrMCZAHlwS6AX3/5/27/Kn7TfpE+GX1B/Ly7vHsTuyx7KLtOO818lL3Pf5SBXQKjgy/DCgOHBSqH28u2DvvQ2JFS0GmOTkweSZ/HV0Vxgz/AZf0LOZ62ZnQCcz0ygjMKs7C0M3Tr9fW3Gbj+Oqd8iz52/29ALUCuQQaB20JDwufCxQLnAmOB14FbQPNAUUAi/5v/Nv55vbv85XxWPAu8KPwWPGE8tr09vio/rIEVgl9C9ILyAwjEewZgyWRMBc4xDruOK4zZiyaJIsdcRctETUJCf+88ybpmOBq2mHWLNRs07DTr9SH1ozZ4t044+/oa+5Y88X3EPyGAPwE0QhwC8QMKA0CDZgMHgytCxQL6AnkBxEFnQG6/cr5fPZJ9PDyv/F+8Mnva/CZ8g/2mfoDAIQFvQnQC2YMZg2TEFcWmB19JFApIyvwKWUmiyFuHNAXzBO+D7kKSwTa/D/1MO7/59ri7t5X3P3atdpq2xndst8O4//mT+vF7zX0mvgL/YQBwwVcCf0Lmw1rDr8O0w64DlsOnA1WDGUKvQeFBA8Bq/2V+hf4i/YD9gX22fVQ9Rb1C/ZS+Df76v0hAAYCzgPHBZMI5wzUElwZAx/AImMkPiSoIuYfYhyjGPIUDhFaDF8GSf/Q99Tw4uoa5lXiWt8D3VHbdNq62lTcNd8K42nn7utU8Ib0rPgB/YwB8gWVCfcLDw1EDRcN2wycDD0MkAtZCl0IoAV1Akv/Ufx5+d725PTV83TzSvNX80D0hfbK+Rv91P8DAv0D8QUcCA4LSg+VFOIZAR5cIAEhOSBIHnYbIxiuFC8RXA2wCM4C6/vU9Ibuo+ky5tfjIuLG4L3fSd/Y37rh8OQr6fHtt/IE96r66/03AbUEDgiyCkkM3gy7DDIMegulCpcJFgjwBS4DKwB5/YH7NPob+cL3I/aT9HXzHPPq80b2KPq+/tMCpwVWB4UI2gnRC9wOMxNhGDkdgSCwIRIhQR+uHKoZkBaVE4EQtwy8B58B8/pr9KXuBeqW5vXjl+E83ynd4NvP20HdZeAX5avqLfAV9Yv57v0fApcFAQiaCdkK3wtrDDQMHAsOCQUGUAKy/gL8jPre+TT5Afgl9tXzj/Ef8H7wTvNL+DD+WgPFBoYIhgnXCksNgBG+F38fIyeXLI4uNS3BKXYlFyH5HBIZ5xScD3gIh/+49W3s0uRq3/zbytkF2E3W7dSr1ELW79lc39Tlk+z08pH4UP1QAa4EaQeICVULOA1DD+wQYhEcEDINRgk/BewBo/8N/mL87flu9ijy6e396sfq2e1W81n5Lf45AQQDugTSB7cNABehIvctJDanOfU4vTWoMZctnSlAJcEfWhiaDsIC5/Wu6aPfedjK03/Qn83oytXIWMhgylnPzdaP32HoifDF9+z94QLnBpMKPQ6bESgUuRVvFiUWYBQLEeMM7QiKBVgC0v7D+iL26/B/6w/nNuXl5qvr7/HY9zL82v7IALUDWwl5EiceBipZM2E4GznqNoAz7i9cLFUoLSM3HPwSiwfK+kXukuOS2ybWa9Jfz3fM+8nbyCHKUs4a1YHdX+bH7jD2dfzFAYAGBQt8D8ITbxcTGlcbEhtFGSMWFxKkDSAJjwTI/6H6DfUP7/vowuPN4DXh7+S56tHw2/Vj+ez7zv6zA8gL1xYRI8QtszQuNyY2VDMbMP0syyn2JbggNhkID8oCF/au6pbhz9q71ZjR3c1/yhPIl8fUydrO+dUw3pzmoe7p9Vb8DwJ2B+YMcBKrF+UbfB4oH/cdKxsoF2oSZw1XCC0Dtf2/90jxmuqB5Dfg6t794LPliusK8Wr1xfj8+2oAXAdIETcd7ij8MQI3NTjYNkM0QjEPLnQq1SVVH00W5Qo9/ufxNue+3lnYcdNlz9/LD8mex1HIlctM0efYmOFu6oTyXvkq/5gEQwowEN8VqRr9HWsfwB4sHD8YohPXDiAKfgWoADD74vQt7h7o8+Oj4nzk9ejC7l70wPi3++L9dgDxBG0MshbYITsrDzEyM6syrjAgLqIrZCnYJsEi9RszElsG+fmU7ifl8N172ATU9c84zErJ+cf7yKTMwdKl2lXjvusb81L58f62BPQKVREeF5cbRh7zHrMd6BomF/USow46CpIFZQB7+uzzUO2s5yDkbOOe5f/pX++G9J74bft2/fX/cwTuC/IVnCCVKVwvxTGaMegvnS1oK38pUiekIzcdpBO4Bxz7iO8Z5gLfuNlg1VHRa80rym/IDMl6zJnSs9qg4yvsifOs+S//0wT3ClERIBeSGxoekR4yHW0awxaoEmwOIAqRBWcAcfrk83HtGOjW5EbkXOZW6hHvdvPV9hr59PrB/f4CSwuvFfwfHigoLWovvC/nLpAtOSzsKvAo8yTqHdQT0QeF+1TwAeef373ZudQb0O3Lu8hMx0LI4sv40dnZgOLk6mfyEflh/9wFpQxLEwoZKh1RH5YfTh7XG4cYphRhEL4LnAbRAF36kvMq7R7oUeUj5Urn9+op7+3yp/Vr9yb5W/xPAi8LvxXpH9MnsiztLosviC9uL0AveC4lLD4nNx90FEYIU/zQ8RXpruHk2krUB87KyHHFscTKxmnLzdEY2Zrg+eco71n2z/2aBVUNKRQ4GRocDR20HK0bOxpAGGkVcxFaDFoG2/9W+UnzIe466t7nPedT6NXqO+7j8Tj16vc/+jz9NALUCWQTEx0JJWkqZC20LgQvvy4JLq4sGyp/JTYeThTFCCT9s/Lg6VTif9sO1Q/P8Ml8xozFd8fPy67RU9hO31fmOu0m9Kv7JAQNDRQV7xomHi0f8R5HHoYdaBw/GnQW+xBiCoADEf1o94/yje6o6zXqQ+qL67btj/DF88P2M/m1+7n/SwYID1IYfyCqJrQq5yzOLQsu9S1NLVwrXyffIOIXGQ3NAUv3Le415tje1tdb0c/LxsfuxbbG7cnczsTULNu/4TrotO7S9TX+oAfJEB8Y1xwrH94foR/WHokdbxsUGDQTDw1QBpz/PPla81ju1eo76VDpZeri64ztWO8+8YHz+/az/OgEmA4HGOAfvyXmKcQsuy4XMOQwsjC2Lj0qIiPoGY8PMwWo+zjzseuv5OrdWNdA0TXM8sj6x0vJcczJ0LXVs9qX38zkMetd8+n8eAaNDlMU2hfJGfMa5BuXHIEc+hrLF0YT6Q0LCPABEPwa95LzcPE38GPvte4k7rbtq+3M7j3ysfiUASoLsBNyGt8fpyT/KJ8sOy+rMJUwRy4cKSchchdsDSUE7PuK9LbtS+c14XHbKNa+0bjOdc0NzkbQpNOD11zbJd9x4xTpa/Ds+F8BmAgEDr8RUBRKFgAYWBnfGSAZBBfME8MPDwvoBdAAc/w4+SD35fUn9Wr0T/ME8orxKfN299j9/wTkCzUSFBiGHUEi+CWfKFIq7SraKXom4CDwGcES2wsdBVj+t/eQ8frryebh4WTdmdnJ1jXVCtUk1gLYIdp03H3fx+Nf6bLv/vXI+wEBywU1Ci4OjxEnFMkVYxYaFiIVhhMhEfQNXgrbBqEDlQCl/e/6j/hz9qX0svN29GX3GPygAUIH0AxwEh8YfR0KIo4lJCjMKQoqJigAJGEeTxgnEpALTwTP/Lj1Pe8b6SPjkN262M/U5tEn0KbPJ9BN0Q/T0tX12VffZeWZ68zxCvhL/mQEIApHD50T9RZVGeQaqRtsG/UZYxcgFIgQtQy1CL0ECAGj/Xf6nvd89Y30HfUr93P6jf4lAy0Itw2SEx8Zxh1yIWEkbybjJjIlryFDHWkY4RJrDHMFu/6J+Inyaexb5s/gENxG2JnVD9RU0wDTLtNz1DfXPdv73zblBeta8dr3Mv5bBFkK6g+iFEIYyxo9HHUcYBspGSAWhRKEDksKDgb2ASz+6/pq+Kr2iPUU9cn1I/gO/NgA5wU4CwwRKRfAHC4hiCQnJ8oonCggJtchrRwIF6oQdAnmAbf6GfS87VjnFeFt29LWc9Mx0cPP/s4Lzz7Qt9JK1sbaMeCG5mvtWPQV+8IBcAjJDk0UuhgMHDAe+x5jHqAc9xmQFowSKw63CVwFPQGX/az6gvjp9uP16/WO98f68f56A2cI/w0NFL8ZXx7oIaskgiasJpQkhiBnG88VrQ/LCG0BPPql83/taudf4d7bf9dz1HHSG9Fi0IzQ2dFG1KbX7dsy4WfnKe4C9bv7ZQIICVsP7RRsGcAc5h7OH10fmh21GvsWrxIEDi0JawQLAEr8Svkc98X1R/W49Ub3Hfok/usCCwhrDR8T3hjuHbshVSQXJt4m5SWfInAdVhf1EEEKEgO+++z07e576TDkEt+d2lHXRdUm1JXThtM91PPVo9gk3HTgsOXM62XyCPmC/+MFJgz4EfEW2xq7HYkfFCAuH+gcjBlfFZIQXgsZBhsBnfzK+Nf17fMF8wnzJPS69uv6OgDkBYkLUBFHF98cQiEPJIolAyZIJcwiUx5VGLARBAtlBKr96faT8AfrJ+aE4fTc4tje1Q3UE9OT0pHSWtMx1SDYE9z14LLmIO348+76xwFmCKQOPhToGHUc3B4JIM4fGB4nG2oXKRNoDjMJ3QPm/p/6Fvc99Bzy5/Dt8HzytPVf+vz/DwZbDM0SLBnyHnEjOyZbJyUnuiXKIvsdhxdPECsJSwJp+4L0Je7a6ILkkODD3H7ZTNdE1gjWPdbs1l3Y0NpL3qziw+dm7XLzuvkAAAgGpwu/EDEV1RiGGywdsh0IHT0biBg2FXURTQ3QCEQEDABp/Fj5wfay9HrzffP+9Pj3JfweAY8GRAwcEtgX+hzuIF8jZyRGJPoiNCDFGwkWwQ96CT4D4Px99oTwQeuM5gbiod3J2fvWUNV51CzUgdTR1VfYBdym4BLmKuy08mH57P8sBvoLIxF3Fe0Yihs7HdIdNB2AGwIZ8RVeEkUOywk/Bf0AO/3y+RX3vvQ/8/vyMvTp9uj60P9EBQsLBhH3FlocmCBkI9ckHSUTJGIh/hxgFzoR8gqOBAT+ifd88QvsDOc+4p7detk11vXTn9IP0lPSpdMx1vXZzN6K5Pvq3PHb+LD/JgYYDFkRxhVSGf4buh1cHs4dLRy9GacW6xKCDp4JpQT0/7L74PeD9L7x1u8l7wTwmvK59u37wQH6B3gO+xT4GtAfLCMUJbEl8ySaIoweMhlLE2YNlAekAZ/72fWZ8MfrD+dT4s/d4dm71mDU1tI90sXSnNTe14XcY+Ie6U/woffU/q8F8gteEdQVXBkJHNIdlB4+HvUc9xpeGBYVDBFkDGoHagKg/T35X/UH8j7vW+3w7GvuvfFz9hj8ZgIxCS4Q7BbfHIshrSRRJpomcyWcIhgecxh1EooMogabAKj6IPUU8D3rWeZ+4QPdMtka1rnTJ9Km0XvSytSP2Kvd6ePy6lfyrPmoABsH1AyfEWkVShhjGrsbPRzkG8waGRnfFhMUphCeDCEIdwPu/rn67faP87/w4O577vzvY/NA+Pn9KAS0CoYRNxgTHnsiRCWcJqUmKSXZIdIcuxZgEB0K2QOF/Wj35fEK7YPoEOTU3yHcHNmq1rrUe9NC00XUj9YZ2t/ew+R064LyjPlTAKoGXgw5ESAVHBhGGqUbKBzGG5EasxhKFlkT1Q/BC0gHsAJE/jH6ivZP85XwrO4f7nDvt/KC9yP9LgOYCVoQDBf1HHchbiQEJkwmCyX+IUgdiBdyEV8LQgUX/x75r/PP7i/qoOVT4Z3dj9oA2OLVd9QZ1PHU/9ZE2sjec+Ty6tbxwfh8/9cFmQt/EGEUThdqGcAaMxuuGlMZaBcPFTcS0Q7/Cv0G9QL9/jT7x/fK9D3yUPCR753wn/Mi+HT9LANMCdYPaRZIHNAg1SOJJQEm+CQaIokd7Rf5EfgL2QWj/6D5JPQs73fq4uWf4ffd+dp82HDWD9Wz1I7Vm9fM2irfseQe6/3x5vik/xEG7gvfELAUdxdfGXUapBruGYgYrhZ0FMQRlw4MC1AHewOW/7v7Ifjv9Cvy6e+P7r7u6/Dt9CD65/8OBqIMcxPhGSwf8CJAJT4mxyWWI6offBq0FMMOyQjQAgH9kveT8t7tUOn25AvhuN3s2oXYmNaA1ZTV5dZO2bvcQeHh5lDtEvTI+koBeQcLDaEREBVxF/kYuxmoGboYFhf6FIcStA90DOEINwWmAT7+AfsC+GT1SfPi8ZDxz/Lg9Xz6AADiBf4LVhKgGC0eVSLhJPclqiXCIw8g1RrBFHQOMAgCAg/8nvbQ8XvtXOlm5c7hx95M3DTaeNhR1xbX/9cL2ijdVOGM5qLsOvPy+YEAuAZWDAwRpBQdF5gYMhn7GAYYehaCFDoSog+2DIMJJwbCAmr/J/wP+UH23/MG8vTwIPEL89D27/umAY4Htg0cFDoaOR+iIoskJCU1JGAhvxwKFwsRDgsHBQ7/iPm+9Inwg+yJ6NfkteEY38Dcjdq+2LrXxNfg2ADbMN6A4tfn3O0v9Jr6AgExB7oMPhGpFCcX1hiiGXUZcRjiFvYUnxLID4oMHwmxBUYC4f6f+6T4/PWt8/7xj/EC8232OfugAE8GagzpEi4ZWx4FIlYkdCUHJZIiLR6iGMYS4QzTBq4A5vra9XjxYe1k6bjlp+Ir4Pnd5Nse2g/Z+Njb2a7bjN6P4pjnSu1T84354/8MBp4LPxDYE3kWLRjvGMMYzRdBFkQU4REWD/QLpwhaBR8C8/7d+/P4PvbH89TxC/EW8hH1bfl1/uID1Ak3EHMWwBu7H3wiFCQlJCoiIh7MGA4TTQ1rB28B1fsP9wTzQO+Q6zjodeUm4/vg4t4J3a3bB9tZ27/cGN8y4iPmJOsW8Wf3jP1jA/8IHg47Eg0Vwha3Fw0YrReUFvMUABO7EAEO1gqSB5MExwGg/qn6GfaV8ZztfuoK6bfqjPDn+bcELA/pGHci1Sv9M7M5SjxvO7o2Ay4+ImwVTwkp/gHzKuc6243QJ8hYwkG/G7/FwU7Gdcun0FjWK90D5RLtqvTJ+7kChQnbD2IV7hlkHbYf9iAvITMgxR0SGr4VNxEnDO4FnP4g93fw8Opf5rDiBeBo3r/dBN55367ikug78gIAjxAMIegufznvQVtJf0/IUnBRcEr0PX8tpRsHC9P8G/Dp4kPUVcW7uLOw/60KsKG1Wr3lxYLOc9eV4VPt4fmaBSMPUBYwHCMitSgOL48zKzUjNHIxsC22KDoiPxrvEGcGCfvF76jlEt291ZPPNctvyW7Kts3H0n7Z1eGT62b2MwI+D90d7S1FPsNMJVdJXLBcsFkqVNpLvj8SL0waiQPx7QTcD85UwiO33ay/pdWjbqdnr2q6Z8cp1TzitO3U95gBeAumFLkb9R8EImkjSCW5JxQqtStALEorJyhsIo0aqhGNCAf/bvTD6Bbd1dLmyn3FmMJIwpbETsk40FHZjuRM8TT+FwohFfUgSC/lPwBQrltbYEZe9lc8UEJI6j7RMVgfYgho8JLbIsxIwV24l6/Up/+jo6bLr/y8KMuc2ETlifFS/R4IgREdGV0ewCCvIJ4f+x4FH9wexB0AHE8ayRh2FikSoAvGA9/7fPQ47WnlD90W1cjOFstRykfMe9Bf1q/dpOaM8fX9ZQpVFaQeAih2Mz9B6E6UWG1bX1fuTlRFPTy7MiYmdxRc/nLnNNQZxyG/NLk5szauaq07s9m+5cwq2qDlIfCu+kMFAw/PFr0bXh02HNwZMxgLGIYYGBhQFngUQBSmFW4W7hODDR8Fc/2G9ynyi+tA48HaRtQt0VTRmNPk1ujaQODq51Lygv5JCsYTMRsaIzkuljy+SvhTlFWBUCVIwj9NOAQw0iPVEW37DeV704LI+MEovIO1UbC0sNG4mMZA1R3hNOpA81j+iAqJFI4ZaBlcFlQTARIwElIS1RCKDS0KVwlMDFoRlRTHEjQMdwRW/2H9mftl9hLtm+I32wvZ3NqO3eneU99R4XvnX/LD/8ULihO9F7ccLCeGN25Ik1KkUrBLskMGPhk5qjC1IZ4MAfXL35bQcMf4wJO5NLEBrLmuLroZynHYMeJe6YTyCwB8Dy4b5h4/G/8UOxG/EXEUjhXMEjQNiwiXCA0OfBVyGX0W5g2iBDj/5v2L/HH2x+qz3fvUQ9NB1jnZU9nf1/vYEuAf7XD8CAkxEN0TqhloJmg5Akx4Vi9WYU+9SEBFDkKyOTkpkRLq+iPn/9jFzjHFf7pgsB2rOK42uY7HE9QG3RHlPfCf/7MP6hoBHnsaQBW8Es8TxxUUFXIQ+QmDBb4FMAqHD8kR/w59CNgBA/6//L76sPSV6iPgrtmL2F7auNtg20fbrd5i50D0wgEwDBQShRUBGyImUjZzRlxQmlEbTRZICEWcQTc5eClUFGL+c+uB3ArQCMT9t9Gt16hoq860ZME3zQnX++AX7uT+DhCIHE8hqR/tGwIalBo1G/4YQBMhDPYG2QVJCJoLxwxdClUFNADo/AT7DfjF8ZTon99F2kfZZtrO2u3ZAtr83e3mNfO7/8YJXRDVFHsarCThMyhEcU9sUk9PRUsCSTBGKD7CLjAa0wTj8f3h8dNrxmG5pa4PqYKqOrILvb7Hd9EF3Lvpk/o+CzMXExx4G3QZIhlrGtgaQxjgEgcNZAkVCRALBg0MDdEKgweHBCUCPf9P+vjyser241/gSN+B3pncgdrU2m/f4Ofz8Wj7+gKLCDoNaxOVHe4rNTuvRvFLskyATMVMQ0ttRPA2yiR3EU3/jO5d3ljOW79as3OswauRsKm4t8H7ypzVG+M08ykDaw8cFkMYohhXGWsaVRrDFwET8Q2zCiEKSwtZDAMMcQq3CHoHDwbxAiL9N/Um7fPmS+Mi4bjeZNt42FDYRNyO40Ds4/T1/CYEOAoGEPcXECQ4MyNBt0mOTKlMuEwfTMJHUD1yLRYbCglU+FToM9g2yBq6PbA+rPqtrLMbuyLDZcxy2MTnY/ipBtQPChTeFdYXUhrBG4AakRa7EUgOcg2dDt0Pgg9rDfkKfwmtCJwGgwGB+aXwZunY5Czisd943EvZKtic2mPg2OeO70f3Mv/EBjINLhNCG2cnMzYyQ5hKaUy0S91KEUlbQ8M3LieHFHcC5vE04prSdsOStkWu/qtPry+2aL4rx3LRsN7L7kP/iwyXFDwYKxpzHOUeth+JHdsYwBNaEGsP8w8OEGcOQQseCDMGAQWHAgn9y/QT7Grlt+Hd3wLeW9v+2ALZqtxP4xvry/Jw+mUCEAp0EBgWiB33KFE3Q0S+S1hN/0tnSiNIQkJ1NlUl1RHs/sjt4N1Rzku/fbJUqnSoe6wutB+9hsaM0aTfdPBQAdAOJBciGzwdVR9TIZchyh5hGYsTpA+CDvsO8A4KDbgJpAb7BBYE1QF6/FD0qOsZ5ZfhB+B+3iXcFdpj2jre2eR17O/zTfudAjIJpQ50FH0d/ipQOm1GJEykTJtLBEsYSUhC2zSRIgsPCP3i7E/dRs2HvbWwvam0qeCuErZSvWbFodAS4NXxFQK/DXYUTRi2G3gfPyIRIlYetxj/E/URExIuEmsQyAz3CK4G8QXaBCABHPp48QDqfuWC4w7ild+A3Ovaudza4YfoG+9r9Rn87gLACEgNphL1G+kpJDmFRHVJzElYSaBJPkhuQdcz0yE2D0b+s+4F36PO175JsnOr66rirpy037oDw0TP498Q8r4BlQw8Ex8YCR2wIS8k8iJfHt4YDxXEE48TQBLsDq4KgwdXBgwGPwRL/7X35O9D6m3n6OWq4yDg2Nww3B/fYeTf6ePud/SC+wMD9AgPDR8SqhsQKlI5I0ReSGdINUgLSS9Ir0E9NFsiAxB4/zbwk+D7z+q/GrPhq8qqUK4QtLS6+sKwzm3ePPCVANsM7xSqGssfXyTqJvUloSHWG/QWIRSREmwQjQyQB0YDAAExAMT+1fpj9FztHeiX5b3kpONX4cveE9524Eflruqf78b0VfsDA9kJaQ4YEngY1iNXMvA+lkWKRnlFVUU/RXZBGzfwJo8UWQMr9KjlV9Z9xma4A6/6q4GuErSEutbB2Mvx2RTr+vtxCY4SxxgfHjEjwyYWJ6gj8R1yGOMU/RL3EEoNLAheA4wAr//k/gT8ePbP73vqz+cH5zPmG+Rt4R/gsuHY5dzqXu+n8yD5WADkB6YNjxGFFuIfqy2mO7BEJEfURZxEN0SYQRw5LSq+F7MF8PWm5wLZesnZukywJawfrpuz6LmMwGPJWdb/5k74uwazEEMXphwPIpYmJiidJSUgeBqvFq4UpBL5DsgJrARNAfT/Jv+9/LH3KvGq6+noXejx5yjmiuMG4hnjjObM6ofu+vGQ9gj9GgSfCWYNgRKrHP8ruDvpRZ5IFkffRQxGSkRjPGUthBo+CNv4R+sC3RDNXr2QsVesha1psiC48L2hxW3RbeHX8tUBTQwKE4EYUh7bI+cm2SVSIecbGRheFgoVFBINDYMHgwO0AbUAOv79+O3xguu/56PmauZZ5Vbj4OGe4ujlkuoX7wvzYPcU/Z8DKgnUDK4QfBjMJV01M0G2RaREwUK0QmdCUz0UMaofnQ0t/ifxC+QJ1SnFzLc3sDSvwrLxt0i9xcOZzcXbnOyZ/MoIyBB6Fgsc4iFVJk8nTSQKHy4aPheKFRwTrw7iCJ0DUwC3/vT8Mvkp83/skOeQ5aHlxOXE5ErjHeNu5c/pwe4p80r3MvwvAg4IYAzbD8QV+yA+MAk+E0UCRVJCW0HDQQ0/SDXuJFkS4AGP9CjoC9oZyke7dbGMrkOxd7bju8/BbMpv1wroAfnNBhQQPRa5G6EhwybZKMAmoiEkHFcYMxbwE9YP7Qn3A9T/wv0n/P74qPNx7XDo0eUd5fTkYeR/4zLjZ+R85/3r+/Dl9QX72wD6BjEMhBBqFuIgoy8IPsVGqkgkR/pFI0UjQfA29SaSFDwDLfQ/5qXXC8iGuVuvmKuErXOyP7j/voHIDtal5jv3yQRdDlkVxxtIIoUnjCm+J4AjKh8qHAgaHBdEEg4MOwYVAkb/MvyO94vxoutR5xblT+Tx41LjpuLS4q3kK+hT7EzwW/Rg+Ub/lwR9COcMjhXkI3k0RkH7RoBHIUepR7ZGbkBZM6khVA8t/zzxeeMn1P7DN7Y7rvasSLABtaW5br/gyBzXV+i9+CoFZg3KE8waoiIsKf4rgiptJlQish/pHREb0xWwDooH5QGn/WP54PM77drmX+KK4MXgnuHw4d/hqOJb5cPpwe6j8674H/43AzkHbwtDEw4hojLkQatJJUoOSItHB0gDRaQ6WCl6FcgD7/Xh6VzcX8ynvMyxj66usTO3+7s2wL7GFNLJ4WzyBwD0CLAOJRTzGh4iFycBKDQl5CBhHWob1BmxFhkR8AkGA4P9Gfmg9FLvfelX5DbhqODj4Unjy+Po4x/lV+gq7a7yW/jS/VYCtgXrCbMSDyL4NIREYEtSShZHjEb/RwRGxTuBKVYU9AFT9O/o5tv0y/m72LCbrSSxU7eOvJLANsaI0Mvf5vCM/1IJJQ8MFGMa5CEDKCIqyicJI8sehhwhGxwY7xGCCVkBTPsN98zyI+185sPg4t023kHg7+Fr4r3in+TP6K7uNvWe+yUBMwW0COEOGhv9LBY/pUpRTedKPklMSk9KkkPeM5Iewwlf+aTs4t+O0P6/lbJVrM2t2LMyuta+XMNEy43Yj+n6+QoGKg3VESgXQh57JdIpcylSJX4ggR0xHAEamBQsDDsDM/xh9yHzru3i5mzghtww3Fre1uBA4hDj1eSt6KLuAvab/akD2AZxCA4NZhkbLTpBQE1gTsdJOUdbST9LQ0VNNJcc+wWJ9SbqwN6kzyu+06/Kqd6sCbXXvLPBpsUjzdba9+xt/qYK3xA2FKgYuR9XJ74rsSpkJYcfHxz1GvkYSxMMCi4AuPgj9GDwFuv14xDdLNly2ZHc+t8S4injoOSu5xHtBfVZ/vAFFQmHCSIOHx29NOFKg1W8U+BNpEyLUPZR2kgrNHYaHgTE9GjpWNwSy+K4I6zVqHitwrQ5urG91MJ6zfHdTPBK/1MIJQ3UEQkZySF2KAAqjSZaIfQdIh1RHCkY6A8vBoD+//m19tLxhurP4qTdcdwh3mTgsuEi4qniNuS45x3uD/er/zgEtgQ8B34TdCopQ6JRuFGzSotH0UtuUANL/ze3HVsGPPdo7QXifNHVvsmw4asVr221kLoRvg3D4sz42x/t5/vXBewLRhFLGJMgRSeKKSEnuCKSH4YeTR36GP4Qsgf0/5T6GPas8APqhOP+3jjdlN3s3pjgh+Kn5O7mO+pR8J/5IwNiCOcIGgsyFwcu+0XIUvhQ4kjMRWtKfU50R/Iy0RiHA/T2U+5S4qPQ+L16sbeuYLP2uWa+3MACxZzODt6f7yD+0QY7C3APYRZfH8ImCyn0JbYgKx1ZHLob5hfrD/IFAv149pHxwOw+54vh8NyO2r/aGt3H4KvksOfH6dPsj/NE/uEIIA7NDRsPoRoHMYhI/FTuUktK8kW/SBxLE0M9LuMT3v0D8FXmg9qHyjS6aq89rSey0rl/wIfFWMsa1bjjqPSBAxcNtRGyFKYZUiHGKMsrrijuIf0bNBnqF2gUiAx7AY72hO7Y6ermjOPT3tvZFtd22MLdTeS66Orpmupq7xf6jAYbDtcORA/uGFAuvkaFVW9V90wCR/pHJEoPROYxqhgnAXLw6uSV2Y3Lh7zmsBOsOa6wtBi8mcLryIDROt5S7kb+NQreEKAUWBnKINQoQi2rK6YlOB8zG/kYfxVEDnUDvfdI7o/okOX64jPfptpn16LX7Nt14vXna+qG65fv9fiBBD4MQg4uEB0axS1oQ1pQbVDiSJ1C2kEgQ0I/7zH/HHEGrvNP5mDc6dJnyMm907VOs/u2v74ixyDOw9TB3VfqjvioBGgM5RAvFScbvSERJismkCJ7HeYYIBXoEKgK7QHx9+jukug45anjJOKc393cZtxO4LTn7u448/b1BPuaAz8MEhFuE4gZwiczO3xL+VHuTmRIY0TVQxVCMDk/Jx0QH/oT6XDclNH1xhi9f7WKsROyD7c5v5rI+dG32+PmfvPl/xQKZxH2FkocuiESJrknLCZaIrsdGhkuFCMOjwbo/Uz17u2C6P3kneJZ4Mrd7duo3ODgIOe87LTw0/RC+1oDCQrSDZ4RYhrQKcI7M0nFTbdKHUVRQXM/pjugMYEgmAus95vnX9uP0RzJ08EhvPi4k7l5vpHGsc9b2NHgLuqW9LP+9wYnDVMSeRdbHLMfayCfHnEb+RdbFN4PzwlgAqn65fO27urquude5NfgW96d3h3iPeem69fuy/Jl+ZcBLgjjC/UPghnrKUs8EUlETGlIiEOBQeRAwTxIMQofVQq49xTpft1C07fJbMFqu6S4ubmNvvHFMM5Z1uLesuid8xb+kwYBDZkSbRgrHlUikCPBIQ4e0xmFFYoQIwpyAob6hfP97dbpruYb5OXhWOA64CDiueUh6v/u4/Qo/LQDpwm4DY0S0htnKng63EXvSHVFvECoPkU+3zp5MGEf0QtX+qfsfeH+1svM/MPNvdW6ULtWv1zG1c4R17fe8+bM8Ir7HQUjDCQRthWmGjgfESKIIvYg/h3QGS8UHA0+BZb9vPaa8N/qouVo4azenN0v3jvgP+Oe5nzqBvAZ+GsB6AjhDMoPthZFJC41WULMRqBDbj4OPKQ8Gzz7NRcpOxiyByT6Yu/E5Tnc/NLXymXEPMBOv0fCaciDz43VgNpF4KfoTfPg/Q0GaAtQD1UT1Bf4G6seRh+lHfkZyhT0DksJGwQR/7f5FfTJ7ovqtecv5rLl/uXj5mbo9+pH72j1GPxfAZAElge8DWMY9ySNLvcxWjDLLW0t2y4ILzsrLyPPGHQObwXT/Qf3WPBN6enh5tqG1dzS8NKf1HfW4Nd12VfcJOF750/umPTa+U/+ngJVB2YMNREBFVMXBhgqFwwVRBJuD6QMZwk0BUkArPtc+Ib2ePVg9ADzzPFy8Vnyb/RO92P6EP3y/l4AggKXBqMM/RJpF+kYghgzGDMZDxtTHMQbGxnxFD0Q6AtzCLUF3QLr/m/5GPNj7aHpAOh356bm9OQA4xfiKOMo5kjqme6D8sr1jfhI+6f+5AJPB50KAgzpC5cLAQwMDbQN6gxmCucGrwOZAZEA2P/F/jz9dfuy+Tn4bveP91b4H/mH+dH5mfop/D7+YQBoAnsEzwZKCYQLIA0cDsYOVA+eD1gPfQ5bDTAM4gooCfYGkQRLAj4AT/5c/GP6g/jn9rD15/R79FD0VPSG9AD14/U699D4Pfo1+9H7gPyX/f7+PQD1ADQBXAG6ATACWgL8AUYBnAAwANH/Qf+M/gf+5f0D/hT+/P3n/RT+kv5E/wcAzgCYAV8CEQOhAxgEmgREBfsFcgZqBvQFZQUDBcoEfQT2Az4DfALKASsBlwAMAJ3/af99/7b/1//R/97/QgD5AKwBAwLvAawBfwGHAaYBjwH+APT/wf6//Qv9f/zt+0X7ifrB+RH5rvix+PX4Pvly+aL54flG+vP6CPxn/a/+kP8VAJUATQE6AjEDBgSWBMgEqgRsBD0EIAT6A7UDVAPbAkwCtAEwAdUAmwBsADoABgDi/+D/CwBYAKcA6QAyAZ8BMAK+AicDbQOoA9sD8APRA4MDGwOnAiECfgGzAMj/z/7i/Q/9Vfyu+x37qvpU+hD65/n1+VD64vp8+wH8f/wT/b39bv4Z/7z/RQCYAKsAnACYAKoAvgC7AJoAYQAbAN7/wf/L/+P/8v/6/xAAPgB3ALgAFAGUASEClwLpAi0DeAPNAyQEewTHBO0E0QR6BAsEmAMUA2cCmAHCAPP/IP9D/nD9vfww/L77Z/s0+yn7O/tg+5v79ftu/Pz8mf1F/vX+l/8aAIUA5gBCAYsBrAGdAXEBOgH+ALkAbwAqAOj/kP8W/5f+Q/4s/iz+Fv7u/eD9Ev58/gP/k/8nALwASAHQAWAC+QKMAwUEXgSVBKUEjgRVBAcEpQMkA4ICzAETAV4Ar/8K/33+Ev7G/ZP9dP1l/WT9dP2b/dj9Iv5t/rj+CP9Y/5//2f8KAD8AcwCZAKcAnACCAGUATAAxAA0A2/+i/2v/NP/5/rz+i/5t/ln+Qf4r/i7+Vv6a/uj+Of+O/+b/QgCnABMBfAHXASUCbQKkArQClgJbAhkC0QFzAQIBkwA1AOH/if86/wP/5f7O/rT+pP6p/rz+1P7t/g//Nv9Z/33/r//1/z4AeQCiAMkA8wAWASUBIwEaARAB+wDVAJ8AZQAtAPL/rP9g/xv/4/61/ov+Zv5T/lz+gP6y/uj+I/9o/7j/DgBnAL4ADwFYAZkBzgHoAd0BuQGgAaQBqAF9ARcBqABjAEIAFQDD/2f/Mf8m/yP/DP/v/uf++P4Q/x//LP9E/2b/hf+f/7//8P8pAF8AkADAAOsA/ADrAM4AvwC5AJ0AWgAKANP/t/+Y/2H/HP/m/sr+wf6//sH+yP7b/gP/P/+D/8H/9/8sAGcAogDYAAUBJQE3AUMBUQFXAUABDgHlAOIA6QDHAG8AEQDa/7n/f/8j/9L+sf6t/qD+hP5z/oP+rf7g/hf/V/+d/+D/GQBHAGsAjwDAAP4AOQFWAUsBIQHtAMAAnwB8AEUA+v+x/4r/h/+G/2X/Lv8N/x3/Rf9Y/0r/PP9P/3v/oP+1/9H/CgBWAJgAvgDRAN0A5gDxAAABCwH+ANQApACFAG4APADm/4z/Vv9F/zH/Av/J/q3+u/7f/v7+Fv82/27/uP8CADsAXABuAIYAsQDmAA4BFwEFAeoA1wDIAKwAeAA3AAAA5v/c/8f/mv9m/03/Xv+F/6L/rv+0/8D/zP/X/+v/EgBBAF8AXQBMAEIARABQAGUAgwCfAKkAngCIAHAATQAfAPT/2v/O/7j/i/9X/zT/KP8n/yX/J/85/1v/gf+d/7b/2f8GAC8AQQA9ADsASgBhAGoAWwBAACwAJQAmACMAFwADAPL/6//u/+z/2/+//6z/tf/U//P/AAAAAAYAGQAqACcAHAAmAFAAgwCgAKQApgC1AMUAwACoAIwAcQBSACYA+P/P/67/iv9g/z7/N/9K/17/WP8//zj/YP+o/+H/9f/2/wMAHwAtABkA+f/x/w8APgBVAEEAEQDo/9//8f8EAAQA+v/8/xIAKwAuABgAAwAHACAAOgBCADgAKwAgABUACQAAAAMAEAAeACcALQA3AEYAUABRAEsAQwA6ACoAEgD7/+j/2f/H/6//m/+Y/6n/wv/Q/87/yP/K/9f/5v/x//z/BwAMAAQA+f/5/wkAGgAYAAIA6v/h/+X/6//t//D/9f/4//f/+P///wUA///p/9P/z//d//H/AQATACgAOQA7AC8AIgAgACkANQA/AEMAQwBAADwANgAsABoABwD9//n/7//Z/7z/pf+X/5L/mv+y/9X/8f/5//b/9f/+/xAAKQBAAEcAOgApACQAKgArAB4ACwD///T/4v/M/8H/yP/a/+T/2//B/6X/nv+1/93/AAAQABgAIwAzADwANwAsACMAIwAtAEAAWgBwAHQAYAA4AAwA7f/f/+D/5P/l/+f/8v8HABsAGAD6/87/rv+l/6n/q/+m/6X/sf/G/93/8f8BAAwADQAOABYAIwAqACkAKwAzAC8AFADz/+b/9P8CAAIAAgASACEADADS/5v/if+V/6P/sv/W/w0ANwA8AC4ALwBGAF4AYgBcAFoAYwBvAHYAbABOACIAAAAAABwAPwBMADoAFADt/9X/yv++/6f/i/9//4f/lf+Y/5b/mv+o/7r/0v/w/wsAEAD9/+j/7f8FAB8ALgA3ADoALwAZAAoADQAXABYAEgAdAC4AIwD1/8X/vP/Y//L/8v/j/+D/7P/5/wAABwAVACcAOQBJAFMAVgBUAFQAWQBdAFsAVwBaAGAAUwAlAOj/vv/B/+X/AwADAOv/y/+1/6v/qv+s/6b/lv+G/4X/kv+g/6P/n/+m/8D/6f8UADQAPwA4ACsAKQA1AEUATQBGADUAIwAYABYAFgAQAAUAAgAHAAIA5//C/7L/wf/Z/+L/3v/m/wIAKABBAEcAQQA5ADwAUQBwAIEAeABfAE4ASgBEACwABwDu/+//AAAMAP//2v+1/6H/of+k/5r/hP9u/2X/aP9x/3z/iP+a/7r/6v8dAD8ARgA+ADwARQBNAEoAOgAkABQAEQAaACAAFAD7/+n/6P/p/93/zP/D/8L/wP/B/9P/9/8iAFAAfACbAJ4AhgBxAHcAjwCdAJsAlQCIAGYAKgDu/8n/uf+y/7L/u/+//7D/lf+E/4D/d/9h/1D/Vv9u/4X/mv+1/9b/9f8TADcAWABfAEsAMwAuADUANQAzAEMAYQBsAFMALgAcABYA/v/O/6T/mf+e/5n/j/+T/6n/vv/N/+v/IQBaAHsAggB/AHwAdgByAHUAdABeAD0AKwAtACIA+P/J/8D/3f/x/+L/xv+2/67/nv+M/43/nf+l/6P/rP/K/+H/2P/C/8f/9v8sAEQAOAAeAA0ADQAcADYAUABhAGIAVQBDAC8AHAAMAAMAAgADAPv/5//R/8X/xP/I/87/3//8/xcAIwAjACgAOwBNAEcAKAALAAsAJwBGAEwANwAXAP7/8//2/wAAAADv/8//rv+V/4P/eP99/5j/w//u/wsAFAAGAOr/0//Y//b/DgASABAAHgA2AEYATABUAFgASAAhAAMAAAAEAO3/vf+Z/5T/oP+q/7T/xv/U/9H/x//P/+7/DgAiADAARQBcAGQAYABfAGkAcgBwAGkAYwBYADwAFQD5/+7/5v/U/8P/wf/L/8f/q/+I/3v/jv+v/8f/zf/M/9T/6/8IACIANABGAF4AdgCCAHwAbgBhAFgATQA9ACUABwDq/9b/y//A/6v/lP+P/6j/zP/h/9f/u/+n/6z/xf/l/wEAGwAwAD4ASABPAF0AcQCGAIwAdwBPACcAEgAKAPn/z/+Z/3P/bf+A/5b/oP+d/5r/o/+6/9b/7v8BABoANQBDAD4AMgAyADsAPAAvACcAOQBdAHMAZAA+ACIAGgATAPn/0//C/8//5P/i/8z/vP/C/8//0f/L/9L/5v/4/wAAEAA3AGIAcABfAEsASgBOADsADwDv//P/DwAaAAAAz/+k/5H/k/+k/7//2f/m/+T/2f/T/9f/4//2/wkAFAAQAAIAAAAXADwAVgBWAEMANQA1ADcAKwALAOf/1f/j/wYAIAAYAPX/1f/Q/9n/1v/A/63/tP/R//D////9//X/9/8FABsAJgAjACIANABTAGAATAApABcAGQAcABgAFQAbACEAHAAKAPP/3P/L/8//6/8KABAA+f/g/+T//v8SABAAAgD6//v/AQAQACMAMQAqABMAAAAHAB0AKAAVAPX/4f/i/+j/4P/O/8X/zv/Y/9P/w/+6/8D/0P/g/+z/9//+////AQAOACMAMwAzACMADAD9//r/AwAPABQAEwAbACsAMwAiAP//5v/u/wUADQD4/9P/wP/N/+v/AAD8/+f/2f/m/wgAKgA4ADEAHwAQAA0AFgAiACUAHQAQAAYA+v/j/8X/sP+v/7//0v/Y/8z/t/+q/7T/z//p//X//f8LABwAJQAnACsAMQAyADMAQABVAFcAMwAAAOP/7/8IAAwA8P/K/7r/zv/4/xsAHwAGAOr/4P/r//r/AAABAAMACAARABsAIwAiAB4AHAAdABoAEAAMAB8ARABiAGIARAAYAPL/2//V/9L/wP+Z/3T/cf+Y/8v/5P/d/9L/2//0/wYACwAOABgAIwAhABYAEwAgADAAMwAnABgADAABAP3/BQAeADMANgAnABoAFwAXAA8A/v/p/9r/2//z/xMAIQALAOn/4P8CADUAUABGACkAEgAMAA8AEQAFAOb/uv+d/6r/2/8KABIA8//O/8X/0//h/+D/2f/X/9f/0P/H/8j/3P/8/xkAJwAlAB8AJgA+AFUAVQA9AB0ABADz/+f/5P/s//P/8P/u//n/DgAZABAAAwAGABsAMgA4ACgACQDs/+P/8/8QACsANQAuABYA8f/O/8H/0//w////9f/b/77/qP+f/6T/u//i/woAJgApABgACAAMACQAOQA1ABcA8//e/+b/AgAjADEAJQAKAPf/8//2//T/6//j/+H/4v/g/93/4//1/w8ALQBEAEUALgAOAPv/AAAPACAAMABFAF4AcgByAFkALQACAPL/+/8CAPT/2//X//H/EgAkAB4A+P+v/17/OP9W/5j/zv/q//T/7P/Z/9z/EgBcAHkAXgA+ADoAOgAvADAAOgARAK3/fP/N/xsApv/j/rz/gAPOCBAMZArpA3v7vfRd8gT1yvq0/wQARvso9dfy1fbr/uEFcQdCA/j8ivn2+5QD1QxrE3oU5A9yCGwCywD1Aj4FKgQ//9744PPJ8aTyYfUF+HX4MvZI897ymfZd/U8EsQg3CbMG0gN3A4MGDwsgDgQOIgsZB6kDHgKzAgUEzwPRAB78Nfje9vX3+vll+4b7vPoT+o76bPwX/7UBrwO6BMUELATEA1IEvgUBB/IGNAVkApv/w/0z/YX92v1i/fr7RvpI+aL5Jvv//ET+kv4+/gH+gP7j/78BTwPwA5cD0gJDAgwC2QFjAcUANwCr/9v+wP27/D/8c/wi/fX9m/7o/vf+H/+l/2MA8wAXAf8A+QAZATwBQQEoAfkAwACaAJsAogBtAOL/Ov/F/pb+i/6I/pb+w/4I/1n/tv8gAIoA3wAaAT4BVQFhAWkBbAFhAUEBDwHTAJIAVAAhAPv/0P+a/2r/Vf9O/0D/PP93//v/eQCMACAAlf9s//D//wAhAroCdwKZAdoA1gCJAVICewKyAT0AwP7k/fD9lf4m/x//jv74/dv9Wv45/xUAmgCUAAwAWf/w/iP/3P+qABIB3wBBALH/l/8JAKgA2wBGAB//Cv6h/fz9r/41/0//H//o/t7+FP+F/xkAogDtAOgAvACqANgANAGLAbgBvQGoAXMBDQF4ANz/av85/zL/Kv8I/9b+tP7B/gL/Y/+///z/EwAcAC4AWQCcAOMAEwEWAfEAwQChAIsAVADd/zj/pf5h/nn+xv4R/zn/Q/9K/2//wP8zAKsA/wASAe8AxQDFAPMAHwEOAbUAPwDl/8X/2v8HACkAIQDs/6L/cP9z/6L/4v8aAEUAagCbAOIAOQGFAZsBagEHAaAAVgApAAkA5/+x/2D/Cv/h/g3/dv/I/8f/g/9C/zD/Sf9u/4v/k/96/0v/Mv9k/+P/egDkAPIApwAtAM//yf8ZAHcAigBDAOb/xP/2/1UArQDbANMAlAAwAMz/lP+Y/8P/8P8LABcAGwAgACgANABAAEAAKgADANz/v/+y/7H/uv/M/+H/7P/Z/6H/Wf8y/1n/zP9bAMUA3gClAEEA7f/W/wIAQgBRAA4AmP8r/wD/Kf+G/9j/6P+2/4L/j//f/zAAPAD9/6L/av9u/6b/8/8yAFYAZwB+AKYA0gDtAOkAyACTAFcAIgD9/+X/0P+1/5f/ff9x/33/ov/S//n/DQAiAEcAeACTAIAATwAuADwAaQCBAGIAGwDd/8n/0P/E/47/Sv8m/y3/Q/9M/1f/gP/B//L/+f/0/xEAYgC/APIA4ACUACwA0P+d/5z/tf/F/8L/tP+l/5D/eP9+/8L/MQCKAJEATgADAOv/CgBHAIIApACTAEIA0v+N/6b/BQBcAGcAJADI/4v/j//I/wYAGQD3/8b/tv/U/wYALwBAADIABgDZ/9X/DgBcAH0AWgAaAPD/4//n//X/BgAJAOf/qv96/23/bP9V/zH/K/9X/5j/yf/n/wgANwBmAIoArADcABMBOQE6ARMB0QCKAFMANQAlAAoA3v+v/5P/if+F/4j/qP/m/xkAEADI/3X/Wv+A/7P/vf+c/3v/f/+l/9j/DgBKAIAAkQBwADUABgD1//P/8v/x//X/9v/v/+3/AQArAEwATwA5ABwAAADm/9T/0//h/+v/5v/f/+n/BAAkAD8AWQBuAHYAZgBGACMABQD1//v/EwAlAAoAwf9z/1f/ef+2/+L/7f/i/9L/zP/d/w8AVwCSAJkAaQAlAPv/+/8SACIAHQAKAPb/5v/j//b/GwA+AEYALAAEAOb/2P/U/9L/zv/K/8L/tv+s/67/wP/Y/+7/AAAQABsAFgACAO//7/8JADEAUQBiAGIAVQA8ACUAJAA9AFkAVAAeAM//jv93/4f/q//P/+n/+P8BABAAKwBOAGMAWQAvAP7/2//P/8//z//S/97/7//3//H/6P/m/+r/7P/t/+7/6v/g/+L/AgA1AFUATAAyACYAIgANAOf/yf/B/7j/n/+P/6v/5/8YADAASQBxAIwAfABTAEAARwA9AAYAwf+a/57/r/+8/8z/5P/3//j/9/8CABIACgDl/7//tv/E/9X/5v8IADkAVwBGABgAAAAUADwATAA3ABIA9v/n/+H/5//+/x4ANAAuAA8A7//m//n/EgAXAAIA5f/U/9L/1v/h//z/IgA+ADwAJQAPAAQA/f/v/+T/4//k/9z/0//b//L////0/+P/4f/s//L/6//n//L////9/+7/4v/i/+j/7f/1/wAACwAYACgAPQBHADoAGwADAAAADwAeACYAKAAjABQAAAD0//z/DgAZAA0A9v/g/9n/4v/z/wEAAgDy/9b/wP+9/9D/8/8YADAAMQAiABoAKQBGAF8AYwBOACQA+v/m//X/EAARAPD/yf+7/7//u/+q/6H/rP+9/8b/yf/T/+f/BAArAFQAZwBRACgAFwArAD8AMAADAN3/1P/d/+f/7f/x//L/7v/r/+7/9P/4//j/9v/0//H/7f/u//T//f8GABAAGAAdACEAJQAjABcACwATADAATABPAD4ALgAqACgAGwAEAO//3//U/8v/xf/C/8X/1v/0/xAAGgAOAPr/5f/R/8P/yP/i//z/AQD9/wsAOQBhAF8ANgAPAAgAFQAeAB4AFwAFAOb/zf/W//r/EAABAOj/7f8OAB8ABADT/7P/sv/A/9L/4//u//H/9f8EABoAHQAGAOv/4P/n//P/BAAgADoAQQA2ACcAGAD//9v/xf/N/+L/4//N/73/yf/l//z/CwAcACsALAAhABgAGwAeABkADwALAAsACQAGAAUABgACAPz/AwAbAC4AKQAVAA4AGQAbAP7/0v+5/7v/v/+5/7f/y//s/wAABAAPACUAMwAsABsAFQAVAAwA//8CAB8AOQA5ACwALgBBAFAATgBGAD8AKgACANz/z//U/8z/r/+Y/5//uf/R/9//6//w/+P/zf/H/9v/9v8AAAAABwAWACAAIAAhACUAIgAXABQAJgA9ADwAIQAHAAAAAgD1/9f/vv+6/8j/2f/l/+7/9//+/wEAAgAAAAEACQAZACoAMQApABgACwAIAAkABQAAAAwALgBUAGEATAAmAAUA7f/U/8D/vP/G/9D/0v/W/+P/9P/8//n/9f/4//z/+v/w/+H/zP+7/7z/1f/5/xIAGgAYABcAGQAUAAcA+f/z//j/AAADAAQACQASABAA///o/+L/9/8ZADUAPAArAAkA5//a/+v/CQAfACkALgA0ADEAIgAMAPv/7v/n/+v//P8NABAAAgDy/+//+f8BAAAA9//y//r/BgAHAPb/4f/i//b/BwAHAAAAAwATACAAIQAZAA4AAAD0/+v/6f/s//H/+/8FAAoADAAXACYAHwD0/73/p/+//+P/7v/k/+H/8f8FAAsACAAKABEAEQAGAAAACwAfACYAHgAaACgAOQA1AB8ACgACAAEAAAAAAAgACwABAPn/AwAbACMAEAD1/+f/5f/h/93/6P///wwABgD7//r/AAABAPj/7//x//f/+//9/wAACAANAAYA+P/y/wYAMwBXAE8AHADr/93/6f/s/9n/x//M/+H/7v/x//n/CAAPAAYA+//7//7/9f/m/+P/6f/j/87/yP/i/wAA/f/j/+L/CQAzADQAGAAHAAYA+P/T/7r/y//s//f/8P/9/yYASABAACAADgATABgAEAAIAAkABwD8//X/AAAMAAgA/v8EAB4AMAAnABYAFAAbABYABgAAAAQA/f/i/8z/2P/8/xUAGgAeAC8APAAwABIA+v/z//L/6f/i/+b/7f/k/8v/vP/M/+z/+f/o/9T/1//r//X/8//3/wgAFgAPAP7/+f8CAAYAAAD//wwAHAAaAAoAAgAHAA0ACQAFAAUABQD///7/CwAcAB0ADQABAAcAEQAKAPb/6//2/wcACgD7/+v/6f/w//H/5v/c/+L/9v8HAAoABAACAAkADwARABUAHAAZAAMA5//d//D/DAAaABUADAAJAAMA9P/m/+f/9v/+//D/2P/M/9j/7v/8/wAABwARABIABQD5/wAAFQAlAB8AEQAMABAADgAEAAAABQALAAQA+f///xsAPQBPAEoANQAYAPv/5f/f/+X/6v/o/+j/8v/+/wAA+P/0//r//f/z/+T/5P/w//T/5f/S/9D/4v/0////BAAJAAsADAAQABYADgDy/9L/zP/j/wAADQAMAAoADAAMAAcAAAD//wQAEwAjACkAIwAXAA4ACgAGAAUACQAKAPz/4v/W/+L/9/8AAAQAEwAoACsAFgAAAP//EgAmAC0ALQAvADAAKgAhABYACAD5/+v/5v/n/+f/5v/o/+7/9P/0//H/8P/z/+//3P/B/6//sv/I/97/5v/k/+P/5v/m/9//1//W/+D/8f8BAAwADgAFAPf/7v/2/xAAMABBADkAJQAXABcAGAANAPr/8P/7/xIAKwA+AEoASQA4AB8ADwAQABUAEQABAOz/2P/O/9b/8f8OABkADwAFAA8AJgA1ADIAJwAhAB4AFwAOAAcAAAD2/+z/6f/t//H/8P/u/+//8f/w//D/8v/v/93/wf+u/7D/wv/W/+b/8v/7/wEABgALAA4ACQD7/+j/2//a/+b/8v/2//L/8//9/wAA9f/o//L/EAAjABUA+f/u//b/+P/0/wEALABXAGAASQAvACMAHAANAPz/7v/o/+v/+v8NABsAIwAtADkAOAAgAAAA9P/7//z/5//G/6//rf+8/9T/7P/+/wkAGQArADMALQAkACAAHAALAPr//f8QABUAAADm/+P/8v/6//r/AQAQABQABgD5//3/BQADAPj/8//3//n/9v/z//T/9P/w//T//P/7/+j/1f/V/+b/8P/v//H/+v/7/+r/3P/t/xMAKwAiABEAFAAoADEAJgAXABAACQAAAAEAGwA4ADYAEwD0//D//f8CAAIAEQAsADsAMQAfABcAFQAFAOj/0v/P/9b/2f/a/+L/8P/+/woAHwA2AD4AJwD+/9v/0P/U/9X/yf+6/7f/x//e//L//v8CAAUABwAKAA8AEgANAAEA/P8BAAgAAQDs/9j/2f/s/wMAEQAVABUAEgAMAAQAAAADAAoADgAMAAsAEgAgACkAIwAVABEAHgAxADIAHQAEAPn/+f/2/+7/7/8DABoAHwARAAIA+v/s/9P/vP+0/7r/x//e//3/EAAHAO3/4//4/w8AEAABAP7/BgACAOf/yv/H/97/9v8AAAQACQAQABMADwADAPL/4v/f/+r/+P///wAABgAQABYAEwARAB8APQBSAEUAGwDx/+D/5v/t/+7/8v/+/woADQAIAAUABQACAP3/+f/3//b/9v/8/wAA+//0//v/EwApACsAHAAOAAUA/P/2//3/DQAUAAkA/v8BAAgA///m/9X/1//f/+j/+P8RACIAGAAAAPD/8v/y/+v/6P/x//3/+//w/+//+f8EAAwAFQAiACkAJAAbABUAEQAIAP//+v/6//r//P8JAB4AKAAdAAsAAQAAAPz/8//t/+z/5//Y/8b/vP+9/8f/2P/x/wgAFQAWABIACwAAAO//5//t//n////+//3//f/5//X/+/8IABAAAwDu/+X/7v/4//b/8v8AAB0ANAA3ADQAQABbAG8AbQBdAFEATwBOAEcAPwA5ADMAKgAdABMADwAMAAUA///4//H/5//e/9v/2//S/77/qf+f/57/m/+U/5L/mf+e/5z/mf+j/7v/0//e/9//4f/o//D/9//8/wIACQASABoAGgARAAcACQAVAB4AHAAXAB0ALgBAAEcARQBAAEIATwBiAHUAgQCEAHwAaABKAC4AGwAQAAYA/f/9/wUADgAOAAYA/P/t/9j/wv+1/6//qP+g/5r/k/9//2D/TP9S/2f/ev+G/5T/ov+r/7T/w//S/9P/yf/Q//X/HgAtACgALABCAFYAVwBTAGUAiQCoALIAsQC2AMQA1gDrAAQBHQEqASYBFQEFAfoA7wDaAL4AqgCoAKwAngB7AFIAKgD6/7n/d/9G/yb/CP/n/sr+s/6U/mn+Pv4m/h3+F/4S/hn+K/45/j7+S/5y/qn+2P77/iX/Y/+m/9r/AAAxAHkAygAKATQBXgGhAf8BZgLBAg0DTgODA6sDxQPXA+QD5APVA8ADsgOjA3wDMwPTAm0C/gF1Ac8AGgBr/8n+NP6j/Q79cvzT+z/7ufo9+s/5fflQ+TX5Evnn+ND45vgf+WP5rPkI+nn67PpS+7f7NvzV/IX9PP4K/wUAMAFyArYD+gRABnoHjghvCSMKsQoTC0ALPQsTC7gKHQpLCWEIdweEBnEFPQT/As0BqQCQ/4P+if2k/NT7GPtz+uj5ffkv+fX4wPiI+Fb4OPg4+FL4gvjI+CH5jfkL+pf6IPuY+wL8cPzt/HD98f1y/v7+kv8jAK4AOAHIAVkC5QJrA+8DagTUBCsFdwW3BeMF9wX6BfEF1gWcBTYFnwTfAxIDZQL2AcEBrgG5AfMBWALDAhUDWAOnA/sDKAQSBM0DewMTA3QCkwGWAKP/w/7x/TT9kvwH/IH7A/ui+mz6UvpB+j76V/qH+rL6vPql+oD6YfpS+lb6cfqo+gL7fvsT/Lr8c/1D/h//5v+AAPMAVQGuAfMBJQJUApACzALuAukCygKeAloC6wFMAZsABwCz/6b/4P9qAE8BfQLCA/UEEgYjBxcIyQgqCVYJWwkiCYwIrQe6Bs8F1AS3A4wCewGNAK//0P7y/R39UfyZ+wP7ivoL+mv5s/gK+In3MPf59ur2Dfdg99j3ZPj0+Hr59/l3+gL7j/sT/Jn8Nf3g/Xj+5P4z/4n/7/9OAI4AvgAEAX4BIQLKAmID8QOLBC8FwAUdBj8GOAYNBqcF6gTWA5ACVgFpAPL/7f89AMUAfAFcAkgDIATgBJQFNwalBs0GxAafBlAGsQXJBMcD0QLhAeIA2f/Y/vL9MP2d/DL80/tg+9r6X/r7+az5bflK+UL5RflD+UX5Vvlu+X/5jPmp+eL5Mvqc+ib7wftL/Lj8J/2+/XL+FP+Q/wMAnwBoATMC2QJcA+EDfwQfBZAFtgWdBWkFIAWiBMMDfgIPAdH/Df/Y/h7/uv+SAJsBxAL9Az4FhAbAB9IInwkmCm0KZQrxCQsJ3AeXBk8F9QOEAhYBzP+x/r/97fwx/IX74fpL+s35afke+er4yvi3+KH4gfhi+Fb4Yvh++KL41Pgk+Zj5K/rG+lP7zvtM/OD8fP0B/mP+vf4y/8j/WwDNACEBegH1AYgCEQN0A7ED3AP9A/kDqQP2Av4BBwFVAAUAEwBtAAoB4gHiAv0DLwV6BscH9AjsCbgKXwvCC7ELJAtDCjsJEQiyBioFnQMqAtMAkP9m/lz9Zfx3+5j61/k3+az4M/jW95z3dfdR9zT3K/c691n3g/fB9xj4hvgB+YT5Bfp/+vb6dvsE/JL8Ef19/en9av7//pn/IwCcABMBnAE3AswCQgOVA9kDFgQzBAYEfwO/Av4BZwEPAfoAKgGcAUUCGAMPBCYFUwZ/B5UIjAlnCh4LlAulC0YLjAqVCXQIKQe3BTEErAI0AdH/iv5q/XD8j/u++v/5WPnK+E345vea92v3TPc09yT3JPc291X3gfe89w34c/jp+Gr57Plq+uf6c/sV/MT8a/0A/ov+H//E/24ACgGLAfwBcgL1AncD4AMnBFkEfQSIBFkE2gMXAzYCawHcAJ0AswAXAbsBigJ5A4cEsAXhBvwH8wjLCYsKHAtaCy8LqArfCeAIqgdBBroEKwOfASMAxv6T/Yj8m/vI+hD6dfny+If4NvgB+OT31vfQ9833zffR9+X3DPhF+Ir43vhE+bn5MPqe+gn7gfsO/Kz8TP3h/Wr+8v6G/ygAyQBWAdABTgLcAm8D6gM/BHcEnwSxBJMELgSEA7IC4gE7AdYAvwD2AHEBGwLmAs4D0wTqBfgG6Ae6CHUJCwpfClsK/QlSCWUIRQf/BaMEOwPVAYYAVv84/gz9uvtG+tX4ivdx9oL1u/Qs9Ofz3/P/81L0/vQM9jf3KPjT+Ij5i/q5+6b8Dv0R/Qr9R/3W/Yv+L/+5/1wAWAGhAtUDkgTSBOsEKQWMBc4FuQVWBdcEUQSlA6kCaQEjAAf/Df4o/W/8FPwi/Hv8Bv3Q/ez+UQAFAicE0gblCRsNVBCTE6QW/BgWGuEZsBjDFg8UfRAuDGkHWwII/WP3cvFY623lSOCK3G7anNl82dvZJtsH3rXinOi+7mH0h/nE/pUE3QrlEOgVoRlaHH8eFCClILAfKR2UGZAVVRG0DIsHDQKa/GX3ePLw7RTqFOfs5JfjNePd41nlUOe26djs6PC89TT7ugEHCi4UDR/bKGow0DXRObw87z1mPJ035C/0JYQaPg7IAZb1oemu3ejRLse8vm65RLdwt9y4Art/vqXEPM6L2sLnW/Ti/6sKCxURH4Yo0jD9NkI6tjoaOf41SzHDKqIicBluD6sEoflG72Pm+N6h2G7TBdAEz3bQ9NP52A3fvOW87BL05PsQBBEMexOPGiUi1SoiNIo8fkJvRepFvkQLQjY9oDU6K4YePxBBAZXyNOWP2U3P2sVJvbm2qLO/tCm5Hr9MxdPL4NNc3uPq/vcjBIYONxfEHrclEiweMd0zxjMaMX8saSYXH9YW/w2jBJz6HvAd5sXdmNc90z/Qu85Jz07Sndec3pjm7O4Z9/L+pwZkDsUV7Bt7IG0koyktMeo5GkF5RN1D0UDGPMc3vzCrJm8Z1Ak2+TDpR9s10H/H8L/muEmzGLHJs+W6PMR8zdPVRN536Av12wLCDxEagyHwJlQrBi+WMSIy5C/HKqEjyBs1FOwMOgWC/OnyYuk34UDbXde71MTS4dEn0zvXsd1t5WvtDvUl/O4C/wl5EVgYDB1gH3shaSYYLwM5FEAJQus/bjwXOQE1Ei4KI20U9wOr8znlktl20I3IoMAkuXG0+LT9ug7E38ze0zPabuIT7h38rQkqFPwajx/JI3IosizJLk4tKCjGIEwZLBMgDn8IugDR9nLs1eM33i3bPdlB12/VOtUj2HzeFecA8Lf36/2GA+kJmhFgGcseZCCwH64gpCbbMNA65z86P8U7+ThPNxA0HSytHr0NePxW7S/hS9c1zvjEObwtth61gblSwXTJD9Db1UHdCuiR9f4CZw3vEzQYoBw+ItwnGCtAKoUlzR5yGMkTOxC/C4MEm/oz8PTnBeNk4ALeo9r61kbVo9dA3hTna+/r9TP7vAB/B2MPOBfrHKke+RyzG3UfMCmFNGo7mzsWOFo1zzTiM+IuHiTHFNgDXPT250Teb9XoywTCH7r+trm5x8AKyRDQ1NWF3Gzmr/PYAZYNNhWpGV8dDCI+J84qmCoXJtselBc8EqsOtwoOBFb6o+/f5qPhS9/W3avb5dhQ1xvZCd+y53bwW/c8/HgAyQXwDN4U4BqLHHQa4hi9HOsm7TKrOrQ7xzheNkA2PTaLMvEoMhpJCYn5xuyR4v/Yhc6hw9e66La6uJ++q8Xsy6nRvdi54m/v4vx+CLgQ5RXNGSAe/SK/JlIn6COzHRIX8RGCDjsLFAY8/uP0a+yk5pPjxeGw3/7c3Noj2/re2+XW7en0U/q+/nADVQlYEB0XXxuWGwYZ4Rc9HC4mKDHLN304MjbqNLY1CDY6MogoEBrSCcv6YO734+DZDc9GxOG7J7itueq+ZcWPy8nRwtmn5M7x8v67CTMRExb1GQ0eNyL0JIAkXSAEGusTng+ZDPAIDwMH+2jyGesV5vnil+AX3s/bFtsu3TniEuki8GH2s/uqAA0GZQxrE5UZsRzbG1gZ0hmUIA0shTb4OmE5BDaxNAo1UjMqLE8fRQ8//0bxouVB2+7Qo8b0vQu5/Lj/vC/DBMo80Z/Z++Mw8P38kQiPEcYXIxzfH3IjFyZsJq8jjR6hGCUTJQ7ZCKACgfv687PsUOZS4dHdh9s/2kraQ9xf4AbmTOyh8gb5ev+QBcYKRQ/cE8cYqxyWHa0bZxoSHm8nLzKOOIE4CTVjMn4xaS+vKJYcTQ3K/eXvA+Sp2TXQeccvwM67m7uKvxrGcc3M1NrcqeZD8lj+GglhER4XERsjHr8gdiJMIqsfJBsUFnwRNg1jCHkCtfvA9DXuhOj346DgVd4N3SzdQt9b47boWO7k86H5pv9FBb0JQw3lEOEUuBe4F9UVDhYAHN0mgjEEN/E23jQBNOEzOTFzKdYc2w0M/7jx/OVa21vRHcigwGu8eLxOwDzGssxx02rbcuUk8e/8IwfoDnUUrBhdHKUfwiGoIQUfuRowFjoSeQ7zCRgEQv1a9jzwOOsZ54zjpuAC313f5uEC5rXqae9Q9Pv5bACiBkAL8w39D9USIxapF+sV6RJXE0YasyXhL3A07TNSMmAy3zIvMOcnwRqEC8j8w+9+5Gva9dAkyBnBn72+vqTDMMq80FfXM98a6Xn0xP9oCZEQZBXXGPkbBB/3IFwgvBw+F8cRXw2QCSUFgf8S+d/yuO3j6SnnGuVp41DiluLn5A/pA+7b8pT3uvxcAq0HwguJDrwQ7BKsFNQUzxL6D5EPihTHHl8qTjJ5NPwycjH9MEIvAik9HeINBf7b7xTkNNpi0TbJbcKwvla/EMT+ykLSbtlr4RDrCvYBAZwKJxKcF2QbEh4MIBwhaSA/He0XyxEmDEMHgwJg/Q74LvMu7xXszOlK6ITne+dX6Fzqge1R8UP1PPlw/dYB1gWwCDgKDQsTDHYNLQ7ODGoJuwbTCLER0x6eKs4wqTHlMHAxhTKmMAop9htHDDf9ePDb5SrcgtJFySXCBb+JwHzFxMsL0p7YuOD96qL25gFQC20StRfeGzofiiElInEgYBylFmwQngpiBT0AwfoU9evv8utT6azngea25a/l+ebM6dTtavIN96z7awA1BXYJZgytDdUN9Q2PDsIO9AzrCEwFdgbwDqwc+Sm9MRQzHDFbL2ouxit1JMUX2QcM+Mfqa+DP167PAMhBwmnAXsMUykDSCNpE4SPpqPJ8/RIIzhD2FuAacB1nH9kgDyEIH1oauxONDOYF9v9Z+tn0wu+p6/rosedo55nnB+js6M3q7u0E8nH2wPrn/g0DNwcMC98NCA94Dv4MrQu3ChcJ6QVcAt0BoweSE48hNyyzMEwwhS6YLYgsPyiAHu0Pl//L8BzlBNwE1DrMW8VjwRrCi8fJz2PYNeDn58DwKvspBgsQbBfvG0sesx/OIBEhLh9SGgUT2gpIA938Wvdk8vjteepk6PTn6+il6ozsf+7U8O3zwvfh+8f/MwM0BvAIWAsADUcN6gt5CQUHFQULAyAAO/1v/eADphDWHwYsIzIiMzsyozGnMI4sHCOGFHwDbPNn5kjclNNEy/PDjL/Nv9vEGc1K1hXfpOf78Jv7tgaYEM0XBhwYHhofgR/OHh4cDBclEJMIXAH9+ov1EvGg7S3rn+n16EfpkeqX7A7v1/EH9bf43Pw9AYIFPwkVDLgN9w3PDKIKJAjJBTYDvv/g+0T6Zv6UCQsZZSdkMKgz7zPgM3wzVDDxJxEa8wjU9wPpBd0e05XKp8OQv62/b8TPzNzW6uCM6l705f6OCd8ShRk5HbIe4R43HoAcNhkOFFcN+QXz/tL4rPOL77rsgOuu65/sze0x7xLxgfM29u34q/ua/qYBbwSTBg8IJAnjCd4JjggQBlUDQwGr/5v9QftC+1kB4A6IICgwLjmfO9c6lzlbN0ExHSWcE8X/1eyZ3GLP8sRCvbW49Legu8XDVc9T3O7okfTC/+IKPxVjHUQi9SNXI00hNx7kGfgTdAwKBNH7ovTT7njqxefw5sjntek07DHvy/LQ9qz64f12ANoCVAWdBwcJGAkECIcGJwWmA2cBX/59+8n5K/mW+OT3Wfl/AMkOMCGzMag73T6HPmA96DpJNHgnUBXwAIDtrNzEzrLDpbsft7q25bp/w33PE92J6hP31wIcDmMYXCDFJFglByNDH+IathUkDykHr/7r9qXwHux46c/o5+kG7HDu+/D986b3iPvN/uYAFwIzA8kEZQbhBqIFbwOzAd8A8v/y/YP7ZfpG+8/8iv2T/pkDgA/OIOsxKz3vQOY/hj1rOhw0BChEFrsBwe1B3LvNWcKCuqi2/LZ+uw3EC9AW3mPsmvleBQAQhRkLIRwl3CQBIXIbyRUjEIMJYQGV+Lbw4upc5xzmK+dG6oTuy/Ks9oL6qv6zAoIFTgZ0BUgE5wMcBIoDKAGI/WT63fhf+Kj3o/as9sX4Cfyh/nQAcQReDuse9jENQRRIyUflQwk/fTihLRYdQwg+8rzdUMznvlK2DbPNtLO678MH0G3e9e36/B8K8BSSHdEjsiZHJQYg6hjoEUcL4QMK+9jxXOre5UTk+uTL55nsmPJr+Bj9qwDXA+4GWgkPCpUItAXqAgcBd/8W/b75h/Zr9CDz6/FO8Qfz3Pfx/VcCvwT/CAYUvyYKPCxMilJcUDpKTkPuOj4umhtZBMTrCdU9wrS0a62nrGux87nyxEjSI+KL8yAEghHVGsEgBiRkJB8hZRrhEZkJYgKQ+0n0/+xj5/zk7eUx6cntVvOa+bv/eQQzB3MIQwnhCV8JqgbxAdr8HvkQ96X15fMH8unwzfAz8QXya/Sn+Q8B5wcGDM8O4hT/IdI08kZjUYlRFUqXP2g0nSc/F+wCcOyD1oXDSLVLrWKs/7EzvMXIcNYX5cf0tAQnE0ke7CTFJkUkbh6oFlsOUQZ//ob2pO4V6HXkq+RW6EDuLfU5/K0CzwcrC+kMlw1qDdYLFQg5Aqf7Qvb68i/xlu+37Vfsb+wV7sTwj/RL+hQCCgqSD3QSRxaxH68vjUEDTphQXUrNP3U0hygHGqUHYPLY3M/JSbuispuw87Qlvg3KD9et5PjyjAEfD+QZbSA5IscfPRryEgELBwMl+1Pz9+sy5nzju+Si6fnwXPm2AR8JpQ6sEVwSdxGLD1QMGwfP/7X33fCq7NbqA+pC6f/oPOo47T/x+vU4/MEEXw4BFroZnxvFIJ8sFT12S3xRs01bQ6g2XymtGmEJy/Wo4QfPpb8bteWwrbNvvMTIP9ax4yTxu/66C6EW5R2lINoeUxmDERMJIQHU+b/y3Osm5kXjfuTQ6ePxuPqNAmYIFgwLDucOGA97DlUM5Qc/AbT5G/Od7gHsQ+rI6NznIujV6fPs+/HH+ScE2g60Frca2x0bJeMyHkTcUS1W6099Qo4y5yK7E/EDx/Kb4O7ODsB1tuKzeLiOwm3PjtyQ6Fbzbv0tBwkQjhYcGe0WwhCeCLIASPpW9RnxM+1k6jDqo+1O9G78CgTnCZ4NQA8cD8UNzwtHCZIFJwB9+RXzeO4Y7DXrxupi6kbqx+o07FbvivWK/7gLLRZ5GxocEB09JFAzpUUUU1lV00sVOzYpChq+DQYCd/RT5CXTLMThulG5EL+VybPVH+EN69PzJ/xuBD0MLhKAFDQS6QupA8T7m/VN8UzuVOzo6/jt7PIJ+roBjQi4DfUQHBI3Eb4OZAt1B6ICqPwR9hrwxes36eTnPecL52/nweiY683wGfk9BDsQthkKHvEdDh7oI1IxM0LuTndR3kgHOYEnOhj0C9QAPfTo5AnU8sRwu9y567/xymPXpeL46//zovs9A2wKHhDaEnQR/wstBH38y/aF8w7yv/GF8rz0nfjV/ZoDCAlbDeYPIRD4DRMKggX5AHD8mfeW8hPuxur26HDow+iG6Z/qbOyz72H1G/54CVoVRh6qIZQg+h9XJRoyBkLeTfZPIUedNssjQxOmBlv8YPHw4/DUcscJvxC+ksQz0EXdmuje8Jz2QPv3//kEVwlbC6wJdQR+/RT3z/I08RzyHfWK+Xr+IQMwB74K2Q0hENYQVQ+TCzcGNQBU+un0DvDg647oOebc5Gfk3+Rg5hXpU+2s86z8EAj6E1MdwSHrIcwhEyZoMLk9EUhxSpVD/zXjJckWKApU/3n0Luiy2jTOysXCw1bIh9E73MvlCO1E8o/22vpb/2QDtQVBBf0BGv1Y+Cb1KvRr9Zj4Ff38AXAGBQrbDDUP9RCFET8Q5AzRB70BVvsK9STv/+kL5o3ja+JL4uriUeTR5unqRfFy+g0GGhKCGyMg5yC+IeYmczELPglHQkhzQbY18ShqHR0ToAig/OLumODu0yjLp8dUycPO6NX63AbjD+i47LrxSvfK/AEB1QIPAqX/Lv39+3T8If5XAK0CCgV2B+0JUAxcDqkPzg+IDskLsQeAApb8YvZj8Bbr5uYM5GziuOHD4a7ix+RT6KTtLvUh/5gKZBUeHQshESOXJu0tODipQfdFMEO3OtMvNyWMG9UR0gYq+p7sud841YTONMzYzR3SYddW3HngHOQF6NTscPLm9+X7rv2s/ST9LP0H/mL/DQEyA+MF0AicC0kOGhH7E0YWFRfFFSwSlAydBRD+kPZ87xjpuOOv3yTdEdx03FnewuG65pLtufbvAZ4NThdWHWEgTyMmKZEy9zwHRKlE8z6hNcQrwSIOGmEQ9QQR+OXqJ9961svR8dDc0i3Wv9n43ODfCOMr54jsbPJ695j6wfvv+z38I/16/gUA0gECBH4GDQmdC2AObBFdFE8WTRbkE1EPRQluAjT70vOp7Fjmi+Gm3qXdRN4/4HDjuefh7K7yIvmSADIJVxJKGkkfCyF0IXkjzChWML42wThaNRMucyUdHR4VpAwnA+34ye6j5Sje0Njk1XDVKddX2gvehuGj5OrnEOw/8b/2ZPth/tD/agDrAKcBrwITBOAF6gflCbgLsA0fEMgSsRSoFAwSKQ3rBjYAefm98hrsDOZa4aLe/t0f37HhjeWX6nXwrfYQ/ewDjwtoE+QZmR3XHgIg2SMDKywzlDjIOB001SwXJYodjRVrDEwCGPiu7m3mWd+w2SLWUNUZ12bax91v4K7ikeXg6WLv9fRo+Uv8Av44/14AtAGCAwoGKwk+DJsOQBDVEeMTBxb+FosVWhEMC5gDqfue8+frJeXy347c4drJ2lfcut/v5HLrXPLz+EP/CQbCDZQVlBuDHm8fRiFiJkAurTU3OaI3RjKCK9UkMx67FtUNzAOG+dLvGeeZ38jZPtYv1Q/Wz9eX2U3bjN0N4QDm2eua8Xn2Q/pD/db/MgKDBBAHEwpfDVUQWxJ1E1QUnxUqF9wXeBaIEooMXgWs/c31Nu6Q53fiId9l3RvdUd484eXl3+tX8of4SP4mBKwKcxEbF4YaOBxLHroifylLMDQ0wzO0L/kpBCTwHe4WbQ6/BNX6gfEU6azhqNuy1zXW2NaZ2HXaKdxJ3qjhi+ZY7AHyuPZT+h/9e/+rAfUDoQbNCTENPRCGEiMUhxXuFuIXaRe7FNcPdQlpAin72fO+7HvmyuET3z7e8N7s4DTkyuhh7lf0IvrP/+YFmwwYE/MXjxolHAcfnyT0Kzgy0jQrM6suQinbI/0dsRasDaIDoflE8J3nz9+A2YfVJdSv1A7Wk9dp2ULcoOBQ5njsKvLu9t76Sv5jAUEEFQcrCpgNBRHoE/cVZReOGG4ZaBmkF7QT7g0kBwwA4vis8bTqsORh4Bveqd2h3sTgE+SV6A/uB/Qd+mEAHQcjDmsUzBhAG2UdPSFWJwIulTJXM5Iw7yv5JhYimxyuFRsNaANP+Uvvx+V23U3X29PM0hrT2tPi1NbWgtoR4LjmN+2v8hf32vo8/kgBNQSEB4QL1A+uE5cWvRiIGvgbeRxPGxkYDBO0DJsFE/5T9snuGujb4kHfLt1+3Dndet834xnopu2Q8/H5CwG2CP8PvBWuGf8cZCF/JyMuOTNXNZA05TExLpcpyCONHA8UqAqeABz2feuT4WzZudNi0L3OMs6pzmjQo9M72MbduuOg6TzvifSL+S7+dQK3Bm8LshDmFTYaSh1rH9wgUCESIMEcnBc/ER0KaQJf+nPyQ+tP5crgsd3527bbBN3R38rjlOgL7kf0RPuKAk8J+A6dEwgYFR3zIuso1i3nMBEyyjFsMOgt5yk9JA0dpxRJCyYBrvap7PTjCt3Y1xDUmtGd0CnRA9PS1WHZmt1Y4lvncOyP8cH2GPy/AeMHYw6wFB4aYR6OIbMjiCSnI+QgbhybFs4PawjRAFP5OfLc65Dmh+LL32TeZN7B30HimOWw6aXuhPT6+l4BDQfZC0cQNxUzG+AhIyjrLNEvHzE5MS0wsS16KYMjCBxSE5sJLv+s9AXr/OK33ObXTtQR0ljR9dGH0+XVFNnu3AfhGeVG6ePtHfP9+Jb/zgYaDp4U3xn4HR4hHSN6I/0h1x5iGusUyQ5WCMQBJ/uw9M3u1OnG5Y7iYOCr36PgD+Ob5h7rbfAU9m37LgC6BOYJSxDHF3sfWCa3K5EvMzK+M/gzhTI1Lw4qKSOfGq8QAQaQ+zDyKupK42Pdk9gG1Z7SGtF20PXQotIY1eLXANvi3u3jOeqe8cT5CQKtCUEQ1xWkGpQeWSG8IrUiRiFzHmoafRXZD3sJewI/+0D0vO3S59TiTt+s3QLeF+CY4xToAu3z8dL2/fsQAoEJJRIcG0Qj6SkLL/MytTUNN7A2eTRfMGYqqCJsGTkPzwT4+iDyKeq44r3bjtWB0LbMO8pAydnJysuzzoPSeNfJ3WjlD+5G92EAwwg9EAYXLR1MIvclISjpKB8obyX1IEob2RSYDZUFeP0Y9rLv6OmL5BjgUd2X3L3dVeD241HoQO3M8iL5cwDRCAoSghtQJLIrbTGwNY84yjkLOTc2aTG0Ki8iMhhpDZYCU/j47qXmRt+h2JjSYc1qyQ3HZMZTx7LJWM0U0sfXd94+5gPvT/hvAd0JghGDGNseKCT2JyIqzir6KWUn6CLXHMoVJQ4NBtH9FPZl78Pp2OSh4KXdg9xp3Qrg6+Om6ATuBPTN+nUC3gq0E4sc4iQjLNIxxDUPOL84pTeLNHovvyi3ILQXCQ4RBC76vPAR6FvgjNl30xXOrMmsxm/FEsZzyD/MINHw1sLdl+Uc7sT2Lv9TB0UPyBZgHaUicSauKCcptid6JNEfEhp5E1EMEwUp/qz3hfHE68Dm7+Kj4Pbf0OD24h3mKeo975D1FP1oBREOlhaEHmol+SodL9sxFTOQMiowASxlJqwfHhj3D3MH3f6F9rHubueb4CDaK9Qtz6TL4snpyXTLL8740e/WLN105EnsRvRZ/IYEoAw5FN0aQCAuJH4mEyfkJQojvh5gGWsTTw1ZB60BUvwt9y3ya+1N6VHmyuSr5KnlfOcc6svt8fKw+ZkB0wmoEe8YyR8QJjIrpy5fMJIwPy8oLE8nQyGtGsMTWQx3BID8x/Q57ZjlA9761gnRjMy2yaDIJcn3yuzNJdLL17PeaeaK7vb2oP9UCLEQOxiOHmkjpiYmKMknnSX3IVEdBxhNEl4MgAbPACH7TfWd77XqF+fp5BfkluRO5hbp5uwC8qL4bgCGCCUQMBfiHRgkKSl5LP4tBS6kLK8pJyWGH2wZGxN6DIMFc/6J97jwzenP4ifcXdbO0afOAc3hzCvOstBi1D/ZOd8E5kDtuPRt/FIEFww6E1kZRx7iIfIjQiTcIgggIxx8F2QSJw31B8cCgf0r+AHzTu5b6nrn/OXw5RHnDeny6zbwL/aG/VgF3QzfE4wa1CApJucp3ytdLKgrrylAJnsh3BvSFXgPvgjAAcf6/fNO7Z7mGuAw2kjVmtFBz1zO+M760DLUgtjg3SfkDetB8pv5CQFfCEUPZBWBGmwe7yDlIVwhhB+OHKsYKRRlD5sKygXaANv7//Zs8kDuu+pQ6Fbnu+ch6V3rt+6P89H51wDfB4wO4BTVGhQgGySfJq8ngCchJnwjlR+3GlEVqg/JCbEDgv1n92DxVetU5bbf69ow15bULNMM0zjUhdbI2e/d++LR6DvvAPb1/OQDjQqnEOwVGRrzHGUegx51HVgbVRi0FMgQugyACAcEYf+5+jL27PEx7nbrEer26dHqfexB74HzL/mp/zEGeQyXEokY3h35IY8kyyX0JQwl5CJ1Hw4bIxb8EJ4L9wULAPz54PPB7bXn+eHl3MzY3dUu1MPTkNRx1kTZ+NyO4fbmBO2G81T6PgEECFQO6BOBGOEb2h1yHtgdMhyRGSYWVBJsDlgK1gXnAOz7M/fC8rDuhOvg6czpsOop7JTujPIC+Cb+NgQfCiAQJhakG/8f/iK7JGAl6yQ8I0AgLBxuF2gSNg2/B/0BD/wS9g/wFupe5DLf1tqG13bVuNQq1Z/WC9l33MHgqeUT6xbxpfda/sIEvwpjEHkVeRkCHDMdXR2OHJ8ashdDFLQQ8AyuCO8DCP88+pz1WfH47fTrQ+tu6z7sEe5h8RP2ePv1AH4GRQwzEsQXbBzxH1witiPtI+YipyBeHVYZ2hQYEBcLyQUqAET6MfQe7kPo4OI83p3aN9gW1xjXGtgM2tzcXuBl5PboNu4Z9Ef6WQAzBtkLFxFtFXMYLRrSGnUaBBmpFtYT5RC/DREKyQU4AbL8Ufg19MTwcu5M7f3sVO2h7lLxTvX8+dn+4wNNCfAORRTQGGocGR/PIGsh3CA7H7AcahmdFYARLA2RCIwDDv4y+DPyV+zc5v/hBd4w257ZRNn42ZLb7d3l4F3kXej77C/yvvdq/RwDzgg4DtwSVBaRGLEZuRmkGKcWNRScEcYOcwuXB2sDHf+2+mL2lPLG7wvuH+3h7Jjtpe8M81/3JfwsAXcG6QstEeMVxhm7HLUeqh+RH2seUBxpGesVABLFDUQJbgQt/4f5tvMQ7tboKeQz4DXdZdvF2inbaNxt3iDhZeQ06KTstPEv98j8VQLLB/wMhBEIFWkXsxjtGBgYYRYbFIkRqw5eC5gHfQM4/+X6sPbw8grwMu5N7Sjtx+1s70vyQvbm+uT/JgWmCioQQxWRGeocRx+eIN0g/x8iHnEbHBhQFC0QuwvqBqkBBfw19oHwIes/5gfit95/3GfbVNso3M7dK+Am47jm8OrS7y71vfpHALQF2wpuDyITzhVsF/8XjxdBFlQU+xFFDyYMnQi/BK8Al/yj+A/1JfIi8Bfv5+567+DwRvO39vr6uP+vBMIJzw6TE7wX+RobHRseFR4pHWQb0BiRFegRBg7vCY8F2wDc+6X2Y/FV7LznweOC4C/e/Nz53P3dzN9H4mvlLul37STyF/cv/D8BJwbCCuUOUBLLFD0WrBYsFt0U6RJ7ELENkgojB4AD0f85/ND4sfUP8yHx/++b7/DvKfGD8wn3cftRAGwFqQrbD6MUjhhXG/YcgB0EHZMbTBleFvsSTw90C3UHRAPO/hD6KPVI8J7rU+eb47rg6N4y3n7ert+x4Wnkp+dA6zLvifMu+Nv8WwGoBccJig2cEL4S8BNKFNUTmhK/EHkO5Av+CNEFjwJn/2T8g/ne9rD0J/M/8uXxNPJv88b1Jfk8/cMBlQaRC3MQ0RRLGLEa/hs7HHQbwRlJFz8U1RA7DZEJ1wX5Aeb9o/lK9fbwvuzR6HHl5OJN4bbgHeF94r3kq+cS68/u0PL69ib7LP/yAnAGmglbDJMOIBDzEAsRfRBhD84N0wt4CckG4QPzADP+t/uC+aT3Tvao9az1O/Ze90z5HvyZ/1gDLQcaCwwPqxKQFY0XqBjqGEsY0BaeFOYR0w6ICx8IngT4AC79VfmC9bXx8e1p6mrnH+WG45vigeJi4y/lq+ei6gvu5/ET9lH6Zv4xAqgFvQhcC24N3Q6gD7oPPA89DtYMFQv6CIQGzAMLAXT+Ffzr+RD4v/Yh9iP2m/aR9z35v/vi/ksCyAVgCQoNfxBaE2UVphYuF+8W2xUMFMMRMw9nDF0JKQbpAqj/TfzE+BL1WfHH7Y/q4ufk5ankQ+TD5DHmcuhS66buWvJV9lb6Ef5mAV4E/AYgCa8KvAtuDMIMlQzrCwQLBAq0CL4GKwRuAeX+hvww+h/4z/Z49tT2k/fQ+N36vv0RAXYE4AdpC/MOIxKuFIAWlxfgF0gX4xXjE2MRZw4GC34HAwSSAAX9Vfmq9Sjyzu6Z67vofuYK5VrkcORr5VjnC+o+7cfwkvRx+Bj8Wf87AtEEAgeqCNcJuQpeC58LYAvECvwJBgmlB70FdwMXAcr+nvy9+m754/gO+bz5zfpO/FP+yQB0AxwGsAg6C7AN6g+8ERIT4xMVFIwTUhKQEF4OsAt+CPcEawH+/Zf6JffG86vw4+1m60fpv+f65vXmnOfv6PnqqO3P8DH0mvfZ+sz9agC7ArgEUgaUB6sIswmWChwLMQvoCkoKOgmaB3wFHQO5AIX+t/yP+yr7bfsk/DD9kP5JAEcCVgROBisICAr0C9QNeA++EKIRGRL9ETQRyg/cDWkLZAjzBGsBB/69+nL3QPRf8enuyez66p/p4Oi86CHpGeq86wPutfCY8472iflx/CD/dgFrAwoFbwatB8IIlQkRCjUKAQprCVsIzAbXBKwCjACz/lD9f/xH/Jn8Xv1//u//mwFfAwsFjQYCCIsJGwuDDKoNnA5gD84PtQ8ND+QNOwz9CToHMQQfAQ/++Prw9yT1rvKP8Mruc+2V7CbsJOyc7JvtEO/Y8N7yE/Vj97X5+/sn/h4AzwFOA8UEOAZ3B1oI5wg0CSoJmwiFBxoGiATgAkoBFABw/z3/RP+S/1YAfwGkAnMDCgSwBGwFGAa7BpIHuwgBCiYLHgzuDGINJg0dDHIKWgjhBRADDQAP/Sr6bfcC9SDzyvHL8PPvRu/Z7p/ufe5/7svubu9Y8JLxTvOj9Vf4FPvC/XYAHANgBQcHKQjqCDIJ3ggcCFEHpQbsBRIFUATfA5gDNgPBAoACfgJ7AlcCVgLBAowDgQSfBQkHrAg+CpILswyNDc8NOQ3vC0IKSAjdBQYDFgBm/Qr7+Pg499710/Tf8+Hy4/H88DDwfu/27rvu+O7P707xYPPb9Zj4fftg/gsBVQMsBYoGXweuB6sHngemB64Hqwe0B+IHFQgOCLMHHAdeBncFZgRQA2gCzwGWAc0BewKKA80EHgZmB4EINQlhCRUJdAiMB1QG0gQsA4sB+v90/gL9sPtu+hH5f/fM9Sf0qfJP8STwWu8o75fvivDm8ajzu/Xp9/b51fuU/TH/jwCyAckCAQRRBY8GsgfVCPkJ6wpxC4QLQQu2CtoJtQhtBy0GEAUtBJwDaQOAA8IDHwSFBM8E0gSKBBsElwPtAhACJAFWAKv//f5A/pH9//xe/H37Y/pD+TH4DPfA9Xz0ivMD89Dy5fJY8zv0cfXJ9ir4l/kI+1/8if2S/pP/kwCLAXgCZQNZBEwFMgYAB6cHFwhFCDcI+weUBwgHawbgBYAFSgUuBSoFQQVhBWIFLQXOBGAE5ANEA30CswEHAXYA6P9R/8j+Uv7R/SX9VvyG+8L68fkF+R34bvcM9+L24fYa96D3YPgz+QD6y/qX+0783fxO/cL9TP7p/pX/WgBJAVgCcgN8BGgFJAanBuwG+gbZBpYGRAYBBuMF7QUUBk8GkwbPBusGzAZkBrcF2QTnA/ICAQIaAU8Ar/8x/77+Rf7I/Uf9r/z3+y/7fvr3+Yz5MPnx+OT4B/lF+Y/56vlc+tb6Q/ui+wD8ZPzC/BH9WP2u/Rz+nP4p/8f/eQA9AQQCwwJuA/0DaQSvBNcE5wTjBNQEzQThBBgFZAWxBfQFKgZIBjQG2AUxBVgEbQN8AocBkgC2/wX/gf4U/q39S/3t/Ij8EvyS+yH7y/qK+lX6Nvo7+mj6rvoD+2b71ftH/LH8Dv1i/aj93f3//Rz+QP5v/qf+6v4+/6r/JwCwADoBvAEwApcC9QJLA5cD1AMIBEEEkATxBFcFsgX7BTQGUwZFBvkFbQWzBOIDCQMrAkoBdgDD/zn/z/5u/gj+nv0x/bz8PvzE+2f7NPso+zr7afu9+y78rvws/Z/9A/5W/pP+uf7I/sD+pf6F/nT+gP6q/u3+Qf+h/wcAcADPABgBTAF3AaYB2gEQAkkCjwLuAl8DzwMtBHQEowS4BKEEVATXA0MDrQIXAnkB1QA7AL//Yf8U/8b+bf4K/pz9I/2k/DD82Pus+6z7z/sS/Hn8A/2j/UH+xv4v/4P/xP/p/+b/xf+h/5L/mP+l/7n/3v8SAEUAXQBaAEsAOAAfAAgABAAbAEcAgQDVAE4B2gFYArcCBANEA2gDYAM4AxED9QLYArAChwJnAkcCCwKqAS0BpAASAHT/0f4//s/9hf1Y/UL9Qv1X/Xr9nv26/dD94P3s/fH99v0F/iT+Tf55/qj+3v4c/1j/if+u/8n/3P/q//T/AQAbAD8AaQCXAMsABgFDAXYBnQHAAeYBBgISAgkC/AH2AfAB2gGyAYsBbwFRASMB4wCiAGMAGwDE/2z/J//4/tH+qf6K/oH+jf6d/qn+tP7E/tj+6v78/hD/Jv87/0//ZP98/5f/r//A/8r/0f/a/+X/6//l/9T/vf+p/5n/kP+O/5X/pP+6/9j//f8jAEcAbACbANUADQEzAUsBYwGAAZEBhQFbAScB+QDVALYAmwCGAHMAXQBFAC8AHwAPAPT/yv+Z/2j/PP8S/+7+0P6//sH+2f4C/y3/T/9r/43/t//f//z/EgAkAC8AKwAfABgAGgAaAA8AAwAFABMAGQANAPn/6v/j/97/2v/b/+P/7//8/wkAHAAuADwATABoAI8AtwDVAOgA9wAAAfsA4QC0AH0AQwAKANv/t/+d/4b/b/9g/1//ZP9h/07/Mf8Y/wr/BP8E/wn/E/8p/1H/jP/O/wYAMABNAGQAdwCDAIkAiAB/AGwAVwBKAEUAQgA6ADMAMAAuACMADwD//wAADgAfACkALQAyADYAMQAcAAAA7P/m/+3//P8NACEANQBEAEsASQA7ACcAEwACAPT/4f/L/7f/rP+q/63/sv+4/7z/vP+y/6H/k/+O/5j/rP/E/97//v8kAEwAaABzAHEAawBjAFYARwBEAFEAZQBuAGMATwA7ACwAGgADAOj/zv+6/7X/wf/Y/+z/9//9/wMABQD3/9H/ov9+/3D/cv+C/57/x//7/y0AVwBxAHoAdABmAFAALgD//83/rf+q/7f/x//U/+P/9f8CAAkABwD6/9n/rv+L/4H/i/+Z/63/1v8XAFoAgwCSAJ8AsgC1AJQAYAA6AC0AJAAOAPn//P8bAEAAUgBPAEMANQAhAAQA5v/V/9f/4//t//T/AQAZADEAOgAyACYAHQAQAPv/4//U/83/vv+k/47/jP+a/6b/qv+u/7r/xv/D/7H/n/+e/6z/wf/X//L/EAAxAE0AZgB7AIUAegBeAEAALwAwAD4AUABcAFgARgAyACoALAApABYA+f/g/9j/5f/6/wMAAAD4////FAAjABUA5/+v/4f/e/+D/5P/pf/A/+z/IQBOAGQAZQBbAEEAEADO/5P/dv91/3//kf+z/+T/EwA1AEIAPQAoAAsA9f/m/9j/xf++/9X/BgA6AFwAbgB0AGwAUgAuABQABwAAAP7/AAADAP7/7v/j/+j/9P/0/+n/3v/c/9n/zP+//8T/4v8KAC8ARwBSAFYAVQBRAEgAOQAoACAAJAArACsAIgAaABkAGAALAOv/uf+C/1j/Rf9N/2T/ev+H/5P/q//J/9z/3//b/97/5v/q/+n/7v8CACUASgBoAHoAgAB8AHAAXwBRAEoARgA8ACoAFQAMABQAJQA0AD0ARABHAEAALgAYAAsABwAJAA8AGAAgACAAGwAYABoAFgAHAPf/8f/y//D/5f/Z/9P/0v/T/9H/yP+w/4//df90/4X/l/+i/7P/z//r//X/7//o/+P/2v/K/77/wf/S/+n/BQAsAFoAgACMAH4AZABQAEMAMgAWAPX/3v/d//P/GABGAG8AgABuAEMAFADz/9//0v/J/8T/xf/T//P/IABJAF8AXQBLACoA+P+8/47/fv+G/5T/o/+2/8z/4P/x////BwADAPf/7f/q/9//wv+f/5P/rf/e/wwAMABJAFcAWABWAF4AbwB9AIIAgAB4AGEANQABANr/xf/B/83/6v8LACYANQA/AEgARQAyABkABADw/9T/wf/J/+j//v/6/+v/5v/p/+3/8/8AAAoA///g/8j/wP+7/6z/nP+c/6n/u//N/+b//v8KAA8AFAAaAA8A8P/N/7z/vv/I/9X/6v///wYAAQADABsAPgBYAGUAbABpAFAAIgD0/9X/x//C/8z/6f8MACgAPgBfAIUAkQBuADIAAgDr/9z/0v/Z//L/AADy/9b/y//X/+n/8//6////+f/l/9P/yP+4/5n/f/+K/7b/5P8CAB4ARQBrAHwAdQBlAFEANQAUAP3/7v/f/8//zf/h//z/BwAGAA0AIgA2ADgAJwASAAAA8v/n/9//2f/W/9z/6v/2//X/8f8AACQARwBUAEwAQwA7ACQA/f/U/77/vf/E/87/3//0/wIACgAOABUAGAASAAMA9v/t/+n/5//n/+f/6//0//v/9//k/9L/0f/e/+n/8P8CACYARABGAD4ASwBpAGwAOwD0/8j/w//J/8P/xf/j/w4AKgA1AEcAZABvAEgAAADF/7T/uf+0/6P/ov/G/wAALAA9ADkALwAnACAAFwAJAPn/6//o//T/AwALAAwADwAbACcAJQATAAAA+v8AAAAA6P/K/7//yv/P/7b/lf+R/7L/1v/j/+f//P8cACsAJQAlADwAVQBWAEIAMgAzADYALAAbAAwAAwD7//T/8f/v/+v/5f/i/+T/6P/p/+X/4P/f/+T/6P/l/9//5f/2/wAAAAAVAFEAjACFADQA4//d/w8AKwACALz/k/+T/6H/rf+7/8z/2//r/wMAIAArACAAEwAUABAA9v/R/8L/1f/u//j//f8NACcANAAwADQATwBwAHQAVAAoAA8ADgAPAAMA7v/h/+H/5v/m/+X/6f/u/+z/5v/x/xEAMQA2AB8ABwACAAYA/v/r/+f//v8mAE0AaQB6AH8AcwBXADIADADo/8j/sf+p/7D/wP/P/9b/zf+z/5T/gv+H/5j/qP+0/8z/9P8bAC8ALQAvAEMAWwBdAEYALwAqAC4ALAAiAB0AHAAZABQAEgANAPb/yv+j/5f/ov+x/7r/wP/B/7r/sv+5/9H/6P/u//D/CAA5AG0AiwCQAIIAagBSAEIANAAWAOb/uP+p/7n/0P/d/+X/8//+//z/8P/o/+b/3//M/7n/uP/P//X/FwAqAC8AMQA5AEcAUQBRAEYANAAfAAwABwATACUAJQARAP////8LABEABgD6//f//f/7/+//4v/d/97/3f/b/9r/3v/j/+X/5//s//X/AQATACQAJgAQAOz/1P/b//j/DQALAPj/5v/i/+r/9f/9//z/7v/b/9D/1//q//v/AAADAAgADAAJAAMABAAMABAACAAAAAYAGgArAC4AKAAjACAAHQAdACQAKwAnABUAAQD2//H/8f/6/wwAHwAiABMAAgD6//D/4P/P/8v/0//a/9L/wf+5/8T/2v/u//3/CgAYAB4AGQAWACIAOgBDAC4ACgD2//n/AAD+//z/CAAZABkACAD+/wkAHAAcAAgA+P/y/+//5f/c/+P/8P/y/+n/6v8DACAAJwAZAAwACwAJAP3/9P/8/wcA/f/h/8//1v/h/9r/z//W/+z/+P/z//D//P8HAAQA/v8BAAsACwAEAAQACQAIAAQADgAnADUAJQALAAkAIAA6AEcATABLADwAHwAGAP7//f/4/+7/5//i/9v/1v/b/+X/6v/o/+j/6P/f/8z/v//C/8r/yf/E/8v/4f/5/woAGQAnAC4AKQAgABoAGgAbABoAFgAOAAMA+//4//n//P/7//T/5f/W/9H/3f/1/xEAKQA4ADYAJQAUABcAKQA0ACwAHAAXABwAHQASAAcACgAaAC8AQwBQAFEAPwAgAAQA+f/2/+7/3P/O/9T/5//x/+X/0f/J/9L/2v/W/8j/vf+6/77/y//g/+//7f/d/9b/4v/5/woADgANABMAIgAzADkAKgARAAIABAALAAcA/f///w0AFwAOAAIACwAmADgAMAAdABgAHgAbAAgA9//y//T/6v/Z/9P/4f/1//n/7f/d/9P/0P/T/93/6v/u/+D/yf+7/77/yP/T/+D/8v8DAA4AEwAfADgAUQBcAFQAQgAyACUAGgAOAAMAAQAIABMAFgALAPz/+P8GACAAMQAwACUAHQAbABYAAwDk/8b/uf/A/8//2P/Z/93/6f/1//P/6f/p//z/EgAWAAgA+f/4/wAACAALAA8AEQANAAUABwAWACUAJwAcAA0A///n/8n/r/+m/63/u//H/9D/2v/t/woALgBIAFIATABAADQAJwAaAAwA/f/x//T/BwAdAB8ACgDz//L/CwAtAEYATgBHADQAHgAJAPX/2P++/7f/y//q//n/7f/R/7z/uv/L/+T//P8PAB8AJwAfAAQA5P/P/9D/3v/s//f///8GAA8AGAAkADAAOAA4ADAAIwAUAAYA+f/o/9b/0P/e//j/BgD//+z/6P/8/xoAMQA7AEEASQBOAEQAJgACAO7/9P8FAAwA+f/U/7X/qv+v/7r/w//M/9r/7P/3/+3/0v+1/6z/vP/X/+///v8GAA0AFgAjADUARgBNAEkAQAA1ACYAEgAAAPv//f8AAAAAAgACAPz/9P/2/wIADAAKAAUADAAiADQANAAkAA8AAAD+/w0AIQAnABoADwAWABwACADj/9r//v8mABwA4/+y/7n/4/8AAP//8f/w//j//P/5//X/9f/y/+r/4P/a/9v/3//l/+z/9f/9/wAAAQACAAYACgALAAcABwANABAACgAFABQANQBHAC4A/f/e/+f/AAAJAAAA9//0//D/7f/3/wwAFgAFAOr/3v/o//b/+v/0//D/8/8AABcAKAAoABUABQAEAAsACwABAPv/+//8//r/+//9//T/3f/L/9D/5P/y//X/AQAgAD0AQwAzACAAFAAMAAcADgAeACgAIQAOAPz/8v/w//L/8//w/+z/8v8BABEAEAAAAPL/8f/4//v/+P/0//P/8P/j/8r/tP+u/7//2//v//f//P8HABIAEgAJAAIAAQAFAA4AHwAvADQALAAkACEAFwAAAOj/3//n//P//f8JABYAEwABAPL/8//6//f/6//m/+7/+/8DAAIA+v/u/+7/BQAlADEAIgASABoALgA2AC8AKQApACIADwAAAP7/+//r/93/6f8JAB4AFAD5/+b/4//o/+3/7f/q/+r/7//w/+D/w/+2/8///f8VAA4AAAAGABoAIgAZAA4ACwAFAPz/+P8BAA0ACwD+//T/9v/7//v//P8AAAIA+//z//j/DQAfABwABwD5//7/DAAMAPb/2v/T/+b//P/8/+b/0//V/+T/7v/t/+v/6v/j/9v/4v8AACUANgAuACUALAA4ADYAIgAQAAwAEQAVABQADgAGAPz/8P/m/+L/6v/8/xEAGwASAAEA/f8KABoAGQAHAPf/9v8AAAAA7//Z/9T/4f/w//P/8f/7/xEAHwAYAAoAEAApADYAIgD+/+v/8v/+/wMACQAbACoAJAAMAPj/8v/u/+X/4f/s/wAADAAMAAMA7//O/7T/u//g/wQAEgATABkAIQAZAAMA9v/9/wcABQAAAAwAJwA2ACoADwD8//P/7v/q/+r/8P/2//f/9f/1//b/9f/x/+//9P/6//3//P8BABEAJAAwADEAKwAiABMAAQD3//j//f/4/+//8v8EABcAGAAJAPr/8//v/+n/5v/p/+//7//u//D/9v/6//j/9f/5/wMAEQAeACcALwA2ADwAPAA0ACMADgD5/+X/0P+6/6b/nP+k/7r/1f/p//L/9f/3//j/9//5////BQADAPr/8v/1////BgALABUAIwAtADAAMAA1AD0APQAyACMAFwALAP7/8P/m/9//1f/M/8r/1P/i/+b/3f/R/9D/3//3/w8AHwAdAAYA6//e/+T/8f/2//f/AgAaAC8ANgA2ADgAOQAyACQAGQASAAgA+//x/+//6//g/9b/2P/g/+X/6P/y/wIADgAOAA4AHgA4AEoATQBGAD0ALAATAP7/+v8HABkAHwAbABcAFgASAAYA9f/l/9r/0//O/83/z//R/83/yv/O/9z/6f/x//X//P8BAAAA8f/d/8v/wf+4/7D/rf+2/83/6v8EABsAMABDAEsAQgAqABEAAAD3/+3/4//c/93/4v/r//b/AwARABsAHgAbABkAGwAaABEABQAGABMAGwAQAPz/8//9/wgACgAMABwANQBEAEAAOQA+AEkATABEADYAJAANAPT/4f/b/97/3//c/9n/2v/f/+b/8P/9/wgACAD+//H/7v/z/+7/2v/H/8v/5P/7/wEABgAYADMARQBGAEAANgAgAPv/1f/F/8j/yv/D/8P/2v8AAB4ALAAyADcANgAsAB8AHgAkACAABwDo/9H/yP/C/7j/t//J/+b//v8HAA0AHAAyAD4ANgAkABgAEgADAOz/3f/m//n/AAACAA4AJgAwAB0A/v/u/+n/3P/H/77/xf/J/8H/wf/b//f/9P/V/8f/4/8UADMALQAPAPP/5v/y/w8ALQA+AEoAYwCBAIgAagA7ABgAAwDw/9n/zf/U/+D/4f/d/+X/+v8DAPL/z/+2/67/rv+z/8r/+/8xAFIAVgBPAEkAPwAnAAcA9P/w//D/7P/n/+z/9//8//X/8P/8/xUAKwAzADIALQAcAPP/tP98/2b/c/+P/7D/1/8EACsAPwA/ADYAKwAeAA0AAAD9/wQAEwAfACYAKgAvADYAMAAVAOr/wf+p/6P/q//E//P/KwBUAF4AUwBCAC8AEgDt/9H/0v/v/xQALgA3ADoAQABGAD8AJQAAAOD/2P/m//3/BADv/8L/lP9+/4H/jP+U/6X/0v8SAEgAXABUAEQAMwAgABAADgAhAEIAYwB/AJIAlwCHAGIAKgDm/6T/eP9s/3n/lP+5/+P//f/3/9b/sf+X/37/Y/9W/2n/mP/N//X/FQAyAEcASgBAADUANQA/AE4AXQBuAIYAoQCxAKYAfQBFABAA5P/B/67/rv+7/8j/0P/W/9f/z//A/7T/tf+6/7X/qv+u/8n/6v///wUADgAhADIAOAA7AEgAYQB9AJQApwCtAJkAagAzAAUA3v+3/6H/sv/f//7/9v/Z/77/o/93/0j/Nv9O/3n/o//M//v/JQA4ADUAKwAfABAABQAKABkAJAAqADwAXwB3AGgAOAAKAPf/8f/l/9b/1//y/xQAKwA3AEIASAA3AAsA4//d//D/9f/h/9r/AAA4AEoAKgABAPD/5P/E/6H/oP+9/9H/x/+7/8j/4//r/+D/2//o//b///8WAE0AkgDGANgAzwCxAHQAHgDK/5X/h/+T/6v/z////zEATwBIAB4A6f/D/7X/tv+2/7b/w//j/wIAEAAOABQAKwBCAEEAKwAaABoAGgAFAN//xP/F/9T/3v/h/+f/8f/2//L/7//v/+z/4P/X/97/7P/s/9f/wf+//8//3P/f/+P/9v8OAB0AHgAeACQAJQAcABQAHAAtADYAOwBXAI4AtQCpAH4AawB8AIAATgAAAMz/vf+w/5H/e/+C/5T/k/9//2v/YP9W/1P/Z/+S/8D/6f8WAFMAjgCsAKcAiABhAD0AJwAaAAcA5P+//7T/xv/k/wAAIwBLAGQAXABBAC4AHwD2/6z/a/9g/4X/sv/S//L/IQBPAGEAWQBGACgA9P+u/3f/bf+J/7H/2P/+/xsAJQAbAAwABAD8/+//5v/r//f/AwAcAFAAkAC1AKsAjAB2AGQAQQAPAOb/1f/R/9P/4v8DACoAQwBPAFwAaQBiADwABgDW/7P/oP+c/6X/sf+z/67/sv/F/93/6v/s/+r/7P/w//L/7//j/8v/sP+k/7P/1f/4/xEALABUAIIAnwCbAHsAUQApAAMA5P/Q/8z/0//h//j/FAArACcABQDc/7//sv+q/6j/s//R//X/DwAgACkAKgAdAAYA+/8IACoATABgAGMAWQBDACQAAADi/8n/uf+2/8L/3v8AAB4AMgA1ACYABQDX/6X/ff9w/4b/uv/7/zUAYQB4AHIASQAFAL//iv9y/3b/lf/J/wUAPQBkAHcAdABcADYAEQD6//L/8v/4/wIAEAAdACMAJAAgABQA///r/+X/7P/y/+z/4P/d/+T/6//o/9//3P/j//D/AAAXADoAXQByAG4AVQAuAAAA0v+1/7L/vf/F/8n/2f/8/yIANQAzACwALQAxADEALAAoAB8ADgD7/+//7//y/+//6P/p//r/FAAoACkAGAABAO3/2P/A/6r/nv+h/7D/0P8EAEUAeQCKAHQARgALAMz/lP96/4f/qP/I/+L/BAAxAFQAWwBIAC4AHQAWABQAFQAXABkAFwAOAAMA9//p/9f/x//F/9v/BQAvAEQAPgAnAA0A+f/l/9D/u/+v/7j/1v/6/w8AEwAQABEAEwALAPv/8P/0/wIAEwAhACsALwAoABcAAADm/87/xf/U//j/HgA8AFEAWwBMABoA0/+X/37/gf+Q/6n/1v8QAD4ASgA6AB4A9v+5/27/O/9A/3//3P84AIUAuwDQALgAdAAdANv/xv/W/+//AAARADQAXwBxAFcAJwAGAAAA///s/83/vf/D/9L/3f/j/+f/5f/W/73/q/+p/7b/z//v/xAAKwA8AEIAOQAfAPb/z/+9/8H/0f/s/xcAUQB7AHoAUgAdAPP/0/++/7j/xv/e/+7/9P/+/w4AGgAWAAgAAQADAAYABQADAAYACQALABAAGAAbABUAEAAdADYAPwAnAP3/2//M/8L/s/+p/7X/1f/9/yQASQBmAG4AWwA0AAsA6v/T/8X/w//U/wEASQCRALIAnABiAC0ADgD3/9P/qf+T/57/vP/Y/+7/AwAXABsABgDi/8H/r/+k/5v/l/+f/7L/x//a/+7/BgAiADcAPgA4ACwAIwAhACYAKgAkABoAGAAiACoAJAAYABQAHAAfABUACgALABUAFwAJAPn/7P/i/9P/xP/A/8f/1f/o//3/DAAQAA8AFgAkACgAGQAGAAUAEwAbABYAEQATAA0A8P/B/5z/iv+B/4H/n//w/2EAvADTAKgAYQAbANv/nv9u/2D/e/+y//H/KABRAGcAbQBkAEkAHQDz/+H/7P/4/+z/0P/E/9X/8f8CAAwAGAAiACIAHgAkAC0AJQAJAPH/6v/q/+L/3P/o//v//P/n/9P/0f/X/9v/6P8LADcAUQBYAGAAbABjADUA+f/L/7T/o/+V/5z/xf8DADkAUABHACoABQDh/77/mv96/2b/aP99/5z/wP/r/xwASgBpAHUAcgBkAE8AMgAUAPz/7//x/wEAIwBRAHsAjACAAGYATwA7AB0A8f/D/6X/mP+V/5n/pf+7/9T/6P/x/+7/4//Z/9f/3v/l/+v/+v8dAFAAewCMAIIAaQBKACMA9//N/7H/qf+4/9f/+f8MAAwAAAD3/+7/3f/C/6f/l/+T/5j/p//B/+P/AgAlAFAAfACYAJkAhwBqAD8ABgDO/67/rv/B/9j/8P8MACcANAAvABwAAwDp/87/uP+r/6z/u//V//L/CwAlAD4ATABJADsAMQAyADEAJgAVAAYA+P/i/8r/v//G/9f/6v8EACYAPgA6ACEACQD7/+P/tP+E/3n/n//b/w0ANQBgAI4ArQCtAI8AWgAVAMr/jf9u/2n/b/96/5n/0v8SADsAQwA6AC8AHgD9/9X/vf+9/8n/1v/w/yQAZgCVAKQApAChAJEAaAA4ABkADwAAAOT/x/+6/7b/sf+u/7b/xP/Q/9n/4//j/8z/pv+L/4L/ff9x/3H/lP/Z/yIAXgCIAJwAlgB4AFAAJgAAAOb/6v8KAC4APAA3ADQANwAxABgA+f/g/8j/sv+r/8T/8v8SABMAAADn/8//tv+n/7D/z//z/xEANABmAJoAswCiAHQAPgAOAOH/t/+b/5f/rP/P//T/EwArADYALwAXAPD/v/+O/27/bf+N/8P/+/8rAFEAagBuAFwAPgAgAAgA9//x//r/CQARAA0ACQAKAAkA+v/l/93/6/8AABAAGAAfACEAFwD+/9z/xf/G/+L/BQAgAC4APwBfAIEAjABxAD0ABADS/6z/l/+Z/67/zf/w/w8AJQAsACgAIgAYAAMA5f/I/7P/pP+Z/5//wf/w/xAAFgARABUAHwAfAA8AAAD+/wAA+//0//j/BAAFAPL/3v/g//T/AQAEABEANQBYAFoAPwAlAB8AFgD1/8b/qf+z/9j///8ZACMAGwAGAPL/5f/g/9r/1P/W/+T/+f8KABQAGQAfACQAIgAWAAQA9//s/+P/3v/h/+3/+v8BAAYACwAOAAsABgAGAAYA9//V/7T/pv+w/8v/8v8lAFcAdQB3AGoAWgBEACAA9P/O/7f/sP+1/8T/2v/x/wUAHAA3AE4AVwBJACsABwDq/9T/yf/G/87/4v/8/xEAHAAdABwAGQAMAPL/0//D/83/5f/6/wYAEgAgACoAKAAgABgAEAD//+b/0v/N/9P/2v/i/+///f8EAAYABwAMABMAGgAjACwAKgAaAAYA/v/8//n/8v/2/wsAJwAzACkAGAAKAAAA8f/h/9n/2//e/9j/yv/D/9H/7/8FAAMA8P/o//z/GwApAB0ACwAGAA4AFwAbAB0AIQAjACAAGAAJAPT/3f/R/9X/5f/y//r/AQAMABYAGAATAAsAAQD1/+r/6v/y//z/AQAIABYAKgBAAE8ATwA9AB4AAADy//P/+P/1/+3/6P/r//H/9//3//D/4v/V/9P/3v/s//T/9f/4/wEADQAWABkAGAAVABEADwARABIADgAFAP7/+//7//z//f8AAAEAAAD+//r/+v/6//j/9//4//r/+f/3//f/9//4//r//v8BAP//9//1////BwD//+n/4P/y/xAAIAAYAAsADAAaACUAHwAJAPj//P8YAD4AVgBTADoAFwD8/+7/7v/y/+r/2P/H/8D/vf+2/7H/vP/U/+f/5//e/+L/9v8KAAwA/P/k/9T/2f/z/xQALQAxACcAHAAaABoAEQAAAPf/AAAWACIAEwDz/9n/1P/i//X/CgAgACsAJgAYABMAGQAbAAwA9P/m/+v/8//v/+H/2P/f//L/CQAgADEANQAqABkACQD///j/+P8BABMAHQAWAAUA/P///wEA/P/v/+X/4//n//T/DgAxAEUAOQAZAAAA+v/+//n/6f/X/8//zv/S/9j/4//z/wAABgAKABEAGgAVAPj/zf+w/7L/zP/m//b/AQAPAB8AKQApACIAGAAPAAkABQAAAPb/5v/a/93/9f8bADoARABAAD8AQgA4ABwA///3/wEACQADAPz/+//4/+r/3P/j//v/CgAHAAIABwAMAAAA5f/S/9f/7v8HABgAFwAJAAAACAAaAB4ACgDv/97/2//g/+7/CgAnAC4AHAAIAAMACAAJAAQA///6//X/9/8EABEACwD0/+D/4v/x//v/9v/m/9f/0v/h/wAAGgAfABIABwAHAAoABQD8//n//P/+//v/+f/4//b/8v/2/wMAEQAYABcAFQAUABIADQAEAPn/6//k/+b/7v/3//v/+//5//r///8HAAsACAADAAIAAADs/83/uv/H/+b/AAAMABIAFgAXABkAJAA0ADkAMAAkACAAHQARAAQAAQADAPv/6P/c/+D/6f/s/+3/8//8//3//P/8//r/6v/T/8n/1//x/wEAAgAAAAcAFgAlAC4ANgBBAEoARAAuABYACwAGAPX/1f/A/8L/zv/R/8//2P/p/+//6f/p//f//v/t/9L/y//d//T/AAAFAA4AGgAhACcAMwBDAE4ASgA3AB4ADAAGAAEA+P/y/wAAIwA7ADQAGAAAAPP/5//Z/9P/1//b/9n/2P/i//D/9//8/wQADAALAAMAAAAAAPz/8P/p/+3/+f8EAA8AFwASAAQA/f8IABoAHwAZABoAIwAiABMACgARABcABQDn/9T/1v/c/9z/3//p//D/7//0/wgAGwATAPX/4v/v/w0AHgAZAA4ABwAEAP///f8AAAkACwAEAPv/9//4//3/BQAQABQACgD2/+b/5//v/+v/3v/d//T/FgAoAB0A/P/Y/8b/1v8DADIAQgAzACAAHwAoACkAIAAYAAsA7//I/7L/uP/M/9v/6f8GAC4ARQBAAC0AHwAWAAgA9//q/+P/3//f/+j/9f/8//z//v8EAAgAAwD+/wAAAQD0/9j/v/+0/7f/xf/h/wkALwA/ADQAGgADAP3/DAAsAEoAUQBAACUAEQAKAA4AFAAPAPj/1P+5/7X/w//Z/+3/9P/o/9D/yP/g/wkAJQAkABYAEwAdACUAIwAdABgAEwAOAAwADQAUACMANwBFAD4AJgALAPf/5P/N/73/u//B/8L/wf/J/9n/5P/n//D/CQAiAB8ABQDv//H//v8AAPX/6//u//n/BgAXACoAPABJAFAAUwBMADcAGQD//+//5v/g/9v/2v/k//f/DQAeACYALQA1ADMAHQD5/9z/2f/q//7/BAD+/+7/4f/f/+b/7P/m/9f/yv/C/7z/uf/C/9n/8/8HABcAKQA3ADQAJAAZAB0AKQAzADgAOgAzAB4ABQD3//b/9f/m/87/uP+t/6//vP/P/+H/7P/r/+H/1//V/+T//v8UAB8AIgApADkASgBUAFgAWABNAC0A/v/Z/8z/0v/X/9b/1//f/+X/4//h/+f/7//w//D//P8MAAkA6v/K/9f/DgBGAE8ALgAMAAEABQAFAAAAAAAFAAYA/f/4/wIAGAAhABcABwAAAAAA/f/2//P/9v/7//v/+v/8/wAAAAD9//z///8BAAIAAwADAAEAAAAGABgAKAApABwACgAAAP///f/3//H/8f/4/wQAFQAoADMAKQAIAOb/3v/3/xUAHQAMAPv/9P/x/+j/4//v/wIACQAAAPT/9v/9//v/8v/x//r/AAD8//j/AAAIAP//4v/L/87/4v/1/wQAHAA3AEEAMQAcABcAGAAFANz/vP/B/9//8//t/9z/1f/f//f/EwAjABwACwAOAC4ASwBCABcA8//j/9f/xf/E/+j/GgAzACwAIwAqAC0AFwD0/+T/7v/6//f/7f/l/93/z//D/8r/4v/3/wAABwAgAEEAVQBOADQAGwAKAP7/7v/f/9r/4v/z/wAAAwD///j/8//y//X/+v8AAAYAEwAnADgAMQALANz/v//C/9b/7v8HAB8AKQAZAPv/5P/g/+b/7f///xwANgAzABUA9//t//j/AwAEAP3/+P8DACMARgBMACcA7v/E/7v/x//T/9n/4v/0/wQADAAIAPv/6v/e/+H/8f8HAB8AMgA5AC0AEADw/9n/y//A/7r/xv/n/wgAFgARAAoACwANAAwAEQAoAEYAUgA/ABsAAQD8/wAA/f/v/+X/7/8MACcAKgAUAPj/6f/y/woAHgAZAPr/2P/Q/+j/BAAIAPf/6f/z/wsAIgAvADQALwAZAPb/0v+7/7H/sv+9/9j//f8YAB4AEAAAAP3/AQAJABAAGgAhABkABQD7/wIACwD8/9v/0f/w/x0AMwAuACgAMAAzACMACwD9//P/3P+6/6X/r//U/wAAHwAvADEAKwAiABgADAACAPz/8v/b/7r/pv+u/8v/7P8MAC4ASgBOADgAGwALAAcAAQD2/+z/7P/w//L/8v/v/+j/4f/l//b/CQAWACAAMgBIAEwANQARAPr/8//1//f/+v/9//f/7f/q//T/+v/u/93/4P/6/xAACADt/9j/3P/s//z/BwAQABIACwACAAEACAAKAAAA8f/u/wAAHAA1ADwAMAAaAAMA8//q/+n/6//p/9r/xf+2/7n/z//p////DAAVABoAGwAZABgAGAAYABYAEgALAAQAAAD+////AAD///7/AQANAB0AJAAWAP//7//u/+3/3//N/8z/4f/3/wAACAAXAB8ADwD0/+7/DgA5AEcAMQAQAPv/9//7/wAAAAD9/wAAEwAyAEEALgAGAOf/3P/d/+D/4v/l/+X/5P/o//X/AwAIAAQAAAADAAcABwADAP7/+v/4//r//v8BAAIAAAAAAAIABAAGAAUAAAD4//P/+f8AAPb/0v+w/63/zv/3/w0AFQAZABoAEAAJAB8ASwBkAE4AKwAtAEcANQDY/3f/b/+8/wYAOQDEAP0BYAO2Az4Cd/+2/AH7Yvo4+u35dvl6+df6r/3DADcCagHP/3j/4wCrAl0D+wJ1AlICgALzApADqgOQAukAgQD7AXwDwwJFAOb+OwBNAvcB2P6u+/b6O/wm/WH8rvrL+cz6bv1FAKEB6wBd//D+XAB6Aq0DkgPpAnYCgAIEA7MDvQONAuoAiQDmATMDZQIQAP/+lwC7AjICxv7D+yj8Ov9/AckAW/4a/Uj+egCGAcQAWf+w/hj/2v83ABwA8f8EAFUAswD3ABMBAgHJAIYAYABjAGwATAABAMX/yP/1//f/of8m/+b+C/9o/7n/6P8IACgAOAAzACgAKQAtAB4AAADr//H/BgAVABcAFgAXAAYAzf9k/+/+r/7R/jj/kP+i/5T/sf8DAE0AZQBdAE8ALgALADsA5gCNAXQBlQDJ/8P/PQBzACYAuP9h/wv//P7n/7wB6QK4AZf+IPx2/Nr+jgDx/xD+M/1Q/lkArQGbAbAA9v8WAOYAggEmAQoATv+j/2UAhwBEADQBEATtBqsGYwLN/J/50fnw+hX6Dvdk9K/0LvjH/Pr/7ADaAIkBXgMLBUMFWASkA68D3AMMBF4FTQjTCg4K9QXxAeQAjAFPACr8Nfig95v5dPpi+LL13/Vy+Zb9YP+0/tn9vP4pAXwDhASIBKEEXAU0BlEGlwXQBK0E4wSFBEAD2gE8ATkBzAB6/+/9Gf3z/Lr8GfyP+6H7H/xy/HD8fPz0/ML9i/4S/1//pv8WALYASwGLAXgBagHBAXEC+gLnAk0CzQHtAYQC0gJeAnsB4gDVAO0AsQAyAMb/gP8k/5j+GP7t/RL+Qv5O/kT+Uf6Y/g//g//E/9b/9f9IAK0A3wDRAL8A1ADqAMEAZgAnACsAOQD9/3P/8v7E/tb+3f6z/nL+UP5b/oL+sf7j/iD/cP/R/yoAZgCJALMAAgFiAawB0QHiAesB2QGmAXcBcAF8AV0BAwGpAIkAlgCRAGIALAATAAwA/f/n/+L/8/8BAPv/4P+8/57/jv+H/27/K//R/pv+qv7V/sX+XP7a/Zj9r/3r/Q3+Cf4D/iL+aP6z/tz+2f7K/tj+DP9M/3n/j/+k/8f/+f8uAGYAogDjACwBjwEXAq4CLQN9A7cDBQRtBMQE4gTTBMAEtwScBFYE9gObA0MDyAIeAmgBzwBMALH/4/77/ST9aPyq+936G/qH+SL5zPh0+Cz4E/gt+Gn4s/gP+YP5Evq5+m37GPyq/Dj96P3G/qb/SwCxAA4BnAFhAjUD6QNwBO4EtQUNB+EIsQr+C8cMfg1wDl4PvA9QD2kOdA1/DEILiAl0B0MF/gKHAOX9U/v/+MH2XvTx8eHvau5U7Vjskutm6+jryOzE7Qfv3PAr85j1+/eC+kL99/9LAjgE4QU+Bx0IeAiFCGgIAAgwByMGKQVXBIYDqALuAaYB/gEDA6YEswbTCMkKoQySDpgQVxJiE5wTPROAEmARrQ9NDV8KEweDA73/4Pse+Jn0VfFY7sLrrOkW6ADne+aX5jXnIOhT6ezq6+wS7z/xqPOM9r/5yPxr/+MBfwQrB5EJgQsODWwOwA8RETESuhJeEjERoA/4DSkM+gliB4sErgHv/lX80vlP9/T0TvP58g30+fUN+B76kfzJ/5IDNQcPCiEM+A37D90R3BKHEjIRkg/8DS0MqglWBpYCA//0+0f5l/bA8yrxZu+M7hfuhO337Aft/e1y783w9vFk84D1Hvis+tT81/4yAf8DtgauCLUJHApHCkEK0Qm9CP8GtAQTAlr/rvwE+k/33PRi85Xzh/WP+OP7SP8mA+0HWA1zEmAWDxkrGz4d+B5rH/kd+RpjF90TKRCJC7QFSf9I+Sz0i+++6sXlcOGc3lzd8tym3H/cJd0g3zTipeX06FjsXvAz9Vj6G/9CAysHQwt+D00THBbGF5kY9xj0GEwYpxYAFLsQWw0GCm0GNgKL/RX5XvVa8sDvx+1C7cPuzfE/9YL4IPzsANEGlQwDEQAUbxYKGXUbiRyGG+QY6xVmE+IQRg0rCHECXP1L+Yn1RfGX7HHonOUE5PDi2OHz4ObgEuIz5LvmZ+l47D/wp/Qv+WX9SQE1BU8JUA20EDwTFhWCFm4XdxdbFkEUiBFcDqsKcAbpAWL95/ht9Evwau2+7GjuevHO9B74NPzkAdUIhw+dFAQYyxrHHY8g0SGfIGQdlBlQFlwTcA+lCZECz/ts9vvxQ+3J52fibd5N3E3badpp2RPZVNpQ3UbhV+Vm6QPuivOK+ST/9ANUCL8MIBHxFNgX9BmDG3IcaBwqG9oYyhU9EkIO1wkCBdj/ZPq+9ELvweo96DroPeor7VzwOPSp+dAAfQgRD+cTxBe+G94f4yJ7I6IhuB4mHPcZ4RayEakKUgMO/eH3u/LN7IzmPOG43afbCNpV2BLXMdcS2TTc1d/E41/o6u0S9C363P9BBZwK1Q+DFFYYURuWHQ4fZB9WHgcc4hg9FSMRgQxuBxgCePxY9ujvPOrn5sPmF+lA7Ezv6/KC+FUA1AjdD7cUjRjkHLghVSUMJvEjxSArHg0czhgRE0QLUQPS/J73PPKx67rkD9+h27rZ8NfK1THUZ9S21kPaE94B4q7mnuyC8276sQBkBg0M2RFBF4obdB5MIFwhfCFGIJ4d3xmIFdYQwAtCBncAbfoO9IPtqOfk4y7jF+Ub6Crry+5v9H38YwXgDC0SjxadGzohjiXuJpElPCNiIbcfnBziFh4PKgdyALb6mPRc7dnlrd+f2/zYjtYD1DPSK9Ih1F/XEdsF363jeulC8Fr3Hv51BK0K9RD4FhUc5B93IgskkyTCI3Qh/R3QGQQVYg/4CE4C0ftD9UvunOci42Piy+Qi6PjqT+5I9EX97wZzDlETkBcOHTEjfSc9KC8miyOkIbYf4xs9FdEMtQQY/kz4yPEI6lDia9zX2HnWBdR90RzQ7dDJ06fXvNsn4IXlIOyD89z6rwEeCIMO2xSfGjEfXSJXJEolCyVQIyMg9BsjF6MRQQs/BFr9/vbB8B3qxePK39LfPuOl53Lrl+9E9u3/QQpXEosXzBsOIfMmIyvKK2Ap/SUpI3sgPhxUFXUMmAMu/Ov1Y+/H5+7fkNmV1VDTbtF8z1HOGM8d0pbWgtuO4Cfm1OyF9IL8BATPCiwRYxc2HfkhKyXMJiQnSiYdJJQg9RuNFmgQgQk6Aj77y/Rf7pXnYOHi3YvedeIr5z3rw+/e9twAWgt+E7cY9RwrIv0nGyytLBoqdiZaI20gARzvFOALwwIR+530Ee6Q5sbeVdhF1CDSoNAdzzbOG89M0ibXk9wJ4tnnmu5m9pr+XAZCDX0Taxn3HowjjibYJ6knOCaGI50fsxr1FFoO+QZw/4z4cvJv7Cfm0eCv3tzg5OUV603vHvTC+xoGRhBjF3YbHB9XJBgqSS0dLOsnmyOLIFwdvxccDz0Ffvyh9XfvdOh04O7YjtOr0CnPvs1XzB3MN86a0iTYzN2H4xHq6fGx+m4DVgtLEqgYpR71I/AnFSpcKgwpbya7IhQeeBi6EecJvgFd+hj0Du5h5xvh/t3a30Xlzuqu7r/yHvoiBWcQHhjsG/EeAiRdKm0uli3rKOAjpCAEHgEZPxCMBRL8PPWm7/bojeA52GfSyM/dzrTN88soyxjN7NEO2NLdEOMO6ebwNPpkAy4LnxGsF+EdqiPXJ7kpmikyKOUllCIKHkEYYhG8CfIBz/qL9HDuxudk4c3d8t7i42LpVu0k8fv3vwJaDqkWxBq6HdsizinSLscubyp6JYQigCAoHLQT1gj+/vH3WfKi6+3iAtqF02TQMs/MzZnLG8pby9bP/9XR29XgceY17vr32QH/CUUQ/hVAHJkieie9KaUpXyizJkskSyBxGnETPgxCBV3+evfK8Hzqt+Qm4BXeft/G4wfp/u1z8yX7RwWODzoX5Bu4H8YkeioULqUtFSoRJh8jLSD7GrUS6Qj1/8v4Y/Iv6+3i+9oK1ZfRo8/gzRzMfMtKzaHRR9fv3HLiw+ir8Mj5xAKCCv4QBRchHdEi4iadKHIoaSfiJTUjnB5LGEwRZgqQA4b8gPUE7zrpC+T230reB+Cg5FPq+u8t9kL+Qgg2Es0ZnB5UIqwmQyvoLfgsJCmtJPkgPR2cF1oPwQXd/JH1C+/75yTgstgh09/PFM6rzH3Le8u2zULSItg43kbkAesT8zP8MAUEDZwToBlyH5EkAyhQKd0oYyceJa4huBx2FpMPighmAS/6RPMa7b3nBuNv30feluDH5fjr4PEU+AcA3Qm5E24blCCdJOYoDy1iL6ouYisXJ9IiNB4TGOcPegZN/Tz17u1+5q3eVdeg0frNz8tSymvJ08lLzMrQgdab3PjiGepY8k37/wO5C4YS2hjJHrkj7yZJKD4oPyc6JdIh9BwJF4kQoQlMAsb6mPMx7ZvnzeJV31Heg+Be5VnrX/HQ98H/QwnCElgaoR/cIy4oICwXLiQtBSo7JnEi/x3tFyEQiwdI/7n3c/D16FvhctoL1U7Rsc60zHzLusvrzdLRsNb027bhbehE8K34wgACCKYOIRVYG4ogAyTIJW4mVSZEJcAiqh5tGZ0Thw0fB1MAXPm68tbs0efC4zDh6uBF45Tnt+wv8n/4OgD1CFERLRiVHU8iuiYvKqUrwionKMQk8iBNHE4W9w7xBg3/sPei8HPpGOI327vVBdKgz97Nt8zdzPfO3tLW11LdY+NX6inyWvpQArMJcBCIFucbXiCtI6IlLyaBJdsjZSEMHqUZOhQlDuEHvAG6+8v1DfDZ6qjm5+Pv4urjveYD60/wbfZp/SwFMg2nFPkaLSCKJAMoEyo2KnQoUiVOIYAcuxboDzsINQBn+CPxYerm48bdh9i91HrSUtHv0IHRe9MC17/bL+EJ503tDfQy+2ACFQn4DgoUfxhNHBAfcyCUIOIfkB5mHCMZ8hRVEK0L9gb7Abn8fPe38q7uXOuR6EDmseRq5NzlH+np7bbzGvr7AHkIeRBTGBYfNSTdJ30qEiwRLP4p/SW0IMUacBSgDS8GO/5J9hTv/Oi849jeUNrC1r3UItRb1BfVnNZi2XzdheIB6K3tnfP5+bMAZAeADcUSTxc/G1seOSCsIOcfKx6DG/AXoxPxDhMKIgVHAMn7zvdB9ADxHe7T60bqY+kA6Q3pq+kg67ftnvHG9uP8kAN5CmYRLBiNHhskSSivKkUrWyo9KN8kBiCzGWkS7grIA/D8GPY/7+roxOP93yLdrdqi2IPXptfT2JXaxtyo33vjN+iW7UTzB/nX/scE0QqUEJAVlhnOHDUfaCAbIHwe5xtjGN0Tzg4TCvoFEgIg/sf6tPhx9831YfMD8YDvpu7l7Wjt7u3P77jyQvZI+o7+wgL0BocLXBB1FPYWVBjnGUUcfR5LH6se3R3UHfcdnhyxGLYSLAwBBtP/sfh78DroUOFi3AzZZdbg093RgNGU04TXrNsE3zfiv+b+7Lvzh/k+/uMCSwg/DtETMRgqGyUdoR6WH1IfKB1KGbcUQxDkCxkHxQFx/NP3SvS48Z3vZu3b6mLovOZS5u7mGujW6cHspPGy+CoBzAnUEZ0Z5yFiKkcxxDSvNGYyCi9UKlYjERq9D8YF2/zi9H3tW+aL37HZttXR0yDTdNKr0dTR7dPD1zfckeAr5d/qBPIP+hQCcwkdEFAWDRzbIAokSSXyJKsjxyEOHzAbVhYeESMMhwcJA13+Z/lX9Jzvs+vL6JbmrOQv4+vinOQy6OvsOfJM+K7/hAhCEvEbmySSK4wwkjOpNIAzqC85KRsheRj3D5YHQv8299XvVenD4yjfdttm2KvVVNPV0ZLRfNJE1NnWjdqy3zfmru2b9a/9uAV2DYUUeRoQH0QiLiTZJDUkQSIzH2obMxezEvsNHAkkBBT//fkm9ePwS+0r6mbnR+VZ5Ojky+bC6dXtQ/Mg+iACyQqUE+cbESODKAQsoi1uLV0rhCc1Iu4bMRVsDvsHBQJu/Pn2nfGP7PrnwOOY32vbjteR1OXSpNKo09TVQ9kh3l3khesJ84/69wESCX4P1RT3GPob5h2nHjkeyhyZGsYXYxScELIMugiGBOL/8/o09hDyj+5468vo8OZr5nTn3ul27T7yV/iy//UHoRAvGQ8hmyc3LJgu0C4kLbgpkyTiHTsWcg4jB2cAG/o+9Arvj+qL5q3i7N5022LYxtXm0znTFtR11i3aNd+E5cLsWfTU+/8CoQlOD68T2RYkGawaPxvAGnQZvhe3FS4TGBC2DEcJsgWrASn9kfho9Ofw/O2c6wXqm+mW6unsevBV9Yv72AKhCk0Sohl9IFEmJSpUKyQqdifNI/0e3Bj7EWULrAWWALj7FPf08k/vt+vb5+HjGuCc3GXZu9Y51VjVI9dY2sbeWOTf6vTxE/nM/9EF/QpPD9sSqRWoF9EYQBkqGaEYjxfgFakTDBH6DTgKtgXCAN/7XfdC84zvf+yO6gXq5+om7eTwQPb0/E4EsgvwEvIZIiBzJDom0yUlJJsh7B3sGD4T6A1YCR8FvgBI/Bb4JPT/72Driub14dfdMdo613LVSNW+1onZZt084uPnAO4c9On5Wf9tBBYJOg3ZEAYUwhb1GIEaVxtoG6caFRnHFscT+Q9TCyQG+AAs/LH3bPOa77nsEeuN6jbrdO2y8bf3tv4SBsYN0RVqHTcjaiZpJxInnCWAIpQduxctElINpgiuA6b++vmI9bbwReuj5WPgpttX17TTY9Hh0CTSytSW2HrdTeOj6f7vG/b1+4wBywaUC+QPyhNKF04apRwSHmkepx39G5EZShbuEYwMrQb0AKH7j/bD8antt+r46Dzosej56oDv3/U2/f4ERQ3lFeUd6CNMJ4woZyjdJmsjLB5LGA4Tqg5nCskFIgHX/ID4TfMV7ZvmseB729jWK9NL0ajR4tNc19bbSuFl537tGfM7+CP94gFiBp4KtA62EoUW3hlpHNUd8R3VHMEa3RcfFIIPVAoZBTYAtPt194vzN/Cs7eXr2OrV6oPsV/AW9gD9kATIDI0V4B02JLYn2yiIKM0mFiODHXQXVhJKDmkKLgb9ARn+yPkV9Bft+OWw30LaatWg0eDPkdAk09DWT9uh4G3mCuwh8ez1w/qi/1gE6QiADRISRBauGRYcTx0oHaobOhlPFvcS8Q5ICo8FUwF1/Wn5GvUt8UXuUezv6m/q7esr8KT2If4GBo0OlBe9H00ltifUJ5Mm3CM4HysZOROFDtsKYAfAAz8Awvx++OHyYOz/5T7g9No41uDSztEF08LVbdn53WHjI+mV7obzSfgl/f0BogYfC58PFBQhGFEbTR30HVkduxtQGQ4W1hHUDJwHsgIP/lj5kvRX8DTtGOuo6Sfpleqo7un0LvzVAxwMABVOHVQjYSYxJ6smvSTiIHAbzhUnEWgNyQn8BUkCp/5c+tT0be4S6D7izNzN1wfUVdLM0s/U3Nfk29zgVOa068TwtvW++tH/xgSXCU4O3RICF1gafhxEHcccUhsTGfoV7REjDSUIZwP1/pX6UfaZ8uLvI+4W7ebsau5d8mj4W/9gBqANXRXGHEUiAyWdJQ8lYiPuH8kaMRVaEEMMKQjFA3n/aPv59pvxleu/5Yvg1tuh14PUK9Os05DVdNhO3BHhYObE6wbxQfaS++cAFgYCC6UP+RPXF+gayxxbHdAceRteGTcW6RHkDNgHGAN9/uj5vfWO8m3w7e7v7TXutvB49Wr7hgHXB+MOWxbLHOUgsyIhI6EiuSD+HBEYKhPwDhEL/warAlb++fk69d/vLuqr5LTfatv918nVHtX71RnYL9sM34DjRugf7QXyE/dO/I8BqwaQCzwQiBQgGKwaABwwHG8bzRktF4UTHg98CvkFlAE9/TD54PV286/xUPCt75Lwk/OC+J7+OAUuDJYTERuOIfAl7CcPKOwmcyRQIMYazBRJD14KmAWXAF/7FPa38DDrhuX33+naydbq02jSPNJe09jVlNkz3i7jMehD7ZjyOPjm/V0DjgiODVEShha7GZ8bLRyPG/sZjxdKFDoQqgsTB80C1/4F+3f3pfTa8t/xS/E88Xryu/Xj+g8BagfBDUcUyBpcIPkjRiW5JOwi/R+8G1oWoBBiC9AGggII/k35cPR371HqEOUB4Ifb+9eY1X7UuNRJ1ivZL93u4e3m+Oso8Z72MPyEAXAGFgugD+ITaBfKGewa6hruGQ0YShWqEVoNuwg+BBYAMPyC+Fv1MPMU8qfxn/Fe8q/08/im/toEAwstEW4XUR3nIXUk7STOI4EhFR6AGSAUug7tCa8FeAHf/Oz33fK/7W3o/OLn3crZ+dZw1SLVMNa22IDcBeHG5Zjqmu/b9Cr6Rf8TBLUIRw2oEYAVbRgxGsEaPRrJGHIWMhMgD5kKGAbmAfr9QPrv9nX0AvNV8hXyaPL581b3Wfw0AjAIIw4yFCYaNh+FIsojXiO4IfseGRtNFjoRhQxQCDIEtv/A+oz1SPDj6lTl699K2/jXCNZO1cfVptf52lbfFuTU6KftyvIu+HX9UwLiBmwL+w8mFFcXRBkMGvAZ+xgJFwoUNRDqC38HHAPY/tD6TPeg9PHyE/LE8SPyx/Ms9xT8qAFCB+EMvxKXGJ0dHyH8IngjtyKlIEMd3hj/ExYPQgphBT4A1vpW9e3vn+pg5WLgF9zg2MjWqNWF1aTWL9np3Erh9uX46nnwXPYu/JEBjAZdCwAQDBQLF+kY5hkqGpkZBhh+FT8Seg5ICsoFQAHq/AD5xfV48x/yiPGn8d3yqfX/+S7/gATWCWYPERUtGg8ekSDnISAiCyGSHgAbzxZUEqMNsgh7Awv+ffj28o/tU+hb4+3eY9vm2F/XsNb61oXYWdsW30PjvOe27EfyG/iw/dECrQdmDLYQHhReFqYXPxgtGD0XWRWuEnwP4AvgB5sDWf9r+xf4jvXb8+fypvJZ83b1LfkI/jwDZQitDTMTfhi/HI0fFiGQIdIgoB4xGyEX5RKEDtsJ6QTL/436MPXJ74HqfOXl4AXdJ9pe2ILXiNeq2Brbnt6u4v7mtesI8cP2ZfycAYUGSAu0D14TBRa3F5wYtxjzF00W3hPCEBQN+wiyBHMAdfz4+EH2c/R28ybzofNQ9YP4/vwMAhoHHwxUEYkWBBshHtofgSAaIFUeJhscF+cSuA5JCnIFaQBq+2j2OvHz6+LmUuJw3mDbSdk72DnYUtma2/TeAeNq5xzsMfGU9vD79gCgBQMKEQ6DERcUwhWeFr4WGRanFG4Sig8cDFIIXgR1AM78pvk997P16vS09Cj1sfal+cr9awIAB5ELWxAoFT0ZChybHT8e6h1GHFEZoRXdESAOHgq2BSABlfz99yrzK+5S6e/kM+E33hTc29qd2nHbY91Q4O/jBOh/7FfxYPZT+wAAXQRgCPIL8g5SEQQT/xM9FM8TyRIrEeoOEAzNCF4F7QGa/pn7NPmd97z2WPZx9mf3pPkZ/S4BVgV7CdcNWhJ2FpgZoRvEHAgdIhzqGbsWNBOjD+QLwwdYA+T+dvru9UHxouxX6IzkVOHH3gTdHtwk3CvdON8l4rLltOkk7vPy5Pes/CEBRgUSCWAMBA/2EEsSIBOBE2MTrBJGETkPrQzLCakGVQMCAAz9vvof+f/3T/dZ95D4HPuc/ngCXwZsCrgO9xKVFjcZ6hrHG6AbMBqVF1wUBBGXDdQJqwVPAff8lvgS9H/vG+sc55bjmeBG3sTcK9yG3NrdI+BA4wbnT+v/7+r00vl//tQCxwY/ChoNQw/JENARcRKmEk0SSRGcD2ENvwrKB44EOAEb/ov7pPlE+Ef33vZ592j5evwhAOwD0AfvCykQCBQYFzwZhBrcGgQa9BcOFdMRew7qCgoH+ALk/tD6o/Zd8iruPOqt5orj8eAN3//d192b3k/g5eJA5jbqmu5A8/r3mvz5AP8EkgiZCwMOyg8DEcsRLxIXElwR7A/gDWILjQhpBRMC2f4Q/On5VPgu94r2vPYd+K/6DP65AYEFdwmeDa0RMBXlF8EZtxqaGlMZGhdYFFARCA50CqoGywLd/sr6kvZW8kbuguod5zLk4+FT4Jvfyt/h4NHiguXW6Kzs2/Az9Yf5t/2pAUgFdwgeCzENvQ7dD6YQChHhEBAQnQ6rDFUKpAeoBJkBy/5+/Lr6Yvlv+Br4u/h3+hb9KQBlA8AGTArqDUYRDhQgFnYX9hd2F/cVvRMiEVMOQAvYBzUEfgC+/OT46vT58Eft+OkY57fk+uIH4ufhjOLj4+rlnOjk65jvjvOb95n7ZP/jAgYGuQjmCoEMng1fDtwOCA/ADuwNkgzMCq8ISAalA/kAjP6V/Br7/fkz+fH4h/ki+5f9hACfA9QGLgqaDdIQhxOPFd0WWxfoFoQVbxP6EEoOVAsQCJ0EGgGI/dP5BPZA8qjuUOtP6Mnl3OOW4gTiROJr42zlIOhp6y3vQvNr93T7Qf/FAuoFkAiiCiMMKg3XDTsOUg4BDjQN6gs4CjQI7AV2A/kAsP7O/Gj7Zvqx+Wv57/l8++v9ygDFA9QGAgonDfUPPRL3ExMVYBXBFFUTXxEMD2cMeQldBigD3v97/An5m/U/8gDv+OtO6R/neOVh5PLjSeR25WnnA+ol7bfwkvR4+DD8pf/fAtsFaQhWCpcLVwzKDAcNCQ2/DBoMFAuzCRIISAZaBEoCPABy/hX9E/xE+7763/r2+/f9hQBPAzgGPgk/DP4OTREYE0QUpRQbFL8SzxB/DuQLCQkGBvUC3/+9/JL5cvZm83Twqe0q6xvphudq5t/lD+YT59zoSetJ7s7xrvWb+Uz9pQCyA3MGyQiHCpsLHgw7DB4M2gtrC7oKswlbCM4GJgVhA3sBk//l/aD8t/sD+4/6pfqQ+1T9r/9XAiMF+wfACk0NgQ88EV8SzRJ5EmkRtg+FDQELTQh7BY4Cmf+w/OT5L/eG9O7xf+9R7Xjr/Onq6FLoS+jw6ErqTezf7ujxTfXi+Gb8oP99AgYFOwcBCTcK1gr/Ct4KmAo2Cq8J7QjkB6IGQQXLAzwClgD+/qr9sfwE/JD7cfvj+wv91P4CAWID1QVHCKAKvwyIDuQPvBD2EIMQZg+/DbkLeQkSB48E/gFw/+/8fPoS+LL1afNJ8WHvvu1p7G/r5urn6oXrxeyd7vzwyvPi9g36E/3O/zMCSgQSBnoHaAjaCOsIzgipCIEIPAjBBwoHJgYgBfgDrgJUAQ0A9f4S/l393Py4/CP9Of7g/9wB+AMRBhcI9wmVC9kMsg0PDt4NFQ3FCxoKSAhxBpgEtALIAOf+Hf1k+6n54PcS9lL0rvIu8ePv4+5D7hXuZu5H77rwsvIO9av3YPoA/V7/XwEGA10EaAUZBmkGZAYwBvwF5gXsBfMF3QWcBTIFoQTmAwMDCQIUATYAb/+5/i3+//1d/lL/uQBkAicE4gV8B94I/AnUClkLdQsTCzkKBQmhBzAGyARtAxgCwQBs/xr+yfxq+/D5XvjK9k71AfTu8iLyqvGR8d/xlfKw8yb15vbR+MH6kfwu/pT/ygDSAawCUgPCAwAEHgQ5BGsEsgTyBAgF5QSTBBsEfAO3At8BGAF4APj/jf9H/0z/u/+NAJwBwALmAwMFBgbdBoQH/QdECEcI+AdbB4YGkwWWBJkDoQKoAakAqv+0/sv93vzb+8j6u/nE+OX3IfeC9hb23PXQ9ff1YPYM9+b30vjA+an6hftS/BT92P2e/ln/+v99APcAgQEpAuUCkgMPBFYEdgR+BG4ERQQVBPED1gOtA3cDWQN1A8kDLwSMBOEELgVeBV8FMwXrBI0EDQRoA7MCAwJhAcoARwDo/63/hv9k/0j/M/8T/8/+Z/7v/Xj9+/xz/O37fvsp++D6nvpy+mz6hPqp+s769vol+1v7mfvo+038w/w8/bD9Jf6v/mH/PQAsARQC7QK7A3YECgVuBbAF3QXqBckFhwVABf8EuQRrBCgE/QPVA5YDPwPmApMCOALIAUkByQBLANH/Yv8D/7D+Zf4p/gX+9v3u/ej95P3f/dP9w/26/bn9qf12/Sj92fyb/Gn8OvwP/Pb79fsI/Cf8TPx4/Kr85Pwm/XT90v07/qL+/f5T/7X/MADAAF0BBgK9AngDJQS1BCIFawWMBYAFTwUEBaUENQS5AzgDtQIzArgBTQH1AKkAXAAMAL7/d/82//T+sP5u/jP+/f3L/aT9k/2i/c79B/5A/m3+hf5+/lr+Mf4c/iT+Nv48/jv+Sf5o/oP+jf6Y/sb+HP97/8T/6//6//z/AQAbAFMAoQD5AFoBwgEaAkgCSwI+AjACGALuAcwBywHYAcYBggErAe4A0AC5AJwAggBzAGUASQAfAPP/zf+v/5n/iP96/2z/Xv9Q/0L/Mv8n/yb/MP89/0z/YP90/3n/af9Q/0H/QP89/zb/O/9d/4//uf/K/8j/u/+n/5X/mf+//wEAUACgAOgAHAExASsBGwENAfoA4QDNAMcAwACiAGsANAAWAA8ADgANABAAGQAfABoADAD9//T/7//p/+D/2//l/wAAJgBGAFkAZQBvAHQAbgBcAEMAJgAIAOz/0/+8/57/dv9Q/zz/P/9R/2P/bP9v/2r/Xf9L/zr/N/9L/3P/pv/Z/w4ASwCGAK8AuQCmAIMAWQAxABUAEAAcACwAOQBMAGcAdQBhADEABwD2/+7/3P+//6j/lv99/1z/TP9n/6f/7/8tAGMAlAC1AL0AsQCeAIkAbABNAEMAVwB5AIcAbwA8AAYA2f+2/6H/nv+k/57/ff9I/xP/7/7f/uL++f4r/3X/xv8AABYADgD9//H/7//7/xYAQQBsAIAAdwBeAEoAQAA9AEQAWgB4AIYAcQA9AAUA2v++/67/sv/Q/wIAOABgAG4AYwBDABwAAwAHACsAaACoAM8AxgCKADcA9f/Z/9z/7P8AABUAIAAPANz/k/9O/yT/HP8y/1//kv+7/9D/0P/G/77/vv/I/93//v8gADwASgBOAEoAQAA2ADQAQgBVAGAAYwBmAGMASQAWAOP/zP/Y//P/CwAVAAcA3f+o/4f/iP+i/8f/7f8NABoADgD4/+L/yv+z/7z/9f8zAD8AKwBaAAcB0wEJAksB7f+e/uP93v1r/kH/CACDAKIAggBGAP7/s/+D/4f/wf8SAFIAXgAzAO3/vv/L/xMAdADBANoAtQBiAAQAwf+i/6T/v//q/xIAJAAaAPf/t/9u/4H/mwAgA4AGSwkCCuoHQQMI/cn2WPIU8Q7z+/Yq+4j+wQDBAXsBWwBo/67/cQEEBE8GfwdRBxcGhQRXA/MCPAPHAyAE7QP6AkUBCP+w/L/6oPmG+Un6dPt8/A39Hf3Z/JD8ofxI/WX+h/9HAKMA6gBlARECtwIuA3QDnQOyA50DOgOGArYBIQHyAAMB/ACcAOD/7/79/Tz9yfyp/Mb8Bf1Z/bv9F/5b/on+vP4L/3v/AQCVACEBgAGNAUMByABPAAkAFQCDAEEBDQKUArECmgK3Ak0DLQTJBIcEFAODAEb9Dvqa91/2S/bg9rD3p/jr+X77JP2t/jUAAAIXBCQGpwdPCBwIWwdwBqYFDAWCBOUDKgNPAkMB8f9f/sv8jfvo+uD6Pvu6+x/8XPx1/IP8tPxD/U7+sv8JAfkBbAKZAr4C7QINAw8DBQMEA/8C0AJnAtQBNgGYAAAAf/8r/wP/5v6t/lP+7v2g/YX9qf0G/nz+5v40/23/oP/K/+L/7v8DADoAjgDjABIBCAHUAJcAbgBmAHkAnAC/AM8AwwChAHkAUQAsAAkA8v/i/8f/j/84/9b+h/5d/l/+gP6k/rP+tf7M/hT/jf8bAKoAJwF+AZ0BiAFkAVQBWwFbATwB/ACsAGIAKAD6/8X/h/9P/zv/WP+W/9L/7f/f/67/b/9A/zn/Yv+y/xkAhQDlACABJgH7AL4AlQCbAMoACgFAAVUBLQG5AA4Ac/8r/z//cf+A/2P/Qv8+/1P/av90/3L/cP99/6j/6f8WAAYAu/9p/07/dP+7//f/FAAYABMAEQAcAC0AOgA4AC4AKwA3AEkATgA7ABUA7//c/+D/9P8BAP7/6//U/8D/r/+k/63/0v8HADMAPgArAA0A8//k/+r/CgA8AGAAYABBACAADwALAAUA/f/5//z/AAAAAPT/0f+V/1P/Mv9M/5L/1f/x/+f/1P/P/9////8nAEkAVAA/ABwABwANABwAGQD9/9n/yv/W//D/AgAJAAUA/f/5/wAAHABHAG4AegBjADQACADz//b/AQAFAP//8//n/9//4f/4/x4AQQBNAEYAPQA8ADoANAA0AEQAVwBWAEAALAAoACQADQDp/87/yv/Q/87/wv+y/6X/nP+b/6X/vP/T/9n/wv+W/3D/b/+T/77/0P/U/+r/HgBgAJUAtQC7AJwAXgAvAEIAjwDRAMcAcwANAMj/r/+5/8//1/+8/43/dv+a/+b/JwBEAEkAUABiAHQAeABvAFwAOgAGAMv/pv+u/9n/AAD8/9L/qf+f/7H/x//W/97/3//M/6X/gP93/4v/of+q/7P/z//0/wIA7//O/8z/9v8wAFMAUAAyAA0A8//x/xIAVgCcAL8ApwBiABQA5f/k/wYALwA/ADEAFQAAAPn/+P/4//b/9//4//f/9P/v/+j/3v/N/7z/uf/R//7/LwBQAF0AXABPADEAAwDa/8r/1v/m/+f/2v/O/8n/v/+w/6f/sv/H/9L/zP/J/97/AgAXAAgA5v/U/9//9P8CABAALwBXAG0AYgBJADwAOwA4ADIANwBGAEgANwAyAFUAhwCGADsA2/+s/7v/3P/t//P/+f/1/9j/tP+o/77/3v/0/wMAEwAcABIA+f/Y/7T/mf+d/9H/GQBGADwADwDm/9D/wv+x/53/i/+I/6n/7v8rACYA2/+G/2v/kv/T/xAATgCPALUApQBqADEAFQAVACUARgBvAIUAdQBOADIALAAmAAoA6v/p/w8APABHACwAAQDa/6//iv+I/73/DABBAD4AGgD4/9n/t/+i/7z/AAA5ADkACQDZ/8X/x//P/9//9v8KABIADwAHAO7/vv+Q/4v/t//y/xIAFgASABMAEgALAAgACAAEAPv//P8VADsATQBCAC8AKAAoAB0ADQAGAAoACwAFAAYAFgAjABsADgAaAD0ASgAjAOH/tv+3/9P/9v8bADUAJgDq/6v/mf+0/9j/8f8KACYALwAVAPT/7v/8//j/2P+//87/9v8LAAMA7f/b/83/wv/F/9v/9P/8//L/6//1/w0AJAAuACsAIAAQAP3/7P/q//v/FAAjAB8AFQAZAC0APAA3ACQAFAAQAA4ABADz/+H/2v/e/+f/8f/9/w8AKAA8ADwAJAAEAPT/+v8PACIAJwAbAAQA8//v//T/+P/0/+z/5//m/+n/7P/m/8//q/+S/5j/uv/g//X/+P/3//3/DgAoAD0AQAAyACcAKwA1ACwADwDw/+D/5P/5/xwAQwBTADoABQDa/9L/5v/+/wcABQABAP3/8v/i/+P/CQBRAJEAnQB0AD8AIwAeABUA/P/b/8b/wv/K/9n/5v/p/+H/1//V/97/6//x/+X/xP+c/4P/iv+q/9D/7v8FABcAIQAhACAAJAApACQAFAAAAO7/4P/e/+z/AwAWAB0AGgAXAA4A/P/k/9n/4//5/wgABgD7//b/BQAlAEEASQBEAEYAWABtAGgAQQAIANv/zP/U/+T/7//z//P/9P/3//3/BgAOAAoA+v/k/9b/zP+9/6v/p//E/wMASgB3AHkAVAAZAOH/vv+9/9T/6P/i/7//nP+S/6T/wP/a//v/KABXAGgASAAFAMX/rv/L/wgAPwBSAD0AHAAOAB8AQgBhAGoAWQA3ABMA9f/c/8X/t/+8/9f/+f8OAA8ABgAAAAMADQAXABwAFAD//9z/vP+s/7P/y//r/wgAHQAlACEAGgAYABoAGQAUAA4AAgDr/8f/rv+v/8v/8/8bAEAAWABVADoAIQAeACcAHQD2/8b/qv+l/6z/t//N//b/LwBqAJgArwCrAIUAQQD0/7j/n/+g/6P/of+s/9b/EwBCAFIAUABPAFMAUgBLAD0AFwDA/0H/2v7W/kj/8/93AJoAZAARANr/1f/w/woAEAABAOb/vv+O/17/Rv9h/7f/MwCkANQAqgBCANz/sv/U/x4AWQBdAC4A7//I/83/+v84AGwAfgBsAEQAEwDh/7b/pP+1/9v/+P8AAAMADgAeAC4ARABkAH0AbwA0AOv/sv+V/5D/of/H//D/BAAIAA0AGAAZAAYA7//l/+v/8v/y/+j/0P+v/5n/p//e/yAATwBeAFMAOAAaAAYABAAIAAAA7P/e/+r/CgAvAEwAVgBGAB0A8f/c/+P/9f/8//T/4P+//5v/kf++/xgAcQCbAJQAdABPACMA9f/a/+f/EQAwAB4A3f+P/2f/g//V/zAAYgBYACgA+//q//X/CQAVAAsA6/+7/5H/fP+E/6b/3f8bAEwAXQBHABsA9P/j/+r///8RABYABgDk/7//r//F//z/MwBOAEYAMgAoACcAGgD7/9r/x//A/7r/tv+//9v/AAAlAEMAVwBZAEYAIwAAAOf/3f/d/9//2//Y/+n/EQA5AEcAPgA3ADoAMAAJANX/rv+d/5v/pv/B/+f/CAAfADEAPgA6AB8AAADw//H/9f/w/+P/1f/T/+j/EwA/AFgAXQBbAFUAPQATAOv/1v/P/8r/y//W/+X/7P/z/woAKQA3ADAALAA2ADcAHAD7//H/9P/g/7T/nv/A////KwA7AEAAOgAYAOD/uf+9/9r/8P/2//L/5P/J/7T/wP/x/ywAVgBeAEQADADO/6z/uP/i/wkAHQAdAA8A+v/s//f/FwA1AEAAOAAkAAYA5v/W/+D/9/8AAPr/9f/6/wIACwAgAEIAXQBUACgA+P/f/9//6P/r/+n/5P/d/9H/w/+//9j/EgBYAH8AcgBCABAA9f/r/+f/5v/o/+f/3P/O/8z/3/8AACEANAAzACQADADx/9X/wv+6/7z/xf/U/+n/BQAjADsARwBEADMAHAAIAP7/+P/r/9b/xf/A/8b/0v/k/wMAKwBMAFcATQA4AB4AAADj/87/yP/P/+H/+/8XAC8AOAAuABYA///x//X/BAAQAAsA9f/a/8j/wf/B/8f/1//0/w4AGgAQAPz/7f/u//z/DwAbABsAEAAGAAEAAAABAAcAEwAbABMA/P/i/9j/4P/x/wAADgAXABsAHQAgAB8AEAD2/+L/5P/2/wAA9f/i/9r/5v/6/w4AIgA7AFMAXwBUADUAEADy/+D/2P/Y/+X/AAAgADIAJgAAANX/wv/T//z/IAAtACEACQD3//D/8v/2//f/+f/6//f/8P/t//T////9/+3/3//i/+v/5v/X/9X/7v8OAB8AIQAiACEAFAACAAAAFgAsACsAHQAaACcAKQASAPH/4f/v/w0AKAA0ACwAFAD5/+T/2f/W/9f/3f/k/+v/8v8BABsAMwA2ACAAAADn/9r/1v/U/9f/4//1/wIAAADw/97/2f/n//z/CgAKAAUAAwAEAAIA//8AAAcACQAAAPn/AQAaAC0ALQAgABAA+P/T/7j/xf/2/xwAHAAIAAgAIgA2AC4AGgAXACEAHQD//9z/0P/Z/93/zf+4/77/5f8YAD0ARwA7ACIABQDx/+j/5v/f/9r/6P8LACgAIAD9/+D/4v/2/wEA///6//r/+v/2//X/+v8AAAUABwAHAAUAAwACAAAA9v/p/+z/BgApADcAJwAOAAAA+//0/+z/6//y//f/9f/1//3/BgALABYALwBHAEMAGADn/9P/6v8YAD4ASAA1ABUA///4//P/4v/J/7z/v//F/8H/v//K/9z/4P/W/9n/+f8jADYALQAfABsAEQDy/83/wv/b//3/EAAbAC4ARABKADsAJgATAPr/0f+u/6b/sf+1/7D/wv/6/zcASgAuAA8ADAAaABgABAD5/wAADwAXABsAJwA0ADIAIQAZACcAOgAxAAIAv/+J/3j/l//c/zAAcQCHAHIARwAeAAEA8f/o/9z/yP+x/6f/tP/X/wUAOwB1AJ0AlwBbAAwA3P/b/+z/5//H/57/g/9//5r/1v8iAFoAYwBFAB8ABQD2/+z/7P/w/+v/2P/H/8z/7v8fAE4AZABUACIA7f/R/9L/3v/l/+r/8//4//n/AAAcAD0AQwAiAO//yP+4/7z/y//m/wUAHAAhAB4AIQAwAEEASAA+ACIA/P/U/7n/tf/G/9z/7f/7/w4AJgA4AD8AOwAqAAYA1f+p/5b/of/B/+3/HABFAFwAXABMADEADQDn/8j/t/+u/6X/nv+o/8n/+/8vAFwAdABvAEwAGADt/9j/2//r//b/9P/n/9j/1f/n/wsAMwBMAEwAOgAcAPT/yP+q/67/0f/3/w0AGAAjAC4AMgAyADIALAARAOb/wP+v/7T/xv/o/xUAPQBNAEgAQAA6ADMAJQAWAAIA4P+z/5//uf/0/yYAOAAzACUAEgD6/+X/4P/o/+r/2f+//6z/sv/T/wUANwBVAFQAOAARAPX/6//w//f/9P/o/9//3v/r/wUAKABAADgACADL/6j/uP/s/x8ANQAnAAAA1//G/+b/LQBuAHMAOQDy/8//2f/1/xEALQA9ACkA9f/N/97/HABJADQA7P+i/33/g/+m/9f/AgAZABcACQAEABYANQBLAEQAHwDu/8T/tP/B/+P/CAAgACMAGQAOAAsAEAAYABkACQDp/8v/yf/r/xcAMwA0ACUAEgD//+7/6v/z////+//n/9H/yv/U/+n/AgAdAC4AKQAQAPr/+v8IAAMA3P+p/5b/uf/5/zIAUgBbAFMAPAAcAAAA8//w/+7/4v/P/8b/0//3/x8AOgBFAEUAQAA0ACUAHAAZAA8A+P/e/9j/6f/9/wIAAAACAAgACAAAAPv//f/+//P/4//c/+L/6P/u//v/EAAfABkADQASACUAJAAAAM//tf+0/7j/uv/O//7/LwBEADgAIQARAAUA+P/u/+r/4f/L/7L/rf/M/wwAWQCUAKIAdwAsAOz/0f/V/+H/6P/p/+X/3P/Y/+b/BgAqAEMAUwBbAEwAHgDm/8P/wv/J/77/qP+j/73/6/8YADgAPgAjAPP/y//E/9r/9f8BAAIAAAADAAwAHgA3AEkASAA2AB0AAQDm/9D/0v/s/wQAAgDn/9L/3v8BAB8AKwApAB0ABQDr/+P//P8gAC4AHAD8/+f/4//r//n/CwAVAAkA6f/I/8H/3f8RAEgAZQBcADkAEQDz/93/zP/D/8P/w/+8/7n/y//6/y8AUgBWAEUAKwAOAPT/4//e/9//4P/e/+H/7/8FAB4AMQA3AC8AHAAFAPT/6P/j/+T/6f/u//P/+/8HABcAHwAeABwAIwAsACYABwDd/7f/ov+a/6D/uv/m/xkARwBmAHAAYAA2AAAA0f+0/6n/qv+0/8T/2v/2/xoAQQBbAF4ASwAvAA4A7v/V/8//1f/X/8z/yv/n/yQAZQCIAIAAWQAmAPn/2P/H/8X/zP/U/9T/zf/P/+v/HQBGAE4APwA3ADsAOQAgAPj/0v+y/5r/l/+7////PwBlAG0AYgBDABMA3/+2/5//k/+W/7L/4P8KACIALAA0ADkALAALAOj/1v/V/9X/yf+2/7D/yP/9/z0AdACOAIQAWgAmAAAA+P8AAAMA9//e/8b/u//C/+D/DAAzAD8ALQASAAUADAAeACoAJwARAOz/w/+v/8P/+f8wAEoAOgAQAOb/zv/P/+T/+/8EAPv/5v/Z/+T/BAAqAD8AOQAhAAUA7//j/+r/BgAoADAAEwDr/9v/7v8QACkAKwAVAO//zP/G/+L/BAAJAPL/1//O/9X/5/8EACQALAANANz/wv/T/wIANQBcAGsAWgAuAP//3//Q/8X/tv+o/6H/ov+x/9j/EwBJAF8AVAA4ABcA+v/l/+L/7P/t/9f/vv/E/+//JABFAFAAUgBJAC4ABwDx//j/BwAEAOz/1P/R/+H/9v8KAB8ALQArAB4ADQACAP3/+v/y/9r/tv+h/77/DQBnAJYAhwBLAAYA1P/B/8v/3f/b/77/nP+W/7r//f9CAHEAdABKAAsA3f/X//L/DAAJAOT/sP+U/6b/5/84AHUAhABlAC0A+//j/+r/AQAOAAEA3/+7/7L/0P8JADoARAAgAOz/yP/D/9X/7/8EAAcA8v/Q/8b/7v8/AIwAowB2ACAAz/+m/6z/yP/Y/87/tP+m/7b/5f8oAGcAhABtAC8A8v/W/+D/+f8FAP3/4P/E/8D/4/8kAGgAkwCTAGgAIQDc/7r/x//s/wIA/P/h/8b/vf/O//v/MABMADcAAgDP/7L/rf+8/9z///8LAAAA9f8OAEcAdwB8AFUAGADd/7H/pP+5/+L/BAARAAwABgAJABkALAA1ACUA///V/7v/vP/Q/+r//P8AAP3//v8LACYARQBbAFQAJQDb/57/lv+///b/GQAnACkAHwANAAQAEQAgABIA5f+4/6b/q/+4/87/8/8XACUAHgAfADsAYwB3AGYAMgDm/5T/Xv9k/6L/8f8nADcAJgALAP7/DQAzAFIATAAjAPD/zP/F/9n//v8aABoA/v/h/+D//v8rAFMAYwBGAPz/qv+K/7L/+v8nACkAGQAUABoAHwAjAC0ALQAJAMP/gf9p/4L/tP/j/wMADgAGAP7/DgA9AG8AegBPAAQAwP+f/6n/1P8LADUAOgAdAPX/5f8DAEQAeQB4ADgA2v+R/4H/qf/t/yYAOAAgAPb/3f/w/ygAYgByAEMA7f+h/5H/xP8QAEYASAAfAPD/1//l/w4AOABBABoA1v+X/4f/sv8BAEMATwAkAOn/yv/c/xcAWwB+AGIADwC2/4v/pf/r/y0ASgA1AP3/x/+9/+3/MABRADIA6P+e/3z/jv/K/w4ANAAoAPn/y/++/9v/EQBHAFcAKwDY/5P/jv/D/wcALQAmAAAA0f+9/97/KwB1AIYAVQAMAN3/2v/6/yEANgAqAAIA2P/C/83/+P84AHEAfABOAAsA6f/6/x8AMgAkAAIA1v+q/5r/vf8GAEYAUAAlAOv/yf/Q//f/IgA2ACEA7P+2/6T/xv8LAEgAUAAcANL/ov+q/+L/JwBVAFEAHADc/7n/x//1/yMAQgBCABgA1v+p/77/BgBFAEQACQC//4n/eP+U/9n/IAA5ABYA3//F/9v/CQAzAEUANwARAPP//f8uAGIAbQBNABwA7f/B/6b/sf/i/xAADgDe/7P/wf8JAGEAlgCSAGAAGgDi/83/4P8DABUAAQDT/67/sP/c/xkASgBWADoAAADA/53/rv/j/xMAGgD6/9H/vv/N//f/KQBMAEcAGgDm/8v/1//7/xkAIgATAPf/5f/x/xYAPABKADoAFgDs/8j/vf/W//7/CwDu/8T/vf/n/yUAWAB0AHUAUwAPAMr/rP/D/+z//f/x/9z/0v/W/+v/FgBJAF4AOQDu/6z/mP+q/83/6//6//T/4v/d//3/OwB5AJgAiwBWABAA3v/b//z/FgAMAOf/xf+9/9D/+f8rAFYAZABSACwA///X/8n/4f8HAA0A3P+a/4f/tf///zQAPAAVANL/l/+M/7X/7P8EAP///f8RADIATwBlAHEAZgA3APb/xP+3/8X/1//g/+P/5f/n/+//BAAlAD8AQQApAAcA7P/h/+j//f8QABMABAD0//T/BQAaACYAKQAkAA0A5P+//7r/1P/y/wAABgALAAAA4P/K/9//DgAhAPv/wv+r/7z/1f/s/xMASwBsAFwAMwAkAD0AYQBtAFgAKQDs/7T/oP+1/9b/4P/P/73/v//U//b/HgBBAEcAKQAAAOn/7/8CABMAHQAcAAcA4v/I/9b/BgAyADUAFQDw/9j/0//i/wMAJgAwABwABQAKAB4AHwD+/9T/vP+x/6X/pf/O/xoAWQBiAEEAHwAYACUANgA/ADUAEQDd/7X/rv/B/9r/8v8JAB4AIgAVAAcACQAUABUABQDw/+D/2v/d/+v/AwAeACkAIAAQAAYAAgD9//b/9v/5//L/4P/b//T/HQA7AD8AOAAxACgAGAALAA4AFgALAOL/rf+H/37/kf+4/+j/EgAqADEAMwA5AD8APQAuABcA/P/c/8T/wv/Z//f/CAAQACEAQABaAFQAMwAKAOv/z/+4/7D/vP/P/9z/5v/7/xkAMQA6ADkAMgAfAP3/1P+2/6r/rv/C/9//9v/9//7/CwAnADwAPAAuAB0ABgDo/9P/3f8AACEAJQAYABMAGwAlACsAMgA1ACAA8P+9/6r/uP/H/8P/vP/L/+n/AAAMACMARABPACwA7f+9/63/r/+9/+f/JgBWAFMALwAaACcAOQA0ABsA/v/d/7T/kv+T/7z/8/8WACAAGgAWACMARQBpAHQAVQAbAOX/w/+1/7b/xP/V/9//6P/+/yIAQQBDAC0AFQAFAPP/2f/N/+D/BAAbABUABQACAAwAFQAWABEABwD0/9j/wf++/83/4//2/wEACgAVACYAPgBOAEwAMwASAPb/4f/R/8b/xf/N/9b/3P/k//j/EQAjACIAFwAMAAgADgAeADgASAA4AAYA1f/F/9D/1v/L/8T/1f/r/+r/2v/g/wQAKwA2ADIAOgBIAD4AGwAAAAQADAD3/8n/qf+s/8L/2P/u/wcAGgAZAAwACQAaADYATQBaAFcAQQAjABYAKABIAFUAOwAJANn/u/+s/6H/lP+E/3f/df+F/6r/5P8kAFcAaABXADcAIAAfACgAKgAaAAAA6v/f/+D/7v8JAC8ASwBLADEAEgACAAAA+//p/8//tf+k/6f/xP/x/xoALgAuACcAIwAhAB0AFQAKAPj/2v+2/5v/nv/K/wsAPwBNADsAJgAcABgAFAAUABcADQDp/7z/sf/a/xgAPgA4AB0ABAD4//b/AAARABEA9v/N/7f/vv/S/+L/7/8BABQAGAASABYAKQA1ACEA9f/N/7v/uf/B/9j/AAAnADEAIAAVACcASwBgAFQAMAACANP/q/+b/6z/0f/s//D/6//x/wgAJgA+AEoARAApAAIA4f/X/+f/BQAfACoAIwASAAIA/v8DAAcA/v/k/8P/qv+n/7z/4v8CAA4ABwAAAAcAHgA5AE0AUwBDABoA5P+6/7H/x//m//n/+v/0//L/AAAdADkAPQAcAOn/wv+4/8T/1f/n/wAAHAAvADIAMwBAAFgAZwBcADgABQDQ/6j/nv+z/87/z/+4/6//0f8VAFkAgwCNAHMAOQD4/87/z//n//n//v8AAAUACwAPABYAIgAiAAQA0f+m/5v/rv/H/9b/2//k//f/DwAnADwAUABmAHkAfABgACAA1P+b/4z/l/+h/6D/p//K/wIAPgBsAIYAggBdACMA7//S/8v/0v/g/+7/9f/6/wsALwBSAFwARwAfAPL/zv+9/8X/2f/h/9H/t/+r/7v/6P8fAEUAPwALAMv/p/+x/9b/+/8NABEAEQAVACAALwA/AFIAYwBfADQA6P+d/3f/eP+J/5j/rP/R/wUAPQBpAIcAkwCGAFgAFgDh/9X/9v8jADwAMgAUAPj/7f/8/x8AQABAABUA2P+v/6v/wP/Y/+7/AwASAAsA8f/a/97/9/8FAPr/4f/U/9z/7v/7/wEACAASABkAFgARABUAKAA+AEAAJAD3/8//vP+6/8L/0//p//z/BAANAB0ALwAuABIA7f/T/9D/3v/1/w4AJQAvACYAFQATACcARQBYAFIAMgD//7//gf9f/2f/j//A/+//HQBOAHIAewBuAFYALgDw/6j/fv+K/73/8/8ZADEAPwA+ADMAKgAlABkA///i/9f/3v/m/+f/6v/1/wAAAwAHABEAGQATAAAA8v/v/+r/1//G/9D/9/8bACAACQDq/9L/xv/M/+r/DgAbAAMA3//X//X/HgA1ADAAGwABAOz/7v8RAEYAZgBcADMACQDx/+n/6//x//T/8P/u//z/GgAzAC4ADADn/83/xP/I/9//BAApADgALAAVAAIA/P8AAAgACADy/8T/kv95/4v/wf8AAC0ANwApAB4ALQBOAGcAYAA1APn/xv+3/9X/CQAzADwALQAfACEAMQBBAEAAIQDn/6r/iv+Q/6r/wf/S/+L/7f/z//v/FQA/AF0AWwA6AAwA4P/A/7v/1/8DACIAIAAIAPX/9/8OACoANQAmAAAA1/+8/7j/zf/x/xcAMQA/AE0AaACLAJ0AhQBEAPH/qv+B/3n/hv+c/7T/yv/e//D/AgAbADIAOwAuAA0A6P/G/7P/s//B/9P/3f/c/93/6f8CACQAQwBRAEYALgAdABoAGgAKAOf/wv+v/7H/wf/X//T/FgA5AE8ATwA9ACoAIAAbABEAAQD8/woAJgA9AEoAUQBQADwAEgDo/8z/vf+v/6H/oP+u/7//x//M/97//v8YACIAHgAcACAAJQAeAAkA7v/S/8D/vP/H/93/9v8MABwAJQAoACkAJwAiABQA/f/i/8//yv/R/97/7/8BABQAJwA5AEsAVgBRAD4AJwAVAAcA/v/3//T/8v/u/+n/6f/w//j//P/5//P/6//k/9//3P/c/+L/8f8AAAAA8//r/wAAJAA2AB8A8v/X/97/8/8BAAsAHgA4AEsATQBGAEIAPQAoAAMA3f/E/7b/o/+M/3//jP+r/8j/3f/v/wcAIAAxADoAQQBIAEcAPAAsAB4AFQANAAQA+//0//b/BAAXAB8AFAACAPf/8//z//L/8v/v/+v/7P/6/w8AHgAgAB0AIQAhAAwA5f+9/6n/q/+4/8f/2f/r//z/CwAcACoAMgAxACwAIgAVAAcA/v/5//b/9f/2//z/CgAjAD4ASwA/ACUAGQAmADQAKgAMAPf/9//8//X/6f/n/+//7f/e/9D/0P/W/9L/yP/G/9D/3P/i/+j/9f8HABUAGwAeACMAJwAjABEA+P/h/9j/3v/r//b//v8FABAAIQA3AEQAOgAZAPj/5//j/9z/yf+9/8X/3v/4/woAFQASAPv/3P/P/9z/7P/r/+b/9v8cAD4ARAA0ACAAEQAHAAUAEgAkACcADQDk/8T/v//P/+D/5P/c/9z/8P8SAC4ANAAoABoAFQAWABgAEAD8/+X/4f/6/yAANQAmAP//3P/Q/9j/4v/j/93/3//1/xUAJQAVAPf/8f8QAD0ATQA3ABYAAQD3/+f/0P/G/9j/+/8bAC0AMgAzADAAJgAVAAUA+P/o/9f/z//W/+b/8v/0//X//f8IAA8ADgAKAAYAAAD6//j//f////r/9f8AABoANQA6ACYACAD0/+7/7f/p/+L/4P/o//T//P8AAAEAAgABAAIADgAfACAACADn/9X/0//T/9D/1v/t/wgAGAAeACQAJwAfABEACQAIAAAA8v/w/wQAGAAPAPP/4v/s//7/AQD////////6//n/AwANAAEA5f/a//P/GQAsACgAIgAmACgAIAAQAP3/4f/F/7z/zv/q//r/+f/6/wUAEwAYABsAIwAoAB4ACQD5//f/AAAJAAwACQADAP////8BAAAA+f/y//D/8P/x//b/AAACAPH/0f+6/7z/1P/x/wcAFgASAPX/zP+4/9H/CQA8AE8ASQBAAD4AOgAqABcADwARAA0AAAD2//3/EAAaABEAAAD0/+//6P/g/+D/6v/3//z/8v/i/9j/3v/y/wQACwALAA4AEwAQAAoADAASAAgA6P/O/+D/EwAwABQA2f+4/8L/2P/c/9X/2//t//b/7//t/wEAJQBCAE0ASgBEADoAKwAZAAsAAwAAAPr/9P/y//n/DAAmADoAOQAhAAIA9P/8/w8AFAAAAN7/x//G/9T/5P/5/xcANgA9ACUABwAEABgAIAAFAOD/2P/v/wAA8v/T/8P/yf/T/9P/0//b/+f/7v/w//H/9f/6/wkAJQBCAFEATQA8ACMAAQDf/83/0//j/+r/7v8EADMAYQBtAFMAKgANAAIA/v/u/9n/0f/c/+v/7//u/wIALwBWAFUALgAEAOz/2//B/6L/kf+Y/7n/7v8lAEgASgA8ADUAMAAQANH/kf95/4f/oP+4/9n/BgAzAEwAUgBNAEIALAAQAPb/4//Z/9v/5//3/wEABgAGAAUABgAIAAkAAwD0/97/zv/L/9f/8v8cAEgAXgBOACcAAwD2//f/+P/3//T/8//2////DQAdACkAMgA6AEEAQwA9ADAAGwABAOb/0P/C/7v/vf/L/+H/9/8CAAYACQALAAYA/f/2//f/9P/m/9T/1//4/yEAMQAdAPn/3v/Y/9//7P/7/wUAAwD1/+b/5//8/xgALgAyACgAGQAOAAcAAQD8//3/AAD9//L/8v8LADgAVQBKAB0A7v/Q/8f/zf/W/9v/2v/a/+b/+P8AAAAAAgAPABoAFgAPACEATwB3AHoAXQBAACwAEADc/5z/c/9x/4b/nf+1/+T/KgBuAIkAdQBJAB8A/f/Z/7f/oP+b/6T/vf/l/w0AIAAXAAEA9P/1//3/AQAAAPr/+f8DABQADgDg/6P/i/+s/+P/BgAZADgAZgCDAHsAWgA2AAgAzP+X/4z/rv/X//D///8VAC8AOwA5ADIAJgARAPv/7//r/+P/4f///zgAZQBfADUACwDz/+L/3P/u/wwAGgAPAA8AMQBPACkAw/9h/zz/S/9r/5b/1v8TACgAEwAHACMASwBYAEwATABhAGgASAAYAPn/6P/M/53/eP91/5b/x//8/ywATwBeAFoATAA9ADQAMwAvABcA6//H/83/9v8hADgARABUAFYALQDf/5X/eP+I/6r/z//5/ykAWAB6AIYAfABgADgACwDf/7D/iP91/4H/pf/R//7/LgBjAIQAfgBWACYA/v/W/67/nv+7//P/GAAXAAYAAAD8/+P/vf+u/8v/BAA5AFcAWAA4AP7/wP+Y/4z/mP+7//j/QAB1AH4AYAA2ABIA+f/k/9T/0//p/wwAKgAzACsAHgAQAAEA/f8QADUAPwALAK7/Y/9R/27/nv/W/xUARwBMACkABgAIACoASwBTAEIAHwD4/9P/u/+y/7v/1f/6/xoAKwArACAADgD1/97/2//t//3/6v+x/2r/OP8v/1f/r/8oAKcABAEfAfAAiQAVAL3/kP+A/37/jP+3//v/OQBXAFcASgBAADIAGAD8//D/+/8OABoAHgAgACAAFQAGAA8AOgBjAFUABQCh/1r/Pv88/1T/k//u/zkAVABJAEEAVAB1AIcAewBTABwA5/+9/6T/nP+r/9X/FgBcAJUAswCtAH4AMQDb/4r/Rf8S/wT/Lv+J//T/SAB4AIkAggBkADgADADq/9X/yf/G/9D/5/8GACQANQA3AC0AEQDc/47/Rf8p/0r/mP/4/1YAnwDCALsApACYAI0AYgAPALr/iP9+/4j/of/P//v/AADd/7f/sP+7/7j/rv++/+r/GwBNAJQA6gAQAc8ARQDM/5X/kP+b/6z/yP/c/9j/yf/R//b/IQA+AEkARAAwABwAIgBHAGcAVwAWAMn/lP+D/47/pf++/9T/5P/x//v/BAAXADoAZwCPAKMAowCPAGQAJwDq/77/pv+a/5T/lP+c/6v/wv/j/wkALAA/AD8AMQAiAB8AKgA6ADsAJgACANv/q/90/0P/Lv9A/3n/1P9DAKkA4QDjAM8AxADBAKkAZgADAKL/Xv9H/1v/iP+4/+H/AQAdACcAFgDx/8v/uv/A/9P/6/8IADIAYwCIAIwAbQA3APn/wP+a/43/kf+R/4z/mv/T/yoAdgCaAJkAhgBpAEMAGQD0/8r/kv9T/yz/N/90/87/LAB5AJ4AjwBZAB0A+f/q/+D/zf+6/8D/8v9IAJ4AygC3AHAAEAC1/3P/W/9x/6L/1v/+/xsANABCAEQAQQBAADYACwDH/5f/nv/I/9r/vP+P/4H/kf+n/8L/AABkALsA0gCtAIAAagBZAC8A7/+v/4P/cf94/5j/xv/2/yYAXgCbAMkA0gCvAGgAAgCH/wX/nv51/qT+Kv/i/40A+QAYAf8AxABzABcAx/+Q/3X/c/+Q/8//HABWAGwAbgBmAEYA/v+g/13/Vv99/63/1f/7/yMASQBkAHAAaABBAPr/qv93/3j/pf/m/yYAVgBnAFEAHQDp/8T/qv+S/4j/qf/7/1QAggB2AEsAHgD2/9j/3P8RAGQAoQCpAIwAaQBOACgA6P+M/zH/+f79/jv/lP/k/xoAOwBQAF4AbQCIAKoAvgCsAHMAJwDg/6v/k/+h/87//f8QAAIA5f/P/8j/yv/T/+L/9f8DABMALwBVAGoAUAAEAKj/aP9d/4n/1f8hAFUAbAB2AH0AegBgADQACQDu/9z/zv/I/8r/x/+z/6L/uP8BAFwAlQCPAFUACADE/5r/mf/C/wAAMQA9ACQAAADk/8//vP+s/6f/tf/R//z/NABtAIUAZQAcANn/t/+z/7n/0f8KAGMAsQDIAJoAPgDU/2//Hf/q/uj+J/+o/04A6wBPAWIBGAF1AJr/0f5w/pf+Hv/E/2IA7gBUAXEBMgGvAA4AcP/1/s7+HP+5/04AmACTAGAAFADA/4f/l//r/0UAcgB+AJIApgCGACAApf9Q/yn/GP8h/2D/zP8qAEcALAAIAPb/6v/e/+r/HQBmAJwApgCLAFoAHADP/3b/I//y/vv+RP+7/zsApgDkAOsAwQB8ADQA8/+0/4P/fv+9/ywAmADPAL0AawDu/2z/E////iL/V/+H/7n//f9ZAMwAQQGIAWUBwwDb/wz/m/6S/tr+Wf/w/3AAtQC4AJIAWgAXAND/m/+S/7z/BABSAI4AqwCjAHwASAAYAPH/w/+E/zr//f7g/uz+IP94/+n/WQC3AAABNwFSAT0B8AB6AO//X//k/q7+3P5d//L/aQC6AOMA0gB7AAIAp/+O/6L/w//s/yAARgAqAMP/Rf/8/gP/SP+5/08A9ABuAY0BVwHzAHgA6f9e/w3/Ev9M/37/jv+N/4r/iP+h/wAApgBHAYoBYAEHAbAAVwDl/2b///7D/q/+x/4S/4P/9v9JAHgAjwCVAIoAcwBRACEA6//K/97/HgBdAHEAVwAjAOf/qf98/3T/iP+P/2n/Nv84/5T/HACEAKEAgwBTACsAGAAdAC4ANAAbAO7/x/+6/87/CgBrAMwA8AC5AEgA2v+C/zH/3/6n/rD+Cv+x/40AbAEBAhYCsAH7AC0Ad/8M/wP/M/9R/0L/O/91/9v/GgACAKr/Sv8K/wH/R//e/5kANwGRAa8BnwFVAcUAAwBI/8j+nv6//hn/lP8WAIIAvQDKAMgA2wACARcB9wCeACYApv8o/8D+hP57/pj+z/4s/7b/WQDrAEkBbwFnATUB4wCGADcA/P/E/4X/P//1/rH+j/60/if/xP9aANEALwF7Aa4BrQFfAboA0//g/ib+0f3m/VT+Cf/j/6YAEwERAb8AVADz/5v/T/8w/23/FAD0ALEBBQLpAYoBFAGdAC4AzP9v/wj/kP4m/v/9NP6k/g//TP9r/5n/7v9XAK8A3gDoAOAA1wDTANMA1QDXANcAzQCpAF8AAACw/5L/n/+x/6X/fv9c/13/gv+2/93/6P/a/8f/wf/M/9T/tf9Z/9/+kv6z/kT/CADBAFMBtgHWAawBWQEUAeYAngAWAHf/Fv8j/3n/zv/t/8P/YP/8/uf+Qv/O/xkA7v95/xf/+v4j/47/OAANAcsBLgILAlMBEABw/tL8qftY+xn89f2sAJoD7QUQB/EG1QX5A4cB1f5y/OT6RPpE+pr6Rft0/Cr+IwADAn8DcQS/BGMEdAMqAscAfP9y/tr9zf00/sv+WP/K/yYAZwCRAM4AUAEIAo8CggLbAewA//8n/2/+AP71/SD+Gf6p/RT93vxX/U/+Sf/l/yoAdAAqAXICEARvBdkF5QTPAmUAgP5y/Qj9Df2U/av+9P+/ALYAJgCm/4f/wP8rAKEA5gC/ADMAl/87/yf/O/9m/6b/3P/W/43/N/8L/xP/Tv/O/5gAdAECAh8C+wHZAcABfQHjAPT/0/7G/Sn9Ov3a/YT+x/63/tr+mf/bACgCFQNxAzYDbAJEARMAH/93/hH+9f00/rT+Kf9R/yD/n/7K/cb8KfzB/Nr+ywFtBAkGyQY0B18HwAbCBHEBkf0n+vj3SPfj91b5KvsX/Qr/9gCoAtQDTwRBBPgDjQPNAooB7v9w/nL9C/0w/dn94P7m/5AA8gBoAf4BHQIbARj/B/3m+wL8Dv2c/lEAxwGKAoACDQK9Ab0BwAFhAYsAff+Q/g3+H/7H/tH/3gCkARECOQIeAqgB3gD9/0f/u/4h/lz9m/wu/E78C/1O/s//GAHIAdQBiQE9ASgBawEWAv0CrAOwA/gCzgF9AB3/z/30/PT85P17/1IBEgNIBGgELQP1AJD+nPw3+0P62vk5+lz7y/z7/cD+Uv8DAPwANAJ8A4sEFgX3BEQEOgMbAhEBLABu/9j+gf54/qP+uf5y/sv9Bf1z/FL8w/y8/fD+6v9pAJsA3QBYAeoBbwLsAmQDsgOxA3QDKAO/Au4BlgAF/7f98vyz/Pf8yv0U/3gAiAH5AbkB0QBm/8D9SPxp+3z7t/z+/rsBDgRMBVkFiQQ+A7wBOgD2/g/+e/07/YP9f/7s/x4BkwFXAdYASgCZ/6j+pP3R/ET8+/sg/PL8Y/77/0EBGQKqAgsDMgMlAwQD0QJqAswBOgH+AAsBAwGnABQAl/9d/1f/X/9W/yX/wf4v/oP92/xX/B/8WfwN/Rr+SP9rAG0BOwK7AtICfgLaARcBbQAQABQAbQDmAEkBdgFtATUBzgBEALn/Tv8E/7H+L/5//cX8KvzL+8f7MfwB/Q7+Ov+BAN8BGwPoAyUE9wOVAxIDawK3ASoB5wDjAPUA8wDDAFoA0P9J/9r+fv4y/hf+Wv4A/+r/7ADeAX4CfwLHAY8AMf/j/cT8D/wY/Pf8Wf6u/5EA7ADYAHkA+v98/xn/3P7Y/hb/fP++/5D/3P7P/bb83/t2+3772/uE/Jz9QP9GAUgD3wTjBVoGUQbpBWkFEwXgBIAErAN1Ai0BGQBK/6j+FP6G/RP97fwz/dn9t/62/9AA6wG9AhAD/ALMArMCtwLkAmcDUgRgBRoGPAbhBTwFRwTTAt8Atv6w/Ov6Uvnr9/b2nvap9pT2Jfaz9df12PaD+Hz6i/yK/kQAngG7AuIDFQX4BSMGfwVPBAcDFQKqAYUBHwEkANP+tf0p/Tv94P0S/5MA+wEYAzoE2gULCGoKgQwlDmMPShDKEKUQhQ9FDUkKUQfMBHECk//U+3n3IfNh74LsYuqQ6LPmA+U55PDkGecZ6ljtivCj87X28PmB/VEB8ATXB8cJ2QpGC0EL/wq5CoEKIApECeMHWgYdBVIE2AOXA74DjgQQBhcIbwoADagPIhIbFGIVARYVFoQV7hMAEeoMeAh/BDIBDv5V+q31UPD26pHmz+Og4j7i6OGR4dDhNePS5UfpAu108HPzevZZ+mj/FgVkCpsOcBG6EnES8RDmDrMMJAreBvAC1f7++qP34/To8r3xN/Ej8ZjxIfNt9tL74QKeCiISIRnBH/QlJyukLh4wsS+GLaQpKSR/HTMWlA6ZBhv+EvXC67ziw9qN1F7Q682yzHbMaM3Wz9TTLNl931HmP+0w9Hf7XwOnC30TIxpfHyUjLCUMJdMiFR9XGqgU4Q0kBuf9ofXA7dTmg+ER3izcUNuB233dN+IL6mb0FADpCzMXuCFZK8UzkTpnPwVCIEJ+P1M6TTMfK/whrhcWDIb/jfLP5fnZvM+BxzXBlrysudy4fbqTvtLEwczR1Y/f5en29KMATQwpF7QgniiGLhcybTPvMrwwdyzYJSwdJRNYCDj9Y/KI6ALgw9jP0pPOsMymzb7RDNlB44vv3/x0CuQX7CQpMRU8FEWCS9lO407RSwxG/z3uM/AnCRp1CgX68elM24TOg8M+ugCzR65+rM+tGbLwuMrBPcwL2PDkc/IAAB8NgBnKJHouATb6OkM98jwmOvI0bS3JI2kYyguB/jfxsuSj2XPQTclWxMbB3MHOxOLKX9Q14aHwVQEREhciFTG/PpFK4lMOWpBcJlvsVV1NF0KZNDIlMhQgAsrvHd77zQfAmLTUq+Gl/6J6o2mnia5auF7EMtJd4SnxxACeD3wdLipANQc++kPcRqNGZENoPR812yqsHq4QdAED8mLjU9ZlywzDjr3qugS74L2Hw9bLnNbT44DzNwXmFzcqIDv4STVWQl+zZFNmA2SjXT5TPUVpNKUhxQ2D+Yzlg9IYwQ6yJKbcnV6ZjphRm6GhYasnuDvH0dc86dz69wu6G4IpCDU9PgJFDUkcShhIF0NSOzIxSSUfGBUKbvuO7Bze69DTxYS9VLhDtie357p5waTK9NX+4p7xzQE9Ex4laDYrRrRTaF63ZSNpYGhpY3da5k0pPtMrtRfLAg/uTto8yIe40quXohedb5uWnUujK6zNt8vFl9Vd5jj3eQejFickXC/NN3M9j0BHQZI/bTsFNaAskiJVF4MLpP/185no190t1CXMRsYJw6HCw8TfyKXOJdZL35jpnfSZABIOyhyLKxs5IEWqTyhYT10jXrla0VP6SU094S04HDsJ7vUy473ROsJxtRWsa6Y3pCilOKl8sKa6+sbG1Jjj6fLnAcUPHRy/Jj8vCTXyN2E44DaoM7cuLihOIFoXpQ24Ax76EfGG6I7gbtl70w3PosyuzAzPAdP/1ybereUb7rz2zP92CkIXCyX4MTM9GkfXT3RWcFnkV+dRPUjZO3YtWB2ZC9X4QuYK1cfF+LiCryqqsqgaquath7RRvobK2dd75TbztABlDe8YMCOdKz4xozN1M8gxAi/RKv0kzB2pFd0MwwPe+o7y1uqV4+LcHNfI0nLQctCa0jzW0Npi4Czn1e6f9m3+LwfXERIeWipYNcE+4UaBTY5RyVGtTbpF+jpMLgIgORBj/2vuQN6Mz/HCUblmsxOxh7EmtCe5+8Bey0fXpOPr7+n7bQdAEiEcjCSzKgsu4C4SLkYsbykvJXEfhRjZEMsIsADO+ELxDuo34+zcotcA1JfSdtMZ1uzZy97M5JnrcfIV+X4AFwobFhgjIi9iOTNC5km8TzhSS1AKSm1AdzS6JnEX7wbe9Q3lSdVkx0680bQOsWawHbIWtsG8UMYm0g/fBOyJ+IkE/g+nGvUjGitwL/YwXjB3LpArZyezIZQafBLmCTABpvh/8NLokuHN2uzUrtC7zjPPp9GM1bPaLOGu6FnwePd6/t0G1hHpHiUssjceQQpJsE8HVFVUlk8+Rr45dCsRHMcLy/qY6frY+cnDvUi1trBpr32worNNuQ/Cts0V26HoW/UrAYUMoBf0IWIq3i8pMusxKTCALdgpryTCHWsVeAyvA2H7cfO06zjkV92Q12TTQNFJ0TvTpNZO22Xh4+j08Ez4b/6EBJUMmBdjJI0waDoIQmpIvE23UI9Pekk5P1wyKCQvFZEFY/Xr5OPUnMatu/+0JbLQsRSzTbaVvHfGEdOK4EPtyPi8A/gOcxrwJKwsojBFMREwRy75KzooLSLpGYIQQAfJ/tr2ye5I5uXdxdbn0Y7PV8+20GvTpdfD3eHlPe86+Gj/DwWACzwVdSJ/MAU800NKSSZOIlLpUiROhEPlNNUk9hRtBX71suSu0zLET7hCscCuSK9fscS0mLolxFrRXuC77g77xgVLEGIbPibsLrgzbDRnMncvdizCKA0jwxqzEIcGi/3a9ZTu2ea83mHXM9LpzyDQ5dGQ1DbYeN3b5BLusvfV/5cFSgrJEAwbFiiHNII98kLpRuNK4007TfRGbTvqLOUdjg+KAcny0OKW0kXEB7qvtEWz47NZtSi49r3jxy/Vc+NV8B374AQyD2oaGiX7LKMwkDClLpQsiypMJ3sh7RjgDh0Fvfx+9TjuDOZs3f/VYNH1z9nQ0dJb1fPYlN6y5l/wa/kPAOQE+Ao9FYEjOjKWPa5EiUk/Tm1SelPwToVEHDZWJvAWEAi1+PLnOdaixee4oLErr0qvJLDksXq2ob/9zA/cB+q89SIADQtJF6Ujji3vMswzMDJmMAEvjiwcJxke4BK2Byv+KfZY7oXl+9uH0xvOS8wkzU7PPdJb1nnc9+Qb7wr59wAJB+ANexgAJwA2V0HOR5BLKk+HUvtS2U3IQt4z4CNxFGkFnfVV5GbSF8LgtfSuk6zMrCOu5bDhtpPBTNA/4JDufvqPBaQR1B4OK6YzVDcNNxY1JTMNMRctsCUHGxkPNAQ++z/zpur64InXZdDGzDTMSc0Vz9LRftbm3djnzvJ8/GgDpQiUDxAbWSotOX5D9UiLTMBQslT9VARPJEMJNHEkbBVFBqv1PeNx0BTAoLSUrkisiKuiqwGuy7SqwNTPK9+C7Aj4qAPaENUeyioeMqM0pTSuNC81SjTUL1wnfxyKEdIHCf/P9Srrut+i1ebOwculygPK7snoy03RENrE5GTvTvg///gFaQ84HZstPzznRUNLrU8HVUFZKliTT0hBNDEGIpYTBQT98SXeBcugu6WxcazmqXGojahHrDO1wMJb0jHhC+7i+Z0G8RQvI0guWTQ6NpI2NTeQN3U1US+PJS8aRQ+cBXj8ePIj58TbpNI0zeLK6slDyaHJocw008zcvOcP8nz6SwGuCGUTOyKYMjFAt0i3TXNS41c1W2hYMU4SP+4u1h8aEdYAL+5U2vzH1bkDsZGsa6pAqb2p+q11t13F1NT64g3vm/qbBykW6yPlLeQyXTTtNO81YzYJNIgtryPJGMQO3wXh/JTyKOdS3BPUO8/4zM/LFMuOy7bOVtXH3jbppfId+nYAJgiJE54iXTLdPqtGxksLUaZWaFm8VQ9LOTzWLGwe7Q+I/9DsetlSyIq7irMTr32sJKv9q8KwTbp7x6fVjOLi7UH5NwZfFEshZCoQLwMxiTJXNAc1jjI0LCQjTxnoD9kGY/0W82Toid7c1vzRbM8gzo/NSs5s0YHX6t8q6bXxv/jj/iIGsBDxHnYuljt1RHpKQlA4Vo1ZylYsTUU/cTATIjsTdAKr74XcY8sMvu+0TK8ArH+qVauur0G4WMT50SjfTetf94kEhRJjHwkp7C5QMtU02DYzN3c0SC6mJQEcNhJCCMD9mPJh5y/dFdWPz0XMgsoAykLLHs/h1d/evOgR8hb6PgFNCUYUkCL3MQo/8kfMTe9SyFffWRxW40uoPZIu1h9zECv/T+zC2ZLJ2ryqs5itN6pWqSurQbDyuLvEGdJo3wPsf/igBRkTWh/DKPAu3DKpNWo3IzfqM9kt7SUiHdYT5gk7/xj0Lule32LXbNEkzTXK3cjTyZrN99Mh3DXlXO7r9u7+qAfqEj8hwjBNPhBI2U6DVFJZJlt3V9VNREBbMTAiKhJ6AIft79p7yia9DLPxq7OnYaYrqE6t1bVEwX7OONy46SL33QSxEm0fqSnIMFc1SzjzOa05ljaGME4oCh9dFTULTgDO9HjpaN9u16LRhM2qyl3JacpLzqzUpdxq5W/uMvds/7AHchGzHY8rfThdQjBJck7bUhlV7lJqS9M/bzKjJEQWgQZC9azjf9MNxrW7MbQ0r8WsL63AsI23OcHlzGXZ3eUw8sX+rAsJGGwi7indLj8yrTSmNRw0li+1KKkgNRhCD10Fh/qJ75TlgN1Z15bS386RzITMOs9d1ArbdOIh6rDx+PiYAAIKOxZqJAQy4DwDRf9LdVK4ViVWvk8XRcA4+ysvHkcOUfzU6c3Yg8omv1C2wq+1q7aqOq1Csze8F8fd0gXfpOvx+JcGgBNkHqsmwyyBMTU1RDeyNg8z7SxuJV8dsxToCuf/gPQT6pTh/tqh1RbR0c3KzI3OttJg2OTeC+ai7Uf18fyABTIQMh3qKh43wkB7SBlP51PgVJtQxkd+PFswSyNlFH0DxPH94F/SMcZRvMS01K/WrfiuOLNSuqzDdM7x2eLlWfIv/6oLvRa8H78mTiy5MLwztTQiMxAvHCkRIlQasxHkBz39xvKQ6frhsttW1gXSY88ez1vRh9XJ2rPgXee/7lz2+P2BBmgRvx57LDM4TEHMSBZPrFKfUbRLikLaNxws2h7QD4T/JO8H4AbTEMifvra2ULGAr12xBLaVvMfEkc6k2Yzl6PFC/tYJ+BOTHA0klSrLLxozLDT+MskvBCsmJScecxXWCk//ivRh60Xjads11CfPYM2jztbRJNZ/2yTi6ukM8sL5LwGSCS4U1CC9LQg5LEKYSS9Pu1EVUGBK00GAN7ArWh65D1YA1/Dl4UDUfMjWvl63ULIfsBaxDLV6u87Dks1s2AvkGPAt/M4HdhKpGyojCSl8LY0w5DEBMcgtyijOIhkcMRSjCuP/O/XT69bju9xN1jfRhc6yzlDRhdXF2gThTOg58P/3J/8/BpYO+hjFJEIwFToCQkpInUz+TbpLGkYGPio0oyhqG8cMXP3q7TPf6NGQxmu9jrYjso6wL7L4tk++Ycef0dTc1eg59XIBCQ2bF7Eg1yfrLDEw6DHpMc8vjiusJdYeVxcED7MFr/u/8cLoKeHl2svVEdJR0P3Q7NN+2CzexOQq7Pbzh/uIAmYJEREyGmwkdy4MN7s9v0IVRhFH8kS5PyA40C7pI2oXrglo+0Htxt+Q0z3JKsFlu/S3C7fkuG+9T8QFzRTXAuJk7ev4TwQmD9wY5iD+Jicrli15LsctQiu/JpsgrxmyEpwLzwP++sHxSOlh4gPdsdhM1VrTkdMt1rbaZ+C45oftv/T9+7oC+AiGD3kXASHuKowz+zmYPv5B50M7QzQ/JTgNL6skJRl1DOL+DvHI49zX6c0wxo/A4LxKuzi85b8Jxv/NHNfv4D/r3/WHAMEK9xOrG50h1yWEKMcpmCnJJy0k7h6lGBUSkgvGBDD96PTe7CvmNeGR3b7a4Nis2Kraod7K43XpYO989Yz7OAGPBlYMghM7HGQlZy10M/U3ljsXPkU+IzvgNJEsLyPzGKQNQgFb9Nrns9yC017MBMdCw1LBuMHHxD/KZdF22QbiBet69Db+qQcjECIXjxyXIGwjEiVkJSckNSG6HFAXtBEwDFcGiv/c91TwG+qE5QLiDN/i3FHc2d034bLlr+ru72D12/oBAHAEQwhkDBsS2hmFIiEqey8AM801Cjh5OKk1ay/wJqwdMRQsCi//b/Pa55DdR9UOz4LKTMePxd3FwMglzkPVEt375BHtqvW9/qcHkQ/sFbMaOR7KIG8i5iLOIfceqRqYFYAQhgsfBqz/UPge8UXrE+fq4zLhKN+s3lHgzuNX6FDtkfIb+LX93AIhB7UKmg4UFIEbuiPNKpcvkTLZNJg2ijY+M5Ms2COXGmYR3Adx/UnyVOe13SHWlNCPzK7JIsiRyITL0NCV19jeJuau7cP1UP6tBgwO8hNnGMgbWR4JIIAgah+9HNoYYRTUDzoLHAYHADb5pPJV7XvpeebS49vhbeH34g3m5ukD7mPyH/cR/MYA0QRFCP0LIhEdGOwfvyZzK1UuZjDpMd4x+i70KNsgIxiHD7kGJv3a8rjo49/02MfT4s8IzX7L2MuJzmnTqtlS4ODmju3Y9Mn8twSyCzERWBWuGIkbtB2gHuAdgBsIGCcUQhAwDFsHXgGu+oX07+/f7Gvq++cM5qflMucT6lHtcPCb8yv3MPtC/9ECyQUKCfsNNRWUHdokjikgLAsu7C+oMHguviimIBMYDRAtCHj/n/WD65Tix9sL15vT0dDQznjOntA11THbVuEq5yTt7fOI+y0D4QkdDxMTYhZ8GSwcox0nHcoaehc3FDwRzQ3+CKECsfuv9Yjx3u6H7NPpWedt5sHnpOqq7f/vDvLk9AP5vf3MAbAEfAciDIsTUByeI6AnFilQKowscy5XLd4nch/vFgwQAwq/Ajn5oO5g5QXfI9sa2NHUxdGL0GXSF9cH3YHiEee969jxjPmAAfoHUwxcD2US7RU3GQYbtBqtGA4WsxOCEYcOywlZA278oPar8v3ve+2t6kTobeeq6FrrPu6Q8JnyVPVe+Tb+jwKrBWMItQzPE4ocDCRDKLsp0yr/LAkvIC6yKA0gLBcAEOsJyQJh+bzuUuXe3hHbM9j11L7RRtD30Z7WgNzP4RrmgOps8A74/f9kBpoKiA2bEFYU5Rf0GdUZ+Bd3FTMTIBFKDqQJIwMY/FH2pPJi8Dvup+tm6ano5elu7A3vBfGe8tn0cPj0/BQB+gNzBnIKIRFoGaEg5iSqJvIn/CnBK9cq2SXfHYwVtQ7qCEgCrfkD8IPnvuFs3vrbONl81j7VqNaF2nHfDuQa6GzsAvL1+DUAWQa3CuYNDRGtFA4Y7BmbGY8X1xQ6Eq4PdwzVB8kBbvtD9gLzBvEZ78js0upP6ofrxO0G8N3xuPN79qb6sv9nBB8InQtgEOAWsh26IiIl9yXFJs0nvycIJWMfGBjgEIcKbwRy/T717Owm5q/hwN4A3A7Z/9Y/1w7aPN5a4grmGepo7/H1ufynAlcHOQv5DrQSwxVKFwYXfBVmEwgRIQ5tCvwFIAE//L33+PMX8ffuaO1y7FTsLe3O7uPwPPP69W/5yf3MAtMHRwwzEEIUBxkyHqAiPiXiJUUlOCTTIlwgARy6FXgOaQcFAdn6S/Rt7QDn0OEc3q7bPNqw2Sna1dvF3srieedq7HnxvPY7/LMBxgYxC+MO0BHTE8YUqRScE7wRGg/QCxAIAwS9/1r7OPfY833x7e+47rztTO3Q7VLvdfHm8772XPrj/t8DngjhDCQRExaUG5EgwSPHJGckpiOzIr4g1RzsFv8PQgkjAzT94PY68PLpw+T14Gve59w93HLcuN1H4AXkdegO7azxfvaW+7MAegXECYwNphDFEsQTyxMbE8URqw/EDDwJZgWJAcr9Nfr09kn0W/IG8QXwUu847/PvXfEt83b1pvje/H8BswVZCTwNIhLAF7gcxB/EILQgjiBPIPweqRtqFk4QcworBfj/QvoW9CbuRunU5ZrjHeIb4cbgkeGy4+Dmf+of7sjxwfUk+rX+FQMIB3YKRw1bD58QFxHHEJ4Plw3iCt0HzwS4AXr+LvtC+B/2wfS+88Hy7/G78Vryk/Mg9SD37/mM/V8BzATwB5ILKhAlFTYZgBtDHGwckhxmHBobLBjcE/wORQrlBYEBsfx993LyO+4k6wLpcucw5krlGeUB5hfo+OoL7v/wCvSU96/77/++A8EG7gh1CogLLgwwDDoLPwmyBi8E8wG3/zT9ovqC+A73Afb59PLzOvMg88XzL/VP9+z5tvyZ/9cCtwYWC14P/BLDFdsXbRl3GtgaahoKGasWcxO4D84LxQd8A+L+KPq/9QLyCO+g7Jfq8ejo58Dnj+gz6nPsHO8W8l/19vjD/H4AygNkBkgIoQmNCu8KiQpLCXoHgAWTA5oBb/83/Ur7zvmF+C337PU59VP1CvYc95T4q/pW/TwAHQMPBjwJdgxHD2ER0RLLE2IUfRQOFB4TuBHbD4INwArBB60ElgFx/jb7DPg49e7yJPGo713uY+367E7tWu7y79/x/PNF9sr4iPtJ/rEAgAK8A58ESQWZBU0FWgQJA7cBfgAy/739Vfw/+2z6jvmX+PD3Dvjp+Bn6aPsY/Xz/ZAJBBbQH6wlCDKwOtRD3EY0S2xIREwETaBJJEd8PQg5QDOgJLQduBL8B7f7L+5H4ufWD87vx/u9E7vbsiOz97PTtIu+T8HbywPQn92/5lPum/Zn/RwGaAoMD7APOA0QDgwKnAbEAsv/a/kb+1P1I/Zj8A/zX+zT8F/1p/gEAqQFJAwUFEAdWCWcL6QzyDe4OERAREWwR9xAKECIPWw5aDbELVQmrBicE2gF0/6L8gPmM9jD0a/Li8FHv4+0Q7SvtFO5k79fwePJt9LP2Fflh+4H9aP/+ADMCEAOsAwUECgTDA2ADFAPiAqUCMwKKAc4AOQDx/+3/AgAUADYAowCBAbAC4gPbBKYFiQawB/YI8wlhCmkKbgqeCrEKPgooCbEHKAajBAEDJwEX/+380frm+DX3rvVI9B3zXvIp8n/yP/M79EH1RPZu9/b40/qh/P394v6g/3EAPwHLAf8BAQIIAjECeAK9AtQCsAJ9An8CyQIiAz0DEgPuAikD2gO8BG0FvwXjBTkG6QarB/8HrQcIB5QGdgZUBsEFsQR8A28CkgGzALH/gf4y/dn7mPqG+Z/4xffu9j/29vUy9sz2cPfd9yH4jPhl+Zb6tftn/Lb8+/x7/Sf+vf4Z/1P/o/8zAAcB9AG6AjIDewPeA3cEDAVFBRIFxgTIBDAFsAXZBYcFBAXGBPsESQUmBWUEbAPIApwCjgIvAm8BkwDs/4r/Rf/h/kX+i/3u/JL8Yvwu/Nz7f/s8+yr7SPt/+6n7pfuA+3f7uvso/G38W/wj/BP8RvyV/Nj8Ev1Y/b/9W/46/0kASwENAqoCbANtBGMF6wX7Be4FHwaNBugG3wZtBtMFYgUxBQYFiQSdA4ICowEkAcwARwCB/67+D/68/ZL9XP32/Hf8KfxM/M38S/10/Vz9XP2k/Qj+OP4h/u39zP3D/b/9vv2+/a79ef02/RT9KP1F/Tb9Af3k/A79cv3u/Xf+Hf/i/7AAgAFbAjoD9wN3BNUESAXeBV8GgAYxBqcFJAXBBF8EyAPnAuEB+wBeAPD/ef/e/jj+tv1v/Vr9Uv0z/fT8xfzm/Gf9Av5g/nr+nP4G/5r/CgAxACMA+/+3/1b/7v6S/jb+xf1M/fj81/zO/Lv8qfzC/BT9iP0E/pL+T/86AC8BCgLKAoYDPwTWBDIFXgV6BYoFcAUTBX8E3ANHA7wCIgJqAZsAzf8W/4L+CP6Y/TL97Pzb/PT8F/0z/Vv9sf01/rf+Cf8t/1f/sv8rAI0AuADBAMsA1wDFAIMAJgDN/37/Nf/y/r/+l/5u/kP+Mf5L/oH+sf7d/i//xP99ACUBogESApECEwN1A6QDrAOfA4cDZwM+A/wCjgL6AWQB6gCCAAgAa//F/jv+4P2p/X79Vf0y/Sj9Sv2W/ff9WP60/g3/Wf+Q/7r/8f82AHAAgQBzAGkAbQBjAC8A2v+K/1r/RP82/yf/F/8K/wb/D/8i/zL/M/8y/0n/jf/1/2MAwQAKAU0BkQHOAfYB+wHiAbwBmgGAAVwBHwHJAHEALwAGAOH/pP9H/9v+gf5T/kz+Tv5F/jz+Wf60/jz/w/8lAGEAigCqAMEAzQDOAMYArwCFAFQALwAcAAwA7//G/6n/pv+z/73/vv+7/7v/vP+7/7f/sf+r/7D/0f8PAFYAjQCxANYACwFFAWoBaQFHAR4B/gDlAMMAiwBGAAAAsf9P/+r+qP6d/q7+sf6n/rH+2/4R/0n/lf/+/2YApAC7AMoA1wDDAIcAVABcAIkAmgBvAC4ACQAEAAQA+P/l/9D/uf+m/6n/vf/D/57/X/84/03/lP/l/xYAGAD8/+j/+/8qAE4ASAAqACIASACFALAAtwCfAHAANAD+/93/1P/L/7H/kv+D/43/n/+r/7D/tv/D/9r/9/8OABkAGQAbACAAHAAKAP7/CQAmAD0AQQA9AD4AQQA+ADgANwA0ACEA+P/C/5n/j/+p/9X/9v8BAAgAGgAyADYAIAALABAAKQA7AEEASwBgAHcAgwB/AG4ATAAcAPH/2v/X/9j/0v/F/7j/rv+v/7v/xv+9/6f/nP+w/9f/+P8HAAoAAgDr/8z/vP/M//D/DwAiADQATQBiAGcAXwBWAFAAPQATAN//uP+x/8P/4f8AAB0ALgAtABoAAADp/9P/wv+4/7r/w//R/+z/FwBJAGoAcABhAEoAMwAgABUAEgAPAAYA+f/t/+P/2//a/+X/9v/9//b/7P/p/+n/5P/f/+T/6P/c/8H/tf/I/+v/AQAIABIAJAAtACUAGwAhACsAHwD//+b/7P8FABYADwD2/9L/qf+H/33/jP+i/7H/vv/S/+v//f8GABMAKAA7AEMASgBbAHEAfgB5AG0AZABcAE0ANQAeAAoA9//j/9P/y//I/8D/s/+p/6n/rv+0/7z/yv/Y/9v/1P/P/9D/zP+7/63/uv/j/xMANwBPAGYAdABwAF4AUQBQAEsAMgAQAP7/BwAkAD8ARgAxAAIAyv+c/4j/h/+Q/5z/qv+5/8r/4f8EADEAVABfAFgAUgBTAFcAWQBcAGYAcABuAF0ARgAyAB0AAwDo/9P/xf+3/6n/of+g/6T/pv+q/7P/vP++/7n/tv+5/7v/tf+u/7T/0P/8/ysAUQBkAGQAWgBWAGEAcwB3AGIAOgAVAAAA9P/n/9P/vv+x/67/s//A/9b/8P8BAAYAAgD//wMAEwArAEUAWABfAFsAUwBHADoALAAeABAAAADx/+X/4P/d/9n/0//N/8v/y//I/7j/nP+I/5H/sv/L/8j/uv/C/+b/DAAkADUARABHADkALQA8AF0AagBYAEQATABgAFwAOgAWAAcAAADs/8z/tv+7/83/1v/M/7j/sP/B/+n/EgAqAC0ALAA1AEkAXQBoAGYAVgA6AB0ACQAHABQAHwAbAAQA7P/c/9P/wf+h/4b/gf+P/5n/lv+R/5f/of+j/6L/r//I/93/6f8BADMAZwB5AGcAVQBfAHoAgwBuAE0AOAAvACIABwDl/8r/wv/K/9D/yf+5/7P/xf/r/w0AHQAeABsAHwArADoARwBKAEAALAAYABEAGQAqADQAMAAcAAQA9v/4//7/9//k/9T/1P/V/8L/nf+A/3//jv+W/5T/l/+o/77/zv/X/+L/8/8DABUAJgAxADIAKwApADMARABSAFMARwA2ACwAKgAkAA8A9f/s//3/FAAbABAAAAD4//H/6v/m/+v/9P/8/wQAEQAdACIAIQAhACAAGgARABQAKQBEAE0AOwAdAAUA+//4//j/+f/2/+v/3//a/9f/yf+q/4j/ff+N/6n/v//Q/+H/8//+/wAAAgAQACcAOQA+AEAATABjAHUAdQBkAEkALAAQAP7//f8MAB0AHQAKAPP/4//a/9P/0P/d//z/JQBFAE8AQgArABMA+f/V/6//nv+1/+j/FAAiABUA/f/k/8//yf/W/+b/3//C/6//wv/q//r/4/+//7P/vv/L/9P/5P8GACsAOgAvACAAHAAdABgACgABAAgAGwArADAALgAtADEAMAAjAAsA+v/3/wMAFgAnADUAPwBAADMAGgABAPD/6//3/xAAMwBQAFYARQAkAAIA5v/R/8L/uP+3/7//z//m/wAAEgAVAAQA6//V/8r/wv+2/7H/wP/e//L/7P/V/8X/xv/O/9D/0P/d//z/HQAvACgAEwD///P/8P/x//f/AAAPAB0AJQAjABcABwD+//v/+P/t/9z/0f/X/+z/BQAaACwAQABTAF4AWQBIADYAMQA8AFEAYgBmAFwARQAmAAcA7//c/8b/qf+R/43/pP/L/+//AAAAAPL/4v/S/8T/uf+6/8//7v8DAAUA+v/w/+//9P/7/wcAGgAnACgAIQAeABwAFAAFAPj/8//y/+7/7/8AABkAJwAeAAwABAAFAAIA+//+/w8AHwAZAAYA/v8LAB8AIgASAP7/8//1/wAAEgAhACAADQD2/+v/7v/s/9v/x//F/9z/9v/7/+f/z//G/8//2//h/+b/8f8AAAoADgAVACMAMQA0ACoAHAARAAkA/P/o/9v/4P/0/wcAEQAYACQANQA8ADIAIgAYABoAHgAcABUADQAIAAQAAAD5/+3/3f/S/9D/2P/n//j/AQABAPz/+P/1//H/7P/v//v/BQAFAAIABwAPAAUA6//c/+7/DwAeABIAAgAAAP//6f/I/7r/yv/e/9r/x//J//D/IgA9ADcAKAAjACMAHwAeACcAMwAxACMAGgAgACgAHQAIAP3//v////X/6P/h/+P/6f/0//r/6//L/7X/vv/Z/+f/5v/r//7/CwAJAAkAFQAfABMABQATADIANQARAPD/9v8WACUAGAAHAAEAAAD8/wAADwAXAA0A/P/x/+r/4f/b/+T/+P8EAAoAGQAuADIAGAD2/+r/+f8GAAAA9P/7/xYALwAvABkABQD+//v/8P/m/+7/CgAkACYAFwAKAAUAAAD1//D/8v/z//L/AAAgADwAMAAAANb/1P/s//n/7v/h/+T/7//r/9f/wv+6/7z/vf+9/8j/5v8LACcAMQAuACcAIAAZABAABgAAAAAACAANAAgAAAAJACUAOgA1AB0ADAAHAAAA7v/h/+T/7v/w//D/+P/9/+//2P/T/+v/CAAUABcAIwA3AD8AMQAWAPv/5P/U/8z/yv/Q/+b/CgAvAD4ANQAkABEA9f/S/77/xv/a/+T/6P/2/woAEgALABAAKQA+ADYAJQAnADYALQAIAO3/8////+//zv/B/8//3//p/wEAMwBfAGUAUABCAEAAKAD1/8r/y//l/+f/xv+n/6r/xf/W/9b/2//v/wAA/v/v/+n/7//2//n/BAAkAEkAWgBIACMAAwD1//L/8v/v/+v/7f/7/xMALQA6ADUAGwDx/77/l/+R/6v/0P/t/wYAJgBFAFAAPwAlABEABAD6//T//f8MAA0A+v/j/+L/9P8EAAcAAAD5//X/7v/g/9L/yf/J/9D/2v/n//v/FgAyADwALgAZABMAHwAuACwAGwAIAPr/5//Q/8b/2/8FACgALQAbAAcA/f/3//L/8f/1//b/7//q//X/DgAgABwAEQAZADUASAA4ABYACAAdADEAFQDV/6T/qf/I/83/sf+e/7f/6v8UAC0APQA9AB4A5/+//8T/5/8DAAsADAASABcAGgAiADEAPgA7ACwAHAAPAAUABQAVACkAKgASAPX/5v/i/93/0//W/+z/CAAcACEAHgAbABUADgAIAAAA8//e/8b/uP+5/8n/3v/v//j//f8BAAAA8v/b/9P/5P/9/wEA8f/i/+j/AgAiAEEAWABWADAA+P/V/9f/7v/9//////8DAAsAFQAjADMANQAfAPv/2v/N/9X/7v8NACwAPgA5ACAAAgD0//v/DgAcAB0AEgADAPn/8//x/+z/5P/j/+7/9v/n/8P/pv+n/7b/t/+o/6X/wf/u/xIALABEAFQATQA1ACUAKgAwABgA5f+//8//DwBOAFkANAAPABUAPABYAFEANwAiABQABAD8/wwAKwA1ABgA7f/Z/9z/4v/h/+v/AQAKAPn/4//v/xUAJQAAAMX/sv/b/xcALAAAAK7/bv9x/8H/NACFAIgARgDv/63/kP+P/5//s/+//8b/1v/9/zIAXwBrAFoAQQAvAB4AAADc/9L/8P8fADQAIgAGAAAABQD+/+//+f8hAEMAQgA3AEoAaABKANT/Sf8H/x7/TP9W/0v/Yv+q/wYAWACbAMwA3AC/AIoAYwBXAE4AMAAAANf/yP/N/9j/4//6/ycAXAByAEsA9P+b/2T/VP9g/4r/xv/q/87/j/95/7j/HQBXAEYAFAD0//z/JQBYAGYALQDO/6r//P+GAMYAggD+/6D/jP+k/8v/9P8JAO3/rP+O/9H/VwDFANUAmQBSACwAJgArAC0AKAAZAAYAAAAdAF4AmQCNABYAUf+N/g7+3/3m/Q7+XP7Y/n3/PgAWAeIBYgJXAr8B4QAYAJ3/fP+s/xMAlQAWAZYBJgLDAj0DQgOaAlUBzf9j/kn9hvwW/AH8RPzB/F39G/4F////ygA9AWsBfgGMAZgBqQHHAeAB1AGZAUAB2QBaAMT/L/+//nr+TP4o/hb+Iv5Q/p3+A/96//X/ZADAAAYBOwFkAXsBaAElAcsAfQA+APb/mf9D/xX/E/81/4T/CQChAAcBFgHkAKIAZQAmAN7/kf9J/xD/8/76/iL/YP+q//H/IwAzACEA///f/+L/LADAAFkBlAFWAegApACZAJMAbAAtAOj/mf9B//z+5v71/gf/BP/y/t3+1v70/lH/6f+MAAYBOwE/ATMBKgEfAQABvwBbAOf/ev8z/yf/Sv98/6T/xP/q/wkAAQDP/5z/l//A//L/DgARAP3/y/+R/3r/pP/z/y8ANgAJAMP/iP+Q//P/gADMAJcAEQC0/8f/NwC0APkA7ACcAD4ABwAIABoACQDI/2n/DP/Q/tr+OP+6/w8AGAANADoApAAKATUBLQEaAQkB6QCvAGYAHADb/6r/kf+K/4L/af9F/yj/I/85/2X/mv/K/+z/AgAWACwARQBhAHYAcgBEAO//kf9Y/1z/kP/U/wcAIAAnAC4APgBVAGYAZQBQAC8ADQD0/+D/0P/A/7D/p/+u/83/9P8BAN//m/9w/4f/1f8jAEwAVwBiAHkAmQC2AMgAwACTAEoAAADL/6j/lP+M/4T/Y/8j//L+CP9p/9v/KABOAF8AUQAaAO7/HwDFAHUBmgH+AAYAWP9X/+7/pAD6AK8A6f8b/7r+9/6e/zgAYgAQAJf/aP+4/1kA6wAbAc4AKQB4/wP/6P4M/zf/R/9I/1j/lP8GAKIANgGAAVsB7gCZAJ8A7wAwAREBiwDd/1v/Pf9+/9X/6P+H/9n+Sv4+/sj+l/8tAD4A5f+P/6H/HwCxAPMA0gCIAFgAVwBuAIIAfwBbAA0Anf8s/+z+A/9s//v/aQCCAEcA7P+y/8T/FgB5AK4AiQAVAJT/Uv9x/83/JABSAFwAUQBDAE8AnQAqAasBsgEXAR4AQv/Y/u3+T/+w/8T/eP8I/9n+Hv+0/0UAkwCFAC4AxP+I/6D/9v9KAG0AVAALAK//df+Q//r/aACTAHUANQDr/5b/VP9j/9H/WQCeAHwAGwCw/17/Rv97/93/FQDt/4X/Pf9Y/8j/TwCzANcAuABqAAwAvP+W/6r/6/8nAC8ACADu/xIAdgDyAGMBpQGHAegA/f86//n+KP9v/5L/mv+h/7X/4v85ALUAHQEpAccAKQCX/0L/Qv+T/wQAQAAJAHz/Cf8O/4f/GQB3AH8ANQCs/yH//P57/1cA6QC5APv/U/9C/77/TQBvAPj/Kf+S/qH+Uf8wAMEAxwBVALH/Qv9j/wwAtQC6ABAAY/9k/xQA1gAjAQMB1gDNANIAvQCMAE4ABQC5/4X/hv+t/8f/v/+9/+v/NwBkAE0ADgDU/7H/p/+9/+j/9P+y/1D/P/+u/0wAqQCuAKEAsADIAMwAyAC7AHcA2f8e/7v+4v5P/53/r/+q/7P/zv/x/xUAPABXAFsAQwATANz/tf+6/+3/KwBCABkAz/+m/8T/DABIAGkAkgDOAOkAtQBZACsALwAIAIH/6v7E/h7/if+t/6b/vf8AAEMAaQB5AHgAXAArAAUA/f8EAAoACQAJABUANQBgAG0ALAC0/2n/of8xAIoAUQDE/2D/Y/+m//D/OwCRAM0AugBYAOX/k/9Z/xT/0P65/tj+9f7p/tv+IP/H/30A4wDuANwA2wDiAN8A1wDSALgAdAAmAAYAGwAvABwAAAADAA8A8P+3/7j/DQBjAFoAEgD+/zQAWAAkANv/2f8AANz/Yf8N/zn/k/+V/07/RP+q/xQAIQAOAFkA9gBJAewANADR/xIAsQAlARoBnQAHALT/t//S/8D/f/87///+uP57/pH+Ev+k/9b/pP90/5H/6/9OAKsA8gD6AL0AmQDzAKEB8AFoAW8A4P8TAJEAqwA9AKz/T/8k/wX/8f79/hr/Iv8Y/yT/Sv9a/z3/MP9+/xQAkQDAAMoA4ADzAOoA5gARATIB2wAIAEz/Lf+V/wAAHgD//9H/rf+n/8r/6v+3/x3/cv4t/nD+A/+b/wgARQBuALkAMgGdAbcBkQF9AZQBjgEkAXAAzP92/37/2f9SAHMA3P/I/hn+gf66/7wAvQDf//v+zf5j/zkAwwDWAKEAagBUAF4AegCRAIcAVwAZAPH/3v/L/7P/qf+3/8f/vv+g/4v/lP+y/8v/xv+i/43/x/9WANMAsQDj//v+rP4X/7//IwApAP//1f/R/xAAiwDzAPMAkgAtAAgAEAATAA8AEwAGAMD/Uf8M/yn/i//r/xEA7/+j/4r//f/TAEUBqABL/03+i/68/9QAFQGPANn/e/+w/1wAHAF1ATcBnwAPALL/d/9X/2X/nP+//5r/Pv/9/hj/i/8cAIcAmgBXAP3/3P8MAFMAYgArAOf/yP/X/wAAOQBtAIAAZgA+ADIAQwBFABYAwP9u/0j/W/+Z/97/BgAPABQAJAAvAB8A+//k//n/MQBvAJUAmwCRAJkAxAD9AAgBvwA8AMT/if+K/5z/mP96/1v/T/9S/1L/U/9q/6H/2P/w/+v/4v/c/9P/4P83ANYAXgFqAQMBkABgAGkAeAB5AGYAKAC2/07/Tf+//0UAcwA4ANf/kf9z/23/dP+J/6b/u/+1/4n/Sv8r/1b/vf8vAIwA3AApAWIBfwGWAa4BjgHwAOz/A/+i/rv+8/4Q/xP/+P6t/k7+N/6k/lj/xv+o/0D/Df9d/xEA0ABBAUgBCgHOAMEA5AAdAVcBeAFpASoB4QC7ALQAlQA3ALL/Pv/7/tn+vf6p/q3+0/4T/1z/mf++/9D/4v8AABgAIQA4AJEAHQF2ATUBcQC8/5f/AwCVANoAoQAHAGT/J/+P/2IABwEOAYgA2f8//7v+TP4a/kn+tf4J/xr/F/9e/xsAEwHJAesBmwFLAToBMAHHAPn/L//Y/vX+Ov99/9H/OwCLAJMAbwBgAGQAMACf/+v+eP5w/rn+Mf+//zUAcwCZAPUAiwHoAZIBoACz/1z/r/9XAOsAFQG0AAAAcf9l/8D/DwAAAJb/D/+q/o/+xv4w/4r/ov+H/3v/sP8YAHgAnwCaAJwAtAC+AJ0AfwCpABYBagFjASUB9gDEAD8AUv9e/uD98/1M/pX+rP6q/rr+AP+G/zUA3wBNAWUBQQEgASgBNQEGAZYAKgD4/+3/4//n/wUADgC0//z+Tv77/QL+UP7y/sj/XABeABAAAABKAIQAbAA9AEIAWwBRAE8AowA1AZMBmAGeAe8BPgIEAigBGQBS//H+zv6w/mr++v2h/bz9X/4y/8P/9f/9/wgAGAAtAGUAzwAzAUAB+wDOABgBuAEzAjICvAEEASsAVP/B/qv+6/4Z///+x/6q/p7+ef5O/mT+0P5K/4L/f/+K/8//PQCxABwBdwGrAZ8BWwEJAdkA2ADpAOIAsgBhAAEAkv8U/6z+jf68/vr+Bf/X/qf+qP7q/mT/9/9kAH8AaACJABkBwQHmAVcBjQAkADoAaABJAOH/ff9Y/3P/sP///1QAnQC+AKgAYQD0/2z/3/5//oH+7/6O/wYAMAA2AGsA8QCQAeQBtQEtAaEARwAMAM7/iv9X/zz/NP9G/4b/3/8MANz/bv8g/yT/Wf+D/5H/oP++/9z/2v+y/4P/iv/9/88AogEAAsUBOAG6AGgAHwDN/4T/WP82/wD/xf6z/ur+Wf/X/zYAWwBEAA8A4//T/9///v8mAEUAPQAKANX/0/8OAGQApQC+AK8AfAA5AAQA8f/w/+n/2v/U/97/6P/p/+z//f8XACMADwDd/6P/hf+U/7v/1f/h/wAAUgDEAC8BdQGHAVMB3QBZAAUA5P/E/4//Yf9Q/0T/Lf8u/2j/qv+g/0r/Av8E/y3/QP9F/23/w/8qAIoA0ADaAJoARAAjADQALQDy/77/z/8IADAASABuAIYAXQAWACwAyQBzAYIB4gAVAJX/b/9z/4n/rP/B/6n/bf9N/3b/y//9/+D/kv9X/1T/hv/Z/0oAzAAsATsBAAG5AJwAkwBgAOj/Wv8Q/yr/cP+G/0//A//y/jL/pf8eAHYAfwA2APT/LADrAKYBygFYAbwANQC1/0D/D/8x/2X/g//E/1wA+QAMAYAA2/+O/5b/vf/o//T/of/5/o3+9f4RABkBbAENAWAAwv94/7//fQAsAUgBygAUAHj/Dv/m/gT/Ov85///+5/42/7X//f/5/+3/CQA8AGIAeQCGAHUAQgATABsAVgCSAJ4AcgAnAOX/x//Q/93/0v/G/+3/QQB5AFwAFwAMAEQAXAAMAIz/TP9l/4P/af9E/1j/nf/f/xcAZQCyALAAUQD8/x4ApAANAQYBpAAcAIz/Ff/3/lH/4P82ADAAAQDb/8D/sP/G/wwAVABhADkAFAAHAPD/tf+D/5T/6v9NAJIAwADnAPgAzABeAOX/r//o/1kAhwAaAET/rP7U/pv/XQChAGsACwDB/6T/wv8TAFkAQwDF/zD/4f7y/kv/2P9/AAIBFAG4AE0AIwAvADIAHAALAAEA0P9n/wn/Cv9y//v/YgCTAJYAfQBpAIIAwQDfAJ0AHQDL/+X/NABNAAQAof+D/8T/GQArAOf/jP9w/6X/9v8mACkADgDa/4D/Ev/K/tz+OP+f/9z/8v8BAB4AQQBiAIEAmwCcAHQAPAAoAFIAlwCkAE8Av/9R/0n/o/8nAKQA+gATAeMAdQD3/53/gf+V/7T/xf++/6f/i/90/2T/Xf9j/37/sf/o/wMA///7/xYAQgBLABYAzf+v/9b/GgBDADUA8f+N/zb/Jf93/wYAhgDDAM4A1QDmAOkAxAB8ABsAr/9K/yT/Z//7/3wAlgBHANb/gP9Y/17/l//p/xIA8//G/+n/YQDJAMwAlACLAMIA4wCsAEUA///Y/47/Cf+B/kT+Yf62/i//xv9gAMcA3wDMAMYAxwCWABcAjP9a/6T/GwBUACgAzv+Y/7L/FgCnADoBnQGpAVwB2gBYAPz/x/+m/3r/QP8L//b+B/8v/1//jv+v/63/i/9y/4r/y/8NAEcAmgAYAY4BpwFOAckAaQA/AC4AIwAiACIA+/+W/x3/1v7j/i7/jf/o/y8AUgBJACUADQANABEAAADi/9L/3f/v//L/7P/t/+7/1v+d/2H/Rf9R/3r/x/87ALoAAQHwAKcAYwBAADEALgA6AEYAMQD1/7f/oP+v/8//AgBOAIoAeQAUAKv/g/+V/6T/mP+R/6D/sf+2/87/EQBfAHMAPgDq/53/V/8d/xv/e/8ZAKgA9QAPAQ0B6QCpAHoAgwCeAHoAAwCC/zv/Kv8l/zb/iv8OAF4AMgC8/23/c/+Y/6L/q//u/2MAvwDJAJ8AfQBwAE8A/v+S/z//Hv8s/17/sP8LAEkARQAFALX/ff9o/3H/l//e/ysATAAmAOb/2P8XAHIApQCnAKcAvQDMAK0AZQAbAO//5P/9/zUAcQB/AEgA6v+O/0P/BP/l/gb/YP+z/8z/u/+4/9f//v8WADYAbgCqAL4AoQBrADcADwD9/w0ANwBWAFAAOQA2AEQAOAAAAMT/wP/9/0UAYQBCAAoA6v/6/ygASQA6AAoA6v/2/xgAJQALAOL/xf/A/8j/y/+4/4r/S/8T//f++/4m/3r/7f9ZAKEAwwDQAMIAjgBHACUASACHAJwAdAA2AAYA2v+e/2//ff/I/xgAOwAuAAoA3/+w/4r/h/+u/+X/CQATABYAIwAyADAAHAAQACIAPAAvAO//r/+t/+X/FgAbAAkABAANAA0ABQAEAAMA6f+5/5r/ov+3/73/yv8FAGsAvADHAJEARAD7/7z/lv+Y/7n/2//r//n/IABfAJMAmwCAAGkAbQB0AFMAAACs/4r/ov/N/+T/5v/h/9f/v/+f/5P/sv/5/0gAfAB+AFMADwC5/0r/y/5v/mz+v/4s/4X/4P9pAAkBYwFAAcoAXwAuAC4ATACCALcAtABoAAkA3v/v/wUA/f/m/+H/5v/Z/6//gv9m/13/Zv+N/9z/PAB9AIYAeQCHAK4ArgBYAM//Zv9F/0H/Lf8e/07/uP8jAGwApgDeAOoAnwAdALj/j/98/13/S/9q/6L/vv+1/7T/3v8fAFwAjwDAAOAA2ACxAIkAYAARAJH/Fv/u/ij/jf/l/y4AeQCvAKEAQwDH/2z/Vv+D/9v/PQCGAKEAkwBxAEkAKwAsAEYAUgAuAPL/1v/p//L/wf9z/0//bv+r/+j/KQBqAIUAZAA0ADQAYABpABsAnP9C/z3/cP+q/9r/DQBQAJcAygDSAKcATwDn/5T/df+D/5j/m/+V/6D/v//U/8f/pv+b/73/AgBSAJUAsACPAD4A8f/U/+T/9//+/w4ANgBVAEEABADW/97/CgA4AFgAaQBhADgABwD3/xAAMAAxABUA+f/u//P/AwAdADEAJgD6/8b/pf+Z/5L/j/+a/7D/wP/P/+//JwBVAFQAKgAEAPv/+f/o/9P/0v/g/97/wP+d/4r/hf+O/7f/CQBhAHsAPgDZ/5T/lv/Q/xwAWQB2AHkAegCJAJgAkAByAFUAPwAgAO3/vf+r/7L/s/+n/6T/t//V/+v//f8VAC0AMAAhABgAIgAtACQADwAFAAkADAAKABcAQABtAHgAVgAhAPj/3//N/8D/vP+7/7P/pv+k/7H/xf/g/wMAJwApAPP/pf+B/5//2f/+/wwAKgBhAJIAmgCGAIIAngC0AIkAFQCR/0X/SP9z/5n/uP/q/y4AVwBBAAAAzP/L/+3/DAALAOD/k/9K/zr/d//b/yUAQQBQAHoAsAC9AI0ASAAqADwAWQBSAB4A2f+m/5v/s//T/+P/4//s/wcAJAAnABIA9//c/7v/lP+C/5v/1f8OADIAQwBEADIADADj/83/0f/i/+7/7v/o/+r/+f8LAA4AAADt/+T/4P/R/7j/q/+7/+H/AwAaACgANQA6ADYAMAAuACoAHgAMAAIAAwABAPj/9P8IAC8ATgBTAEwASABGADoAIQACAN//sv+H/3b/i/+0/9P/5P///zIAYQBjADEA+v/2/zQAiACxAI8AOADf/63/qf+4/8P/zf/q/xkAOAAnAPH/w/+8/8//4f/o/+T/yv+S/1f/R/9s/5z/r/+2/+H/NQB+AIQASgABANH/w//Q/+3/CwAhAC4APwBUAF0AVABPAF0AZQA3ANP/aP8r/x//MP9k/83/WQDOAAABAwH9AO4AtwBYAP3/xf+s/5z/lf+m/8v/7/8JACkAUwBzAG4ARAAMAN7/tf+J/2D/Uv9t/57/yP/i/wEAMwBgAGcASQAmAAYA1f+H/0j/Vf+5/zsAoADTANsAxQCdAG8APgAFAMT/i/9p/0//LP8P/yX/ff/1/10AowDHAMEAhQAnANb/rP+p/8L/+/9TAK4A4QDeALoAkQBqAD4ACwDa/7P/lP9y/0//Pf9K/3D/l/+z/8//+P8gACoAEwD+/wkAMQBUAF4AWwBZAFQARAAqABcAFgAnAEUAYwBqAEsAFADh/77/mv9o/zf/Kf9L/43/z/8AABwAKwAyADcAOQAtABIA/P8AACQAUQBtAHAAZQBZAFAAQwAoAPb/t/+I/4X/qP/K/9H/xv/F/9L/2f/P/8r/4f8JACkAMgAtACYAGgALAAYAEQAbABMABgALACEAJgAGAN3/zP/Z/+f/7v8BACQAOAAhAPH/yv+z/5X/a/9X/3L/rP/a/+z/+v8UADEAPwA/AEUAWQBvAHQAagBcAFcAWABYAE8APwAtABQA8P/F/6H/kv+W/6D/qf+x/73/xf/F/8T/zv/h/+z/5P/R/8n/1v/v/wkAJgBGAF4AaQBoAGQAXABJACsAEQADAAAA//8GABYAIAATAPb/4P/f/+j/5v/Y/8n/wf/A/8j/3P/4/w0AHQAwAEYAUABEAC8AJwAtADEAKwAiABgABQDg/7X/nv+l/7z/0v/i//D/+v/5/+7/4//i/+f/5//e/9L/1P/t/xQANQA/ADIAHwATAA8ADwANAAkABwAKAA8AFgAXAAwA9P/V/7z/tP/A/9j/8/8FAA0ADwARABMADQAAAPX/+v8LABYAEQAJABUANwBdAHUAgQCDAHcAWAAvABEABwAGAAMA/f/4//L/5P/P/7n/qf+j/6b/tP/G/9L/1v/W/9j/3P/l//b/BwANAAEA7v/g/9n/0//O/9j/9P8QACEAKgA0ADwANgAmABwAGgAKAOP/uv+x/8z/8f8PADIAXgB+AHgAUAAnABEABwD///n/+v/4/+j/z//D/9P/9/8aADIAOwA4ACcACwDp/8b/qv+X/43/kP+g/7r/2f/3/xIAKAA3ADwANgAkAAMA2P+0/6r/tv++/7n/uP/V/wwAQABeAG8AfQB/AGoASgA3ADAAHgD0/8T/rP+z/8r/5f8AABcAIgAeABQACwAAAO//3v/a/9z/0f+1/6D/r//i/x0ATABqAH0AgABuAFAAOwA1AC8AGwAEAPz/BgAUABQACwADAPr/5//L/7b/s/+8/8D/wP/I/97/9f/+//3/AAAQACYAKwAZAP//7//v//n/AQAIABAAFwAZABMACwAAAOr/zP+2/7b/yP/b/+X/8P8EABcAGAAKAAEACAATABUADgAHAP//7f/X/9P/6P8GABoAIgAmACsAKgAhABcAEgASABMAFwAfACQAIAAVAAoABAABAP7/+f/z/+7/6f/m/+b/6P/p/+n/6P/s//f/AQAEAPv/7P/o//D//P8DAAoAGQAuADwAPQA2ADAAKgAcAAoA+f/s/+H/1v/T/9//+P8RACAAGgAEAOv/2v/X/9z/4//p/+z/6v/m/+n///8dADYAPgA6AC0AFADv/8//yf/b/+//9P/r/97/0//P/9n/8f8IABIADwAKAAYAAAD6/wAAFAAnACgAHwAXAA8AAADs/+X/8f8AAAUAAQAAAAQABwAKABIAHAAcABAABQABAPj/3v/D/8T/6P8UADAAOQA9AEAAOAAkABMAEgAZABcACwAAAAAABwAQABUAFAALAAAA/P8CAAwADwALAAIA9v/h/8r/uv+z/7X/wv/k/xAAMQAyABoAAQD0/+b/0f/D/83/8P8ZADgAQgA3ABwA+//d/8f/u/+5/8P/1P/l/+//8v/z//f/AgAWACcAIwACANX/t/+z/8H/1v/x/xAAJwApAB4AHQAsADkANQAsADAAQQBLAEEAKwAYAAsABAACAAMABAABAPv/9f/w/+z/6//r/+v/7P/w//b/9f/s/+f/8f/7//H/0f+1/7L/xP/a//H/EAAxAEEAOQAnAB0AGwAXAA0ABgAHABEAHAAjACMAHQAVAAwABQAIABcAJwAkAAoA8P/v/wAACQD5/9//1//g/+n/5//n//D/+v/8//3/CQAeACsAIwARAAYABgABAPD/1//I/8z/2//q//T/+/8BAAcACAAGAAQABgAFAPn/4f/M/8r/2P/m/+n/6f/3/xUAMwBAADwAMAAhABMABgD9//n///8JAAwA/P/d/8L/vv/S/+//DAAmADcANQAhAAwA///0/+n/6P/+/x0AKgAZAAAA//8XADUAQwA9AC0AGAACAPP/6f/i/9j/zP/D/8X/z//b/+P/6f/3/woAFwASAAYABwAaACUAEgDw/9//7P8EAA8ACwAIAAgABAD9//z/AwAGAPv/6v/m/+//+v/6//f//P8JABMAEwAIAPz/8v/t/+z/8v8BABoALQAvACYAIwAqACkADwDp/9T/3f/u//D/6f/s//7/DwAXABsAHAAVAAUA+//+//3/6f/M/8L/zP/U/87/zP/a/+n/5v/h//X/HQA4ADYALgA1ADoAKwAVABEAFwALAPD/6v8KAC0ALgAZABcALQA2ABYA5P/D/7//y//a/+r/9//6//T/8P/w/+z/4//e/+L/6f/t//H/+/8KABkAKQBAAFsAbgBrAFIAKgD7/8z/rP+r/8v//f8nAD0ARABFADgADgDP/5n/jf+p/9D/6f/4/wIABQD+//P/7v/q/97/1//s/xgAPgBEADQAIQAJAOn/zf/R//P/EQAaABwALABCAEEAIQD5/9v/zv/Q/9//9/8HAAYA///8//r/7P/Q/7z/w//g////EwAgACYAIAARAAEA+P/y/+//8v///xEAHQAdABUACQD9/+//5v/l/+7//P8LABkAHgAbABcAGAAdABgACgD//wIAEQAZABYAEgAbACoAKgAUAPL/2f/S/9b/1v/O/8X/wv/G/9D/3P/q//P/9f/3/wEAFAAgABoADwAPABkAGAABAOj/4//x/wAAAQD//wAABQAHAAQAAwABAP3/+v8DABoALgAvACAADwAEAP//+v/0//D/8/8AABcAKQAnABUAAAD1//H/7//t//P/AQASABsAFwANAAUA///2/+7/8/8NADIAQQApAPv/3f/h//L/8v/d/87/2P/w//3/+P/y//b///8AAP3/AAALAA0A/f/p/+r/+v8AAPH/4v/m//P/8v/q//X/GQA6ADwALQAnACoAIgAJAPb/8v/x/+b/3v/t/w0AIAAXAAAA8f/t/+v/6P/p//L//v8IABIAGQAXAAwAAAD6//j/+v/8/wAADAAiADcAOAAeAP3/7//1//b/3P+9/7v/2f/2//v/9v/+/wsABwDx/9//4//z//v//P8FABwALgAqABIA+//z//z/BgAFAPX/5v/p//n/AgAAAPr/+/8AAAAA+f/8/wwAIQApACIAGQAUAA0AAADy/+3/9v8DAAkABgAEAAgADgAMAAQAAwAOABkAGAANAAUA/f/r/8//u/+8/83/3//s//n/BQANAA0ACgAIAAUAAgAFAAwADAD//+7/7f/7/wcACAAEAAoAHAAvADkANwAqABcACAAIABMAHwAgABgADwAJAAUAAAD8//r//P///wMACQAKAAEA8v/o/+r/8v/y/+L/y/+7/7z/y//d/+r/8f/y//T//f8FAAMA9//q/+7///8IAAEA8//y/wAACwAKAAkAGwA9AE8APgAYAAAAAgAPABQAEgAQAA8ACAD9//j/+f/5//L/7//3/wAA///w/+P/4v/p//L/+/8HABIAEwAKAAEAAAABAP7/8//o/+3/AAAWAB4AGgAYAB0AIQAbAAoA/P/2//j/+//8//z/+v/4//L/6v/r//z/FAAZAP//1//J/+H/BwAcABkADgAEAP///f8BAAUAAAD5/wAAGAApACEACgAEABkAOABBACwABADh/8//z//Z/+b/8f/2//H/4P/O/8j/zf/U/9j/3f/n//L/9//1//L/9v8AABQALgBDAEQAJwD2/8v/wf/e/wUAGQARAAIAAAAGAAQAAAANACoANgAcAPT/4f/u/wAAAwAAAAQACQAFAP3/+//9//n/8//+/xsANAAuAA8A9//z//v//v/2/+j/4P/i/+n/8P/1//b/9//z/+f/2v/Y/+P/7//x//L/AAAXACcAIwAUAAoACAALABQAIQAqACIADAD9//7/BwAJAAQABQAWACkAKAALAN7/vP+2/8j/3v/t//r/CwAYABEA+v/q//T/DAAcABoAFQAXABcADQAAAPv//v/7/+v/1//R/+T/BgAnADYALgAeABUAGQAeABoACwD7//P/8v/0//P/8P/v//H/9P/2//X/9P/0//P/9P/8/wQABQD3/+T/3//s//v/AgAHABIAGwAXAAsACgAaACkAJwAdAB4ALAAwAB0A///p/+H/3//a/9T/0f/U/97/6//4/wAABQAPACAALwAxACcAGgASAAgA+f/o/+b/+f8NAAsA8//c/9f/2f/P/7z/uv/U//b/BQAHABcAPABaAFYAMAAFAOf/1v/Q/9f/6f/4//r/9P/w//P/9//5//n/+v8BABMALABAAEEALwAWAAIA8//n/+D/4f/o//H//P8KABcAGgASAA0AFwAsADwAPAAsABQA+v/f/8n/wf/L/9//8v/9/wEAAwABAP3/9P/p/+L/4//u/wMAIAA+AFEAVABHADMAHQAFAOr/zP+z/6j/r//E/+D//P8RABwAGAAIAPb/6//v//z/CQAXACIAKgAnABkACAD+//7/AgABAPv/8//r/+P/2f/T/9b/4v/u//f/AAAOAB8AKQAnABoACgD9//H/5f/c/9n/3v/u/wIAFwAkACQAHAAWABoAJQAvAC8AJAAPAPb/2//E/7n/vP/M/+b/BgAkADYAOQA4AEEAVwBuAHMAYAA5AAMAxv+M/2n/Z/+C/67/3v8DABcAGAANAPz/6P/Y/9n/7f8HADYAtADNAZIDmwUUBwcHtgQFAMb5nvNy75nub/FH97P+4QUjC3UNuQyDCcgEwv/a+1D6lfv6/gcDNgZ8B3YGbwNK/0z7tvhR+CL6dP0hAQYEUAW3BH4CYv9i/HP6KPqK+xz+CgFoA30EDQRmAjoASP4g/Q79Ff7r/woC1APBBIkEPAM5AQz/Q/1P/Gn8fP0h/7cAsAHHAQ8B0f9y/mL9A/18/Z/+CABSATICeAIHAuwAcv8T/kj9XP1Q/t7/jAHYAl8DAQPiAVoA3/7h/aT9Jv4k/0IAKwGWAVABVwDx/qD96PwS/RD+kv8mAV0C1AJeAhwBef8F/kf9hv21/n4AWQKwAxMEXAO9Abb/5/3l/Ab9OP4BALYBtAKjAoMBrf+0/UH81/um/Hj+xgDkAicEJATaArsAf/7h/Fz8Ev3D/uUAxgLJA58DXQJxAHX+Bv2S/DP9qf51AAYC2wKmAnABpf/o/dX8v/yk/T//FgGbAk0D8AKoAen/SP5S/Vz9YP4CALIB3gIeA1oCzAD0/mr9qfzp/Bf+1/+hAeoCSwOrAkUBiv8G/jP9VP1a/uj/dAF7AqgC8gGaABr/7/14/dr99/5wAMUBfAJZAmkB/f+F/nr9OP3X/ST/swAJArsCkQKTARIAjf6B/T/91f0T/5UA5QGbAoQCsAFtACz/U/4h/pn+iP+YAGsBtwFfAYcAgP+c/h/+Mf7S/tX/4gChAdsBfwGcAF7/D/4P/ar8//z//XL//gBBAu8C8AJgAnABWgBr//L+Lv8yAOEB5QOuBY8G8AWWA8j/QvsI9xf0EPMb9PP2Dvuy/wMENQfDCJ4IIwfqBJcCtgCc/2H/5P/WANIBbAJfAqMBaQD+/rX91/yR/N38gP0u/q7+6P7k/sX+xv4f/+n/BwE1AiYDmgNoA5QCTwHz/9r+Rv5N/tv+s/+AAPgA9QCIAOf/Tv/q/sn+3/4K/y7/OP8l/wH/4v7r/j3/4v+7AIwBFwI6AvUBZAGzAA8Aof94/4//xf/1/wEA6P+0/3//Xf9f/5D/7f9hAMoABAH8ALgASgDM/2D/KP84/3z/yf/2//T/xf91/xT/vv6b/sT+N//Z/34AAQFDATwB9gCOACcA2v+y/6z/vv/d//X/8//O/5X/Zv9U/2L/kv/j/0YAngDRAOYA8QDpAKcAGQBu//H+y/7w/kL/rv8sAKMA8wAMAfYAxQCKAFQALwAiACEAHQALAOv/vv+H/1D/J/8Y/yz/Zf/J/1MA9ACOAQoCXAJyAiwCZwETAED+Gvzs+R34IPdL96348vp+/bP/LQHgAfcBtAFjAVUBwgGgAqoDiwQJBQIFZgRMAwoCFAG4AP8AyAHZAtADMAS2A48CPQExAJn/df+//1IA6QA4ARcBjQDB/+r+Rv77/Qz+Xv7J/hf/Cv+C/p39o/zO+y77y/q0+vH6Yvvg+1X8uPzu/Nn8h/w4/DH8j/xO/WL+uf8vAZkCzAOtBEYF7gVEB9MJnA3+ERgWOhkCGzYbtxmhFlcSWg0RCLsChf2Q+Obzau8L6/bmpOOd4SXhH+I35CHno+qC7oPyhvaY+tT+JgNIB+EKpg1eD+kPVA/SDZ0L1QiRBf0BTP6T+uH2a/OY8L/uCO6E7knwOPPe9sH68v4UBMQK+RIRHDglky0hNMk3xzf/M+ssUCMOGBYMSgBG9TzrHOLW2ZbS2cxGyWXIY8oNz+vVZN7H52Lxp/o4A+EKdxHUFtIaQB3aHWcc6hi7E2INXwYY//b3jfFz7AHpOuf65jTo8+ou76H01Po7AVEHpgzxEAAUohW3FVMUtREKDkYJYQO7/B32XfAa7OfpdepC7gT1nP2lBiQPqBYFHQ4ihSUoJ8ImRiTNH4sZthGlCPj+g/UA7ejlmeBr3W/cH92g3nXg5uKT5rvrB/LX+KT//wVuC4IPFhJUE4UT2BJeESgPWgwiCZAFfQGo/Bj3VPEo7C3oleWL5IDl7Oi97hf2vv2SBKIJHgyuC/0IuwXPA30ENQjZDtMX5iE7K/sx/TTqM/QuoSa/G0EPAgKq9OjnrNz001TOxMvsy5rOyNNE22LkF+5g95b/bQbJC5wP7xH0EvYSNRLMELMOzQsGCGgDQ/4n+br0X/Eh7+Ltp+2d7s/w8vOE9yv76f7pAi4HVAu/Du0QsxEnEWQPhAzhCB0FrQFM/if6z/Tc7pfpM+aa5dLo7fAe/tQOGSDiLjA5Nj7vPdo45C8/JCQXrgnJ/P7wZebn3MnU2M77y5fMUdBb1tPd+uU/7kX22v3hBEEL4RCkFU0ZdBubG3IZFBUVD1AIkgFk+wf2tPG37kjtSO1G7tHv2PGa9Eb4q/w9AWEFqAjbCuELxwveCrgJvAinB4wFjQGn+730E+766AnnK+q28xkDfhX1Jic0UTsgPDw3+i0SIjIViAiq/LrxpedJ3sbVzs6XylXKg86Q1gbhFOwg9jf+MgSKCN8Log74ENMSCRRTFE8TrxB4DDIHvQHb/MX4QfUU8nPv7e3t7WXv5/EP9bT4yfwbAT0FrwgiC4YM9QyLDHoLIQrsCOMHaQaSA+T+v/gj8jzsVegG6Pfs7PfNB6EZmSmXNB05XzexMNkmlhtNEM4FN/wr80XqfuFa2dfSNM+Bzw7U/duA5Z/uFPas+xQATwQGCRsOrBKpFXgWLRUxEu8N2QijAxj/k/uv+KD1//FL7qrrLOsj7RTxIvaA+5YA8gQ7CF8KngtWDKkMbQx0C+EJFAhBBh0EBgGS/P/2KPEf7Orotejh7Hz2KgWKFtgmhzKxN3E2OjDvJkUceBE3B6P9d/Rp64fibdoo1OTQgdEi1uDd5+Y676f1U/pX/tsCZgieDnMUixjiGU0YcBQyD1EJdgNb/m/6Yfc89FvwNOwq6ZnoCOsL8Jr2e/2MAxQI7Qp6DFwNBg59DmIORg0TCyUICAX8Acb+/vqY9gvyB+4s61Tq+OzQ9HoCMhQFJpczJDpXObUyfSjBHPgQ4QWY+8/xQegZ3xnXZdEPz6/QI9Z23u7nmPA69/b7EQDuBAoLsRFhF4YaRxr0FsgRGQy8BggCJv4H+zb4APUh8TjtfuoF6jHspfBw9lf8RQG/BPoGjQgECpYLGg0JDsQN/gsNCcIF0gJcAOj96vo79y3zWe+O7Avsju+X+BAHgBitKJwzWjdvNOcsECOzGNIOnQWf/DLzNelk3xnXsdER0GvSJNje38rnZO4+8zD3sfvMAV8JEhEDF8IZAhmaFe8QMgwFCIgEiQGS/gr7nvau8VPt2eoN6+rtsPI0+Dz95wARA1MElwV5B+kJSAzJDdENRQycCakGGwQHAt//7/zm+AL08u6/6vLoiesl9LYCrRSyJaQxcDaQNBQuVCUUHDYTugrtAQr4/+zS4TjY2tGrz7fRINdQ3nLlOuuQ75HzxvgLAOgIqhFDGE0bqhpjF/4SsQ4KC/cHAwWMAQz9dvd78WLsd+lv6SXstvDb9Vz6gv1f/64AYAL/BF0IsQsDDq8OsA2PCxcJ8wZeBfcD7wGQ/sD5HvSl7m3q2+i/65D09AIFFGIjgi1XMRww2ysVJmwf6hdRD1MF6vm07Q3imtid0nzQz9Gs1enaZ+By5Sbqa+9P9hz/2QiuEdwXmhpZGkMYexWcEsAPwAxeCToF8v+M+dzyRO366WvpMut27kLyu/Vv+Jv6Ev2TADAFKwp3DlMRfxIrEs4QBA9BDXcL8wjbBOX+sPde8AXqqeXC5CDps/MPA3wT3SDvKAAsxSu9KXUmxiFeGwsT4ghf/XbxY+ZN3fbWk9Po0mvUZ9cm20bfDeRI6pLyiPyoBi0PEhV6GCkaxRp5GiYZwxZ4E1QPHAqSAwr8p/TK7ifreOkb6b7paesC7iXxjfRx+Db9ugIsCJwMrw+aEaYS7RKIEo0RsA8fDDoGgP569pfvYOpF58bn8+1A+vwJnxi1IronQinjKAsnayPVHXsWpw2PA434a+1k46rb19a91K/U99UU2NXaZ95h42TqYfNF/XQGzQ0yEyUXBhrDGyccNBsZGdkVPhEuCxQE2/xu9kvxdO3L6ljpMekw6vXrSO5c8ZH18PrqALgG0gsAECQTJBUNFvcVmhQ5EVwLngN9+zr0Uu5E6qLpiu6D+REI2xV1Hz8ktiVpJcQjcyBOG6IUwQzBA9b5ye/m5kDgFNzY2dbYqthB2afaC93m4Lvmfe4795j/vwa9DPkRexbUGbMbOhy6GygaHBdSEiMMYAXL/sP4cfMQ7/PrO+qu6fDp9+ob7bPwp/V1+3kBLwciDAgQ7BINFWAWKxaBEy4OHAeh/6348vKx787wePeIApQO9Bf9HIEeUR59HdcbxhgQFOUNaga5/V70keuk5C/g1t3J3GncfNwP3XDeHOFh5frqHPEc99n8hAIQCAsNGxFPFO0W9RgCGp8ZnxcuFKAPSgqEBMX+mvlq9SzydO/+7Bbra+pn6+XtbvGx9YX6rP/DBHgJeA1BECoR4A/ODNgIvgT6AEr+B/6MAeoINRJoGkcfkyCWH5cd1xrsFrAReAuOBOv8qPSU7OjlcuET3xbeyd3S3S7eKd864bbkf+kP79j0kfojAHAFOgpJDo4RERTXFcoWxhatFW8TExDLCwwHdQJ2/gX7tvdB9N7wKO6f7FvsLe3o7nLxtPSC+Jv8rQBZBCoHvQjnCN4HGgYfBGECfwF1Aj0G2AzJFMkbVCB7IjUj/yJuIeodiRj2EbsK/QLh+v7yLuzq5v/i2d8b3efastnl2Zfbkt6H4kXnu+zK8iH5U/8MBTcKzA6sEqAVjhd1GEwY8hZqFBIRfA32CVcGQAKc/bf4G/RH8JDtG+zk69Hszu6/8VX1FPmE/GL/jwHpAlcDAwNWAuABZQLqBFoKlBLiG8Mjlih5KoYqXCmWJqUhuRqsEhoK+QAt91DtveSg3iLbadl32PrXWdgM2g3d8OBn5YPqXvC09uf8gQJ9B/4L9Q8qE4cVHxfhF3oXqxWlEvMOFAtFB5wDLgD6/M35bfbi8pTvGe3a69rryuxg7pPwgPMU9/P6q/7rAXEE+AVmBgQGbQVmBekGIwu2EpYcAiYyLFYusS3AK6gomiNMHIgTNwpwANP1qOpg4LDYR9Rr0snRoNEr0g/Ugdci3H7hjedy7vX1av0rBBIKSg/iE6wXfBpZHEMd+xwsG9QXYhNbDgsJlAM3/jj5k/T972rrcef65HjkoOXd59bqce5/8qn2rvqE/j8C4QUxCdwLzA28DzMTVRlrIe0odS2uLvgtaSyzKRQlnB76FmgOmAS2+eXuaOWu3XXXpdKMz3HOQM+80aHVkdoT4Nzl++uG8lH5+/88BuwL3BDsFCwYuxp6HAsdNRwYGv8WERNoDkMJ/AO+/nH5DfTf7ofqmOdD5kHmIOek6OLq3+1F8Zz0x/cW+67+JwL+BF8HXgoxDysWSh67Jfoqvi3XLgsvJy5NKwUmuh4gFpkMagI1+LXuK+Zh3m7XCdLpzh/ONM+p0R/VRNn43XLj9OlK8dL4BQC0BrYMxxHYFToZKxxYHhYfIR7MG4sYixTcD7AKOAVn/x/5qvLW7HHotuVB5Jvjs+PM5APnCOpy7SbxU/Xs+XL+ZgLwBecJSQ+NFj0fAyg8L+0zOzbkNic2dzNGLsgmth2IE2UIufxr8Uznkt4f1x/RFM1Ny4XLLM3fz5jTd9h73mvl9uzV9MP8WQQiC+MQzRUxGgQewyDvIXQhlR+YHKgY9ROyDuoIigKu+9r0we7c6UHm2OOO4lviJ+PU5Ffnsurb7qfzz/gB/v4C6QdoDV8UEh2LJu0urjR4N+Y3kzaaM+MuhiiuIFwXmwz2AHf1Auvd4drZ8dKAzf3JisjdyJvKnc3v0ZHXTd7T5ebtWfbO/rUGpw2rEw4Z2x2rIfojkCSJIxshex3nGJ0Trw0RB+D/i/iw8c3rKufd49rh+uAW4SfiNeQ15x7r+u+59d/7qwHvBpEM7RNeHYUnJzC6NSY4ODi1NvszGzDpKvwj7xrsD+QDIPh97RbkiNuc06bMW8dKxH3Dn8Rex5fLKNHX133fJei68Z774QT9DB0UmhpWINwk6yeSKcEpKCisJL8f/RmnE58M5ATM/Nz0o+2n50fjd+DU3g/eLt5t3wziSuYn7Pvyj/lH/x0F7wxhF7kiIywBMsI0wDXINeI03jKBL0MqhSJXGN8MtAGv94DuYuUk3H/Ti8zxx6LFLcU1xpzIXMx10QDYEuBZ6e7yzvuSA6IKfxEZGNEdDSKdJJIlAiUAI7kfbBtOFm4QzQmQAiz7XvTN7pXqU+ep5K/ivuEb4vbjkufp7Bzzxvh2/Y8CGgpqFEsfyyesLPQuTjBsMfAxSTEQL80qDCQLGxQRqgdP/zr3c+4L5S7cLNWC0NPNfMwgzMXMs85C0qfXtt7A5tHuO/b9/JoDcwpEEUwX5RveHmMgoiCvH5sdgRp1FnkRmQsYBXb+Svj/8qXuB+sD6LnlWOQI5BDl7ee57IHyw/cO/NEA/QevEcUb0iMNKS0s8C17LvAtqiyVKssmdSD6F9kOUwaD/sb2ve6+5oPfsNmV1RrT49GR0RfSvNPi1qnbwuGL6Fnvz/UA/CoCZgh4DvETXhhcG7QcghwuGxsZZBbfEmoOJAldA3D9vPel8nXuMeug6JLmN+Ut5SfnTOvd8JD2kftNAAoGig0SFt0dhCPZJoIoISn+KDcoxSZFJCcgVxqgEx0NOwd5ASf7PvR27ZnnCuO/34TdEdwk27LaDtu73PHfYORb6U/uEfPR99H8FQJTBwYMuQ89EqsTNhQAFA8TWBHSDoMLmwdwA1L/W/uE9+Xz4PDl7hzuT+5C7wPxzPOT99b75/96A+kG0QpwD1kUuRjzG+sd1R7iHi8e3xwSG7wYqhXYEZoNTgkBBXgApvvQ9kzyQu7A6ujn1+Vr5GbjtuKX4ljjHeXT5z3rAO++8lT25/mj/W8B8ATQB+4JUQsSDEkM+wsOC3AJTwcPBewCxABa/sz7nPk5+KP3i/fG93r43fnd+xf+IwDwAcgDCAbBCJ0LIA4BEEcRKxLZEloTnROMExATExKSEKsOiAxCCskHBAX8AeL+3/v8+Dj2o/Na8Vbve+3S66vqZeoP61XsyO0779HwwPIT9Z/3Jvp5/ID+KwB2AWYCCwNmA1wD5AI1AqYBSQHRAO//zf73/cH9+v1C/ov+Fv8IAD0BeAKeA7kE1QUAB0YIkgmqCmgL6wtuDPoMXA1uDTsN1QwmDBMLuAldCCsHCgbPBGoD4gE1AFr+W/xl+p74CfeL9RH0vPLJ8VvxTfFY8WbxqfFX8mfzovTl9TH3i/jd+Rn7SPxr/Vv+9P5V/9n/tACzAV8CfwJWAmEC5AKqA04EpATlBFsF+gVmBl8GGgYWBpUGWgfkB+sHngdmB3gHogeKBxQHdAbsBYIFBwVaBIYDuAIXAqoBUgHiAFMA2P+a/3X/C/8+/mX92vx4/Mn7p/qC+dT4kvhI+LX3Dfeo9p72yfYC90D3j/f79434P/n5+Zn6GPuf+238mf3p/vf/kQD6AKMBrgLQA7cEYgX1BUoGEwZjBc8E1gRHBYgFTgXmBKsEmQRvBBcEvQOMA30DaQMmA6QCAwKEAUIBCwGcAAwAxf/x/zoAOwD//97/6v/T/2X/2/6K/mr+LP6n/QP9dPwO/Nb7wPuh+0b7u/pY+lf6kPq2+r/64fo8+7n7M/yj/A79gv0i/gb//v+rAP4AYgEpAgIDUAMeAzUDFwQiBToFNAQsAzMD+wM5BEYD8QFyAeYBMgJkAb7/Rv6p/dL9b/5X/1IABQFZAdoBIAPmBBYG8QX5BFoEfwSlBPcDvQLrAbkBRQHx/4b+Tv4y/5f/Y/5s/Fn7ivv++wn8KPzX/Hz9Sv2w/Pr8gf4TAIMAFADf/zEAWwDq/1j/P/9x/1T/4/6z/g3/ev9h/7r+7f1k/XH9VP7Y/yEBcgEdASMBxAEiArcBbQFtAjkE9QTFA/cBYAEqAgED5wIqAo8BXgFcAUMB7wB1ACwAWQCoAGUAaf9u/if+W/5c/hH+8v0f/i7+8v3N/QT+RP47/jL+if73/vz+uf7H/jP/Z/8q/xP/o/9+APQA1QBbAJ7/tP4S/in+uv4r/1n/g/97/9P+4f2r/V/+3P5y/jH+Uf8AAUMB7P8X/zoAEwKaAtsBdwHcAcABegBS/5//xAAgAWQAzf8MAFIA0P8k/2b/SwCGAM//Y//x/0AAC/9j/Zr90v9xAdAAqv9pAEUCVgIsAKz+m//vABsAKv4I/tT/vwCc/4/+av/BAH0AZP/E/7MBAwOjAr8BWgH8AGsAjgB1AWsBmf8Z/k3/9AFuAr7/6fy4/E3+Qf9U//7/agESAl4BwQCBAdICFAMXAh4BBAFUATABbACD/+H+h/5K/jf+jP5E/9n/v/8P/2f+Mv5p/vT+0P+VAJ0A9P+g/1IASQFaAbwArgBiAZwBuQDW/yAA/gAMAUkA5f8eAP3/Pf8R/y0AVAEEAcH/Tf8GAIgA+f89/1P/r/9Z/9b+hv9aAYICxAEWACr/OP9H/w3/SP84APEAxABkAKgA9wAlAKr+df4uAPMBtAHt/7X+0/42/yL/O//x/2oA8/9X/5H///9U//P9nv3C/tD/tP9t/ywAPwEzATkAxf9DAMYA5gBLAQYC+wHPAPX/jgBmAYQATf4z/VH+5f/Q/0b+Ff03/SD+5/4o//X+vf4m/0AAFQG7AMz/xv/nALoBMgE8AEgAIQFtAeAAhgDMAKsAfP9i/sb+FwB5AIj/9f7u/z0BEwG//zn/OgA8AcoAhv/i/v3+5f6L/tn+1P87AJP/J/8XAHUBmwGuADAAdQBcAKv/wf8pAT8CkwFLAFwAaAF0ATUAe/8KAGcAff96/sn+vP/f/2L/YP++/5r/Q/+n/ywAbv8Q/mr+owD3AfgAAABKAf8CJwLX/6j/rAEuAvH/hP5KACMCXQAY/Sv9QgAwAUH+G/xO/oMB2QCo/TT9KwDIAcP/+/32/w0DxAL7/03/fAF7AlYAc/7S/woCQQFq/qL9nf/kAK//Vf7s/gQAz/9n/18ASgEOABj+ev62AEcBfv+v/mcAkAHY/zP+IQBbA+8CWv8N/rIAfgImAHH98f5UAhYCm/6a/b4A+ALbACn+ZP89AnoB1f0I/WYAgALS/238af3PAB4Baf4f/s8BKQRdAVP9of3vAIcBvf7S/R8BCwR5Al3/sf8lAlcBDP0p+4D+KQIRAaT9jv28APsBn//e/Yr/iQFmADf++P6rAd8BGf/E/REAcwJbAcr+2v44AfsB//90/pP/VwEYAav/mP/pAE0B8f+o/vL+yP9+/3H+fP4xAOIBvwErAC//yf+pACgA0P7L/qcAOgKcAQkA/v9ZAZUB7f/G/t3/VgGsAM7+r/5yAB0BYP+1/W7+HAAZAMX+pP4gAAMBNwBp/wgA8gCSAKD/0P/SAMsAb/+v/tL/jAHvAegA7//h/1wAvwDOAFwAVP85/vn92/4CAGcA7v9Y/07/tv/6/8L/U/9F/9L/nAAqAV8BTQHnADsA0P8eAL8AtwDg/0P/rf9yAFwAUv9k/ln+//7G/0sARwDC/2b/1/+OAGYAdv8y/yMAzwADAP/+qf9gAbYBLQAP/9r/BgGiAFr/Kv8dAIwACADp/6wA+wD4/9v+I/8+AIMAtv8z/9H/zAAIAXUA0f+d/8P/9P8IABAAEwD4/8H/zv9aAMsAQgAX/7r+ov9VALL/9P7T/2IBJQEw/3P+JACJASgA1f3Z/dL/qgDd//P/ngEaAvz/HP40/1gBEQEE/7r+pwCgAWsAu/8mAQ4CDQB+/Q7+xgCDAYD/S/7Q/38B5wCs/1EAtwEPAdr+UP4qAHoBZADb/jL/gACGAHD/If/Q/+H/9/60/uD/8AB9AHH/df9lANIAXwABADMAYQA7AD0AkwCZAAQAkP/X/00AIgCU/3r/5f8eAOH/qP/F/+z/4//m/xcAJQDi/6r/2v8yAEAACwDv/wEAIQBPAI8AogBVAP//FgB5AIgAHgC5/6X/qv+o/+H/UgBjANT/Tf90/9f/pv8c/yj/1/88ABEAMwAHAYEBtwCO/37/TwB6AK7/V/86AA8BfwBi/3L/jADiANL/2v49/xcA//9C/zr/5//3/xf/r/6k/8kAogCm/3v/YgDtAFEAkv/C/1wAUADW//f/rgDaAB8Aj//0/5AAUgCF/0H/s//1/6z/iP/8/2YAIACh/8H/WAB9AP3/o//y/2AATAD8/w0AZwBtABEA7/9KAJ0AaADt/7v/2f/l/8b/w//x/wEAzv+i/8j/DQARANf/vf/r/x0AFgDt/9r/5v/2/wUAJgBIAEUAHgADABAAJgAmAB0AJwA8ADoAHgAEAPn/6v/O/77/zv/p//L/6v/u/wEAEAALAAAA/f/+//v/+f/+/wcAEAAXAB4AHwAVAA0AEwAhACYAHwAYABcAFAAEAPL/5//l/+X/5P/l/+z/+f8PACQAHQDw/7f/oP+4/9j/2//L/8z/5/8AAAcACAAXACgAJQARAAwAHgAoAA8A6v/k/wYAKwAvAB4AFgAaABAA8f/W/9f/6f/0//b//P8IAA0ABwAEABIAJgApABwAEwAWABMA/f/j/+L//v8ZAB8AIQAzAEUAMgD+/9L/0f/j/+X/0f+7/6H/dP9N/1v/pP/0/xoAKAA8AEwAOQARAAAADwAcAB0ANABsAJMAewBDACMAHgAKAOT/2P/3/w8A///j/+n/AAD7/9T/vv/V//n////n/8v/vv/B/9H/6v8CABcALABCAFAAUgBOAEwARgA5ACwAJQAXAPX/xv+m/57/pP+w/8b/3P/e/8z/wP/L/9v/3f/a/+v/BwAXABkAIgA2AD4ALgAgACUALgAlABUAFgAhAB4ADQAIABIAEgD9/+v/7//7//f/6P/g/9//2v/Y/+7/FAAxADkAOQA4ACcABgDz/wAAFwAdABkAJQAyAB0A7f/S/+X//P/q/7//sf/L/+T/3//M/8T/w/+//8P/2v/y/+3/zv+7/8r/5v/2//3/DQAkAC8AKAAkADUAUQBgAF4AVwBTAEgAMQAbABQAFwASAAUAAgATACcAKQAZAAoABgABAPj/8f/0//f/7f/g/9//6v/w/+v/6v/y//j/8P/h/9//6f/x/+7/5v/i/+T/8v8LACAAGwD8/9v/0f/a/+H/4f/k/+3/8P/l/9j/2P/t/xAANQBQAFcATQA7ACMAAwDj/9j/8P8VACoAIwASAAkABAD6/+z/6//3/wAA/f/x/+3/+P8LABoAHgAZABAABgD+//f/9P/2//n/+//8//z//P/6//f/9f/0//f/+v/7//j/9v/4//v/+f/2//n/AAACAPv/9/8AAAkA+//d/9L/6/8PAB0AFAAMAA0ADAACAPr/9//u/9j/v/+x/67/sP+9/+H/EgA5AEMANwAkABQACAAIABkAMAA5AC0AGAAJAAMAAQD//wEACgATABEABAD2//T/AgAWACQAJwAnACQAHQASAAUA+//4//7/BgAFAPX/4P/c/+f/7//o/+b///8rAEgAPAAWAPH/1f++/6v/qf++/9//+v8AAPj/6//q//r/EQAhACUAIAAXAAoA/v/4//v/BwAcADgATABGACYACQAIABwAJgAdABUAHgApAB4AAADr/+j/7P/p/+f/7v/6/wAAAAD2/+H/yv/F/9v/9P/x/9n/0f/q/wgADgAEAAQACADz/8n/u//q/y8ASwAoAPL/0v/L/8n/yP/W//X/EAAYAAsA+P/v////IgBFAE4AOgAdAAwAAQDs/87/v//R//b/EAASAAoADwAfACcAHQASABcAJAAhAAcA8v/0//z/7v/O/8T/5P8PACEAFwAKAAgABAD7//T/+f////3/+f/8////+v/2//z/AwD4/97/1f/l//L/5//Y/+n/FAAuACIADgAPABoADQDp/9H/5P8VAD8ATABBACwAFQAAAPD/6P/q//L/9//1//H/9/8KACAAKwAmABkADgAGAP//9v/v//D/9f/3//L/7f/v//j///8DAAsAGwApACQAEwAHAAkADAAAAPL/8/8EABAACgAAAPz/9v/l/9H/0P/f/+b/2f/J/8r/0v/O/8T/zf/x/xcAIwAaABYAHgAgABMABAAJAB0AKgAmABkADQADAPr/9f/1//X/6//d/9r/6P/9/xAAIAAoACUAFgAHAAYAEQAbABsAFAAKAAAA9//w/+7/7//0/wEAGwA1AD0AMAAcAA4ABQD6/+7/8P8AAAgA+P/W/8L/z//u/wAAAQAEABYAJQAcAP//5v/g/+f/7//3/wAAAgD+//r//v8AAPP/4P/c/+r/8//p/9z/6f8JACIAHQAIAP3/AAADAAAA+/8AABUALAA0ACoAHAAdACoALgAfAAgA/v8AAP3/8f/n/+f/7f/y//f/AAAJAAcA///8/////f/1//L//P8CAPL/1P/F/9H/4P/d/9D/1f/v/wYABgD6//f/AgALAAsACQANABMAEAAJAAcACwAOAAsACgALAAoABgANACMANgAzACEAGgAnACsAEwDv/9//6f/0//P/+P8PACsALgAXAAAA+v/1/+X/0//Q/+D/8f/4//T/7P/i/9n/1v/h//P//v/+//7/AgAHAAMA+f/1/wAAFAAhACEAFwANAAcABgAFAAAA+f/7/wQACAD5/+H/4P8AACIALAAeABUAGAAVAAEA8/8AABwAKAAZAAQA/v/+//n/9v8AABIAGQAKAPT/5v/n//H//v8KAA8ABwD7//P/9f/z/+f/1//R/9n/4f/f/9X/0f/X/9//5P/r//b//P/0/+b/4//0/wYABwD6//L/9/8BAAkADQARABEAEQAgAD4AWABUADoAKQAuADMAHwAAAO7/8v/8/wAABwAYACcALAAsAC4AKgASAPD/1//N/8f/wf/K/+r/DwAgABoADgAFAPz/7v/j/97/2v/S/87/1v/f/9r/y//K/+L/AQARAA4ABQAGAAwACwADAAAADgAoAD0AQAAyACAAFAAPAA0ACQACAP7//v/+//b/6P/j//b/FQAnACEAEgAQABgAFAD+/+X/3P/j/+v/7//0//f/+P/9/xEAMwBDACsA+P/O/8b/2P/p/+r/5P/i/+f/8P/9/w0AHwAmABwACwD///v/9f/p/+T/8f8IABoAGgASAAwABwD6/+T/1v/Z/+H/3//W/9b/5f/5/wUADAATABoAGwAWABMAEwAPAAcAAgAGAAsACQACAAYAFgAmACYAHQAcACYALgAoABYABAD4/+3/4//g/+b/7//0//X/+f8AAAMA+v/p/93/3f/l/+z/7P/p/+P/4P/n//n/DAAUAA0AAgAAAAQACAAJAAwAEwAUAA8ACgALAAwACQAFABAALABCAD8AJAAMAAcADQAOAAQA+f/0//b/+P/1/+//7P/y/wIAEwAUAAYA9//v/+3/6v/s//T/+//w/9v/1f/m//j/9//v//z/HAAzAC8AHgAUAA8A/v/j/9T/2//p//D/9P/+/wkADgALAAQA/f/1//L//f8OABYACwD6//X//P/8/+v/1v/T/+z/EQAmABoA9P/N/77/zv/s/wQADAAIAAMAAwAKABIAFwAZABcAEwAPAAsABAD//wIAGAA0AD4AJwD8/9n/0P/c/+///f8EAAMA/f/6/wEACAD8/9v/vv++/9P/4v/e/9b/3//5/xQAIwAqAC0AJwAZAA0ACgANAAoAAAD7/wYAFwAcABQAEAAaACoAMwA5AEEARgAzAAkA3//O/9n/7P/2//b/9v/7/wIABwACAPb/5v/b/9X/0P/O/9L/4P/z/wMADQARABMAFQAUAA8ACQANABsAJwAlABYACwALAA0ACwAJAAsACgD///H/9f8IABUAEQAJAA0AFQARAAQAAwAQABYABwD0/+//9//4//D/7P/1//3/+P/v//H/+v/+//f/8//6/wEA/f/q/9j/0P/N/8v/y//U/+j//P8GAAUAAQAAAAEAAAABAAcADQANAAQAAAALABcAEQD///b/CAAkACoAFwAEAAIACQAKAAkAFQAoAC4AIQAQAAkACQADAPr/9//8/wAA/////wgAFAAOAPb/3f/b/+r/9P/t/+b/8v8LABkAEQAAAPj/9v/z//b/BQAaACEAFwAJAAYABwAEAP3/9f/w//L///8PAA0A7v/I/73/0P/h/9r/0v/m/w4AJgAbAAMAAAALABAABgAAAAYADQADAPD/7v8IACsAOQAvAB8AEgD+/9//yf/Q/+z/AwAGAP7/+v/+/wMABAD9/+3/3P/Z/+n//f8FAAIAAAACAAQABgAQACMAMQAtAB0AEAAJAAMA/P/3//j///8FAAgABQD//wAAEAAlACQACQDv//D/BAATAA0A/f/x/+7/9P/7//r/6f/Q/8r/4/8HABgADQD9//v/BQAKAAMA+//8/wIAAwD5/+f/3P/d/+n//v8UAB4AEADy/93/4v/v/+3/3f/d//j/EQAQAAIACgAqAEEAOAAcAAgAAAD6//n/CgAkACgADQDz//X/BgADAOf/0P/Y/+//+v/1//L/+v8BAAMABQALAA8ACQAAAAQAGgA1AEIANgAPAOL/yP/T//b/DQAMAAEABwAYAB8AFAAGAAYACgAEAPX/6v/q/+3/6//o/+//AwAcACsAKwAgAA8AAADx/+f/5v/t//f/+f/z/+7/8v/8/wAA/f/8/wAAAgD7//H/9P8CAAoA/f/p/+X/8//9//b/7v/2/wcADQADAAIAFwAvAC4AFQD8//P/8//u/+z/8//+//7/9f/2/wgAIgA0AEEATABPADsAFwD5/+//7f/j/9T/zf/R/9j/3v/k/+7/+v8JAB0ALQArAB0AGAAoADYAHQDk/7X/sf/J/9f/0P/J/9H/3//m/+j/9P8IABgAGwAXABMAEAAOAAwACwAGAP3/8P/n/+b/7f/5/wMABAD6//D/8v/5//f/7v/w/wYAIwApABYABAAOADAATQBNADUAGQAJAAAA8v/i/9j/2P/Y/9D/xf/J/+D/+f8DAAEAAAACAAAA+f/2/wAADwAVAA8ACwAPABIADQAGAAcADAAFAOv/zv/M/+n/EAAmACMAEgACAPv/+/8AAAIA+f/m/9z/4//0/wEACgAVACIAJgAcAA0ACAALAAwAAwD3//L/+v8NACAAIAAMAPf/9/8KABkAFQALAA4AGQAYAAgA+f/1//j//P8DABEAHQAaABAADAARABIACAD4/+j/3P/c//D/DwAdAAgA6f/f//H/AgAAAPf//P8DAPv/4//X/+X/9f/y/+L/4v/6/xQAGwAPAAQABQAIAAQA/f/+/wgADAACAPb//P8RAB8AFQAFAAgAFwAYAAIA8f/2/wEA9v/W/8X/0f/o//P/9P/5//3/9P/k/+T//f8YACAAEgAEAAMACAAIAAQAAwAKABYAIQApAC8AMQAsABwABADz/+z/7f/r/+X/3//c/9v/3v/s/wMAFgAVAAMA8v/t//b/BgAYACYAJAATAP//9f/4//z//P/9/wIACAAKAAoACQAAAOv/1P/Q/+n/CwAcABEA9v/a/8n/yf/f/wIAIQAmAA0A6//X/9r/7P/+/woAEQASAA0ABQABAAUADwAaACAAHwAYAA0A///z//D/+f8GAAwABQD2/+z/7v/3//7/AAACAAIA/v/3//b//f8FAAgACgAUACEAHgAFAO//9v8VACcAEQDm/83/1//u//v//P8AAA4AHgApACoAHQAEAPL/9/8OACEAGwAFAPH/4f/U/9T/6/8KABgACgD1/+7/9f/7//3/AAAFAAAA7f/c/+D/9f8KABUAEgABAOz/3//n/wAAEgATAAUA+//7/wAAAwAEAAgAEAARAAcA+//5/wcAHQAlABwACwD+//f/8//z//f/+v/6//v/AQAGAAEA8f/g/9r/4//1/wgAEwAOAAIA//8FAAwABgD8//z/BwANAAIA8v/p/+//+/8EAAgABQAEAAwAGwAeABEAAgAGABgAIAAXAAsACAAGAPr/6v/l/+v/8P/0//3/CgANAAIA9v/0//v/AAAAAP///f/6//n/AQATACUAKwAhAA0A/P/4/wIABwD2/9b/xP/K/9f/2P/U/9v/7P/4//7/BAAKAAUA+P/2/wsAJAAoABwAEwATABAABwAHABEAEgD9/+P/6P8KACkAKgAWAAcAAAD5/+7/6//w//T/8v/1/wMAEAANAP//+/8GAA8ABgD5//f////6/+b/3f/y/xMAIgAWAAUABgASABYADQADAAEAAQD8//T/9P/4//b/7f/k/+P/5f/l/+f/8v8DAA4ACgABAP//AwAMABYAIAAoACYAGQALAAYABgABAPj/9f8AABEAGwAbABcAFgAUAA4ABAD6/+3/4P/Y/+D/9P8GAA0ABgD9//j/9//3//f/+P/3//H/5//e/+H/8f8GABQAFAANAAgABwAHAAUAAgACAAIAAAD8//n/9P/o/9f/yv/M/9j/6f/3/wEACQAKAAYAAQABAAoAGAAmADAANQA1AC4AIQAUABAAEwAUAA8ACAAHAAkACAAAAPT/5v/U/8L/t/+5/8T/z//Y/+b//P8SACUAMQA4ADcALgAhABAA/P/j/9H/zf/S/9X/1v/d/+z/+P/7//3/AgAKAA8AGwAuADkAMAAdABIAEQALAAQACgAbACAAFAAMABAADAD6/+//+/8DAPT/6f8AACQAJQAQABgANQAoAPT/6P8dADYA6v+k/yQAoQGKA/4EJAVLA2j/vfpv9+n2zfiY+xH+2P/6AJ4B/wFMAowC7gIDBPoFnQfkBv8Cef3D+A325vSa9Bz1nPbo+IX7G/6JAN8CPAWPB1oJFwrkCXYJJQmKCE4H9AU4BfkETASlAmUAK/4n/FX64vgN+Mz36fdM+AD5A/pF+7z8VP7u/34BAAM+BOEE8wTtBAEFsgShA3MCQgIuAycENgRQA5kBsv58+jv2+fOn9Er3I/pC/NX9Xv/3AE4CMAMRBMgFfAjqCkELyQiDBAkAL/zh+OX1R/NZ8aDwi/Hi88f2rvk2/WsCVgnCEI8XcR0bInsknyMSIH0bwRYYEVYJnf9q9TrsleRl3sDZGtfS1tnYu9z04SHoFe/M9iL/dgfFDloUXBguG0scZhovFXsO4ggZBVIBlPsu9EntVOia5JngU9zP2TjbnuDa56runfSt+mwBgAhFENMaDCqJPINNYVjbW3tZzlL4R7E4iCXXDxL5i+Kvzfy7za4qp5OlyKnlssO/N88H4PzwMQEFEKccIiYOLOkuPC+oLGkm5BwUEi0IMwD0+dX0PvCX69Dm7eJ74Q/jluZV6njtg/BO9PH4tP3zAfEFkAolEHYVHhgmFlsPXwW++hPyt+1o7633UgV3FXckXC8SNXM2FjXxMfwsxyUCHHcPIwDO7ofdHc+8xQPCKcPKx4POQ9Zs3uHmxe8L+TECWgqbEF4UqRUaFZkT3hE4EKsOHA1AC5EIpwTH//H6Lfer9MLyw/Cd7qnsFevI6cjohuiu6bXscfHR9hP7vPza+0D6Tfp7/RUE/Q0WG7Mq9zorScFSG1bEUmZJgju9KlAYIwVR8hzhMtJ2xfi6ArShssq3NsIkzyLcA+iU8vP7UQTdC3oSghcIGoUZQxYwEVcLfgUgAKz7iPjJ9vT1Q/Vf9LvzGPSr9eD38Plo+yj8JvyR+wD7Ivsr/LX9M/8lAO7/4P0L+sj1HfN38zT3af6ECcgYICvfPZxNUFcTWX1S1kSrMrQevgp/9xPlndOKw9u1Z6xvqUGu+7m6yT7aael69l4BOwpzEZYXxxxYIDIhxB6DGYsSBAvdA9b9c/nK9nX13fSs9On0w/U+9x75A/uL/GD9Vf2c/Mb7ePv6+w/9N/7m/o7+0Pzg+bn2pPR79Jj2fftDBNURlSPINm1HyVGjU9dMLT+OLcwavwgq+BTpMts3znHCZbmCtae4lcLV0BTgye3R+CMBWQdaDPEQOxVqGE8ZRxe+EtwMywZPAdb8m/mm96/2PPb69Qf2yvaR+Cn73v3I/zkAFP/M/FT6tfiT+M/5mPvT/KL8vvqr96v0MvMB9Lb2iPq//yYItBVfKCY9IU+mWRZalFCqPw8rJxYHA1vyzeN41oLJIr1/sxCwX7XzwjPVaucX9v7/3gWCCc4M5xCSFUEZ+xmaFqYPHQdg/wX6VPeO9p72pPZA9qP1dPV59gr5wPyBAAYDbAOkAYP+bPuv+df5V/va/AD9E/tu93jzGPGt8R315/mY/oAD9Ap9F2spxz1lTy1ZOljVTAs6KST3Dpb8ZO184GfUE8gIvAKz3LAQuKTHXNsE7gT8ggTnCJ4L4A6wE0YZSB0WHYEXvw3gAhv6OvUM9Pz0JvZM9k71C/TP85X1bvlk/tACFwVjBBYBqvz7+Gv3P/iT+s/8Zv2d+wz4ivRD80r1x/mk/n0CQAbWDPIYmypoPt9O/VZSVMdHzzSuH9UL/Pog7fvg1NTDx/q69rHBsDi5eMnG3DTu3PqKAvYGjAo1D2EVnRs4H80duxa+CyUAPPfL8onyqPQC9yH4tfd/9uP1IveG+gj/xAIKBE8CcP4u+lr3AvcG+S/8tP4L/678l/gB9T30Jvdv/LUBsgXCCSkReR4QMbREfVOvWLVSWENvLhoYYAOg8bfintVHya+9fLSYsJe04cD/0qTmtPfjAxwL5Q5lEVYUFRhVG8sbrBcCD98DYvk08oHvtvAI9Gb3Xvmi+fT4ofjH+a38ewCdA6gEOAMcAMX8fvrt+eT6c/w6/Q/8uvhc9Bbx6PBp9Fb6mgBJBsQMwxbOJVA44UlfVUNX104OPnwo6REz/cnrvd0W0o/HzL1NtgG0WblKxgPYdOo7+qYFugy6EHMTPRYsGQIb/xkLFXcMEgJ3+PHxeO9r8B3z0vV+9wj4EfiJ+BX6tPy4/x8CEQM8AgQAbv2l+1r7S/xX/RT9pfpk9g3y8u+G8Ur2RPz0AQgIAhHuHg0xg0M7UWpW+VFAReEyuh1lCPD0eOTi1i3LqMAcuNmzRrYYwIvPQOHT8Rj/dQiMDp4S3hXUGAEbFBu/F64QBwcI/fP0IPCh7pzv3vFV9FH2qve5+Av6AfyX/lsBiQNABAADIwDc/ID6rfn2+Uf6n/mk9wj1ZPNh9GL4/P01A68Hiw3KF2QnyDn/SWVTuFNaS1E8NymmFOYAfe+z4MHTw8cDvWi1gLPQuLbEq9R65YX0aAD+CPsOZhMLFwUalxuCGtcVyw35A676z/Mn8HXv1vAj8zj1XPaj9tf22vcF+gj9HQBhAhwDKQIqADX+Gv3q/AL9evyn+qP3rfTV85X2X/zJArYHrgvhEXEdWS6sQMNOWFQ1UNdDADKcHVMJNvc66OLbxdD/xXm83bbvt5zAJM8B4LHvGPzPBKAKxg5PEq8Vehh0GTIXFBECCDr+NPZ08RXwJ/FZ8231hvZ59uj15fU+9/75d/2dAHwCmQI2AT//tv0m/V79mP3V/Hj6Dvd/9AH1N/lj/+8EHAkhDlUX8SVtN8xGh0+eT6BHdDlQJ4ATaQD6777iqNcxzSPDX7vWuGm9fchE11rmYPOG/REFqgr0Dn4SgxWFF1AXuBO0DM0DcPue9Q/zMPPK9Jz2wPfe90P3w/ZG9zD5AfyM/rr/Of+v/Sr8cvu0+5/8jP2g/TL8kflz9xr4cPzcAmcIiQsJDsgTbR/LLz5AcEsUTuNHwjprKY8WggT89Jvond5r1Q3Ma8MgvsO++cX60cDfquxQ90v/xARcCBQL2w3NENsSaBJ4DpUHsv8g+WH1lfTF9aX3Kvm9+Tj59vfk9h73L/mC/Kj/WAE2Ac7/+/16/LP7p/u5+/D63viC9vr11Ph1/nEE0Qg2DKAR2RvJKgk740frTSBMWkMnNWIjWBCc/vvvfeSU2rfQEce8v1C9HsFoyvfWRORS8AH6BAHQBVMJgQyxD0YSBBPjEOILLAWJ/oj56/aC9m33i/jn+A34SPaR9CL0s/X5+Mn8zv9BARYBv//u/Wr8q/tv+8z6J/k79/L22Pl6/44FCwpVDTwSmxuhKTg56kVoTK5LWkSWN9ImKRRFAk/ztuce3srUWMtbw0S/s8B+xwDSFd7W6dvzZvuXAFsE0weDC+0O9hCxEO4NTAnvAxn/wPtJ+mb6Rvvq+5L7Ffr29yf2ePUd9pz3NPlQ+rf6c/qy+c/4SPho+Pr4cvmq+Xn6RP2WAjkJ4Q5EEpwU6Rh9IdgttjoNRClHXUNsOb0qJBkAB9P2P+pD4XvaYdSJzuDJ7sfMyZ/PmdhI4+7t+faJ/bsBfATXBk4JpQs6DYYNdAxeCssHOQUJA3cBjAD9/y//iP3U+nz3T/QN8g/xQfFH8rDzDvUV9rr2Ovfk98740vn7+vf80wD8Bk8OcxSsF5cYGBo8H80opDQBP5tEv0NGPBov7h0ZCy35QOpB38zXqtK5zqDL5MljyrjN7dN03EHm7e8g+CH+FwK/BMkGgwjtCeoKXws3C4EKfgl0CHkHWwbbBN4CfADs/WT7B/nF9m705/Fj71HtFOzR623sv+2V763xw/Pf9ab4O/1wBNINdxcWH5sj4yX6J5Mr+TARN/Y7sj3POsQyGCYsFtgEIvTp5XTbAdXN0aHQf9Dt0PHR1tME18fbG+KJ6TbxM/jU/eUBpgSABs0H1AjmCUwLFw38DmoQ1hDrD5kNFwrWBWgBUP3G+a72u/O28LXtFutE6X7o2ehM6qnsj++R8rL1nflJ/woH/g9JGEseuyHiI7QmbivHMSM4cjz8PMo4xy/NImcTYANL9FLnRt2V1hvTHtKa0rLT7tQ91unXc9pc3tTjl+oE8lv56P8dBZ4IZArYCroK2AqzC1ANUg84EYEStRJ1Ea0OvApKBugByf3L+df1CvKY7qLrMulu56TmFee16C/rQ+4m8nL3mv5LB04QERioHV0hZyT9J5QsqjEtNuU40DhUNWAuXCQAGFUKu/yw8FLn8uAd3QPb1tn62CDYZddB1znYoNqE3rzj8OmW8BL34fyuAUkFrgcYCfgJ0Qr8C5ANWA/oEMQRihENEFINjwkiBXUAzvs/993y7O7M67bpmuhM6Ljo6+nx68PuSvJ/9nz7aQEqCAoP7RTsGPsa5Ru6HDEeciAhI4ElsCb1JQQj7h35FpEOcwWk/CH1gu/O66LpbeiX56XmW+Xe46XiN+Lt4uHkAOgQ7J/wG/UO+Vj8Gf91AZQDsAX5B1gKcgz8DdsO6Q7YDZYLuAgQBtIDcAFm/un6ovf49Pzy0vHB8bvyK/Rm9Sv2m/bw9nD3dvg8+pv8Pf/4AdEEkwfcCacLlw1nEBcU4RfzGvoc/h0HHiEdghtyGQQXGxTAEEUN9gm5BiAD2/71+bf0X+8g6kzlW+Gx3m3dbt113kPgoOJo5ZToNexc8Pr06fny/tcDUQgcDP4O0BCTEYkRIRGmEPQPog55DLoJ3QYiBIoBIf8d/av7q/rL+c/4rveP9rb1efUR9mz3Pfk4+zP9Fv/TAJoC1wTgB4oLPQ95EigVaBciGREaCRojGY8XcxX+EngQCQ6EC4QI1QSdABb8Tvc/8h/ta+iY5MPhxN903tTd993X3lPgQuKM5DDnPerB7brxDvaC+sb+mQLxBfEIsgscDggQfRGvEr8ThhSzFBcUrhKKEMMNlgpiB3IE1QF//279qfsk+t/4Efgc+Cz5Fvua/aoATQRMCDsMzA/lEmAV5BY8F6IWjRUyFGgSDhBPDV8KIwdPA8/+4/nn9BzwtOvn5+bky+Ke4VPhueF24lHjVuS55Y7nyult7H7v3PJB9pT58vxpAMQDxwZ3Cf8LXg5vECQSeBMuFOoTpBLMEMgOlwwPCl4H9QQJA3QB+P9+/gj9q/u7+rb60vvN/U4AUQPpBtcKmA7ZEY8UkRZ9FykX/xWZFBwTQhHkDjoMeglyBrMCBf6V+MzyHe3u54jjDeCV3UbcNNwq3a7eW+Am4j/k0ebh6WTtQ/FU9Wf5bf1pAU8F6wgQDLcO9BDVEloUgBUvFikWKxUtE2cQJg2jCQ0GmwKI//f8//qi+cP4K/jI99L3nvhV+uH8GQDdA/EHCwz1D4kTchYfGEgYWBcaFvIUohPcEcUPsA2HC7MIqgRq/2T5L/NG7QDokeMi4OLd9Nw63UHeid/d4GTiYuQA5zvq9e0D8kP2ovoK/1UDUwfbCt0NWhBdEgYUcxWUFicX5BaqFX4TeRDODOEIHAW1Abn+PPx1+oL5NvlB+YH5IPpj+2/9OAB/A/UGYgrDDQwR2hOJFb8V2xSpE6YSsxF/EAoPkA0CDM4JSgZIAUP78vTf7ljpmuT44LXe1d0T3gTfP+CH4dniaOR15hrpPuy573jzcPeA+3P/JgORBqwJYgyrDqcQhBI8FIYVBhaDFfMTaREXDlIKhAYHAxIAwP0g/Dv7/Pov+5n7MPw2/QL/ogHFBAEILgtdDmwR1xMNFe8U8hO1EowRbhAwD8MNLgxXCuEHTwRh/1b53PKu7Ejn6uLH3w/ez93K3oDgaOIt5NHlmefH6WfsWO958s31WvkE/Y4A0QPHBnwJ8gssDjsQLxLxEz4VvRUpFWUThhDeDOcIEgWaAZX+G/xm+pv5kPnj+Vf6Ifu+/Hn/EQPsBpgKDQ5mEWMUYhbdFvIVYxT0EuQR8BDTD4wOLw19C9EIhwSG/lz3/+9H6bbjgd/H3KrbHty53crfvOF842LlzefK6ibutfF29Wz5df1FAZ8EdAfgCQsMDg7sD6QRNhOQFHQVexVOFNwRbQ52CnAGsgJj/4/8V/ry+Hr4qfgF+Wb5QvpQ/MD/8QMMCLALEQ9PEgAVbBZFFgMVjRODEt8ROhFLEBcPrQ20C34IggPh/G31MO7p5+riS98m3Y/cXt0Q3//gyuKE5IbmCen/6zfvlPIW9rr5W/29ALgDTQahCOYKMw2CD7sRxRN3FYcWkBY+FYoSzQ6eCoUGxgJr/3/8Tvor+Q35cvnT+UH6cPv//cIB4QWWCckM0g+4EucUqxX3FIsTVRKzEVMRtxC+D5QOMw0VC3cH/wEY+7zz5+wm55ziWN+B3THdLt7g37DhaeNC5ZDnZeqR7dXwH/R+9/P6Uv5aAfQDQAZ/CNQKMg11D4URUxO6FG0VChVGEyIQAAyFB0UDgP8t/Fr5YPeh9gj38vfM+L75nvsU/9IDwAjqDDQQEhOjFUYXOxeJFSkTPxE7ELQPCQ8CDtAMgAuNCRwGrgCv+UPyi+sK5rnhi9623Hfcod2Q353hlOPA5X7o1Oth78Dy1fXL+MT7pv46AXYDlgXvB6AKfw05EJYSjRQQFtUWWhY7FJIQ/QtEB+sCGP/J+yT5fvcL94/3bvhQ+Zv6Kv1aAXgGPAvhDpgR4ROnFTcWERWiEhYQcg7hDcYNbg2kDJoLRAr+B+cDt/0v9qruN+gp41vfvtyG29vbet263wjiT+Tr5jLqDO7+8ZX1uvie+23+HAGJA7EF0gc8ChANFxDpEjYV6RbuF/sXkxZrE8YOagk5BL//DfwS+er25fUZ9h/3Wfih+Yr71f6FA60IKA2AEAYTFBVrFl8WsxQQEqQPPw7ODaINJw1EDBMLXwl7BsUBSPve87rst+YU4sTey9xR3FLdbd8D4p/kOucW6l/t7/Br9JP3aPoU/bL/NQKKBLIG0AgJC2kNzA/zEaQTwhQzFbwU/xLQD3oLsgYpAjL+0voh+Gv27fV79oz3w/hc+vf86gDEBYgKdQ57EegTwhWSFukV/xO6EQsQPQ/mDmwOiw1XDM8KgAi7BCr/Ofju8EXqweR04GXdw9u12xLdV9/24a7kl+fd6nPuE/J09X74Sfv3/ZEADwNpBawH+AlsDP4OdxGJEwQV2RXwFQQVwRIbD4IKsgU8AVT9/Pls9/711PWP9p331Pio+rH9+QHNBkEL3g7HES8U4hVUFkYVNBMZEbMPBA+ODuYN/QzdC0cKpwdxA5n9sPae7zjp8OPr3z3dDNxt3BzeiuA44wPmEemC7Drw/fOX9+L6y/1UAKMC5gQqB10JeAuXDdQPDxL2EzwVuxVbFecTGxHuDMAHQwIr/ev4tvWn897yVfO19Hj2Y/jN+lD+EwNyCG0NZRFOFE0WPRfQFgkVixJNEAEPrg7MDrcOCw6tDHQK/QbVAfj6BvMT6x3krd7g2qjY+9fN2Ova6t1G4Z/k9OeM66DvEvR1+GH8vf+5Ao4FRwjRCi4Ngw8CEq4UQhdBGSQafhkBF5MSigzCBU//5PmH9fTxMu+Y7Trtse227uPwjfWj/cEIWBV6IZwryjKkNic3azSnLpwmyB26Ff8O6QiOAtT7SPU971zpMOOw3DvWV9Cdy77IPMgUyuLNQtP82b7h4umn8bv4g/+0BqAOyRZPHqgkvClVLbguIS2NKN4hPBqCEicLTAS1/fj2APBB6UHjIN7C2VnWcdSK1MfWGdtZ4UHpgvIH/ewICBa8I1oxaj4+Sm1TOFiOV3xRo0ayN5kl3xFX/njsMd050R3J3MSbwwrEF8VRxuPHVMopzojTI9qR4a/pbvJe+5IDPwo/DwYTIxb8GM4bjR7LIOghhyGzH20cVxceECAHdv009N7rkOSS3mXaXdhJ2KLZ7tsQ3zDjY+ho7sH0RPt6Ak8LCBaoIWUs6jQvOyxAsESESH9KX0mNRAM8sS9CH8MKq/P53BfKQL3utme2lbo/wtLLd9Wq3crjJuis63/viPT6+jMCIwngDuAS1xS5FAsT/hD7D+sQyBOzF10blR2vHXsbwRYJDzAEMfcT6sjeMtZU0ETNf81c0VrYP+G46ufzYvz9A5kKHhCnFLEY9xztIUgnFyyQL78xVzPKNJs1qzQWMZkqHyFKFOID/PBs3sfPkccjxgzKONG+2f3hgug/7APtquvO6Rzpxuot77/1DP1NAxkH9AdVBloDggBm/0QBXQafDRMVvhpcHYocgBitEYcItv1Z8u3ntN802nLXkdf02qvh3Or29Hj+ZgY/DNMPRRH/EJMPxA2qDFAN3A9RE5wW7xmTHjAlbSyLMTEyhS3nIzkWrQUf9Cbks9gD1GXWt91P5gftq/Cp8b/waO5e6wvp/+j8653xsfiZ/58EiwZFBd8B7P3Y+tX56/uRAQoKRhO2GmoevB06Gf8RCAnt/jX0wenK4HHaadcT2KDc4+Tr7/r75Qa4DlESzBF2DigKcwZlBMAE9gejDUwUTBorH+gjjimeL+kz9TN3LrQj8BTeA4XyaeNI2SXWC9p94l3rBPH+8SfvYOpO5TDhZ99/4V7oT/Pe/6wK2BAhEVMMuwQQ/Xz3WvVX93H9qAbaEEcZrB1AHcsY1RGOCU4AFvZh633hAtod1kHWbdpS4ivtbvngBDwNGBGMEBkN5QjaBTYFggd3DNcStxidHKYeciCiI0EoeyzKLWsq+iErFVUFa/QR5UTaQNYl2YLgW+gu7aLtseqA5gPjd+Gr4jXnIO9X+YoDBQvKDXILMwVT/U32HPLd8cf1T/09B8kR2xqWIPYhBB+LGHcPeAQm+Gzrzt8f1+7SAtQt2mrkB/HS/W8I+Q6nEDMOjQkRBbwCtQMWCNMO1xXBGkQcSBusGlsdHSTELGIzazQxLgshuw4E+ofmUdiO0tXVWt/w6YnwtPBt6/7j6t2E263dReRp7kT6GQXyC9kM1gcL/8X1MO847TDwIPd8ALQKWxQkHPEgISLMH6IaYhNlCrb/nvM552/ca9XW0zvY1OGy7in8cQdWDuEPsQzTBgcB1f3N/icEqAzWFa8cAB/DHIwYWBYrGQohvCqKMbIx4ykpG/4HoPPR4VfWm9Mn2Vjj5+yU8R7wZuru4+zfKuDy5HftJPiyAokKgg3gCsMDxvr98t/ulO/G9Ab9ewaLDxwXdBz8Hk0eXxqcE6gKGQB29IXom92H1RXSYdRD3CLoX/UkAT4JpwyzC+wHnwMvAVICfQepD3IY0R58IHIdihgkFnwZZCIbLWI0PDR9K4obMgfw8anfONQR0qLY/+OC7pXz0fEp62LjIN6k3XvixuuH9/8CRAskDgMLPAOm+Y3xkO3T7tT02v3DB8sQ6BezHAUfth6SG5MV9ww2Auz18uiv3DDTuM7W0IXZ7eb09UcDYQwkEAMPuAqvBWMCtQJiB5APxBiUHzUhQR2EFuARjBNaHOoobTO1NnYwnCEnDQb3eeOe1jfTFNly5F/vp/RT8jnqieCX2ULYbd0c6N71UwMCDWkQ+wxoBPn5OPGv7EbtVvI5+gQDMQv3EUIXNhu0HSkeyBvnFVEMgP+08Pvh79Usz3XP6ta245Py8P8XCecM7QsHCLUDRwE8Au8GhQ7nFhwdbR4kGrISAw3iDQUXuCUGNKo71ThoK1kWRv4/6PLYhtMw2GDj6u759ALzsep04PjYVNdx3ELnOPXOAmwMjA/ICxAD6fjq8Fvtou6U81P6JQEEB9ELIBCbFEMZJB2bHgQcZxTsBw34budY2cnQis+X1RTh4e6V+5EEugiWCOUF2wJgAZUCpwbgDKkTuBjQGSMWiQ9QCjQLehQkJHU0oD7wPaIxpBzxA+LsEtyX1P3WieDg60zzhPMm7fXjnNxz2nDef+dq85L/TAlLDmMNSAd//j72A/HA7/XxY/bL+2YBCAfqDCsTXxltHt8gVB/xGJ8NUv4q7Ufd/tHBzTvRGdua6Hn20QHdCEYLEwoWB0IEKAPABEwJChAPF6YblBu2FuoPIAy2D4gb0yvIOec+8zf3JToNb/MY3n/Rxs/x163llPLu+HL2Qu1s4hrbQ9oa4Njq1fcbBLgMYA91C7ECnvjn8LztNO/w8zz65ABsB9UNIxT+GZIezSCmH0IaIxCKAQXwjt7p0E7KL8y11SPk1/NlAXQKJw4uDWYJKgWTAvsCyAZeDQAV8hpwHHMYHhF2C+AMqRf6KMI5MUKQPSIsYhKy9jjfotBmzfzUZ+Ma8pb6j/mD8JPkftve2EPdCOeP8/j/XwlmDSQL4QO7+jvztu988Eb0avnZ/mwEdQoQEcoXpR1jIcEhlx0eFHcFR/PI4ATSY8pfyxrU5eFI8ff+jAj6DLEMaglyBeMCGAONBsMMExTFGQkbzBZBD44JMQt+FosoLjqFQ8c/Iy/oFUr6VOLV0pzOfdWY4zjyn/pt+UPwdeTF25jZO97w5zf0XACLCVQN1gqIA7367PMG8ebxEvUB+f/8RAFmBqkMoRNOGmYffCEUH/YW7Qid9oXj/tOOy6fLatNR4C3v6PwTB10M6Aw5CpIGDgQRBC4HHw14FJoajhz1GLIRvgumDPkWGCgGOeZB7j1VLYMUm/ls4n7Thc9l1mvkCPOf+9z6U/IY55Leztv03nbmYPC7+lkDGAjVB1cDFP3T9zn1O/XC9sn4Lvua/scDwAqoEisa6B+TItUggRlNDJn6ludh14TNqMtN0XDceerK+PkEJg2BEJkPDgzfB+YEpQTsByYO+RQYGUwYZxOGDuoOkhfJJnM2IT/eO1IsSBSW+R/ittJEzrbUZeL+8DT6z/oU9I3qLuPW4LDjLepl8qn6YwEfBSAFBQKg/fP5E/jT91P47fjQ+ef7KQDTBhsPhRdwHk0imyEYG28OA/3/6XTZ3M79y5nQ9dqb6Oz2cwM+DFMQDBDlDNsI1gVYBSYIrg2xExMX8xWaEWcORBEnHCssrjq3QGk6bSgJDx/0c92nzzHNTNWa45Lxe/kq+b/y1uqm5Qzlgehg7g/1O/us/10BKgAo/S76tPj++DT6Pvu6+0/8Rv6nAoIJ0hH9GVwgYSOMIbIZ0Au4+dXmB9c9zbDKBM/R2CDmq/QKAiIMrRGvElUQcQzuCIAHKAlmDegRrBNtEVoNQgxYEv8f9jBrPk1C6jmlJuUMVfJs3IHP3c2f1lblavM0+8z6gPTB7FLnv+Wx5xHsxvG094/8Kf8g/0j9PvtN+pL6Gfvr+hH6vfl2+xAAPQfTD2sYqB8GJLsjMh0REAj+l+rI2bDOssquzYjWgeNU8mIAQQtuEcsSfxBkDH0IoAbzBxgMwBDNEtQQAA1LDB0T5yFANPdCj0f5Pm0qdg458d7YacqEyDfSlOJx8r37XvyR9r/uw+hz5tjnG+wN8jv4/fwF/y/+xfvI+ZX5CfvZ/MT9p/2S/ej+cQIbCFkPdRdFH6wkziRUHQUOcfkR5IDS9sexxTvL79ZY5nX2QASADX4RFhEVDnQK7AfOB3sKxw4jElgSzQ8wDlwStx7AMNBBbUruRVM0rxkx/Brif9BxyhvQJd5Z7hv6jf08+RzxuunX5dTlrOgW7QzyrvYu+hD8i/yB/OL86/0C/0z/kv6Z/a790f9GBLgKgBKhGmMhRSTEILwVZQQc8A3d0c6ox2bIidBB3pruMP4yCjgRXRPCEQEO9wmWBzcIjwtjD/oQlg/fDXoQkxryKvg7ekZZRY83AyDzA0XpSNXCy+TNdtk36c/2pv3T/OH2t+9Z6uHnAej06QztqfAq9CX3pPkH/Iz+4QBQAj0CuQCs/m/9Lv5iAckGsA1AFVYcJyFtIVQbqg5H/WTqfdlyzTHIgMrP0y/ivfJeApMO5xUSGMUVjBC4CuEGtAakCRMNbg7TDZYO1RTvIdgyYUFJR/FAli78ExH3FN7/zV3JqM9C3YTs7PeL/PT6FvYG8Yrt+evr68fsFO6g75nxV/T39x/8FAAQA3ME+QPyAWj/1P14/rEB7wY2DZMT+xjqG3QaKhMgBlr1IeTv1XTNC8yW0ZXcmerw+E8FOg4CE7kTWBHUDZcLKQznDkYRBBGhDtANAxPsH6sx8kEASoJFEjQ0GQf7UuCSzp/IFs5p2+fq3fYK/Nb6SPat8c/uze3s7UjuOu6s7VftYO6I8Y72XPyjAUcFjgZpBcoCcQASAG4CKAdWDfwT4RkyHccbORT1Bl/21OVq2DHQGs4f0lPb9ufN9bAC9QyOExkWGRUnEoMPzA7PD6MQgg/uDB4MBhFdHc0ulj8GSUFGJzauG838g+DVzDvFy8k71+bn4vVo/Rb+WPp09cPxD/Dg7yLwxO9n7sfsa+yj7qnzg/qTATQHHwrWCQwHgwM6AXYBaASOCQkQdha0Glwa7RPIB0b4ruj92xLUmtFO1DDbwuRh78r5QgNHCzURihSaFa4V9BUyFtgU6RAKDHUKXxCtHogx3EGnSCJCHC86FNv36d980FDLn8842mzm7O+59Lv1dfX49aj3c/nU+cX3VPPQ7XXpdOjT69zyh/tvA60IVwq/CG8FkQLfAcEDXQd7Cy4PwxFFEokP5gj8/pXzzOgy4H/a5td12Dbc9+IZ7IP22AC2CRMQuhOgFWEX0xnnG2YbZhdLEv8QjRfcJRg3DkSdRjI8iCahCs3ultiFy7/IAs/j2rnne/Ga9lf4Nvna+gj9PP7x/J/4E/JO69nmpuYU68fyePsCAwYIBgp4Ca8HZQbKBukI3wusDroQlxGHEJoMYQWF+6Xwm+bB3rrZttfJ2P7cHORq7a73bQFUCbsOHBL4FLgYIx33H7AeahkYFG8UvB32LVg+CUcbQ4Qyahnf/ZDletSVzNvNO9ba4TzsSfLl85vzc/Sa95r7mf1p+/r0dewr5QbiP+QG6yz0S/2WBCcJ9grZCkEKhAoKDCUOvQ8pEFsPVg3FCTMEovzc8yzrzOOJ3sHbjNvx3fHiZuqx8439PQZjDOMPJRIeFZEZ9x1vH3AcEBeGFLkZSSdaOA9F0UZoO1olJgri72/bsM9jzTbTAd6B6evxtvVG9o72mPjv+xb+ivyL9qPt6eSV357f+eTR7aH3RACDBgEKIAvzCucKAww3DnEQdhG3EFsOtgrXBbD/ePjj8NzpNOR04ODelN+W4tznJe+29z8ASgf2C7gOMxECFSMaZh7xHgEbnhVFFBwbjinxOX9EWkMeNfYc0QD+5lXUUMv3yy7UROAA7Dv0M/ia+QL7tP2mAEkBeP0b9XnqJuFb3JfdOOQT7pT4rQE1COkLYQ3XDZUOIRDjEagSnxHaDvsKgwZ4AbD7TPXh7jLp0uQE4v7gGuK95e3r/POR/AMEBglYCzsM6g0DEtQXaBzGHN0YfxQfFfgdVS0CPWdFTUEhMNwVAPkO4JHPSMkszB3VB+Bh6ZTvd/NV9/L82ANKCeAJ0QMv+IPqOd/B2Vrb2eJy7RL4kAAzBoEJvgtIDtAR0RWzGMoYeBWGD30ImgFO+4T1JPBN6zXnCeQK4svhDOQq6ZDwsvi0/zUE5AXEBf8F7wh7D9MXNB6sH84c2xnyG1slrDPUQApG8j5tK54POPL62Y3LTMhDziXZHuTs6yzwAPMn9839gwX5CtsKygM99wrpyt322JrbGOQf70n5iQC7BB0HWgmuDGQRlBZdGssa/BaxD8IGC/6n9vfw5OwF6snn3OWc5A/lReiE7tz2af8KBlIJMQlGB2AGEAnSDyEYuB2kHeIYQxRLFXgedy1APOhDmz+LLkoUY/e63hvP88mazX7Wr+BQ6YXvWvSB+br/+AXXCfcIZQJI95bq/d9w2hLbAOEA6qPzK/zcAtYHsAsRD0oSEhWTFuMVkRLsDMsFK/739gDx6ezo6pXqJOvw6/Lsre6w8Qz2K/v4/1gDzQT+BMQFJgmzD30X/hysHVIaJBcgGaUilTEhQHdHwUIfMQ4WAfjP3TnMt8TkxdvMgtaH4N/prfKA+zcEhQtZD/cN9wa6+xTvXeQf3jHdveAO53/uBPY4/SQE5wpTEcAWQxohGxgZaBSyDccFff2B9WDuvOhN5ZPkauYN6obuJfOa9777YP85Av0DiARJBIcE7wZRDHYTcBmNG64Z7BbQFzcfIyzpOV9Cn0D7MpIbkf9U5SHSasiJx9LMKdU23vDmiO+r+GsCdwteEdkRGQxIASP0A+i435ncPt4l47zpEfHN+OUATgm1EUgZvB7bIB0f4xksEhoJrv+q9q/uXOhb5CTjoeQd6K7srPG/9pD7oP9pAqYDdQORAlQCTgQmCa0PMhVnF28WUhUiGAshiy7rO4xDX0FeNLke/ASE7LDZh85yyknL6M5Z1PTbg+YV9CoD1RC4GWkbaBVPCU/6HOy84YncE9zp3rPj0ek88Rb6SgRED7YZtCFtJRAkKB4dFWwKSv+/9Lrr4eRs4ETeVN6j4D7lAuxc9BL9awTbCM8JCghABXMDVgSECN4OzRT+F4EYORnHHY4nSTQiP0ND6z0/L+AZ2QFl69vZAc/PytLLJdCQ1gDf5ekO9+cEzRAAGLcYvBKIB835i+wt4vDb4tlC2x3f3+R67Bv2kQHlDWUZGCJnJrslqyCcGPkOsgRf+qrwfui94ubf9d+J4iXnUO2N9Bb8tQIZB4QITAeuBEoCrAHuAw4Jcw+CFJUWrxYuGEAeOSnjNSU/lkBGOCsnZRAa+FjiN9IuydPGVsmxztjVCt/f6gX5ogfWE9waFhujFEQJxPsM71PlrN8A3m7f6+Lm53/uKvfuAd0NFBlpIT4lICTKHpQWugwFAgz3tOxG5PbeSN3o3iHjXekf8Y35NQGRBuEIlAjrBksF7QS4BsQK4Q/4E6UVzhV1F38dMChvNE09kj6CNi0mnRCz+R/lptWNzGzJtMrBzt3UaN326B/39AWNEiAaIBu0FYoLMf8+87HpluP24BzhHeN45mfrj/I8/LYHNhOAHNAhgyIZH6wYNhBSBpX7BPET6P/hNt9d3+7hrOZp7XL1Y/24A58HQAloCQ0JLwm/Ci0OzhLpFvAYDBl8GRod+yQtL4U34TkgNLIm6RPr/vLqzdpP0M/LMsy5zyHVQdyk5Xfxqf74CtkTixexFTEPsgUs+47xa+qD5n/lSubs50/qNO5r9O/8nAapD2MWzxnWGf0W5xEOC+gCTfp08mXsaOgv5pflCuf/6hjx8vfs/RICUwQXBesEngRaBSkIAw1sEl8WDRjhGK4bbSJjLC82qDv8OaowHyHIDWX5qObo15TOxcpmywfPzNS/3DHnw/PnAFUM/RPWFgMVeA+OB8T+kvYq8A7s9Okb6QHp2+l47JnxNfktArQKKRHeFBcWUBWTEpMNgQZ4/vP25fBt7HTpUeid6Wvt3PKL+GP9BQGGA/4EjwXQBd0GqAn3DTwS4xT/FbEXiBwqJWovaDfGORg14ynYGR0HEPQf41rWzM4xzGnNYtG714Pgfuue9y4DfQxTEi4ULhIFDc0F3/1+9prwkOw26h7pDelG6m/tA/O6+l0DPwscEZYU8hVeFaUSlg2wBin/P/iY8kfuYetU6p3rGe/V84P4PfzR/nIAVAG3AUgCGgTZB+sMrBHeFBIXeBr9IFAqijPVOKA3qi92IgQSIgCT7kffBNSXzYTLucyQ0CDXkOA97J746QPDDGkSjhRIEx8PBAkYAmD7j/UD8crtxuvn6lfree2p8dj3Pf9+BlYMNxBUEu4S0xGQDjoJtwJA/KP2IvLZ7iHtX+2N7+zyTfbO+HD68fv3/XMA/wKmBQMJWQ3gEXYVGBhmG0IhwilzMqo3vTZiL0gjpBQIBXL1+OYa2xDTE892zpbQedVV3bHnGvPQ/ZQG2QxtEDQRUQ9iC2AGOQFx/DP4lfS08ajvh+6d7nDwTPSz+WL/FQReB5YJDwuAC1AKXQdQAxr/QfvD96r0kfJd8kP0LvdQ+aH5v/g4+Az5+fpf/UkARAQxCeoNjxH6FF8aISPsLSQ3NDu4OMEwbyVrGHkKHPw57vnhL9gZ0c/MzMu+zrfVqt/N6n31z/5rBhgMfw91EEIPkAwICQwFygB9/ID4LvXE8nzxpPFz86/2o/p2/qYBIQT7BSIHXAeTBg4FQwNvAWb/AP2u+mD5pvnj+qH74voF+U/3svYy94j44Pqv/rwD3Aj4DHEQEBVTHJ4lLS7qMmsyZC19JekbFxFaBWv5Lu4l5GfbRdS5z+rOK9KK2Gbgf+hs8Cv4cf+QBfYJqAwtDvIO7A7RDZsLrwhwBeUB8/3u+bz2JvUS9Zr18/Us9uL2Xfg0+sj78vwA/iv/QwD4AFIBywHtAt0ELAfuCC0Jhwd9BB8BRP4o/OL60PpS/A//+AF4BG4HrAwEFeUeESfJKoMptSRHHjIXeA/2Bv39HfWx7NXk6N3M2HDWCNfV2b7dFeLf5lvscfKO+Az+uwLjBrsK/Q0WENUQsBAkEAsPxww/CVoFOQIEAM/9tfr09qfzq/Hw8N3wM/E78j/0B/f6+cD8lv//AhIHGgvzDdYO0A2SC9sIFAZhA+0ABf/h/X39r/1o/uD/dAJUBisLJxA0FHkWvBZvFVcT/xBqDjkLHwc1Au38xPch81fvsexD68nqtOqb6pLqIOvQ7KrvMvPO9kT6uv1DAZQELQfbCNEJRwoiCiAJSQceBSsDnQFBAPL+4P1f/Xv95f1H/p3+G//G/1sAqwDuAJQBxgI6BI8FnQZYB5kHOQdZBkwFMwTQAuoAv/7Z/JH7zPo/+tT5tPn4+YP6L/sH/Db9vf5MAIABPALDAmMDHASsBN4EvwRuBOUDAQPDAWkAQP9k/r/9L/2w/Fj8PPxY/Jz8//yO/VX+Qf8oAOYAbQHEAfIB/wHzAcsBdwHrADUAdP+1/vj9S/3V/K/8yvwE/VX91/2e/pb/kwB2ATACuwIQAysDDQO+AlEC5AGNAUUB9QCVADQA5/+s/3r/WP9Z/4n/0f8IABsAEgARACsAWgCBAI4AhwB6AGkAUgA2ACMAGgADAML/WP/s/qL+ff5g/jT+Bf7o/ef98v39/Q/+Nv5y/rf+/v5O/6X/8f8bACYAKgA9AF0AfwCaALAAwgDLAMUAuAC4AM0A6QDtAMYAfgAwAPP/x/+t/6f/tP/E/8L/sf+1/+z/UwDEABsBUQF7AaUBygHeAd4B1wHIAZkBNwGvADcA/f8AAB4ANwBAADYACwC4/1P/D/8I/yX/K//1/pL+Nv4R/iv+df7W/jj/gP+X/3v/T/9E/2//v/8SAFAAcwB4AGcAUwBaAIgAzAAFARwBEQHwAMMAjQBPABIA4P+8/57/eP9C/wv/6v7v/h7/c//r/3EA5AAqAUkBZgGbAeQBKAJVAmUCTAL5AW8B3AB2AFMAWABeAFIAMQDx/4j/D//D/tP+J/9p/1P/8P6H/ln+cv68/h//gf+3/5r/LP+p/lj+Wv6h/gr/bv+q/6f/cP83/y//Y/+1//n/GQAXAP//3P+1/43/ZP9B/zD/L/8w/yL/C/8I/zb/nf8rAMQASQGgAcIBwgHKAf4BaALqAlUDfQNSA+oCcQITAugB7AEGAhYC/QGrASUBhwD+/6r/jP94/zT/n/7X/SX9yvzN/AP9Ov1n/Zn93v0m/lb+Y/5f/mj+i/68/t7+4P7M/r7+0f79/iH/Gv/f/oT+MP4C/gb+K/5U/mv+ev6e/u7+av/7/4kAAAFbAbQBPgIeA04EoAXgBugHoggKCSsJHQnxCKQILwiRB8EGpQUpBGMCkQDo/m79Dfy4+nn5avij9zD3CfcV90X3pvdJ+B/59/my+lr7B/yz/Eb9v/0z/qb+8/70/rH+W/4S/sz9d/0d/eH83fwR/XP98f14/v7+nf+MAPoB4gMZBm0IrQqvDF0OzQ8nEWcSTBOJEwUT2BESEKkNjwrSBpoCHP6d+Xb19vFJ727tUOzM68frPOxA7dfu1fD48iP1bPfc+U38gv5mAAECQgP9AyIE4QNsA7cCkQH6/zr+rvx++6v6MfoM+iT6aPr8+jT8Nv6tAAwDBQXCBp4I0AphDU4QeROGFukYPBpvGqcZ/hdtFfURuQ3zCPMDEv+Z+qH2FvPo7zLtMOsW6vPpuuo+7D3ucvDB8jX10fdv+tX85v6sADUCdgNeBO0EKgUQBY0EoQNqAhEBqv8l/nn8wfo6+Rn4c/c79133zfeE+H/5vfoy/LT9Ef8wACYBEgIIAyMEmQWLB8kJ2wtqDYMOaA8tEJoQdBCmDzwORQzvCYYHQwUNA6MA8v01+8j42fZu9X/0/fPB86/z0PNR9D/1b/as9+z4Rfq5+yz9hv7R/xABJwLjAjIDLAPmAloCcgEzAMX+XP0m/D37pvpN+hz6D/o1+pX6GPui+zf8/vwa/or/PwE9A5YFPQjtClQNSQ/ZEBoS+RJHE9USlxGhDygNbQqnB+UEDgIN//H79/hl9mj0DPNB8ufx3vEe8q/yn/Pp9HH2Ffi2+Ub7xPw1/pP/zQDbAcACewPyA+8DUgMvAsEAPf++/Vv8M/tb+sf5X/km+UL5zfmp+pf7afwf/dv9vf7b/0EB5gKmBGMGIAjrCbYLRg1eDu8OFg/rDnAOmw1vDAALXgmSB6IFlwN3AUv/Jf0k+2b5+vfg9hH2hPUv9RD1MPWe9VT2MvcO+Nr4oPlt+kL7HvwI/fr93f6T/x0AjwDlAPoAsgAdAGv/uf4S/oH9GP3g/Mr81fwe/cj90f4PAGkB7QK3BMIG2QjDClwMow2kDmYP5A8NENQPNg87DuoMRgtaCTQH3ARQApX/zPwn+sn3tfXg81LyJfF38E7wmPA18Qby9PL48xb1V/bA90v55Ppt/Mz97/7F/0AAZQBHAAAAn/8u/87+n/6i/rH+sP65/gP/pf+BAHYBfAKfA+EENQaOB9cI8QnFCmUL9wuBDNkMyQxLDHkLaQoeCZ4H/QVCBGACSgAY/vT7CPpq+Cr3U/bd9az1qPXI9RH2fvYM97r3ivhx+Vz6Qfsi/P78zf1//gn/Wf9f/xT/hv7R/Rb9e/wk/CP8avzb/Gr9Iv4P/yUAVAGSAuUDSAWlBtcHxghtCeEJPwqcCvQKLAsqC+AKSgpkCSgImAbEBM0C1gD5/jv9oPs4+hf5SvjS96v32PdQ+Pf4qflU+v/6svtn/BD9qf0w/qT+//48/1z/Xv8+//v+kv4G/mD9uPwy/Ov76vsj/IP8A/2l/Wj+RP8uACoBQAJuA50EqAV6BhQHigfuB0oIlgjCCLoIeQgGCGsHogaoBYoEXQMvAv4Ayv+k/qb93fxE/N77rfuq+7v7yfvT++T7//sf/Eb8d/yr/M/81vzQ/NL85vwC/R79PP1a/W/9df1s/Vr9Qf0p/SX9Tf2m/R/+o/4v/8f/aAALAaUBPgLfAo0DOgTQBEIFjgXDBfAFGwY6BjsGFAbHBVsF1AQvBG0DlwK9AegAFwBK/4f+4v1k/RD94vzT/Nr85/zv/O787/z3/Ab9F/0o/Tr9Sv1S/U39Q/1A/U39av2P/bb93v0E/iL+Lv4t/i7+Qf5q/qv+Bf9//xUAuQBZAe0BdwL3Am0D1AMtBHIEnwSxBLAEpQSXBH4ETAT9A5kDLgO7AjYCmwH2AGEA6P99/xL/p/5O/hH+6/3Q/cL9y/3l/f/9Cf4H/gn+FP4c/hT+/f3i/cn9rv2O/XT9bf15/Y39of28/eX9Ef4u/j7+Xf6k/gj/a//E/ycAqAA0AaoB/wFDAoUCvwLsAhUDSAN+A50DkANeAx0D2AKKAjIC2AGHATkB5QCMADkA9//A/5H/bv9a/03/OP8Y//z+8P7v/uj+1/7H/rv+q/6Q/m/+Uv4+/i/+If4Y/hv+LP5K/nL+nv7H/uj+Cv81/2n/mf+//+H/DQBGAH0AqADMAPMAHQFAAVkBcwGVAbcBxwHBAbABmwF7AUkBCAHJAJUAaAA+ABkA/v/p/9T/wP+1/7f/v//B/7r/sf+s/6z/qv+i/5X/h/97/2z/U/8v/wj/6P7T/sT+t/6v/rH+vP7M/t7+8v4M/yr/Tf9z/5n/vf/g/wQALABUAHcAkgCjAKoArgC2AMMAzwDUANYA3gDsAPQA6wDRAK8AkAB9AHsAhQCMAIUAeABwAGwAWwA5AA8A7P/N/67/l/+O/47/hv90/2b/Yv9i/2L/av+C/5z/pf+g/5//pf+g/4r/c/9u/3b/d/9z/3z/oP/Q//v/GgA6AF4AhQCiALAArgCmAKUAqwCrAJ4AiQB3AGcAUgA3ACMAIAAoADEAOwBIAFQAWQBYAFkAXgBgAF4AYABwAIgAlwCWAIoAfABmAEIAFwDx/9L/tP+V/33/dP9w/2X/UP89/zr/S/9q/5P/w//w/w8AHQAjACsANwBCAEgASgBJAD8ALQAZAA4ADgANAAQA+v///xYAMwA/ADgAKQAgABwAFgAOAAsAEQAWABAA///p/9j/0f/T/9b/2P/Y/9j/1//W/9X/1f/U/9D/zv/Q/9L/zv/D/7r/vP/E/8f/yv/Z//P/AwADAAAADAAcABIA6f++/7D/u//J/9v///8wAFAATQA5ADAAMwAwACQAIAAsADAAGADz/9//7P8HABkAIAAqADwASABEADQAKAAkACAAGAAPAAwACQD///H/8P8DABsAIAAOAPb/5f/b/9P/zf/N/9H/0//S/9D/z//Q/9T/2//i/+j/7v/3//v/7//Z/9D/4P/6/wYACQAXADMARAA6ACYAIwA1AEcATwBVAFkATQAnAP//8P/3//r/7f/i/+X/6v/l/93/3//o/+j/4//s/wIADwADAPT/+v8PABkADwAEAAcADwAMAAQAAAD///j/7v/q/+n/4P/R/83/2//o/9//zv/M/9//8f/w/+j/7P/8/wEA+f/s/+v/9f8DABIAJQAzADMAJQAXABYAIAAnACgAKQAqACUAEwD9//D/8v/4//j/9f/6/wcAEwATAAkAAwAJABEADgABAPf/+v8BAAEA9P/k/9v/2f/U/83/zP/V/+T/8f/7/wMACgALAAIA9P/p/+j/6//p/9//2f/h/+z/7P/h/9v/5f/x//H/6P/q//n/CwAZACUAMgA3AC4AIAAeACkAOABCAEgAQgArAAcA8v/4/wkADQABAPb/9f/2//D/6P/q//P/9//1//X//P8DAAcABAD6/+f/0P/G/9b/+f8XACQAIwAfAB0AGgATAAwACQAIAAUAAQD///z/9//z//P/9//5//r//v8DAAQAAAD8/wMAEgAZABQADQAJAAEA8v/k/+X/8P/6//7/AwAMABMAEgAQABIAEwAMAAcACgAQAAcA8f/k//L/DAAXAAgA7//h/+T/8f/8/wIABAACAP3/8//w//v/DgAcABoADwAIAAgABgAAAPz///8AAP3/+////wAA+P/r/+//BwAeACAAFQAQABEADQAGAAgAFgAgABoADgAPABoAHQAMAPH/2v/R/9H/0v/P/8n/xP/I/9b/6//8/wMABQABAPv/8v/s/+3/9P8BABUAKgA6ADsAKgAVAAoACQACAO//3P/g//r/DgAJAPT/6v/z//7//P/1//3/EwAiAB0AEgAYAC4AOAAfAPP/2f/j//z/BAD3/+n/6P/q/+X/3f/j//T/AAAIABcALQA3ACEA+//g/9z/3P/S/8j/zv/i//H/8//w//D/8v/0//r/AgAJAAkACAAOABQAEAAIAAsAGQAhABUAAADz//H/9P/6/wwAKAA8AD0ANAAtACoAJAAZAAwAAwAAAAQADgAZABkADQD+//P/8f/2//f/7P/a/9D/1v/g/+H/4f/3/xoALgAjABMAFgAcAAgA5P/W//P/FwAfAA0AAAACAAYA/v/w/+v/8v8AABAAHAAfABcACwD7/+b/1P/S/+T/+v8CAAAAAAAFAAQA+//1//n/+v/p/9P/0v/v/xAAHwAZABIAFAAXABEABwADAAIAAAACABMAMQBJAEYALgAXAAwABQD6/+v/4//i/+P/5v/m/+L/2v/b/+3/AwAKAP//9v/6//7/7//X/87/2f/n/+j/4//g/9r/z//O/+b/CwAdABEA//8BABMAHgAWAAsACwAQABEADgAOABMAFQARAAgAAAD7//j/+v/+/wAA+//1//n/CQAcAB8ADwAAAAIAGQA0AEQASQBFADkAJAANAP3/9P/t/+b/5f/s//L/8P/p/+T/4//b/8n/uP+6/87/5P/v//L/+v8GAAsABQABAA4AIwApABYAAAADACEAPQBAADAAIAAbABcACwD///r//P/8//v//f8CAAAA9f/r//T/DQAfABkABgD8//v/8//e/8z/z//h//D/+f8EABIADwD2/9z/3P/x/wAA/f/2//v/BQAHAAIA/v/5//P/9v8HABoAFgD4/9r/0v/b/+b/7v/5/wIAAQD7//n//f/6//b/AAAfADsAQAA6AD8ASwBHACwAEQAIAAcABAADAAsAEgAMAPv/7//s/+f/3v/b/+T/7//x//P///8KAAcA9v/p/+7/+v/+//n/9v/2//b/9//+/wcACgAAAPb/9/8AAAMA+f/n/97/5v/3/wIABAABAP//+v/z/+//9P/+/wEA/////wUADAAKAAMAAgAEAP//8v/w/wAADwANAAQADAAiACoAFQD1/97/0P/C/8P/5v8bADoALQAUABMAJwAtABoABAAAAAMAAQAEABoANAAzABIA7//k/+n/6f/i/+P/7v/x/+r/6P/x//L/3P/B/7//2P/x//r//v8JABQAEwANABEAGQAQAPb/4P/k//f/BQAOAB4AMgA7ADAAHgAOAP7/5f/L/77/w//V/+7/BAASABgAHwAuAD8ARAA6ACsAJQAiABsAEQALAAgAAwAEABgANwBIADwAGwD+/+z/4f/a/9n/3f/f/9//5v/v/+f/x/+m/6P/vv/Z/+L/6f8BACYAPAA8ADEAJgAXAAAA6f/f/+P/7v/8/w4AJgA2ADIAHQAHAP3/+f/x/+D/2v/s/wkAFAAFAPb//v8SABoADwAEAAUACQAEAP3/+f/y/9v/u/+r/7n/1f/u/wAAEAAgACYAIQAXABAACwAHAAMAAAABAAcADQANAAcAAAD4//L/7f/y/wgAIwAsACAAEwAWACIAJQAcABEABADy/+D/4//+/xgAHwAZABwAKAApABYA/v/w/+n/3//W/9j/5f/v/+//7v/x//b/+P/2//X/9v/5//v//f/+/wAAAgADAAAA/P/+/wIA+//i/8n/xv/Z/+7/8//p/9r/yP+8/8P/5/8ZAEAASwA/ADAAKwA3AEoASgAlAPD/0P/a//r/DgAQAAsA///j/8D/tf/T/wIAIAAhABkAGQAaABYADwALAAUA+v/2/wcAJwA3ACoAEAAEAAgACAD7/+b/0v/A/7H/tv/b/w0ALgAuAB8AHQAoAC4AJwAbAA4A+P/X/8P/z//y/wkAAwDx/+j/7f/0//r/AQAIAAMA9f/1/w4AKgAoAAoA8f/x//z/9v/i/9b/3P/k/+j/9f8VADcAQQAwABsAEAAMAAkACgARABQACwD///j/8v/i/8z/xv/W/+z///8UADAAPgAzAB8AJQBGAGAAVgA1ABcAAgDs/9H/xP/J/9L/0P/M/9T/5P/r/+n/6f/0//3/+P/r/9//2P/W/9//9v8WADQARgBOAEkANwAgABcAIgAvAC0AHgASAA4ABQDy/93/0P/M/8j/wv/B/8r/2f/l/+f/3//Y/9z/6//4//z/+v/5//v/AAAJABgAIgAeAA0A+v/r/+L/4f/r//7/FQAqADYAMgAfAA8AEQAcABAA4/+3/7b/4v8PACEAHgAgACwANQA2ADYAMwAlAA8ABQASACQAIAADAOH/y//D/8P/0P/v/xAAHwAQAPH/0f+4/6T/nP+o/8b/6/8NAC4ASQBVAFEARAA0ACEADAD+//f/7//j/97/6v/3/+j/u/+M/3T/cv98/5n/0/8jAHUAsgDNALEAUgDE/zz/6P7e/iH/s/97AEoB6wFPAoUCjAJIAqgBvgC6/8T+/v2E/WH9gf3C/Rz+nf5D/+j/XwCoAOIAJAFYAV0BMwH4AMMAiwA9AOD/jv9i/1j/Yf93/5n/wP/b/+D/1//Q/87/yP+9/7n/w//a//b/EwA4AF8AfgCOAJIAhgBnADUA/P/I/6H/iv+K/6j/1//9/wwAFQAwAFgAcgBsAE4ALgANAOL/qP9y/1f/Wf9z/5//2v8aAE0AYABVADwAIgAMAP7/9v/4//7/AQACAAgAFAAiACkAKgAnACAAEgD//+v/3v/X/9P/1P/b/+n/+v8HABAAGgAxAFoAiACeAIQAPQDh/4f/Rv8t/0L/cv+d/7X/0f8JAFkAmACsAJkAdgBMAB4A+//x/wAAFgAeAB0AHQAeABQA/f/l/9b/0P/H/7P/mf+E/33/h/+g/8j/+v8uAFsAeACFAIgAhAB7AGMANADu/5r/Uv8t/zj/df/b/1QAwQAKASsBMgErARAB1ABzAPf/c/8G/8v+xP7T/t3+5f4O/2b/1v8zAHMAqADlABwBKgH3AIsADACh/2T/Wf9v/5b/wP/k//3/EQAwAFsAgQCLAHEAQAADAMP/if9z/5T/3P8dADIAFgDi/7P/m/+f/7r/3f/1//r/9v/3/wAACQAIAP//+f8AAAsAEAAHAPj/7P/q//X/DAAoADIAGQDg/6T/g/+L/7H/5f8VADUANgAXAO//2//z/zAAewC1AM4AxACdAGEAFADJ/5v/ov/Z/xsAQgA4AAwA3P/F/9T/AgA0AEkAMgD4/7b/hv94/43/u//v/xMAIQAdABUAEQAUAB0AKgAxACwAFgD5/93/zP/M/9z/9f8NAB0AIQAbAAoA+//+/xoAQQBSAD4AFQDv/9H/vP+5/9X/BwA2AEcAPAAhAPv/yv+g/5f/tP/c/+z/1f+k/3P/XP90/7z/FgBbAHYAcwBrAHAAfwCSAKQAqgCSAE4A6P+A/z//N/9e/5r/1/8NADsAWABfAFMAQgA0ACUADwDy/8//p/+D/3P/hf+1/+7/IQBJAF8AVgAsAPb/0P/K/9b/4f/l/+T/3v/W/9n/9P8cADsAQAAvABAA5v+3/5j/mf+x/8v/3P/u/wkALABMAGcAfQCKAIYAcABQAC8ADQDt/9T/xv/E/9H/6f8EABcAHgAhACwAOQA8ACwAEADx/9L/uv+w/7f/xv/U/+T//v8dADQAOAAuACMAFwALAAAA9v/n/8z/r/+k/7X/1P/o/+j/3//g//D/BwAdACYAIQATAAsADQAZACgAOAA/ADsAMwA3AEcAUABCACgAFwAUAA0A9//X/77/rv+j/6b/v//h/+//3v/E/77/1P/2/xQAKQAyAC8AJgAfABIA9//O/7P/wP/0/zYAZwB0AF4AOAAYAAgABAD9/+7/4P/Y/9X/1//d/+P/2//A/6n/rP/G/9j/0P+9/8D/5v8eAFAAZwBVACMA9P/y/ykAdACeAJYAcQBIACAA9P/L/67/n/+Z/6D/wf/4/yoARwBTAF4AaQBeACwA2/+L/17/Y/+S/9L/BAAfACQAIgAeABkAEgAIAP3/8//v//T/+P/w/+D/3/8AADsAaABmADkAAgDa/8X/uP+s/6D/lv+T/6f/2/8oAHEAngCtAKsAowCOAGcAMAD6/83/qv+M/3n/d/+F/5z/s//K/+v/FgBLAHsAlgCSAHAAPwAOAOb/x/+y/6T/mv+Z/6//7P9HAJUArACIAFQAPABDAEQAGADA/2P/Mv9C/4L/zP/9/w0ACgAHAA8AHwApACIACgD2//L/+f/5/+j/1//f/wgAPQBXAEIAEQDn/9b/y/+u/4H/YP9j/4f/vf/6/zMAXQBwAIIAqQDbAOQApwA+AN7/m/9l/zT/G/8t/1z/j/++//T/MgBvAKEAyADcAMUAdgAJAK7/fv9y/3P/e/+V/8b/AgA9AG0AkACiAKcApACeAIsAWQAEAKf/av9f/3n/mP+m/6n/s//Q//3/KQBKAFYAUAA9ACoAIQAbAAoA5f+8/7T/1v8IACUAGQDz/9D/yP/i/xQAQwBQADUACwDz//X/AwAHAPv/4//P/8j/z//W/8z/sv+j/8D/DABmAKAApAB+AE4AJgAHAOr/yP+k/4j/e/+J/7X/9P8xAFgAYQBYAEgAMwAQAOP/vv+y/7v/x//L/87/2P/o//f/BgAbAC0AKgATAPj/5P/V/8D/qf+h/7b/4v8TAD0AVwBpAHYAeQBgACgA6f/C/7z/yv/e/wAANABrAIoAhQBnADoAAwDR/7n/xP/f/+f/1P/A/8n/8/8nAFEAZQBeAD0ADwDq/9X/xv+y/6H/n/+x/8n/3//6/xwAOwBJAEwAVQBlAGkAVQAzABEA7//F/5//kf+e/7X/xv/R/+D/9f8LABwAHgAMAO//2P/W/+D/4f/X/8//1P/m/wIAKgBSAGgAYQBKADIAHgAGAOr/z/+5/6T/mf+n/87/+P8QABwAKwBBAEwAQQArACAAJQAtAC4AJgAVAP//8f/7/x8ARQBOADYAEgD3/+T/zP+s/5H/if+U/6n/w//f//n/CQAWACgAPwBLADQAAQDV/9D/7f8LABgAHgAvAEgATwA9ACQAGQAbABsAEAD//+z/0P+t/5L/jv+h/7r/0P/m////EwAeAB8AHQAeABsAEwAJAAQABgAHAAYABwALAA4ADAALABUAKwA+ADwAJAAGAPb/+f8BAAIA9P/h/93/8v8OABoAEAABAP3//f/v/8//rP+Y/5v/s//e/xAAOQBQAFMASgA5ACgAHAATAAAA4P+//6r/nf+P/4X/lP/A//L/EQAiADMAQQA6ABwA+v/o/+f/7P/z//7/DQAbACYALwA0ADEAKQAmACwAMgApABIA/P/x//X/AAALABcAIwAsADAALgAlABEA9v/f/9z/5//p/9j/xP/E/9r/9P8JACAANQA1ABsAAwAGABoAIAATAAkADAAGAOr/y//H/9X/2//T/8z/0P/R/8v/y//e//j/CAAOABIAEAAAAOz/7P8EABYABgDg/8T/xf/Z/+3//v8NABwAIQAeABcAFAASABAADAAKAAoACgAKAAgACAAKAA8AFQAaABwAHAAhAC0AOwBAADgAJwAYAA8ACAAAAPn/8//u/+r/6f/t//b///8IABMAGAAQAAIAAQASACMAHwAJAPn/+v8AAP//+v/6//r/9f/2/wgAIwAmAAkA6v/i/+j/4P/H/7r/x//a/9z/0v/S/+L/9f8AAAMAAQD//wAABgALAAMA9P/r//P/AwAOAA8ACQADAAAACQAgADQANgAkAA0AAwADAAEA+f/v/+z/8v/5//j/7v/k/+X/8/8EABIAFwAVAA8ACQAHAAkABwABAP3//f/+//n/9P/7/wsAFwATAAIA9f/0//z/BAAJAAUAAAACAA0AGAAYAA4ABQD8/+//4P/a/+P/7//0//f/AAAPABoAGQAXAB8AKwAtABgA9//d/9j/4P/l/+L/4//z/wwAHwAkACEAIQAkACcAJAAYAAcA+f/x/+z/5//m//D/AQAIAP3/8P/z////+v/j/9D/1f/k/+j/3//d/+r/9//5//X/9v/8/wEABAAFAAMA/v/+/wEAAADx/97/2//p//v/BAARACcAOgA2ACEAFQAeACsAJgAQAPz/9f/1/+//5f/d/9//5//y////DQATAAUA5f/K/83/7P8MABcAEAALAA8AEQAFAPL/5v/s/wAAFAAfAB0AFAAOAA0ADAAJAAkAEAAXABQACQADAAgACwAEAPf/8//6/////f/6/wEADAAOAAoADgAaABsA///N/6r/qf++/9P/4P/v/wYAGwAoADIAQgBQAEoALwAPAPj/6P/a/9P/4f/+/xQAGAAPAAgABAD9/+//6v/1/wQAAwDv/9j/1P/l//7/EwAiACgAIwAYAA4ACQAEAPz/9f/2//j/9v/z//b/+//z/9n/v/+//9z/+/8FAP3/8//2//7/AAAAAAcAFAAaABUAEwAhADUAOgAtACAAHQATAPf/1f/M/+H/9v/8//r/AAAGAAIAAAAVADYAPgAeAPL/2v/b/+H/5f/t//3/CgAOAAsABAD2/+L/2P/g/+3/6v/a/9P/4f/3/wEAAQACAAsAFgAeACAAHQAUAAkAAgADAAcACgAHAAMAAAACAAcAEAAeADEAQABBADAAEQD2/+T/3f/b/9//6f/z//D/4//a/+L/9f8BAAAA/f8EABkALQAzACkAEwD3/9r/yf/K/9f/5v/w//n/AAAEAAAA9v/x//X/AAAKABIAFwAaABgAFQARAA8ADwAPABAADQABAPH/4f/Z/9z/6f///xcAJgAfAAsA/v8AAAcACQAHAA4AGgAcAA0A9//p/+L/2f/Q/9L/4v/2////AAAEAA8AFwAVAA0ABwAHAAoAEAAUABUAFQAXABwAHAATAAMA/f8DAA0ACwAAAPb/9P/z/+j/2//a/+r/AAANAA0ABgABAAgAGgAuADYALwAfAAwA+//w//b/CwAfAB8AEAAAAPb/6f/X/83/1P/j/+z/7f/z//3//P/t/97/3P/f/97/4//6/xoALQApAB0AGAAWAA4AAwD///r/7f/i/+r/AQAIAPH/zv/E/9f/7//1//L/9/8EAA4ADwAOABAAEwAPAAQA9//v/+z/7f/z//7/CQAPABMAIgA8AE4ARQAmAAoA///5//D/7P/0//3/9//u//f/DgAYAAgA9f/3/wMA///l/9X/4P/x//L/7f/4/xMALQA5ADsANwAoAA0A+P/u/+T/0f+//8L/2v/w//b/9v/+/wgADQAMAA8AEwAKAPb/5v/n/+//7P/j/+X/9P8BAAQABAAIAA4ADgALAAsADwAOAAcA///6//T/8v/7/wwAHQAgABwAGgAXAAwA/v/9/wwAGQAQAP3/+/8KABMABADy//T/AQAAAO3/4v/v////9//i/9r/6/8BABMAJQA3AD0AMwAqACwAJgADANf/y//m/wAA/P/l/+H/8/8AAP3/+f8AAAcA/v/x//X/AQABAPL/5v/t//r//f/4//r/AAAAAPz/AwAXACYAIwAVAAkA/v/p/9f/1//p//f/+/8FACQAQgBBACIACAAFAAoAAQD0//b/BwAPAP7/3v/E/7X/sP+4/9b/AwAnADIALAAqADcARgBJADcAGgD//+7/5v/h/9z/1//T/9n/7f8KACAAJAAbABQAFQASAAYA/f8BAA0AEAAEAPn/9//2//D/6f/s//T/9f/w/+//8v/r/9X/wv/D/9P/4//v//j/+//v/9//3v/x/wIAAgD6/wAAHQA+AE4ASQA7ACsAIgAiAC0AOAA4ACoAFQAEAP7/AQAGAAQA/f/6//z/9//i/8j/wv/W/+v/7f/e/9j/5P/0//v/+//8/wAAAQAAAAAABQAGAAAA9//2//v//v/7//n/+v/5/+//5P/l//H/+//7//n//v8FAAgABQAHAAwACAD4/+n/6v/3//7/+//3//z/AwAHAAYACAAKAAkABgAJAAwACQADAAYAFAAbAA4A+v/5/xMAMgA7ACwAGAAPAA4ACQD///f/+v8HABYAGQARAAYAAQAAAP///P/6//v/+v/2//X/+P/9//z/9//3/wAABQD//+z/2//Z/+T/8v/4//f/+f8AAAcACAAFAAYACgAHAAAA//8EAAcA/P/w/wAAKQBJAEYALgAkAC8ANQAcAPD/zf/G/9b/7P///wYAAwD9//r/AAAIAAkA/f/n/9D/wP+8/8H/zf/d//D/AAANAB4ANgBMAEkAKgABAO7/7//x/+j/4f/q////EQAdACgALwAmAAsA8v/r//L/8v/i/9L/0//m//3/CQAJAP7/8P/q//X/CgAgACoAJQAXAAQA9P/q/+r/7f/v//L/+/8JABQAEwAIAP///P/8//3//f/6//X/6//i/+P/8v8JABsAGwAMAPr/8v/z//X/8v/s/+z/9v8GABoAKAAqACIAHAAcABgAAwDl/9P/1f/g/+L/3//j/+3/9P/y//D/9v8DABYAMQBMAFYARQAiAAAA6//l/+7/CgAuAEIAOQAjABIABgD2/+T/3v/o/+7/6P/h/+r//v8GAAAA+v/7//n/6f/a/97/6//m/9D/x//g/w0ALgA5ADoAOgAyACEAEAAGAPr/4v/O/87/3v/q/+n/5f/r//f//v8CAAsAGgAlACQAGwAQAAQA+P/w//T/BgAfACsAHwADAOn/3f/h/+r/6//j/9r/2v/r/wEACgD//+v/5//0/////f/6/wIADgAEAOr/2f/k//v/CwAaADUAUQBSADYAGgAVABwAFgAGAP//AAD9//H/6v/u/+//4//V/97//P8YACAAGgAQAAoAAwD9//f/9v/8/w4AJgA1ADIAIgARAAYAAAD9//v/+f/2//L/8P/x//H/8f/2/wAACAAIAAIA+P/m/9L/xP/I/9n/5//r//P/BQAZABwAEQAIAAcAAgDw/9z/2f/j/+f/2v/O/9n/9/8SACAALABEAGEAZwBGAA0A4f/X/+b/9v/5//X/9v///wgACwAMABIAHQAiABwAEAAKABMAIQAlABIA8P/M/7X/rf+x/7//1P/r/wAADwAYABwAIAAnADUARgBRAEwANgAcAAoAAgAAAPv/8P/k/93/3v/l/+z/7P/p/+j/7v/1//b/8v/x//f/+f/n/8T/qP+t/9L/AAAbAB8AGQAaACUANAA/AEMAQwA8ACsAFAABAPn/9//2//P/9P/2//D/3f/K/83/6/8MABUAAwDw//H/AAAPABYAHAAlACoAJgAaAA0ABQABAAIAAwD9/+X/yP+4/8D/0P/W/9P/2//9/ycAPQAzABgACgARAB0AHgAOAP3/8//1/wAAEQAjACgAFwD1/9X/zv/e//X/+//q/83/u//F/+j/DAAbABIABAAFABUAJQAmABoACwAEAAcADgAQAAkAAAD8/wAABgACAPj/9/8HACEALwAlAAgA7v/n//n/FQAmAB0ACAACABYALgAqAAgA5f/X/9v/1v/A/6j/p//J//7/IgAXAOb/xf/h/ykAXABMABIA6P/r/wsALAA6AC8AGgARABsAHwAHAOb/3f/u//T/3f+8/6j/oP+k/73/3P/k/97//v9JAHYAUAAUABQANAAsAA8AHAAUAKv/xf81AiIHPAssCkoD9fp89gr3Kvn++CP2kvNr9BT58f6PAn8CdgCl/6EB/ATKBpUFuQITAW4C7wXFCJQIjgU+AhgBLgJwA/gC1QCj/sD9Lv7d/sD+sf19/CX85fz2/WT+Bf6Q/cL9oP6W/xoAJwAVACsAVABNABQAAgBTAMIA5wDQANsA+ACyAG4A2QERBkALNQ1eCc0BfPtx+Sr66vn89jPznvFl8/j2zvmo+mn6B/ug/WcBUQT1BOEDHwNXBFMHOAorC+QJ0wfBBkYHYgiJCP4GWgTVAT0Abv+h/j39aPvo+Wj5xPkk+t75KfnI+Cj5//nX+rn7Bf2//mEAcgESAs0C4APsBFMF3wT1AzgD9QLpAoICcgH7/67+8v22/Zb9Pf2r/Dj8QfzJ/GL9mv1//ZP9KP70/nH/lv/j/7sA6AHdAlgDigO8AwUERgRXBBkElgMPA9sCEgNfA0UDkgKKAa4ASwA6APz/NP8T/jD95fzo/J383/sz+zH72fuV/OH8y/zT/GD9UP4C/+z+K/6F/a/9kP5V/0//pv4e/jz+x/4f//L+kv6b/kv/RwD2ACMBKgGBAS4CyQILAy4DrQO2BPUF7wZtB5wHywceCGIINghfBwgGuQTtA6oDdQO9AloBt/9y/tX9kP0D/dX7Qfre+Az4qvdK97D2Evbg9U/2I/fv93/4Cvnp+SD7R/zz/DT9mv2b/gkAMQGZAY0BzgG+AvkDzATyBMQExgQxBeUFpgZAB5oHzAcsCBAJZQqVC/8LkgvdCmUKBwoZCTMHvASRAjABSwAx/3T9NPvh+NX2KPW281Dy7PC57wHv5O5J7wPw8fAH8kvz4/QE96/5gvz1/s0ANwJ/A8UEAQYXB9oHGQjpB7gH6AdJCC8IHwdNBU0DfwHy/57+lP3I/Az8avtl+4T8nv7GADgCNwPLBIQHogrDDGUNcw0xDr4P6hCWEOoOAw2oC4QKtgjVBUsC3f4B/KT5U/em9J3xt+6V7GPrteoF6l3pV+l96rTsTu+y8dfzLvYk+an8PwBfA+AF8wfQCW4LlwwpDTIN1AwoDEALMgoKCb4HKwY8BPoBiP8G/Z76h/j99gf2WfWo9DP0xfTw9j76if02ANsCcQb0CjwPLRLUEysV2xaBGBcZ/BeJFbISGBCHDU4KHQZoAej82fjo9MTwluzn6CzmguSs41DjSePV413l8+co63/u7vHQ9U76C/9qAxoHOwoXDb4P6hE6E40TJxNuEoQRKRAIDhsLvQdSBPwAlf3t+Rf2ffKe767tkOw17OLs+e5z8tn2w/snARAHGQ2ZEjMXDxtXHs0g/SG6ITogwR1vGlsWqxF0DLcGkgBi+on0H+/06fnkhuAm3SDbRto32sDaDdxm3tThCuaf6mvvifQb+vj/qQWyCt8OYhJ/FSMY3BlXGswZwhhiF08VLxI+DhYKDAb6AaX9Gfmc9IHwEu146pDoMufW5oboyuy88sv4cf6jBEUMixSYG3AgyiPPJpQpDitJKk4n9yIrHjsZxBMwDXYFZP369YTvd+lF4ybd5dcr1AjSLdFM0VXSfNT+19Hcg+KX6PXu1PUw/YAEKQv/EC8WuRpLHqAgwyHPIa8gRx7OGrwWVhKDDSAIUQJw/Mf2ivHg7NnobOXW4uvhoeMC6OTtAfRN+rsBqgrhE5UbIyFqJWkp8CzPLiQuIiu6JrkhPhzZFSEORgUi/KDzD+wS5Tneodf40fDNyMs9y+XLic1a0KjUcto/4XXo4u+09/f/PwjqD5gWQRzlIFgkZyb+JiIm4SNVIMEbcxagEGIK0gMZ/W32HvCU6hbmh+KP303dvdwV33/krusE8yz6MgLtC3kWvh9rJhMrKi8fM8I1jTU6MuAsziZlIBgZTBAdBnD7W/F26JjgPdk30hHMs8ejxZ7F7sYsyZrMvNGY2Ingyege8dH5CQNaDP8UbxyQImsn6yrjLDQt0yvFKDUkgh4MGAoRlAnTAQz6ffJu6z3lKuAX3NfYBNcN2OPcluTv7MH0H/2zBxgUnh/1J24tFjLnNoc66jqgNxUy3ytJJYsdCRQKCYH9afJX6FffF9dbz3fIUMOqwHjA8cFyxCzIwc1R1RzeLuc98Kf5qAPIDSEXGh+kJdsqqi7OMBoxkC9HLGAnHiHrGSUS9AlhAZr4HPCO6FfiTN3u2DjVPdOt1D3al+Jh65Pzb/yyB+8UUCFSKikwBDUTOgY+oT5FO3A18S4tKEUgdBb7CuH+MPN96NLe5tWGzQfGRsAPvWW8kL3tv5zDP8kE0Tba1uN+7YH3KAIHDS0X5R8UJ98sPTHeM3s0CTOnL48qFySiHH4UzQukAkv5U/Be6MDhPtxd1yLTsdDD0RvXb99g6MHwuPkQBYsSbx8PKVcvZTSuOSo+ij/MPDY3wjAqKpUiABl8DS0BUvV96pngWde0zgvHEsFqvTG86rwBv3DCv8dBz3bYTuIc7Av2jQB9C/UVCh9vJl0s+zAHNBc19zPLMOYrniVCHhYWUw0uBOf61/GE6W7ivNwT2ALU7NBV0M7TUNvc5D/uNfdmAQQOtRt9J5Av5zSiOVA+NkFQQI87wzSdLScmRx1cEgkGo/kV7ozjz9nH0LTIFsJ3vSi7ELvJvAbA48Spy0fUGt5N6HryxfxfB/wR2BtOJDwrwzDDNMo2ijYzNCowmyqDIyYbIRL2CKD//PWH7FDk+9382D7Ux89tzYfPlNZq4B/q2PJj/LoIGxcpJDItyDKnNy49o0EuQhM+UjdMMGUpMSGLFvYJDf0G8QnmqtvC0b7IUcERvDe5lrjNuZ28M8Hyx8rQ6NpE5ZHvRvqlBfcQEBt2I4oqnDA5NaU3sTe0NewxVSwfJe8cWRRrC94BwffG7ffkDN7g2IPUTNAYzT3NetLf207mju93+IYDXBFgHzYqIjFbNgk8h0EORNBB2TvINP0tgCaoHEoQAwOH9jHrXeCw1bnLcMNvvci5QLiNuJC6fb6wxBzN99Y64YrrTPbIAWgNGRhNITYpBjBXNY44gTl7OKw18TBNKjwiaBkpEHoGa/xW8uLoxeBv2pzVcdGPzUfLEM0k1Mbem+kJ86r86giXF3olmS8SNlg730BURStGd0LCOzU0eCyPI28YaAvj/SPxdeV72gnQk8bsvq6557Yuthy3tLlfvmrFfs622EPjAe4/+f8EmhAtG1EkJiy9MrY3jToSO2w5yTVAMAYpfiARFwoNsgJY+ELuzOSb3FTW29FBzhPLrcmEzIrUud/j6u30nv/tDBUc2CmvMxQ6VD+JRDZI+EctQ4w7PjPaKlQhqxU3CF/6WO164X/WO8wEw5u7vraatK60TbZUuU++xcVtzzfaMOUw8KD7kwdWE+gdzSY6LnA0MDncOxg8BDr0NSAwsCj0H1UWMwzZAZP3qO1s5GDcItbS0bbOCMxvyiDM1tKe3WXpDvRx/tEKjhkaKGkz3Do3QBNF6UjDSW9GoT8QN+gtFiTiGAEMF/5g8Nzju9iRzh3F5Lzxtvqzw7NmtUW4nrwqwyrM59Yp4jbtQfjKA6sP2Bo+JKUroDGTNg06LjuXObw1VjC0Kb8hexhYDg4ELvra8Pnnrd+l2L3TAtFlz+LNNc3dz7TXl+MP8L76oARrEMoe+yx4N3Y9M0HtRDlIkkg3RPw7TDLRKDkfHhTZBm34turr3s7Ubst6wtW63bUwtDe1x7c/uwnAHMfY0FTc7+eu8gv9GAjlEwEf1Cc1LkIzsjfEOh07XTh9M58t7CbOHgcVSgrJ/0L2mO1H5Urdl9Zo0tHQUNBrz+7O6NGe2qPnw/Q3/2cI0xNpItYwzjptP7JBtkQYSINIa0PGOQAviyXDHCASTwTR9KXmhNuP0sLJcsA8uIGzE7N/tZW4o7sWwMjH19JA38fqB/V4/1oL9BcMIxYrkDAgNYc5ozymPAA59zJGLGolbB1iE9YHivzg8rvq++IU2wfUkM9SzufOQM8tz0HRiNgS5VrzjP9YCc8TSSEXMN47BkImRMpFSkhiSdJF8TxYMUMmjBxSEnQFGfbK5h/agNBByM6/mrfVsUWwi7Kbtty6s7/dxlPRBd636hb2tgD8CyoYxCPjLAEzPjfcOqc9IT4uO1g1NC69JogesxRKCZT9/vIL6jTix9rW03XO18sIzIXNtM4E0DTUuN286276qAYCEZMcwioFOTlD1EchSU9K0Uv+SiNFdTrgLSUichfJC4z9e+053uzRishgwEC4+rCrrLCsTrB/tf+6a8FWylPWDuRr8Wn9vQiQFM4g5is9NKI5MD3UPydB4j9bO0A06CsOI2UZZA5IAj32lOvR4mzbldRdzgnK7Mi0yk/NK8+U0QHYX+Rf9EoDvw7bGDQlEjSYQcFJbUz1TBdO8046TNtDNjfGKdYdmRJ4BTj1wuOl1NLJBMKHuney4qunqXOsHrL6t4q9qsQ8z93cGeu896wCeg07GSMlKC/qNdQ5azyIPlA/BT3nNjEuACVGHAsT5Qf7+kzu/eN/3InWxdBjy/XHuscrynnNtdA91YrdT+pI+TcHBxNcHgErPzhEQ/dJ5EwrTttOxE31SA9AyTQkKXodkRCLAVXxAeIC1TzKwMAVuMuwB6ypqrSsVLGIt/K+BshK03TgWO67+ywIABSUH5sqIzRLO+A/PkKaQqhAGTw6NcYsIyMuGPULRv9G85/oVt9J137QBMsBx//EvsVhyf3Od9XJ3P/l1vGd/60NwBqWJoExmDtpRC9LOU86UGVOK0rLQyE7+i+RIqYTNgQS9Zzmydh+yym/7LTdrQiqc6hxqJuqKLBFuaDErtAN3V/q7/jlB9YV1yH5K8s0izy0QltGBUcVRURBwzsoNEQqyh7fEhgHO/sK7yPj1dgL0X3LGcdOw+zAhMHbxfLM1NRf3Ffkpe5f/F0M3Ru5KDgzWz0iSNxRmVc4WGFVSlEfTC5EOjgOKaoYjggG+Z7pCtqzyta84rFkqqelmKIqoZqiK6i9sbK9QMrh1oLkJPQ8BZAV/SJbLUA22D5ARm9KeEpxRwNDhz33NZYrIB8zEtIF1vnK7Qfin9dyz4/JdsW7wm3BKcLCxXTMMNUq3q3mN/AB/RsNsB2QK0o2A0BfSjNUnVrnW+FYjVP7TJBEDTkUKsoYHgdx9tPmkNd0yH26Tq/ip9aj/6HAodWjl6lns+q/Ic052vTnNfdfB44WPiN2LS024z32Q0pHVkeJRMU/ejlmMTsnYRvoDpoCgvaA6iHfcdULzrHI88TYwrjCxMT6yF7PrNfy4BXqJPOh/eYKMxrZKJQ0iT2QRbVNuVQjWJ5WDlFwSeZA8DZlKv0a5gn3+G/paNtJzs7BprYlrj2pyafYqLyrvbCiuJXDpNBk3gnsrvmTB0oVxCEmLFc0ozoVP1RBJkHCPoA6UTTqK3Uh6RVjCkb/HPSV6F3d5tM7zTDJ2ca9xVDGQcmHzm7VZt1a5hLwyPnoAhoMzRZeIwAwFDqqQEFFyUkeTudP8ExjRYI7WzEFJyMbwgyk/LXsnd690mnI7r54tiawMK3drVOxe7YRva7FudCZ3f7q7vdEBD8QvxsdJp8u4jTiOLs6kDqVOAc17i8AKQUgbxVpCgcAYva77K/iJdnU0czNjsy2zITNms8X1BXbTuNl6zzzmfuCBMAMeRPyGaAiDy5vORBBO0S6RUhIEUtfSp5DCzhEK6sfkxTJB1/4z+fG2PzMM8T5vFq257A2rm6vOrQruxzDEszG1m3jGfFX/ksKExUYHz4ozy8UNdY3STiyNlwzry78KBMiZRnfDp8DT/mn8NzozeCz2EjSNM9zz4nRLdSJ177cQuT67C/1S/xFAwALoxJfGBIcRSCRJykxBjkUPII7HzujPH09nDnZLwAjyxZ3DFsCWPZM6F3aG8+Hx5zCq74fuwO557lXvmXFkc0R1ivfg+kV9fAA5gtdFYAdpCS0KisvkTHBMdUvGCwXJ3UhXxs+FFoLBQHZ9nnuDuhE4gfcD9Zo0mvSXtVS2TjdzOFS6LHwNvlWAEkGXAzWEjUYKRv6HOsgnyiVMTc3mTd2NeY0ezZlNqEwRyVMGFMNagTk+sTu8uBL1B7Lp8WEwknAs76tvmXBUcfBz1fZ5OIN7ET1FP9fCTITXxtIITcl6CfQKaUqmSkbJpQgXRrJFOUPTAqTAgP5xO8M6Qbl3+Hv3bjZitcl2QHe/eOJ6dnu7fT2+wMDMwmDDjAToRbcF2oXHhjsHJclDC7kMa8wRi6HLvMwAzHPKvse6BFMBwz/QvbS6q/d8NEdymzGJsVoxKXD6sPbxlPNntbc4EvqbfIr+r4CVwyuFfocZiGeI/wkKyaSJvckwCCnGk0U+A56ClUFMP5W9b/scOa94jvga91w2gfZ29rv37nml+0L9G/64wD5BmcMdxEvFlsZeBkbF+0V9RlaI08tBjIcMM8rfSoKLdcuYSqQHo4PqAK4+WjyXem43c/REMlcxezFRMhDyq3LLs6507bcf+ea8Zz5AgBuBusN3BV2HDwgNCGrIOkfFh9NHakZOhQVDnMIqwP3/kv5jPLc66jmaeNz4f/fL9/03wHjEOg+7tb0kfshAuUHcQw5EB8U+xf3GWQYhBTGEhUXiyBuKUksFin+JNIkBChAKcEjwBfnCdj+aPfZ8CboDt1J0inLAsl3yuvMsc400FTTotnr4jjtRvY5/QkDSwmBEIoXoxznHuQe9R0PHRgcHRo2FnYQCQpBBGv/nfra9Fbucehx5G3ikOEw4YLhPuPV5gfsNfLI+EH/DgW0CUkNrBCKFAcY6Bj+FZ4RzBDTFnQhLioPLDsoayTaJPQnDigNISoUdwYg/Dj1qe7E5eHaAdEwyzjKW8z/ztDQmNJS1kfdy+au8PL4Pf/BBN0KvhEuGIYc6R3iHPsaehlOGCUWzRGNCw8F2f/q+/33BfNg7YHomuWq5MnkQOVF5qXox+w18hT49/3eA4QJEA72EOoSTBU0GIEZ3hY6EZUNMREwHGAoKy5NK5ck4yBTInQk2yA/FUwFBvep7cnnt+Fh2S7QhcnSx7rKyc+n1LnYHd1K47frc/XV/osGVQzkEB4VSBm5HEEeGR2aGRwV9RBpDZ4JnQRz/jf4DvND71XsvOl25/HlmeWX5t/oTOyl8Jf1zvogAJcFBgu2D7YS5BNtFKkVKhd+FugRiQsICdUOTRsRJwErVibsHnIbKx0ZH/Qa7Q71/vnwHegZ44neY9iF0ZzMx8sYz8TUp9rO39Dk5uqV8ir7SQPnCb0OORIIFZgXuRmbGmcZDhaGEQ8NPQmqBZIBqfxd94Dywe5d7ArrNep86SrpMepj7YryUvhQ/TEBzwT/CGANcxAWEeIP1w5aD3oQjA8yC+gFBgUmDCsZIyXhKRwnHSJXIEkiaiOtHgMT6gNC9qTsQOaF4LXZVdKszPnK0M210z7a0N+b5BXqWvEM+oUCHwlMDcgP3BFXFO0WWhhaF8QT0A40CtEGJwQEAbb8m/fc8ojv6O1g7fzsPOyY60bsQ+9t9HD6s/+OA6oGDgrKDZYQAREfD8AMsgu8C6YK6wZoAuAB+ghCFnwjeCoXKp0mFiVyJu0m7SFKFhYHzPjt7frl+N6l137QL8tUyYPL9tDu16XeauQF6tnwY/l2Ag0K3w5HEb8ShxSmFvkXIhelE2EO/gi3BI0Bj/7R+kP2svEx7nbsa+w+7e3tFO5q7kbwdvRt+pIAhQUgCTgMZA/5EXoSLhBCDAUJsgcDB3oEf/88+8f8mQacFeciJSmoKFQmeCayKKkocCL8FcIGpfiB7RPlPt4w2MfSmM6/zDvOGtMX2kjhdefx7Bnz4vq2A8ULZhFRFIsVVxYuF4QXWRYKE9ANqge8AbP8jvj49K7xrO4x7LbqvupV7MjuC/Gz8nb0kPeQ/LsCoAgyDVYQZxJFEzUS4A5PCoQGjAQXA6n/xPny9ML2+QFVE1Qj4CuoLFIqiinOKpcqDCVMGbUJxvkK7Gvhn9nQ00vPBMzMyr3MQtJn2jbjAOuC8eP3Yv/hB8EPIhVlF2sXnBbGFcgU/hLPDw8LIgXg/j75+vRZ8hPxgvAH8I/vq+/78GvzG/Yr+Kz5oPv//rkDtgixDBEP7Q9oD1MNpgk7BZMBdf/L/YL6PfUq8XrzG/99EbQjRS9xMmEwmC0RLFYqeSW0G4sNNf1a7RzghtZj0KTMV8qJyTvLRtA92GvhE+q18Rn5LQHLCZYR+RZGGRMZpRcLFpQU0RL4D2kLKwUZ/pT34/KQ8DXww/As8RnxM/GS8rH1xPlG/Uz/WADHAXcECAhHCzgNoQ2/DKkKPge6Ain+1Pr5+DX39fP87z7vXvZ0BiEbCC3mNqo4OTZeM8wwaCzQI3sW8gWy9PvkT9hFz5HJZcY5xVrGj8oI0rLbt+XL7gH3Vv9eCF0RjhhtHNkcIBvsGBUXQhVyEtsNawfX/1b4PfJ17gztQe0L7tvu5u/b8Sv1cvmU/YQAKwJxA2MFNggbCwoNkw3wDFoLmwh2BGv/0/rZ9zP2N/TX8OTt4u/B+vANqCOHNIQ84jy9OfA1MDFsKVIdjQ0W/AnrCtwx0APIbMMCwpDDOMj0z+fZZeTw7TX2Hf6sBr4Pvhe3HM4d4RvMGAAWmBOdEBQM4AXQ/gf4cfKC7kPsduvI6x3tq++p88L47v3tASEE7wRqBYQGZQhkCpQLewtZCrcIqAaaAxD/n/n49Ijy9PFM8Uvvtu0a8Vv92xHgKBQ7LkS/RBtAADkeMBMl6hdYCQf6Oep22ivMX8Gku2a7EMCNyGzT4t456bnxLvkqAY8KfxTLHFkhfSE9Hn8Z0BSmEIsM5QeOAtr8PPcV8szt5ers6TDrje5j86z4T/2WAHQCcANJBJwFogf+Cc8LJAyzCgwICwUDApH+UvrD9S/ykvB98GHwce9/75z0CQLjFrItsz/lSHdJ6ENmOvstdh8uEHoBqvMC5uHX+Mlmvq23b7fCvT7JZ9dc5dDwAvkH/+IECgxOFPwb8SDMIZIehRhrEa8KCAWVACj9UPpe97zzee+P63/pjOoK7xf22P0rBJwHAQhzBqkEGARFBYoHhwkGCq4I8gVhAjP+hPn89NTx8PDP8ZXytfE28CzyLfxZD28nBT0nSlxN1Eh1P+cy7yOnE6MD7/Q653zZdsu4viC2Q7TnuafFotSn40jwovl/AK0GrA2eFSUdQyJ2I3kgSxqbEgULhQRq/4v7d/iB9QryEO596snoIOq17qT1S/3WA+UHEgkYCGEGSQWFBdYGMwhbCKkGdwOv/+T7G/ht9Kjx1/D38Xzzw/N281X27wC0FLItXUQTUqZUMk4zQgUzviF9D+H9G+7531DSkcQPuMOvtq4xttLEEtfX6Cz3QQE3CAUOHxSlGm0gxSNsIykf2Bf8DjMGwP5E+bX1efOz8bXveO2w64Dr1+3m8uv5YAGLBxsLpwvRCfgGngS3AygE5QSvBO4CAACn/E358PXF8r/wCfG18xr3NPk2+rP9YwjcGys04Um2VoVYlFAsQYUscBWR/+DtzOAe1hjLGr+ftM6vsrMTwJTR0OOh8/P/DgmrD5UUkRjzGy8eGR7DGkkU3Qs2A/H7Dfep9AH04PNV8znyL/E98T/zbvcn/QMDaAcxCTcIWQUaAvb/o/+sAMIBsQE5APX9i/sV+Wv28fO48o/z7/Ug+Av5R/oAAAwOSCSkPeVSoF7/XsRU5EFkKZEPwfj+5gjZDcyavj2yj6rFqpmz+8Jv1dvnXPjtBfcPjBa5GtUdKyCTIJUd+Bb7DWcEofuF9JvvA+1a7OPs9+1b71fxivRy+cj/VQaMC1oOfg5DDEsImwNy/5f87PrG+dP4VPh6+MH4RvjD9h71wvRH9rv4g/pd+7X9dwX7FJAqGEHpUjBcOFutT886OSBhBQvvqd4v0orGkLoWsJ+q+KyLt2zInNw78dsDaBKRG5MfPSCeH3ceBRw2F94P2QZw/dv0Oe5y6t7pCOze7yb0BPhH+1/+4wH6BRUKPA2MDn0NCgrSBBz/Vfph90j2lfbj99z52/vb/Bz8+fn498r33/n+/Hr/PQGlBAYN6RtuLxdDC1LDWG9V2Ee6MQAX1fxt5xXYHM3fwzW7cLQ9sp+2vMEX0nflZ/lAC4wY5B/CIScgOx0AGiIW1BC/CVgBlPiN8GDqCecX51Xquu/U9XL7EwDfAzgHVwoZDRMPsA9VDqgK6gQV/pT3p/L5753vQPEq9CP3tvgT+PP1evTH9TH67P+5BEsI/AwRFuMkgjelSa5WD1u6VINDzCl+DGbxidx+zhXFtr2Bt6izO7StuivHuthm7VcCJRTnH30kFiNRHqAYJxPJDe4HOwHK+RHy5ep85STjq+TF6Rbx2/jA/0EFcwmRDMcOLxDFED4QAQ6LCQMDeft39Frv3+wo7c3vyPN19y35bviJ9gD2svhb/swE9AnlDRETVxyUKqg7dEuTVZNWpEw2OHQcvP6U5FXRIsX1vaC5QLdst3y7qsRc06XmLPyUEHcggylAKwonRB9GFpENowVP/jb3MfCG6fPjjOBi4AXkG+tb9Pv9aAbBDNkQ8xJ8E+cSbhHfDrcKtwRr/RL2/u8L7J7q3ut87030afgz+qD5fvg9+Rr9LANECfQNEBJLGBcjhDKfQ6tR/1eRU8lD0SowDX/wT9mPyWTAi7sZuYW4m7rSwGfMdt1l8gcImBoSJyQsVCp9IwYaDRDXBrT+UfdS8KnpxuOc33jeeuHJ6DLziv6vCE8QAhX5FrYW5hQgEosO0QmTAwz8MfRK7WDoF+bO5ofqbfCq9h37tvxd/GX81v7nA/0JMw85E+0XDyDyLPo880vhVO5Tp0dZMc8UWfcA3sPL2MB3u3K5hbm+uzHBM8th2tPt9wJGFnMkgCtCKzAlqRv/EMIGpf3J9Rrvd+nT5InhheDy4mTpKPNe/tcI+xAPFgwYXxfDFAgRsQyyB7oByPp+8+7sE+iR5c7l6ehf7sH0EPri/Gr9dv0v/3sDTwmlDocSXRZGHaMpvjpqTNRYCFuuUJc6cRzU+4veosgvu7O0srJSsyW2BrxjxijWuOqEAbMWfiaQLqQuQijzHUQSCgce/aj0lu3f54zj1uBd4A3jhOlM87z+rQlvEiwYrxoWGskWiBE0C2cEW/0s9kXvbOl85QPkJ+Ww6Bruh/S0+lX/0AHkAl4E0Ac6DSETMBj5HOIjEC8PPjNNLFdsV9xLWzVVF9T2MtmYwtW0OK+Ar2Gzwbn8whrQj+FR9s4LqB60K+sw9i1RJMUWWghP+8LwEulQ5EHiRuKx43DmL+uL8hr8XAaVD40WmxpZG60YEhOpC8IDYfwG9szwqOyf6ePnuec56TXsT/AP9cP5j/3//6UB9wMgCOQN+xO+GXIghioGOaRJKVcYXExV6kK8JwQIlujozQW7sbCVrWivbrRLvLnHgNdN60cBaxZrJ5IxZTMhLccgeRFGAi31/+rt4+TffN7/3gHh9eTN69f18gECDvUXax6xIJweqhgXEIYGgf0H9m3wduzA6TroL+jN6dLswPAz9ar5Mf3m/jX/JADHAzEKcxHhF0keiCerNU5HgldGYHhdT07uNCEVbPOD1IS8zK0yqIqpUa8ouB7EvNPZ5gP8wxBDIvctHzJHLp8j2BQvBTz3TOyi5Pvf0N2A3b3eBOJj6GbyK/+SDD0YayAqJCwjyB0SFbUKdACU94bwFOvh5urjjuIp48HlEuqk75L1gvpy/fD+KgE2BvYNIRa9HJQi1Sr0N7NI/1e9X/FbG0yEMugSnvEc0027ZqxApuimLawLtcnB6dLy5w//ihV9KE81HjpYNjkrextECv/5CewP4WTZBNWY0+HUMdlB4VLtVvz+C5oZIyO9J5MnWCPjGyMSPAds/K/yhuob5LDfsd1m3qXh6uZ87WH0QfoP/hwAcQJiB1wPQxhvH4ckUCoxNJ9CtlFJW3BatE3GNgMZafhM2eC/Ca9UpxOn16sitAHAJtB+5HL7SBIJJiA0oTqpOO0uzh9yDn/9f+454jrZ2dP90U/Tu9eo31brDfrYCSsYyiJ2KAUpECWSHboTxgjo/f7zguuv5MXfHt0E3ZHfnuSc61LzBvpo/swAZwOxCCcRgRq4ITIm4yrcMzRCGFLLXLBc/E+IOBEa1Pgn2R6/kK0SpQKk9KeBr/q6bsvx4LL5bhKnJ3I22jwxOn0vZB9BDdb7qOxY4DvXmdGKzwHRFdYN3+7rvftMDNsaJSUhKgUqviVjHvgUZwp6/9j0IOv44g3d6tnl2Qfd9OK36svyj/kW/t0AygP9CBcRRRpzISkliScCLWA4okeeVMBYq1AfPYYhNgKW46nJV7d3ra6qn6y0sSa6WMcT2jPxtgnnH3EwBTm1OFAwRiLNEaUBZvOd53jeI9jX1MnUOdhu33Dqd/ikB2cVgh/sJOklWCMAHlwW5AxMAnf3U+2/5HreF9vh2sfdU+Os6qPy2Pk2/50CUQVYCeIP4ReWHigiByRyKOQydkKEUQBZg1QHRK0qnwzr7U/S/by5rySqTKpSrti15sF50/PpwgJEGvcsSTjyOiw1vSiAGG8HsvdN6onfkNe50nnRM9QY2wrmSfQpBD0TGh9OJrgoDycjInwalBAfBSL5wO0U5A7dVNkq2VrcS+IS6nryHvq+/+8CqwQBB64LcxL9GAcdFx8EI/wsaD1UTwtbr1oeTWM1Ixia+T3dCMYothauTqyJrqmzm7w7yxDg6/iTEbsloDJUN0M0yiodHeYNav/D8vDnrN4815fS6tH61czei+uU+rIJqhbjH9Mk2iW8IxQfKhgSDwsE0fey61ThJdrr1qTXvNtS4lDqbvJe+VP+sQEwBbwKnhKwGgMgDyI3JJArUTrwTKZbI1+kVIE+pCG2AhvlictnuBCt6qjtqXGul7bYwy3Xfu90CZUg7TBdOAo3vS7nIfkSBwRr9oDqEOBM10jRZ8940nLavOYf9nEG6BRMHwUl1ibMJWwisxx1FMEJQ/1n8P3khNy+18nWZNn/3qvmLO8i91j9bgF+BLMIZA9WF20d9h9CIYUmPjNfRb5VkVwjViVESSvvD7r0cdsxxh23966erFSuiLMzvXzMBeFl+P4OWyEkLYEx6i7LJi4bSg7SAWb2zusJ4hPajtWn1X7ab+OH71n91grXFRYdnyA8IZgf1xvNFWAN6AJs93rsneO93QnbSts+3pHjqOp08of5rf7kAdUEuQkdEcQYiB39HgchCSmzOGZL1FiNWqhP5TsBJOkK0/H32X3FnrY5rperka3Ps9y+Bc9G4zL5xw1sHmcp8C08LIIlsBusEIoFf/qW733liN0H2bfYuNy25NnvlvzlCPMSvRk+HQkewRysGacUjA2wBAX7oPFJ6Xzi1t0s3A3eIeMQ6gnxifYo+v/8KgEyCFMRohmZHgchJyUXL6Q+YU4WV3hUMUcXM/Qb2APH6yPVFcKMtDmtlavdruO26sO01dDqvgC9FIAkgi4TMoMvJSjeHVISXwZX+qruTuR53CrY/dcn3ELkGO/S+qYFhA4QFUYZKxvSGlEYtBMPDdcE//uM8yLsFubl4Vng/uF35m/sLfJz9jz5/fvKAJEIxhFiGdYdPyEWKA412UX6Uw1Zs1IdQ2QulBfo/wzolNHgvtWx8qquqZatxbZLxUHYke2iAjIVnyO/LOIvRC1QJhkdKRPSCMH9MfJ852PfENvA2iHeouRa7f/2QwBCCJgOJBPaFasWgxVFEgUNQAbK/mD3Z/A66pnlkeO35H/oWe2d8aD0MvcX+5oBQArQEkYZGx51JHMvvz67TVxWJlXVSqY6cSdZEsL70uS+z7K+xbL5qxiqWK0OtujDg9XO6M377QzfGngkCinnKFIlph+GGOcP2AUh+xfxAOmu44nhn+KC5jfsmfLe+MT+QgQuCR0NjQ8WEI4OGwtCBrUAHPvo9XnxP+6o7NHsR+4n8LrxF/NG9Yn5IwDDB44ONhQMG04mwDa9SABWylmdU1FGITW0IX8MM/ZW4MHM4ryCsRSr+ql5rl+4tsbi1yjqF/xpDMUZ5SJBJ3MnziRxIMka1hPACw4DcvqP8gPsfeeJ5S7m1uiu7C/xNPam+ysBNgY2CrMMUw0EDCwJhQXIAWH+bPvs+OD2TPU59KnztvOs9Av3B/sHAOkEWgn9DqcYuSfrOeVJelLDUXhJqzxVLcUb8wfX8mzesczYvlm1crBfsB+1PL7UytTZGOpj+kkJShVKHRohnyFDIBEeNBtDF+ERJQuYAxL8fvWO8Gbtnuut6nXqQutm7c/wEfWd+ej9bAHKA+sEGwXYBH0EGQR4A2MC1gAJ/0D9o/tg+uH5pvqz/F3/HQLQBasMYxjtJ0M3uUHoRJ1BPjp9MGgkaRW/AwbxaN+Q0FfFGL7tupO7bL/0xSnPKNs66YL3zQPXDMESexbdGD8ajBp9GcoWXRKFDP8Fw/+W+sP2DvQA8lTwLe/x7vbvQ/KI9TX5pfxe/z0BcQJRAx0E3ARUBS4FQgTFAjQBBwCG/9H/4gB1AisEQgYKCkIRZBx9KdI0CDsCOwk2Ui5aJTUbQg9bAXzyS+Q52PfOschXxbLEbMZjytfQ59nA5Jjvsvh6/4gExgiyDEsQSRNAFbQVaBSuEUgO+woiCI0FrwL+/mL6cvUr8V7uS+2l7dbuTPC28TDzIfXf9137Kv+0AnsFNAfrBywIyAg5CiYMmA3eDX8NQg4jEsgZoiOWLMMxEjJxLqYo4yE/GkwR+AbZ+7vwM+aw3NLUVc+YzFvMI8690RLXo91t5JLq9O8P9WL6AgCwBQQLhA+/EngU0RQ6FD0TIRKoEDIOSAodBXv/NfrH9Vzy6+8s7q/sUeuQ6jDrfO0N8TH1Xfkw/VIAsAKzBA4HGQpyDToQuxEAEv4ROBPdFvocNiRkKoYtqywzKGkhuhkUEsUKsQOH/OD0puxy5Hbdu9iB1nfWUNjS20zgnOQP6Bjrv+5w84v4LP3oAMsD7QVuB6IIywnBChwLzwpKCtEJ+QgaBzoEOQEV/wL+bP2W/Df7oPln+P/3dviS+QP7gPy1/WD+oP4N/0IASgKSBI0GNAjPCWILmgw+DY0N+w2rDkQPRQ9kDqUMOQpkB24EqgFq/+j9HP2f/Oz70fqm+fr4Gfnm+R77evyc/Qz+if1f/Dr7p/q4+h77d/uM+2X7P/tU+5/75/sN/ED8u/xf/bf9c/2//B38+/tw/Ev9Mv7K/ub+pf5o/ov+L/8wAE4BQwLgAiADMANWA8ADagQsBdgFRQZKBtUFJgXGBCYFJwYbB00HhQYIBTgDXQG9/6P+Kf79/aP95fwB/GT7U/vY+938NP6P/5kAIwE8ARwBAwEWAVEBhQF0AQYBXACu/yL/v/6G/nz+nf7P/vf+Ev8w/2T/qv/2/zcAZgB4AGAAGQC1/1P/Ev/t/sT+c/73/XH9D/3n/Pj8NP2N/fb9ZP7N/i7/kf8GAJQAJwGVAcABqAFpAR0B0QCGAEEAEAACABMALwBFAFgAfgC/ABEBZAG3ARYCegLAAsgCnAJgAisC7gGQARkBrwB7AH0AjQBzABEAdv/N/kb+9f3a/ej9Cv4m/in+Fv4K/hv+S/6H/rz+2f7W/q/+cP4q/ur9tP2R/Yz9qf3Y/Q/+U/60/iv/mv/l/w0ALgBbAI8AvQDTAMsAsQCeAKMAswCsAIkAbwCJANUAMQGJAeQBSAKWAqwCiwJrApcCRgN1BM0FugawBoQFcAPOAOv9Evu0+Ev3JvdO+JP6j/2qAFIDQwWaBn4H2geCB4gGPwXpA40CJwHY/8r+8P0a/Tb8Yfu1+iP6mPke+dD4svi6+PT4d/k7+hX78/vt/Af++P5b/xb/cP7Q/Wz9Tf1q/a794v3J/Vj9w/xZ/E38uPyc/eP+VAC3AfcCHQQhBeEFXQbrBvoHjwkVC8sLeAuiChMKMwrbCpwLFwwGDDALfQkiB5QEPgI8AGz+rvwI+5D5SPg29232Afbd9dD1x/XZ9RH2UvZ79qz2Iffp99X41PkT+5z8Av6q/nr+9/2z/cv9A/45/mj+bf7+/Qz99fs5+xj7i/t5/ND9Z//+AHICzgMcBUAGIgcDCHEJvguQDg8RnxJaE9UTbhT0FPAUGRRwEvsPowxgCIIDof47+nH2EvPy7yTt4+pU6XLoLuia6N/pBezX7gHyP/Vw+Hv7P/6uAO0CJgU4B5wIxwjABzIG0gTDA5kC8ADI/kv8hPmR9u/zT/L48Zzy3fOq9QT4kvr1/Fv/WwIhBgMKUA0oEDoTuhYVGsAc5B75IN0ixCP/IqEgLB3lGKoTaw2CBoz/6vio8srsm+eO48vgGN8r3hHeEd9J4YPkeOj87OXx3/aJ+7b/ZAOOBhEJ6Ao2DAYNIA0vDCwKeQedBOsBYP/W/D76uveC9cbzp/JA8qTyv/NI9fn2uPiK+mr8Vf53ABoDNgZHCbgLfw0RD80QphJvFDkWKRjzGeAaZBqSGPEV6hKLD74LfwfeAtn9dfj18tzttunC5ubk3eNy45bjVuTR5S7oh+u872v0Gfln/SIBNwSqBqoIcwoNDCENMA0DDN8JUwfMBHACLADf/Wv7yPgb9r3zFvJt8b3xwfId9Ir16vZL+Or5Ivw+/z4DtQfoCzMPWxGmEqoTCBUfF9AZaRzmHX4dHRt1F4YT/Q/kDNgJZQY+AkL9m/fs8TPtPOoM6eHo0ehq6M3naufK52rpiOzX8Iv1uvnf/Ab/owBRAoIENQfWCYELnQs6CvkHlwWPAwMCwwBp/4/9Hvts+BT2o/RW9Av1WPa699H4jfks+hD7jfzL/rgBBwU7CNYKjwx0DecNbw6ED08RjxOcFa0WQhZrFMkRJg/0DBsLJwmlBlwDWv/o+pr2KvMU8Tfw3O897xfuvOzB66rrwOwF7yHybPU++FD63/ts/Wj/8wHSBHQHLQmTCcIITwfkBeMEPASQA20CkwAm/p/7l/ls+Cb4jfhI+QH6fvrE+hP7wvsF/db+AgFHA2oFRAfICAIKAwvbC5cMQQ3hDXEO3A7+DqsOyA1gDKMKyQjvBg4FFgP6AL3+Yvz/+cb3+/XM9C703fOS8yzzv/J58oryF/My9Mf1lPdI+bX66/sW/Vn+uP8iAXICeAMNBC4E/QOgAyYDjQLTAf8AHQBA/3v+3v1q/Rr98fz6/Dr9ov0g/qj+L/+s/xkAjgAqAQgCJwNxBLcFuwZPB4AHlwfrB5kIcQkZCkAKxgnCCHEHHgb4BP8DEgMCAq0AFP9a/cX7k/rU+V357fhY+Jn3y/Yf9sr18PWM9mn3Qfjt+Hn5Ffrp+gL8S/2g/tb/wABKAYIBlgGuAcoBywGbAT4ByQBNANL/ZP8c/wT/Dv8b/xX//P7k/ub+HP+S/0EAGwENAgYD+gPfBLMFdAYhB8UHbwgcCaUJ1AmXCRcJhgj1B08HiAaiBZ8EcwMZAqcAPP/Y/W78A/uz+Zn4ufcN95X2SfYb9v31APZF9uT20/ft+Aj6BPvW+5T8Yf1K/jj/BACVAOoABwHyAL4AiQBpAF0ATgAlANf/aP/x/pr+hf67/jD/z/+IAFEBJQIHA/4DAwUHBgUHBwgICdwJVQp8CokKpAqxCnkK5AkCCeEHgAbrBEUDpgH9/yj+KPwq+mP49vbx9U/16/SY9EL0DfQy9M70y/X19iX4R/lY+lz7W/xb/V/+Wv8wAMAA9ADTAIIALwD3/9b/v/+j/3v/Sf8b/xP/VP/w/9IA0gHPArgDiARABfQFygbYBwIJAwqgCtMKwgqWClwKBgqCCcgIzweUBh8FhwPlAUQAnv7u/ET7wfmF+J33/faK9i725vXM9QH2jfZc90v4P/kq+gj72/ur/IP9Z/5N/xYAmwC9AHkA8v9V/8r+Yf4d/vH9xv2K/Ur9Mv1k/eH9j/5l/2kAnAHgAg4EHwUqBkMHYghqCUIK3go/C2YLUAv2ClYKgAmICHMHOAbSBEUDlwHC/8f9yfsC+qD4pvf09mT24/V59Ub1cfUI9vj2Fvg5+Uf6PPsh/AX9+f0A/wsA9gCSAb0BdAHdAC4Alf8i/9f+nv5a/vj9jf1P/WT9yf1l/jP/RgCcAQsDYgSZBccG/QcrCTYKBAuLC8ILpgs2C3MKZAkiCNAGggUvBL8CKAF3/7v9BPxq+hn5Mvix9233PfcX9xH3S/fW96r4sfnG+sj7qPxl/Qn+nP4i/6T/IQCNAMIAngAcAF3/kP7e/V/9F/36/Oz83PzU/Pn8Z/0W/vb+AAA/Aa4CLQSWBdAG2Qe5CHMJCAprCo8KbwoKClsJUgj2BnUFAwSyAmAB7P9X/r/8QPvv+e34Wvgx+Dr4QvhH+HP46fis+aD6qfuw/Jz9Wv7o/k3/kv/E/+7/FwAxABsAuP8F/yj+VP2w/FH8NPxM/IT8zPwi/ZP9Mv4G/wwAPgGXAg8EjQXsBggI2AhvCd4JIwouCvUJfwnOCMsHYwa2BBADpQFiABr/xP2G/HT7fvqf+QX54/gr+ZT58PlV+uf6oPta/Ab9tP1p/gf/cP+b/5n/e/9S/y7/Dv/c/nP+yv37/DX8ovtd+2v7u/sv/Kv8Jv2t/VX+K/8yAGgBwgIwBJQFxQaoB0cIwwgxCX8JkglZCdQI/gfQBlgFzwNrAjsBIAD3/rr9hfxx+5L6/PnG+fL5Vvq5+gT7U/vO+3n8Ov33/af+Qv+w/97/0/+r/33/WP8//yP/3/5S/of9ufwn/Ov7+fs9/KP8Ff2C/e39cP4k/xgATAGxAh0EWQVCBuIGYQfYB0MIjwipCHoI7Af5BrcFVgQHA+cB7QD7//P+3v3c/Af8bPsV+w77Tvut+wX8UPyp/B/9qP00/r7+Pv+g/8z/v/+L/0X///7I/pr+V/7f/Tn9lPwc/Nr7xfvb+x/8h/z5/Gz97P2Q/mX/bQCjAfACKgQsBe4FiAYPB4QH1QfvB8MHSgeFBoIFXwQ9Ay4CMQE4AD3/Sv52/c/8WPwL/Or7+fsw/ID82/xA/bH9Kv6c/v3+TP+L/7H/uP+d/27/Of8H/9H+g/4U/pH9G/3P/K38o/yo/Mb8B/1f/cD9JP6a/i7/4/+zAJkBggJVAwIEkQQRBYMF1AX4Be4FugVSBa4E1gPuAhQCSwGGAMb/G/+b/kX+C/7e/bz9rP23/d39GP5b/p7+2f4L/zb/W/96/5H/lv+C/1X/Hv/q/rX+a/4F/p39Uf0p/RL9AP39/Bj9Uf2Z/en9Q/6m/gz/fv8RAMsAlAFLAugCdwP4A1cEhQSSBJMEhgRQBOMDSwOeAukBLQFzANL/Vv8C/8j+l/5j/iv+Af74/Rb+UP6Q/sn++P4f/z//X/+D/6n/wv/C/67/l/+I/3z/Yv8z//X+tf5+/lT+Ov4w/jb+R/5b/nL+lP7W/kH/yf9ZAOMAZQHcAUQCmwLqAjQDbQOEA3cDUQMYA8cCWgLbAVoB4gB0AA4Asf9Y/wD/sP5y/k/+SP5U/mv+g/6X/qj+v/7i/gz/Nf9W/23/e/+B/4b/kv+l/7X/uf+x/6n/pf+m/6r/s//C/83/z//S/+n/GABUAIYAqQDCANQA3wDoAPsAHgFFAWMBcQFyAWcBSwEhAfEAyQCmAIAAVAAnAP3/0P+h/3j/X/9W/03/OP8b/wT///4J/xv/MP9F/1n/Zf9n/2f/bv9//5L/nv+j/6P/pP+k/6P/o/+q/7j/zv/q/woAKAA+AEoAVgBpAIYApAC8AM8A3gDoAO4A8QDxAOsA2wDCAKIAfQBZAD4AMgAsAB4ABADs/9//2v/O/7b/mf9+/2j/Vf9K/0j/SP9E/z3/Pf9F/1D/Vf9Z/2T/e/+U/6T/rv+6/87/4f/q/+v/7f/0////DwAoAEMAVQBZAFkAYQBtAHEAawBlAGYAZwBjAFoAUQBFADEAGwAQABMAGQAXABMAFgAbABkAEQANABAADgD6/9r/wv+//8n/0P/N/8T/vP+4/7r/wf/G/8X/wP/B/8v/1v/Y/9b/3f/o/+j/2P/K/9D/4P/n/+f/8v8MACIAJwArAEQAZABwAGIAVABTAFAAOQAbAA0AEQARAAYA/f///wAA+P/v//z/GwAzADYAMAAxADYAMQAiABoAHgAkACAAGQAbACIAHQAHAO3/3//g/+X/4v/Z/9b/3//y//3/9f/i/9f/2v/e/9L/uv+p/6r/tf+//8f/z//W/9v/6f8GACYANgAyAC0AMgA4ADMAJQAcABgAFwAYACQANQBCAEoAVwBqAHMAagBYAE8ATAA9AB4A///s/+L/2f/T/9P/1f/Q/8j/yf/T/9b/0//Z//L/DgAZAA8AAwABAAAA9f/n/9//2//b/+L/8/8EAAoACAAKABQAFwANAAEAAAACAPv/7f/n/+f/3v/I/7j/wP/Y/+////8NAB4AKAAoACUAKAAuAC0AIwAUAAEA6v/O/7n/sv+4/77/uf+r/6X/uf/j/w8AKgA0ADwARABJAEkASQBLAEkAQAA5AD0AQQA2AB8ADAAFAAEA+f/w//H/9f/r/9T/v/+4/7r/uv+6/77/x//N/9L/2f/j/+3/8f/2/wAADgAdACYAJwAcAAoAAAAKACAAMgAzACkAHwAYAA0AAgD7//n/+f/z/+f/3f/c/+j/+f////X/5f/h/+3/AAAVAC4ASwBfAGEAWQBQAEQALQAMAPP/5//i/9v/0//N/8P/sP+h/6L/tP/I/9z/9P8KABQAFQAbAC8APgA7ADEALwAxACEAAgDy//v/CQAKAAYAEAAjACQAEQD///z/AAD6//D/8v8BAAwAAgDt/9n/0P/Q/9X/3v/n/+7/8P/y//f//P8AAAEABQANABQAFAANAAMA/v///wUADQANAP3/5v/c/+b/9f/0/+L/3P/w/xIAKwAxACwAJQAYAAkAAAAAAAIA///9/wEABwAGAAAA/f/8//f/8f/4/wkAFgASAAwAEQAdABsABgD1//L/9v/1//D/8v/5//r/9P/z//r////7//j//f8AAPT/3P/M/8z/0f/S/9r/+P8fADUALwAhABsAGwAVAAsACgAQABEABgD9//r/+P/v/+r/8v/+//r/5//d/+v/AQALAA4AGQAoACoAGwAMAAsADgAJAP///f8AAP3/8f/t//n/CAAKAP//9//8/wcADgAPAA4ADQAMAAkAAADz/+X/4v/v/wIADgAOAAgAAwABAAAAAAABAP3/8f/l/+P/8P8EABUAHAAZABIACwAEAAAA/v/+//7/+//5//n/+f/2//L/9v8EABIAFAAKAAAA/P/5//j//P8DAAUA/f/z//T//v8EAAMAAAD8/+7/2//U/+X/+//+//H/7v8FACQAMQAoABgACgAAAPn//P8CAAQA/v/1/+z/4v/h//L/DwAeAA0A7//k//L/BQALAAgABwAHAAMA/v/+/wAAAAD9/wIAFwArADAAIwAQAAMA/v///wkAHQAuAC4AHgAKAP//9v/q/97/3//p/+7/5v/h//H/DAAUAAAA5P/d/+n/9P/5/wAADwAaABcADgAFAPr/6f/c/+L/8v/1/+X/1f/a//D//f/6//b/AwAeACsAHQD//+b/4P/n/+//8v/2//z/AgAIAAoADAAPABAACAD4/+v/7P/2//7/+//5/wUAHAAsACkAHQAUABIADgAIAAEA/v/6//v/BgAXABwADwAAAAIAEwAfABgABwD///7//f/5//P/8f/x//T/9//2/+r/2v/S/9v/8P8AAAcABwACAPn/8v/4/wsAHQAfABYAFgAgACIADgDv/9f/0//W/9P/zf/R/+j/CgAqADwAOwAsACAAIgAwADsANQAiABEACgAIAAEA9f/v//f/CAAWABwAGgAXABEABwD8//D/4//Z/9r/6/8CAAoA/v/s/+n/8P/x/+f/4//x/wIABADz/+H/3P/f/97/3P/h/+7/+/8CAAcADgAXACUANgBCADwAJQAKAPn/7P/X/7z/rv+4/8r/0f/P/9r//f8kADUAKgAXABQAJQA6AEAAMwAiABgAFAAMAAAA/P8EABQAHwAlACwANAAtABcAAQD2/+v/1//F/8z/6v/4/+D/t/+q/8H/2//c/9b/5v8GABoAEwAHAAsAGAAXAAYA/v8DAAgA/f/t//L/DAAoADYAOAA4ADgAMgAlABIA9//Y/77/sv+z/7r/xf/b//r/EgAVAAcA+//7/wUAEQAUAA8ACAAIAA8AFAANAPn/5v/h/+n/8f/0//X/+/8EAA0AEQARAA8ACwAFAAEA///8//n/+P/5//r/9f/w//L/+v////3/+/8BAAkABADy/+f/8/8LABkAEAADAAYAHAAwAC0AGQALABUAMQBDADsAIgAPAAoABQD0/9v/zP/N/9T/2f/c/+P/7v/2//n/+/8AAAcADQALAAQAAAADAAkABwD6/+n/5P/r//P/9P/0//j/AAAFAAUAAgD+//n/9P/z//f/AAAPAB8AIQAPAPb/6//9/xQAGgANAAMACgARAAUA8P/p//j/CAAIAAAA/v8CAAcADAAYACUAIwARAAUACgAUAA8AAAD5//r/9v/s//T/EgAvACsADwD9//7//v/u/97/4f/w//D/3P/K/87/4//7/w0AFwAUAAEA7P/f/97/4v/q//L/8v/p/93/3P/j/+H/0P++/8H/1P/n//T/AgAWACUAJwAkACMAHQAHAOv/3//s//3/AAD+/woAKABBAEMAOQA7AEsAWABTAEMANAAnABcAAgDz/+7/7v/v//H/9v/+/wEAAAD+//7//v/7//b/9P/z//P/8//2//r/+//5//7/EQApADEAHQD5/9z/0v/U/9j/3P/o//v/CQANAAsADQARAA8ACQAHAAkABQD8//v/CwAiACkAGwAOAA4ADQD9/97/yP/G/9D/2//g/9v/zf+//7v/wv/O/9z/9/8dAEAATQBEADIAGQD5/9r/zf/W/+j/8////xAAHgAeABgAGgAiABkA/f/n//D/CwAdABsAFQAWABYAEwAbADUATwBSAD4AKAAZAAYA6f/K/8H/zv/d/9//2v/Y/97/5f/p//D/+f/8//X/6P/i/+f/8v/6//7/AwANABMAEgALAAgADgAaACMAJQAgABgADgAGAAEA/v/6//j//P8IABYAGwAVAA0ABwACAPz/9f/z//X/9//2//X/9//8////+//v/+L/3f/j/+3/8f/z//3/EQAiACQAHgAgACcAJAAUAAkAEgAhAB8ABgDu/+X/5v/n/+b/6v/x//T/9v/6//z/8f/h/9v/5P/x//X/+P8AAAkABgABAAgAHAAmAB4AGAAoAEAAQgAlAP//5f/d/9r/2f/e/+n/9P/5//v//v8AAP//+/8AABQAKQAqABEA9f/w/wMAGAAbABQAEAANAP3/4v/V/+L/9/8AAP3/+//9//b/5f/Y/9v/6f/y/+z/3v/U/9T/3v/p//X/BwAlADwAOwAmABgAHQAeAAAAy/+u/8H/8P8RABsAGAATAA8ADgAbADUATgBUAEgANgAjABAAAADz/+n/4v/c/9n/0//K/8j/2f/4/w8AEgACAO7/3//b/+H/7f/2//r//f8EAA0AEgARAA8ACwAAAO//6v/4/w4AHQAfABwAHwAqADUAOQAvAB0ACAD4/+n/3P/a/+v/BAAVABYAEQAIAPT/0/+5/7n/y//Y/9r/4P/w/wIADQAQAAoA9f/W/8v/4v8HAB4AHwAeACAAGAD//+X/3v/k/+r/8/8OADoAWwBgAE8AOgAmAA4A8P/N/6//of+q/8X/5v/9/wYADAANAAgA///4//f//P8DAAwAEQAIAPT/5v/w/wcAFQAPAAQABwAYACcAJwAcABEABwD///P/6P/k/+j/9P/8//v/8f/n/+P/5v/r//H//v8RACYALAAjABQADwAVABcACgD1/+n/8/8MACgANwAvABcAAwAKACwAUQBbAEYAJQALAPn/6P/d/9r/2f/O/7n/qP+p/7v/2P/3/w8AFgALAPz/8//t/+D/yP+0/7f/0//5/xUAIQAmACwALQAVAOb/xP/Z/x0AWwBfADgAGwAhAC0AFgDj/8D/zP/2/xcAJAAsADwARAApAPP/yf/K/+T/8P/j/9X/2P/j/+P/2v/X/9v/3f/c/+f/AgAjADQAMgAnABwADgD8/+X/0v/K/9b/9f8cAD8AUABOAD8AKQATAP//5v/O/77/wP/R/+f/+v8GAAwACwAIAAkACQAAAPL/6//0/wAAAgAAAAYAGAAmACkAKgAvADAAIwAVABMAEwAAANn/u/+3/77/vP+4/8f/6/8LABsAIAApAC8AKgAhACQAMgA3ACIAAADq//H/CQAcABgAAwDx/+7/9P/0/+n/3v/e/+f/8v/9/wgACwD8/+D/zP/Q/+b///8SACAAKQAoAB0ADgABAPn/+f8EABkAKgAsAB8ADAD+//X/6//e/9H/0//p/wkAIQAkABcADAAKAAcA/P/u/+7//v8QABgAFwATABAACAD7/+//7//4/wIABgAFAAMAAgAAAPn/8f/r/+3/9/////v/6P/V/8//2//s//f/AAAUADMASQBGAC4AGAAVAB4AHgAQAP//9v/4//z///8DAAwADwAFAPv/+v8EAAYA8//Y/8//3f/u/+3/3P/S/9z/8P/5//f/+v8OAC4APwA3ACEADwAGAPf/1v+v/5v/pf/B/9v/7P/8/wwAGQAdABgADwAIAAgAEQAfACUAHwATAAoABQD+//H/5v/n//P/AAAFAAcACgAOAA0ABQD9//v/AAAGAAQA/v///w4AIQAiAA4A+v/6/wwAGwAWAAkAAwADAAAA9f/r/+r/6v/l/+L/7f8GACMAOQBLAFYAUgA8ACMAFwATAAYA7v/X/9L/2f/W/8H/pf+X/53/sf/H/9T/1P/Q/9f/7f8HABkAHwAfAB8AHAASAAIA9P/s//H/AQAVAB0AFwAPAA8AEAAFAPf/9v8EAAwAAADx//j/FAAyAEQAVABjAFsALADu/8r/zf/e/+H/3P/i//P///////v//f8AAAAAAwAJAA0ACAADAAQABQD9/+n/2v/b/+X/8v8GACIAOAA2AB8ADAAKAA4ACgD///b/9v/4//j/9v/2//X/8//0//n/AAAGABMAJwA4ADUAHgADAPf/+/8BAP//8v/n/+r///8YACYAGwD+/+X/4v/v//b/6P/T/9X/9f8ZACUAEgD7//P/+f/+//n/7v/o/+v/9v8AAAUABAAAAP7//v/9//3///////v/9f/0//v/BAAOABgAHwAeABQACAAFAAkACgAAAPP/7v/z//b/7P/U/8D/x//t/x0AOwA5ACIABQDt/97/4v/5/wwAAQDd/8L/z//1/xEAEAABAPv/AAAIAAoACgANABQAHAAiACQAIQAXAAgAAAAMACgAOgApAP//4//w/w8AGwADAOP/1f/a/+P/6//5/wgACwAAAPT/9v8BAAUA+//u/+r/7v/y//b///8HAAgAAwACAAkACgD///T/+v8GAAEA8P/0/xoAOwAoAPv//v9EAIEAYAD2/6v/wv8OADsAKAD8/+D/3P/i/+z/8v/t/93/0P/Q/9X/0//Q/9v/7//3/+r/2//h//r/DQARAA0ACwAJAAcACAANABEADwAQABkAIwAdAAwABAALAAsA9f/Y/9P/6P/5//f/7//y//z////+/wkAHwAtACsAKQA0AEQASwBIAEEANAAgABEAEAAQAPv/1v/F/9X/6P/e/8X/xf/m/wEA+//l/+H/7//z/+X/3//v/wEA+v/h/9f/6f/9//f/3P/J/9H/6/8CAA0ADQAKABIAJgA/AEoAQAArABgAEAARABAACAD9//X/9f/6//3/AQAPACgAOwA3ACYAGQASAAMA6P/Q/8//3f/k/93/2f/i//D/9f/x//L//f8DAP7/8//y//z/AADz/93/1//n//v//v/z//H//P8BAPj/7v/3/wgACQD2/+T/6v/9/wgADQAXACQAJwAfABcAFAASABIAHwA0ADUAGQD//wUAJgA7ADUAJwAgABIA8P/P/8n/1//c/9H/zf/a/+j/6P/l//D//f/8//H/9v8RACwALAAYAAsAEQAXAA4A/f/3////BAD8/+7/8f8FABgAGQATABAACQDw/83/vf/I/9P/zf/I/+T/HABLAFQAPQAfAAQA8//w//v/BwAEAPb/7//9/xYAKAArACQAGAAJAPv/6v/W/8L/uP/C/9v/7P/q/+D/4P/q//P/9v/+/wsAEgAJAAUAHwBRAHMAbQBUAEcASABAACUACAD9//v/9P/q/+X/5v/m/+r/9f8AAPj/3//N/9H/3f/c/9D/zP/W/+T/7v/2////AgAAAAUAFgAmACYAFwAOABQAHQAaABEADAAOAAoAAAD2//b/+f/1//H//P8ZADkARAA8ADMANgA8ADwAMwAqACAAEwAJAAgACwAAAOX/y//D/8X/wf+7/8X/2f/b/8X/s/+8/8z/wf+l/6L/xP/i/9z/yP/U/wAAHwAUAPn/8P/4//n/7//s//r/DAAYACYAOwBNAE0APAAuACkAJQAaAAwABQAGAAYABAAFABAAIwAzADkANAAqACEAIAAkACIADwDy/9z/2f/k/+n/5P/h/+z///8MAA8ABQDu/8z/rv+l/6z/sv+2/8b/7f8VACUAHgAcACgAMQAlABIADAAPAAgA8f/c/9v/7P/9/wIAAQAAAAMACwAOAAQA8P/d/9b/2//k//L/BgAeACwALQAmAB8ADgDu/8r/t//B/9z/8f/8/wYAIQBGAGIAZwBaAEoAPQAyACUAFgAKAAIABQAXACwALgAXAP7//P8OABwAGAANAAsADAAEAPH/3P/J/7f/rf+y/8L/0P/e//v/JAA/AC4A/f/P/77/wf/A/7P/n/+R/5P/pv/E/+P/+P8GABIAGwAhACMAHwAZABcAIgA7AFMAXgBjAHAAggCIAHoAZwBhAGMAWgA/ABgA9//i/9z/2//S/73/p/+h/63/uP+z/6T/nf+j/6n/p/+h/6b/vv/l/wcAEwAJAP//AgALAAkAAQALAC4ASQA8ABkADwAzAGEAaABJACwAMQBMAFwATwAsAP//1//C/8H/xP+1/5j/hP+O/6n/uv+7/7r/w//Q/9X/1//g//D///8OACUARgBiAGoAXwBMADsAMQAvADAAJgAMAPT/8/8KAB4AHAAQAA0AEQAMAP7/9v8CABQAGQASAA0ADAAIAP//+P/9/wUACAAEAAQADAASAA0A/f/s/+H/2v/M/7r/sv/A/9//+v8EAAIA/P/0/+v/5P/i/97/0//E/7v/u//B/8b/zf/c//D/AAALABQAGwAgACIAJgAwAEIAWQByAIQAjQCQAJQAmgCVAH0AWAA0ABgAAADm/8//xf/H/8T/tf+h/5//tv/S/9f/v/+h/5X/nP+i/6D/qP/G/+v/+f/s/97/5v/6/wIAAAD+/wQADQAPAAwACQAFAAIABwAYAC0AOQA7AD0AQgBDAD4ANAAtACkAKAAuADgAQABCAEUATQBUAE8AQAA2ADkAPwA5ACkAGQAKAPT/0f+u/5v/mP+d/6D/ov+k/6X/ov+g/6H/p/+u/7L/rP+X/3f/XP9Y/3D/lf+1/8//7f8YAEcAZQBiAEcALQApADoAUQBdAGIAcQCQAK4AuQCwAKAAlACJAHkAaQBjAGMAYQBbAFgAXwBoAGoAYQBQADkAGQDx/8j/p/+S/4j/jP+c/7b/z//h/+b/3v/K/6v/gv9R/yD/9v7a/tL+3P71/hf/PP9f/3z/kv+e/6D/nf+f/67/zf/z/xkAQgBzAKsA3gACARUBIAEnAS0BLwEuASoBJgEiAR0BFQEPAQ0BDwELAfUAywCZAGQAJADW/4b/Sv8m/wz/8/7m/vP+DP8Z/w3/+v7q/tT+p/5q/jb+HP4U/hT+Hv4+/nX+uP77/jj/c/+t/+T/EAA0AFMAdgCdAMQA5gAIATQBZgGSAa0BvgHPAeIB7AHpAeEB4QHkAd4BxwGvAasBugHHAbsBlgFlAS8B5wCDABAAp/9L/+7+if4w/vv93v26/Yb9Vf02/R398/y//J78nvyy/MX82vz//D39jv3r/U3+sf4S/3H/zP8kAIIA6ABRAagB4wEQAkMCewKeAqUCpgK9AucCEAM0A2UDqQPwAzAEcwTDBBYFTQVcBUMF/gSABMYD6QIEAhUBBwDa/rH9svzb+wb7IPo9+YH47/dv9/z2sfah9r727/Y79773f/hf+UT6Mfs0/Ej9WP5f/2MAZgFUAh8DxwNRBLgE/wQsBT8FNQUjBS0FWQWDBbEFRgasB7cJrAsQDS0Oew+lEJYQtA6pC5kIyAWNAov+kPrf9+j2CPdk95n3j/cS9+b1CvS18STvsOz+6rLq0evB7Qzw6PKs9t/6Qv4NAMEAYQEhAj8CVAE7AEgA1QEKBBAG/QdPCvcMWw8KEfkRDxL3ELAO2QsKCSoG2wJ1/wz9TPy0/Ej9v/2Z/iAA1gEBA4MDzwMyBH0EWQTMAy4DxQJ/AiYCtAFbAUABQAEOAYEAvf/t/gH+u/wG+yL5bfcU9gf1PPTQ8+3zmPSh9cj28PcZ+Un6bPtm/C/93f2V/mb/RgAtAR4CHgMlBBYF1AVVBqEGxga6BlIGWgXEA8YBv//4/ZP8rvuP+4v8wf71AbUFlwlQDZcQFBN4FJwUjxN5EZQOMgu+B4wEtAEj/8z8wvoS+Z73NPbA9ELzn/Gp72ztVOvb6SPpA+l96dzqQ+1c8JzzzPYQ+l79SQBwAvkDaQUBB4MIpgmPCp8L5gwGDqMOzQ7KDqEOCQ7QDBwLQAleB2sFZANYATX/2PxU+vv3+PUX9DLyufCD8PXxovTZ92v7j/8wBJoI/AsQDhcPUw+7Di4N3wpkCFMGxARgA94BbABq/8j+8f1c/Bz6qPdD9dzybvBM7t/saez+7Jbu5vBg85L1gvdx+VH7u/yA/RD+Bv+MAE4CAwTHBdMHDAoHDGMNDw43DvwNRw3cC5YJmgZRAycAYf0g+5/5Ofk++rj8XQC/BGwJAw4kEmkVexcmGGoXaxVyEt8OJQuhB3wErgEj/9T8uPqo+Hj2GPSS8eLu8evV6P/l++ME4wHj5+Pu5TfpWe2b8Zr1e/lc/dwAfgNLBeEGtAieCkAMmw0KD7QQSRJZE78TlhPjEnoRNQ85DPAIvwW0Apb/OfzN+L71WPOi8Z/wkPDL8V70/PdE/PMA0QV0CmkOZRFWEzsUCRTEEqEQAw5YC+UIqgZ7BDwC+v/E/Xn72PjP9YjyMe/X65vo5eUw5K/jTuT+5cjoeuyC8FT03PdR+6b+ZgFLA6gEHgbnB7AJHgtJDIcN4w7zD0oQ5w8SD+8NTAz3CRkHHwRIAXP+bPth+Nb1TPTx88H0wfbw+Rj+yAKLBxYMKRBwE5cVfhZEFg4V3hLFDyIMkgiJBQUDtQBi/hD8zvlz98H0rvFt7jbrHuhC5ffiseG24QjjkOU26bLtdPLt9vr60P5/AqkF5gdZCZoKDgx/DYQOHg+4D4cQLREkEVgQJg/EDfILWwkfBrkCb/8P/G745PQp8r7wrPDV8U30LPgu/bMCMwhnDRkS2xUxGPoYdBjhFkUUphBtDFYI7wQ1Asz/cv0v+w752fZE9D7x/u2/6pfnpOQ+4tzgweDu4UrkvucL7K7wJvVP+U79KwGeBFwHfQliC0EN8g4+EDMRDhLYEkYTBBMQEqYQ4Q6aDKcJLgaKAu7+Q/t99/DzPfHo7xzwx/HV9CP5Xf7/A5MJxw5QE8UWyxhSGZMYxxb6EzwQ/Av2B7sERwImAPf9s/tx+Q73N/TI8PvsN+nM5efiw+C43xfg9OEZ5Rvpie0W8p32Cfsu/9EC2AVeCJkKnAxVDr0P8hAWEg8TlBNyE7USgBHKD2QNQQqZBrcCsv50+iD2OvJu7zXuvO4D8fD0KPoYADgGNAzOEZUW9hmYG5wbXxoKGIsUAxAoC+4GxwNUAe3+VvzI+Vf3ovRP8YXtx+ld5j7jheCv3jneMN9Y4ZzkA+k77ofzRPhl/DMAzQP9BpUJrguADRwPeBCZEZsSghMfFC0UfxMTEv8PUQ0OCkgGMAIB/tX5svW/8XHubuxI7ETuTPLp91r+0ATNCjYQDhUQGbwbtxwVHCYaGhf8Eg8OEgntBAoC+//c/RL7mPfD89fv9+tG6PrkOeIS4JreD96y3prgsOPO57rsB/Im96/7of8zA4MGcQnYC78NTA+hENIR+RITFOgUGRVlFMsSbRBoDdcJ6wXVAaX9Tvnh9L/wkO0g7CLt3/Dr9if+QQViC2UQmxROGH8b2B3VHv8dGBs9FvkPWwm4A/z//v2Q/GL65/Z58s3thukZ5q3j6uEq4CLeTtyW25jca9/w4/Lp6/Dq9xb+SgMHCMYMchGDFXoYKRqlGiIa4xg3F2UVexM3ETgOOwpPBcz/NPoY9dXwXO1P6ofnieVr5T7oi+4X+LsDgg9nGXggJiVjKH8qOiuhKiApeCYuIdEX+AqU/fzyrOy66RTo/OWl4jDegdnw1YHUItWp1uHXnNi02TLcp+Bn58fwjvw7CXwUtxz+IWYlqifAKHYozCajI4AeKxdjDrcFjP5M+WX10vG+7froGOQX4NrdsN0+37rhleQ96DTuG/hwBjgYoSuRPoFOlVjTWnJVkkqtPI0tmh4MEQoFMPnw68LdVdFRyT/Gt8YEyRTMcs8n08XX892d5dHtfPX6+9UAqAO+BJQFBwi1DHkSmBc3G6MdgR/6IJghpSClHX4YQxHdB0P8De/S4Y/Wus68yirKNcz9z9jUhtod4ZLobPD79/j+3QXCDcMXZiQ5M8hC2lDJWhdeP1lyTKs5CiTfDrf8ju5743PZIc9UxYu+9rzbwK3IMNJ/23nj9OmR7xv15/rLAGYGBguGDfAMtAkABmME/gUBCskOLxP0Fj0a6RxKHoUdLhptFGMMqwH482PksdXoyqnF3cWOyorScdzh5g3x7PqSBJINJhXpGhYfXyLLJaYq7zFhO/FEYUuLS5hDyDOiHj4ItfSC5sTdy9ht1VjSw88Fz2TR9NZ23ivmz+z18db1+Pjq+xr/qgJBBt0IGAkLBl8Af/pd96b44f0uBbwMmBN2GfcdXyD+H8EcDRf6DukDZ/Wf5MfUpsmUxanIWtFn3V/qFvZP/xkGYAv9DzEUqxfpGbka0RoEHIEgOSmqNAU/vUN+P7sxJh27BrXzVufp4T/hJ+IB4t/fwtzW2u3bQuBz5oPs/PBp8zr0b/RJ9cX37ftyABkDBwI+/Rb3K/M19IT6QAT3DtQYqSBvJWEmpSNcHo0X9Q5PAwL0nOKU0p/HEcQ8yJvSV+Ad7kP5yABjBaUI7wvTD+oTIBeZGM4Y/xkLH0Up8DaKQ8BJzkUyNxQhDwnN9Lbn9OEi4d/hd+Hs3kTbuthB2TzdXuOf6Vzu7vDC8R7ynvNe9xb93QL9BYgE2v7J90fzJfSv+g0FvRCWG9wjISjFJ4ojFx1xFQMMZ/9O77PdOc6ExLXCyMit1ALjVfBu+usA5QQMCM0LvBA4FrEawRyaHIQcrR/zJzE0TEDuRu9DTTa7II4IgPNs5TDf5N4m4bfizuG23mHbIdpN3JfhYui57jfzjvWQ9sb3m/pa/6EE3gfVBlMBvvna87vyUPeFADsMCxiVIdomCSfvIkUcPRSgCnj+lO+I31rRN8gwxnXLStaw44nwrPpeAS0FZwerCUQNZRLZF9AbfB0cHlEgJiZQL+s4uT4YPagyDiFgDIb5Pezm5V/l0uf16UbpFeXF3iDZ4tZU2b7f8ed277P0f/fw+Jj6cf0dAeYDywMGAPf5mPTa8i32N/5rCZMVDSBbJjgnSSNyHDQUtwph/yzyX+Ql2LrPvMyxz7zXyuJO7hr44P5qAsMD8AT1B30NTRQ4GuUd8B+UIg4o2DDKOs5B0UHoOEAojRN2//DvE+eQ5P7l7Odu52Djy9xS1ufSZNSt2tbjJO1V9IT4Wfp5+279jAChA80E/gLa/nX6OPjc+f3/BAoaFmUh2Ch6KjMmhB1gEiEGavmz7NfgEteh0GfOr9D/1hrgRerI81D7MgC7AkoE2wazCz4SThjmGwkd9h2GIQYpDjMEPMU/qjvDL8Ieswxa/Rnzfe4w7lfvq+4d6gfiEtm30nnRzNUc3qXnrO+j9LT2bfer+Fb7vf4QAb0AsP2R+dz2oPfO/BQG9xHwHQQn4CrJKLAhXxd6CxL/w/Ie5+vcMNX60PbQGdWJ3ODlku8w+Kn+nwLXBBUHHgtMEQIY1BycHrUeJyByJZgu0DjbPwRAzTeCKI4VDwNy9IPrGOgm6InocObm4GfZD9Pa0BnU7tvo5S3vofWf+Bb52viG+Wr7Zf3j/Tz8V/ki9333iPtkAyYOyhmeIzopYylAJOIaxQ5/AYr0+uh835nY49TF1BXY99035cLsz/PB+Sf+HwHEA88HVw6VFg4eeSK5IxkkgyZELBY01joKPXk4Iy0uHdcLK/xD8BbpQ+bg5Rrl1+En3DvW0tKT037YUuAy6Szx4PYE+nD7Y/yU/bf+6v6r/Xz7vvnt+fn8EgPBC9MVWB8YJmUoniUbHs0SIQXy9iTqD+BB2c7Vo9Ve2BzdwOKU6HrubvQJ+tj+JwMnCOcOABd4Hjgj1SQHJWkmjyrvMC43Vzo+OFUwvCOUFDEFpveM7aXnQ+VF5Dfi/N2B2OnTGdLn0zbZPeGJ6ivzfPnp/Af+zf3V/FX7qPmK+M/48fr3/rYE8QsgFDoczSJoJvwlCSG1F/EKffx67sXif9oY1oLVK9jn3FDigedu7Gzxe/ZI+/H/ZQWlDGEVpB0VI+IkhiTDJMUnyS0HNZk6wTvzNkosSB03DKz7Me6o5UjiGeLn4VDfNdpv1FDQic/u0ofaQeXR8Hf6UQAcAtIAzP1A+lf3NPaQ91r7xgDuBlMN1xNBGuMfsSORJKQhdxpMD14BuPKN5Y7boNXw0wHWq9pp4AzmMOsL8Nb0hfk1/pkDqAqGE88cJyTTJxwoMSe3Jxsr2DDKNio6ojghMS4kpxM5As7y1edb4lDh3+EF4VfdotcT0unOuM8k1bHeluoe9rP+6ALRApf/6vqv9qv0+PWU+nMBKgmZECMXdxxOIFEiFSIZH+AYSg/6Alj1O+hm3SjWJtNF1KzY+d655fDrVfET9ln6VP6YAksITRAGGigjGyndKrUpOSi0KP0rGjGkNc82ujI2KXcbYwsj+xDtJOP03Ufc69sm23TZS9eY1W/V1ddL3Wzl7u4M+BP/3AInA6gAv/wR+TH3VPjq/E4E+gwwFaAblx/eIH4frRuzFdMNUASj+Z3uZuQv3OrWHtXY1o7bJ+JG6ebvrvWl+rv+7AH2BF4JTRAxGb8hkyfMKWEpOCgTKMwp8SzZL2owFS1TJYYZvgrI+hPs8eCD2jjYQtiy2GzYdtef1u3WLtnY3erks+3O9oj+iQNFBQcE0QAt/dr6Tfst/xcGuA46F+UdmCH6ITsfzxlPEmcJyf8T9tjsreQm3svZBtj42EPcIOHG5sPszPJf+Pf8yQAVBUILjBOFHBAk2igYKzgs2C3KMJA0mTcSOL00Ri0DIrMTjwOC88/lHdyI1s7TcNK70bnRe9LW0+TVTdnA3iLmcu5g9sn83AA7AksBQ/+0/fv9AwEgB7UPFhkqIW4mVyjYJgIiPRqUEE8GPvyO8mfpXOE825bXftaq16Pa89435A7q7e8/9en5qv6pBGsMKBVPHaMjBihXK7EuozLINgA6CDsXOfszySuzIEETsATG9g3rJeK+20HXWNTn0rjSWtNs1P7Vk9i33IXieeml8BX3HPxn//cALwHvAHcB7APECIEP+RbNHckiBiX6I5cfYhhSD4gF5Pva8pXqUuOV3f7Z5Ngh2jTdnOH85vXs+fJm+Pr8KQHzBSIMlxNJGwEiLicrK8oulzJZNiU53znKN7wy3SpWIHgTKAUA97LqO+GU2i/WldOP0tTS1NPx1OzVJddj2U/d++LI6cLwGfdT/DcAuQIlBEQFJAeICngPTRULG7EfVyJGIikfMhkVEdAHVv5S9S3tNObI4FPdENzf3GHfHuOq56rs0vH39gn8CQESBk0L0BBcFmMbYx9oIislnCggLScyWDZAOPU2QjJcKqIfpxKBBMH26+rY4YDbT9e71IDTcdMy1C7V+tW71ijYCtum35flIeyW8oH4nP3ZAXYF9wjsDJoRyRbJG8UfESJJIj8g5RtwFYcNJwU1/ST2BvDe6tzmQeQ046XjU+Xm5xDrpe6O8qf2u/q1/s8CZweKDMcRjhbGGuIeXSMiKH0sli/xMHUwIy7nKa4jphtjEsIIqv+u9+7wQeuR5v3im+AO35Xdm9tF2VHXg9Ym1xXZEdzm313kK+n+7a3yRvcD/BcBfAbbC60QgRQbF2IYOBiIFoYTyw8SDNAIDwaqA6IBGAAG/xX+4fxG+2/5q/c99lj1FfV39XP2/Pf4+SP8Lv4dAHwC+gXMCnUQIBYTG8we5iAUIU0f9RvMF6sTKhB0DXILEwpOCb4IagdIBA3/cvia8TvrheWR4LXcTtph2YfZPNoy23fcUN734FnkJ+gW7A7wDPTe9yr7tP2i/2YBZwPMBY8IrgsoD84SNBbTGEMaVRoTGbwWsBNVEAIN/gmDB6wFVAQvAx0CbQG5AWYDSAbECUYNgRAyE94U9xR0EwMRjQ59DLcKLQk0CAsIQwjoBzIG6QIc/uT3l/AB6Sfit9zi2LDWMNZI14TZTtxS36LidOba6rPvyvTh+bL+8AJXBsIIQgogC74Lcwx6DfAO2xAaE2YVUBdnGFsYDReLFAgR2wx7CGAE1wD+/dX7Wfp5+R35V/l/+gr9FQExBpcLlRC+FLIXABldGAgWzhKTD9oMxQppCe4IRgnTCZ0J2Qc3BM3+8PdG8LToC+K73OnYq9YM1sXWS9g12pDcqt+d4y7oEO0M8ur2V/sC/8kBxQMzBWAGnwcxCS4LlA1KEBoTmxVOF8gX3hagFEgRPg0BCQUFlQHZ/uL8sfsl+xX7kvv+/Mf/8APsCO8NYxLtFTIYvhheF3kU7xCMDbIKeggHB3gGnwbXBkcGQAR5ABP7i/SW7fPmMuHB3O7Z2Ng82YfaNNwl3pjgwOOK57nrIfCn9Bb5FP1OAKoCTARzBWcGbQe/CIEKuAxKD/8ReBRCFvgWZRaHFIoRyg2/Cd8FfQLP//b99vyi/Ln8QP2g/k4BTQUJCskOChN+FrsYQRndF/UUXRHWDcYKUwijBtcFywXrBWYFhwP+/+n6v/Qh7rjnGeK+3QXbBNpw2rDbRt0d33XhgOQk6CPsVfCr9P74/fxVANsCmQTHBbkGxwcqCfQKKg3HD50SOxUSF7sXDhcUFfURDw7kCfQFlQICAGT+rP1//Xn9pv2V/swARQR5CNsMGRHhFJ4XqhjGF1IVCBKQDlQLnAiuBrAFeAV5Be4EKQPO/+j65PRe7vrnT+Lo3SzbLdqU2szbbt1y3//hG+Wa6FLsOfBG9E/4C/w//9AByANHBYIGvwc3CQsLQA3HD2oSzhSGFjUXpBbJFM4REQ7+CfYFRQJD/z/9SvwG/PT7BfzH/Nv+UwKfBhQLXg9KE2EW8heVF4YVexImD/oLQgk9Bw4GnAWJBTcF7wMjAbH8+vak8E/qgeS934HcBdsK2//bbt1C357hmuQW6N3rzO/U89n3n/vj/n8BfAMFBVAGmAcTCecKIQ2rD04StBR8FkYXzhYIFSISdg5qClcGjQJn/z39Mfz6+wn8CfxE/Gn95/95A3UHYwstD7ISZxWaFv8V+BM2EUoOjQs7CY0HmwZKBkUGAAbHBAUClP3S92jx9eoB5RDgnNza2pnaZdvX3MjeQ+FX5Pbn9usj8FX0Z/gp/GT/8gHbA04FiwbVB2MJWgu/DXAQLROgFWEXCBhQFzQV7xHpDZMJSAVYASH+CPw5+1b7oPuf+6T7gPy6/hQC7QXdCdQNqhHIFHIWSRaNFOoRCw9cDAsKNwgMB6kG0wbaBtoFMQPJ/v74Z/Kf6znlx9/S27HZXNlp2k7cvt7A4Wnlluno7Q3y8fWi+Rb9GwB8AjUEewWiBuwHeglVC4EN+g+bEhAV5BaqFx4XNBUYEh4OqQkQBaYA2vwv+vP44/hL+af5LfqX+1z+LQJHBiYK0Q1kEYAUXxZ3FvgUpRI6EAEO7wsNCqYIAgj4B9cHuAYEBLH/Gvq/8xftmebZ4Hbc59k42Qna0ttC3lbhE+VD6XTtSPGx9Nz35Pqr/fr/xQFEA9AEpQbHCB0LoQ1WECcTxxXCF6oYPRhvFm0Thw8KCzoGZgEU/eL5Jvim98L3Dfi5+Gv6h/22ARUG8QlDDWQQRhMvFVYVyRN+EX8PFg7gDJYLeQr8CRIK/wnDCLgF5gDa+jj0ce3U5tfgNNyT2RDZKto53OPeMOIo5n3qpu428i312veA+hX9YP9OARID8wQHBzUJbgvGDVEQ+BJwFVsXYhg7GMIWBRRFEM0L6gbyAV39tfll92/2aPbG9mX3tfhX+1//GQSRCF0Mvw/qEl0VLRb7FHESuQ+ODeYLewpZCd4ILAm+CZcJ0QcTBKH+Dfjm8Kzp9uKD3Qja1tiw2ffbDN+O4lvmUOoh7mzxCfQx9kr4hvrE/NT+xQDUAiIFlAcFCnQM/w6qEUUUfxb+F3UYsBejFXASVA6eCagE5P/N+9v4UfcI93z3Jvj8+H76MP36AB8F4ggbDAwPuBGME9QTeRIxEO4NNQz/CiIKtAnnCaMKSAvpCsUImQSr/oj33e9V6KDhddxq2bXYCdrB3DngEOQT6PjrWO/m8bjzNfXL9qX4tPrs/Fz/GAIYBTIIOAsWDs8QXxOfFU8XJxj3F6cWPRTYELIMGwhoA/3+UfvW+Ln3r/ci+Lj4q/mM+5z+cQJFBqMJogx5D+sRRhMNE3sRZg+QDS8MHwtYChwKlwpvC8wLwQrJB+QCcfzx9APtZOXu3m3aXNi62AjbmN7U4lnnxeue73fyQ/Rm9XH2vfdc+VD7sv2eAAUEpgcxC24OSBG2E64VERe4F30XVBZJFHER6w3vCcYFvgET/gH72PjR9833T/jo+KL5/vpn/a4ALARaBzIK8Ax5DzoRnhGrEA8PiQ1oDJAL6gqmCvwKvAsyDHsLAAmvBNH+zPce8HLoqOGh3O/ZqNl228jeBeOl5yrsE/Dv8pf0TvWn9Sn2G/eX+Lf6n/1DAVYFYAkGDR8QoBJ3FJEV4hVwFU0UjRI/EHMNSQrwBpkDaQCM/UH7zfk7+T35bvnA+aL6k/yW/xkDeAZ5CUMM2A7KEIQR4xBjD8kNjgy8CzEL9QovC8kLNAyYC0MJBwUu/zX4oPAG6S7i+twV2q3Za9uu3tXiXefU68LvtPJ19Dn1jPUD9vP2d/if+oj9OgF3BcIJow3cEGkTShVuFrsWORYMFV8TRRHDDuULygicBYECl/8H/Q371PlI+Rn5Eflm+Z/6Df1dANcD+Aa+CU4Mbw6PD1QPCg5zDDgLiAo+CkMKrAp7C0sMUgzECkgHEwKl+3/0Ju1G5rTgNd0f3D3d+N+s49PnBuzN76jyP/Sr9HP0PPR49Fb17fZj+dL8EgGtBRMK3w34EGETCxXOFZYViRTvEv8QwQ4vDGEJjwbtA40BdP+5/Y/8Bfzc+7r7nPv4+1f9wP+fAlsF2AdRCsQMqw5uD/4O7g3pDDQMtQtNCxYLNguGC3wLZwrOB6wDWP43+KfxGes35cjgV97u3SXffeGQ5BHoneuw7tzwCfKF8tLyXvNc9Ob1Ivg1+xj/dgPTB8cLIg/cEeMTFxVeFc0UpBMhEloQSg76C5UJRwcWBfQC7wBF/x3+Vv2l/PT7n/sv/ND9IgCTAtsEHAd8CbcLOg2tDU0NtwxUDCIM8wvHC8wLCgwlDHsLiQknBoMB7vvA9V/vVelP5N7gP99L36jg9+Lk5RHpFuyS7lPwaPEX8r/ysPMc9SD30fk4/S4BXQVbCd8Myw8NEokTKxQFFEYTHRKiEOIO9AzzCvII6gbUBMYC8QB9/1j+UP1M/In7fftv/Db+VwCBArYEHQeaCbcLAA1nDUwNFg3mDJ4MMwzPC6ELkws9CyIK/wfWBMgA+fub9hHx8evJ5/Hkc+Mu4/7js+UC6H/qyuys7h/wNvEX8vjyG/Sv9cf3ZvqA/e8AbwSwB4UK6AzcDlAQMRGLEX8RIRFuEFgP6w09DF0KSAgMBtED1AE2AOf+wf28/Az8AvzG/DT++P/TAcQD2wX/B94JIgu3C9ALtwuOC0kL0go5CqYJKQmNCHEHhwXBAkP/OvvR9kryEO6Y6jHo7Oat5kznn+hy6nrsa+4K8EDxG/LI8n3za/S19W73nvlE/En/eAKTBWAIwQqpDBkOFg+oD9QPqg8+D6cO7Q0GDeULigr7CEMHdgW0AyACxACO/3L+k/0t/Wz9Q/5//+YAXwLlA3MF6gYYCMwIAgnpCMAIoAh3CC8I1QeCBy8HmgZuBX8D3QC2/Tn6lvYR8wPwt+1S7Mjr8Oui7LTt++5C8FnxKvLB8kHz1POX9J318faX+JH60fw9/6sB/AMiBh4I6glyC5wMZQ3gDSAOJw7lDVMNfgx/C2AKFgmaB/oFWQTMAlcB9f+m/m/9Uvxg+8X6tPo1+x78N/1w/t3/hgFMA/IEQgYuB9QHXwjbCC0JMQnpCHoI8QciB9gFDATmAY7/E/2I+hz4+/Uy9MTyu/Ek8erw5/AD8UHxlvHo8TDyoPJw86b0Ffam93D5iPvP/QcAEQL5A8wFfwf4CDEKLAvjC0oMZQxBDOgLUwt9Cm8JPgj7BqkFQATDAjsBwv9n/jD9Efz/+gz6Yvk2+aL5lfrd+0v90v6AAFwCRAT9BVgHTgj6CHcJwQm9CWAJxQgWCFUHWAb3BDcDQQEr//f8vPqs+PH2ivVr9KDzP/M+83DztvMU9Ij0+fRT9bb1UfY090D4XPmO+uX7W/3S/jMAfQGzAuEDCAUaBv0GoAcHCD8IRQgTCK4HHwdxBqkF3wQrBJQDCQN/AvoBgQEFAWwAsP/g/g3+Pf10/Mr7d/u2+5X83v1G/60AOQIKBPgFnwe5CFIJnwm7CZcJIAlYCFMHLQb9BM4DjAIYAW3/rv0U/Lz6ofm1+Pr3ifdw95v33PcN+C74U/h8+JT4jviL+Lf4Ivm4+WX6J/sF/Pn88/3p/s3/jwApAasBKwKgAuwCAgMBAwsDKgNHA00DQgM2AzQDPQNNA14DaANlA1UDNQP3Ao8C/AFKAYgAv//9/mv+OP53/gX/rv9bACwBOwJvA30ELgWEBakFuAWoBWQF6ARBBIcDzQIcAm4BtQDm/wn/PP6W/RX9p/xD/Pr74Pvr+/f76fvF+6T7h/tb+xv73/rN+uj6GPtI+3z7xvsj/If85vxA/ZT95v06/pv+A/9m/8H/IgCbACABkgHgARcCVQKnAgIDVAOXA9IDCAQzBEkETQRNBE4EPQQBBJIDBANqAssBHAFdAKv/Mv8Z/2P/6P9zAO0AXgHhAXoCCwNvA5wDowOQA2QDEwOaAgMCXQG0ABEAeP/m/lX+wv06/dL8l/yA/H78ifyd/LL8tPyQ/Ez89vud+0b7+/rR+tz6HPt4+9T7Jvx4/Nj8Q/2v/Rz+lf4g/6r/EgBJAGEAfgC5ABsBowFQAhwD9APEBIMFJgaSBqMGTQamBdgE9wP+AucB2wAhAO3/JwB/AKEAdQAbAMf/mf+g/9j/MgCeAA4BegHjAU4CzgKDA4MEtgXYBpsHywdMBxsGVQRIAkkAf/6//Mr6i/gb9qHzQvE278rtQu2y7Q7vP/Eg9GT3qPqr/WYA+wJzBboHtAlNC3gMEg3lDL0LnQnUBuYDUAFW/wz+iv3V/bv+wv9uAJMATgDC//j+DP5P/Rz9b/3V/cP9BP3C+z36n/gY9wL2vfVu9vr3WfrM/Z8C0AjzD2oXih6SJLMoSioNKQslnx5/FrYNRgW3/f321PAB62zlGeBB21bXydTl09LUuNey3Jrj+usb9Sr+ZAZDDYAS8BV6F14XXBZPFXYUYBOAEboOJQuIBn0AJvl/8efqWOYr5FjkweYh6+HwEPer/P0AzAM6BZEFPQXdBBAFBgZnB9QIcwrwDOwQnRbJHdwl2i1tNEg4dThbNLor8h5bD/r+p+9r4qXXks9/yoXIVMlLzLrQD9bp2yfi2+gj8AP4TQCiCF0Qqxa8GggcfBqXFmcRRQw9CKYFKwRFA3cCJgGN/h/6H/Sq7R7odOQd4zzk0ueK7X30X/sKAfEEGQe0B+cGBgXTAk8BDwHhAS0DqASrBgMKoA9EGAok4TF6P/9JAE/mTPdCezEkGgsA0eZs0X3Bebccs62zHrg6v9vHEdFQ2pDjOe299wkDXg6MGFogziRMJbchjRr9ENoGT/4Z+bD3/fgT+1b8/PvB+YT1nO9R6Z7kI+NU5aTqLPLq+osDiAqyDs4Pig70C/YIHga0AwcCmgHpAs0FYgnmDPQQjheCImsxRkHHTUtT4k9QQ6kuHBTj9vDaJMQctWuuv67rswW808WJ0IfbX+YF8bD7dwb6EEkaKiGPJAUk0B+uGH8PTAV7+9vzDPCL8Cr0jvhq+4/7E/nO9NDvTOuP6Kvo8OvG8Qr5jwBKB0gMyg6mDooMsAkfBwsF8gJ6ACz+Mf1T/mcB+gVyDDsWgSSdNp5JQFl9Yctfo1NLPjwipwJC4/bH97OlqEil+KfVrou4GsSu0MbdTes/+TAHLxT9Hm0mqyl8KFUjHxvnELwF8/op8sjsMetv7M7u4vAT8nPySvLz8fbx9vJN9bn4evzI/zUCvgOMBMcEhQToAy4DeQJ+AY7/QPxB+Dj1wPRy9xD9iwWTEc8hhTXsSc9aE2QeY3NXb0KXJgkHVec9y/m1Lal8pC+mYay5tVvBlM7D3HzrffpUCRwXfCIVKgctPStaJWEcZBGDBSD60/Dw6tLorOkV7Nvub/Gz86b1VPf3+PL6dP00AJMC/QNOBNYDDgNFAosBzwD8/+P+Iv1Q+oj20vLa8PTxcPbX/eIH9xSVJRg5EE2xXSVn0GboW0pHGCtaCtHohMr7skaklZ6VoGGoMLSPwknSY+JF8qgBQxBOHXknaS1gLosqtyLjFyML1P2x8XDoHeO/4YnjWucm7Czx8fU8+gf+cwGiBG8HWAm5CVYIoAV4AqH/a/3M+5X6fPkM+Mz1pPI+7+/sG+1z8L72df+nCh4ZYytvQEBVsmX6bbRrUF73RjoorQVi40TFV64ToEuaypswo2OvZL8E0vTl/PkGDdYd3yqdMjI05y8LJ10bdg6PAbX1++ti5V3ijuL75KPo7eyc8YL2ZPsaAJ4EvwjgCykNJAwmCSMFHwHP/Xv7Bvrs+GP3u/Td8IzsQOmF6DPrFvFz+R4E5hG/I0s5EFDyY5ZwtHL1aBxUnjb1Ew3w5c4FtLKhWZj+lj2cFKe8tibKyt/z9f0KUh1PK5AzazVOMZUoAh0rEDgDEPef7NrkcuB230nhAOXi6ZDv2fVr/MwChAgbDQgQqhCsDmoK8QR4/9j6dPdX9Uf0sfPA8tTwF+6u6zPrv+1C8+T6HQSZD8UeWTL3SPheiW9Pdsxw8l7cQgogqvoW11W5PqS4mMSVjZmSohiwr8GE1jPt7gPBGKQpuTTSOOs1QC3NIJISHQSL9szq1uFy3OXat9z44Lvmfe0C9fj8yATBCzsRmhQ+Fb4SVw0hBr3+pfix9OfypfLf8mLyUfDE7C3pzedT6rPwYPnuAowN4Bp2LAZC2lh2bPN3j3fZaQxQgy3RBvXgkcD0qDmbVpY4mCufeaoTusjNvORA/fYUISkvN2Y9dzuZMhIlUxVRBWP2kOnS3+bZ+NeQ2ezdb+Sq7CH2FQCaCboRkBdTGogZRBU9DqoFCf3N9e/whu7Q7abt8uz46sXnuORT5LTo0/Fw/RcJUBTRIL0wiUQEWr9siHdndhNoCE6VKxAFad93v4yocZvdluOY9p8gqxG6F81i5Kj+phhNLno8yUFtPt0zpCSjE/8Cv/N15vrbNNV00mPTm9fi3tHodvR8AJgLsBTYGmMdIxx3FzEQgwfd/pj3dPJZ75HtLuxF6jjnT+NO4PzgW+fU8k0AggypFh4hVS/UQndZ7W3uea94jmhnS7olR/291625pKWom6GZypxho1ytxLtfz5TnKQK1G3owcz0nQfo76i/ZH7UOrv7W8FjlHtxh1bDRn9F61SvdKOhY9RIDiA9CGWYfpiERIBcbmBPaCjACi/ov9OnufOra5vbjlOHD357fMePt69X4hgauEfMZpiJOMOVErF3sc/9/lXyaaDNHVR7S9JzQjrXQpP6cL5u2nLGgeKhstufLr+f1BbUhfDauQedCuDv1LsUfoRC0Avb1AOr13tjVKNApz2XTgdxJ6dT34gVyEUgZIh1zHfsacxZ5EKQJgQJ9+8z0lu4s6QrlZOLn4Djg5OCM5JLsSvjQBDsPZheaIC4vxUQyXm501H9ze8lmZ0VQHQn1A9Knt+SmZZ6Vmzmc258bqFu3o84d7EELoCbiOQJDU0LnObIsqR3oDjgBWfTe5xjcVdJszOXLRtHk2xLqj/kBCG8TwRr7HfQdmxtwF5oRYwpvAnT66PIk7KHmz+Kh4H7fA9/h38bjAOzx9/gEXRDUGVEk1TPASZFiB3e0f154SmGOPmUWVO9wzl22MKc5nzicopyboAeqLbuG1F7zaRIFLFk8RkIHPzo17ie5GRgMTP/R8lHmadrH0JDLUcxD0zLfA+5O/dcK/hQZG44dXx1iG9AXfRJvCy4Dkvpl8kPrqeXu4Qrghd/w353hyeWd7br43gSgD+oYwCPgMwtKPWJTdaR8yXReXlo9uhe689XVnr8ZsE2l253smT+bVqTRtsHRM/GHD60nvzZuPGY6WTPhKYsfiRQrCOz5WOpZ27LP78lLyzHTkd+97Tr7RwYvDkUTdRZxGB8ZuxeVE7wMIgQr+w/zkOz35ynlo+Om4t3hJOJT5b7srPeaA4IO7hi4JWA3Wk1rY1JzgndbbQ1W5jWeEnzxANZewb+yXagdoaKd9p8Zqo68wNU58nINJSPCMDk2bDW/MPYp0SEvGHIMPf5Y7gjfQ9NWzfnNTtRv3hfqQPWq/hsGIAxcEeQVAxmVGc8W4hADCccAYflP84ruwepw5yXkFOGP35jhZ+gh8zH/WwrLFA8hxTHpRulcBW7QdEFuq1qMPVgchvyr4a3MY7wyr4Wkbp02nDSjbrOSy+LnSQM/GWwnKy6iLzMuQyvbJhcg8RUkCNn3rOfV2svTRdMr2Fjggunz8er4oP7cAz8Jmw7kErQUGBMuDjAH7P/X+YP1pPJz8A/u5eo+56vkdeUC63z0UP9lCSETIx/nLzhFdFvqbD50fW4FXD5AUCBYAbXmRNHtvyWxiKR/m6KYZp7DrVTFU+GY/IASwCD8J7cqYysOKzwppCQZHGIPyf8K8F/jF9yf2qLd++LC6OTtO/JH9q/6vf8XBccJmQzBDFYKYAZHAgf/zfwl+0z5fPZa8pXtG+oj6oHu5vUX/iQGjA/vHIAvVkXgWdlnW2sTY2hQ7DYoG/4Abepe17HGs7f+qmyiWKCPplW1u8rs4nz5KAv2FvgdICLsJK4mmyZvI0UcSxH+A8v2I+yQ5Srj1+MV5rfoN+ud7Ubwt/NI+Lj9CwP6BrcIWwi1BrAE5QJzAf3/yP1F+s31+fHc8G/zovgx/toC/wfaEL8fojMeSMlX0V4PXJhQ1z7TKWYUUgDY7UzcT8ukuySv/KfRpwmvcLx1zf7ee+7B+i8EFwyiE98aoSA/I54hyxvzEgUJGgCn+dP1qPP78Tzwfu717N/rwetZ7fPw2vWw+lz+ngDmAccCnwN3BPoEfgRgAqT+Z/qa98X3u/qg/q0BYwTDCfkUYSaeOndMrVdnWvJUyEj9N9kkUBF0/mPs79p6ylS8UrL2rcSvHreVwjzQDN5s6s300v2QBmYPZhfrHK8ehhxMF3oQqgkbBEMAuv2p+135j/ZQ8wHwXO1K7FntO/Da8wX3HvlZ+lr7qfxU/vX/6gClAPL+WvxW+p36vP1IAgIGTAhxC/MSPyACMaFAIUu8Tn1LN0JANIwjPRK6AUbyieOU1T7J0b9oupu5dL1txWPQq9yA6LDyD/tOAkUJKRBUFp8aFhxxGj8WrBAWC4UGTgMYASH/m/z1+Bn0rO4E6pXnE+j16tHuRvLJ9K32ovgr+1f+tgFyBJUFuwS5AnkBrQJVBqUKzQ0QEOETsRtyJ1Y0uj47RCdEuT6TNO8mrhelCLn6xO1l4cnVv8tIxDPA+7/CwyjLHNX73xnqgPJe+bP/bgadDUsUGxkAG7oZ6RXWEPMLMwisBbMDWgHr/ST5WvOA7fbo4eZ4597puuwg7/Xwt/IE9Tr4PvxdAH4DzgSjBJoEcQaFCmQPLRN8Ff8XAB1HJU0vSjjWPbE+ijrCMYYlvhdQCij+B/M+6I/dftMCyyjFz8JrxLbJmNF32t7iDOol8O71OfxPA6oKGhFQFYoWDBUaEksPmw3vDGEM/go8CP0Dbf4g+C7y0O2g6y/rZutl6yLrQuuD7ErvdPNr+ET9GAGWA1kFlQcjC7EPAhQRFwsZMhuzHp4j5CggLUUvrS73KjQkRxu3EdsIFAHs+cvykeuM5DzeQ9lW1u3V2Nc22/PeUuI45RLolOtL8C/2hPwnAjAGXQghCVEJuAm5CisMeQ35DTQNAwuUB2kDTv8H/Ov5qPiJ9xH2Z/Q18zDzo/RQ94r6d/1u/1AAnAANAR8C6QM4BrII0QoJDDsM/wtWDOUNcRAPE8EU/BS+E10RTQ4PCxsIuAXQAwAC5P9h/bP6OvhD9gT1h/Se9OL09fS49E70+vME9KL01fVZ98j42/mI+u36P/u++6H86f1U/4gAUQGhAX8BEQGcAGgAigDRAO8AuAA9AMb/n//w/5MAOwGrAd4B5AHFAZQBiAHWAXgCIwOLA5cDXAMEA8ECvALvAiEDFAO6AjgCvAFbAR8BAQHrALsAbQAmAA0AKABaAIIAjgB5AEQA/f+2/4T/aP9S/yn/4/6L/jv+B/7z/fv9Ff4t/iv+Ef4C/hX+N/5C/jL+J/4u/ir+Af7H/aT9pv3E/f39V/6//hP/TP+F/77/zP+Z/1z/Wv+S/77/uv+z/97/MgCDAMMAFQGNARkCnQIcA58DHQR5BKAElQSFBLwEhAXbBlQISwlqCeIINwjJB50Hcgf6BgEGeQRzAh4Azf3c+4X6qvnj+NX3evYe9Rz0rPPi85/0fPXq9ab1BPW49D/1lvZo+F/6Nvyg/WP+of7x/vn/0wHSA/YExASmA3ACqQFgAY4BRAJWAyUEMwTPA+QDAgXUBqYIPArjC+YNPRCtEvYUuRaNF08XOxaRFDkS5w6aCrUFngCF+4r2/fE57lvrOemz59vmyuZi53PoAupR7H7vMPPL9uf5hPzT/vIA8gLmBM4GYAglCdEIcAdSBeIClAC2/if9Yfv++Df2w/M38q/xAfL88k70ivWE9rD32flU/bMBRQbDCmMPdBQLGgIg7CX7KjEu4S4VLVUpGySmHS4WCw59BYf8MfP66cvhatsR15TUudM21KPVr9eG2rLec+RK61fyA/kh/4kE8Qg7DK8OqhAqEuQSpxJ3EUgP6QtYBwwCtvzT95TzG/CU7Rjsm+sL7G3tsu+R8qX1sfjA+/n+iAKTBgkLeA9FE1YWiRkqHrokOCyxMms2njZZMzAtCyXjG1sSgwgq/mLzt+jy3tzWJNEpzsXNT88M0pLV19nv3uzkvusZ82X6BgGoBkkL+Q6+EaQTzRRLFQcV4BPCEZwOWQoVBUL/dvkk9KHvS+xn6tjpKOoK65Ds2O6g8Xr0K/e/+Ur87v4MAg8GzAqJD/QT5BiqH3gosjH/OM480TxhOe4yEiqqH34U6Aj1/OTwauVk23rTEc5TyyLLBM1R0I3Un9mh34Xm6O079Qf8DwJBB4wL3w48EbUSYhNTE5kSPBEjDw4MzQeIAr78AvfX8bDt7+qy6bXphOrU65/t9e/C8sr1vvhp++f9sAA2BFQIWQzbD4QTvxhmILoppjLyOEs7fjkiNDgs2CLdGK0OPwRy+WburOMt2uPSgM4izTzO49BT1FHYDt214i3pLfBn93r+1QTjCWYNpQ8gESUSvxLgEnISPRHjDioLTQbsAKn77vb+8hDwPu5f7SzteO1M7sHvzvE39Jr2m/g++h78Cv8nA54HbAuqDrwSAhlvIXMqDzLENs03AjX4LvEmRh6pFQcN+gNY+kvwWuZg3WnWONLb0K7R3tPe1nPajd4345ro4e7m9QX9VAMqCHQLlg0PDzIQIxHVEfUR+xB0DmEKSwX7/xj7Bffn87vxWfCM7yvvOO/b7z/xYfPh9Sn43/lP+1D9fgCYBKQI9Av5DvYS5xiUIK0ohS/EM5k01TH6KywktRtmE1ALBwMq+sHwXOfp3mnYkNR405nUFNcf2kXdfOAN5HDoBO6x9Mn7RgJjB+8KOA3ADvUPHREkEpESrxEGD7YKaQX9/yz7b/fk9E3zOvJW8ZjwP/Cc8Nvx2fMf9ib4yfl0+8j97QBjBI4HeArxDdkSVBmbIG4nnSxMLw8v/yvJJmsguBn9EgUMcQQQ/BfzLupU4oHcNtk92NzYStoH3PPdN+As4znnjuzh8mv5Rf/fAzUHqgm5C68Njg8BEX4RgBDWDcUJ8wQhAOn7mvg19n70J/P48fXwVvBp8Ffx/vL69Oj2xfj0+uj9ngGSBS8JdAwMEMMUyBpsIX4n4CvdLTItBirlJKgeDxhtEZkKSwNv+0bzVOtI5NHeYtvt2fTZ2Nox3OTdC+Dh4rHmqeuh8Qb4E/4xAzoHZAoIDWMPdhH8EoQToRIfECkMSgc5Apj9w/nR9qH08/KN8Vrwgu9S7//vd/Fn84X12fe3+m3+2QJkB2kL1g5KEpYW+hvSIe4mNyocK5Qp9SXXIOwaxxShDlkIrgGG+h7zAuzZ5SzhLN613G/cAN0n3sff6+HC5IroVu3l8qr4Cv6cAk8GUgnkCycODRBUEZ8RnhA1DpcKPAa7AZj9Hfpf90j1rfNo8mXxu/Ce8D3xk/Jj9HP2y/i4+3v/4QNRCCwMVA9CEpsVmxnXHXEhmyPrI3AihR+nG00X0RJSDrQJwARS/375o/NI7trpguYq5Kji5eHI4TTiFuOT5PbmbOrO7qHzYPit/GQAkwNfBuYIKgsBDSUOVw5zDYMLzgjEBdQCPQAG/g78Ovp5+M/2W/VS9OfzK/QL9WT2Jvhp+lD9ywB2BMAHWAp/DM4OqBHXFLYXpBlYGtYZSRjrFRETERAUDQgKtQbwAr/+VvoR9kfyNu/x7G/rmepM6l/quOps67vs3u7L8TX1ufgK/Pv+fAGbA3UFIgeZCKwJJgrjCeYIVAdtBXEDkQHi/2X+Df3F+4b6YvmJ+C34Zfgm+Ub6l/v2/GX++f+xAWgD8ARNBqwHJgmUCq4LSgxlDAsMTQtPCkYJWQiBB5UGcAUDBFYCiADV/m79YvyS+936MvqP+ez4TPjN96X37feN+Er57fld+p76zfoN+337H/ze/JT9IP5q/nH+Uf42/kX+hf7e/jL/a/9+/27/VP9Y/6H/NAD3ALoBWwLTAjMDlAMCBG4EuwThBPYEHgVZBYgFiQVVBfgEgAT0A2gD+AKoAloC5wE+AWgAfP+T/sv9Sf0c/Sz9Tf1c/Uv9JP0A/QX9VP3s/aD+OP+R/6z/mf9p/yf/4v6t/pL+i/6E/mn+Mf7k/Y79Pf0E/ff8Jv2G/f39bf7J/hL/VP+g/wcAkwA3Ad4BbwLVAgID+QLSAq0CkQJxAjoC9AGzAYABUwEnAfwA1ACsAH0ATwAtAB4AHgAgABQA9f/H/5v/gf+C/53/z/8VAGMAogC8ALEAlQCBAIIAkwCgAJYAbQAnAM3/Yf/v/on+P/4U/vv96v3f/dv93v3i/ez9Bv4//pr+FP+b/xoAhQDbACIBXAGDAZIBkgGMAYEBZgErAdQAewA4ABcADgAKAAEA7v/N/6T/f/9s/3X/k/+1/8r/xv+v/5v/of/M/xUAcADNABoBRAFCAR8B+ADjAN4A2wDPALcAjwBTAAUAsP9e/xf/5P7H/r7+vf68/r3+xf7Z/vT+GP9Q/5//9/9FAIQAuADnAA4BIQEeAQoB7ADKAKcAggBZACoA+f/L/6v/mP+L/33/bP9f/1j/Vv9W/1//ef+k/8z/3P/a/97/+f8lAFQAggCzAOIAAQEKAQIB8QDaAL4AoQCJAG0ASAAaAO3/v/+M/1X/Jv8G/+/+2P7I/sf+2v73/hn/Pv9n/5X/0P8jAIkA6QApAUQBRgE2ARYB6wC+AJUAcQBNACEA4/+U/0P/DP/8/gv/Iv8z/zz/Q/9K/1X/af+H/7D/4v8aAFMAgQCiALsA0QDkAPAA9QDxAOMAyQClAH4AUwAmAPz/3f/K/7j/oP+E/2r/T/8w/w//+P72/gn/LP9a/47/v//w/ygAawCvAOEA+QAAAQAB9gDbALcAlQB4AFMAHwDm/7f/mP+B/2v/W/9R/0f/N/8p/yn/Ov9U/2//jv+z/9n//f8eAEIAYwB8AJEArgDSAO8A9gDrANYAvQCeAHoAWAA8ACUACgDo/8L/o/+S/43/i/+H/33/bv9e/1b/YP9+/6X/yv/u/xsAVACJAKwAvQDKANgA2wDJAKUAfwBdADoAEADi/7b/lf98/2f/WP9T/1T/Uv9L/0v/Xv+D/63/0P/u/woAJAA7AFAAZgB2AHwAfACCAI4AkgCJAHwAdwByAGQATwA9ADEAGwD0/8j/rv+p/6z/qf+c/4r/fP9+/5j/vv/f//H//P8KAB8ANABCAEYARQBJAFUAZABfAD4ADQDn/9L/wf+p/5H/g/+B/4T/h/+N/5b/ov+u/8D/2//8/xgAKQAuADIARABiAHoAfwB2AGkAWAA6ABQA/P/5//r/7f/Z/9X/5P/t/9v/tv+f/6v/0//9/xIAEAACAPv//f8DAAUAAQD//wMAEAAeACUAIwAbABMADAAJAA0AFwAeABUA/v/r/+X/3f/E/6b/nv+x/8n/0v/V/+f/BAAeACsAMAAyADMANQBCAFkAaQBrAGIATwAtAAEA5f/o//r//v/t/9b/xv+8/73/1/8BAB8AFQDy/9b/z//P/8r/x//P/+P/AAAlAEYAUAA9ACMAHQAtAD4AQAA2ACgAFQD//+7/7f/0//f/8P/i/9L/wP+x/6n/qf+x/77/0P/j//L/AgAjAFEAdwB9AGkAVwBYAGIAZgBhAFMANgAKAOD/yf/L/9L/y/+6/6n/ov+m/7f/1f/w//j/7P/d/9v/4v/l/+P/6P/6/w4AGAAZABsAJQAzAD0AQQA9ADIAIwAWABEACwD9/+L/y//D/8v/0f/L/7z/tv/F/93/6v/l/+P/9/8UACEAFwAYAD4AdQCJAGwASABOAHoAnQCXAHIASAAiAPv/1//D/8H/wf+1/6D/iv9x/1T/RP9Q/3b/nv+1/8D/zP/b/+b/9P8NACsANgAlAA0ACQAdADQARQBTAGIAaQBdAEMAKwAdABUACQD4/+f/4v/m/97/wP+b/5T/tv/l//v/9//2/wEACAAAAAMALgB0AKUAqgCaAJEAjQB7AFkAOgApABwAAwDg/8H/r/+l/5v/jf99/2z/W/9T/17/e/+d/7X/xP/b/wEAKgBEAFAAVwBaAE4AOgA0AEIAUgBMADUAIwAeABgACAD9/wEACgAFAPD/2v/M/8P/tP+i/5b/lf+i/7r/1f/o//D/9/8GACEARQBrAIkAlQCLAH8AhACaAKUAkQBlAD0AJAAOAOv/vv+Y/4T/fv93/2v/Wv9M/0f/Uf9r/5D/s//M/93/7/8FACEAPwBZAGkAawBlAGkAfgCcAK4ApwCRAHIATAAdAO//1P/N/8r/uv+k/5v/o/+r/6f/m/+V/57/sv/K/+H/8//+/wcAIgBRAIIAngCaAIgAfQCCAI0AjgB9AF0AOQAaAAAA4v+8/5f/fv9y/27/Z/9c/1L/Uf9d/3P/kP+s/8f/4v/6/wwAFgAdACsARQBkAHsAigCXAKAAngCJAG8AYgBfAE0AHgDf/6v/kP+H/4P/gf9+/3f/cf98/6P/2P///wsADQAZADIATwBoAHoAgQB7AHAAaABhAFEANwAcAAoA/P/o/9P/zf/X/+P/4//X/8j/vv+8/7//wP+1/6T/ov/A/+//CQAAAOr/7v8OAC8AOgA6AEAAQwAwAAwA9f/5/wkACwABAP//BgAHAPf/5//o//D/7f/m//L/EAAhAA4A8f/v/woAHQAPAPH/4f/s/wQAIQA6AEMAMwANAOr/4P/3/x8APgA7ABUA4v+//7r/x//X/+b/+v8KAAkA/P/y//v/CgAQAAwADAARABAAAgD4//7/DgARAAYAAwAQABkABADf/83/1//e/8f/ov+V/6f/wf/O/9f/5//6/wQACgAeAD8AXABjAFsAVwBeAGMAWwBNAEsAWABhAFAAKAAEAP3/BwAIAOz/vP+a/53/vP/Z/93/zP+8/8D/zf/T/87/yv/P/9v/6/8DACYARgBQAEcAOQA2ADwAPgA3ACcAFwARABgAIgAhABEA/P/t/+X/3f/U/8z/xf+//77/xP/N/9T/2//n//P/+////wUADwARABEAHwA/AFAAOAAKAPj/DwAoABcA6P/M/+D/BQAQAPv/5f/p/wAAFQAVAAcA+//3//f/8P/i/9X/0v/b/+f/7P/o/+D/4f/v/wIADwASABoALwBDAEMALwAgACEAIgAQAPP/4f/f/9z/zf++/8D/zf/Y/+P/9v8LABQAEQAOAA4ABgD4//b/DgAvADsALgAdABUADgAJABAAIgArAB0ABQD7//v/9v/p/+L/5P/l/+P/4v/d/8b/pv+l/9b/FgAyAB0AAgAKAC8ATABOAD0AKQAbABIADAAFAP3//v8MABwAGgACAOb/2v/i//D/8//o/9n/3f/4/xcAIwAXAAYAAAADAAYACAAJAAQA+f/0/wIAHwA0ADEAGADz/8v/r/+r/7r/xv+//67/p/+2/9T/9f8HAAQA7//f/+f/+/8AAPf/9f8KACcAMQArACkAMgA5ADYAMgAxACsAHQAYAC0ASwBLACAA5//G/8j/2v/o/+j/3v/T/8//2P/n//L/+f8EABkAMAA3ACsAFwARACAAOAA+ACgACgD8/wEACQADAPf/7v/o/9//1//h//7/EwAMAPP/3//d/+j/9/8DAAYA9f/U/73/yP/q/wQABgD+//3/BgARABUAGAAiADYATwBfAFcAOwAgAB0AMAA+ADEAEADy/+D/1//S/9T/2P/W/9L/4f8JAC0AKQD+/9T/y//c//H/BgAmAEgAVwBJACYA///i/9r/4v/p/+b/5f/4/xcAKQApACIAEwDw/8n/wP/X/+f/3P/V/+3/CwAdADgAYwBfAP//gP9I/1D/T/9U/63/HQD4/2X/4v+WAmkGgwjRBoYBavqM88buZu2j77P0rPuiA7AK6w2tC5QFUP+c+0j7af6GBCELBg7WCo8DafzZ9wH2Gffi+xIDgwijCCYE7/7W++f6Ufsx/ZwAJASiBVkEgwHM/vr8KfyT/IL+lwGUBAsGXQUOA0sAJv47/c/90/+sAiwFGAbuBCUCvv6y+8n5ivkO+8j9pgCSAuYCpwFv/y/94vsx/Br+5ABlA4sE6wPoAXj/of0Q/en9zf/2AX4DtAOAAnoAkv6M/aj9t/5LAOIB4wLRApoBsP/J/YH8KfzM/Dr+/v90AR4C3gH8AOn/CP+k/t/+nf+FAC0BTgHjAB0AR/+z/rP+bf+4ABoC9gLdArsB5//0/YL8AfyJ/Nr9dP/PAIQBYwF7ABj/tP3c/P38LP4QAAECRwN4A5gCEAF//3v+Zv5J/9AAbQKBA5kDjwKlAHL+pPzI+xf8cP1f/zIBOgIWAukAQP/Q/S/9pf0Z/woBugJwA8kC8wC2/h798fw+/mYAiALlA/sDpAI4AJL9pfsF+8f7qf0mAGACSgNGAq3/qvyk+pb6pPwWALQDTgYTB6EFRQJ+/sz8IP/7BEILOw7HCwEEpPia7L/jrOHG5zv0DAP6D7AXPxiuEZUGf/vm9Ab1BfuoA+4Ktw35CvADWPtW9I/xTvSk+1wEYgr2CgcG2v2u9Z3wyfCU9hQAqgmuDy0QiQvmAyr8CPc29sL5+f8VBpEJNQlsBdr/nPqf9wD4jvvBAGQFlAeeBhcDb/5d+lb4Efkv/FUA2gOKBRUF9gIgAKr9f/wH/e3+RgEMA4sDnQKkAGf+xfxe/D395/6tAPsBeQISAvYAnP+P/iv+bv7+/nD/jv+G/9D/3QCwArgEFgYIBjEEsAAw/Or3ZvXG9Rv5P/5tAwkHFwhbBmECgf2d+WH4UPpv/uwCIQYvB/QF4gII//P7BPuO/Jb/hgIsBAkENgI7/xT8Avro+cT7uP6hAZ4DOARuA6kBqf86/uP9sf45AMUBpAJ8AnsBKQAV/5b+w/6F/5gAlgEYAuIBAwHR/7n+Dv7i/Rf+gv4G/4b/1v/e/8j/7v+PAIsBeQL8Au4CTQIqAbz/aP6k/aP9Nf7q/lr/Wv/8/nT+/v3U/Sr+FP9nAMYBxgIwAwsDgAK4AdUA+v9R//n++P47/5P/wv+c/xz/dP7w/cv9GP7D/qD/fwAsAXkBWAHxAJkAoAAcAdYBeAK7An0CwAGhAGH/VP6//bf9H/69/lX/uf/U/7P/d/9I/0b/fv/j/1AAnwC6AKIAaAAgAOT/0f/5/0AAbQBCALD/5P4w/tj99f1+/lX/UwA7AcEBwQFfAfcA1gAMAX4BDQKZAvYC6wJjApMB4ACXAMcASAHmAXYCywK3AiACFgHO/4b+bf2f/Cb8+/sK/D78ifzl/FX93/2G/kP/AACnAC8BhAFyAcQAhv8W/vT8afx6/CT9a/4AAO8A8f+L/Of3Q/Q284D0l/Zl+CT6iPxe/3AB5QGCAXgC2wY8D2caFybKLyY1SDRlLHcePA0c/Krt1+I72wHWvNKi0TLTm9eT3rvn3fJS/ygLgRNjFkYUdQ8ECrAEqP+u++D5gvp+/DT+lf6b/Qn86foN+6v8Wv9wAmEFtwfxCHcI3wVaAQX8wfc+9rb3j/py/P37gflF9kfz4/B/73HwBvZIAlQVeSz4QsFT8Fp6VodGrC1+EAr0A9wiyt++Tbo8vLLDyM4+23vnL/P8/iALWhY2Hs8gKh7EFwUPnARb+SjvkehK5wHrefHA97r7Lv2T/bL+QAHFBIcIJQwnD3YQzA7lCQ8Devz590f2DPdV+QP8Fv7f/h/+H/y3+RH4NfiV+t3+CgTQCBAMRg1+DOEJgQXK/x/6q/ZE92r8NwUXED0boiQlKhUq5iNgGGUJjfmg69fhF93X3MLfjeRP6mrwcPYh/F8BDwb/CesMeg4+Du4LvAd7Ak/9MvnJ9nL2K/hX+77+CwFzAf7/Xv2d+rX4Q/hf+cH75P4fArcEEgYABswEDwNdAQsACv///bj8ifsi+977SP1k/mf+K/0M+5L4J/YT9PXyXfS4+u8HcRtgMdNDM007Sto6ByK6BFDoFNG7wZ27wL6QyePY6uih9sEAwgcVDQUSrBbJGagZahV3DekC6fbT6sDgVNt73A7kl+9w+54EDwqDDGcNow1WDXIMPgsUCr4IcganAtr9Y/mV9gD2ZPcG+u78Gv/k/0D/mf1z+2/5jPgO+qP+jAXADPwR0BPOER4MPQNG+GPtpuUX5Ffq3vcwCs4dCS+LOr89eTeLKMQTPf0s6crafNOm0lHWT9wg4yfqTPGQ+Of/Ngc7DkMUEhg1GNMTYgu4AEj2HO5h6YnofuuJ8SD5JgC6BAUGggSfAf/+xv1O/jMAugIkBc0GNQcgBtADCwHE/pT9bP24/c39Z/3i/PP8Bv7T/6EB+gLmA4UEdQTrAlb/8Pnm81fvK+8x9ncF6xp7Mc9CfknAQmAvoBPq9XrcdctPxGTGts9X3eDrWvgpAWcGdwkXDEMPfBILFC8SSwwZAxH43exo49fd8t0n5P7uiPuABpgNNxBfD8EMwQkZByIFBwSXAxsDvwFc/6r8tPoU+r/6TPw1/vH/CwFWAeQA1f9J/sb8Y/w//o0CLgg1DeUPRQ8jC/gD2fpO8QzpruOo4h7nc/HKAPsSCyXXM3w8zDztM/oiCA1O9tXidNVXzwjQ29Wo3pnolfIG/GUEGQu6D04SDhPyEZkOvwjoAI74lPFd7Ubs4O2L8b/2yPx5An4GAQgiB8gEHwI0AK7/qAC3AhgFAwffB10HiQXZAv3/k/3k+9T6GPqL+XX5cPri/HoATwR9B5AJQgooCeAFkQD4+QrzB+3+6cXseverCcMfUTT3QeBEkjtkJ2AMLvBU2M/IWMNYx2XSKeFm8Jz9RwcNDdIPKhElEnMS1RBZDB4FKPza8t7q/eWD5ZXpHPFh+pIDAQtVDxIQ1g38Cd4FYALi/2X+sP2C/cP9cv5Z/wwAVgB3ANQATgEfAYz/rPx/+Vn3Nvdp+Y39oQJeB7wKNwymC/AIKQTs/WP3xfHm7Xzsne629YcCFRQ/J2837T+BPdIvxBlkAO7oGdedzKHJZM2W1l3jR/Gw/aQG0QtvDv8P5hBAEAINIge8/1H4C/KB7e7qeupw7Anx1vdX/2YFaghQCG8GgASVA7cDSASpBK4EnASyBLAE9wM1Auz/Gf5G/fT8FPwY+pz3D/bI9jL6of+vBeIKOg5YDz8O+QqfBbb+X/cB8a3sBuu57Nvyff56D3Yj9jW3QbBCrzfZIsIIse752FDK8sMOxsTP6N4X8Jv/xgr0EFcTqhPREnkQ9gtgBdX9uPbZ8GXseumx6Ojqh/DJ+J4BbwhqC4kKaQcTBLsBegD0/wMA0wBnAjUERQW4BIYCv//l/b79of4c/0v+nPxW+4X7X/1lAM4D5wZKCdIKNAu5CZsF7f4P9wvwfOsp6pjsl/Pp/yUR2ySsNo9BwUFlNvEhAQly8Pbb2s1mxwLJ7NHr36Lvov24B6wNwxBdEsMSOxEvDRsHUADl+Sj0De/96hbpj+rL77j3DgBcBkYJJwlxB3IFnQPgAWoA1f+VAGYCQgT+BAsE1wGI/yT+xP2U/a78//pa+cP4t/kR/Ff/CAPGBjwK6wzsDSQMAgcy/3323+7G6SboF+vt808D6BfLLVA/HEdZQswxRRnr/YvkzNAaxbTCXskU10fo8PjwBRMO9hEUE40SlBDZDF0H2gBa+oz0mu+n61vp0+nq7V/1g/7QBhIMeA3HC5IIKAUaApn//f3E/Rb/WgFqAykEOAMtATX/Nv41/mr+Bv7k/KT7Ifvh+9D9dQBbA0wGKwlvC+4LYwl1A0L74/Jd7P/opOlH7+/6rgxdIjs3PkV/R2w8biaxCgTvEdi3yEHCycQ6zyDf2vCaAMoL6xFBFIsUvBOaEWoN/AYh/zz3bPAd62/n3+Vp587spfUKAEkJDw9zECkO4Ak6BSsBFP47/AD8gf0sAM0CIQSgA8ABpP9K/u/99v2L/XD8PvsE+3r8k/+VA5kH/ApdDUEOzQwSCPP/xfUV7Hblc+N75p/uIvz2DnYlfzsiS+BOOET6LIwOmu+71TvEVbz5vS3IzNhe7Mr+xQwQFX8Y4RiQF7QUpA//B4r+CfVJ7TDoueWv5Uno7O1X9g8Aswj9DeIODQxcB8YCav9u/Zv85/xt/vUAsgN/BZEF/QOwAcf/uP4J/uT8D/tl+Ur5ofsXAFYFzgmDDFQNfAzhCfEEbf1r9FrswefG5/7rl/OK/nQNESC6M2ZDekl8Qg0v0RNA99HecM3pw0vCg8i31Wfnn/lxCKURZxWAFcMT0RAwDHUFXf2s9QTw0uxu6ynrLexP7xT1wPxNBHEJ+Ap5CboGTwS0Ao8BqABiAEoBPwMlBY0FwANbAOn8vvoN+vT5gvm++MT42vpG/+UE1wmxDEYNUQxMCrsGtwBc+JDvOell50Dq1fCx+osIERu2MJtE1E+yTAw6Uhxv++/eCctywFa+HcRB0dnj7Pe4CBsT+hapFskUZRKuDlYIX/+v9fXtz+nh6Lnpe+u47pH0F/18BtsNAhG9D74LPAeAA4AAsv01+xz6ePsU/yIDVwWKBHsBJP4o/LT7qfvp+oz5/PjI+j3//wT0CbcMTg2cDB0LLgigAjH6m/AH6SLmduiT7vH2ogEWENYiPjdPR0RMUkIWK94MUO/Y11vIqMCSwHnI19e86yz/eg3GFI0W6hX0FFITHg8wB738zPIU7DPp0ehd6a/qD+6m9Nb9+wbwDCoOpgvjB+AE4gIBAbv+1Py+/Aj/eAK/BDwETAHx/RD86vsV/BH78fiP9wj50v0tBHMJDwxYDIYL+wmjBjsAMPcu7rjo8+ix7n34egUFFhwq+T5gTg5RCUOdJo4DCOM0y7e9Yrn+vFnI3dqQ8QMH0BW9G9EaWhdxFOkRMw1eBHP4HO385Q3kcuWt5x7qZe5U9ngBiQxnEwMUvA8SCukFuwMhAun/if2g/BX+1wB6AjQBav1q+ZP3fvi/+mb82fxQ/YP/1QO5COcLQAyBCiQIrgUnAmD8t/SM7c/pFesH8aD6vAcSGTsuj0NCUlNTokMiJowCduGkyAq6VLXpuT7HeNtg8msGchPXGEMZJBgEF74UDw8FBVH4XuwQ5CPght8u4WjlVO0N+V8GchH8FkkWYxFWCxoG6AFJ/nf7kfpn/EcADwSNBQIEgwAT/R77p/q0+pL6qPoP/EX/bgPhBnkIYwiLB1MG/AN+//v4UvL27T3t7++f9Tb/oQ5qJDs90VH5WdNQgjeAFD/whdHvu8CwarDJugbOyuVN/OQMNhYkGqEbJBzLGqsV7Avq/oDxYObk3jDbNNtS3/TncfRVAhsO5xQMFhMTUQ5mCdgE0gDs/f/8Tv7dAOIC4AKZABD9vPmX98f29fb49xH6hv38AVkGWQmCCmgK+QleCZQHUQN6/MD0te4A7LLsWvDO910FoRqANSZPUV7JWyNGeCLG+eXUqbmBqtKnCrFixAfeUvixDRIb6iAJIh8h3h79GeAQeQPi81rlqtou1QjV6tl64+/wWgCfDnAY6Bt0GVITGwySBXQADv2b+x/88f3D/zsAuf6r+0f4zvX29Mj1/vdQ+2//vwNUB2YJ7AmcCTUJlwiuBmgC9vsN9c7vXO217Rrxb/mWCaIi4kCkW4Foa2BcQ3AYjurFwzGqmp8No1ayQsov5oAAcxQTILYkbyWWJEEimRy6EaMB2+5l3fjQqcvFzX7WfeTg9esHKhd2IFIioB0OFaYLoAMH/gb7SPoV+2b8Jf2M/Hv6lvf+9Mfzf/QG9876Kf9gA78GvAhRCQ4JqQhCCBUHFgQU/0H5dPSt8bHwbfHF9XQBPBdKNeJT6Wf0ZxBRZSjk+FnO7bBqo2mkmrAgxOfa8PA1A60QOBpkIckmOClRJiIc0Qo69RrgQ9DNyFLKUNNE4Y/xvgGMDxUZcR0UHWkZ+BPHDXIHgQGM/Pz42fbW9Yn1p/Uf9v/2Q/jE+WH7Mf1o/wcCngSDBlYHYAdLB1IHrwYkBF3/u/lb9VHzSvNO9ZX7ygm6ITBAvFy9bAlo40xFIYrwjMYoq42ghKS8snnGjNsV7/v/lw6mGxgnby8IMlEsax1CB2DuXtjqyTfFlslV1EXi7/C+/o0KiRNtGZwchh0cHP4XQBHYCEwA//i185HwP+9F7zHwsvGT88X1d/j2+04A+ATgCAMLHwvpCWUI0wZdBCMAp/rE9RLzf/I98x/2k/52EC4sKUz7ZbFuImBOPLUM4t0Ouh2m8KFoqiq7uc9Y5NL2rAaAFNEgEis9MWwwayZ9EwP7euJczzHFtsRIzBHZQ+iq96QFDhFiGcoeqyEAIkEfDxnwD2IFO/v58m7tvOpx6sTr3+0p8H7yNfXl+Of92wOTCZgNCA8cDt4LLQkGBukB/PyF+N71C/X39LL1QfpmB5sfXz8gXShtPWe+SvIeh+9vxzitZ6IUpbyxScTM2Gns/v3PDV0cLCk4Mmw0BS2IG/oCQOmY1PPI08YozBHWMeIN78f7uwdcEi4briEeJZQkgB9kFvQKbv+x9cru8uq46SzqUOuY7DDux/AJ9T775wKYCj8QOBJhEDwMtAfOA38Anv2P+6n6RfpA+Sb40vr3BrQfa0GYYU1znW30TyEimfAnx9usu6JHpWSv2bx4y/3aMOzM/1wVfirkOpJBJTv1J7wM1/AP29POiMsAzvXS1tgI4M/p1PZdBnYWhiThLXMwnyvhIGkTnwad/Lj1EfFm7bbpu+Ux4pzgjOK46J3yi/76CT0SjBX8E3YPaQpDBv8CDABS/Qv75/j89ZTyJvK6+scQWzLWVfRtiXB1Wxw17gg34tXHjLp+tqO287eYuhjBXM6j4xn/1BtbM/Y/rz5pMMMZlwEZ7gXi+9ua2I/VH9Nu09DYZ+Rv9SQJfhuYKC0uSSz6JEYb7xFdCk4EdP6M90DvZObO3r3a9dvd4iDuH/vTBtMOKBK6EakPuQ0YDMAJBwZ3Aeb8LvjL8l3uEvA7/v4aiUBrYpdz+WyWUPEnMv+j31DMOsLVu0+1966irCqziMXR4rMFBybYO4lCbzpGKAUT5wDM9GvtC+fU3jTVqM1rzO7Ts+OL+MoN8B4lKfkrDinyIu4bPhXwDjoINgCZ9ijsquJF3JHa8d165WrvuPmPAsgIQAzFDVkOQA7TDFwJNwTX/o76aPfL9LDz+PeRBvog5kFdXhRrTmKURgchtPxz4QnR9ccjwdu5W7OwsSi55stS6PEIDSaiOB89ejRvI2wQ5AD49tPwmurA4TTX0c7ZzJPTUOLO9YIJWRkoIxYnuibjI9QfAhsUFRcNRQIR9X7nbdxX1mnWQ9wv5qjxNfxNBMMJYQ0BEMER2RFPDwcKNQOe/G/3R/SR9Fj7tgtzJd1CUVrXYs5YnD+RH2QBNeoy2jvO+MJ1ty+u/6s8tXfKO+csBOQafyhOLR4rDiRCGoAPgATg+Djsat+71LnO6M461V/gZu5S/XULqxdQIfcnHis/Kkkl+hylEpcHufyr8vXp+OLu3Tbbk9vB36zn+fGY/K0FLgzCD48QPw8DDQMLaQkvB5IDSgDyAT0NhSLUO55PXFaETi08fiU+D2j7nelm2MPGz7VrqbSmrbCFxSXfuPZjCDgURhwnIgAm+CbcI5Qb3A1G/IHq+Nx11rHWD9vG4KDmKu2k9b8A0w3HGq8kECklJ10ggBcND9oH8ACu+GfuduPG2i3XrNn04FnqW/OX+tH/hAOCBowJ3AynDysQ7AzXBncCPAbiFXQu40ZzVbVVE0p8OOolQRTcAv/vWNq7wk2tcaAOoeKuUcQ72nrsPvvYCJsWnyORLfox/y4eJCATQgCF8N3mr+IC4UffUd0N3bHgJul79UUDdQ9uFz0aNxkoFzcWHhZqFJsOSAR894TrVeNu4FHi2eaF6xDv8fFo9UH6cABTB5wNThG3EFUM2gfUCGUTLSeTPi1RNlg0UhZDrjCvHlgNAvtI5krPSLjNpVedDKL+sQ3HKtsR7DT7mQpCGh4okTGjNGEwKiUdFd8DKvXe6lTkjN9N20fYY9gX3U/mjvKh/zYLgxPyF4UZIhr3Gm8bpBnzE1EKdf4H84PqLeaL5cfm+udy6Pvo8eom73v1G/2uBHAKyAzBC0QKeg3JGTAv9kdPW19i9ltBTBM5HSa1Ez4AVOo70lm67KagnCSeKKrMu8TNs92/7A39wA5rH9Er2DH6MNopGx5jEI4DOPkX8ffpYuM03tfbKN0U4tbpPfPY/EIFsQtGENUTERe/GaAaQRgdEj0J3P9Y+BH0rvJz8o7xfe9G7Wbspe3w8Nj1k/uVABMD2wLUAuQHhRWrKqtBTFO3WoFXyUx6Pt8uGx4kCyz1l9ynw3auoKGXn8SmnLIzvwnMPts27kcDrxZHJRUuojGkMKkrmiPDGTcPYQSI+YHvl+et4q3g6+Dj4nrmnOvr8df45f+4BtsMnBE6FCoUYhGfDFMHHQPGALH/V/6Q+2335fLt7iPsF+tE7E/vovK19DX2p/oGBj8ZrjAmRpZUPVpWWEJR4UbQOYQpFRV8/Knhj8iitVarnajyqZesEbE5urPJi92K8ZgCTRCEG2wkbio1LfQssilDI0EaehDEB3UAePn18ZjqGeXM4rLjs+Z96kTuAfIV9qP6KP++At4E4AXDBmYIwQrSDEcNYgteBysC5vyD+Iz1x/M98i7wge4k8Ez4xQe6GzcvJD4jRwtLIkvLR3xAeDR4IywOnfb+34TNoMA+uDiy4a0PrWWyY75izoPejuzp+BoFrBFuHWYmIitoKygo+yJiHfQXGRKrCkoBPPfn7jnqP+ku6tXqQ+pP6bTph+xF8TH2wPnb++T9awG/BpQM9hB/EgMRcA1GCdgFkQO2AQb/+vra9qP1hfqlBq4XrCgINUw7Nj0jPYs7+zbxLT4g7w7C+wXpRNntzTnGIMDYuiu4zbpfw2nPYtuD5YzuNPgmA2UOCBhtHgkhnSC4Hq8ctBrnF1ET7Ay9BSr/I/q/9jL0U/GV7bzpZOeL55Pp/esS7o7wm/Rk+tIAhQauCh8N5Q09Dc8Lggq3Cb4IdAbiAlYAXwIIC7AYtCaXMNg0CTV7MwUxvixBJeEZDgtV+iHq6tzB05PNVshjw33AMsIiySPTFd1s5dHsvvTQ/UEHkA9dFSkYkRjqF1AX1xatFfkSsQ6qCf4EVQGI/tD7ffid9AfxoO6J7SHt0OzJ7NTthfCl9Gr5B/7qAa0EFgZiBlEGnwY/B0gH5AV9AwoCFAQdC3sWdiOjLqw1WDgAOAk2jzJxLGwiXhTLA1nzguVB257T3cxxxuPBdsHWxTLN1tSK2z7ihuqz9GP/qQhhD44T9BVwF4wYORngGMkW1RLlDW4JSgbgA5UAZfsO9YLvGex16kfp8Ocb59znpOoY75T0WPpy/wgDBAUyBpMHkQnNC34N4Q3eDNoLzw15FY0i3DAOO7Q+tj2tOw068jZDL5AhMw9t+7rpUdwi0yjMTsWqvti6krzMw2rN/dWt3E3j5Ot09g4BkgkPD9sR8hJ/E2sUyRWDFg8V+hDAC7YH1QWuBNwBefz+9brwtu1I7E/rYOrD6fLpdevs7nL05vo4AAQDzwODBJIGsAlCDMgM9woiCPoGiAohFLQhai4INiE41TcaOH04lTVmLAsdegpr+HjpRN6K1T7NmcR7vUa7rL+jyPTR89id3vzlwfB9/ekIfRDxE9sUPRVLFuMXwxhXF/MSuwwpBykEVAMYAg3+SPdq8D7sUuvg68HrYOrq6B3pFuzF8fT4qf8fBPcFhgaoBw0KswzxDd8M9gnyBnAG9wowFZsioi7TNVY48DifOVw5KjXyKkMb3wgQ9yLokNwd0yzKncGOu7669b/+yHXSjtoc4vnqw/UdAdIKXxGkFKMV3BWHFs4XkBgkF94S+AzJB80ESgP0ACH8W/X97iLr++kP6s/p8ehy6Kzpbu2N88/6TgGFBVcHDAgcCesKqQwtDc8L5gglBn4GlgxZGBAmvjDpNR03djcOOOI26jDSJPQTagFw8OviotjMzwHHEL/Sury8e8T1zsPYyeB46NTxKv2bCIwReRbGFy4XkxbkFowXzhYdE60MuAXZAMP+mP28+lD1/O5W6rDoVemK6h/rJuuw6wTu2fKy+dAADwZTCE4I6QfACAALUw3KDUkL+wadBHEIshOlIvouxDRMNeA0CjYlNzc0iyqtGswH2PWc527dPdWAzALDxLuxuvvAxMuH1sTeeOVU7cf3qQM7DhEVdxeqFhAVrxS8FVUWDhQxDqkGhQBt/Uz8efon9u3vOeo/517nKunY6rHrb+x+7uDybvnEAOkGaAoeCz0KegkFCtQLeQ3pDFUJ+ASXBAEMOBpdKT8zSzbxNVo2FjjxNzUysiU2FDwBSPBv40faTtJeyVfADLvivF3FVtCo2YTgLuf079f61wWyDhwUChaSFZsUwhTjFekVpBIeDOoE5f+t/Uz8S/n289btM+lO57fnEelH6kHru+yr75r0NPsqAqQHOAr3Ca0I0giWC4wPcRETDyYK9gdyDZ0a6ymONNE3gjZQNRA2TDa5MdElpBMv/yTtVuAw2HnRacmqwEC7+7zPxavR/Ns740np1PC0+mkFeg7/E5IVcRTiEsgSGRS5FDUSLAwABd3/4/0x/dv6xPWc7yPrwum/6mrsle0k7r7uZPDx82n5ef/+A38FbQQSAwUEKQiWDaQQ8A5JCmkIpg71HC8t5jdoOjA4szbwN9U4QjRTJ3gTdv2U6rHd0tVNzy/HSL78uHi7tsUj02jemOX66hDyHfw4ByAQpRTQFIYSTBDOD70Q6hD/DboHnQD7+//6lftj+vr1KfA37ADsqe7H8XzzovN+87L0Jvhn/bcC+gUMBqYDGAHsABwE6gilC6AJdgQZAl4IcxfZKJM0vzchNno1yTfcOYo25CoNGHACU+8C4uDZH9NVyiHANLk9unzDdNDi2/fjxOop88H9mwgVEZcVGxbkE/oQJg+RDm0NnAkQA1b8XPiv9xr48vai8/7vY+7C7yTzr/YK+Rf6z/pu/I//rwNqBz0Jagh7BTcC1ACNAjwGnAjcBgMClP+OBccUIyc9NEI4VDZ5NJo1VDezNEkqVhiDAh7uct8q1+LRU8vBwku8P73pxjfVZeKx643y5/n8ApYMahSjGJQY8xTGD3ULBwk8B8oD6f1s9yvzTvJf8/Tz+/Ja8bjwA/L39JH4nPs6/WP9Gf3P/SsAOQPsBLkDBAAz/Dn7e/5WBNAInwi9BPACqwkRGsotjDuMPtY5jTQbM9szXTEfJ50Uh/3W56vYLdHIzXHJo8IhvWW+LcjY1tjkK++f9pX9YAWCDV0UPxgiGEgUZA7GCOoEfwLe/5z7/fXj8FHuxe7x8PXy6PNV9Hz1Mfg//HcAaAM9BGMDPAL+AZECjAJpACr8C/hc97P7ygKdBwkH3AOMBZMRkiWAOAdC6kCQOjU1zDKZMCUqfRwSCAjxeN3R0ZrNCsysyL/D4cFMx6PTbeIb7xv4lv5ABPMJjw8tFCIW1RNODf0ES/7z+tn5aPgX9aDwKu2B7OXuC/MQ96z5+fpD/OH+5QLmBv4IVQi9Bf0CXwG+AMn/Z/01+pT4yfpqAOwFmwfFBakFSA2UHbkwej6GQvM+KDnmNNsxzixbIjQROvsj5T7UHsvkxz3GpcO/wV/EdM0n25fp2PUg//4FXAsMED0UyxaRFVcPmwX6+371ffII8Srvjuxg6i7q4exI8gX5Ef/dAm4EUgU6Bz4KgwzZC+wHzQIb/5T9t/zg+of4E/hu+/sB3ggbDdQNDg2rDu0V5iLRMTk9i0H2PlY4gzBzKDUfIhNWA9nwsN5x0BnIHMWVxTXI/8xg1BXeFukx9Fz+mwYODF0OAQ7XC2EIgAP+/FX15O1B6GDlP+Ut50/q+e398bb2j/wuAyUJwwxtDQQM7AnOB3EFkwKU/yr9o/uu+u/5xPlF+1v/pAU2DJYQXBFjD7oNIxCVGGol5DFMOSE6WjauMO8pFSEnFWoGCPaH5ejWZMxWx2DHCcsW0f/YXeJ87KL2KgAvCHUNIw9uDT8JZwNo/OX0z+365/HjMuJC4xvn0+wv85r5NwDvBs4MfRBLEY4PGgynB7wC9/0J+nH3MPbw9XH22/es+kz/iAVKDL8RHxTqEsMPAw7bEDAZ9SSCMLc4QzxvOxQ3tS8zJSwX0wWZ8vXfcdC4xXfAscDexcDOqtlD5fDwU/x/BgkO1hGzERkOoAf7/kb19+tD5Mfe1dvU2xLfMeUa7bD1Z/4BB9wOyRS5F28XexS6D/8JHATk/vf6m/jM9134Evqw/CsAnwTfCfQONBJAEkoPiwtHCtkNOxYRITErUzK+Nbk1rTKiLFMjkBa3Bgn1jeOR1PXJwMQCxe/JN9KE3NznjPO9/kQI9A4CEjARswwwBcn75vHZ6KThHN3n2yneMuPK6fHwVfjt/0IHQw3SEHYRig/fC1YHuQK6/tX7RfoC+ub6wfxg/5ECQAZQCkUOARE+EacOrQoMCDEJtQ48F4sgzygOL84yiDOTMHgpYB4vEEUAJfBY4W7Vxs0byzXNJdPS2zzmVvHP+0oE1QkSDAoL/QaBAJv4kfB/6STkHuEG4Rvkvel98On2Y/wWATMFUAi+CVsJ7AeYBgUG8gWiBY0E0AIDAcD/TP+h/58AIgLuA9EF1gctCqgMZw5dDoYMhQrHCsMO5BURHgwldSm+KqsoHSNiGmoPkQMR+LbtEuXd3u/bttzD4Obmxe1M9Kb5Jf12/t39CPx3+UD2cfJ+7hbrnugG507m5eY/6RftYfEf9SD45PrG/YIAjQK5A28EOgVCBiQHTAdtBsEE3AJRAXIAVAD0AEACCgQIBvgHygmtC9gNMhAcEsAS2RFQEOQP8RFmFtAbVCCSIuQhNR74Fx8Qxwe4/yv4JPH26nDmcuRZ5ajoN+248Sj16fbW9l/1h/NS8gryGfLG8fLwAfBI79Huuu5m7xPxX/OT9WL3LfmH+4n+xgG4BBsH6AgUCnUKzQkCCE8FSQKm/+f9Sf3Y/ZT/ZgL9BbMJxwzODvsP5RDOETsSbxFxD3UNDQ3YDv0R6BRlFiEWTBQjEecM/gfeAsX9nPhs87/uiOtf6vbqTOx47Truzu5o7wDwjvA68Tnyd/OW9E71rvX39T/2ZfZo9pv2Wfen+Dj62fui/b3/GAJyBJYGawjQCZkKrQr/CW0IxwU9ArP+YfwR/KD9SQBDAxYGhghjCpILNAy8DMYNtA9CEngUKhXKE+UQ4w0nDDgMgA2uDokOpQyHCREGxAKH/xf8dfjA9MXwKewh59riyuCY4ZvkhOhg7AzwzvO09zf7df2z/cf7Ovga9Kjw6O457yfx0/OQ9k35ZvwhAFgEdQi8C58N/g0XDTsLogiQBZ8CrQBVAGQBAQNeBF8FhgY9CEQK4guhDOgMwA0BEKAThBfwGV0ZeBWyD7sK5QiLCtUNGRCnD6UMbghbBPgAIP5t+1/4MvQm7mbms97N2a7ZJd4E5bXry/Bg9Fj3VPoX/av+Bf64+mX1pO9763bq4+yy8TT3HvwdAIgDtwacCcULrAwRDDEKuAdtBc8DAAPeAi8DowPwAwYEOAQQBdYGJQkBC4ULsQqICWAJ5AqiDWgQ7xFnEdMOQQuKCEwIuAo1DnAQ7Q/lDM0IJwWTAsAA3P74+1D3lvB96Afh0tyG3Zjil+no71z0aPcZ+vn8pv8IAen/uvtM9dLu1urQ6mju7/OF+Qj+XgEmBAAH4wn/C04MawrzBiIDHwB4/hn+k/5z/3EAbgFUAjIDSATgBdoHfgkHCmkJhwiTCD8KVA3MECkTEhMmEHIL/waYBM4E+AbdCWgM+Q1tDvMNwQzfChsINQT//mv4tPCv6OHhEt5c3nDiuuhT7wr1kvn8/Cb/yv/O/lT8k/j685nv+ew17RHwLfQv+Ir7Wv7KANkCewSPBbgFnQSMArgAggBnAo8FaAi8CVsJ/AeZBsYFjgW8BS0GwQYuBzAHEQfKB1UKuw7SE9oXUhl5F30SkgupBKP/Z/24/bP/gAKDBUgIfwoEDKwM9AsPCXQDdftJ8pzpDePG3zzg8uOc6aLv1/TF+Hf7Df2F/cb8wPqJ943zw+917ZztKPAN9BT4sPsJ/1ECTgV0B1sI2Qf9BTIDhABn/78AGgTYB1sKAAsnCogItAYaBUQEtQSIBhIJEwt0Cy4KgggmCAMKgA3jEEsSkBCxC/wEw/5i+wH85P/1BAUJ1wp1CuUIcgfKBmMGuwR6AIz5VfH86VvlNuQD5j7pQ+xN7s7v1fEA9eD4MPyQ/UT8mPjj8w/wte5K8NvzrfdL+mD7xPu6/PP+CgLcBEgG/AWxBNYDvASxB6ULyQ68D2IOuQv6CN8GnAU+BdwFagd1CScLxAs/C2MKOgo8C9wM6g1kDTQLYgicBhMHcQnSCwEMCAnCA0X+4/pZ+/P/ywYpDH8M2waX/Zv02e7c7BjtP+2565noleX05Bjolu5Y9pH8Gv+l/fD5fva69C30fPP78Ufwku+38NXzbPiQ/SsCXQW6BloGywQBA/4BNwIwA+gDvwPrAiQCCgLsAugE8geAC3QOsw8CD1QN6AsoC3gKMwm1B/wGbQcyCCQIEwf8BegF4wYCCFgI0gdNB9wHxAnjC0gMpAleBEP+A/kb9fLx3e7W63DpXOgK6Y7rl+9c9LL4f/td/OD7Dvts+o35uPfu9EHyEPEB8qf0BPhN+0D+8QBeAzoFKwY1Bs4FcgU2BdgEMQRyA9QCQAJfARIAwP4p/un+DgEUBDgH6gncC9EMiAwtC6kJHAnECZwKYQr3CJMHhAcCCTYLDA3pDccNFQ1pDBAMsgudCm4IQgU6ASr8E/bS783q4OfJ5tnm4+dM6kTuTPN2+On8AgBBAVsAf/1f+RH1r/EI8E3wAfJf9Of2qvn2/MEAdAQ3B4oIjwjTB+EG/QUhBSoEBAO7AYoAzv/S/64ATAKSBGQHagrjDOsNDQ2kCqUHEAV5AwYDmAP9BPwGSwmJCz0NFg4rDhgOgg53DzAQqQ97DQgK1AXoABD7qPTm7v7qGOlL6MDnq+cV6aHsxfEi94L7ZP66/3r/o/2d+lL3zvSs89nz0fQe9rT35/nm/EkAQQM1BTYGtAbgBqEGCAaJBXUFcQW6BAcD7ABb/wr/YQCaA14ISQ1XEFwQFA5/CxkK0gm7CVsJCwkwCYoJeAnZCFsI9wgaCz0OIhF+EqQRxw6VCoAFc/9K+I3wcOkL5KTg6t7R3uPgl+Vq7LzzuPlP/Yb+CP6K/Hz6+fcM9f/xi++O7nnvFfLW9UX68v4iA/oFHQcJB50GSQb0BYgFNQUHBYYEKAMSASX/PP64/rYAQgTJCJUMqA2JCwEIpwWeBQAHYwhoCaEKSwy0DQ0OeQ0YDQYOZRA1EwMVxRRhEoAO2gmTBEv+1PbN7mnnrOHx3TjcwNwO4C7mBu6S9QT7y/2I/jX+Tf2f+8r4xPQs8Cns8+lH6hvtxfFS9878egEaBfwHiQqhDKANHw2RC9wJXQisBlUEigEE/239WP1o/9cDhwnwDdcOSAy5CP0GKAhMC+AO8hEJFI8UABPhDyYNIg2wECoWLhrGGWIUOwy2BPf/bf2f+lv1de2q5EzdI9kh2VPdlOSK7KryyvXM9p33a/m0+9X8hvvk92Lz2++f7v3vXvOp98H7Cv+zAWUEegd8CoYMJQ24DNsLrgrbCDQGDwMWAAH+iv1U/zgDvweqCpEKCQglBdQDxgShB78LUxAjFM8V7xTkEjgSshSxGUUeCB9bGnMRfgdw/yD6KfaB8Wnr5eSa34Hct9s23SXhHeeQ7XXy7fQB9nD3w/m9+7H7Q/mu9Zby0PBK8K3w2vHY85z2B/re/a8B4AQIB1wIiwn3Ch8M9wvbCS0GHwIa/1L+bgDsBMgJcQysC5wIrgV/BBAF2wb0CYUOixP1FrQXehfYGQQhKSv3MjQziipVHO8N1QLb+pPzNetK4v7aMdc21xXao9405ETq2u/F8571WfZC92X4XvgK9iny5+7R7a7uTfD58cTzyvXV98r56PtD/lYAhgH/AbYCYgSzBpsIKQkTCLkFEANoAbwBxQPpBYMGXQXCAw8DhAOkBHoGywnDDucTIxc1GLkZDx/UKFUz1zjGNS4rbR2dEPQFC/wz8W3lg9rE0sTP2tEp2N7gqume8BH1yvcm+sH8uf5K/nH6M/Q+7grrI+sj7Unv4PBF8vbzC/Zw+Cn7Ev6bAC8C6wKkAxYFFAehCL8ILQeQBBICsQCoAF0BBgJjAsMCWAPTA/0DhwS5BvsK5Q9rE0UV6xeRHqQpYjUbPEU6sjAsI0AVIwgR+xTtd9780CXHI8PgxXjOb9qy5uPwRPiw/W8CwwZQCSQIkQIt+vzxhuxw6rXq6+tU7fvuLPEJ9ID3Xfsj/wUCXQNhA1EDiQRKB2QKKwzSC98JkwfvBSQFuAQWBAgDsQEuAH/+B/0R/SIAWganDVcT5BbpGrYini63OndBsj9lNiEpGBtuDav/H/EB4rjTjMjrwkzENcwo2MXkd++D98H9RwMRCKoKTAl+A+D6TPIb7O7oBehc6HvpaOtE7gryg/Y2+03/zQE9AjABLACdAKwCEgVCBtcF6gTvBFIGHggBCYIIMQfFBTkECQJR/3P9Nf4OAq4HcQ1aEyEbICYsM48+MUT8QbQ49yptG3ALA/vo6e/YRMqOwJC9a8G2yiTXSuRS8G76rwJBCZUNdw4EC88D7vra8g7toOn057PnAekI7ILwxPUU+8r/PgPgBJ0EQgMiAiEC+QKJAxIDEwLpAXADGgZoCEUJ6AhGCNIH6wbDBMgByP9oAKsDQwiFDXAUXR6vKlc2xj1AP0k7WDOSKH8bXwyI+8DpmNhGyunArL10wA7IntIz3oPpM/Q2/swGcAwADtoLnQfcAi3+ePnQ9NLwVe7j7XXvg/JC9gD6Uv0BAOAB0wIaA0MDqAPzA2wD9AGJAIwAZQL9BM4GYQeKBxUIhgiMB8cExgHUANYCrAbtCuEPPBfKIawtSDfiOxc7GzYcLpQjvxYKCBv4xedh2NTL9sO0wajEcMtm1DneQOg78rP7lwOTCPYJQQjFBLwAtPyu+L70ZPFw73HvQvEe9D73QvoH/UX/oQAvAY8BTAIiAzEDCgJzAOr/RwH3A4kGHggNCRMK/gqfClAIPAWbA4sEJgcYCsQNCRTBHe0o6TE5NuE1ODIULG0jNBjoCk78Je2C3hzSuckexqbGDsqMzxfXr+CU60f2Nv9vBcgImQlzCN8FNgKZ/UH46vLO7vrsiu2i7zPyzvSe98/6Cv65AJACsAM/BBAE5AIVAcD/7/+dAacDCQX+BYkH5Qm7C20LBwl/BswFFwdICSoMVxFnGlomZjHEN5A4xTWQMRos/iNUGNYJKfrO6hHdVdKly8rIaMhwyUrMKtJW22HmG/EG+sYAmwXICGcKZQp6CHMEvP6V+Jrzx/Dz7yTwf/AG8XrybvVl+f78Jv/m////1P84/z7+vP2A/kIAAQJWAwQFswemCjoMwgtbCrIJXgrVC9wNexEaGLYhGywBNC03yjXIMeEsGCcbH/oTUgbZ9zjqmN7N1TjQZM1FzFvMZ86F07bbheUr75/3ff6CA5YGBwhICEkHlwRNAKf7Rfj09iX3qvfI98f3ifiO+j39Of+d/8H+nv2t/Lf7uvpk+lP7PP1R/1MBsAOGBiIJwwpwC40LCAuQCeAHNgjpDF8WXiJULV00oTZENSEyMS7LKGMgHxTiBP/07+Yh3IzUHs/RyrLHA8coyjnRpNpB5LzsAvSB+lQAJAV7CP8JgQk0B/cDHAGF/+X+E/43/Lz5CPg6+A36BPyv/PH76Pqk+g/7TPvq+nD6oPqj+z/9c/9UAloFiweyCOkJPAzzDhcQAg/5DX8Q/BdEIl4rgzCLMQ8wti36Kv8mQCDCFRgIZvkx7PHhdtqR1GDPMstfyTrL4dD62JPhbumM8In3jf7hBGEJRguqCmoIsQVxA/gB3gBh/xX9evrZ+D35Sfs4/U/9hfuE+fL4vflf+pn5wvdI9lT2FvgT+5n+3QE5BLwFeQeYCsAOxxGsESkP7g2xEacaCiVELJ4u6C35LNssKSyBKE4gwhPTBHT2AOvH4grc3tRezfHHPsfHy2jTI9tj4cLm4+yp9Ev9ygRMCUsK5QgaB3gGDgd5BxcGdwLo/Y/60/lI+wn9PP2E+zH5BPii+Av6jfpB+eD2N/XK9cT49/zJAEoDtAQqBt8IDw1oEZoTQBLPDk0NPRFGGh0kJSpXK28qiirtKwksDigaH3ISewSj93Dty+Ud39DXMtDFyjXK084V1rjcbOGG5TfrPfMj/GwDXwf/B8wGuQX7BUQH/geHBqsCE/4d+wL73Pxu/gL+vftX+Yr4mfke+0z7fvnQ9jj1/PXQ+D/88v6gABMCYwQaCL0M1RCXEi0R4w3+C5kO9RXQHvsk/CYBJyIo0ypbLJcpzCG4FqwKIf/E9MjrvuPJ29vTo82Ly1vOLNQH2oberuJP6Pjvavix/3AEewa0BoIGCQdnCIQJ5wgJBgcC6P4B/uD+x/85/zH98PrG+fT5m/qD+gP5hvZH9IHzjvS69vv49/pA/aAAQwWLCocPQhMAFbUUqRMmFMgXzh10I2om3ibZJqwnYSjYJvghdRq0EY4IUP9a9izuz+bb31HZOdT00d7S4tWE2THdbeHb5lntCPTx+Yb+sQG9AzEFkQb1B9cIfAipBgUEsgFtAAEAjv9e/oX8q/pd+aP4HPhk91b2FPUB9J/zO/Sk9Wn3XvnL+wb/AANSB3oLxQ5cEBUQbg8EET4Wfh1aI/4l2SamKPgrcy45LacnWB81FggNxwNm+vjwjed33rPWmtHQz5LQW9JT1P3Wctvw4VXpH/DJ9ez6EwDGBAMIfwn9CWAKrwpKCucIAQdGBeADgQL0AF3/4/1d/Hr6PPgg9p30qPPQ8uDxP/Gb8UnzE/aL+WD9bAGiBfEJDQ45EZsSSRLnEbITexifHn4j7CUIJ34oVirLKiAoNCI1GkgR5QdX/i318eyi5fneO9ld1SvUWNW010zaPd024WfmEuxK8dP1I/p1/jkCoASUBfIFmwaNBwAIYwcFBqoEwgMcA1QCRgECAID+nvx9+pX4QPdT9lP1HvQ581LzmvS/9nH5svyZAAEFewl2DVYQohGWEYYRMRNAF3kctSDPInMjAiTQJK4kHiKrHBAVYwxqA6L6gvJh6zPlu98g2yjYlddN2Urcht/a4tHmuOsO8QL2Pfr4/VIB2AP/BP8EygQlBcwF0AWwBPIClgEYAR8BBgF4AIX/Rf64/PL6L/ma9w/2VPST8mzxd/HD8vj05Pe1+5sAVQYYDO0QDxRdFawVpRa0GcQeEySiJ+koBSkwKU0p9yfUI60cYhM7CUX/G/bo7Y3m5d8h2t/V3dNk1O/WcNoe3v3hkeYC7L7x//Z7+1H/eAKYBIYFrQWoBZwFMQUmBL4ChQHUAK0A2QASARsB0wBBAHH/Uv68/JX67fcL9W3ynvDt71Dwq/El9BD4W/1gAzgJLA7MEfkTPBX2Fooa/R+UJUwpmCqXKnwqHSohKFYjsRsrEv8HG/7m9GzsnOSW3dDX7NNX0v/SUtWc2H7cFOGQ5rfs0vIx+LX8oAD/A3EGlQeNB+sGJQZJBS8E2gKGAYAA+//8/1YAtgDHAGQAov+a/kX9efsh+W725fMa8mTxx/Ew87/1ofmy/ksElwn7DUIRlxOUFT4YbhzqITUnpCrEK4Yr9CrtKTwn2CHeGWgQqgZO/WX0z+un43Dc5daH01DS0dKf1JfX0dtU4c/nju659Nv5Iv4DApIFOwhRCdAIdwcoBjwFcQRiAwECrgD2/xoA4gCuAfABggGeAI3/Uf6o/FD6X/dl9CjyI/FR8XjyofQb+A39CAMbCTcOsxGhE/IUDxfmGhAg9CQFKPwo0yiRKBwoPCa1IWAaRxHMB8P+Kvaw7VXltN2x1/PTe9LF0j/Uv9aG2szfUeZH7bvzG/l0/T4B2QQRCDEKpQqUCdwHYgZmBYAENwOIAf3/O/95/zYAjADh/2P+y/yS+3T6yvhU9pLzXPE+8DnwGPHe8tn1R/rs//sFbQt6DwMSrBOmFQsZDB6LI8UnpCmUKdsoKCjKJmEjLx25FEwLEgKF+W3xZ+mP4cLaLNZY1LjUL9Yd2Mra4t6a5FnrBvKz9xz8r/8aA5cGoAlYC1AL8wk4CO4GNwaNBU8EXwJTAPj+lf6h/jb+0vzC+tL4jPe79p/1uvNi8ZPvIe8u8GDybPVY+T/+AwQsCucPVBQgF/wYThsNH8sj/Sc7KkYq5Cj4Jq4kYCEsHMIUywuSAif6uvLL6/Hkfd5h2XLWv9WS1hfYG9ob3ZThW+eL7SXzs/dw+/H+owJsBp4JdAuzC/YKNQr3Ce8JaAn5B+EFvwMUAuMAwP8Z/rz7FPng9n/1gvQe8xzxOO+G7nvvuvGr9CD4T/xhASkHEw1HEgAWLBjEGTgcISCNJLcnkiiRJ/4lliTaIokfwRnBEcUIIgB2+HDxbupJ47HcyddU1SvVc9Zn2Pfap97M4+3p6O/G9HH4p/s0/x8DogbTCIIJYAlhCfAJrwrhCh4KoAj/BqsFiwQVA8sAuv2D+uH3/fVQ9DLyoO9x7ansn+3W76Hy2fXa+fH+6QQSC4gQlBQTF9oYXBuFH6ok0yhmKosp1ieUJn8lFSMBHjkW+AzUA8j7u/Tl7bbmk9+82WHWqdWx1mXYc9pc3bHhSect7UDyBvbh+K37BP+6AgMGGQjvCEMJ9wlIC6QMNg2kDEgL0gmYCFEHWgVTApH+3/rc93b1DfMz8DntC+t66pjr2e2u8Aj0Qfir/SQE8grpEP8UIBeYGE4b+x8rJV0oZSiPJiklBCWoJN8hyBtbE10KJAIH+3z0pu0x5gHf3Nnu16LYLtpd26DcS9/449DpU++F83n27vix+w3/kQJRBaQGzgbdBsEHcQn3ClwLfQoUCfoHWQeQBscEtgHw/Wz6zPfj9fPzdfG17rTsW+y07QXwlvJn9Qn59/0IBF0Krw/6ElIUPBW9F3sczCEHJRUleSOmIl4j8iPyIWAcSRSuCw0EnP1/96bw6uiG4VbcUtqw2rHbVdwy3ZzfIOTY6S3vD/Oi9dv3oPoY/pwBSwS+BWEGGAeFCHsKKwzODEEMDgvdCdMIcgcSBYEBS/1S+S32wfN88fvuj+wN6x7rtOwr7/vxLfUz+WH+fgS7CugPHhOJFKsVYxgyHXgiviUPJtokYiRPJfYl6SMnHs4VBQ1OBa3+Bvhb8N/nFeDK2qvYxNh12fjZ/trI3bfiwug67hTymfTv9hH6Av7bAZ8EFAb1BkUIcwr8DOQOfQ/aDqQNeQxWC5EJcwb5AfX8dPj29CrycO+W7CfqBOmh6a3rZu5T8aD00fge/i0ENQpDD6ASYBSyFTwYohycIeokeyWBJCEkISX7JUok9R4GF6MOSAflAFT6pPIr6njiO9342rXa8doN28nbYt4p4/7oLO7O8V30APdp+kj+tAEHBF0FdAYJCEUKnAw7DqoOHA4lDSsM/gr6CKUFLAFh/CX4yvT98UXvl+x66pzpTOo+7N7uxvEM9R75TP5iBIsKnA/AEi0UURXsF4YcriELJYMlTyS3I6MkjiXkI1seARYpDYUFEv+K+NPwL+hK4AXb+tgP2YjZq9lY2v/cDeJW6Pzt5vFy9Ob2Nvo4/uEBSAR2BV4GAgicCnUNgw8xELcPzA70DfoMFgugB8cChv3m+D/1MfI571jsIepB6fPp2+ti7j/xofTp+Dn+PAQwCh0PRhLhE1EVQhgWHS0iPCV1JU0k7iPnJIslhCPmHeQVqw2gBn4A9/kk8pPpAuIJ3ebacNo+2vbZf9oL3cXhd+d57P/vnfKH9Vv5nv1GAboDSAXVBhUJ/gvRDqwQMBGzENwP/Q67DVkLdQd5Al/98vhK9fTxnu6N63Hpx+iC6THrbu0v8KzzIviU/ZEDNwmEDREQmxGvE2sXXhy4INki0iJVIvgihCT9JGoilxwyFTgOUAiJApD7H/Nr6kXjxd6X3HbbX9qC2QPa2Ny34Srntevy7rbxHfVz+fP9ewGbA+wEgAb4CAcMwg5gEMAQYxDkD2QPYQ4aDEQIbgOf/oz6G/e68yPwy+yF6srpZurL657t+O8s83j3z/y9AmYIwAxND8IQwBKDFpcbDiA5IkgiFyJFI3QlfyZoJBUfOhi0Ef8LIAbk/ib2Gu1r5SHgFN1L2+rZ+thV2cvbLuA+5Z3p2eyn7wDzJvdq+9v+KAHdAtsEnQfXCsgNyQ+7EPoQ+RDPEBAQFw6aCgkGUQEg/Wr5tfXU8T7ur+uB6oPqU+vC7OHu2/Hb9dz6bQCiBYEJ0guKDTQQpxQlGtMeSyHgIUsi2iMCJrUmRyTtHmQYPhKjDJEGHP9l9p7tQOYp4R7eJtxz2jPZaNnX2yHg6uTw6PXrsu738ej17/lK/bL/lAG2A5cGCgpVDbwP9xBOEUARCBFTEHMOAgthBoUBNv18+eP1M/LR7m3saeuk68Dsd+7A8MHzrfeE/M4BogYkCjoMzA07EEMURRmkHREguiAYIXAibCQ9JT0jaB46GD8SygwJBxMA4fdw7x7o1uKU34vd7tuw2pvagtxU4PHkA+kH7IrugPFL9Wv5AP2R/3UBgANUBtUJPA2mD7kQ1hChEF4Qnw+fDf0JKAUfAK/78Pdv9Nnwfu0V6yrqr+ot7DPuofCk84f3ZPzWAQAH8wppDQ8PJRGJFAAZPx3qH7cgwyB7IQ4jDiTCItgemhl6FLwPkAo3BMr8C/Xe7e/nhONl4A7eMdwr27TbIN7e4dPlMukK7AbvrvLf9u36Pv7OACQD1wUaCZAMeg80EawRaRH2EEkQuQ6zC1sHgQL1/fj5X/b78ujvee3y62LrsevE7JDuDfE29A34lvyXAWcGQQr3DEQPPhJDFogaxh1gH+AfXSBYITsi2iGLH6wbMxe8EhkOtAhFAhz75fNX7efnq+NY4J7dldvK2rPbIt5M4XPkbueP6iHuCfLs9Xf5m/yD/3cCrAUQCT8Mrw4aELQQ6RDQEPkP3w2ICooGggKk/uH6W/dg9BvycvBN787uKe9T8AvyNPQA95/61/4EA5YGfwlFDIMPWRM/F2YaZhyNHYUeoB93IEQglR6vGzkYlRSRELgL3QVY/8X4rPJQ7bXoxuR54f7eu9383Znf++GQ5D7nRurL7ZLxOPWM+KX7rv6+Ad8EBgj8CmoNEw8NEJMQphDvDxUOLgu0BxUEaACl/AD55/WY8+fxi/CP70vv/e9+8YTzAfYg+fH8KgFYBSMJcwxzD24SkRWoGB4bfhzvHBEdTR1QHWYcMxoKF4AT0g+/C+8GWQFW+2X16+8Z6/vmjOPR4PXeQ9703ubgk+Ny5l/pluw+8BH0lPeW+k79BgDMAn0FBwheClQMpQ1BDlkODw4nDUgLbwgVBb8Bk/5z+2/43PUH9ODyIPKt8bvxj/Ij9Dj2ofhu+7r+agIjBoYJawzwDlcR1BNcFpEY/hmAGncabhqAGi8a2hhbFhkTiA++C38HmwIu/Yz3IvJO7ULp+OVT41vhVOCI4PfhN+S+5kDp1uvF7hryi/Wz+HD7/P2oAI0DcgYICRcLjAxuDdINxA0pDcMLdgmABlwDXACD/bf6Gfj29YT0svNW82zzEfRa9Tf3jflG/FX/pAITBmsJawznDvQQ5RLwFOUWPBigGEYYvhdfF/AW4hXaE/YQoA0fCmAGGwI1/e/3zvJF7ojqm+dx5QPkaePd44XlI+gG64rtrO/48db0//fQ+hD9Hf9qAfoDcgaDCBQKFwuBC2sLBgtQCv0I1QYYBE8Bzf55/Cn6/fdJ9jr1ufSY9MD0OvUh9p/30fmd/Lz/9wJbBvoJlQ2tEOgSZxSVFbQWpxcbGOEXHRcwFnIV3RT+E0QSdQ/bC+MHsQMX//L5jvSM74bruOj35vPlh+XZ5RznMumL64rtCu9z8D/yefTP9gP5Nfus/XQAVAP1BRQIgAknCiUKuAn/CN0HKgYOBPoBRgDl/on9E/yt+pH5xfgd+HT33fai9hH3Tfg/+rL8if+6Ai0GlwmZDO8OkxCtEXgSFxN+E4ITFRN5EhoSFhL/ESQRKg9KDO4IPQUOAUb8K/dT8k3uY+uP6ZfoPOho6D7p1uru7PLudvCe8ffy1vQN9z75WPua/SUAyQI0BT0Hzgi8CegJeQnJCAII+waHBdADNgLiAJ7/Jv58/Nn6aPkx+DH3e/Yz9oP2lfd9+R78Lv9dAoUFlwhvC8UNWg83EKkQDBGEEesRBRLBEVURCBHiEIUQaw9VDW8KGQeKA8X/xPuo977zZfDu7W3soesk69rqEOsM7I7t+u4L8Cnx4/Iz9ZP3sfnH+yD+lACxAkkEkwWzBnAHhwcfB6UGRwbFBdsEoANlAj8B8/9O/nn8xPpS+RX4F/eR9rb2ivcG+TX7DP45AVoERwcSCp8MfA5YD24PSQ8sD/EOcg7hDZUNpQ3uDVAOrA6pDsMNrwuoCCwFgAGS/VH5C/Vl8d3uaO2Q7PvrvOsZ7AXtHO4d7z3w3vEE9Fb2lPjP+hr9P//nAAMCxQJTA6cDygP2A1cE2QQ9BW0FewVoBQUFIwTMAjkBnP8N/p38avuV+jT6Tfrf+uz7cP1J/zsBEwPIBHsGOwjjCTULJgzmDKgNaQ72DiYPAA+uDlsOFQ67DQYNqwuOCdYG0QO2AID9EfqB9kLz3PB578juXO4a7i/ur+5q7zfwLfF+8if09/XP97j5pPtX/Z7+if9RAB8B9QHbAtwD6wTfBZQG/wYKB4kGZAXAA+oBFwBX/rn8bfuf+lv6l/pR+4f8Fv62/zMBngIlBNMFegfsCC4KaQurDM8NoA4JDxwP+A65DnYOJw6WDXUMngozCIMFugK9/2j84viu9UfzufGp8MfvGe/U7vTuP++R7xDw7vAj8nzz5vR09ir44Plq+8n8Hf5//+kAUQKsA+sE+wXDBiUHBwdgBkoF6ANRAp0A+P6f/bn8SfxJ/Mb8vP32/iQAHAH2Ad4C4APrBPgFGAdXCKUJ3grnC68MLA1YDUYNJw0XDfUMawxAC5QJsAelBTkDPADo/MP5K/cX9Vbz5fHx8Inwf/Ck8PbwifFD8uryavP689X09fUn91b4ofkq++f8tf54AB8CjwOuBG8F0QXGBUUFagRfA0ACFAH0/xH/h/49/hn+Nf63/oT/QgC/ACkBxwGnAqQDrgTVBRgHVgh0CX0KdQs3DJEMjgxvDGAMRgzfCwkL3wmGCAAHIwXNAhIAO/2L+hr45vX+837yefHb8JDwmvD48IbxCfJu8uPymvOa9MD1+PZT+O/50vvl/fz/6wGgAxkFVQY+B68HpQdBB6gG4wXxBPUDHgN6Au8BcAEiASIBTwFhAUQBNQFxAfYBmQJVA04EkQXwBjEIRQkxCugKSQtOCxcLxApJCo4JlAh2BzoGwQThApsAHf6f+z75/fbf9ATzlvGq8Cjw6u/o7zLwy/CY8X7yhfPK9FD2+vew+Xb7Wv1R/zQB5wJhBKYFsgZ3B+IH6geeBxgHZgaGBXoEWgNOAmwBswAjAMj/of+a/5//vf8PAJ8AWgE1AjkDbgTBBREHQwhDCf4JZgqICnkKPgrICRIJJwgTB9AFTAR8AmAAB/6R+zD5CPci9X3zKfJA8czwtPDc8Dnx0vGi8p/zyfQu9tL3nvlt+yv92v6AABYCggOrBI4FOQa2BvwG9AafBg8GVwV6BHsDbwJ5AakAAQCG/0r/U/+D/7L/4/8+AOMAvwGsApwDoQTHBf0GGgj7CIsJzQnTCbwJlglNCb8I7Af1BvAFvQQbA/AAcv7z+6n5lfes9QX0x/IG8rfxv/EM8ozyL/Py8+b0HPaP9yD5s/pC/Nr9ff8WAYUCrwOSBDgFsQX6BQYGygVLBZkExQPbAugB/AArAIT/Fv/v/g//Vf+b/9j/KACwAG0BPQIGA9MDxgTnBRMHEQi8CBgJRglbCUkJ7ggyCC0HEAb9BN4DfwLBAMD+vfzs+lL52feE9nT1zPSS9Kr09vRi9eL1d/Yr9wv4E/kr+j77Uvx5/bv+AgAwAS8C/AKeAx0EewSvBKoEaQT5A3ID3AI1An8BzAAyAMf/kv+V/8D/9v8hAE4AmQAQAaQBPQLcApQDegSEBYoGYAftBzcIUwhMCA4IgAenBrUF4QQyBHUDbwIQAYD/9P2D/CX70PmU+Jr3A/fQ9uT2F/dQ94332fc++MP4YvkX+t/6xPvN/Pn9K/88ABQBtQE5Aq8CDgM+AzcDAQOqAjwCuwEsAZcACACY/17/YP+D/6L/tP/J//j/PACJAN4ATwH0AdQC2APbBLgFYAbVBh4HNwcPB6AG/AVFBZsE/wNRA20CSgEDAMT+mP1x/Er7QvqF+SX5B/kE+Qr5I/lY+az5FvqM+gj7j/ss/Oj8vP2T/lj/AACJAP0AZQHEAQ0CLAIcAuUBkgElAZ4ACAB6/wf/v/6w/uD+Pv+t/w4AXQClAO8ANAFtAaoBDwK3ApMDeAQ+Bd0FUwaVBpMGVQbvBWIFmgSmA8ACFAKBAboArv+Z/rT97fwU/Db7k/pG+iT6APrk+fn5Qfqa+vL6Wvvh+3j8CP2R/SL+v/5d/+n/UgCRAK4AwgDdAO4A1QCKAC4A5f+t/2z/DP+f/kv+Lv5L/pX+/f54//v/dwDmAE0BwAFEAs0CTwPRA2EE/QSJBecFEQYOBuQFlgUsBawEDQQ+A0sCZAGtABQAY/9//o/9x/wt/KD7Ffup+nn6ffqY+sX6FfuL+xX8pfw8/dn9Zv7V/jL/lv/+/00AeACQAK0AywDfAOcA5wDWAKUAXgAgAPj/z/+L/zr/Bf8E/yz/af+1/xAAcgDJAAsBRgGNAe0BYALbAlcD1gNaBNUELAVCBQ4FnwQPBHYD2wIyAngBxQA/AO//p/8y/4r+2f1F/cf8T/zm+6n7pfvH+//7Tvyz/B/9hf3x/W3+5/5G/4//4v9IAKEAyADBAKwAmgCDAGAAMwABAML/ef8//yb/Iv8Q/+j+xv7O/gb/Wf+v/wQAagDhAFgBugEEAkoCoQIEA2QDtgP+A0IEfASaBIYENQSqA/kCNQJlAYgAqP/l/lr+/v2s/Uz97vyw/Jj8j/x+/Gn8afyM/Mr8Ff1p/dD9Tv7Z/l7/0/83AI4A0wAFASUBMgEfAeoAogBkADkACwDC/2D/Av/B/pr+ef5Q/iL+Av4G/jv+l/4A/2v/3/9gAOAATQGoAQ0CiwIVA5ID+gNTBJ8E0gTeBLkEWgS9A/QCIgJZAZEAxv8O/4v+Ov7x/ZL9LP3m/Mb8sPyT/H78jPzC/Az9W/2y/R7+n/4o/6b/EQBzANAAGwFAATYBBwG/AGIA7f9v/wX/vf6H/kf++v29/af9sf28/bj9vf3t/Ur+tP4T/37/EADEAG0B6wFUAssCVQPXA0MEngTnBP8E0AR6BC8E8wOaAwoDZALcAWgB0gAHAD3/qv5C/tT9Vf3y/Mz8zvzN/MH8xfzl/Bj9Vf2f/f39cf4C/6j/RACrANwAAQE3AWMBWQEmAf8A+ADkAJsAMwDh/6n/Zv8G/6n+eP5q/lz+TP5e/qv+G/9//8n/EABxAOUAWgHLAToCnQLeAvUC/AIRAy4DMQMIA8oClQJdAv0BawHJAD4Azf9W/9P+W/4G/tD9nv1l/TH9Fv0X/Sj9Pf1d/Zr9/P1w/tH+Dv9B/43/9P9OAIIAoQDPAAsBLwEgAfMA0gC+AJwAXAAUAOH/t/+B/0X/J/8z/0//WP9Z/3T/tf/9/ywASQBwAKsA5gASAToBawGYAawBqAGkAbABvAGyAZQBcwFYATIB8gCfAFAACgDD/27/Fv/O/pv+cv5K/ib+F/4k/j/+Vf5f/m3+kv7L/gL/Iv81/1b/kv/X/wgAKgBRAIoAwQDcANkA0QDQAMwAuACXAHgAWQAtAO3/q/95/1n/O/8a/wT/C/8z/27/pv/S//r/KgBnAKAAyADoABEBQQFgAWMBXQFjAXABaAFFARoB+ADSAJUASAACAM//nf9g/x//8v7e/tT+xP61/r7+4/4Q/yj/Kf8v/0//fv+f/6b/qP/A/+7/GwA/AGMAlADQAAMBIwEsASEBAAHSAJ8AbAA3AAEAz/+k/4b/d/94/33/ef9s/2j/e/+Y/67/vP/V/wAAKwBDAFMAcwClAM4A2QDUANoA6gDuANcAsgCRAHIARwAPAN7/vv+o/4//cv9j/2f/a/9g/07/Sv9Y/2b/Z/9r/4f/tP/b//H/BAAnAE4AYABXAEcAQAA+ADIAFQDx/9P/xv/N/9//8/8CABMAJAArABkA7/+9/5r/iv+G/4X/hf+I/5L/p//H/+z/DAAmAD8AYQCHAJ0AmQCHAIEAjwCZAIcAYQBIAEsAVwBRADsAKQAiABcA///f/8D/ov9+/1n/Qv88/0L/VP92/6L/yv/n//v/CQAOAAMA8//u//j/AwAIABEAKABHAFwAZQBsAHYAdABbAC8ABQDo/9T/xP+3/7H/sv+9/9f/9/8PABsAJwA9AFEASQAfAO7/0f/K/8T/uP+1/8j/7v8VADcAUQBjAGcAYQBWAEkAMwAXAAEA9v/t/+H/2f/k//7/FwAkACQAIAAaABMACgD6/9z/tv+c/5//tf/G/8b/xv/Y//T/BgAKAAsAEwAbABkADgAEAP7/+//4//n//v8EAAcACAAKAA4AEgASAA8ADAANAA4ADAAHAAMAAwAEAAMAAwADAPz/6f/W/9r//P8jADAAHwALAAoAEQAHAOz/2v/e/+X/2v/D/7n/wv/N/9D/2//4/xoALwAzADQAMgAlAAsA9f/q/+r/7//+/xYALwA6ADoAOwA/ADkAJwAXABgAIgAeAAcA7P/U/7v/m/98/3j/nf/Z/woAHAAaABoAIwAnABoABwD+//z/9P/j/9L/yv/P/+P/CQA9AGgAeQB4AHcAeABpAD8ACQDf/8D/o/+N/5D/sP/W/+v/9v8IACQANAArABcADAAHAPn/3//I/7n/pv+G/3X/l//s/0IAcgCCAIwAlgCGAFUAGgDy/9b/sf+F/3L/jf/F//X/DAAcADcAWgByAHYAawBaAD4AFQDp/8v/x//X/+v/+/8IABgAKQAyACgACADg/8L/s/+o/4//bP9a/3L/sP/3/ysASQBcAGgAZQBOAC0ADQDt/8f/qP+q/87/9v8GAAwAMAB8AMUA2QC2AIEAUgAfAOD/pP+H/4n/k/+e/7T/3/8NACsAMQAtACcAGAD5/87/qv+X/5P/mf+v/9f/BwAvAEMAUABjAHUAbQBEAA0A4//K/7H/kv9+/4j/r//c//v/EAAnAEEATQA/ABoA8//W/8L/sf+n/7P/2v8IACsARwBpAI8AoQCRAG4ATgAxAAcA0f+l/5X/m/+q/8b/9v8vAFUAXwBZAFYATQAvAPz/x/+h/4r/gf+R/77/9f8ZAB8AHQAqAEAAQwAlAPv/2//H/7D/kv9//4r/rv/b/wYAMABMAFIAQwAyACsAJQARAPL/2P/N/83/0v/d//X/EAAmADMAOwA/ADkAJgANAPr/6P/T/8L/xf/g//3/AwD3//P/DgA9AFQAPQAJAOP/3//u//P/4f/H/77/0f/3/xwAMgA3ADIALgArAB8ACgDz/97/0v/P/9X/4v/w//3/DgAkADMANAAvADMAOwAwAA0A7P/m//T/9v/h/8z/zP/X/9r/1//e//b/DQASAAAA5//X/9v/8P8GABUAIAAxAEMARgA3ACQAGQATAAUA8f/f/9X/0f/U/+L/9v8EAAsAGAAvAEIAQQArAA8A+v/q/+D/2P/N/7//tv+//9j/+P8YADwAWgBjAFIANAAeAA8A+f/a/8H/uv+9/8H/zP/l/wUAIAAsAC8ALwAoABcAAgDz/+n/3P/J/73/xv/m/wYAGAAiADgAWQBpAFYALQALAPf/4f/I/7z/w//N/83/1v/9/zIATAA9ACQAGwAYAAcA8//x//n/6f++/6b/wv/8/x4AIAAjAD4AXQBaADgAFAADAP7/8//i/9X/zf/J/8r/2v/1/wwAFQASAA4ADwANAAIA9P/s/+n/5v/e/9f/1//h//T/CgAdACQAIAAaABUACgDx/9H/w//M/9v/4f/n//7/IwBBAEwASQBBADIAGAD9/+r/3f/O/8b/1v///ygAPQA+ADgAMAAiABAA/f/p/9T/xv/E/8r/0f/b/+z/AAAPABsALwBFAEYAJgD+/+//+/8AAPH/3f/f/+z/6//a/9L/4f/6/wcAAwD3/+r/4//l//H///8GAAYABQAGAAkADAANAAsABwAJABgALwBAAD4AKQAQAP7/8//t/+//9/8AAAEA///9/wAAAwADAP//+v/7/wAADAAZACMAJQAaAAkA/f/5//X/6P/c/+L/+v8MAAEA4f/H/8T/0P/f//H/CgAfACIAFAAKAAgAAADo/8//zv/k//P/7P/Z/9T/5v8FACYAQQBMAEEAHwD2/9P/wv+//8T/0P/h//b/CgAZACIAKgA5AE0AWwBZAEkANAAfAAUA4//I/8r/6v8SACYAHwAMAAIACgAfADMANAAcAPn/3//b/+T/6v/l/+D/5v/0/wEABAD7/+//8v8GABoAFADw/8f/t//E/9z/7v/1/+7/3v/W/+b/AwAQAP3/3v/V/+n/AQANAA4ACgABAPv/DAA1AFQAQwAGANH/w//T/+D/4P/l//v/GAArAC4AKQAqADUASQBZAFgAQAAbAPz/6v/f/9P/zv/c//r/EgAbABwAJAAwACoAEAD0/+P/2f/P/83/2//u//H/5f/e/+n/+/8IABcAMQBJAEsAMQALAOf/x/+x/67/vf/V//D/DgAtAEEAQgA5AC4AHQADAOv/3v/b/9T/zP/R/+j/AgAXACcAMgAxACEADwANABIACwD2/+P/3//j/+X/6//9/xEAGwAYABkAJgAvACIAAgDn/+H/6//6/wgAGwAbAN3/Uf+1/nb+0P6T/1kA5AA3AWQBZAEjAaQACAB//zX/Tf+z/xYAKwDx/7n/x/8NAEgASQAbAN7/pv95/2H/Zf+C/7P/+v9YALIA1wCvAGAAKQAkADMALAASAAMAAgD3/9b/vf/K//H/AwDw/8b/pP+h/8T/AQA7AFcAWQBXAEwAHgDU/6j/w//7/wYA3/+6/8L/4P/z/wEAHQAzACUABAD4/wEA/P/X/7z/0P/+/xsAIgAkAB4AAADX/9H/9f8VAA4A9f/y/wIABgD8/wEAIQA4ACgADAAHABgAGwAGAPf///8MAAkA+f/w//H/7//l/+P/8/8NACUAMwA3AC8AHQANAAkADQAHAPT/3v/W/9z/4v/e/9v/7P8SADwATgBBACcAGAAZAB8AFwD7/9T/tv+v/7r/yv/W/+T/9P/8//L/4f/b/+f/9/8AAAkAHQAtACMABADq/+X/8P/8/wUADwAPAPv/4v/b/+v//v8CAAIADQAcACEAGAANAAYAAAD4////GAAzADUAHgAFAP//AAD7/+3/5P/o//H/9P/2//3/BQAEAPP/2//N/9X/9f8nAFoAeAB3AGIATQA8ACYAAgDY/7f/sf/D/93/5f/T/7v/uP/O/+P/4v/U/9X/7P8EAA8ADAAIAAQAAAD//wsAIQAwAC0AHgAMAP7/9//7/wcAFAAZABUADQAHAAEA/P/5//j/8v/n/+L/6v/9/wYA/v/v//D/AwAXABsAGAAjADkAQAArAA4AAAAEAAMA9//q/+j/7f/s/+j/6f/v//H/7//x//j/+P/t/+L/4//w//n/+v/7/wMAEAATAA4ACAAIAAkABgADAAYADAANAAUA/v/+////+f/q/9z/1//c/+n//v8ZADEAPAA5ADAAJAAWAAgA/P/x/+H/z//H/9n///8dACEAFAAMAA8ADwD+/+H/zP/K/9T/5f/7/xUAKgAxACwAIQAVAAgAAQAIABUAGgARAAQAAQACAP3/7v/l/+n/7//u/+j/5v/t//X//f8JABsAJgAhAAsA9//u/+3/5f/T/8j/2P/+/yAAKgAbAAYA/f///wgAEgAUAAsAAwAGAA8ACgDx/9n/2//0/w0AGwAkACcAHQANAAwAIwA6ADkAKwAqADUALwALAOf/2//c/83/sv+s/8n/7v/+//v/+f/+/wIABQAJAAwACAD+//b/8P/j/83/vP/B/9n/9P8JABoAJgApACMAGgAYABkAFAAGAPn/+v8LAB0AIQAYABEADgAHAPr/8f/6/w4AGwAXAAsAAADy/+T/3f/e/+P/6v/8/xkAMQAvABkADAAQABUACwD+//r//v/8//P/6//p/+b/4v/f/97/4f/r/wAAGAAkACEAGgASAP7/3f/E/8H/wv+3/7H/yf/y/wEA7//j/wAAMABJAEAALwAkABQA9//X/8n/zv/e//X/CQAQAAQA8v/u//f/AAAGABAAHQAjABsAEAAJAAIA9//u//D/+P/2/+j/3P/h//P/AwALAAwADgASABMADgAGAAEABAAGAP//7P/h/+3/DQAvADwAMQAcABAADwAUABUADgAFAPz/9P/v//P/AgAVAB0AFwAKAAAA/f/9/wQAEwAjACsAIgAIAOv/1f/Q/9j/5P/t//L/+P8AAAYABwAHAAcACAAEAP3/9//2//n/+P/4//v/AAD+/+7/4f/j/+7/7f/e/9v/9v8gADkANAAnACYALAAlAA8A/f/5//z/+//0/+z/6f/r//L//P8BAAEAAQAGAAkAAQDv/97/0f/I/8L/zP/r/xIAKwAsACIAHQAbABIAAADu/+r/8////wUACgASABwAIgAfABcADgAIAAUABAACAP7//v8HABQAGAAOAAQACQAYABoACQD1/+//9P/z/+j/3//h/+b/5//p//b/BAALAAgABgAKAAgA/v/1//v/DQAcAB0AEgAEAPv/+v/+//7/8//i/9f/2v/m//b/BQAPAA0A///w/+7/8v/s/+D/3v/t/wAACQAKAAwADgAQABkAKwA9ADwAKAAPAP3/8f/p/+n/7P/s/+3/AgAvAFYAVQAxAA8AAgD8/+n/0//S/9//4//Z/9X/4//4/wQADQAgADMAMQAYAP7/9f/7/w==\" type=\"audio/wav\" />\n",
              "                    Your browser does not support the audio element.\n",
              "                </audio>\n",
              "              "
            ],
            "text/plain": [
              "<IPython.lib.display.Audio object>"
            ]
          },
          "metadata": {
            "tags": []
          },
          "execution_count": 40
        }
      ]
    },
    {
      "cell_type": "code",
      "metadata": {
        "id": "nCRQldY-iHLz",
        "colab": {
          "base_uri": "https://localhost:8080/"
        },
        "outputId": "cd58d6f7-f963-447f-df8c-08d1f38cb957"
      },
      "source": [
        "rand_int = random.randint(0, len(train_data))\n",
        "\n",
        "print(\"Target text:\", train_data[rand_int][\"target_text\"])\n",
        "print(\"Input array shape:\", np.asarray(train_data[rand_int][\"speech\"]).shape)\n",
        "print(\"Sampling rate:\", train_data[rand_int][\"sampling_rate\"])"
      ],
      "execution_count": 41,
      "outputs": [
        {
          "output_type": "stream",
          "text": [
            "Target text: दौंड ते नांदेड रेल्वे द्वारे\n",
            "Input array shape: (39680,)\n",
            "Sampling rate: 16000\n"
          ],
          "name": "stdout"
        }
      ]
    },
    {
      "cell_type": "code",
      "metadata": {
        "id": "6vuMim5yiXN1",
        "colab": {
          "base_uri": "https://localhost:8080/",
          "height": 169,
          "referenced_widgets": [
            "2c4d5ab3946342c99b1660633d037e4a",
            "c37fa7a257794c6ea7fc686adec5434d",
            "f768312254444649a4bad687ab2436a2",
            "5ac6a74dc9e64b1f8a238a0ac8898e0b",
            "7b45d65a5f9e417287349deba035dd5b",
            "a525ad4de1994076aa6c843a8e907236",
            "7f689a6e06014d8ca5dda1b3be8e4860",
            "bc33191711f64ccda8c3b17daa3c5c5b",
            "eff65e803ace48ca9aacc936e8460852",
            "73a6105183f54ee7830e2def01a5d846",
            "952b306651a34c3bb3062d1c3f6a3a15",
            "e20ab87f494e4c45af5eef1f93cf497d",
            "69d7689d95c845ca9aef659431946a42",
            "224826b8b5074e21836284114577b85e",
            "61d06853c92542939ee642f63deb1c36",
            "9f10f8a13f494cbdaefffeb93ac416db"
          ]
        },
        "outputId": "25a20c95-6986-47c5-beb7-1b2b52659dec"
      },
      "source": [
        "def prepare_dataset(batch):\n",
        "    # check that all files have the correct sampling rate\n",
        "    assert (\n",
        "        len(set(batch[\"sampling_rate\"])) == 1\n",
        "    ), f\"Make sure all inputs have the same sampling rate of {processor.feature_extractor.sampling_rate}.\"\n",
        "\n",
        "    batch[\"input_values\"] = processor(batch[\"speech\"], sampling_rate=batch[\"sampling_rate\"][0]).input_values\n",
        "\n",
        "    with processor.as_target_processor():\n",
        "        batch[\"labels\"] = processor(batch[\"target_text\"]).input_ids\n",
        "    return batch\n",
        "\n",
        "train_data = train_data.map(prepare_dataset, remove_columns=train_data.column_names, batch_size=8, num_proc=1, batched=True)\n",
        "test_data = test_data.map(prepare_dataset, remove_columns=test_data.column_names, batch_size=8, num_proc=1, batched=True)"
      ],
      "execution_count": 42,
      "outputs": [
        {
          "output_type": "display_data",
          "data": {
            "application/vnd.jupyter.widget-view+json": {
              "model_id": "2c4d5ab3946342c99b1660633d037e4a",
              "version_minor": 0,
              "version_major": 2
            },
            "text/plain": [
              "HBox(children=(FloatProgress(value=0.0, max=195.0), HTML(value='')))"
            ]
          },
          "metadata": {
            "tags": []
          }
        },
        {
          "output_type": "stream",
          "text": [
            "/usr/local/lib/python3.7/dist-packages/numpy/core/_asarray.py:83: VisibleDeprecationWarning: Creating an ndarray from ragged nested sequences (which is a list-or-tuple of lists-or-tuples-or ndarrays with different lengths or shapes) is deprecated. If you meant to do this, you must specify 'dtype=object' when creating the ndarray\n",
            "  return array(a, dtype, copy=False, order=order)\n"
          ],
          "name": "stderr"
        },
        {
          "output_type": "stream",
          "text": [
            "\n"
          ],
          "name": "stdout"
        },
        {
          "output_type": "display_data",
          "data": {
            "application/vnd.jupyter.widget-view+json": {
              "model_id": "eff65e803ace48ca9aacc936e8460852",
              "version_minor": 0,
              "version_major": 2
            },
            "text/plain": [
              "HBox(children=(FloatProgress(value=0.0, max=585.0), HTML(value='')))"
            ]
          },
          "metadata": {
            "tags": []
          }
        },
        {
          "output_type": "stream",
          "text": [
            "\n"
          ],
          "name": "stdout"
        }
      ]
    },
    {
      "cell_type": "code",
      "metadata": {
        "id": "VDGo-MDejK-O"
      },
      "source": [
        "import torch\n",
        "\n",
        "from dataclasses import dataclass, field\n",
        "from typing import Any, Dict, List, Optional, Union\n",
        "\n",
        "@dataclass\n",
        "class DataCollatorCTCWithPadding:\n",
        "    \"\"\"\n",
        "    Data collator that will dynamically pad the inputs received.\n",
        "    Args:\n",
        "        processor (:class:`~transformers.Wav2Vec2Processor`)\n",
        "            The processor used for proccessing the data.\n",
        "        padding (:obj:`bool`, :obj:`str` or :class:`~transformers.tokenization_utils_base.PaddingStrategy`, `optional`, defaults to :obj:`True`):\n",
        "            Select a strategy to pad the returned sequences (according to the model's padding side and padding index)\n",
        "            among:\n",
        "            * :obj:`True` or :obj:`'longest'`: Pad to the longest sequence in the batch (or no padding if only a single\n",
        "              sequence if provided).\n",
        "            * :obj:`'max_length'`: Pad to a maximum length specified with the argument :obj:`max_length` or to the\n",
        "              maximum acceptable input length for the model if that argument is not provided.\n",
        "            * :obj:`False` or :obj:`'do_not_pad'` (default): No padding (i.e., can output a batch with sequences of\n",
        "              different lengths).\n",
        "        max_length (:obj:`int`, `optional`):\n",
        "            Maximum length of the ``input_values`` of the returned list and optionally padding length (see above).\n",
        "        max_length_labels (:obj:`int`, `optional`):\n",
        "            Maximum length of the ``labels`` returned list and optionally padding length (see above).\n",
        "        pad_to_multiple_of (:obj:`int`, `optional`):\n",
        "            If set will pad the sequence to a multiple of the provided value.\n",
        "            This is especially useful to enable the use of Tensor Cores on NVIDIA hardware with compute capability >=\n",
        "            7.5 (Volta).\n",
        "    \"\"\"\n",
        "\n",
        "    processor: Wav2Vec2Processor\n",
        "    padding: Union[bool, str] = True\n",
        "    max_length: Optional[int] = None\n",
        "    max_length_labels: Optional[int] = None\n",
        "    pad_to_multiple_of: Optional[int] = None\n",
        "    pad_to_multiple_of_labels: Optional[int] = None\n",
        "\n",
        "    def __call__(self, features: List[Dict[str, Union[List[int], torch.Tensor]]]) -> Dict[str, torch.Tensor]:\n",
        "        # split inputs and labels since they have to be of different lenghts and need\n",
        "        # different padding methods\n",
        "        input_features = [{\"input_values\": feature[\"input_values\"]} for feature in features]\n",
        "        label_features = [{\"input_ids\": feature[\"labels\"]} for feature in features]\n",
        "\n",
        "        batch = self.processor.pad(\n",
        "            input_features,\n",
        "            padding=self.padding,\n",
        "            max_length=self.max_length,\n",
        "            pad_to_multiple_of=self.pad_to_multiple_of,\n",
        "            return_tensors=\"pt\",\n",
        "        )\n",
        "        with self.processor.as_target_processor():\n",
        "            labels_batch = self.processor.pad(\n",
        "                label_features,\n",
        "                padding=self.padding,\n",
        "                max_length=self.max_length_labels,\n",
        "                pad_to_multiple_of=self.pad_to_multiple_of_labels,\n",
        "                return_tensors=\"pt\",\n",
        "            )\n",
        "\n",
        "        # replace padding with -100 to ignore loss correctly\n",
        "        labels = labels_batch[\"input_ids\"].masked_fill(labels_batch.attention_mask.ne(1), -100)\n",
        "\n",
        "        batch[\"labels\"] = labels\n",
        "\n",
        "        return batch"
      ],
      "execution_count": 43,
      "outputs": []
    },
    {
      "cell_type": "code",
      "metadata": {
        "id": "tK2tz6ifjSd1"
      },
      "source": [
        "data_collator = DataCollatorCTCWithPadding(processor=processor, padding=True)"
      ],
      "execution_count": 44,
      "outputs": []
    },
    {
      "cell_type": "code",
      "metadata": {
        "id": "DPXW0V7rjZE0"
      },
      "source": [
        "wer_metric = load_metric(\"wer\")"
      ],
      "execution_count": 45,
      "outputs": []
    },
    {
      "cell_type": "code",
      "metadata": {
        "id": "uCOKRrEFjbP5"
      },
      "source": [
        "def compute_metrics(pred):\n",
        "    pred_logits = pred.predictions\n",
        "    pred_ids = np.argmax(pred_logits, axis=-1)\n",
        "\n",
        "    pred.label_ids[pred.label_ids == -100] = processor.tokenizer.pad_token_id\n",
        "\n",
        "    pred_str = processor.batch_decode(pred_ids)\n",
        "    # we do not want to group tokens when computing the metrics\n",
        "    label_str = processor.batch_decode(pred.label_ids, group_tokens=False)\n",
        "\n",
        "    wer = wer_metric.compute(predictions=pred_str, references=label_str)\n",
        "\n",
        "    return {\"wer\": wer}"
      ],
      "execution_count": 46,
      "outputs": []
    },
    {
      "cell_type": "code",
      "metadata": {
        "id": "Z3DbrV1Tjfeh"
      },
      "source": [
        "from transformers import Wav2Vec2ForCTC\n",
        "\n",
        "# model = Wav2Vec2ForCTC.from_pretrained(\n",
        "#     # \"./../ASR_models/wav2vec2-large-xlsr-hindi-demo/checkpoint-1600\",\n",
        "#     \"facebook/wav2vec2-large-xlsr-53\",\n",
        "#     attention_dropout=0.1,\n",
        "#     hidden_dropout=0.1,\n",
        "#     feat_proj_dropout=0.0,\n",
        "#     mask_time_prob=0.05,\n",
        "#     layerdrop=0.1,\n",
        "#     gradient_checkpointing=True,\n",
        "#     ctc_loss_reduction=\"mean\",\n",
        "#     pad_token_id=processor.tokenizer.pad_token_id,\n",
        "#     vocab_size=len(processor.tokenizer)\n",
        "# ).to(\"cuda\")\n",
        "\n",
        "\n",
        "model = Wav2Vec2ForCTC.from_pretrained(\"./../ASR_models/wav2vec2-large-xlsr-hindi-demo/checkpoint-1600\",).to(\"cuda\")"
      ],
      "execution_count": 47,
      "outputs": []
    },
    {
      "cell_type": "code",
      "metadata": {
        "id": "BV-DQy8-jjh7"
      },
      "source": [
        "model.freeze_feature_extractor()"
      ],
      "execution_count": 48,
      "outputs": []
    },
    {
      "cell_type": "code",
      "metadata": {
        "id": "4QzG8IqVj4A7"
      },
      "source": [
        "from transformers import TrainingArguments\n",
        "\n",
        "training_args = TrainingArguments(\n",
        "  output_dir=\"/content/drive/MyDrive/ASR_models/wav2vec2-large-xlsr-hindi-demo\",\n",
        "  # output_dir=\"./wav2vec2-large-xlsr-turkish-demo\",\n",
        "  group_by_length=True,\n",
        "  per_device_train_batch_size=16,\n",
        "  gradient_accumulation_steps=2,\n",
        "  evaluation_strategy=\"steps\",\n",
        "  num_train_epochs=30,\n",
        "  fp16=True,\n",
        "  save_steps=800,\n",
        "  eval_steps=400,\n",
        "  logging_steps=400,\n",
        "  learning_rate=1e-4,\n",
        "  warmup_steps=500,\n",
        "  save_total_limit=1,\n",
        ")"
      ],
      "execution_count": 49,
      "outputs": []
    },
    {
      "cell_type": "code",
      "metadata": {
        "id": "ytQfy3Daj8eU"
      },
      "source": [
        "from transformers import Trainer\n",
        "\n",
        "trainer = Trainer(\n",
        "    model=model,\n",
        "    data_collator=data_collator,\n",
        "    args=training_args,\n",
        "    compute_metrics=compute_metrics,\n",
        "    train_dataset=train_data,\n",
        "    eval_dataset=test_data,\n",
        "    tokenizer=processor.feature_extractor,\n",
        ")"
      ],
      "execution_count": 50,
      "outputs": []
    },
    {
      "cell_type": "code",
      "metadata": {
        "id": "0joZZ5GpkF-U",
        "colab": {
          "base_uri": "https://localhost:8080/",
          "height": 106
        },
        "outputId": "79f9f175-172a-4f23-cf85-26e47e8c2558"
      },
      "source": [
        "\n",
        "trainer.train()"
      ],
      "execution_count": null,
      "outputs": [
        {
          "output_type": "display_data",
          "data": {
            "text/html": [
              "\n",
              "    <div>\n",
              "      \n",
              "      <progress value='514' max='1470' style='width:300px; height:20px; vertical-align: middle;'></progress>\n",
              "      [ 514/1470 37:17 < 1:09:37, 0.23 it/s, Epoch 10.47/30]\n",
              "    </div>\n",
              "    <table border=\"1\" class=\"dataframe\">\n",
              "  <thead>\n",
              "    <tr style=\"text-align: left;\">\n",
              "      <th>Step</th>\n",
              "      <th>Training Loss</th>\n",
              "      <th>Validation Loss</th>\n",
              "      <th>Wer</th>\n",
              "    </tr>\n",
              "  </thead>\n",
              "  <tbody>\n",
              "    <tr>\n",
              "      <td>400</td>\n",
              "      <td>2.928900</td>\n",
              "      <td>0.462639</td>\n",
              "      <td>1.014155</td>\n",
              "    </tr>\n",
              "  </tbody>\n",
              "</table><p>"
            ],
            "text/plain": [
              "<IPython.core.display.HTML object>"
            ]
          },
          "metadata": {
            "tags": []
          }
        }
      ]
    },
    {
      "cell_type": "code",
      "metadata": {
        "id": "JPbueAoExrYo"
      },
      "source": [
        "trainer.evaluate()"
      ],
      "execution_count": null,
      "outputs": []
    },
    {
      "cell_type": "markdown",
      "metadata": {
        "id": "gstX3sfjkuOm"
      },
      "source": [
        "# TESTING"
      ]
    },
    {
      "cell_type": "code",
      "metadata": {
        "id": "TSk51ivqktY4"
      },
      "source": [
        "model = Wav2Vec2ForCTC.from_pretrained(\"/content/drive/MyDrive/ASR_models/wav2vec2-large-xlsr-hindi-demo/checkpoint-1600\").to(\"cuda\")\n",
        "processor = Wav2Vec2Processor.from_pretrained(\"/content/drive/MyDrive/ASR_models/wav2vec2-large-xlsr-hindi-demo\")"
      ],
      "execution_count": null,
      "outputs": []
    },
    {
      "cell_type": "code",
      "metadata": {
        "id": "lGSMW41KzU1G"
      },
      "source": [
        "from datasets import load_dataset, load_metric\n",
        "import re"
      ],
      "execution_count": null,
      "outputs": []
    },
    {
      "cell_type": "code",
      "metadata": {
        "id": "ZfO1_wCG08l6"
      },
      "source": [
        "wer = load_metric(\"wer\")"
      ],
      "execution_count": null,
      "outputs": []
    },
    {
      "cell_type": "code",
      "metadata": {
        "id": "IjZQ-VS9zOAH"
      },
      "source": [
        "common_voice_test_transcription = load_dataset(\"common_voice\", \"hi\", data_dir=\"./cv-corpus-6.1-2020-12-11\", split=\"test\")"
      ],
      "execution_count": null,
      "outputs": []
    },
    {
      "cell_type": "code",
      "metadata": {
        "id": "mcMZL9HazmTa"
      },
      "source": [
        "test_dataset = load_dataset(\"common_voice\", \"hi\", split=\"test\")"
      ],
      "execution_count": null,
      "outputs": []
    },
    {
      "cell_type": "code",
      "metadata": {
        "id": "_dzWZ9VJk2-m"
      },
      "source": [
        "chars_to_ignore_regex = '[\\,\\?\\.\\!\\-\\;\\:\\\"\\“]'  # TODO: adapt this list to include all special characters you removed from the data\n",
        "resampler = torchaudio.transforms.Resample(48_000, 16_000)"
      ],
      "execution_count": null,
      "outputs": []
    },
    {
      "cell_type": "code",
      "metadata": {
        "id": "NohWyI0QXSQz"
      },
      "source": [
        "# Preprocessing the datasets.\n",
        "# We need to read the aduio files as arrays\n",
        "def speech_file_to_array_fn(batch):\n",
        "\tbatch[\"sentence\"] = re.sub(chars_to_ignore_regex, '', batch[\"sentence\"]).lower()\n",
        "\tspeech_array, sampling_rate = torchaudio.load(batch[\"path\"])\n",
        "\tbatch[\"speech\"] = resampler(speech_array).squeeze().numpy()\n",
        "\treturn batch\n",
        "\n",
        "test_dataset = test_dataset.map(speech_file_to_array_fn)"
      ],
      "execution_count": null,
      "outputs": []
    },
    {
      "cell_type": "code",
      "metadata": {
        "id": "1EpUqCk-0Xy6"
      },
      "source": [
        "# Preprocessing the datasets.\n",
        "# We need to read the aduio files as arrays\n",
        "def evaluate(batch):\n",
        "    inputs = processor(batch[\"speech\"], sampling_rate=16_000, return_tensors=\"pt\", padding=True)\n",
        "\n",
        "    with torch.no_grad():\n",
        "        logits = model(inputs.input_values.to(\"cuda\"), attention_mask=inputs.attention_mask.to(\"cuda\")).logits\n",
        "    \n",
        "    pred_ids = torch.argmax(logits, dim=-1)\n",
        "    batch[\"pred_strings\"] = processor.batch_decode(pred_ids)\n",
        "    return batch"
      ],
      "execution_count": null,
      "outputs": []
    },
    {
      "cell_type": "code",
      "metadata": {
        "id": "WRAcPLhC0vq-"
      },
      "source": [
        "result = test_dataset.map(evaluate, batched=True, batch_size=8)\n",
        "\n",
        "print(\"WER: {:2f}\".format(100 * wer.compute(predictions=result[\"pred_strings\"], references=result[\"sentence\"])))"
      ],
      "execution_count": null,
      "outputs": []
    },
    {
      "cell_type": "code",
      "metadata": {
        "id": "70szpCMh4Iu4"
      },
      "source": [
        "a=[1,1,23,12,3,124,12,4,134,134,12]\n",
        "a[1::2]"
      ],
      "execution_count": null,
      "outputs": []
    },
    {
      "cell_type": "code",
      "metadata": {
        "id": "h2zPpmBu4N2-"
      },
      "source": [
        ""
      ],
      "execution_count": null,
      "outputs": []
    },
    {
      "cell_type": "code",
      "metadata": {
        "id": "CzCVHkQUy9z2"
      },
      "source": [
        ""
      ],
      "execution_count": null,
      "outputs": []
    },
    {
      "cell_type": "code",
      "metadata": {
        "id": "F642mVvty98k"
      },
      "source": [
        ""
      ],
      "execution_count": null,
      "outputs": []
    },
    {
      "cell_type": "code",
      "metadata": {
        "id": "elZS-_6Iy-Ew"
      },
      "source": [
        "import librosa\n",
        "import torchaudio\n",
        "\n",
        "#Importing Pytorch\n",
        "import torch\n",
        "\n",
        "#Importing Wav2Vec\n",
        "from transformers import Wav2Vec2ForCTC, Wav2Vec2Tokenizer"
      ],
      "execution_count": null,
      "outputs": []
    },
    {
      "cell_type": "code",
      "metadata": {
        "id": "wFGgLAYWzA60"
      },
      "source": [
        "model = Wav2Vec2ForCTC.from_pretrained(\"/content/drive/MyDrive/ASR_models/wav2vec2-large-xlsr-hindi-demo/checkpoint-1600\").to(\"cuda\")\n",
        "processor = Wav2Vec2Processor.from_pretrained(\"/content/drive/MyDrive/ASR_models/wav2vec2-large-xlsr-hindi-demo\")"
      ],
      "execution_count": null,
      "outputs": []
    },
    {
      "cell_type": "code",
      "metadata": {
        "id": "l6yDSYLkzJB6"
      },
      "source": [
        "import IPython.display as display\n",
        "display.Audio(\"./test/audio/01_0003_01_1.wav\", autoplay=True)"
      ],
      "execution_count": null,
      "outputs": []
    },
    {
      "cell_type": "code",
      "metadata": {
        "id": "kbjok6ghzr-E"
      },
      "source": [
        "ls"
      ],
      "execution_count": null,
      "outputs": []
    },
    {
      "cell_type": "code",
      "metadata": {
        "id": "_wMjJYCezNIp"
      },
      "source": [
        "audio, rate = torchaudio.load(\"./test/audio/01_0350_01_1.wav\")\n"
      ],
      "execution_count": null,
      "outputs": []
    },
    {
      "cell_type": "code",
      "metadata": {
        "id": "lljb9EDz1nKq"
      },
      "source": [
        "resampler = torchaudio.transforms.Resample(8_000, 16_000)\n"
      ],
      "execution_count": null,
      "outputs": []
    },
    {
      "cell_type": "code",
      "metadata": {
        "id": "SkFZPSUI0Uw9"
      },
      "source": [
        "audio = resampler(audio).squeeze().numpy()"
      ],
      "execution_count": null,
      "outputs": []
    },
    {
      "cell_type": "code",
      "metadata": {
        "id": "_E32Te0t1z3G"
      },
      "source": [
        "audio"
      ],
      "execution_count": null,
      "outputs": []
    },
    {
      "cell_type": "code",
      "metadata": {
        "id": "CNdjTmSyzPRn"
      },
      "source": [
        "# input_values = processor(audio, return_tensors = \"pt\", padding=True, ).input_values\n",
        "inputs = processor(audio, sampling_rate=16_000, return_tensors=\"pt\", padding=True)\n"
      ],
      "execution_count": null,
      "outputs": []
    },
    {
      "cell_type": "code",
      "metadata": {
        "id": "C_7KlPGi2Sd6"
      },
      "source": [
        "device = torch.device(\"cuda:0\" if torch.cuda.is_available() else \"cpu\")\n",
        "inputs = inputs.to(device)"
      ],
      "execution_count": null,
      "outputs": []
    },
    {
      "cell_type": "code",
      "metadata": {
        "id": "eLvRpqEt0zzJ"
      },
      "source": [
        "with torch.no_grad():\n",
        "  logits = model(inputs.input_values, attention_mask=inputs.attention_mask).logits\n"
      ],
      "execution_count": null,
      "outputs": []
    },
    {
      "cell_type": "code",
      "metadata": {
        "id": "pIh8abH3zSad"
      },
      "source": [
        "predicted_ids = torch.argmax(logits, dim = -1)\n"
      ],
      "execution_count": null,
      "outputs": []
    },
    {
      "cell_type": "code",
      "metadata": {
        "id": "eowZPEga4fHF"
      },
      "source": [
        "output = processor.batch_decode(predicted_ids)"
      ],
      "execution_count": null,
      "outputs": []
    },
    {
      "cell_type": "code",
      "metadata": {
        "id": "BxhFlOl2zdNl"
      },
      "source": [
        "# transcription = tokenizer.batch_decode(prediction)[0]\n",
        "print(\"Prediction:\", output[0].replace(\"<s>\",\"\"))\n"
      ],
      "execution_count": null,
      "outputs": []
    },
    {
      "cell_type": "code",
      "metadata": {
        "id": "EAFcntltzfYR"
      },
      "source": [
        "print(transcription)\n"
      ],
      "execution_count": null,
      "outputs": []
    },
    {
      "cell_type": "code",
      "metadata": {
        "id": "keI1cWjN2gEV"
      },
      "source": [
        ""
      ],
      "execution_count": null,
      "outputs": []
    }
  ]
}